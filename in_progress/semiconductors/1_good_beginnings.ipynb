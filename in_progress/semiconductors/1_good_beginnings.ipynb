{
 "cells": [
  {
   "cell_type": "markdown",
   "metadata": {},
   "source": [
    "<a id=\"toc\"></a>\n",
    "\n",
    "# <u>Table of Contents</u>\n",
    "1.) [Imports](#imports)  \n",
    "2.) [Load data](#load)  \n",
    "3.) [Quick Overview](#overview)  \n",
    "&nbsp;&nbsp;&nbsp;&nbsp; 3.1.) [Missing Values](#nan)  \n",
    "&nbsp;&nbsp;&nbsp;&nbsp; 3.2.) [Correlation Map](#corr)  \n",
    "4.) [Target variables](#target)  \n",
    "&nbsp;&nbsp;&nbsp;&nbsp; 4.1.) [Formation Energy EV natom](#target_1)  \n",
    "&nbsp;&nbsp;&nbsp;&nbsp; 4.2.) [Bandgap Energy EV](#target_2)   \n",
    "5.) [Numerical columns](#num)  \n",
    "6.) [Feature Importance](#feat_importance)  "
   ]
  },
  {
   "cell_type": "markdown",
   "metadata": {},
   "source": [
    "---\n",
    "<a id=\"imports\"></a>\n",
    "\n",
    "# [^](#toc) <u>Imports</u>"
   ]
  },
  {
   "cell_type": "code",
   "execution_count": 1,
   "metadata": {
    "collapsed": true
   },
   "outputs": [],
   "source": [
    "### Standard imports\n",
    "import pandas as pd\n",
    "import numpy as np\n",
    "\n",
    "# Plotting imports\n",
    "import matplotlib.pyplot as plt\n",
    "import seaborn as sns\n",
    "sns.set()\n",
    "%matplotlib inline\n",
    "\n",
    "# Time keeper\n",
    "import time\n",
    "\n",
    "# Datetime library\n",
    "from datetime import datetime\n",
    "\n",
    "### Removes warnings from output\n",
    "import warnings\n",
    "warnings.filterwarnings('ignore')"
   ]
  },
  {
   "cell_type": "markdown",
   "metadata": {},
   "source": [
    "### Styling helpers"
   ]
  },
  {
   "cell_type": "code",
   "execution_count": 23,
   "metadata": {
    "collapsed": true
   },
   "outputs": [],
   "source": [
    "# A short hand way to plot most bar graphs\n",
    "def pretty_bar(data, xlabel=None, ylabel=None, title=None, int_text=False):\n",
    "    \n",
    "    # Plots the data\n",
    "    fig = sns.barplot(data.values, data.index)\n",
    "    \n",
    "    # Places text for each value in data\n",
    "    for i, v in enumerate(data.values):\n",
    "        \n",
    "        # Decides whether the text should be rounded or left as floats\n",
    "        if int_text:\n",
    "            plt.text(0, i, int(v), color='k', fontsize=14)\n",
    "        else:\n",
    "            plt.text(0, i, round(v, 3), color='k', fontsize=14)\n",
    "     \n",
    "    ### Labels plot\n",
    "    ylabel != None and fig.set(ylabel=ylabel)\n",
    "    xlabel != None and fig.set(xlabel=xlabel)\n",
    "    title != None and fig.set(title=title)\n",
    "\n",
    "    \n",
    "### Used to style Python print statements\n",
    "class color:\n",
    "    BOLD = '\\033[1m'\n",
    "    UNDERLINE = '\\033[4m'\n",
    "    END = '\\033[0m'"
   ]
  },
  {
   "cell_type": "markdown",
   "metadata": {},
   "source": [
    "---\n",
    "<a id=\"load\"></a>\n",
    "\n",
    "# [^](#toc) <u>Load data</u>"
   ]
  },
  {
   "cell_type": "code",
   "execution_count": 5,
   "metadata": {},
   "outputs": [
    {
     "name": "stdout",
     "output_type": "stream",
     "text": [
      "Shape of train data: (2400, 14) \n",
      "\n",
      "Shape of test data: (600, 12) \n",
      "\n",
      "\u001b[4mCategorical columns:\u001b[0m\n",
      "\n",
      "\u001b[4mNumerical columns:\u001b[0m\n",
      "id --- spacegroup --- number_of_total_atoms --- percent_atom_al --- percent_atom_ga --- percent_atom_in --- lattice_vector_1_ang --- lattice_vector_2_ang --- lattice_vector_3_ang --- lattice_angle_alpha_degree --- lattice_angle_beta_degree --- lattice_angle_gamma_degree --- formation_energy_ev_natom --- bandgap_energy_ev\n"
     ]
    },
    {
     "data": {
      "text/html": [
       "<div>\n",
       "<style>\n",
       "    .dataframe thead tr:only-child th {\n",
       "        text-align: right;\n",
       "    }\n",
       "\n",
       "    .dataframe thead th {\n",
       "        text-align: left;\n",
       "    }\n",
       "\n",
       "    .dataframe tbody tr th {\n",
       "        vertical-align: top;\n",
       "    }\n",
       "</style>\n",
       "<table border=\"1\" class=\"dataframe\">\n",
       "  <thead>\n",
       "    <tr style=\"text-align: right;\">\n",
       "      <th></th>\n",
       "      <th>id</th>\n",
       "      <th>spacegroup</th>\n",
       "      <th>number_of_total_atoms</th>\n",
       "      <th>percent_atom_al</th>\n",
       "      <th>percent_atom_ga</th>\n",
       "      <th>percent_atom_in</th>\n",
       "      <th>lattice_vector_1_ang</th>\n",
       "      <th>lattice_vector_2_ang</th>\n",
       "      <th>lattice_vector_3_ang</th>\n",
       "      <th>lattice_angle_alpha_degree</th>\n",
       "      <th>lattice_angle_beta_degree</th>\n",
       "      <th>lattice_angle_gamma_degree</th>\n",
       "      <th>formation_energy_ev_natom</th>\n",
       "      <th>bandgap_energy_ev</th>\n",
       "    </tr>\n",
       "  </thead>\n",
       "  <tbody>\n",
       "    <tr>\n",
       "      <th>0</th>\n",
       "      <td>1</td>\n",
       "      <td>33</td>\n",
       "      <td>80.0</td>\n",
       "      <td>0.6250</td>\n",
       "      <td>0.3750</td>\n",
       "      <td>0.000</td>\n",
       "      <td>9.9523</td>\n",
       "      <td>8.5513</td>\n",
       "      <td>9.1775</td>\n",
       "      <td>90.0026</td>\n",
       "      <td>90.0023</td>\n",
       "      <td>90.0017</td>\n",
       "      <td>0.0680</td>\n",
       "      <td>3.4387</td>\n",
       "    </tr>\n",
       "    <tr>\n",
       "      <th>1</th>\n",
       "      <td>2</td>\n",
       "      <td>194</td>\n",
       "      <td>80.0</td>\n",
       "      <td>0.6250</td>\n",
       "      <td>0.3750</td>\n",
       "      <td>0.000</td>\n",
       "      <td>6.1840</td>\n",
       "      <td>6.1838</td>\n",
       "      <td>23.6287</td>\n",
       "      <td>90.0186</td>\n",
       "      <td>89.9980</td>\n",
       "      <td>120.0025</td>\n",
       "      <td>0.2490</td>\n",
       "      <td>2.9210</td>\n",
       "    </tr>\n",
       "    <tr>\n",
       "      <th>2</th>\n",
       "      <td>3</td>\n",
       "      <td>227</td>\n",
       "      <td>40.0</td>\n",
       "      <td>0.8125</td>\n",
       "      <td>0.1875</td>\n",
       "      <td>0.000</td>\n",
       "      <td>9.7510</td>\n",
       "      <td>5.6595</td>\n",
       "      <td>13.9630</td>\n",
       "      <td>90.9688</td>\n",
       "      <td>91.1228</td>\n",
       "      <td>30.5185</td>\n",
       "      <td>0.1821</td>\n",
       "      <td>2.7438</td>\n",
       "    </tr>\n",
       "    <tr>\n",
       "      <th>3</th>\n",
       "      <td>4</td>\n",
       "      <td>167</td>\n",
       "      <td>30.0</td>\n",
       "      <td>0.7500</td>\n",
       "      <td>0.0000</td>\n",
       "      <td>0.250</td>\n",
       "      <td>5.0036</td>\n",
       "      <td>5.0034</td>\n",
       "      <td>13.5318</td>\n",
       "      <td>89.9888</td>\n",
       "      <td>90.0119</td>\n",
       "      <td>120.0017</td>\n",
       "      <td>0.2172</td>\n",
       "      <td>3.3492</td>\n",
       "    </tr>\n",
       "    <tr>\n",
       "      <th>4</th>\n",
       "      <td>5</td>\n",
       "      <td>194</td>\n",
       "      <td>80.0</td>\n",
       "      <td>0.0000</td>\n",
       "      <td>0.6250</td>\n",
       "      <td>0.375</td>\n",
       "      <td>6.6614</td>\n",
       "      <td>6.6612</td>\n",
       "      <td>24.5813</td>\n",
       "      <td>89.9960</td>\n",
       "      <td>90.0006</td>\n",
       "      <td>119.9893</td>\n",
       "      <td>0.0505</td>\n",
       "      <td>1.3793</td>\n",
       "    </tr>\n",
       "  </tbody>\n",
       "</table>\n",
       "</div>"
      ],
      "text/plain": [
       "   id  spacegroup  number_of_total_atoms  percent_atom_al  percent_atom_ga  \\\n",
       "0   1          33                   80.0           0.6250           0.3750   \n",
       "1   2         194                   80.0           0.6250           0.3750   \n",
       "2   3         227                   40.0           0.8125           0.1875   \n",
       "3   4         167                   30.0           0.7500           0.0000   \n",
       "4   5         194                   80.0           0.0000           0.6250   \n",
       "\n",
       "   percent_atom_in  lattice_vector_1_ang  lattice_vector_2_ang  \\\n",
       "0            0.000                9.9523                8.5513   \n",
       "1            0.000                6.1840                6.1838   \n",
       "2            0.000                9.7510                5.6595   \n",
       "3            0.250                5.0036                5.0034   \n",
       "4            0.375                6.6614                6.6612   \n",
       "\n",
       "   lattice_vector_3_ang  lattice_angle_alpha_degree  \\\n",
       "0                9.1775                     90.0026   \n",
       "1               23.6287                     90.0186   \n",
       "2               13.9630                     90.9688   \n",
       "3               13.5318                     89.9888   \n",
       "4               24.5813                     89.9960   \n",
       "\n",
       "   lattice_angle_beta_degree  lattice_angle_gamma_degree  \\\n",
       "0                    90.0023                     90.0017   \n",
       "1                    89.9980                    120.0025   \n",
       "2                    91.1228                     30.5185   \n",
       "3                    90.0119                    120.0017   \n",
       "4                    90.0006                    119.9893   \n",
       "\n",
       "   formation_energy_ev_natom  bandgap_energy_ev  \n",
       "0                     0.0680             3.4387  \n",
       "1                     0.2490             2.9210  \n",
       "2                     0.1821             2.7438  \n",
       "3                     0.2172             3.3492  \n",
       "4                     0.0505             1.3793  "
      ]
     },
     "execution_count": 5,
     "metadata": {},
     "output_type": "execute_result"
    }
   ],
   "source": [
    "DATA_PATH = \"../../data/semiconductors/\"\n",
    "\n",
    "# Load data\n",
    "train = pd.read_csv(DATA_PATH + \"train.csv\")\n",
    "test  = pd.read_csv(DATA_PATH + \"test.csv\")\n",
    "\n",
    "print(\"Shape of train data:\", train.shape, \"\\n\")\n",
    "print(\"Shape of test data:\" , test.shape,  \"\\n\")\n",
    "\n",
    "### Categorical columns\n",
    "cat_columns = [col for col in train.columns if train[col].dtype == object]\n",
    "print(\"{}Categorical columns:{}\".format(color.UNDERLINE, color.END))\n",
    "print(\" --- \".join(cat_columns))\n",
    "\n",
    "### Numerical columns\n",
    "num_columns = [col for col in train.columns if train[col].dtype != object]\n",
    "print(\"{}Numerical columns:{}\".format(color.UNDERLINE, color.END))\n",
    "print(\" --- \".join(num_columns))\n",
    "\n",
    "train.head()"
   ]
  },
  {
   "cell_type": "code",
   "execution_count": 6,
   "metadata": {},
   "outputs": [
    {
     "data": {
      "text/html": [
       "<div>\n",
       "<style>\n",
       "    .dataframe thead tr:only-child th {\n",
       "        text-align: right;\n",
       "    }\n",
       "\n",
       "    .dataframe thead th {\n",
       "        text-align: left;\n",
       "    }\n",
       "\n",
       "    .dataframe tbody tr th {\n",
       "        vertical-align: top;\n",
       "    }\n",
       "</style>\n",
       "<table border=\"1\" class=\"dataframe\">\n",
       "  <thead>\n",
       "    <tr style=\"text-align: right;\">\n",
       "      <th></th>\n",
       "      <th>id</th>\n",
       "      <th>spacegroup</th>\n",
       "      <th>number_of_total_atoms</th>\n",
       "      <th>percent_atom_al</th>\n",
       "      <th>percent_atom_ga</th>\n",
       "      <th>percent_atom_in</th>\n",
       "      <th>lattice_vector_1_ang</th>\n",
       "      <th>lattice_vector_2_ang</th>\n",
       "      <th>lattice_vector_3_ang</th>\n",
       "      <th>lattice_angle_alpha_degree</th>\n",
       "      <th>lattice_angle_beta_degree</th>\n",
       "      <th>lattice_angle_gamma_degree</th>\n",
       "    </tr>\n",
       "  </thead>\n",
       "  <tbody>\n",
       "    <tr>\n",
       "      <th>0</th>\n",
       "      <td>1</td>\n",
       "      <td>33</td>\n",
       "      <td>80.0</td>\n",
       "      <td>0.1875</td>\n",
       "      <td>0.4688</td>\n",
       "      <td>0.3438</td>\n",
       "      <td>10.5381</td>\n",
       "      <td>9.0141</td>\n",
       "      <td>9.6361</td>\n",
       "      <td>89.9997</td>\n",
       "      <td>90.0003</td>\n",
       "      <td>90.0006</td>\n",
       "    </tr>\n",
       "    <tr>\n",
       "      <th>1</th>\n",
       "      <td>2</td>\n",
       "      <td>33</td>\n",
       "      <td>80.0</td>\n",
       "      <td>0.7500</td>\n",
       "      <td>0.2500</td>\n",
       "      <td>0.0000</td>\n",
       "      <td>9.8938</td>\n",
       "      <td>8.5014</td>\n",
       "      <td>9.1298</td>\n",
       "      <td>90.0038</td>\n",
       "      <td>90.0023</td>\n",
       "      <td>90.0015</td>\n",
       "    </tr>\n",
       "    <tr>\n",
       "      <th>2</th>\n",
       "      <td>3</td>\n",
       "      <td>167</td>\n",
       "      <td>30.0</td>\n",
       "      <td>0.6667</td>\n",
       "      <td>0.1667</td>\n",
       "      <td>0.1667</td>\n",
       "      <td>4.9811</td>\n",
       "      <td>4.9808</td>\n",
       "      <td>13.4799</td>\n",
       "      <td>89.9900</td>\n",
       "      <td>90.0109</td>\n",
       "      <td>120.0014</td>\n",
       "    </tr>\n",
       "    <tr>\n",
       "      <th>3</th>\n",
       "      <td>4</td>\n",
       "      <td>12</td>\n",
       "      <td>80.0</td>\n",
       "      <td>0.5625</td>\n",
       "      <td>0.4375</td>\n",
       "      <td>0.0000</td>\n",
       "      <td>24.3370</td>\n",
       "      <td>6.0091</td>\n",
       "      <td>5.7620</td>\n",
       "      <td>89.9995</td>\n",
       "      <td>103.8581</td>\n",
       "      <td>90.0002</td>\n",
       "    </tr>\n",
       "    <tr>\n",
       "      <th>4</th>\n",
       "      <td>5</td>\n",
       "      <td>12</td>\n",
       "      <td>80.0</td>\n",
       "      <td>0.1875</td>\n",
       "      <td>0.5000</td>\n",
       "      <td>0.3125</td>\n",
       "      <td>24.6443</td>\n",
       "      <td>6.2906</td>\n",
       "      <td>6.1589</td>\n",
       "      <td>90.0000</td>\n",
       "      <td>104.5929</td>\n",
       "      <td>90.0001</td>\n",
       "    </tr>\n",
       "  </tbody>\n",
       "</table>\n",
       "</div>"
      ],
      "text/plain": [
       "   id  spacegroup  number_of_total_atoms  percent_atom_al  percent_atom_ga  \\\n",
       "0   1          33                   80.0           0.1875           0.4688   \n",
       "1   2          33                   80.0           0.7500           0.2500   \n",
       "2   3         167                   30.0           0.6667           0.1667   \n",
       "3   4          12                   80.0           0.5625           0.4375   \n",
       "4   5          12                   80.0           0.1875           0.5000   \n",
       "\n",
       "   percent_atom_in  lattice_vector_1_ang  lattice_vector_2_ang  \\\n",
       "0           0.3438               10.5381                9.0141   \n",
       "1           0.0000                9.8938                8.5014   \n",
       "2           0.1667                4.9811                4.9808   \n",
       "3           0.0000               24.3370                6.0091   \n",
       "4           0.3125               24.6443                6.2906   \n",
       "\n",
       "   lattice_vector_3_ang  lattice_angle_alpha_degree  \\\n",
       "0                9.6361                     89.9997   \n",
       "1                9.1298                     90.0038   \n",
       "2               13.4799                     89.9900   \n",
       "3                5.7620                     89.9995   \n",
       "4                6.1589                     90.0000   \n",
       "\n",
       "   lattice_angle_beta_degree  lattice_angle_gamma_degree  \n",
       "0                    90.0003                     90.0006  \n",
       "1                    90.0023                     90.0015  \n",
       "2                    90.0109                    120.0014  \n",
       "3                   103.8581                     90.0002  \n",
       "4                   104.5929                     90.0001  "
      ]
     },
     "execution_count": 6,
     "metadata": {},
     "output_type": "execute_result"
    }
   ],
   "source": [
    "test.head()"
   ]
  },
  {
   "cell_type": "code",
   "execution_count": 8,
   "metadata": {},
   "outputs": [
    {
     "data": {
      "text/html": [
       "<div>\n",
       "<style>\n",
       "    .dataframe thead tr:only-child th {\n",
       "        text-align: right;\n",
       "    }\n",
       "\n",
       "    .dataframe thead th {\n",
       "        text-align: left;\n",
       "    }\n",
       "\n",
       "    .dataframe tbody tr th {\n",
       "        vertical-align: top;\n",
       "    }\n",
       "</style>\n",
       "<table border=\"1\" class=\"dataframe\">\n",
       "  <thead>\n",
       "    <tr style=\"text-align: right;\">\n",
       "      <th></th>\n",
       "      <th>id</th>\n",
       "      <th>formation_energy_ev_natom</th>\n",
       "      <th>bandgap_energy_ev</th>\n",
       "    </tr>\n",
       "  </thead>\n",
       "  <tbody>\n",
       "    <tr>\n",
       "      <th>0</th>\n",
       "      <td>1</td>\n",
       "      <td>0.1779</td>\n",
       "      <td>1.8892</td>\n",
       "    </tr>\n",
       "    <tr>\n",
       "      <th>1</th>\n",
       "      <td>2</td>\n",
       "      <td>0.1779</td>\n",
       "      <td>1.8892</td>\n",
       "    </tr>\n",
       "    <tr>\n",
       "      <th>2</th>\n",
       "      <td>3</td>\n",
       "      <td>0.1779</td>\n",
       "      <td>1.8892</td>\n",
       "    </tr>\n",
       "    <tr>\n",
       "      <th>3</th>\n",
       "      <td>4</td>\n",
       "      <td>0.1779</td>\n",
       "      <td>1.8892</td>\n",
       "    </tr>\n",
       "    <tr>\n",
       "      <th>4</th>\n",
       "      <td>5</td>\n",
       "      <td>0.1779</td>\n",
       "      <td>1.8892</td>\n",
       "    </tr>\n",
       "  </tbody>\n",
       "</table>\n",
       "</div>"
      ],
      "text/plain": [
       "   id  formation_energy_ev_natom  bandgap_energy_ev\n",
       "0   1                     0.1779             1.8892\n",
       "1   2                     0.1779             1.8892\n",
       "2   3                     0.1779             1.8892\n",
       "3   4                     0.1779             1.8892\n",
       "4   5                     0.1779             1.8892"
      ]
     },
     "execution_count": 8,
     "metadata": {},
     "output_type": "execute_result"
    }
   ],
   "source": [
    "sample = pd.read_csv(DATA_PATH + \"sample.csv\")\n",
    "sample.head()"
   ]
  },
  {
   "cell_type": "markdown",
   "metadata": {},
   "source": [
    "---\n",
    "<a id=\"overview\"></a>\n",
    "\n",
    "# [^](#toc) <u>Quick Overview</u>"
   ]
  },
  {
   "cell_type": "markdown",
   "metadata": {},
   "source": [
    "### Split into id, target, and predictors"
   ]
  },
  {
   "cell_type": "code",
   "execution_count": 16,
   "metadata": {
    "collapsed": true
   },
   "outputs": [],
   "source": [
    "train_y  = train[[\"formation_energy_ev_natom\", \"bandgap_energy_ev\"]]\n",
    "train_x  = train.drop([\"id\", \"formation_energy_ev_natom\", \"bandgap_energy_ev\"], axis=1)\n",
    "\n",
    "test_id  = test.id\n",
    "test_x   = test.drop([\"id\"], axis=1)\n",
    "\n",
    "full     = pd.concat([train_x, test_x])\n",
    "train_N = len(train_x)"
   ]
  },
  {
   "cell_type": "markdown",
   "metadata": {},
   "source": [
    "<a id=\"nan\"></a>\n",
    "\n",
    "### [^](#toc) Missing values"
   ]
  },
  {
   "cell_type": "code",
   "execution_count": 17,
   "metadata": {
    "scrolled": true
   },
   "outputs": [
    {
     "data": {
      "text/plain": [
       "Series([], dtype: int64)"
      ]
     },
     "execution_count": 17,
     "metadata": {},
     "output_type": "execute_result"
    }
   ],
   "source": [
    "temp = full.isnull().sum()\n",
    "temp[temp > 0]"
   ]
  },
  {
   "cell_type": "markdown",
   "metadata": {},
   "source": [
    "<a id=\"corr\"></a>\n",
    "\n",
    "### [^](#toc) Correlation Map"
   ]
  },
  {
   "cell_type": "code",
   "execution_count": 18,
   "metadata": {},
   "outputs": [
    {
     "data": {
      "image/png": "[encoded data removed]",
      "text/plain": [
       "<matplotlib.figure.Figure at 0x11676c860>"
      ]
     },
     "metadata": {},
     "output_type": "display_data"
    }
   ],
   "source": [
    "f, ax = plt.subplots(figsize=(15, 15))\n",
    "\n",
    "cols = [col for col in train.columns if \"_nan\" not in col]\n",
    "_ = sns.heatmap(train[cols].corr(), vmax=.8, cmap=\"coolwarm\")"
   ]
  },
  {
   "cell_type": "markdown",
   "metadata": {},
   "source": [
    "---\n",
    "<a id=\"target\"></a>\n",
    "\n",
    "# [^](#toc) <u>Target variables</u>"
   ]
  },
  {
   "cell_type": "markdown",
   "metadata": {},
   "source": [
    "<a id=\"target_1\"></a>\n",
    "\n",
    "### [^](#toc) Formation Energy EV natom"
   ]
  },
  {
   "cell_type": "code",
   "execution_count": 19,
   "metadata": {},
   "outputs": [
    {
     "data": {
      "image/png": "[encoded data removed]",
      "text/plain": [
       "<matplotlib.figure.Figure at 0x10eb631d0>"
      ]
     },
     "metadata": {},
     "output_type": "display_data"
    }
   ],
   "source": [
    "plt.figure(figsize=(14, 6))\n",
    "\n",
    "_ = sns.distplot(train_y[\"formation_energy_ev_natom\"])"
   ]
  },
  {
   "cell_type": "markdown",
   "metadata": {},
   "source": [
    "<a id=\"target_2\"></a>\n",
    "\n",
    "### [^](#toc) Bandgap Energy EV"
   ]
  },
  {
   "cell_type": "code",
   "execution_count": 20,
   "metadata": {},
   "outputs": [
    {
     "data": {
      "image/png": "[encoded data removed]",
      "text/plain": [
       "<matplotlib.figure.Figure at 0x116112b70>"
      ]
     },
     "metadata": {},
     "output_type": "display_data"
    }
   ],
   "source": [
    "plt.figure(figsize=(14, 6))\n",
    "\n",
    "_ = sns.distplot(train_y[\"bandgap_energy_ev\"])"
   ]
  },
  {
   "cell_type": "markdown",
   "metadata": {},
   "source": [
    "---\n",
    "<a id=\"num\"></a>\n",
    "\n",
    "# [^](#toc) <u>Numerical columns</u>\n",
    "\n",
    "spacegroup --- number_of_total_atoms --- percent_atom_al --- percent_atom_ga --- percent_atom_in --- lattice_vector_1_ang --- lattice_vector_2_ang --- lattice_vector_3_ang --- lattice_angle_alpha_degree --- lattice_angle_beta_degree --- lattice_angle_gamma_degree"
   ]
  },
  {
   "cell_type": "markdown",
   "metadata": {},
   "source": [
    "### Spacegroup"
   ]
  },
  {
   "cell_type": "code",
   "execution_count": 29,
   "metadata": {},
   "outputs": [
    {
     "data": {
      "image/png": "[encoded data removed]",
      "text/plain": [
       "<matplotlib.figure.Figure at 0x1a204074a8>"
      ]
     },
     "metadata": {},
     "output_type": "display_data"
    }
   ],
   "source": [
    "plt.figure(figsize=(12, 6))\n",
    "_ = sns.countplot(full.spacegroup)"
   ]
  },
  {
   "cell_type": "markdown",
   "metadata": {},
   "source": [
    "### Number of Total Atoms"
   ]
  },
  {
   "cell_type": "code",
   "execution_count": 32,
   "metadata": {},
   "outputs": [
    {
     "data": {
      "image/png": "[encoded data removed]",
      "text/plain": [
       "<matplotlib.figure.Figure at 0x1a204a19b0>"
      ]
     },
     "metadata": {},
     "output_type": "display_data"
    }
   ],
   "source": [
    "plt.figure(figsize=(12, 6))\n",
    "_ = sns.countplot(full.number_of_total_atoms)"
   ]
  },
  {
   "cell_type": "markdown",
   "metadata": {},
   "source": [
    "\n",
    "\n",
    "percent_atom_al --- percent_atom_ga --- percent_atom_in"
   ]
  },
  {
   "cell_type": "code",
   "execution_count": null,
   "metadata": {
    "collapsed": true
   },
   "outputs": [],
   "source": [
    "fig, axarr = plt.subplots(1, 3, figsize=(14, 8))"
   ]
  },
  {
   "cell_type": "code",
   "execution_count": null,
   "metadata": {
    "collapsed": true
   },
   "outputs": [],
   "source": []
  },
  {
   "cell_type": "markdown",
   "metadata": {},
   "source": [
    "---\n",
    "<a id=\"model\"></a>\n",
    "\n",
    "# [^](#toc) Modeling"
   ]
  },
  {
   "cell_type": "markdown",
   "metadata": {},
   "source": [
    "<a id=\"ml_imports\"></a>\n",
    "\n",
    "### [^](#toc) Machine learning imports"
   ]
  },
  {
   "cell_type": "code",
   "execution_count": 23,
   "metadata": {
    "collapsed": true
   },
   "outputs": [],
   "source": [
    "# Massive amounts of model imports\n",
    "from sklearn.ensemble import RandomForestClassifier, AdaBoostClassifier, GradientBoostingClassifier, ExtraTreesClassifier, VotingClassifier\n",
    "from sklearn.discriminant_analysis import LinearDiscriminantAnalysis\n",
    "from sklearn.linear_model import LogisticRegression\n",
    "from sklearn.model_selection import KFold, cross_val_score, GridSearchCV, StratifiedKFold, learning_curve\n",
    "from sklearn.neighbors import KNeighborsClassifier\n",
    "from sklearn.neural_network import MLPClassifier\n",
    "from sklearn.pipeline import make_pipeline\n",
    "from sklearn.preprocessing import Imputer\n",
    "from sklearn.svm import SVC\n",
    "from sklearn.tree import DecisionTreeClassifier\n",
    "from xgboost import XGBClassifier\n",
    "from lightgbm import LGBMClassifier\n",
    "\n",
    "kfold = StratifiedKFold()\n",
    "\n",
    "def score_model(model):\n",
    "    score = cross_val_score(model, train_x, train_y, cv=kfold, n_jobs=1, scoring=\"accuracy\")\n",
    "    print(score)\n",
    "    print(\"\\nAverage is ...\")\n",
    "    print(sum(score) / len(score))"
   ]
  },
  {
   "cell_type": "markdown",
   "metadata": {},
   "source": [
    "<a id=\"model_eval\"></a>\n",
    "\n",
    "### [^](#toc) Many model evaluation\n",
    "\n",
    "This just gives an idea of what model will be the best performer.  However, this appears to be too computationally expensive for this amount of data.  If I had more time I would split up the data into smaller chunks, then evaluate this."
   ]
  },
  {
   "cell_type": "code",
   "execution_count": null,
   "metadata": {
    "collapsed": true
   },
   "outputs": [],
   "source": [
    "# Modeling step Test differents algorithms \n",
    "classifiers = [\n",
    "                AdaBoostClassifier(\n",
    "                    DecisionTreeClassifier(random_state = 17),\n",
    "                    random_state = 17, learning_rate = 0.1\n",
    "                ),\n",
    "                DecisionTreeClassifier(random_state = 17),\n",
    "                ExtraTreesClassifier(random_state = 17),\n",
    "                GradientBoostingClassifier(random_state=17),\n",
    "    \n",
    "                KNeighborsClassifier(),\n",
    "                LGBMClassifier(),\n",
    "                LinearDiscriminantAnalysis(),\n",
    "                LogisticRegression(random_state = 17),\n",
    "    \n",
    "                MLPClassifier(random_state = 17),\n",
    "                RandomForestClassifier(random_state = 17),\n",
    "                SVC(random_state=17),\n",
    "                XGBClassifier()\n",
    "              ]\n",
    "\n",
    "cv_results = [cross_val_score(classifier, train_x, y=train_y, scoring=\"accuracy\", cv=kfold) for classifier in classifiers]\n",
    "\n",
    "cv_means = [cv_result.mean() for cv_result in cv_results]\n",
    "cv_std = [cv_result.std() for cv_result in cv_results]\n",
    "\n",
    "cv_results = pd.DataFrame({\n",
    "                        \"CrossValMeans\":cv_means,\n",
    "                        \"CrossValerrors\": cv_std,\n",
    "                        \"Algorithm\":[\n",
    "                            \"AdaBoost\",\n",
    "                            \"DecisionTree\",\n",
    "                            \"ExtraTrees\",\n",
    "                            \"GradientBoosting\",\n",
    "                            \n",
    "                            \"KNeighboors\",\n",
    "                            \"LGBM\",\n",
    "                            \"LinearDiscriminantAnalysis\",\n",
    "                            \"LogisticRegression\",\n",
    "                            \n",
    "                            \"MultipleLayerPerceptron\",\n",
    "                            \"RandomForest\",\n",
    "                            \"SVC\",\n",
    "                            \"XGB\"\n",
    "                        ]})\n",
    "\n",
    "sns.barplot(\"CrossValMeans\",\"Algorithm\", data=cv_results, palette=\"Set3\", orient=\"h\", **{'xerr':cv_std})\n",
    "plt.xlabel(\"Mean Accuracy\")\n",
    "_ = plt.title(\"Cross validation scores\")"
   ]
  },
  {
   "cell_type": "markdown",
   "metadata": {},
   "source": [
    "<a id=\"ada_model\"></a>\n",
    "\n",
    "### [^](#toc) Ada Boost Classifier"
   ]
  },
  {
   "cell_type": "code",
   "execution_count": null,
   "metadata": {
    "collapsed": true
   },
   "outputs": [],
   "source": [
    "ada_model = AdaBoostClassifier(\n",
    "                    DecisionTreeClassifier(random_state = 17),\n",
    "                    random_state = 17, learning_rate = 0.1\n",
    "                )\n",
    "\n",
    "### Training\n",
    "start = time.time()\n",
    "ada_model.fit(train_x, train_y)\n",
    "print(\"Training took {} seconds\".format(round(time.time() - start)))\n",
    "\n",
    "### Scoring\n",
    "start = time.time()\n",
    "score_model(ada_model)\n",
    "print(\"\\nScoring took {} seconds\".format(round(time.time() - start)))"
   ]
  },
  {
   "cell_type": "markdown",
   "metadata": {},
   "source": [
    "<a id=\"dtc_model\"></a>\n",
    "\n",
    "### [^](#toc) Deciscion Tree Classifier"
   ]
  },
  {
   "cell_type": "code",
   "execution_count": null,
   "metadata": {
    "collapsed": true
   },
   "outputs": [],
   "source": [
    "dtc_model = DecisionTreeClassifier(random_state = 17)\n",
    "\n",
    "### Training\n",
    "start = time.time()\n",
    "dtc_model.fit(train_x, train_y)\n",
    "print(\"Training took {} seconds\".format(round(time.time() - start)))\n",
    "\n",
    "### Scoring\n",
    "start = time.time()\n",
    "score_model(dtc_model)\n",
    "print(\"\\nScoring took {} seconds\".format(round(time.time() - start)))"
   ]
  },
  {
   "cell_type": "markdown",
   "metadata": {},
   "source": [
    "<a id=\"etc_model\"></a>\n",
    "\n",
    "### [^](#toc) Extra Trees Classifer"
   ]
  },
  {
   "cell_type": "code",
   "execution_count": null,
   "metadata": {
    "collapsed": true
   },
   "outputs": [],
   "source": [
    "etc_model = ExtraTreesClassifier(random_state = 17)\n",
    "\n",
    "### Training\n",
    "start = time.time()\n",
    "etc_model.fit(train_x, train_y)\n",
    "print(\"Training took {} seconds\".format(round(time.time() - start)))\n",
    "\n",
    "### Scoring\n",
    "start = time.time()\n",
    "score_model(etc_model)\n",
    "print(\"\\nScoring took {} seconds\".format(round(time.time() - start)))"
   ]
  },
  {
   "cell_type": "markdown",
   "metadata": {},
   "source": [
    "<a id=\"gbc_model\"></a>\n",
    "\n",
    "### [^](#toc) Gradient Boosting Classifier"
   ]
  },
  {
   "cell_type": "code",
   "execution_count": null,
   "metadata": {
    "collapsed": true
   },
   "outputs": [],
   "source": [
    "gbc_model = GradientBoostingClassifier(random_state=17)\n",
    "\n",
    "### Training\n",
    "start = time.time()\n",
    "gbc_model.fit(train_x, train_y)\n",
    "print(\"Training took {} seconds\".format(round(time.time() - start)))\n",
    "\n",
    "### Scoring\n",
    "start = time.time()\n",
    "score_model(gbc_model)\n",
    "print(\"\\nScoring took {} seconds\".format(round(time.time() - start)))"
   ]
  },
  {
   "cell_type": "markdown",
   "metadata": {},
   "source": [
    "<a id=\"knn_model\"></a>\n",
    "\n",
    "### [^](#toc) K Nearest Neighbors"
   ]
  },
  {
   "cell_type": "code",
   "execution_count": null,
   "metadata": {
    "collapsed": true
   },
   "outputs": [],
   "source": [
    "knn_model = KNeighborsClassifier()\n",
    "\n",
    "### Training\n",
    "start = time.time()\n",
    "knn_model.fit(train_x, train_y)\n",
    "print(\"Training took {} seconds\".format(round(time.time() - start)))\n",
    "\n",
    "### Scoring\n",
    "start = time.time()\n",
    "score_model(knn_model)\n",
    "print(\"\\nScoring took {} seconds\".format(round(time.time() - start)))"
   ]
  },
  {
   "cell_type": "markdown",
   "metadata": {},
   "source": [
    "<a id=\"lgb_model\"></a>\n",
    "\n",
    "### [^](#toc) Light Gradient Boost"
   ]
  },
  {
   "cell_type": "code",
   "execution_count": 2,
   "metadata": {
    "collapsed": true
   },
   "outputs": [],
   "source": [
    "lgb_model = LGBMClassifier()\n",
    "\n",
    "### Training\n",
    "start = time.time()\n",
    "lgb_model.fit(train_x, train_y)\n",
    "print(\"Training took {} seconds\".format(round(time.time() - start)))\n",
    "\n",
    "### Scoring\n",
    "start = time.time()\n",
    "score_model(lgb_model)\n",
    "print(\"\\nScoring took {} seconds\".format(round(time.time() - start)))"
   ]
  },
  {
   "cell_type": "markdown",
   "metadata": {},
   "source": [
    "<a id=\"lin_model\"></a>\n",
    "\n",
    "### [^](#toc) Linear Discriminant Analysis"
   ]
  },
  {
   "cell_type": "code",
   "execution_count": 1,
   "metadata": {
    "collapsed": true
   },
   "outputs": [],
   "source": [
    "lin_model = LinearDiscriminantAnalysis()\n",
    "\n",
    "### Training\n",
    "start = time.time()\n",
    "lin_model.fit(train_x, train_y)\n",
    "print(\"Training took {} seconds\".format(round(time.time() - start)))\n",
    "\n",
    "### Scoring\n",
    "start = time.time()\n",
    "score_model(lin_model)\n",
    "print(\"\\nScoring took {} seconds\".format(round(time.time() - start)))"
   ]
  },
  {
   "cell_type": "markdown",
   "metadata": {},
   "source": [
    "<a id=\"log_model\"></a>\n",
    "\n",
    "### [^](#toc) Logistic"
   ]
  },
  {
   "cell_type": "code",
   "execution_count": null,
   "metadata": {
    "collapsed": true
   },
   "outputs": [],
   "source": [
    "log_model = LogisticRegression(random_state = 17)\n",
    "\n",
    "### Training\n",
    "start = time.time()\n",
    "log_model.fit(train_x, train_y)\n",
    "print(\"Training took {} seconds\".format(round(time.time() - start)))\n",
    "\n",
    "### Scoring\n",
    "start = time.time()\n",
    "score_model(log_model)\n",
    "print(\"\\nScoring took {} seconds\".format(round(time.time() - start)))"
   ]
  },
  {
   "cell_type": "markdown",
   "metadata": {},
   "source": [
    "<a id=\"mlp_model\"></a>\n",
    "\n",
    "### [^](#toc) Multiple Layer Perceptron"
   ]
  },
  {
   "cell_type": "code",
   "execution_count": null,
   "metadata": {
    "collapsed": true
   },
   "outputs": [],
   "source": [
    "mlp_model = MLPClassifier(random_state = 17)\n",
    "\n",
    "### Training\n",
    "start = time.time()\n",
    "mlp_model.fit(train_x, train_y)\n",
    "print(\"Training took {} seconds\".format(round(time.time() - start)))\n",
    "\n",
    "### Scoring\n",
    "start = time.time()\n",
    "mlp_model(lin_model)\n",
    "print(\"\\nScoring took {} seconds\".format(round(time.time() - start)))"
   ]
  },
  {
   "cell_type": "markdown",
   "metadata": {},
   "source": [
    "<a id=\"rfc_model\"></a>\n",
    "\n",
    "### [^](#toc) Random Forest Classifier"
   ]
  },
  {
   "cell_type": "code",
   "execution_count": null,
   "metadata": {
    "collapsed": true
   },
   "outputs": [],
   "source": [
    "rfc_model = RandomForestClassifier(random_state = 17)\n",
    "\n",
    "### Training\n",
    "start = time.time()\n",
    "rfc_model.fit(train_x, train_y)\n",
    "print(\"Training took {} seconds\".format(round(time.time() - start)))\n",
    "\n",
    "### Scoring\n",
    "start = time.time()\n",
    "score_model(rfc_model)\n",
    "print(\"\\nScoring took {} seconds\".format(round(time.time() - start)))"
   ]
  },
  {
   "cell_type": "markdown",
   "metadata": {},
   "source": [
    "<a id=\"svc_model\"></a>\n",
    "\n",
    "### [^](#toc) SVC"
   ]
  },
  {
   "cell_type": "code",
   "execution_count": null,
   "metadata": {
    "collapsed": true
   },
   "outputs": [],
   "source": [
    "svc_model = SVC()\n",
    "\n",
    "### Training\n",
    "start = time.time()\n",
    "svc_model.fit(train_x, train_y)\n",
    "print(\"Training took {} seconds\".format(round(time.time() - start)))\n",
    "\n",
    "### Scoring\n",
    "start = time.time()\n",
    "score_model(svc_model)\n",
    "print(\"\\nScoring took {} seconds\".format(round(time.time() - start)))"
   ]
  },
  {
   "cell_type": "markdown",
   "metadata": {},
   "source": [
    "<a id=\"xgb_model\"></a>\n",
    "\n",
    "### [^](#toc) XGB Classifier"
   ]
  },
  {
   "cell_type": "code",
   "execution_count": null,
   "metadata": {
    "collapsed": true
   },
   "outputs": [],
   "source": [
    "xgb_model = XGBClassifier()\n",
    "\n",
    "### Training\n",
    "start = time.time()\n",
    "xgb_model.fit(train_x, train_y)\n",
    "print(\"Training took {} seconds\".format(round(time.time() - start)))\n",
    "\n",
    "### Scoring\n",
    "start = time.time()\n",
    "score_model(xgb_model)\n",
    "print(\"\\nScoring took {} seconds\".format(round(time.time() - start)))"
   ]
  },
  {
   "cell_type": "markdown",
   "metadata": {},
   "source": [
    "<a id=\"vote\"></a>\n",
    "\n",
    "### [^](#toc) Voting classifier"
   ]
  },
  {
   "cell_type": "code",
   "execution_count": null,
   "metadata": {
    "collapsed": true
   },
   "outputs": [],
   "source": [
    "print(\"Building...\")\n",
    "final_model = VotingClassifier(estimators=[\n",
    "                                        (\"ADA\", ada_model),\n",
    "                                        (\"DTC\", dtc_model),\n",
    "                                        (\"ETC\", etc_model),\n",
    "                                        (\"GBC\", gbc_model),\n",
    "                                        (\"KNN\", knn_model),\n",
    "                                        (\"LGB\", lgb_model),\n",
    "                                        (\"LIN\", lin_model),\n",
    "                                        (\"LOG\", log_model),\n",
    "                                        (\"MLP\", mlp_model),\n",
    "                                        (\"RFC\", rfc_model),\n",
    "                                        (\"SVC\", svc_model),\n",
    "                                        (\"XGB\", xgb_model)\n",
    "                                      ], voting='soft')\n",
    "print(\"Built.\")\n",
    "\n",
    "### Training\n",
    "start = time.time()\n",
    "final_model.fit(train_x, train_y)\n",
    "print(\"Training took {} seconds\".format(round(time.time() - start)))\n",
    "\n",
    "### Scoring\n",
    "start = time.time()\n",
    "score_model(final_model)\n",
    "print(\"\\nScoring took {} seconds\".format(round(time.time() - start)))"
   ]
  },
  {
   "cell_type": "markdown",
   "metadata": {},
   "source": [
    "---\n",
    "<a id=\"feat_importance\"></a>\n",
    "\n",
    "# [^](#toc) <u>Feature Importance</u>\n",
    "\n",
    "Runs an Extra Trees Classifier on a sample of the data and determines the data's most important features."
   ]
  },
  {
   "cell_type": "code",
   "execution_count": 38,
   "metadata": {},
   "outputs": [
    {
     "data": {
      "image/png": "[encoded data removed]",
      "text/plain": [
       "<matplotlib.figure.Figure at 0x1a21addc50>"
      ]
     },
     "metadata": {},
     "output_type": "display_data"
    }
   ],
   "source": [
    "# Setup Extra Trees model\n",
    "et_model = ExtraTreesClassifier()\n",
    "et_model.fit(train_x[:10000], train_y[:10000])\n",
    "\n",
    "# Get important features\n",
    "x, y = (list(x) for x in zip(*sorted(zip(et_model.feature_importances_, train_x.columns), \n",
    "                                                            reverse = False)))\n",
    "\n",
    "### Styling\n",
    "sns.set(font_scale=2)\n",
    "plt.figure(figsize=(14, 12))\n",
    "plt.title(\"25 Most important features for model\")\n",
    "\n",
    "# Plot important features\n",
    "_ = sns.barplot(x[-25:], y[-25:])"
   ]
  },
  {
   "cell_type": "code",
   "execution_count": null,
   "metadata": {
    "collapsed": true
   },
   "outputs": [],
   "source": []
  }
 ],
 "metadata": {
  "kernelspec": {
   "display_name": "Python 3",
   "language": "python",
   "name": "python3"
  },
  "language_info": {
   "codemirror_mode": {
    "name": "ipython",
    "version": 3
   },
   "file_extension": ".py",
   "mimetype": "text/x-python",
   "name": "python",
   "nbconvert_exporter": "python",
   "pygments_lexer": "ipython3",
   "version": "3.6.3"
  }
 },
 "nbformat": 4,
 "nbformat_minor": 2
}
