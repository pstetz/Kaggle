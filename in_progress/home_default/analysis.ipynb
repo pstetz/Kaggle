{
 "cells": [
  {
   "cell_type": "markdown",
   "metadata": {},
   "source": [
    "# Analysis\n",
    "\n",
    "### Imports"
   ]
  },
  {
   "cell_type": "code",
   "execution_count": 1,
   "metadata": {
    "collapsed": true
   },
   "outputs": [],
   "source": [
    "import pandas as pd\n",
    "import numpy as np\n",
    "import time\n",
    "\n",
    "import matplotlib.pyplot as plt\n",
    "import seaborn as sns\n",
    "%matplotlib inline\n",
    "sns.set()\n",
    "\n",
    "DATA_PATH = \"../../data/home_default/\""
   ]
  },
  {
   "cell_type": "markdown",
   "metadata": {},
   "source": [
    "### Styling helpers"
   ]
  },
  {
   "cell_type": "code",
   "execution_count": 9,
   "metadata": {
    "collapsed": true
   },
   "outputs": [],
   "source": [
    "# A short hand way to plot most bar graphs\n",
    "def pretty_bar(data, ax, xlabel=None, ylabel=None, title=None, int_text=False):\n",
    "    \n",
    "    # Plots the data\n",
    "    fig = sns.barplot(data.values, data.index, ax=ax)\n",
    "    \n",
    "    # Places text for each value in data\n",
    "    for i, v in enumerate(data.values):\n",
    "        \n",
    "        # Decides whether the text should be rounded or left as floats\n",
    "        if int_text:\n",
    "            ax.text(0, i, int(v), color='k', fontsize=14)\n",
    "        else:\n",
    "            ax.text(0, i, round(v, 3), color='k', fontsize=14)\n",
    "     \n",
    "    ### Labels plot\n",
    "    ylabel != None and fig.set(ylabel=ylabel)\n",
    "    xlabel != None and fig.set(xlabel=xlabel)\n",
    "    title != None and fig.set(title=title)\n",
    "\n",
    "    \n",
    "### Used to style Python print statements\n",
    "class color:\n",
    "    BOLD = '\\033[1m'\n",
    "    UNDERLINE = '\\033[4m'\n",
    "    END = '\\033[0m'"
   ]
  },
  {
   "cell_type": "markdown",
   "metadata": {},
   "source": [
    "# Table of Contents\n",
    "\n",
    "1.) [Train and Test](#train_test)\n",
    "\n",
    "2.) [Bureau](#bureau)\n",
    "\n",
    "3.) [Bureau Balance](#bureau_balance)\n",
    "\n",
    "4.) [POS CASH](#pos_cash)\n",
    "\n",
    "5.) [Credit Card Balance](#credit_card)\n",
    "\n",
    "6.) [Previous Application](#prev_app)\n",
    "\n",
    "7.) [Installments Payments](#install_payments)"
   ]
  },
  {
   "cell_type": "markdown",
   "metadata": {},
   "source": [
    "<a name=\"train_test\"></a>\n",
    "\n",
    "### {train|test}.csv\n",
    "\n",
    "(Open to see description of columns)\n",
    "\n",
    "<div hidden>\n",
    "\n",
    ",Row,Description,Special\n",
    "\n",
    "1,SK_ID_CURR,ID of loan in our sample,\n",
    "2,TARGET,\"Target variable (1 - client with payment difficulties: he/she had late payment more than X days on at least one of the first Y installments of the loan in our sample, 0 - all other cases)\",\n",
    "5,NAME_CONTRACT_TYPE,Identification if loan is cash or revolving,\n",
    "6,CODE_GENDER,Gender of the client,\n",
    "7,FLAG_OWN_CAR,Flag if the client owns a car,\n",
    "8,FLAG_OWN_REALTY,Flag if client owns a house or flat,\n",
    "9,CNT_CHILDREN,Number of children the client has,\n",
    "10,AMT_INCOME_TOTAL,Income of the client,\n",
    "11,AMT_CREDIT,Credit amount of the loan,\n",
    "12,AMT_ANNUITY,Loan annuity,\n",
    "13,AMT_GOODS_PRICE,For consumer loans it is the price of the goods for which the loan is given,\n",
    "14,NAME_TYPE_SUITE,Who was accompanying client when he was applying for the loan,\n",
    "15,NAME_INCOME_TYPE,\"Clients income type (businessman, working, maternity leave,Ö)\",\n",
    "16,NAME_EDUCATION_TYPE,Level of highest education the client achieved,\n",
    "17,NAME_FAMILY_STATUS,Family status of the client,\n",
    "18,NAME_HOUSING_TYPE,\"What is the housing situation of the client (renting, living with parents, ...)\",\n",
    "19,REGION_POPULATION_RELATIVE,Normalized population of region where client lives (higher number means the client lives in more populated region),normalized \n",
    "20,DAYS_BIRTH,Client's age in days at the time of application,time only relative to the application\n",
    "21,DAYS_EMPLOYED,How many days before the application the person started current employment,time only relative to the application\n",
    "22,DAYS_REGISTRATION,How many days before the application did client change his registration,time only relative to the application\n",
    "23,DAYS_ID_PUBLISH,How many days before the application did client change the identity document with which he applied for the loan,time only relative to the application\n",
    "24,OWN_CAR_AGE,Age of client's car,\n",
    "25,FLAG_MOBIL,\"Did client provide mobile phone (1=YES, 0=NO)\",\n",
    "26,FLAG_EMP_PHONE,\"Did client provide work phone (1=YES, 0=NO)\",\n",
    "27,FLAG_WORK_PHONE,\"Did client provide home phone (1=YES, 0=NO)\",\n",
    "28,FLAG_CONT_MOBILE,\"Was mobile phone reachable (1=YES, 0=NO)\",\n",
    "29,FLAG_PHONE,\"Did client provide home phone (1=YES, 0=NO)\",\n",
    "30,FLAG_EMAIL,\"Did client provide email (1=YES, 0=NO)\",\n",
    "31,OCCUPATION_TYPE,What kind of occupation does the client have,\n",
    "32,CNT_FAM_MEMBERS,How many family members does client have,\n",
    "33,REGION_RATING_CLIENT,\"Our rating of the region where client lives (1,2,3)\",\n",
    "34,REGION_RATING_CLIENT_W_CITY,\"Our rating of the region where client lives with taking city into account (1,2,3)\",\n",
    "35,WEEKDAY_APPR_PROCESS_START,On which day of the week did the client apply for the loan,\n",
    "36,HOUR_APPR_PROCESS_START,Approximately at what hour did the client apply for the loan,rounded\n",
    "37,REG_REGION_NOT_LIVE_REGION,\"Flag if client's permanent address does not match contact address (1=different, 0=same, at region level)\",\n",
    "38,REG_REGION_NOT_WORK_REGION,\"Flag if client's permanent address does not match work address (1=different, 0=same, at region level)\",\n",
    "39,LIVE_REGION_NOT_WORK_REGION,\"Flag if client's contact address does not match work address (1=different, 0=same, at region level)\",\n",
    "40,REG_CITY_NOT_LIVE_CITY,\"Flag if client's permanent address does not match contact address (1=different, 0=same, at city level)\",\n",
    "41,REG_CITY_NOT_WORK_CITY,\"Flag if client's permanent address does not match work address (1=different, 0=same, at city level)\",\n",
    "42,LIVE_CITY_NOT_WORK_CITY,\"Flag if client's contact address does not match work address (1=different, 0=same, at city level)\",\n",
    "43,ORGANIZATION_TYPE,Type of organization where client works,\n",
    "\n",
    "{44-46},EXT_SOURCE_{1-3},Normalized score from external data source,normalized\n",
    "\n",
    "47,APARTMENTS_AVG,\"Normalized information about building where the client lives, What is average (_AVG suffix), modus (_MODE suffix), median (_MEDI suffix) apartment size, common area, living area, age of building, number of elevators, number of entrances, state of the building, number of floor\",normalized\n",
    "48,BASEMENTAREA_AVG,\"Normalized information about building where the client lives, What is average (_AVG suffix), modus (_MODE suffix), median (_MEDI suffix) apartment size, common area, living area, age of building, number of elevators, number of entrances, state of the building, number of floor\",normalized\n",
    "49,YEARS_BEGINEXPLUATATION_AVG,\"Normalized information about building where the client lives, What is average (_AVG suffix), modus (_MODE suffix), median (_MEDI suffix) apartment size, common area, living area, age of building, number of elevators, number of entrances, state of the building, number of floor\",normalized\n",
    "50,YEARS_BUILD_AVG,\"Normalized information about building where the client lives, What is average (_AVG suffix), modus (_MODE suffix), median (_MEDI suffix) apartment size, common area, living area, age of building, number of elevators, number of entrances, state of the building, number of floor\",normalized\n",
    "51,COMMONAREA_AVG,\"Normalized information about building where the client lives, What is average (_AVG suffix), modus (_MODE suffix), median (_MEDI suffix) apartment size, common area, living area, age of building, number of elevators, number of entrances, state of the building, number of floor\",normalized\n",
    "\n",
    "52,ELEVATORS_AVG,\"Normalized information about building where the client lives, What is average (_AVG suffix), modus (_MODE suffix), median (_MEDI suffix) apartment size, common area, living area, age of \n",
    "building, number of elevators, number of entrances, state of the building, number of floor\",normalized\n",
    "\n",
    "53,ENTRANCES_AVG,\"Normalized information about building where the client lives, What is average (_AVG suffix), modus (_MODE suffix), median (_MEDI suffix) apartment size, common area, living area, age of building, number of elevators, number of entrances, state of the building, number of floor\",normalized\n",
    "54,FLOORSMAX_AVG,\"Normalized information about building where the client lives, What is average (_AVG suffix), modus (_MODE suffix), median (_MEDI suffix) apartment size, common area, living area, age of building, number of elevators, number of entrances, state of the building, number of floor\",normalized\n",
    "55,FLOORSMIN_AVG,\"Normalized information about building where the client lives, What is average (_AVG suffix), modus (_MODE suffix), median (_MEDI suffix) apartment size, common area, living area, age of building, number of elevators, number of entrances, state of the building, number of floor\",normalized\n",
    "56,LANDAREA_AVG,\"Normalized information about building where the client lives, What is average (_AVG suffix), modus (_MODE suffix), median (_MEDI suffix) apartment size, common area, living area, age of building, number of elevators, number of entrances, state of the building, number of floor\",normalized\n",
    "57,LIVINGAPARTMENTS_AVG,\"Normalized information about building where the client lives, What is average (_AVG suffix), modus (_MODE suffix), median (_MEDI suffix) apartment size, common area, living area, age of building, number of elevators, number of entrances, state of the building, number of floor\",normalized\n",
    "58,LIVINGAREA_AVG,\"Normalized information about building where the client lives, What is average (_AVG suffix), modus (_MODE suffix), median (_MEDI suffix) apartment size, common area, living area, age of building, number of elevators, number of entrances, state of the building, number of floor\",normalized\n",
    "59,NONLIVINGAPARTMENTS_AVG,\"Normalized information about building where the client lives, What is average (_AVG suffix), modus (_MODE suffix), median (_MEDI suffix) apartment size, common area, living area, age of building, number of elevators, number of entrances, state of the building, number of floor\",normalized\n",
    "60,NONLIVINGAREA_AVG,\"Normalized information about building where the client lives, What is average (_AVG suffix), modus (_MODE suffix), median (_MEDI suffix) apartment size, common area, living area, age of building, number of elevators, number of entrances, state of the building, number of floor\",normalized\n",
    "61,APARTMENTS_MODE,\"Normalized information about building where the client lives, What is average (_AVG suffix), modus (_MODE suffix), median (_MEDI suffix) apartment size, common area, living area, age of building, number of elevators, number of entrances, state of the building, number of floor\",normalized\n",
    "62,BASEMENTAREA_MODE,\"Normalized information about building where the client lives, What is average (_AVG suffix), modus (_MODE suffix), median (_MEDI suffix) apartment size, common area, living area, age of building, number of elevators, number of entrances, state of the building, number of floor\",normalized\n",
    "63,YEARS_BEGINEXPLUATATION_MODE,\"Normalized information about building where the client lives, What is average (_AVG suffix), modus (_MODE suffix), median (_MEDI suffix) apartment size, common area, living area, age of building, number of elevators, number of entrances, state of the building, number of floor\",normalized\n",
    "64,YEARS_BUILD_MODE,\"Normalized information about building where the client lives, What is average (_AVG suffix), modus (_MODE suffix), median (_MEDI suffix) apartment size, common area, living area, age of building, number of elevators, number of entrances, state of the building, number of floor\",normalized\n",
    "65,COMMONAREA_MODE,\"Normalized information about building where the client lives, What is average (_AVG suffix), modus (_MODE suffix), median (_MEDI suffix) apartment size, common area, living area, age of building, number of elevators, number of entrances, state of the building, number of floor\",normalized\n",
    "66,ELEVATORS_MODE,\"Normalized information about building where the client lives, What is average (_AVG suffix), modus (_MODE suffix), median (_MEDI suffix) apartment size, common area, living area, age of building, number of elevators, number of entrances, state of the building, number of floor\",normalized\n",
    "67,ENTRANCES_MODE,\"Normalized information about building where the client lives, What is average (_AVG suffix), modus (_MODE suffix), median (_MEDI suffix) apartment size, common area, living area, age of building, number of elevators, number of entrances, state of the building, number of floor\",normalized\n",
    "68,FLOORSMAX_MODE,\"Normalized information about building where the client lives, What is average (_AVG suffix), modus (_MODE suffix), median (_MEDI suffix) apartment size, common area, living area, age of building, number of elevators, number of entrances, state of the building, number of floor\",normalized\n",
    "69,FLOORSMIN_MODE,\"Normalized information about building where the client lives, What is average (_AVG suffix), modus (_MODE suffix), median (_MEDI suffix) apartment size, common area, living area, age of building, number of elevators, number of entrances, state of the building, number of floor\",normalized\n",
    "70,LANDAREA_MODE,\"Normalized information about building where the client lives, What is average (_AVG suffix), modus (_MODE suffix), median (_MEDI suffix) apartment size, common area, living area, age of building, number of elevators, number of entrances, state of the building, number of floor\",normalized\n",
    "71,LIVINGAPARTMENTS_MODE,\"Normalized information about building where the client lives, What is average (_AVG suffix), modus (_MODE suffix), median (_MEDI suffix) apartment size, common area, living area, age of building, number of elevators, number of entrances, state of the building, number of floor\",normalized\n",
    "72,LIVINGAREA_MODE,\"Normalized information about building where the client lives, What is average (_AVG suffix), modus (_MODE suffix), median (_MEDI suffix) apartment size, common area, living area, age of building, number of elevators, number of entrances, state of the building, number of floor\",normalized\n",
    "73,NONLIVINGAPARTMENTS_MODE,\"Normalized information about building where the client lives, What is average (_AVG suffix), modus (_MODE suffix), median (_MEDI suffix) apartment size, common area, living area, age of building, number of elevators, number of entrances, state of the building, number of floor\",normalized\n",
    "74,NONLIVINGAREA_MODE,\"Normalized information about building where the client lives, What is average (_AVG suffix), modus (_MODE suffix), median (_MEDI suffix) apartment size, common area, living area, age of building, number of elevators, number of entrances, state of the building, number of floor\",normalized\n",
    "75,APARTMENTS_MEDI,\"Normalized information about building where the client lives, What is average (_AVG suffix), modus (_MODE suffix), median (_MEDI suffix) apartment size, common area, living area, age of building, number of elevators, number of entrances, state of the building, number of floor\",normalized\n",
    "76,BASEMENTAREA_MEDI,\"Normalized information about building where the client lives, What is average (_AVG suffix), modus (_MODE suffix), median (_MEDI suffix) apartment size, common area, living area, age of building, number of elevators, number of entrances, state of the building, number of floor\",normalized\n",
    "77,YEARS_BEGINEXPLUATATION_MEDI,\"Normalized information about building where the client lives, What is average (_AVG suffix), modus (_MODE suffix), median (_MEDI suffix) apartment size, common area, living area, age of building, number of elevators, number of entrances, state of the building, number of floor\",normalized\n",
    "78,YEARS_BUILD_MEDI,\"Normalized information about building where the client lives, What is average (_AVG suffix), modus (_MODE suffix), median (_MEDI suffix) apartment size, common area, living area, age of building, number of elevators, number of entrances, state of the building, number of floor\",normalized\n",
    "79,COMMONAREA_MEDI,\"Normalized information about building where the client lives, What is average (_AVG suffix), modus (_MODE suffix), median (_MEDI suffix) apartment size, common area, living area, age of building, number of elevators, number of entrances, state of the building, number of floor\",normalized\n",
    "80,ELEVATORS_MEDI,\"Normalized information about building where the client lives, What is average (_AVG suffix), modus (_MODE suffix), median (_MEDI suffix) apartment size, common area, living area, age of building, number of elevators, number of entrances, state of the building, number of floor\",normalized\n",
    "81,ENTRANCES_MEDI,\"Normalized information about building where the client lives, What is average (_AVG suffix), modus (_MODE suffix), median (_MEDI suffix) apartment size, common area, living area, age of building, number of elevators, number of entrances, state of the building, number of floor\",normalized\n",
    "82,FLOORSMAX_MEDI,\"Normalized information about building where the client lives, What is average (_AVG suffix), modus (_MODE suffix), median (_MEDI suffix) apartment size, common area, living area, age of building, number of elevators, number of entrances, state of the building, number of floor\",normalized\n",
    "83,FLOORSMIN_MEDI,\"Normalized information about building where the client lives, What is average (_AVG suffix), modus (_MODE suffix), median (_MEDI suffix) apartment size, common area, living area, age of building, number of elevators, number of entrances, state of the building, number of floor\",normalized\n",
    "84,LANDAREA_MEDI,\"Normalized information about building where the client lives, What is average (_AVG suffix), modus (_MODE suffix), median (_MEDI suffix) apartment size, common area, living area, age of building, number of elevators, number of entrances, state of the building, number of floor\",normalized\n",
    "85,LIVINGAPARTMENTS_MEDI,\"Normalized information about building where the client lives, What is average (_AVG suffix), modus (_MODE suffix), median (_MEDI suffix) apartment size, common area, living area, age of building, number of elevators, number of entrances, state of the building, number of floor\",normalized\n",
    "86,LIVINGAREA_MEDI,\"Normalized information about building where the client lives, What is average (_AVG suffix), modus (_MODE suffix), median (_MEDI suffix) apartment size, common area, living area, age of building, number of elevators, number of entrances, state of the building, number of floor\",normalized\n",
    "87,NONLIVINGAPARTMENTS_MEDI,\"Normalized information about building where the client lives, What is average (_AVG suffix), modus (_MODE suffix), median (_MEDI suffix) apartment size, common area, living area, age of building, number of elevators, number of entrances, state of the building, number of floor\",normalized\n",
    "88,NONLIVINGAREA_MEDI,\"Normalized information about building where the client lives, What is average (_AVG suffix), modus (_MODE suffix), median (_MEDI suffix) apartment size, common area, living area, age of building, number of elevators, number of entrances, state of the building, number of floor\",normalized\n",
    "89,FONDKAPREMONT_MODE,\"Normalized information about building where the client lives, What is average (_AVG suffix), modus (_MODE suffix), median (_MEDI suffix) apartment size, common area, living area, age of building, number of elevators, number of entrances, state of the building, number of floor\",normalized\n",
    "90,HOUSETYPE_MODE,\"Normalized information about building where the client lives, What is average (_AVG suffix), modus (_MODE suffix), median (_MEDI suffix) apartment size, common area, living area, age of building, number of elevators, number of entrances, state of the building, number of floor\",normalized\n",
    "91,TOTALAREA_MODE,\"Normalized information about building where the client lives, What is average (_AVG suffix), modus (_MODE suffix), median (_MEDI suffix) apartment size, common area, living area, age of building, number of elevators, number of entrances, state of the building, number of floor\",normalized\n",
    "92,WALLSMATERIAL_MODE,\"Normalized information about building where the client lives, What is average (_AVG suffix), modus (_MODE suffix), median (_MEDI suffix) apartment size, common area, living area, age of building, number of elevators, number of entrances, state of the building, number of floor\",normalized\n",
    "93,EMERGENCYSTATE_MODE,\"Normalized information about building where the client lives, What is average (_AVG suffix), modus (_MODE suffix), median (_MEDI suffix) apartment size, common area, living area, age of building, number of elevators, number of entrances, state of the building, number of floor\",normalized\n",
    "94,OBS_30_CNT_SOCIAL_CIRCLE,How many observation of client's social surroundings with observable 30 DPD (days past due) default,\n",
    "95,DEF_30_CNT_SOCIAL_CIRCLE,How many observation of client's social surroundings defaulted on 30 DPD (days past due) ,\n",
    "96,OBS_60_CNT_SOCIAL_CIRCLE,How many observation of client's social surroundings with observable 60 DPD (days past due) default,\n",
    "97,DEF_60_CNT_SOCIAL_CIRCLE,How many observation of client's social surroundings defaulted on 60 (days past due) DPD,\n",
    "98,DAYS_LAST_PHONE_CHANGE,How many days before application did client change phone,\n",
    "\n",
    "{99-118},FLAG_DOCUMENT_{2-21},Did client provide document {2-21},\n",
    "\n",
    "119,AMT_REQ_CREDIT_BUREAU_HOUR,Number of enquiries to Credit Bureau about the client one hour before application,\n",
    "120,AMT_REQ_CREDIT_BUREAU_DAY,Number of enquiries to Credit Bureau about the client one day before application (excluding one hour before application),\n",
    "121,AMT_REQ_CREDIT_BUREAU_WEEK,Number of enquiries to Credit Bureau about the client one week before application (excluding one day before application),\n",
    "122,AMT_REQ_CREDIT_BUREAU_MON,Number of enquiries to Credit Bureau about the client one month before application (excluding one week before application),\n",
    "123,AMT_REQ_CREDIT_BUREAU_QRT,Number of enquiries to Credit Bureau about the client 3 month before application (excluding one month before application),\n",
    "124,AMT_REQ_CREDIT_BUREAU_YEAR,Number of enquiries to Credit Bureau about the client one day year (excluding last 3 months before application),\n",
    "\n",
    "</div>"
   ]
  },
  {
   "cell_type": "code",
   "execution_count": null,
   "metadata": {
    "collapsed": true
   },
   "outputs": [],
   "source": [
    "train = pd.read_csv(DATA_PATH + \"train.csv\")\n",
    "test  = pd.read_csv(DATA_PATH + \"test.csv\")"
   ]
  },
  {
   "cell_type": "code",
   "execution_count": 25,
   "metadata": {},
   "outputs": [
    {
     "name": "stdout",
     "output_type": "stream",
     "text": [
      "Shape of train: (307511, 122)\n",
      "Shape of test: (48744, 121)\n",
      "\n",
      "\u001b[4mColumns of train:\u001b[0m\n"
     ]
    },
    {
     "data": {
      "text/plain": [
       "array(['SK_ID_CURR', 'TARGET', 'NAME_CONTRACT_TYPE', 'CODE_GENDER',\n",
       "       'FLAG_OWN_CAR', 'FLAG_OWN_REALTY', 'CNT_CHILDREN',\n",
       "       'AMT_INCOME_TOTAL', 'AMT_CREDIT', 'AMT_ANNUITY', 'AMT_GOODS_PRICE',\n",
       "       'NAME_TYPE_SUITE', 'NAME_INCOME_TYPE', 'NAME_EDUCATION_TYPE',\n",
       "       'NAME_FAMILY_STATUS', 'NAME_HOUSING_TYPE',\n",
       "       'REGION_POPULATION_RELATIVE', 'DAYS_BIRTH', 'DAYS_EMPLOYED',\n",
       "       'DAYS_REGISTRATION', 'DAYS_ID_PUBLISH', 'OWN_CAR_AGE', 'FLAG_MOBIL',\n",
       "       'FLAG_EMP_PHONE', 'FLAG_WORK_PHONE', 'FLAG_CONT_MOBILE',\n",
       "       'FLAG_PHONE', 'FLAG_EMAIL', 'OCCUPATION_TYPE', 'CNT_FAM_MEMBERS',\n",
       "       'REGION_RATING_CLIENT', 'REGION_RATING_CLIENT_W_CITY',\n",
       "       'WEEKDAY_APPR_PROCESS_START', 'HOUR_APPR_PROCESS_START',\n",
       "       'REG_REGION_NOT_LIVE_REGION', 'REG_REGION_NOT_WORK_REGION',\n",
       "       'LIVE_REGION_NOT_WORK_REGION', 'REG_CITY_NOT_LIVE_CITY',\n",
       "       'REG_CITY_NOT_WORK_CITY', 'LIVE_CITY_NOT_WORK_CITY',\n",
       "       'ORGANIZATION_TYPE', 'EXT_SOURCE_1', 'EXT_SOURCE_2', 'EXT_SOURCE_3',\n",
       "       'APARTMENTS_AVG', 'BASEMENTAREA_AVG', 'YEARS_BEGINEXPLUATATION_AVG',\n",
       "       'YEARS_BUILD_AVG', 'COMMONAREA_AVG', 'ELEVATORS_AVG',\n",
       "       'ENTRANCES_AVG', 'FLOORSMAX_AVG', 'FLOORSMIN_AVG', 'LANDAREA_AVG',\n",
       "       'LIVINGAPARTMENTS_AVG', 'LIVINGAREA_AVG', 'NONLIVINGAPARTMENTS_AVG',\n",
       "       'NONLIVINGAREA_AVG', 'APARTMENTS_MODE', 'BASEMENTAREA_MODE',\n",
       "       'YEARS_BEGINEXPLUATATION_MODE', 'YEARS_BUILD_MODE',\n",
       "       'COMMONAREA_MODE', 'ELEVATORS_MODE', 'ENTRANCES_MODE',\n",
       "       'FLOORSMAX_MODE', 'FLOORSMIN_MODE', 'LANDAREA_MODE',\n",
       "       'LIVINGAPARTMENTS_MODE', 'LIVINGAREA_MODE',\n",
       "       'NONLIVINGAPARTMENTS_MODE', 'NONLIVINGAREA_MODE', 'APARTMENTS_MEDI',\n",
       "       'BASEMENTAREA_MEDI', 'YEARS_BEGINEXPLUATATION_MEDI',\n",
       "       'YEARS_BUILD_MEDI', 'COMMONAREA_MEDI', 'ELEVATORS_MEDI',\n",
       "       'ENTRANCES_MEDI', 'FLOORSMAX_MEDI', 'FLOORSMIN_MEDI',\n",
       "       'LANDAREA_MEDI', 'LIVINGAPARTMENTS_MEDI', 'LIVINGAREA_MEDI',\n",
       "       'NONLIVINGAPARTMENTS_MEDI', 'NONLIVINGAREA_MEDI',\n",
       "       'FONDKAPREMONT_MODE', 'HOUSETYPE_MODE', 'TOTALAREA_MODE',\n",
       "       'WALLSMATERIAL_MODE', 'EMERGENCYSTATE_MODE',\n",
       "       'OBS_30_CNT_SOCIAL_CIRCLE', 'DEF_30_CNT_SOCIAL_CIRCLE',\n",
       "       'OBS_60_CNT_SOCIAL_CIRCLE', 'DEF_60_CNT_SOCIAL_CIRCLE',\n",
       "       'DAYS_LAST_PHONE_CHANGE', 'FLAG_DOCUMENT_2', 'FLAG_DOCUMENT_3',\n",
       "       'FLAG_DOCUMENT_4', 'FLAG_DOCUMENT_5', 'FLAG_DOCUMENT_6',\n",
       "       'FLAG_DOCUMENT_7', 'FLAG_DOCUMENT_8', 'FLAG_DOCUMENT_9',\n",
       "       'FLAG_DOCUMENT_10', 'FLAG_DOCUMENT_11', 'FLAG_DOCUMENT_12',\n",
       "       'FLAG_DOCUMENT_13', 'FLAG_DOCUMENT_14', 'FLAG_DOCUMENT_15',\n",
       "       'FLAG_DOCUMENT_16', 'FLAG_DOCUMENT_17', 'FLAG_DOCUMENT_18',\n",
       "       'FLAG_DOCUMENT_19', 'FLAG_DOCUMENT_20', 'FLAG_DOCUMENT_21',\n",
       "       'AMT_REQ_CREDIT_BUREAU_HOUR', 'AMT_REQ_CREDIT_BUREAU_DAY',\n",
       "       'AMT_REQ_CREDIT_BUREAU_WEEK', 'AMT_REQ_CREDIT_BUREAU_MON',\n",
       "       'AMT_REQ_CREDIT_BUREAU_QRT', 'AMT_REQ_CREDIT_BUREAU_YEAR'], dtype=object)"
      ]
     },
     "execution_count": 25,
     "metadata": {},
     "output_type": "execute_result"
    }
   ],
   "source": [
    "print(\"Shape of train:\", train.shape)\n",
    "print(\"Shape of test:\",  test.shape)\n",
    "\n",
    "print(\"\\n{}Columns of train:{}\".format(color.UNDERLINE, color.END))\n",
    "train.columns.values"
   ]
  },
  {
   "cell_type": "markdown",
   "metadata": {},
   "source": []
  },
  {
   "cell_type": "code",
   "execution_count": null,
   "metadata": {
    "collapsed": true
   },
   "outputs": [],
   "source": []
  },
  {
   "cell_type": "markdown",
   "metadata": {},
   "source": [
    "<a name=\"bureau\"></a>\n",
    "\n",
    "### bureau.csv\n",
    "\n",
    "(Open to see description of columns)\n",
    "\n",
    "<div hidden>\n",
    "\n",
    ",Row,Description,Special\n",
    "\n",
    "125,SK_ID_CURR,\"ID of loan in our sample - one loan in our sample can have 0,1,2 or more related previous credits in credit bureau \",hashed\n",
    "126,SK_BUREAU_ID,Recoded ID of previous Credit Bureau credit related to our loan (unique coding for each loan application),hashed\n",
    "127,CREDIT_ACTIVE,Status of the Credit Bureau (CB) reported credits,\n",
    "128,CREDIT_CURRENCY,Recoded currency of the Credit Bureau credit,recoded\n",
    "129,DAYS_CREDIT,How many days before current application did client apply for Credit Bureau credit,time only relative to the application\n",
    "130,CREDIT_DAY_OVERDUE,Number of days past due on CB credit at the time of application for related loan in our sample,\n",
    "131,DAYS_CREDIT_ENDDATE,Remaining duration of CB credit (in days) at the time of application in Home Credit,time only relative to the application\n",
    "132,DAYS_ENDDATE_FACT,Days since CB credit ended at the time of application in Home Credit (only for closed credit),time only relative to the application\n",
    "133,AMT_CREDIT_MAX_OVERDUE,Maximal amount overdue on the Credit Bureau credit so far (at application date of loan in our sample),\n",
    "134,CNT_CREDIT_PROLONG,How many times was the Credit Bureau credit prolonged,\n",
    "135,AMT_CREDIT_SUM,Current credit amount for the Credit Bureau credit,\n",
    "136,AMT_CREDIT_SUM_DEBT,Current debt on Credit Bureau credit,\n",
    "137,AMT_CREDIT_SUM_LIMIT,Current credit limit of credit card reported in Credit Bureau,\n",
    "138,AMT_CREDIT_SUM_OVERDUE,Current amount overdue on Credit Bureau credit,\n",
    "139,CREDIT_TYPE,\"Type of Credit Bureau credit (Car, cash,...)\",\n",
    "140,DAYS_CREDIT_UPDATE,How many days before loan application did last information about the Credit Bureau credit come,time only relative to the application\n",
    "141,AMT_ANNUITY,Annuity of the Credit Bureau credit,\n",
    "\n",
    "</div>"
   ]
  },
  {
   "cell_type": "code",
   "execution_count": 18,
   "metadata": {},
   "outputs": [
    {
     "name": "stdout",
     "output_type": "stream",
     "text": [
      "Shape of bureau: (1716428, 17)\n",
      "\n",
      "\u001b[4mColumns of bureau:\u001b[0m\n",
      "SK_ID_CURR --- SK_ID_BUREAU --- CREDIT_ACTIVE --- CREDIT_CURRENCY --- DAYS_CREDIT --- CREDIT_DAY_OVERDUE --- DAYS_CREDIT_ENDDATE --- DAYS_ENDDATE_FACT --- AMT_CREDIT_MAX_OVERDUE --- CNT_CREDIT_PROLONG --- AMT_CREDIT_SUM --- AMT_CREDIT_SUM_DEBT --- AMT_CREDIT_SUM_LIMIT --- AMT_CREDIT_SUM_OVERDUE --- CREDIT_TYPE --- DAYS_CREDIT_UPDATE --- AMT_ANNUITY\n"
     ]
    }
   ],
   "source": [
    "bureau = pd.read_csv(DATA_PATH + \"bureau.csv\")\n",
    "print(\"Shape of bureau:\",  bureau.shape)\n",
    "\n",
    "print(\"\\n{}Columns of bureau:{}\".format(color.UNDERLINE, color.END))\n",
    "print(\" --- \".join(bureau.columns.values))"
   ]
  },
  {
   "cell_type": "markdown",
   "metadata": {},
   "source": [
    "<a name=\"bureau_balance\"></a>\n",
    "\n",
    "### bureau_balance.csv\n",
    "\n",
    "(Open to see description of columns)\n",
    "\n",
    "<div hidden>\n",
    "\n",
    ",Row,Description,Special\n",
    "\n",
    "142,SK_BUREAU_ID,Recoded ID of Credit Bureau credit (unique coding for each application) - use this to join to CREDIT_BUREAU table ,hashed\n",
    "143,MONTHS_BALANCE,Month of balance relative to application date (-1 means the freshest balance date),time only relative to the application\n",
    "144,STATUS,\"Status of Credit Bureau loan during the month (active, closed, DPD0-30,Ö [C means closed, X means status unknown, 0 means no DPD, 1 means maximal did during month between 1-30, 2 means DPD 31-60,Ö 5 means DPD 120+ or sold or written off ] )\",\n",
    "\n",
    "</div>"
   ]
  },
  {
   "cell_type": "code",
   "execution_count": 19,
   "metadata": {},
   "outputs": [
    {
     "name": "stdout",
     "output_type": "stream",
     "text": [
      "Shape of bureau_balance: (27299925, 3)\n",
      "\n",
      "\u001b[4mColumns of bureau_balance:\u001b[0m\n",
      "SK_ID_BUREAU --- MONTHS_BALANCE --- STATUS\n"
     ]
    }
   ],
   "source": [
    "bureau_balance = pd.read_csv(DATA_PATH + \"bureau_balance.csv\")\n",
    "print(\"Shape of bureau_balance:\",  bureau_balance.shape)\n",
    "\n",
    "print(\"\\n{}Columns of bureau_balance:{}\".format(color.UNDERLINE, color.END))\n",
    "print(\" --- \".join(bureau_balance.columns.values))"
   ]
  },
  {
   "cell_type": "markdown",
   "metadata": {},
   "source": [
    "### Let's look at Status, maybe there's a bad status"
   ]
  },
  {
   "cell_type": "code",
   "execution_count": 28,
   "metadata": {},
   "outputs": [
    {
     "data": {
      "text/plain": [
       "C    13646993\n",
       "0     7499507\n",
       "X     5810482\n",
       "1      242347\n",
       "5       62406\n",
       "2       23419\n",
       "3        8924\n",
       "4        5847\n",
       "Name: STATUS, dtype: int64"
      ]
     },
     "execution_count": 28,
     "metadata": {},
     "output_type": "execute_result"
    }
   ],
   "source": [
    "bureau_balance.groupby(\"\")[\"STATUS\"].head()"
   ]
  },
  {
   "cell_type": "markdown",
   "metadata": {},
   "source": [
    "### Notes:\n",
    "\n",
    "Okay so we see that the variable SK_ID_BUREAU should be connected to the bureau.csv table"
   ]
  },
  {
   "cell_type": "code",
   "execution_count": 24,
   "metadata": {},
   "outputs": [
    {
     "data": {
      "text/plain": [
       "0            0\n",
       "1           -1\n",
       "2           -2\n",
       "3           -3\n",
       "4           -4\n",
       "5           -5\n",
       "6           -6\n",
       "7           -7\n",
       "8           -8\n",
       "9           -9\n",
       "10         -10\n",
       "11         -11\n",
       "12         -12\n",
       "13         -13\n",
       "14         -14\n",
       "15         -15\n",
       "16         -16\n",
       "17         -17\n",
       "18         -18\n",
       "19         -19\n",
       "20         -20\n",
       "21         -21\n",
       "22         -22\n",
       "23         -23\n",
       "24         -24\n",
       "25         -25\n",
       "26         -26\n",
       "27           0\n",
       "28          -1\n",
       "29          -2\n",
       "            ..\n",
       "27299895   -18\n",
       "27299896   -19\n",
       "27299897   -20\n",
       "27299898   -21\n",
       "27299899   -22\n",
       "27299900   -23\n",
       "27299901   -28\n",
       "27299902   -29\n",
       "27299903   -30\n",
       "27299904   -31\n",
       "27299905   -32\n",
       "27299906   -33\n",
       "27299907   -34\n",
       "27299908   -35\n",
       "27299909   -36\n",
       "27299910   -37\n",
       "27299911   -38\n",
       "27299912   -39\n",
       "27299913   -40\n",
       "27299914   -41\n",
       "27299915   -42\n",
       "27299916   -43\n",
       "27299917   -44\n",
       "27299918   -45\n",
       "27299919   -46\n",
       "27299920   -47\n",
       "27299921   -48\n",
       "27299922   -49\n",
       "27299923   -50\n",
       "27299924   -51\n",
       "Name: MONTHS_BALANCE, Length: 27299925, dtype: int64"
      ]
     },
     "execution_count": 24,
     "metadata": {},
     "output_type": "execute_result"
    }
   ],
   "source": [
    "bureau_balance.MONTHS_BALANCEONTHS_BALANCE.value"
   ]
  },
  {
   "cell_type": "markdown",
   "metadata": {},
   "source": [
    "<a name=\"pos_cash\"></a>\n",
    "\n",
    "### POS_CASH_balance.csv\n",
    "\n",
    "(Open to see description of columns)\n",
    "\n",
    "<div hidden>\n",
    "\n",
    ",Row,Description,Special\n",
    "\n",
    "145,SK_ID_PREV ,\"ID of previous credit in Home Credit related to loan in our sample. (One loan in our sample can have 0,1,2 or more previous loans in Home Credit)\",\n",
    "146,SK_ID_CURR,ID of loan in our sample,\n",
    "147,MONTHS_BALANCE,\"Month of balance relative to application date (-1 means the information to the freshest monthly snapshot, 0 means the information at application - often it will be the same as -1 as many banks are not updating the information to Credit Bureau regularly )\",time only relative to the application\n",
    "148,CNT_INSTALMENT,Term of previous credit (can change over time),\n",
    "149,CNT_INSTALMENT_FUTURE,Installments left to pay on the previous credit,\n",
    "150,NAME_CONTRACT_STATUS,Contract status during the month,\n",
    "151,SK_DPD,DPD (days past due) during the month of previous credit,\n",
    "152,SK_DPD_DEF,DPD during the month with tolerance (debts with low loan amounts are ignored) of the previous credit,\n",
    "\n",
    "\n",
    "</div>"
   ]
  },
  {
   "cell_type": "code",
   "execution_count": 20,
   "metadata": {},
   "outputs": [
    {
     "name": "stdout",
     "output_type": "stream",
     "text": [
      "Shape of pcb: (10001358, 8)\n",
      "\n",
      "\u001b[4mColumns of pcb:\u001b[0m\n",
      "SK_ID_PREV --- SK_ID_CURR --- MONTHS_BALANCE --- CNT_INSTALMENT --- CNT_INSTALMENT_FUTURE --- NAME_CONTRACT_STATUS --- SK_DPD --- SK_DPD_DEF\n"
     ]
    }
   ],
   "source": [
    "pcb = pd.read_csv(DATA_PATH + \"POS_CASH_balance.csv\")\n",
    "print(\"Shape of pcb:\",  pcb.shape)\n",
    "\n",
    "print(\"\\n{}Columns of pcb:{}\".format(color.UNDERLINE, color.END))\n",
    "print(\" --- \".join(pcb.columns.values))"
   ]
  },
  {
   "cell_type": "markdown",
   "metadata": {
    "collapsed": true
   },
   "source": [
    "<a name=\"credit_card\"></a>\n",
    "\n",
    "### credit_card_balance.csv\n",
    "\n",
    "(Open to see description of columns)\n",
    "\n",
    "\n",
    "<div hidden>\n",
    "\n",
    ",Row,Description,Special\n",
    "\n",
    "153,SK_ID_PREV ,\"ID of previous credit in Home credit related to loan in our sample. (One loan in our sample can have 0,1,2 or more previous loans in Home Credit)\",hashed\n",
    "154,SK_ID_CURR,ID of loan in our sample,hashed\n",
    "155,MONTHS_BALANCE,Month of balance relative to application date (-1 means the freshest balance date),time only relative to the application\n",
    "156,AMT_BALANCE,Balance during the month of previous credit,\n",
    "157,AMT_CREDIT_LIMIT_ACTUAL,Credit card limit during the month of the previous credit,\n",
    "158,AMT_DRAWINGS_ATM_CURRENT,Amount drawing at ATM during the month of the previous credit,\n",
    "159,AMT_DRAWINGS_CURRENT,Amount drawing during the month of the previous credit,\n",
    "160,AMT_DRAWINGS_OTHER_CURRENT,Amount of other drawings during the month of the previous credit,\n",
    "161,AMT_DRAWINGS_POS_CURRENT,Amount drawing or buying goods during the month of the previous credit,\n",
    "162,AMT_INST_MIN_REGULARITY,Minimal installment for this month of the previous credit,\n",
    "163,AMT_PAYMENT_CURRENT,How much did the client pay during the month on the previous credit,\n",
    "164,AMT_PAYMENT_TOTAL_CURRENT,How much did the client pay during the month in total on the previous credit,\n",
    "165,AMT_RECEIVABLE_PRINCIPAL,Amount receivable for principal on the previous credit,\n",
    "166,AMT_RECIVABLE,Amount receivable on the previous credit,\n",
    "167,AMT_TOTAL_RECEIVABLE,Total amount receivable on the previous credit,\n",
    "168,CNT_DRAWINGS_ATM_CURRENT,Number of drawings at ATM during this month on the previous credit,\n",
    "169,CNT_DRAWINGS_CURRENT,Number of drawings during this month on the previous credit,\n",
    "170,CNT_DRAWINGS_OTHER_CURRENT,Number of other drawings during this month on the previous credit,\n",
    "171,CNT_DRAWINGS_POS_CURRENT,Number of drawings for goods during this month on the previous credit,\n",
    "172,CNT_INSTALMENT_MATURE_CUM,Number of paid installments on the previous credit,\n",
    "173,NAME_CONTRACT_STATUS,\"Contract status (active signed,...) on the previous credit\",\n",
    "174,SK_DPD,DPD (Days past due) during the month on the previous credit,\n",
    "175,SK_DPD_DEF,DPD (Days past due) during the month with tolerance (debts with low loan amounts are ignored) of the previous credit,\n",
    "\n",
    "</div>"
   ]
  },
  {
   "cell_type": "code",
   "execution_count": 21,
   "metadata": {},
   "outputs": [
    {
     "name": "stdout",
     "output_type": "stream",
     "text": [
      "Shape of credit_card: (3840312, 23)\n",
      "\n",
      "\u001b[4mColumns of credit_card:\u001b[0m\n",
      "SK_ID_PREV --- SK_ID_CURR --- MONTHS_BALANCE --- AMT_BALANCE --- AMT_CREDIT_LIMIT_ACTUAL --- AMT_DRAWINGS_ATM_CURRENT --- AMT_DRAWINGS_CURRENT --- AMT_DRAWINGS_OTHER_CURRENT --- AMT_DRAWINGS_POS_CURRENT --- AMT_INST_MIN_REGULARITY --- AMT_PAYMENT_CURRENT --- AMT_PAYMENT_TOTAL_CURRENT --- AMT_RECEIVABLE_PRINCIPAL --- AMT_RECIVABLE --- AMT_TOTAL_RECEIVABLE --- CNT_DRAWINGS_ATM_CURRENT --- CNT_DRAWINGS_CURRENT --- CNT_DRAWINGS_OTHER_CURRENT --- CNT_DRAWINGS_POS_CURRENT --- CNT_INSTALMENT_MATURE_CUM --- NAME_CONTRACT_STATUS --- SK_DPD --- SK_DPD_DEF\n"
     ]
    }
   ],
   "source": [
    "credit_card = pd.read_csv(DATA_PATH + \"credit_card_balance.csv\")\n",
    "print(\"Shape of credit_card:\",  credit_card.shape)\n",
    "\n",
    "print(\"\\n{}Columns of credit_card:{}\".format(color.UNDERLINE, color.END))\n",
    "print(\" --- \".join(credit_card.columns.values))"
   ]
  },
  {
   "cell_type": "markdown",
   "metadata": {
    "collapsed": true
   },
   "source": [
    "<a name=\"prev_app\"></a>\n",
    "\n",
    "### previous_application.csv\n",
    "\n",
    "(Open to see description of columns)\n",
    "\n",
    "<div hidden>\n",
    "\n",
    ",Row,Description,Special\n",
    "\n",
    "176,SK_ID_PREV ,\"ID of previous credit in Home credit related to loan in our sample. (One loan in our sample can have 0,1,2 or more previous loan applications in Home Credit, previous application could, but not necessarily have to lead to credit) \",hashed\n",
    "177,SK_ID_CURR,ID of loan in our sample,hashed\n",
    "178,NAME_CONTRACT_TYPE,\"Contract product type (Cash loan, consumer loan [POS] ,...) of the previous application\",\n",
    "179,AMT_ANNUITY,Annuity of previous application,\n",
    "180,AMT_APPLICATION,For how much credit did client ask on the previous application,\n",
    "181,AMT_CREDIT,\"Final credit amount on the previous application. This differs from AMT_APPLICATION in a way that the AMT_APPLICATION is the amount for which the client initially applied for, but during our approval process he could have received different amount - AMT_CREDIT\",\n",
    "182,AMT_DOWN_PAYMENT,Down payment on the previous application,\n",
    "183,AMT_GOODS_PRICE,Goods price of good that client asked for (if applicable) on the previous application,\n",
    "184,WEEKDAY_APPR_PROCESS_START,On which day of the week did the client apply for previous application,\n",
    "185,HOUR_APPR_PROCESS_START,Approximately at what day hour did the client apply for the previous application,rounded\n",
    "186,FLAG_LAST_APPL_PER_CONTRACT,Flag if it was last application for the previous contract. Sometimes by mistake of client or our clerk there could be more applications for one single contract,\n",
    "187,NFLAG_LAST_APPL_IN_DAY,Flag if the application was the last application per day of the client. Sometimes clients apply for more applications a day. Rarely it could also be error in our system that one application is in the database twice,\n",
    "188,NFLAG_MICRO_CASH,Flag Micro finance loan,\n",
    "189,RATE_DOWN_PAYMENT,Down payment rate normalized on previous credit,normalized\n",
    "190,RATE_INTEREST_PRIMARY,Interest rate normalized on previous credit,normalized\n",
    "191,RATE_INTEREST_PRIVILEGED,Interest rate normalized on previous credit,normalized\n",
    "192,NAME_CASH_LOAN_PURPOSE,Purpose of the cash loan,\n",
    "193,NAME_CONTRACT_STATUS,\"Contract status (approved, cancelled, ...) of previous application\",\n",
    "194,DAYS_DECISION,Relative to current application when was the decision about previous application made,time only relative to the application\n",
    "195,NAME_PAYMENT_TYPE,Payment method that client chose to pay for the previous application,\n",
    "196,CODE_REJECT_REASON,Why was the previous application rejected,\n",
    "197,NAME_TYPE_SUITE,Who accompanied client when applying for the previous application,\n",
    "198,NAME_CLIENT_TYPE,Was the client old or new client when applying for the previous application,\n",
    "199,NAME_GOODS_CATEGORY,What kind of goods did the client apply for in the previous application,\n",
    "200,NAME_PORTFOLIO,\"Was the previous application for CASH, POS, CAR, Ö\",\n",
    "201,NAME_PRODUCT_TYPE,Was the previous application x-sell o walk-in,\n",
    "202,CHANNEL_TYPE,Through which channel we acquired the client on the previous application,\n",
    "203,SELLERPLACE_AREA,Selling area of seller place of the previous application,\n",
    "204,NAME_SELLER_INDUSTRY,The industry of the seller,\n",
    "205,CNT_PAYMENT,Term of previous credit at application of the previous application,\n",
    "206,NAME_YIELD_GROUP,Grouped interest rate into small medium and high of the previous application,grouped\n",
    "207,PRODUCT_COMBINATION,Detailed product combination of the previous application,\n",
    "208,DAYS_FIRST_DRAWING,Relative to application date of current application when was the first disbursement of the previous application,time only relative to the application\n",
    "209,DAYS_FIRST_DUE,Relative to application date of current application when was the first due supposed to be of the previous application,time only relative to the application\n",
    "210,DAYS_LAST_DUE_1ST_VERSION,Relative to application date of current application when was the first due of the previous application,time only relative to the application\n",
    "211,DAYS_LAST_DUE,Relative to application date of current application when was the last due date of the previous application,time only relative to the application\n",
    "212,DAYS_TERMINATION,Relative to application date of current application when was the expected termination of the previous application,time only relative to the application\n",
    "213,NFLAG_INSURED_ON_APPROVAL,Did the client requested insurance during the previous application,\n",
    "\n",
    "</div>"
   ]
  },
  {
   "cell_type": "code",
   "execution_count": 22,
   "metadata": {},
   "outputs": [
    {
     "name": "stdout",
     "output_type": "stream",
     "text": [
      "Shape of prev_app: (1670214, 37)\n",
      "\n",
      "\u001b[4mColumns of prev_app:\u001b[0m\n",
      "SK_ID_PREV --- SK_ID_CURR --- NAME_CONTRACT_TYPE --- AMT_ANNUITY --- AMT_APPLICATION --- AMT_CREDIT --- AMT_DOWN_PAYMENT --- AMT_GOODS_PRICE --- WEEKDAY_APPR_PROCESS_START --- HOUR_APPR_PROCESS_START --- FLAG_LAST_APPL_PER_CONTRACT --- NFLAG_LAST_APPL_IN_DAY --- RATE_DOWN_PAYMENT --- RATE_INTEREST_PRIMARY --- RATE_INTEREST_PRIVILEGED --- NAME_CASH_LOAN_PURPOSE --- NAME_CONTRACT_STATUS --- DAYS_DECISION --- NAME_PAYMENT_TYPE --- CODE_REJECT_REASON --- NAME_TYPE_SUITE --- NAME_CLIENT_TYPE --- NAME_GOODS_CATEGORY --- NAME_PORTFOLIO --- NAME_PRODUCT_TYPE --- CHANNEL_TYPE --- SELLERPLACE_AREA --- NAME_SELLER_INDUSTRY --- CNT_PAYMENT --- NAME_YIELD_GROUP --- PRODUCT_COMBINATION --- DAYS_FIRST_DRAWING --- DAYS_FIRST_DUE --- DAYS_LAST_DUE_1ST_VERSION --- DAYS_LAST_DUE --- DAYS_TERMINATION --- NFLAG_INSURED_ON_APPROVAL\n"
     ]
    }
   ],
   "source": [
    "prev_app = pd.read_csv(DATA_PATH + \"previous_application.csv\")\n",
    "print(\"Shape of prev_app:\",  prev_app.shape)\n",
    "\n",
    "print(\"\\n{}Columns of prev_app:{}\".format(color.UNDERLINE, color.END))\n",
    "print(\" --- \".join(prev_app.columns.values))"
   ]
  },
  {
   "cell_type": "markdown",
   "metadata": {},
   "source": [
    "<a name=\"install_payments\"></a>\n",
    "\n",
    "### installments_payments.csv\n",
    "\n",
    "(Open to see description of columns)\n",
    "\n",
    "<div hidden>\n",
    "\n",
    ",Table,Row,Description,Special\n",
    "\n",
    "214,SK_ID_PREV ,\"ID of previous credit in Home credit related to loan in our sample. (One loan in our sample can have 0,1,2 or more previous loans in Home Credit)\",hashed\n",
    "215,SK_ID_CURR,ID of loan in our sample,hashed\n",
    "216,NUM_INSTALMENT_VERSION,Version of installment calendar (0 is for credit card) of previous credit. Change of installment version from month to month signifies that some parameter of payment calendar has changed,\n",
    "217,NUM_INSTALMENT_NUMBER,On which installment we observe payment,\n",
    "218,DAYS_INSTALMENT,When the installment of previous credit was supposed to be paid (relative to application date of current loan),time only relative to the application\n",
    "219,DAYS_ENTRY_PAYMENT,When was the installments of previous credit paid actually (relative to application date of current loan),time only relative to the application\n",
    "220,AMT_INSTALMENT,What was the prescribed installment amount of previous credit on this installment,\n",
    "221,AMT_PAYMENT,What the client actually paid on previous credit on this installment,\n",
    "\n",
    "\n",
    "</div>"
   ]
  },
  {
   "cell_type": "code",
   "execution_count": 23,
   "metadata": {},
   "outputs": [
    {
     "name": "stdout",
     "output_type": "stream",
     "text": [
      "Shape of install_pay: (13605401, 8)\n",
      "\n",
      "\u001b[4mColumns of install_pay:\u001b[0m\n",
      "SK_ID_PREV --- SK_ID_CURR --- NUM_INSTALMENT_VERSION --- NUM_INSTALMENT_NUMBER --- DAYS_INSTALMENT --- DAYS_ENTRY_PAYMENT --- AMT_INSTALMENT --- AMT_PAYMENT\n"
     ]
    }
   ],
   "source": [
    "install_pay = pd.read_csv(DATA_PATH + \"installments_payments.csv\")\n",
    "print(\"Shape of install_pay:\",  install_pay.shape)\n",
    "\n",
    "print(\"\\n{}Columns of install_pay:{}\".format(color.UNDERLINE, color.END))\n",
    "print(\" --- \".join(install_pay.columns.values))"
   ]
  },
  {
   "cell_type": "code",
   "execution_count": null,
   "metadata": {
    "collapsed": true
   },
   "outputs": [],
   "source": []
  }
 ],
 "metadata": {
  "kernelspec": {
   "display_name": "Python 3",
   "language": "python",
   "name": "python3"
  },
  "language_info": {
   "codemirror_mode": {
    "name": "ipython",
    "version": 3
   },
   "file_extension": ".py",
   "mimetype": "text/x-python",
   "name": "python",
   "nbconvert_exporter": "python",
   "pygments_lexer": "ipython3",
   "version": "3.6.3"
  }
 },
 "nbformat": 4,
 "nbformat_minor": 2
}
