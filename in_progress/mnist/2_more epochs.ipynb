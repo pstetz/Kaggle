{
 "cells": [
  {
   "cell_type": "markdown",
   "metadata": {},
   "source": [
    "# Score: 98.971%\n",
    "\n",
    "I deleted most of Yassine's code and will try to score better by testing things out for myself.\n",
    "\n",
    "Luckily when I submitted his code I only used 1 epoch so there still is a lot more room to improve\n",
    "\n",
    "NOTE: I think 15 epochs should be fine next time.  Fitting can take 1.5hrs if going for 30 epochs"
   ]
  },
  {
   "cell_type": "code",
   "execution_count": 1,
   "metadata": {
    "collapsed": true
   },
   "outputs": [],
   "source": [
    "import pandas as pd\n",
    "import numpy as np\n",
    "\n",
    "import warnings\n",
    "warnings.filterwarnings('ignore')\n",
    "\n",
    "train = pd.read_csv(\"/Users/pbezuhov/git/Kaggle/data/mnist/train.csv\")\n",
    "test = pd.read_csv(\"/Users/pbezuhov/git/Kaggle/data/mnist/test.csv\")"
   ]
  },
  {
   "cell_type": "code",
   "execution_count": 2,
   "metadata": {},
   "outputs": [
    {
     "name": "stderr",
     "output_type": "stream",
     "text": [
      "Using TensorFlow backend.\n"
     ]
    }
   ],
   "source": [
    "from keras.utils.np_utils import to_categorical\n",
    "from sklearn.model_selection import train_test_split\n",
    "\n",
    "train_y = train['label']\n",
    "train_x = train.drop(['label'], axis=1)\n",
    "\n",
    "# Reshape\n",
    "train_x = train_x.values.reshape(-1,28,28,1)\n",
    "test = test.values.reshape(-1,28,28,1)\n",
    "\n",
    "# Normalize\n",
    "train_x = train_x / 255.0\n",
    "test = test / 255.0\n",
    "\n",
    "train_y = to_categorical(train_y, num_classes = 10)\n",
    "\n",
    "train_x, val_x, train_y, val_y = train_test_split(train_x, train_y, test_size = 0.2)"
   ]
  },
  {
   "cell_type": "code",
   "execution_count": 3,
   "metadata": {
    "collapsed": true
   },
   "outputs": [],
   "source": [
    "import tensorflow\n",
    "from keras.models import Sequential\n",
    "from keras.layers import Dense, Conv2D, Dropout, MaxPool2D, Flatten\n",
    "\n",
    "model = Sequential()\n",
    "\n",
    "model.add(Conv2D(filters = 32, kernel_size = (5,5), \n",
    "                 activation ='relu', input_shape = (28,28,1)))\n",
    "model.add(Conv2D(filters = 32, kernel_size = (5,5),\n",
    "                 activation ='relu'))\n",
    "model.add(MaxPool2D(pool_size=(2,2)))\n",
    "model.add(Dropout(0.25))\n",
    "\n",
    "\n",
    "model.add(Conv2D(filters = 64, kernel_size = (3,3),\n",
    "                 activation ='relu'))\n",
    "model.add(Conv2D(filters = 64, kernel_size = (3,3),\n",
    "                 activation ='relu'))\n",
    "model.add(MaxPool2D(pool_size=(2,2), strides=(2,2)))\n",
    "model.add(Dropout(0.25))\n",
    "\n",
    "\n",
    "model.add(Flatten())\n",
    "model.add(Dense(256, activation = \"relu\"))\n",
    "model.add(Dropout(0.5))\n",
    "model.add(Dense(10, activation = \"softmax\"))\n",
    "\n",
    "# Compile the model\n",
    "model.compile(optimizer = \"adam\", loss = \"categorical_crossentropy\", metrics=[\"accuracy\"])"
   ]
  },
  {
   "cell_type": "code",
   "execution_count": 4,
   "metadata": {
    "collapsed": true
   },
   "outputs": [],
   "source": [
    "from keras.preprocessing.image import ImageDataGenerator\n",
    "\n",
    "data_generator = ImageDataGenerator(\n",
    "        rotation_range=10,  # randomly rotate images in the range (degrees, 0 to 180)\n",
    "        zoom_range = 0.1, # Randomly zoom image \n",
    "        width_shift_range=0.1,  # randomly shift images horizontally (fraction of total width)\n",
    "        height_shift_range=0.1  # randomly shift images vertically (fraction of total height)\n",
    ")\n",
    "\n",
    "\n",
    "data_generator.fit(train_x)"
   ]
  },
  {
   "cell_type": "code",
   "execution_count": 5,
   "metadata": {},
   "outputs": [
    {
     "name": "stdout",
     "output_type": "stream",
     "text": [
      "Epoch 1/5\n",
      "391/391 [==============================] - 221s 564ms/step - loss: 0.6189 - acc: 0.7937 - val_loss: 0.0759 - val_acc: 0.9773\n",
      "Epoch 2/5\n",
      "391/391 [==============================] - 176s 449ms/step - loss: 0.1799 - acc: 0.9447 - val_loss: 0.0599 - val_acc: 0.9814\n",
      "Epoch 3/5\n",
      "391/391 [==============================] - 162s 415ms/step - loss: 0.1331 - acc: 0.9603 - val_loss: 0.0542 - val_acc: 0.9835\n",
      "Epoch 4/5\n",
      "391/391 [==============================] - 188s 482ms/step - loss: 0.1039 - acc: 0.9695 - val_loss: 0.0319 - val_acc: 0.9911\n",
      "Epoch 5/5\n",
      "391/391 [==============================] - 196s 500ms/step - loss: 0.0924 - acc: 0.9731 - val_loss: 0.0369 - val_acc: 0.9889\n"
     ]
    }
   ],
   "source": [
    "epochs = 5\n",
    "batch_size = 86\n",
    "\n",
    "history = model.fit_generator(data_generator.flow(train_x, train_y, batch_size=batch_size),\n",
    "                              epochs = epochs, validation_data = (val_x, val_y))"
   ]
  },
  {
   "cell_type": "code",
   "execution_count": 6,
   "metadata": {
    "collapsed": true
   },
   "outputs": [],
   "source": [
    "results = model.predict(test)\n",
    "results = np.argmax(results,axis = 1)\n",
    "results = pd.Series(results,name=\"Label\")"
   ]
  },
  {
   "cell_type": "code",
   "execution_count": 7,
   "metadata": {
    "collapsed": true
   },
   "outputs": [],
   "source": [
    "submission = pd.concat([pd.Series(range(1,28001),name = \"ImageId\"),results],axis = 1)\n",
    "\n",
    "submission.to_csv(\"../submissions/2_redo_redo.csv\",index=False)"
   ]
  },
  {
   "cell_type": "code",
   "execution_count": null,
   "metadata": {
    "collapsed": true
   },
   "outputs": [],
   "source": []
  }
 ],
 "metadata": {
  "kernelspec": {
   "display_name": "Python 3",
   "language": "python",
   "name": "python3"
  },
  "language_info": {
   "codemirror_mode": {
    "name": "ipython",
    "version": 3
   },
   "file_extension": ".py",
   "mimetype": "text/x-python",
   "name": "python",
   "nbconvert_exporter": "python",
   "pygments_lexer": "ipython3",
   "version": "3.6.3"
  }
 },
 "nbformat": 4,
 "nbformat_minor": 2
}
