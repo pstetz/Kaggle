{
 "cells": [
  {
   "cell_type": "markdown",
   "metadata": {},
   "source": [
    "# Score: 98.985%\n",
    "\n",
    "### Imports"
   ]
  },
  {
   "cell_type": "code",
   "execution_count": 1,
   "metadata": {
    "collapsed": true
   },
   "outputs": [],
   "source": [
    "import pandas as pd\n",
    "import numpy as np\n",
    "\n",
    "import warnings\n",
    "warnings.filterwarnings('ignore')"
   ]
  },
  {
   "cell_type": "markdown",
   "metadata": {},
   "source": [
    "### Data"
   ]
  },
  {
   "cell_type": "code",
   "execution_count": 2,
   "metadata": {
    "collapsed": true
   },
   "outputs": [],
   "source": [
    "train = pd.read_csv(\"/Users/pbezuhov/git/Kaggle/data/mnist/train.csv\")\n",
    "test = pd.read_csv(\"/Users/pbezuhov/git/Kaggle/data/mnist/test.csv\")"
   ]
  },
  {
   "cell_type": "markdown",
   "metadata": {},
   "source": [
    "### Processing the data"
   ]
  },
  {
   "cell_type": "code",
   "execution_count": 3,
   "metadata": {},
   "outputs": [
    {
     "name": "stderr",
     "output_type": "stream",
     "text": [
      "Using TensorFlow backend.\n"
     ]
    }
   ],
   "source": [
    "from keras.utils.np_utils import to_categorical\n",
    "from sklearn.model_selection import train_test_split\n",
    "\n",
    "train_y = train['label']\n",
    "train_x = train.drop(['label'], axis=1)\n",
    "\n",
    "# Reshape\n",
    "train_x = train_x.values.reshape(-1,28,28,1)\n",
    "test = test.values.reshape(-1,28,28,1)\n",
    "\n",
    "# Normalize\n",
    "train_x = train_x / 255.0\n",
    "test = test / 255.0\n",
    "\n",
    "train_y = to_categorical(train_y, num_classes = 10)\n",
    "\n",
    "train_x, val_x, train_y, val_y = train_test_split(train_x, train_y, test_size = 0.2)"
   ]
  },
  {
   "cell_type": "markdown",
   "metadata": {},
   "source": [
    "### Creating the model"
   ]
  },
  {
   "cell_type": "code",
   "execution_count": 4,
   "metadata": {
    "collapsed": true
   },
   "outputs": [],
   "source": [
    "import tensorflow\n",
    "from keras.models import Sequential\n",
    "from keras.layers import Dense, Conv2D, Dropout, MaxPool2D, Flatten\n",
    "\n",
    "model = Sequential()\n",
    "\n",
    "model.add(Conv2D(filters = 32, kernel_size = (5,5), \n",
    "                 activation ='relu', input_shape = (28,28,1)))\n",
    "model.add(Conv2D(filters = 32, kernel_size = (5,5),\n",
    "                 activation ='relu'))\n",
    "model.add(MaxPool2D(pool_size=(2,2)))\n",
    "model.add(Dropout(0.4))\n",
    "\n",
    "model.add(Conv2D(filters = 64, kernel_size = (3,3),\n",
    "                 activation ='relu'))\n",
    "model.add(Conv2D(filters = 64, kernel_size = (3,3),\n",
    "                 activation ='relu'))\n",
    "model.add(Conv2D(filters = 64, kernel_size = (3,3),\n",
    "                 activation ='relu'))\n",
    "model.add(MaxPool2D(pool_size=(2,2), strides=(2,2)))\n",
    "model.add(Dropout(0.4))\n",
    "\n",
    "\n",
    "model.add(Flatten())\n",
    "model.add(Dense(256, activation = \"relu\"))\n",
    "model.add(Dropout(0.5))\n",
    "model.add(Dense(10, activation = \"softmax\"))\n",
    "\n",
    "# Compile the model\n",
    "model.compile(optimizer=\"adam\", loss = \"categorical_crossentropy\", metrics=[\"accuracy\"])"
   ]
  },
  {
   "cell_type": "markdown",
   "metadata": {
    "collapsed": true
   },
   "source": [
    "### Generating more images"
   ]
  },
  {
   "cell_type": "code",
   "execution_count": 5,
   "metadata": {
    "collapsed": true
   },
   "outputs": [],
   "source": [
    "from keras.preprocessing.image import ImageDataGenerator\n",
    "\n",
    "data_generator = ImageDataGenerator(\n",
    "        rotation_range=10,  # randomly rotate images in the range (degrees, 0 to 180)\n",
    "        zoom_range = 0.1, # Randomly zoom image \n",
    "        width_shift_range=0.1,  # randomly shift images horizontally (fraction of total width)\n",
    "        height_shift_range=0.1  # randomly shift images vertically (fraction of total height)\n",
    ")\n",
    "\n",
    "\n",
    "data_generator.fit(train_x)"
   ]
  },
  {
   "cell_type": "markdown",
   "metadata": {},
   "source": [
    "# Fitting the model to the data\n",
    "\n",
    "### High batch size"
   ]
  },
  {
   "cell_type": "code",
   "execution_count": 6,
   "metadata": {},
   "outputs": [
    {
     "name": "stdout",
     "output_type": "stream",
     "text": [
      "Epoch 1/10\n",
      "280/280 [==============================] - 192s 685ms/step - loss: 0.8627 - acc: 0.7124 - val_loss: 0.1630 - val_acc: 0.9506\n",
      "Epoch 2/10\n",
      "280/280 [==============================] - 195s 696ms/step - loss: 0.2502 - acc: 0.9276 - val_loss: 0.0714 - val_acc: 0.9782\n",
      "Epoch 3/10\n",
      "280/280 [==============================] - 242s 864ms/step - loss: 0.1707 - acc: 0.9521 - val_loss: 0.0673 - val_acc: 0.9801\n",
      "Epoch 4/10\n",
      "280/280 [==============================] - 239s 853ms/step - loss: 0.1372 - acc: 0.9600 - val_loss: 0.0453 - val_acc: 0.9856\n",
      "Epoch 5/10\n",
      "280/280 [==============================] - 181s 646ms/step - loss: 0.1173 - acc: 0.9668 - val_loss: 0.0436 - val_acc: 0.9881\n",
      "Epoch 6/10\n",
      "280/280 [==============================] - 201s 718ms/step - loss: 0.1018 - acc: 0.9714 - val_loss: 0.0390 - val_acc: 0.9893\n",
      "Epoch 7/10\n",
      "280/280 [==============================] - 190s 679ms/step - loss: 0.0901 - acc: 0.9748 - val_loss: 0.0367 - val_acc: 0.9899\n",
      "Epoch 8/10\n",
      "280/280 [==============================] - 191s 681ms/step - loss: 0.0855 - acc: 0.9766 - val_loss: 0.0377 - val_acc: 0.9886\n",
      "Epoch 9/10\n",
      "280/280 [==============================] - 189s 676ms/step - loss: 0.0853 - acc: 0.9776 - val_loss: 0.0340 - val_acc: 0.9908\n",
      "Epoch 10/10\n",
      "280/280 [==============================] - 191s 683ms/step - loss: 0.0737 - acc: 0.9793 - val_loss: 0.0359 - val_acc: 0.9899\n"
     ]
    }
   ],
   "source": [
    "epochs = 10\n",
    "batch_size = 120\n",
    "\n",
    "history = model.fit_generator(data_generator.flow(train_x, train_y, batch_size=batch_size),\n",
    "                              epochs = epochs, validation_data = (val_x, val_y))"
   ]
  },
  {
   "cell_type": "markdown",
   "metadata": {},
   "source": [
    "# Predictions"
   ]
  },
  {
   "cell_type": "code",
   "execution_count": 7,
   "metadata": {
    "collapsed": true
   },
   "outputs": [],
   "source": [
    "predictions = model.predict(test)\n",
    "\n",
    "submission = pd.DataFrame({\n",
    "                \"ImageId\": range(1,28001),\n",
    "                \"Label\": np.argmax(predictions, axis = 1)\n",
    "                })"
   ]
  },
  {
   "cell_type": "markdown",
   "metadata": {},
   "source": [
    "# Saving the predictions"
   ]
  },
  {
   "cell_type": "code",
   "execution_count": 8,
   "metadata": {
    "collapsed": true
   },
   "outputs": [],
   "source": [
    "submission.to_csv(\"/Users/pbezuhov/git/Kaggle/submissions/4_large_batch_size.csv\", index=False)"
   ]
  },
  {
   "cell_type": "code",
   "execution_count": null,
   "metadata": {
    "collapsed": true
   },
   "outputs": [],
   "source": []
  }
 ],
 "metadata": {
  "kernelspec": {
   "display_name": "Python 3",
   "language": "python",
   "name": "python3"
  },
  "language_info": {
   "codemirror_mode": {
    "name": "ipython",
    "version": 3
   },
   "file_extension": ".py",
   "mimetype": "text/x-python",
   "name": "python",
   "nbconvert_exporter": "python",
   "pygments_lexer": "ipython3",
   "version": "3.6.3"
  }
 },
 "nbformat": 4,
 "nbformat_minor": 2
}
