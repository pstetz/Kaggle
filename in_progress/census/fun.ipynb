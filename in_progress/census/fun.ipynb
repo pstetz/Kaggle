{
 "cells": [
  {
   "cell_type": "markdown",
   "metadata": {},
   "source": [
    "### Imports"
   ]
  },
  {
   "cell_type": "code",
   "execution_count": 2,
   "metadata": {
    "collapsed": true
   },
   "outputs": [],
   "source": [
    "import pandas as pd\n",
    "import numpy as np\n",
    "\n",
    "import matplotlib.pyplot as plt\n",
    "import seaborn as sns\n",
    "sns.set()\n",
    "%matplotlib inline"
   ]
  },
  {
   "cell_type": "markdown",
   "metadata": {},
   "source": [
    "### Load data"
   ]
  },
  {
   "cell_type": "code",
   "execution_count": 13,
   "metadata": {},
   "outputs": [
    {
     "name": "stdout",
     "output_type": "stream",
     "text": [
      "Shape of data (73311, 37)\n",
      "Columns Index(['CensusTract', 'State', 'County', 'TotalPop', 'Men', 'Women',\n",
      "       'Hispanic', 'White', 'Black', 'Native', 'Asian', 'Pacific', 'Citizen',\n",
      "       'Income', 'IncomeErr', 'IncomePerCap', 'IncomePerCapErr', 'Poverty',\n",
      "       'ChildPoverty', 'Professional', 'Service', 'Office', 'Construction',\n",
      "       'Production', 'Drive', 'Carpool', 'Transit', 'Walk', 'OtherTransp',\n",
      "       'WorkAtHome', 'MeanCommute', 'Employed', 'PrivateWork', 'PublicWork',\n",
      "       'SelfEmployed', 'FamilyWork', 'Unemployment'],\n",
      "      dtype='object')\n"
     ]
    },
    {
     "data": {
      "text/html": [
       "<div>\n",
       "<style>\n",
       "    .dataframe thead tr:only-child th {\n",
       "        text-align: right;\n",
       "    }\n",
       "\n",
       "    .dataframe thead th {\n",
       "        text-align: left;\n",
       "    }\n",
       "\n",
       "    .dataframe tbody tr th {\n",
       "        vertical-align: top;\n",
       "    }\n",
       "</style>\n",
       "<table border=\"1\" class=\"dataframe\">\n",
       "  <thead>\n",
       "    <tr style=\"text-align: right;\">\n",
       "      <th></th>\n",
       "      <th>CensusTract</th>\n",
       "      <th>State</th>\n",
       "      <th>County</th>\n",
       "      <th>TotalPop</th>\n",
       "      <th>Men</th>\n",
       "      <th>Women</th>\n",
       "      <th>Hispanic</th>\n",
       "      <th>White</th>\n",
       "      <th>Black</th>\n",
       "      <th>Native</th>\n",
       "      <th>...</th>\n",
       "      <th>Walk</th>\n",
       "      <th>OtherTransp</th>\n",
       "      <th>WorkAtHome</th>\n",
       "      <th>MeanCommute</th>\n",
       "      <th>Employed</th>\n",
       "      <th>PrivateWork</th>\n",
       "      <th>PublicWork</th>\n",
       "      <th>SelfEmployed</th>\n",
       "      <th>FamilyWork</th>\n",
       "      <th>Unemployment</th>\n",
       "    </tr>\n",
       "  </thead>\n",
       "  <tbody>\n",
       "    <tr>\n",
       "      <th>0</th>\n",
       "      <td>1001020100</td>\n",
       "      <td>Alabama</td>\n",
       "      <td>Autauga</td>\n",
       "      <td>1948</td>\n",
       "      <td>940</td>\n",
       "      <td>1008</td>\n",
       "      <td>0.9</td>\n",
       "      <td>87.4</td>\n",
       "      <td>7.7</td>\n",
       "      <td>0.3</td>\n",
       "      <td>...</td>\n",
       "      <td>0.5</td>\n",
       "      <td>2.3</td>\n",
       "      <td>2.1</td>\n",
       "      <td>25.0</td>\n",
       "      <td>943</td>\n",
       "      <td>77.1</td>\n",
       "      <td>18.3</td>\n",
       "      <td>4.6</td>\n",
       "      <td>0.0</td>\n",
       "      <td>5.4</td>\n",
       "    </tr>\n",
       "    <tr>\n",
       "      <th>1</th>\n",
       "      <td>1001020200</td>\n",
       "      <td>Alabama</td>\n",
       "      <td>Autauga</td>\n",
       "      <td>2156</td>\n",
       "      <td>1059</td>\n",
       "      <td>1097</td>\n",
       "      <td>0.8</td>\n",
       "      <td>40.4</td>\n",
       "      <td>53.3</td>\n",
       "      <td>0.0</td>\n",
       "      <td>...</td>\n",
       "      <td>0.0</td>\n",
       "      <td>0.7</td>\n",
       "      <td>0.0</td>\n",
       "      <td>23.4</td>\n",
       "      <td>753</td>\n",
       "      <td>77.0</td>\n",
       "      <td>16.9</td>\n",
       "      <td>6.1</td>\n",
       "      <td>0.0</td>\n",
       "      <td>13.3</td>\n",
       "    </tr>\n",
       "    <tr>\n",
       "      <th>2</th>\n",
       "      <td>1001020300</td>\n",
       "      <td>Alabama</td>\n",
       "      <td>Autauga</td>\n",
       "      <td>2968</td>\n",
       "      <td>1364</td>\n",
       "      <td>1604</td>\n",
       "      <td>0.0</td>\n",
       "      <td>74.5</td>\n",
       "      <td>18.6</td>\n",
       "      <td>0.5</td>\n",
       "      <td>...</td>\n",
       "      <td>0.0</td>\n",
       "      <td>0.0</td>\n",
       "      <td>2.5</td>\n",
       "      <td>19.6</td>\n",
       "      <td>1373</td>\n",
       "      <td>64.1</td>\n",
       "      <td>23.6</td>\n",
       "      <td>12.3</td>\n",
       "      <td>0.0</td>\n",
       "      <td>6.2</td>\n",
       "    </tr>\n",
       "    <tr>\n",
       "      <th>3</th>\n",
       "      <td>1001020400</td>\n",
       "      <td>Alabama</td>\n",
       "      <td>Autauga</td>\n",
       "      <td>4423</td>\n",
       "      <td>2172</td>\n",
       "      <td>2251</td>\n",
       "      <td>10.5</td>\n",
       "      <td>82.8</td>\n",
       "      <td>3.7</td>\n",
       "      <td>1.6</td>\n",
       "      <td>...</td>\n",
       "      <td>0.0</td>\n",
       "      <td>2.6</td>\n",
       "      <td>1.6</td>\n",
       "      <td>25.3</td>\n",
       "      <td>1782</td>\n",
       "      <td>75.7</td>\n",
       "      <td>21.2</td>\n",
       "      <td>3.1</td>\n",
       "      <td>0.0</td>\n",
       "      <td>10.8</td>\n",
       "    </tr>\n",
       "    <tr>\n",
       "      <th>4</th>\n",
       "      <td>1001020500</td>\n",
       "      <td>Alabama</td>\n",
       "      <td>Autauga</td>\n",
       "      <td>10763</td>\n",
       "      <td>4922</td>\n",
       "      <td>5841</td>\n",
       "      <td>0.7</td>\n",
       "      <td>68.5</td>\n",
       "      <td>24.8</td>\n",
       "      <td>0.0</td>\n",
       "      <td>...</td>\n",
       "      <td>0.0</td>\n",
       "      <td>0.6</td>\n",
       "      <td>0.9</td>\n",
       "      <td>24.8</td>\n",
       "      <td>5037</td>\n",
       "      <td>67.1</td>\n",
       "      <td>27.6</td>\n",
       "      <td>5.3</td>\n",
       "      <td>0.0</td>\n",
       "      <td>4.2</td>\n",
       "    </tr>\n",
       "  </tbody>\n",
       "</table>\n",
       "<p>5 rows × 37 columns</p>\n",
       "</div>"
      ],
      "text/plain": [
       "   CensusTract    State   County  TotalPop   Men  Women  Hispanic  White  \\\n",
       "0   1001020100  Alabama  Autauga      1948   940   1008       0.9   87.4   \n",
       "1   1001020200  Alabama  Autauga      2156  1059   1097       0.8   40.4   \n",
       "2   1001020300  Alabama  Autauga      2968  1364   1604       0.0   74.5   \n",
       "3   1001020400  Alabama  Autauga      4423  2172   2251      10.5   82.8   \n",
       "4   1001020500  Alabama  Autauga     10763  4922   5841       0.7   68.5   \n",
       "\n",
       "   Black  Native      ...       Walk  OtherTransp  WorkAtHome  MeanCommute  \\\n",
       "0    7.7     0.3      ...        0.5          2.3         2.1         25.0   \n",
       "1   53.3     0.0      ...        0.0          0.7         0.0         23.4   \n",
       "2   18.6     0.5      ...        0.0          0.0         2.5         19.6   \n",
       "3    3.7     1.6      ...        0.0          2.6         1.6         25.3   \n",
       "4   24.8     0.0      ...        0.0          0.6         0.9         24.8   \n",
       "\n",
       "   Employed  PrivateWork  PublicWork  SelfEmployed  FamilyWork  Unemployment  \n",
       "0       943         77.1        18.3           4.6         0.0           5.4  \n",
       "1       753         77.0        16.9           6.1         0.0          13.3  \n",
       "2      1373         64.1        23.6          12.3         0.0           6.2  \n",
       "3      1782         75.7        21.2           3.1         0.0          10.8  \n",
       "4      5037         67.1        27.6           5.3         0.0           4.2  \n",
       "\n",
       "[5 rows x 37 columns]"
      ]
     },
     "execution_count": 13,
     "metadata": {},
     "output_type": "execute_result"
    }
   ],
   "source": [
    "census = pd.read_csv(\"../../data/census/census_tract.csv\")\n",
    "\n",
    "# Removing missing rows with missing population values\n",
    "census = census.drop(census[census.TotalPop == 0].index)\n",
    "\n",
    "print(\"Shape of data\", census.shape)\n",
    "print(\"Columns\", census.columns)\n",
    "census.head()"
   ]
  },
  {
   "cell_type": "markdown",
   "metadata": {},
   "source": [
    "### Longest and Shortest County names"
   ]
  },
  {
   "cell_type": "code",
   "execution_count": 14,
   "metadata": {},
   "outputs": [
    {
     "data": {
      "text/html": [
       "<div>\n",
       "<style>\n",
       "    .dataframe thead tr:only-child th {\n",
       "        text-align: right;\n",
       "    }\n",
       "\n",
       "    .dataframe thead th {\n",
       "        text-align: left;\n",
       "    }\n",
       "\n",
       "    .dataframe tbody tr th {\n",
       "        vertical-align: top;\n",
       "    }\n",
       "</style>\n",
       "<table border=\"1\" class=\"dataframe\">\n",
       "  <thead>\n",
       "    <tr style=\"text-align: right;\">\n",
       "      <th></th>\n",
       "      <th>CensusTract</th>\n",
       "      <th>State</th>\n",
       "      <th>County</th>\n",
       "      <th>TotalPop</th>\n",
       "      <th>Men</th>\n",
       "      <th>Women</th>\n",
       "      <th>Hispanic</th>\n",
       "      <th>White</th>\n",
       "      <th>Black</th>\n",
       "      <th>Native</th>\n",
       "      <th>...</th>\n",
       "      <th>Walk</th>\n",
       "      <th>OtherTransp</th>\n",
       "      <th>WorkAtHome</th>\n",
       "      <th>MeanCommute</th>\n",
       "      <th>Employed</th>\n",
       "      <th>PrivateWork</th>\n",
       "      <th>PublicWork</th>\n",
       "      <th>SelfEmployed</th>\n",
       "      <th>FamilyWork</th>\n",
       "      <th>Unemployment</th>\n",
       "    </tr>\n",
       "  </thead>\n",
       "  <tbody>\n",
       "    <tr>\n",
       "      <th>590</th>\n",
       "      <td>1081040200</td>\n",
       "      <td>Alabama</td>\n",
       "      <td>Lee</td>\n",
       "      <td>5210</td>\n",
       "      <td>2881</td>\n",
       "      <td>2329</td>\n",
       "      <td>3.3</td>\n",
       "      <td>73.2</td>\n",
       "      <td>12.2</td>\n",
       "      <td>0.0</td>\n",
       "      <td>...</td>\n",
       "      <td>14.9</td>\n",
       "      <td>4.8</td>\n",
       "      <td>4.3</td>\n",
       "      <td>18.2</td>\n",
       "      <td>2691</td>\n",
       "      <td>66.6</td>\n",
       "      <td>26.3</td>\n",
       "      <td>5.4</td>\n",
       "      <td>1.7</td>\n",
       "      <td>4.4</td>\n",
       "    </tr>\n",
       "    <tr>\n",
       "      <th>1330</th>\n",
       "      <td>2198000100</td>\n",
       "      <td>Alaska</td>\n",
       "      <td>Prince of Wales-Hyder Census Area</td>\n",
       "      <td>2139</td>\n",
       "      <td>1274</td>\n",
       "      <td>865</td>\n",
       "      <td>0.5</td>\n",
       "      <td>58.0</td>\n",
       "      <td>0.1</td>\n",
       "      <td>31.8</td>\n",
       "      <td>...</td>\n",
       "      <td>25.6</td>\n",
       "      <td>10.4</td>\n",
       "      <td>3.0</td>\n",
       "      <td>15.2</td>\n",
       "      <td>954</td>\n",
       "      <td>50.8</td>\n",
       "      <td>39.6</td>\n",
       "      <td>9.4</td>\n",
       "      <td>0.1</td>\n",
       "      <td>14.3</td>\n",
       "    </tr>\n",
       "  </tbody>\n",
       "</table>\n",
       "<p>2 rows × 37 columns</p>\n",
       "</div>"
      ],
      "text/plain": [
       "      CensusTract    State                             County  TotalPop   Men  \\\n",
       "590    1081040200  Alabama                                Lee      5210  2881   \n",
       "1330   2198000100   Alaska  Prince of Wales-Hyder Census Area      2139  1274   \n",
       "\n",
       "      Women  Hispanic  White  Black  Native      ...       Walk  OtherTransp  \\\n",
       "590    2329       3.3   73.2   12.2     0.0      ...       14.9          4.8   \n",
       "1330    865       0.5   58.0    0.1    31.8      ...       25.6         10.4   \n",
       "\n",
       "      WorkAtHome  MeanCommute  Employed  PrivateWork  PublicWork  \\\n",
       "590          4.3         18.2      2691         66.6        26.3   \n",
       "1330         3.0         15.2       954         50.8        39.6   \n",
       "\n",
       "      SelfEmployed  FamilyWork  Unemployment  \n",
       "590            5.4         1.7           4.4  \n",
       "1330           9.4         0.1          14.3  \n",
       "\n",
       "[2 rows x 37 columns]"
      ]
     },
     "execution_count": 14,
     "metadata": {},
     "output_type": "execute_result"
    }
   ],
   "source": [
    "longest_county_name_on_census_dataset_index = np.argmax(census.County.map(len))\n",
    "s_i = np.argmin(census.County.map(len))\n",
    "\n",
    "census[(census.index == longest_county_name_on_census_dataset_index) | (census.index == s_i)]"
   ]
  },
  {
   "cell_type": "markdown",
   "metadata": {},
   "source": [
    "### Largest income error\n",
    "\n",
    "The income given can be off by as much as 123,116"
   ]
  },
  {
   "cell_type": "code",
   "execution_count": 15,
   "metadata": {},
   "outputs": [
    {
     "name": "stdout",
     "output_type": "stream",
     "text": [
      "63909    123116.0\n",
      "Name: IncomeErr, dtype: float64\n"
     ]
    },
    {
     "data": {
      "text/html": [
       "<div>\n",
       "<style>\n",
       "    .dataframe thead tr:only-child th {\n",
       "        text-align: right;\n",
       "    }\n",
       "\n",
       "    .dataframe thead th {\n",
       "        text-align: left;\n",
       "    }\n",
       "\n",
       "    .dataframe tbody tr th {\n",
       "        vertical-align: top;\n",
       "    }\n",
       "</style>\n",
       "<table border=\"1\" class=\"dataframe\">\n",
       "  <thead>\n",
       "    <tr style=\"text-align: right;\">\n",
       "      <th></th>\n",
       "      <th>CensusTract</th>\n",
       "      <th>State</th>\n",
       "      <th>County</th>\n",
       "      <th>TotalPop</th>\n",
       "      <th>Men</th>\n",
       "      <th>Women</th>\n",
       "      <th>Hispanic</th>\n",
       "      <th>White</th>\n",
       "      <th>Black</th>\n",
       "      <th>Native</th>\n",
       "      <th>...</th>\n",
       "      <th>Walk</th>\n",
       "      <th>OtherTransp</th>\n",
       "      <th>WorkAtHome</th>\n",
       "      <th>MeanCommute</th>\n",
       "      <th>Employed</th>\n",
       "      <th>PrivateWork</th>\n",
       "      <th>PublicWork</th>\n",
       "      <th>SelfEmployed</th>\n",
       "      <th>FamilyWork</th>\n",
       "      <th>Unemployment</th>\n",
       "    </tr>\n",
       "  </thead>\n",
       "  <tbody>\n",
       "    <tr>\n",
       "      <th>63909</th>\n",
       "      <td>48201210100</td>\n",
       "      <td>Texas</td>\n",
       "      <td>Harris</td>\n",
       "      <td>5799</td>\n",
       "      <td>5299</td>\n",
       "      <td>500</td>\n",
       "      <td>33.5</td>\n",
       "      <td>16.3</td>\n",
       "      <td>48.6</td>\n",
       "      <td>0.0</td>\n",
       "      <td>...</td>\n",
       "      <td>0.0</td>\n",
       "      <td>0.0</td>\n",
       "      <td>9.3</td>\n",
       "      <td>33.0</td>\n",
       "      <td>118</td>\n",
       "      <td>66.9</td>\n",
       "      <td>28.8</td>\n",
       "      <td>4.2</td>\n",
       "      <td>0.0</td>\n",
       "      <td>0.0</td>\n",
       "    </tr>\n",
       "  </tbody>\n",
       "</table>\n",
       "<p>1 rows × 37 columns</p>\n",
       "</div>"
      ],
      "text/plain": [
       "       CensusTract  State  County  TotalPop   Men  Women  Hispanic  White  \\\n",
       "63909  48201210100  Texas  Harris      5799  5299    500      33.5   16.3   \n",
       "\n",
       "       Black  Native      ...       Walk  OtherTransp  WorkAtHome  \\\n",
       "63909   48.6     0.0      ...        0.0          0.0         9.3   \n",
       "\n",
       "       MeanCommute  Employed  PrivateWork  PublicWork  SelfEmployed  \\\n",
       "63909         33.0       118         66.9        28.8           4.2   \n",
       "\n",
       "       FamilyWork  Unemployment  \n",
       "63909         0.0           0.0  \n",
       "\n",
       "[1 rows x 37 columns]"
      ]
     },
     "execution_count": 15,
     "metadata": {},
     "output_type": "execute_result"
    }
   ],
   "source": [
    "max_income_err = np.argmax(census.IncomeErr)\n",
    "max_income_err = census[census.index == max_income_err]\n",
    "\n",
    "print(max_income_err.IncomeErr)\n",
    "max_income_err"
   ]
  },
  {
   "cell_type": "markdown",
   "metadata": {},
   "source": [
    "### Largest Income per cap error\n",
    "\n",
    "The per capita income can be off by as much as 134,380.  I wonder if this indicates high income inequality"
   ]
  },
  {
   "cell_type": "code",
   "execution_count": 16,
   "metadata": {},
   "outputs": [
    {
     "name": "stdout",
     "output_type": "stream",
     "text": [
      "27513    134380.0\n",
      "Name: IncomePerCapErr, dtype: float64\n"
     ]
    },
    {
     "data": {
      "text/html": [
       "<div>\n",
       "<style>\n",
       "    .dataframe thead tr:only-child th {\n",
       "        text-align: right;\n",
       "    }\n",
       "\n",
       "    .dataframe thead th {\n",
       "        text-align: left;\n",
       "    }\n",
       "\n",
       "    .dataframe tbody tr th {\n",
       "        vertical-align: top;\n",
       "    }\n",
       "</style>\n",
       "<table border=\"1\" class=\"dataframe\">\n",
       "  <thead>\n",
       "    <tr style=\"text-align: right;\">\n",
       "      <th></th>\n",
       "      <th>CensusTract</th>\n",
       "      <th>State</th>\n",
       "      <th>County</th>\n",
       "      <th>TotalPop</th>\n",
       "      <th>Men</th>\n",
       "      <th>Women</th>\n",
       "      <th>Hispanic</th>\n",
       "      <th>White</th>\n",
       "      <th>Black</th>\n",
       "      <th>Native</th>\n",
       "      <th>...</th>\n",
       "      <th>Walk</th>\n",
       "      <th>OtherTransp</th>\n",
       "      <th>WorkAtHome</th>\n",
       "      <th>MeanCommute</th>\n",
       "      <th>Employed</th>\n",
       "      <th>PrivateWork</th>\n",
       "      <th>PublicWork</th>\n",
       "      <th>SelfEmployed</th>\n",
       "      <th>FamilyWork</th>\n",
       "      <th>Unemployment</th>\n",
       "    </tr>\n",
       "  </thead>\n",
       "  <tbody>\n",
       "    <tr>\n",
       "      <th>27513</th>\n",
       "      <td>21067003916</td>\n",
       "      <td>Kentucky</td>\n",
       "      <td>Fayette</td>\n",
       "      <td>598</td>\n",
       "      <td>282</td>\n",
       "      <td>316</td>\n",
       "      <td>0.0</td>\n",
       "      <td>98.2</td>\n",
       "      <td>1.5</td>\n",
       "      <td>0.0</td>\n",
       "      <td>...</td>\n",
       "      <td>0.0</td>\n",
       "      <td>1.6</td>\n",
       "      <td>9.5</td>\n",
       "      <td>28.1</td>\n",
       "      <td>315</td>\n",
       "      <td>70.5</td>\n",
       "      <td>15.9</td>\n",
       "      <td>13.7</td>\n",
       "      <td>0.0</td>\n",
       "      <td>6.8</td>\n",
       "    </tr>\n",
       "  </tbody>\n",
       "</table>\n",
       "<p>1 rows × 37 columns</p>\n",
       "</div>"
      ],
      "text/plain": [
       "       CensusTract     State   County  TotalPop  Men  Women  Hispanic  White  \\\n",
       "27513  21067003916  Kentucky  Fayette       598  282    316       0.0   98.2   \n",
       "\n",
       "       Black  Native      ...       Walk  OtherTransp  WorkAtHome  \\\n",
       "27513    1.5     0.0      ...        0.0          1.6         9.5   \n",
       "\n",
       "       MeanCommute  Employed  PrivateWork  PublicWork  SelfEmployed  \\\n",
       "27513         28.1       315         70.5        15.9          13.7   \n",
       "\n",
       "       FamilyWork  Unemployment  \n",
       "27513         0.0           6.8  \n",
       "\n",
       "[1 rows x 37 columns]"
      ]
     },
     "execution_count": 16,
     "metadata": {},
     "output_type": "execute_result"
    }
   ],
   "source": [
    "max_per_cap_err = np.argmax(census.IncomePerCapErr)\n",
    "max_per_cap_err = census[census.index == max_per_cap_err]\n",
    "\n",
    "print(max_per_cap_err.IncomePerCapErr)\n",
    "max_per_cap_err"
   ]
  },
  {
   "cell_type": "markdown",
   "metadata": {},
   "source": [
    "# Selected Counties\n",
    "\n",
    "### Counties in California"
   ]
  },
  {
   "cell_type": "code",
   "execution_count": 70,
   "metadata": {},
   "outputs": [
    {
     "data": {
      "text/plain": [
       "Los Angeles       2326\n",
       "San Diego          626\n",
       "Orange             582\n",
       "Riverside          452\n",
       "Santa Clara        372\n",
       "San Bernardino     368\n",
       "Alameda            360\n",
       "Sacramento         317\n",
       "Contra Costa       207\n",
       "Fresno             199\n",
       "San Francisco      195\n",
       "Ventura            173\n",
       "San Mateo          156\n",
       "Kern               151\n",
       "San Joaquin        139\n",
       "Sonoma              99\n",
       "Solano              95\n",
       "Stanislaus          94\n",
       "Monterey            93\n",
       "Santa Barbara       88\n",
       "Name: County, dtype: int64"
      ]
     },
     "execution_count": 70,
     "metadata": {},
     "output_type": "execute_result"
    }
   ],
   "source": [
    "state = \"California\"\n",
    "census[census.State == state].County.value_counts().head(20)"
   ]
  },
  {
   "cell_type": "markdown",
   "metadata": {},
   "source": [
    "### Overview"
   ]
  },
  {
   "cell_type": "code",
   "execution_count": 107,
   "metadata": {},
   "outputs": [
    {
     "data": {
      "text/html": [
       "<div>\n",
       "<style>\n",
       "    .dataframe thead tr:only-child th {\n",
       "        text-align: right;\n",
       "    }\n",
       "\n",
       "    .dataframe thead th {\n",
       "        text-align: left;\n",
       "    }\n",
       "\n",
       "    .dataframe tbody tr th {\n",
       "        vertical-align: top;\n",
       "    }\n",
       "</style>\n",
       "<table border=\"1\" class=\"dataframe\">\n",
       "  <thead>\n",
       "    <tr style=\"text-align: right;\">\n",
       "      <th></th>\n",
       "      <th>Asian</th>\n",
       "      <th>Black</th>\n",
       "      <th>Hispanic</th>\n",
       "      <th>Income</th>\n",
       "      <th>IncomePerCap</th>\n",
       "      <th>Median Commute</th>\n",
       "      <th>Men</th>\n",
       "      <th>Native</th>\n",
       "      <th>Pacific</th>\n",
       "      <th>White</th>\n",
       "      <th>Women</th>\n",
       "      <th>Men to women</th>\n",
       "    </tr>\n",
       "  </thead>\n",
       "  <tbody>\n",
       "    <tr>\n",
       "      <th>Santa Clara</th>\n",
       "      <td>626.084204</td>\n",
       "      <td>45.044374</td>\n",
       "      <td>497.096021</td>\n",
       "      <td>97832.0</td>\n",
       "      <td>43032.0</td>\n",
       "      <td>25.90</td>\n",
       "      <td>939.004</td>\n",
       "      <td>3.517091</td>\n",
       "      <td>6.229886</td>\n",
       "      <td>627.348056</td>\n",
       "      <td>929.145</td>\n",
       "      <td>1.010611</td>\n",
       "    </tr>\n",
       "    <tr>\n",
       "      <th>San Diego</th>\n",
       "      <td>362.505592</td>\n",
       "      <td>153.028657</td>\n",
       "      <td>1060.986419</td>\n",
       "      <td>63974.0</td>\n",
       "      <td>29876.5</td>\n",
       "      <td>25.00</td>\n",
       "      <td>1618.945</td>\n",
       "      <td>11.704634</td>\n",
       "      <td>13.484862</td>\n",
       "      <td>1515.345646</td>\n",
       "      <td>1604.151</td>\n",
       "      <td>1.009222</td>\n",
       "    </tr>\n",
       "    <tr>\n",
       "      <th>Monterey</th>\n",
       "      <td>25.217526</td>\n",
       "      <td>10.976058</td>\n",
       "      <td>243.887348</td>\n",
       "      <td>58250.0</td>\n",
       "      <td>22923.5</td>\n",
       "      <td>21.90</td>\n",
       "      <td>219.299</td>\n",
       "      <td>1.219249</td>\n",
       "      <td>1.953637</td>\n",
       "      <td>135.018274</td>\n",
       "      <td>209.142</td>\n",
       "      <td>1.048565</td>\n",
       "    </tr>\n",
       "    <tr>\n",
       "      <th>Alameda</th>\n",
       "      <td>436.266111</td>\n",
       "      <td>179.375374</td>\n",
       "      <td>358.167652</td>\n",
       "      <td>74096.0</td>\n",
       "      <td>35666.0</td>\n",
       "      <td>30.15</td>\n",
       "      <td>776.699</td>\n",
       "      <td>4.821192</td>\n",
       "      <td>13.265241</td>\n",
       "      <td>522.723766</td>\n",
       "      <td>808.284</td>\n",
       "      <td>0.960923</td>\n",
       "    </tr>\n",
       "    <tr>\n",
       "      <th>San Francisco</th>\n",
       "      <td>281.876728</td>\n",
       "      <td>44.899562</td>\n",
       "      <td>128.619425</td>\n",
       "      <td>82591.5</td>\n",
       "      <td>48314.0</td>\n",
       "      <td>31.70</td>\n",
       "      <td>427.909</td>\n",
       "      <td>1.504401</td>\n",
       "      <td>3.363267</td>\n",
       "      <td>346.739781</td>\n",
       "      <td>412.854</td>\n",
       "      <td>1.036466</td>\n",
       "    </tr>\n",
       "  </tbody>\n",
       "</table>\n",
       "</div>"
      ],
      "text/plain": [
       "                    Asian       Black     Hispanic   Income  IncomePerCap  \\\n",
       "Santa Clara    626.084204   45.044374   497.096021  97832.0       43032.0   \n",
       "San Diego      362.505592  153.028657  1060.986419  63974.0       29876.5   \n",
       "Monterey        25.217526   10.976058   243.887348  58250.0       22923.5   \n",
       "Alameda        436.266111  179.375374   358.167652  74096.0       35666.0   \n",
       "San Francisco  281.876728   44.899562   128.619425  82591.5       48314.0   \n",
       "\n",
       "               Median Commute       Men     Native    Pacific        White  \\\n",
       "Santa Clara             25.90   939.004   3.517091   6.229886   627.348056   \n",
       "San Diego               25.00  1618.945  11.704634  13.484862  1515.345646   \n",
       "Monterey                21.90   219.299   1.219249   1.953637   135.018274   \n",
       "Alameda                 30.15   776.699   4.821192  13.265241   522.723766   \n",
       "San Francisco           31.70   427.909   1.504401   3.363267   346.739781   \n",
       "\n",
       "                  Women  Men to women  \n",
       "Santa Clara     929.145      1.010611  \n",
       "San Diego      1604.151      1.009222  \n",
       "Monterey        209.142      1.048565  \n",
       "Alameda         808.284      0.960923  \n",
       "San Francisco   412.854      1.036466  "
      ]
     },
     "execution_count": 107,
     "metadata": {},
     "output_type": "execute_result"
    }
   ],
   "source": [
    "counties = [\"Santa Clara\", \"San Diego\", \"Monterey\", \"Alameda\", \"San Francisco\", \"Contra Costa\", \"Los Angeles\"]\n",
    "\n",
    "commute, income, income_percap, men, women = ([],[],[],[],[])\n",
    "hispanic, white, black, native, asian, pacific = ([],[],[],[],[],[])\n",
    "\n",
    "for county in counties:\n",
    "    curr_county = census[census.County == county]\n",
    "\n",
    "    commute.append(curr_county.MeanCommute.median())\n",
    "    men.append(curr_county.Men.sum() / 1000)\n",
    "    women.append(curr_county.Women.sum() / 1000)\n",
    "    hispanic.append(((curr_county.Hispanic * curr_county.TotalPop) / 100000).sum())\n",
    "    white.append(((curr_county.White * curr_county.TotalPop) / 100000).sum())\n",
    "    black.append(((curr_county.Black * curr_county.TotalPop) / 100000).sum())\n",
    "    native.append(((curr_county.Native * curr_county.TotalPop) / 100000).sum())\n",
    "    asian.append(((curr_county.Asian * curr_county.TotalPop) / 100000).sum())\n",
    "    pacific.append(((curr_county.Pacific * curr_county.TotalPop) / 100000).sum())\n",
    "    income.append(curr_county.Income.median())\n",
    "    income_percap.append(curr_county.IncomePerCap.median())\n",
    "\n",
    "counties = pd.DataFrame({\n",
    "                \"Women\": women,\n",
    "                \"Men\": men,\n",
    "                \"Median Commute\": commute,\n",
    "                \"Hispanic\": hispanic,\n",
    "                \"White\": white,\n",
    "                \"Black\": black,\n",
    "                \"Native\": native,\n",
    "                \"Asian\": asian,\n",
    "                \"Pacific\": pacific,\n",
    "                \"IncomePerCap\": income_percap,\n",
    "                \"Income\": income\n",
    "            }, index=counties)\n",
    "\n",
    "counties[\"Men to women\"] = counties.Men / counties.Women\n",
    "counties.head()"
   ]
  },
  {
   "cell_type": "markdown",
   "metadata": {},
   "source": [
    "### Selected County Comparison"
   ]
  },
  {
   "cell_type": "code",
   "execution_count": 110,
   "metadata": {},
   "outputs": [
    {
     "data": {
      "image/png": "[encoded data removed]",
      "text/plain": [
       "<matplotlib.figure.Figure at 0x1a1b903668>"
      ]
     },
     "metadata": {},
     "output_type": "display_data"
    }
   ],
   "source": [
    "plt.figure(figsize=(16, 12))\n",
    "\n",
    "ax1 = plt.subplot2grid((3, 2), (0, 0))\n",
    "ax2 = plt.subplot2grid((3, 2), (0, 1))\n",
    "ax3 = plt.subplot2grid((3, 2), (1, 0), colspan=2)\n",
    "ax4 = plt.subplot2grid((3, 2), (2, 0))\n",
    "ax5 = plt.subplot2grid((3, 2), (2, 1))\n",
    "\n",
    "sns.barplot(counties[\"Median Commute\"], counties.index, ax=ax1)\n",
    "sns.barplot(counties[\"Men to women\"], counties.index, ax=ax2)\n",
    "\n",
    "races = ['Hispanic', 'White', 'Black', 'Native', 'Asian', 'Pacific']\n",
    "for race in races:\n",
    "    ax3.bar(counties.index, counties[race], label=race)\n",
    "ax3.legend()\n",
    "\n",
    "sns.barplot(counties[\"IncomePerCap\"], counties.index, ax=ax4)\n",
    "_ = sns.barplot(counties[\"Income\"], counties.index, ax=ax5)"
   ]
  },
  {
   "cell_type": "markdown",
   "metadata": {},
   "source": [
    "### Gender imbalance"
   ]
  },
  {
   "cell_type": "code",
   "execution_count": 26,
   "metadata": {},
   "outputs": [
    {
     "data": {
      "image/png": "[encoded data removed]",
      "text/plain": [
       "<matplotlib.figure.Figure at 0x11056d358>"
      ]
     },
     "metadata": {},
     "output_type": "display_data"
    }
   ],
   "source": [
    "census[\"Men to women\"] = census.Men / census.Women\n",
    "ratio = census.groupby([\"State\", \"County\"])[\"Men to women\"].median().sort_values(ascending=False)\n",
    "\n",
    "fig, axarr = plt.subplots(1, 2, figsize=(18,8))\n",
    "fig.subplots_adjust(wspace=0.3)\n",
    "\n",
    "data = ratio.head(10)\n",
    "sns.barplot(x=data.values, y=data.index, ax=axarr[0]).set(title=\"Men to Women\")\n",
    "\n",
    "data = ratio.tail(10)\n",
    "_ = sns.barplot(x=data.values, y=data.index, ax=axarr[1]).set(title=\"Men to Women\")"
   ]
  },
  {
   "cell_type": "markdown",
   "metadata": {},
   "source": [
    "### Commute Times"
   ]
  },
  {
   "cell_type": "code",
   "execution_count": 8,
   "metadata": {},
   "outputs": [
    {
     "data": {
      "image/png": "[encoded data removed]",
      "text/plain": [
       "<matplotlib.figure.Figure at 0x1065174a8>"
      ]
     },
     "metadata": {},
     "output_type": "display_data"
    }
   ],
   "source": [
    "fig, axarr = plt.subplots(1, 2, figsize=(12, 8))\n",
    "\n",
    "commute_times = census.groupby([\"State\", \"County\"])[\"MeanCommute\"].median().sort_values().values\n",
    "axarr[0].plot(commute_times)\n",
    "axarr[0].set(title=\"Sorted Commute times\", xlabel=\"County index (after sorting)\", ylabel=\"Commute time (min)\")\n",
    "\n",
    "_ = (\n",
    "        census\n",
    "            .groupby([\"State\", \"County\"])[\"MeanCommute\"]\n",
    "            .median()\n",
    "            .sort_values()\n",
    "            .plot(kind=\"kde\", ax=axarr[1])\n",
    "            .set(title=\"KDE plot of commute times\", xlabel=\"Commute time (min)\", xlim=(0,60))\n",
    ")"
   ]
  },
  {
   "cell_type": "markdown",
   "metadata": {},
   "source": [
    "### Income"
   ]
  },
  {
   "cell_type": "code",
   "execution_count": 111,
   "metadata": {
    "scrolled": true
   },
   "outputs": [
    {
     "data": {
      "image/png": "[encoded data removed]",
      "text/plain": [
       "<matplotlib.figure.Figure at 0x1a1a9dc390>"
      ]
     },
     "metadata": {},
     "output_type": "display_data"
    }
   ],
   "source": [
    "fig, axarr = plt.subplots(1, 2, figsize=(12, 8))\n",
    "\n",
    "income = census.groupby([\"State\", \"County\"])[\"Income\"].median().sort_values().values\n",
    "axarr[0].plot(income)\n",
    "axarr[0].set(title=\"Sorted Incomes\", xlabel=\"County index (after sorting)\", ylabel=\"Income\")\n",
    "\n",
    "_ = (\n",
    "        census\n",
    "            .groupby([\"State\", \"County\"])[\"Income\"]\n",
    "            .median()\n",
    "            .sort_values()\n",
    "            .plot(kind=\"kde\", ax=axarr[1])\n",
    "            .set(title=\"KDE plot of income\", xlabel=\"Income\")\n",
    ")"
   ]
  },
  {
   "cell_type": "markdown",
   "metadata": {},
   "source": [
    "### Commute times\n",
    "\n",
    "WARNING: barplots take around 1min to load on my laptop"
   ]
  },
  {
   "cell_type": "code",
   "execution_count": 160,
   "metadata": {},
   "outputs": [
    {
     "name": "stdout",
     "output_type": "stream",
     "text": [
      "326 3202 201\n"
     ]
    }
   ],
   "source": [
    "high_times = census[census.MeanCommute > 40].groupby([\"State\", \"County\"])\n",
    "mid_times = census[(census.MeanCommute < 40) & (census.MeanCommute > 10)].groupby([\"State\", \"County\"])\n",
    "low_times  = census[census.MeanCommute < 10].groupby([\"State\", \"County\"])\n",
    "print(len(low_times), len(mid_times), len(high_times))"
   ]
  },
  {
   "cell_type": "code",
   "execution_count": 161,
   "metadata": {},
   "outputs": [
    {
     "data": {
      "image/png": "[encoded data removed]",
      "text/plain": [
       "<matplotlib.figure.Figure at 0x1a21625fd0>"
      ]
     },
     "metadata": {},
     "output_type": "display_data"
    }
   ],
   "source": [
    "trans = ['Drive', 'Carpool', 'Transit', 'Walk', 'OtherTransp']\n",
    "flatui = [\"#9b59b6\", \"#3498db\", \"#95a5a6\", \"#e74c3c\", \"#34495e\"]\n",
    "c = {trans[i]: flatui[i] for i in range(5)}\n",
    "\n",
    "plt.figure(figsize=(16, 8))\n",
    "for tran in trans:\n",
    "    plt.bar(\"Short commutes (< 10min)\", low_times[tran].median(), width=0.25, align=\"center\", label=tran, color=c[tran])\n",
    "    plt.bar(\"Mid commutes\", mid_times[tran].median(), width=0.25, align=\"center\", color=c[tran])\n",
    "    plt.bar(\"Long commutes (> 40min)\", high_times[tran].median(), width=0.25, align=\"center\", color=c[tran])\n",
    "  \n",
    "_ = plt.legend(bbox_to_anchor=(0.3, 0.3))"
   ]
  },
  {
   "cell_type": "code",
   "execution_count": null,
   "metadata": {
    "collapsed": true
   },
   "outputs": [],
   "source": []
  },
  {
   "cell_type": "code",
   "execution_count": null,
   "metadata": {
    "collapsed": true
   },
   "outputs": [],
   "source": []
  },
  {
   "cell_type": "code",
   "execution_count": null,
   "metadata": {
    "collapsed": true
   },
   "outputs": [],
   "source": []
  }
 ],
 "metadata": {
  "kernelspec": {
   "display_name": "Python 3",
   "language": "python",
   "name": "python3"
  },
  "language_info": {
   "codemirror_mode": {
    "name": "ipython",
    "version": 3
   },
   "file_extension": ".py",
   "mimetype": "text/x-python",
   "name": "python",
   "nbconvert_exporter": "python",
   "pygments_lexer": "ipython3",
   "version": "3.6.3"
  }
 },
 "nbformat": 4,
 "nbformat_minor": 2
}
