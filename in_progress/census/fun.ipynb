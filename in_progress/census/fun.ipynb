{
 "cells": [
  {
   "cell_type": "markdown",
   "metadata": {},
   "source": [
    "### Imports"
   ]
  },
  {
   "cell_type": "code",
   "execution_count": 1,
   "metadata": {
    "collapsed": true
   },
   "outputs": [],
   "source": [
    "import pandas as pd\n",
    "import numpy as np\n",
    "\n",
    "import matplotlib.pyplot as plt\n",
    "import seaborn as sns\n",
    "sns.set()\n",
    "%matplotlib inline"
   ]
  },
  {
   "cell_type": "markdown",
   "metadata": {},
   "source": [
    "### Load data"
   ]
  },
  {
   "cell_type": "code",
   "execution_count": 2,
   "metadata": {},
   "outputs": [
    {
     "name": "stdout",
     "output_type": "stream",
     "text": [
      "Shape of data (3220, 37)\n",
      "Columns Index(['CensusId', 'State', 'County', 'TotalPop', 'Men', 'Women', 'Hispanic',\n",
      "       'White', 'Black', 'Native', 'Asian', 'Pacific', 'Citizen', 'Income',\n",
      "       'IncomeErr', 'IncomePerCap', 'IncomePerCapErr', 'Poverty',\n",
      "       'ChildPoverty', 'Professional', 'Service', 'Office', 'Construction',\n",
      "       'Production', 'Drive', 'Carpool', 'Transit', 'Walk', 'OtherTransp',\n",
      "       'WorkAtHome', 'MeanCommute', 'Employed', 'PrivateWork', 'PublicWork',\n",
      "       'SelfEmployed', 'FamilyWork', 'Unemployment'],\n",
      "      dtype='object')\n"
     ]
    },
    {
     "data": {
      "text/html": [
       "<div>\n",
       "<style>\n",
       "    .dataframe thead tr:only-child th {\n",
       "        text-align: right;\n",
       "    }\n",
       "\n",
       "    .dataframe thead th {\n",
       "        text-align: left;\n",
       "    }\n",
       "\n",
       "    .dataframe tbody tr th {\n",
       "        vertical-align: top;\n",
       "    }\n",
       "</style>\n",
       "<table border=\"1\" class=\"dataframe\">\n",
       "  <thead>\n",
       "    <tr style=\"text-align: right;\">\n",
       "      <th></th>\n",
       "      <th>CensusId</th>\n",
       "      <th>State</th>\n",
       "      <th>County</th>\n",
       "      <th>TotalPop</th>\n",
       "      <th>Men</th>\n",
       "      <th>Women</th>\n",
       "      <th>Hispanic</th>\n",
       "      <th>White</th>\n",
       "      <th>Black</th>\n",
       "      <th>Native</th>\n",
       "      <th>...</th>\n",
       "      <th>Walk</th>\n",
       "      <th>OtherTransp</th>\n",
       "      <th>WorkAtHome</th>\n",
       "      <th>MeanCommute</th>\n",
       "      <th>Employed</th>\n",
       "      <th>PrivateWork</th>\n",
       "      <th>PublicWork</th>\n",
       "      <th>SelfEmployed</th>\n",
       "      <th>FamilyWork</th>\n",
       "      <th>Unemployment</th>\n",
       "    </tr>\n",
       "  </thead>\n",
       "  <tbody>\n",
       "    <tr>\n",
       "      <th>0</th>\n",
       "      <td>1001</td>\n",
       "      <td>Alabama</td>\n",
       "      <td>Autauga</td>\n",
       "      <td>55221</td>\n",
       "      <td>26745</td>\n",
       "      <td>28476</td>\n",
       "      <td>2.6</td>\n",
       "      <td>75.8</td>\n",
       "      <td>18.5</td>\n",
       "      <td>0.4</td>\n",
       "      <td>...</td>\n",
       "      <td>0.5</td>\n",
       "      <td>1.3</td>\n",
       "      <td>1.8</td>\n",
       "      <td>26.5</td>\n",
       "      <td>23986</td>\n",
       "      <td>73.6</td>\n",
       "      <td>20.9</td>\n",
       "      <td>5.5</td>\n",
       "      <td>0.0</td>\n",
       "      <td>7.6</td>\n",
       "    </tr>\n",
       "    <tr>\n",
       "      <th>1</th>\n",
       "      <td>1003</td>\n",
       "      <td>Alabama</td>\n",
       "      <td>Baldwin</td>\n",
       "      <td>195121</td>\n",
       "      <td>95314</td>\n",
       "      <td>99807</td>\n",
       "      <td>4.5</td>\n",
       "      <td>83.1</td>\n",
       "      <td>9.5</td>\n",
       "      <td>0.6</td>\n",
       "      <td>...</td>\n",
       "      <td>1.0</td>\n",
       "      <td>1.4</td>\n",
       "      <td>3.9</td>\n",
       "      <td>26.4</td>\n",
       "      <td>85953</td>\n",
       "      <td>81.5</td>\n",
       "      <td>12.3</td>\n",
       "      <td>5.8</td>\n",
       "      <td>0.4</td>\n",
       "      <td>7.5</td>\n",
       "    </tr>\n",
       "    <tr>\n",
       "      <th>2</th>\n",
       "      <td>1005</td>\n",
       "      <td>Alabama</td>\n",
       "      <td>Barbour</td>\n",
       "      <td>26932</td>\n",
       "      <td>14497</td>\n",
       "      <td>12435</td>\n",
       "      <td>4.6</td>\n",
       "      <td>46.2</td>\n",
       "      <td>46.7</td>\n",
       "      <td>0.2</td>\n",
       "      <td>...</td>\n",
       "      <td>1.8</td>\n",
       "      <td>1.5</td>\n",
       "      <td>1.6</td>\n",
       "      <td>24.1</td>\n",
       "      <td>8597</td>\n",
       "      <td>71.8</td>\n",
       "      <td>20.8</td>\n",
       "      <td>7.3</td>\n",
       "      <td>0.1</td>\n",
       "      <td>17.6</td>\n",
       "    </tr>\n",
       "    <tr>\n",
       "      <th>3</th>\n",
       "      <td>1007</td>\n",
       "      <td>Alabama</td>\n",
       "      <td>Bibb</td>\n",
       "      <td>22604</td>\n",
       "      <td>12073</td>\n",
       "      <td>10531</td>\n",
       "      <td>2.2</td>\n",
       "      <td>74.5</td>\n",
       "      <td>21.4</td>\n",
       "      <td>0.4</td>\n",
       "      <td>...</td>\n",
       "      <td>0.6</td>\n",
       "      <td>1.5</td>\n",
       "      <td>0.7</td>\n",
       "      <td>28.8</td>\n",
       "      <td>8294</td>\n",
       "      <td>76.8</td>\n",
       "      <td>16.1</td>\n",
       "      <td>6.7</td>\n",
       "      <td>0.4</td>\n",
       "      <td>8.3</td>\n",
       "    </tr>\n",
       "    <tr>\n",
       "      <th>4</th>\n",
       "      <td>1009</td>\n",
       "      <td>Alabama</td>\n",
       "      <td>Blount</td>\n",
       "      <td>57710</td>\n",
       "      <td>28512</td>\n",
       "      <td>29198</td>\n",
       "      <td>8.6</td>\n",
       "      <td>87.9</td>\n",
       "      <td>1.5</td>\n",
       "      <td>0.3</td>\n",
       "      <td>...</td>\n",
       "      <td>0.9</td>\n",
       "      <td>0.4</td>\n",
       "      <td>2.3</td>\n",
       "      <td>34.9</td>\n",
       "      <td>22189</td>\n",
       "      <td>82.0</td>\n",
       "      <td>13.5</td>\n",
       "      <td>4.2</td>\n",
       "      <td>0.4</td>\n",
       "      <td>7.7</td>\n",
       "    </tr>\n",
       "  </tbody>\n",
       "</table>\n",
       "<p>5 rows × 37 columns</p>\n",
       "</div>"
      ],
      "text/plain": [
       "   CensusId    State   County  TotalPop    Men  Women  Hispanic  White  Black  \\\n",
       "0      1001  Alabama  Autauga     55221  26745  28476       2.6   75.8   18.5   \n",
       "1      1003  Alabama  Baldwin    195121  95314  99807       4.5   83.1    9.5   \n",
       "2      1005  Alabama  Barbour     26932  14497  12435       4.6   46.2   46.7   \n",
       "3      1007  Alabama     Bibb     22604  12073  10531       2.2   74.5   21.4   \n",
       "4      1009  Alabama   Blount     57710  28512  29198       8.6   87.9    1.5   \n",
       "\n",
       "   Native      ...       Walk  OtherTransp  WorkAtHome  MeanCommute  Employed  \\\n",
       "0     0.4      ...        0.5          1.3         1.8         26.5     23986   \n",
       "1     0.6      ...        1.0          1.4         3.9         26.4     85953   \n",
       "2     0.2      ...        1.8          1.5         1.6         24.1      8597   \n",
       "3     0.4      ...        0.6          1.5         0.7         28.8      8294   \n",
       "4     0.3      ...        0.9          0.4         2.3         34.9     22189   \n",
       "\n",
       "   PrivateWork  PublicWork  SelfEmployed  FamilyWork  Unemployment  \n",
       "0         73.6        20.9           5.5         0.0           7.6  \n",
       "1         81.5        12.3           5.8         0.4           7.5  \n",
       "2         71.8        20.8           7.3         0.1          17.6  \n",
       "3         76.8        16.1           6.7         0.4           8.3  \n",
       "4         82.0        13.5           4.2         0.4           7.7  \n",
       "\n",
       "[5 rows x 37 columns]"
      ]
     },
     "execution_count": 2,
     "metadata": {},
     "output_type": "execute_result"
    }
   ],
   "source": [
    "census = pd.read_csv(\"../../data/census/census_county.csv\")\n",
    "\n",
    "# Removing missing rows with missing population values\n",
    "census = census.drop(census[census.TotalPop == 0].index)\n",
    "\n",
    "print(\"Shape of data\", census.shape)\n",
    "print(\"Columns\", census.columns)\n",
    "census.head()"
   ]
  },
  {
   "cell_type": "markdown",
   "metadata": {},
   "source": [
    "### Longest and Shortest County names"
   ]
  },
  {
   "cell_type": "code",
   "execution_count": 3,
   "metadata": {},
   "outputs": [
    {
     "data": {
      "text/html": [
       "<div>\n",
       "<style>\n",
       "    .dataframe thead tr:only-child th {\n",
       "        text-align: right;\n",
       "    }\n",
       "\n",
       "    .dataframe thead th {\n",
       "        text-align: left;\n",
       "    }\n",
       "\n",
       "    .dataframe tbody tr th {\n",
       "        vertical-align: top;\n",
       "    }\n",
       "</style>\n",
       "<table border=\"1\" class=\"dataframe\">\n",
       "  <thead>\n",
       "    <tr style=\"text-align: right;\">\n",
       "      <th></th>\n",
       "      <th>CensusId</th>\n",
       "      <th>State</th>\n",
       "      <th>County</th>\n",
       "      <th>TotalPop</th>\n",
       "      <th>Men</th>\n",
       "      <th>Women</th>\n",
       "      <th>Hispanic</th>\n",
       "      <th>White</th>\n",
       "      <th>Black</th>\n",
       "      <th>Native</th>\n",
       "      <th>...</th>\n",
       "      <th>Walk</th>\n",
       "      <th>OtherTransp</th>\n",
       "      <th>WorkAtHome</th>\n",
       "      <th>MeanCommute</th>\n",
       "      <th>Employed</th>\n",
       "      <th>PrivateWork</th>\n",
       "      <th>PublicWork</th>\n",
       "      <th>SelfEmployed</th>\n",
       "      <th>FamilyWork</th>\n",
       "      <th>Unemployment</th>\n",
       "    </tr>\n",
       "  </thead>\n",
       "  <tbody>\n",
       "    <tr>\n",
       "      <th>40</th>\n",
       "      <td>1081</td>\n",
       "      <td>Alabama</td>\n",
       "      <td>Lee</td>\n",
       "      <td>150982</td>\n",
       "      <td>74277</td>\n",
       "      <td>76705</td>\n",
       "      <td>3.7</td>\n",
       "      <td>68.2</td>\n",
       "      <td>23.0</td>\n",
       "      <td>0.1</td>\n",
       "      <td>...</td>\n",
       "      <td>2.2</td>\n",
       "      <td>1.0</td>\n",
       "      <td>3.1</td>\n",
       "      <td>21.7</td>\n",
       "      <td>68614</td>\n",
       "      <td>75.5</td>\n",
       "      <td>20.3</td>\n",
       "      <td>4.1</td>\n",
       "      <td>0.1</td>\n",
       "      <td>7.3</td>\n",
       "    </tr>\n",
       "    <tr>\n",
       "      <th>88</th>\n",
       "      <td>2198</td>\n",
       "      <td>Alaska</td>\n",
       "      <td>Prince of Wales-Hyder Census Area</td>\n",
       "      <td>6376</td>\n",
       "      <td>3468</td>\n",
       "      <td>2908</td>\n",
       "      <td>3.2</td>\n",
       "      <td>46.0</td>\n",
       "      <td>0.2</td>\n",
       "      <td>40.3</td>\n",
       "      <td>...</td>\n",
       "      <td>20.3</td>\n",
       "      <td>7.3</td>\n",
       "      <td>4.6</td>\n",
       "      <td>14.0</td>\n",
       "      <td>2819</td>\n",
       "      <td>50.4</td>\n",
       "      <td>37.7</td>\n",
       "      <td>11.8</td>\n",
       "      <td>0.1</td>\n",
       "      <td>13.9</td>\n",
       "    </tr>\n",
       "  </tbody>\n",
       "</table>\n",
       "<p>2 rows × 37 columns</p>\n",
       "</div>"
      ],
      "text/plain": [
       "    CensusId    State                             County  TotalPop    Men  \\\n",
       "40      1081  Alabama                                Lee    150982  74277   \n",
       "88      2198   Alaska  Prince of Wales-Hyder Census Area      6376   3468   \n",
       "\n",
       "    Women  Hispanic  White  Black  Native      ...       Walk  OtherTransp  \\\n",
       "40  76705       3.7   68.2   23.0     0.1      ...        2.2          1.0   \n",
       "88   2908       3.2   46.0    0.2    40.3      ...       20.3          7.3   \n",
       "\n",
       "    WorkAtHome  MeanCommute  Employed  PrivateWork  PublicWork  SelfEmployed  \\\n",
       "40         3.1         21.7     68614         75.5        20.3           4.1   \n",
       "88         4.6         14.0      2819         50.4        37.7          11.8   \n",
       "\n",
       "    FamilyWork  Unemployment  \n",
       "40         0.1           7.3  \n",
       "88         0.1          13.9  \n",
       "\n",
       "[2 rows x 37 columns]"
      ]
     },
     "execution_count": 3,
     "metadata": {},
     "output_type": "execute_result"
    }
   ],
   "source": [
    "longest_county_name_on_census_dataset_index = np.argmax(census.County.map(len))\n",
    "s_i = np.argmin(census.County.map(len))\n",
    "\n",
    "census[(census.index == longest_county_name_on_census_dataset_index) | (census.index == s_i)]"
   ]
  },
  {
   "cell_type": "markdown",
   "metadata": {},
   "source": [
    "### Largest income error\n",
    "\n",
    "The income given can be off by as much as 21,355"
   ]
  },
  {
   "cell_type": "code",
   "execution_count": 4,
   "metadata": {},
   "outputs": [
    {
     "name": "stdout",
     "output_type": "stream",
     "text": [
      "2657    21355.0\n",
      "Name: IncomeErr, dtype: float64\n"
     ]
    },
    {
     "data": {
      "text/html": [
       "<div>\n",
       "<style>\n",
       "    .dataframe thead tr:only-child th {\n",
       "        text-align: right;\n",
       "    }\n",
       "\n",
       "    .dataframe thead th {\n",
       "        text-align: left;\n",
       "    }\n",
       "\n",
       "    .dataframe tbody tr th {\n",
       "        vertical-align: top;\n",
       "    }\n",
       "</style>\n",
       "<table border=\"1\" class=\"dataframe\">\n",
       "  <thead>\n",
       "    <tr style=\"text-align: right;\">\n",
       "      <th></th>\n",
       "      <th>CensusId</th>\n",
       "      <th>State</th>\n",
       "      <th>County</th>\n",
       "      <th>TotalPop</th>\n",
       "      <th>Men</th>\n",
       "      <th>Women</th>\n",
       "      <th>Hispanic</th>\n",
       "      <th>White</th>\n",
       "      <th>Black</th>\n",
       "      <th>Native</th>\n",
       "      <th>...</th>\n",
       "      <th>Walk</th>\n",
       "      <th>OtherTransp</th>\n",
       "      <th>WorkAtHome</th>\n",
       "      <th>MeanCommute</th>\n",
       "      <th>Employed</th>\n",
       "      <th>PrivateWork</th>\n",
       "      <th>PublicWork</th>\n",
       "      <th>SelfEmployed</th>\n",
       "      <th>FamilyWork</th>\n",
       "      <th>Unemployment</th>\n",
       "    </tr>\n",
       "  </thead>\n",
       "  <tbody>\n",
       "    <tr>\n",
       "      <th>2657</th>\n",
       "      <td>48269</td>\n",
       "      <td>Texas</td>\n",
       "      <td>King</td>\n",
       "      <td>267</td>\n",
       "      <td>136</td>\n",
       "      <td>131</td>\n",
       "      <td>24.7</td>\n",
       "      <td>75.3</td>\n",
       "      <td>0.0</td>\n",
       "      <td>0.0</td>\n",
       "      <td>...</td>\n",
       "      <td>7.8</td>\n",
       "      <td>0.0</td>\n",
       "      <td>3.6</td>\n",
       "      <td>11.6</td>\n",
       "      <td>166</td>\n",
       "      <td>72.9</td>\n",
       "      <td>21.1</td>\n",
       "      <td>6.0</td>\n",
       "      <td>0.0</td>\n",
       "      <td>5.1</td>\n",
       "    </tr>\n",
       "  </tbody>\n",
       "</table>\n",
       "<p>1 rows × 37 columns</p>\n",
       "</div>"
      ],
      "text/plain": [
       "      CensusId  State County  TotalPop  Men  Women  Hispanic  White  Black  \\\n",
       "2657     48269  Texas   King       267  136    131      24.7   75.3    0.0   \n",
       "\n",
       "      Native      ...       Walk  OtherTransp  WorkAtHome  MeanCommute  \\\n",
       "2657     0.0      ...        7.8          0.0         3.6         11.6   \n",
       "\n",
       "      Employed  PrivateWork  PublicWork  SelfEmployed  FamilyWork  \\\n",
       "2657       166         72.9        21.1           6.0         0.0   \n",
       "\n",
       "      Unemployment  \n",
       "2657           5.1  \n",
       "\n",
       "[1 rows x 37 columns]"
      ]
     },
     "execution_count": 4,
     "metadata": {},
     "output_type": "execute_result"
    }
   ],
   "source": [
    "max_income_err = np.argmax(census.IncomeErr)\n",
    "max_income_err = census[census.index == max_income_err]\n",
    "\n",
    "print(max_income_err.IncomeErr)\n",
    "max_income_err"
   ]
  },
  {
   "cell_type": "markdown",
   "metadata": {},
   "source": [
    "### Largest Income per cap error\n",
    "\n",
    "The per capita income can be off by as much as 15,266.  I wonder if this indicates high income inequality"
   ]
  },
  {
   "cell_type": "code",
   "execution_count": 6,
   "metadata": {},
   "outputs": [
    {
     "name": "stdout",
     "output_type": "stream",
     "text": [
      "2539    15266\n",
      "Name: IncomePerCapErr, dtype: int64\n"
     ]
    },
    {
     "data": {
      "text/html": [
       "<div>\n",
       "<style>\n",
       "    .dataframe thead tr:only-child th {\n",
       "        text-align: right;\n",
       "    }\n",
       "\n",
       "    .dataframe thead th {\n",
       "        text-align: left;\n",
       "    }\n",
       "\n",
       "    .dataframe tbody tr th {\n",
       "        vertical-align: top;\n",
       "    }\n",
       "</style>\n",
       "<table border=\"1\" class=\"dataframe\">\n",
       "  <thead>\n",
       "    <tr style=\"text-align: right;\">\n",
       "      <th></th>\n",
       "      <th>CensusId</th>\n",
       "      <th>State</th>\n",
       "      <th>County</th>\n",
       "      <th>TotalPop</th>\n",
       "      <th>Men</th>\n",
       "      <th>Women</th>\n",
       "      <th>Hispanic</th>\n",
       "      <th>White</th>\n",
       "      <th>Black</th>\n",
       "      <th>Native</th>\n",
       "      <th>...</th>\n",
       "      <th>Walk</th>\n",
       "      <th>OtherTransp</th>\n",
       "      <th>WorkAtHome</th>\n",
       "      <th>MeanCommute</th>\n",
       "      <th>Employed</th>\n",
       "      <th>PrivateWork</th>\n",
       "      <th>PublicWork</th>\n",
       "      <th>SelfEmployed</th>\n",
       "      <th>FamilyWork</th>\n",
       "      <th>Unemployment</th>\n",
       "    </tr>\n",
       "  </thead>\n",
       "  <tbody>\n",
       "    <tr>\n",
       "      <th>2539</th>\n",
       "      <td>48033</td>\n",
       "      <td>Texas</td>\n",
       "      <td>Borden</td>\n",
       "      <td>705</td>\n",
       "      <td>362</td>\n",
       "      <td>343</td>\n",
       "      <td>8.8</td>\n",
       "      <td>87.9</td>\n",
       "      <td>0.0</td>\n",
       "      <td>3.0</td>\n",
       "      <td>...</td>\n",
       "      <td>0.7</td>\n",
       "      <td>0.7</td>\n",
       "      <td>9.6</td>\n",
       "      <td>24.9</td>\n",
       "      <td>282</td>\n",
       "      <td>45.7</td>\n",
       "      <td>36.2</td>\n",
       "      <td>17.0</td>\n",
       "      <td>1.1</td>\n",
       "      <td>0.7</td>\n",
       "    </tr>\n",
       "  </tbody>\n",
       "</table>\n",
       "<p>1 rows × 37 columns</p>\n",
       "</div>"
      ],
      "text/plain": [
       "      CensusId  State  County  TotalPop  Men  Women  Hispanic  White  Black  \\\n",
       "2539     48033  Texas  Borden       705  362    343       8.8   87.9    0.0   \n",
       "\n",
       "      Native      ...       Walk  OtherTransp  WorkAtHome  MeanCommute  \\\n",
       "2539     3.0      ...        0.7          0.7         9.6         24.9   \n",
       "\n",
       "      Employed  PrivateWork  PublicWork  SelfEmployed  FamilyWork  \\\n",
       "2539       282         45.7        36.2          17.0         1.1   \n",
       "\n",
       "      Unemployment  \n",
       "2539           0.7  \n",
       "\n",
       "[1 rows x 37 columns]"
      ]
     },
     "execution_count": 6,
     "metadata": {},
     "output_type": "execute_result"
    }
   ],
   "source": [
    "max_per_cap_err = np.argmax(census.IncomePerCapErr)\n",
    "max_per_cap_err = census[census.index == max_per_cap_err]\n",
    "\n",
    "print(max_per_cap_err.IncomePerCapErr)\n",
    "max_per_cap_err"
   ]
  },
  {
   "cell_type": "markdown",
   "metadata": {},
   "source": [
    "### Gender imbalance"
   ]
  },
  {
   "cell_type": "code",
   "execution_count": 10,
   "metadata": {},
   "outputs": [
    {
     "data": {
      "image/png": "[encoded data removed]",
      "text/plain": [
       "<matplotlib.figure.Figure at 0x1a0afe5780>"
      ]
     },
     "metadata": {},
     "output_type": "display_data"
    }
   ],
   "source": [
    "census[\"Men to women\"] = census.Men / census.Women\n",
    "ratio = census.groupby([\"State\", \"County\"])[\"Men to women\"].median().sort_values(ascending=False)\n",
    "\n",
    "fig, axarr = plt.subplots(1, 2, figsize=(18,8))\n",
    "fig.subplots_adjust(wspace=0.3)\n",
    "\n",
    "data = ratio.head(10)\n",
    "sns.barplot(x=data.values, y=data.index, ax=axarr[0]).set(title=\"Men to Women\")\n",
    "\n",
    "data = ratio.tail(10)\n",
    "_ = sns.barplot(x=data.values, y=data.index, ax=axarr[1]).set(title=\"Men to Women\")"
   ]
  },
  {
   "cell_type": "markdown",
   "metadata": {},
   "source": [
    "# Selected Counties\n",
    "\n",
    "### Counties in California"
   ]
  },
  {
   "cell_type": "code",
   "execution_count": 7,
   "metadata": {},
   "outputs": [
    {
     "data": {
      "text/plain": [
       "Mendocino         1\n",
       "Riverside         1\n",
       "Plumas            1\n",
       "San Benito        1\n",
       "San Bernardino    1\n",
       "Santa Clara       1\n",
       "Inyo              1\n",
       "San Joaquin       1\n",
       "Stanislaus        1\n",
       "Contra Costa      1\n",
       "Tuolumne          1\n",
       "Monterey          1\n",
       "Solano            1\n",
       "Sacramento        1\n",
       "Calaveras         1\n",
       "Lake              1\n",
       "Mono              1\n",
       "Modoc             1\n",
       "Colusa            1\n",
       "Placer            1\n",
       "Name: County, dtype: int64"
      ]
     },
     "execution_count": 7,
     "metadata": {},
     "output_type": "execute_result"
    }
   ],
   "source": [
    "state = \"California\"\n",
    "census[census.State == state].County.value_counts().head(20)"
   ]
  },
  {
   "cell_type": "markdown",
   "metadata": {},
   "source": [
    "### Overview"
   ]
  },
  {
   "cell_type": "code",
   "execution_count": 8,
   "metadata": {},
   "outputs": [
    {
     "data": {
      "text/html": [
       "<div>\n",
       "<style>\n",
       "    .dataframe thead tr:only-child th {\n",
       "        text-align: right;\n",
       "    }\n",
       "\n",
       "    .dataframe thead th {\n",
       "        text-align: left;\n",
       "    }\n",
       "\n",
       "    .dataframe tbody tr th {\n",
       "        vertical-align: top;\n",
       "    }\n",
       "</style>\n",
       "<table border=\"1\" class=\"dataframe\">\n",
       "  <thead>\n",
       "    <tr style=\"text-align: right;\">\n",
       "      <th></th>\n",
       "      <th>Asian</th>\n",
       "      <th>Black</th>\n",
       "      <th>Hispanic</th>\n",
       "      <th>Income</th>\n",
       "      <th>IncomePerCap</th>\n",
       "      <th>Median Commute</th>\n",
       "      <th>Men</th>\n",
       "      <th>Native</th>\n",
       "      <th>Pacific</th>\n",
       "      <th>White</th>\n",
       "      <th>Women</th>\n",
       "      <th>Men to women</th>\n",
       "    </tr>\n",
       "  </thead>\n",
       "  <tbody>\n",
       "    <tr>\n",
       "      <th>Santa Clara</th>\n",
       "      <td>625.829915</td>\n",
       "      <td>44.835576</td>\n",
       "      <td>496.927634</td>\n",
       "      <td>96310.0</td>\n",
       "      <td>43880.0</td>\n",
       "      <td>26.3</td>\n",
       "      <td>939.004</td>\n",
       "      <td>3.736298</td>\n",
       "      <td>5.604447</td>\n",
       "      <td>627.698064</td>\n",
       "      <td>929.145</td>\n",
       "      <td>1.010611</td>\n",
       "    </tr>\n",
       "    <tr>\n",
       "      <th>San Diego</th>\n",
       "      <td>360.986752</td>\n",
       "      <td>151.485512</td>\n",
       "      <td>1060.398584</td>\n",
       "      <td>64309.0</td>\n",
       "      <td>31266.0</td>\n",
       "      <td>25.0</td>\n",
       "      <td>1618.945</td>\n",
       "      <td>12.892384</td>\n",
       "      <td>12.892384</td>\n",
       "      <td>1514.855120</td>\n",
       "      <td>1604.151</td>\n",
       "      <td>1.009222</td>\n",
       "    </tr>\n",
       "    <tr>\n",
       "      <th>Monterey</th>\n",
       "      <td>25.278019</td>\n",
       "      <td>11.139466</td>\n",
       "      <td>243.782929</td>\n",
       "      <td>58783.0</td>\n",
       "      <td>24994.0</td>\n",
       "      <td>22.3</td>\n",
       "      <td>219.299</td>\n",
       "      <td>1.285323</td>\n",
       "      <td>2.142205</td>\n",
       "      <td>134.958915</td>\n",
       "      <td>209.142</td>\n",
       "      <td>1.048565</td>\n",
       "    </tr>\n",
       "    <tr>\n",
       "      <th>Alameda</th>\n",
       "      <td>435.870325</td>\n",
       "      <td>179.103079</td>\n",
       "      <td>358.206158</td>\n",
       "      <td>75619.0</td>\n",
       "      <td>37285.0</td>\n",
       "      <td>30.7</td>\n",
       "      <td>776.699</td>\n",
       "      <td>4.754949</td>\n",
       "      <td>12.679864</td>\n",
       "      <td>523.044390</td>\n",
       "      <td>808.284</td>\n",
       "      <td>0.960923</td>\n",
       "    </tr>\n",
       "    <tr>\n",
       "      <th>San Francisco</th>\n",
       "      <td>281.655605</td>\n",
       "      <td>44.560439</td>\n",
       "      <td>128.636739</td>\n",
       "      <td>81294.0</td>\n",
       "      <td>52220.0</td>\n",
       "      <td>31.7</td>\n",
       "      <td>427.909</td>\n",
       "      <td>1.681526</td>\n",
       "      <td>3.363052</td>\n",
       "      <td>346.394356</td>\n",
       "      <td>412.854</td>\n",
       "      <td>1.036466</td>\n",
       "    </tr>\n",
       "  </tbody>\n",
       "</table>\n",
       "</div>"
      ],
      "text/plain": [
       "                    Asian       Black     Hispanic   Income  IncomePerCap  \\\n",
       "Santa Clara    625.829915   44.835576   496.927634  96310.0       43880.0   \n",
       "San Diego      360.986752  151.485512  1060.398584  64309.0       31266.0   \n",
       "Monterey        25.278019   11.139466   243.782929  58783.0       24994.0   \n",
       "Alameda        435.870325  179.103079   358.206158  75619.0       37285.0   \n",
       "San Francisco  281.655605   44.560439   128.636739  81294.0       52220.0   \n",
       "\n",
       "               Median Commute       Men     Native    Pacific        White  \\\n",
       "Santa Clara              26.3   939.004   3.736298   5.604447   627.698064   \n",
       "San Diego                25.0  1618.945  12.892384  12.892384  1514.855120   \n",
       "Monterey                 22.3   219.299   1.285323   2.142205   134.958915   \n",
       "Alameda                  30.7   776.699   4.754949  12.679864   523.044390   \n",
       "San Francisco            31.7   427.909   1.681526   3.363052   346.394356   \n",
       "\n",
       "                  Women  Men to women  \n",
       "Santa Clara     929.145      1.010611  \n",
       "San Diego      1604.151      1.009222  \n",
       "Monterey        209.142      1.048565  \n",
       "Alameda         808.284      0.960923  \n",
       "San Francisco   412.854      1.036466  "
      ]
     },
     "execution_count": 8,
     "metadata": {},
     "output_type": "execute_result"
    }
   ],
   "source": [
    "counties = [\"Santa Clara\", \"San Diego\", \"Monterey\", \"Alameda\", \"San Francisco\", \"Contra Costa\", \"Los Angeles\"]\n",
    "\n",
    "commute, income, income_percap, men, women = ([],[],[],[],[])\n",
    "hispanic, white, black, native, asian, pacific = ([],[],[],[],[],[])\n",
    "\n",
    "for county in counties:\n",
    "    curr_county = census[census.County == county]\n",
    "\n",
    "    commute.append(curr_county.MeanCommute.median())\n",
    "    men.append(curr_county.Men.sum() / 1000)\n",
    "    women.append(curr_county.Women.sum() / 1000)\n",
    "    hispanic.append(((curr_county.Hispanic * curr_county.TotalPop) / 100000).sum())\n",
    "    white.append(((curr_county.White * curr_county.TotalPop) / 100000).sum())\n",
    "    black.append(((curr_county.Black * curr_county.TotalPop) / 100000).sum())\n",
    "    native.append(((curr_county.Native * curr_county.TotalPop) / 100000).sum())\n",
    "    asian.append(((curr_county.Asian * curr_county.TotalPop) / 100000).sum())\n",
    "    pacific.append(((curr_county.Pacific * curr_county.TotalPop) / 100000).sum())\n",
    "    income.append(curr_county.Income.median())\n",
    "    income_percap.append(curr_county.IncomePerCap.median())\n",
    "\n",
    "counties = pd.DataFrame({\n",
    "                \"Women\": women,\n",
    "                \"Men\": men,\n",
    "                \"Median Commute\": commute,\n",
    "                \"Hispanic\": hispanic,\n",
    "                \"White\": white,\n",
    "                \"Black\": black,\n",
    "                \"Native\": native,\n",
    "                \"Asian\": asian,\n",
    "                \"Pacific\": pacific,\n",
    "                \"IncomePerCap\": income_percap,\n",
    "                \"Income\": income\n",
    "            }, index=counties)\n",
    "\n",
    "counties[\"Men to women\"] = counties.Men / counties.Women\n",
    "counties.head()"
   ]
  },
  {
   "cell_type": "markdown",
   "metadata": {},
   "source": [
    "### Selected County Comparison"
   ]
  },
  {
   "cell_type": "code",
   "execution_count": 9,
   "metadata": {},
   "outputs": [
    {
     "data": {
      "image/png": "[encoded data removed]",
      "text/plain": [
       "<matplotlib.figure.Figure at 0x1a0afe5470>"
      ]
     },
     "metadata": {},
     "output_type": "display_data"
    }
   ],
   "source": [
    "plt.figure(figsize=(16, 12))\n",
    "\n",
    "ax1 = plt.subplot2grid((3, 2), (0, 0))\n",
    "ax2 = plt.subplot2grid((3, 2), (0, 1))\n",
    "ax3 = plt.subplot2grid((3, 2), (1, 0), colspan=2)\n",
    "ax4 = plt.subplot2grid((3, 2), (2, 0))\n",
    "ax5 = plt.subplot2grid((3, 2), (2, 1))\n",
    "\n",
    "sns.barplot(counties[\"Median Commute\"], counties.index, ax=ax1)\n",
    "sns.barplot(counties[\"Men to women\"], counties.index, ax=ax2)\n",
    "\n",
    "races = ['Hispanic', 'White', 'Black', 'Native', 'Asian', 'Pacific']\n",
    "counties[races].plot(kind=\"bar\", stacked=True, ax=ax3, rot=0)\n",
    "\n",
    "sns.barplot(counties[\"IncomePerCap\"], counties.index, ax=ax4)\n",
    "_ = sns.barplot(counties[\"Income\"], counties.index, ax=ax5)"
   ]
  },
  {
   "cell_type": "markdown",
   "metadata": {},
   "source": [
    "### Commute Times"
   ]
  },
  {
   "cell_type": "code",
   "execution_count": 11,
   "metadata": {},
   "outputs": [
    {
     "data": {
      "image/png": "[encoded data removed]",
      "text/plain": [
       "<matplotlib.figure.Figure at 0x1a0b008a90>"
      ]
     },
     "metadata": {},
     "output_type": "display_data"
    }
   ],
   "source": [
    "fig, axarr = plt.subplots(1, 2, figsize=(12, 8))\n",
    "\n",
    "commute_times = census.groupby([\"State\", \"County\"])[\"MeanCommute\"].median().sort_values().values\n",
    "axarr[0].plot(commute_times)\n",
    "axarr[0].set(title=\"Sorted Commute times\", xlabel=\"County index (after sorting)\", ylabel=\"Commute time (min)\")\n",
    "\n",
    "_ = (\n",
    "        census\n",
    "            .groupby([\"State\", \"County\"])[\"MeanCommute\"]\n",
    "            .median()\n",
    "            .sort_values()\n",
    "            .plot(kind=\"kde\", ax=axarr[1])\n",
    "            .set(title=\"KDE plot of commute times\", xlabel=\"Commute time (min)\", xlim=(0,60))\n",
    ")"
   ]
  },
  {
   "cell_type": "markdown",
   "metadata": {},
   "source": [
    "### Income"
   ]
  },
  {
   "cell_type": "code",
   "execution_count": 12,
   "metadata": {
    "scrolled": true
   },
   "outputs": [
    {
     "data": {
      "image/png": "[encoded data removed]",
      "text/plain": [
       "<matplotlib.figure.Figure at 0x1a144018d0>"
      ]
     },
     "metadata": {},
     "output_type": "display_data"
    }
   ],
   "source": [
    "fig, axarr = plt.subplots(1, 2, figsize=(12, 8))\n",
    "\n",
    "income = census.groupby([\"State\", \"County\"])[\"Income\"].median().sort_values().values\n",
    "axarr[0].plot(income)\n",
    "axarr[0].set(title=\"Sorted Incomes\", xlabel=\"County index (after sorting)\", ylabel=\"Income\")\n",
    "\n",
    "_ = (\n",
    "        census\n",
    "            .groupby([\"State\", \"County\"])[\"Income\"]\n",
    "            .median()\n",
    "            .sort_values()\n",
    "            .plot(kind=\"kde\", ax=axarr[1])\n",
    "            .set(title=\"KDE plot of income\", xlabel=\"Income\")\n",
    ")"
   ]
  },
  {
   "cell_type": "markdown",
   "metadata": {},
   "source": [
    "### Commute times\n",
    "\n",
    "WARNING: barplots take around 1min to load on my laptop"
   ]
  },
  {
   "cell_type": "code",
   "execution_count": 13,
   "metadata": {},
   "outputs": [
    {
     "name": "stdout",
     "output_type": "stream",
     "text": [
      "22 3180 18\n"
     ]
    }
   ],
   "source": [
    "high_times = census[census.MeanCommute > 40].groupby([\"State\", \"County\"])\n",
    "mid_times = census[(census.MeanCommute < 40) & (census.MeanCommute > 10)].groupby([\"State\", \"County\"])\n",
    "low_times  = census[census.MeanCommute < 10].groupby([\"State\", \"County\"])\n",
    "print(len(low_times), len(mid_times), len(high_times))"
   ]
  },
  {
   "cell_type": "markdown",
   "metadata": {},
   "source": [
    "### FIXME: These don't add to 100?"
   ]
  },
  {
   "cell_type": "code",
   "execution_count": 14,
   "metadata": {},
   "outputs": [
    {
     "data": {
      "text/plain": [
       "<matplotlib.axes._subplots.AxesSubplot at 0x10d4ea080>"
      ]
     },
     "execution_count": 14,
     "metadata": {},
     "output_type": "execute_result"
    },
    {
     "data": {
      "text/plain": [
       "<matplotlib.figure.Figure at 0x1a11293048>"
      ]
     },
     "metadata": {},
     "output_type": "display_data"
    },
    {
     "data": {
      "image/png": "[encoded data removed]",
      "text/plain": [
       "<matplotlib.figure.Figure at 0x1a12d73208>"
      ]
     },
     "metadata": {},
     "output_type": "display_data"
    }
   ],
   "source": [
    "trans = ['Drive', 'Carpool', 'Transit', 'Walk', 'OtherTransp']\n",
    "flatui = [\"#9b59b6\", \"#3498db\", \"#95a5a6\", \"#e74c3c\", \"#34495e\"]\n",
    "c = {trans[i]: flatui[i] for i in range(5)}\n",
    "\n",
    "plt.figure(figsize=(16, 8))\n",
    "\n",
    "low_times[trans].median() .plot(kind=\"bar\", stacked=True, rot=0)\n",
    "\n",
    "\n",
    "# counties[races].plot(kind=\"bar\", stacked=True, ax=ax3, rot=0)\n",
    "\n",
    "# for tran in trans:\n",
    "#     plt.bar(\"Short commutes (< 10min)\", low_times[tran].median(), width=0.25, align=\"center\", label=tran, color=c[tran])\n",
    "#     plt.bar(\"Mid commutes\", mid_times[tran].median(), width=0.25, align=\"center\", color=c[tran])\n",
    "#     plt.bar(\"Long commutes (> 40min)\", high_times[tran].median(), width=0.25, align=\"center\", color=c[tran])\n",
    "  \n",
    "# _ = plt.legend(bbox_to_anchor=(0.3, 0.3))"
   ]
  },
  {
   "cell_type": "markdown",
   "metadata": {
    "collapsed": true
   },
   "source": [
    "### Work based on income"
   ]
  },
  {
   "cell_type": "code",
   "execution_count": 165,
   "metadata": {},
   "outputs": [
    {
     "name": "stdout",
     "output_type": "stream",
     "text": [
      "1660 3094 675\n"
     ]
    }
   ],
   "source": [
    "high_income = census[census.Income > 80000].groupby([\"State\", \"County\"])\n",
    "mid_income = census[(census.Income < 80000) & (census.Income > 32000)].groupby([\"State\", \"County\"])\n",
    "low_income  = census[census.Income < 32000].groupby([\"State\", \"County\"])\n",
    "print(len(low_income), len(mid_income), len(high_income))"
   ]
  },
  {
   "cell_type": "code",
   "execution_count": 166,
   "metadata": {},
   "outputs": [
    {
     "data": {
      "image/png": "[encoded data removed]",
      "text/plain": [
       "<matplotlib.figure.Figure at 0x1a1d4ccba8>"
      ]
     },
     "metadata": {},
     "output_type": "display_data"
    }
   ],
   "source": [
    "works = [ 'Professional', 'Service', 'Office', 'Construction','Production']\n",
    "flatui = [\"#9b59b6\", \"#3498db\", \"#95a5a6\", \"#e74c3c\", \"#34495e\"]\n",
    "c = {works[i]: flatui[i] for i in range(5)}\n",
    "\n",
    "plt.figure(figsize=(16, 8))\n",
    "for work in works:\n",
    "    plt.bar(\"Small income (< 32000)\", low_income[work].median(), width=0.25, align=\"center\", label=work, color=c[work])\n",
    "    plt.bar(\"Mid income\", mid_income[work].median(), width=0.25, align=\"center\", color=c[work])\n",
    "    plt.bar(\"High income (> 80000)\", high_income[work].median(), width=0.25, align=\"center\", color=c[work])\n",
    "  \n",
    "_ = plt.legend(bbox_to_anchor=(0.3, 0.3))"
   ]
  },
  {
   "cell_type": "code",
   "execution_count": 167,
   "metadata": {},
   "outputs": [
    {
     "data": {
      "image/png": "[encoded data removed]",
      "text/plain": [
       "<matplotlib.figure.Figure at 0x1a276e9748>"
      ]
     },
     "metadata": {},
     "output_type": "display_data"
    }
   ],
   "source": [
    "works = ['PrivateWork', 'PublicWork', 'SelfEmployed', 'FamilyWork']\n",
    "\n",
    "flatui = [\"#9b59b6\", \"#3498db\", \"#95a5a6\", \"#e74c3c\"]\n",
    "c = {works[i]: flatui[i] for i in range(4)}\n",
    "\n",
    "plt.figure(figsize=(16, 8))\n",
    "for work in works:\n",
    "    plt.bar(\"Small income (< 32000)\", low_income[work].median(), width=0.25, align=\"center\", label=work, color=c[work])\n",
    "    plt.bar(\"Mid income\", mid_income[work].median(), width=0.25, align=\"center\", color=c[work])\n",
    "    plt.bar(\"High income (> 80000)\", high_income[work].median(), width=0.25, align=\"center\", color=c[work])\n",
    "  \n",
    "_ = plt.legend(bbox_to_anchor=(0.3, 0.3))"
   ]
  },
  {
   "cell_type": "code",
   "execution_count": null,
   "metadata": {
    "collapsed": true
   },
   "outputs": [],
   "source": []
  }
 ],
 "metadata": {
  "kernelspec": {
   "display_name": "Python 3",
   "language": "python",
   "name": "python3"
  },
  "language_info": {
   "codemirror_mode": {
    "name": "ipython",
    "version": 3
   },
   "file_extension": ".py",
   "mimetype": "text/x-python",
   "name": "python",
   "nbconvert_exporter": "python",
   "pygments_lexer": "ipython3",
   "version": "3.6.3"
  }
 },
 "nbformat": 4,
 "nbformat_minor": 2
}
