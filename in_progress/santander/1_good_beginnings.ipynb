{
 "cells": [
  {
   "cell_type": "markdown",
   "metadata": {},
   "source": [
    "### FIXME:\n",
    "\n",
    "Replace 0 with np.nan.  It reduces memory and has better performance\n",
    "\n",
    "https://www.kaggle.com/asydorchuk/save-98-of-ram"
   ]
  },
  {
   "cell_type": "markdown",
   "metadata": {},
   "source": [
    "<a id=\"toc\"></a>\n",
    "\n",
    "# <u>Table of Contents</u>\n",
    "1.) [Imports](#imports)  \n",
    "2.) [Load data](#load)  \n",
    "3.) [Quick Overview](#overview)  \n",
    "&nbsp;&nbsp;&nbsp;&nbsp; 3.1.) [Boring columns](#boring)  \n",
    "&nbsp;&nbsp;&nbsp;&nbsp; 3.2.) [Missing Values](#nan)  \n",
    "&nbsp;&nbsp;&nbsp;&nbsp; 3.3.) [Fill in missing values](#fillnan)  \n",
    "&nbsp;&nbsp;&nbsp;&nbsp; 3.4.) [Correlation Map](#corr)  \n",
    "4.) [Target varable - ](#target)  \n",
    "5.) [Categorical columns](#cat)  \n",
    "&nbsp;&nbsp;&nbsp;&nbsp; 5.1.) [Unique values](#cat_unique)  \n",
    "&nbsp;&nbsp;&nbsp;&nbsp; 5.2.) [Get dummies](#cat_dummies)  \n",
    "6.) [Numerical columns](#num)  \n",
    "7.) [Miscellaneous data processing](#misc)  \n",
    "8.) [Modeling](#model)  \n",
    "&nbsp;&nbsp;&nbsp;&nbsp; 8.1.) [Machine learning imports](#ml_imports)  \n",
    "&nbsp;&nbsp;&nbsp;&nbsp; 8.2.) [Meta modeling](#meta_model)  \n",
    "9.) [Feature Importance](#feat_importance)  "
   ]
  },
  {
   "cell_type": "markdown",
   "metadata": {},
   "source": [
    "---\n",
    "<a id=\"imports\"></a>\n",
    "\n",
    "# [^](#toc) <u>Imports</u>"
   ]
  },
  {
   "cell_type": "code",
   "execution_count": 1,
   "metadata": {
    "collapsed": true
   },
   "outputs": [],
   "source": [
    "### Standard imports\n",
    "import pandas as pd\n",
    "import numpy as np\n",
    "\n",
    "# Plotting imports\n",
    "import matplotlib.pyplot as plt\n",
    "import seaborn as sns\n",
    "sns.set()\n",
    "%matplotlib inline\n",
    "\n",
    "# Progress bar\n",
    "from tqdm import tqdm\n",
    "\n",
    "# Time keeper\n",
    "import time\n",
    "\n",
    "# Datetime library\n",
    "from datetime import datetime\n",
    "\n",
    "### Removes warnings from output\n",
    "import warnings\n",
    "warnings.filterwarnings('ignore')"
   ]
  },
  {
   "cell_type": "markdown",
   "metadata": {},
   "source": [
    "### Styling helpers"
   ]
  },
  {
   "cell_type": "code",
   "execution_count": 2,
   "metadata": {
    "collapsed": true
   },
   "outputs": [],
   "source": [
    "# A short hand way to plot most bar graphs\n",
    "def pretty_bar(data, ax, xlabel=None, ylabel=None, title=None, int_text=False):\n",
    "    \n",
    "    # Plots the data\n",
    "    fig = sns.barplot(data.values, data.index, ax=ax)\n",
    "    \n",
    "    # Places text for each value in data\n",
    "    for i, v in enumerate(data.values):\n",
    "        \n",
    "        # Decides whether the text should be rounded or left as floats\n",
    "        if int_text:\n",
    "            ax.text(0, i, int(v), color='k', fontsize=14)\n",
    "        else:\n",
    "            ax.text(0, i, round(v, 3), color='k', fontsize=14)\n",
    "     \n",
    "    ### Labels plot\n",
    "    ylabel != None and fig.set(ylabel=ylabel)\n",
    "    xlabel != None and fig.set(xlabel=xlabel)\n",
    "    title != None and fig.set(title=title)\n",
    "\n",
    "    \n",
    "### Used to style Python print statements\n",
    "class color:\n",
    "    BOLD = '\\033[1m'\n",
    "    UNDERLINE = '\\033[4m'\n",
    "    END = '\\033[0m'"
   ]
  },
  {
   "cell_type": "markdown",
   "metadata": {},
   "source": [
    "### Helpers"
   ]
  },
  {
   "cell_type": "code",
   "execution_count": 3,
   "metadata": {
    "collapsed": true
   },
   "outputs": [],
   "source": [
    "def get_dummies(df, cats):\n",
    "    for col in cats:\n",
    "        df = pd.concat([df, pd.get_dummies(df[col], prefix=col)], axis=1)\n",
    "    return df \n",
    "\n",
    "def factorize_df(df, cats):\n",
    "    for col in cats:\n",
    "        df[col], _ = pd.factorize(df[col])\n",
    "    return df\n",
    "\n",
    "# Memory saving function credit to https://www.kaggle.com/gemartin/load-data-reduce-memory-usage\n",
    "def reduce_mem_usage(df):\n",
    "    \"\"\" iterate through all the columns of a dataframe and modify the data type\n",
    "        to reduce memory usage.        \n",
    "    \"\"\"\n",
    "    start_mem = df.memory_usage().sum() / 1024**2\n",
    "    print('Memory usage of dataframe is {:.2f} MB'.format(start_mem))\n",
    "    \n",
    "    for col in tqdm(df.columns):\n",
    "        col_type = df[col].dtype\n",
    "        \n",
    "        if col_type != object:\n",
    "            c_min = df[col].min()\n",
    "            c_max = df[col].max()\n",
    "            if str(col_type)[:3] == 'int':\n",
    "                if c_min > np.iinfo(np.int8).min and c_max < np.iinfo(np.int8).max:\n",
    "                    df[col] = df[col].astype(np.int8)\n",
    "                elif c_min > np.iinfo(np.int16).min and c_max < np.iinfo(np.int16).max:\n",
    "                    df[col] = df[col].astype(np.int16)\n",
    "                elif c_min > np.iinfo(np.int32).min and c_max < np.iinfo(np.int32).max:\n",
    "                    df[col] = df[col].astype(np.int32)\n",
    "                elif c_min > np.iinfo(np.int64).min and c_max < np.iinfo(np.int64).max:\n",
    "                    df[col] = df[col].astype(np.int64)  \n",
    "            else:\n",
    "                if c_min > np.finfo(np.float16).min and c_max < np.finfo(np.float16).max:\n",
    "                    df[col] = df[col].astype(np.float16)\n",
    "                elif c_min > np.finfo(np.float32).min and c_max < np.finfo(np.float32).max:\n",
    "                    df[col] = df[col].astype(np.float32)\n",
    "                else:\n",
    "                    df[col] = df[col].astype(np.float64)\n",
    "\n",
    "    end_mem = df.memory_usage().sum() / 1024**2\n",
    "    print('Memory usage after optimization is: {:.2f} MB'.format(end_mem))\n",
    "    print('Decreased by {:.1f}%'.format(100 * (start_mem - end_mem) / start_mem))\n",
    "    \n",
    "    return df\n",
    "\n",
    "def load(filename):\n",
    "    df = pd.read_csv(DATA_PATH + filename)\n",
    "    return df\n",
    "\n",
    "DATA_PATH = \"../../data/santander/\""
   ]
  },
  {
   "cell_type": "markdown",
   "metadata": {},
   "source": [
    "---\n",
    "<a id=\"load\"></a>\n",
    "\n",
    "# [^](#toc) <u>Load data</u>"
   ]
  },
  {
   "cell_type": "code",
   "execution_count": 60,
   "metadata": {
    "scrolled": true
   },
   "outputs": [
    {
     "name": "stdout",
     "output_type": "stream",
     "text": [
      "Shape of train data: (4459, 4738) \n",
      "\n",
      "Shape of test data: (49342, 4737) \n",
      "\n",
      "\u001b[4mCategorical columns:\u001b[0m\n",
      "ID\n",
      "\u001b[4mNumerical columns:\u001b[0m\n",
      "Unnamed: 0 --- target --- 48df886f9 --- 0deb4b6a8 --- 34b15f335 --- a8cb14b00 --- 2f0771a37 --- 30347e683 --- d08d1fbe3 --- 6ee66e115 --- 20aa07010 --- dc5a8f1d8 --- 11d86fa6a --- 77c9823f2 --- 8d6c2a0b2 --- 4681de4fd --- adf119b9a --- cff75dd09 --- 96f83a237 --- b8a716ebf --- 6c7a4567c --- 4fcfd2b4d --- f3b9c0b95 --- 71cebf11c --- d966ac62c --- 68b647452 --- c88d108c9 --- ff7b471cd --- 0d866c3d7 --- bc3f77679 --- bd8f989f1 --- 0eff5bf95 --- 22ed6dba3 --- 92b13ebba --- 233c7c17c --- 2cb4d123e --- 87ffda550 --- 822e49b95 --- 316b978cd --- d04e16aed --- 5d5c5ce6d --- ec863cb52 --- 11ad148bd --- ea18d720e --- 408d86ce9 --- 69d8b4020 --- b0868a049 --- 80b14398e --- ecdef52b2 --- c36bcacc5 --- 151d318cd --- ab0cddb90 --- 2d6bd8275 --- dfdf4b580 --- c87722678 --- a8c320153 --- a04684f1f --- fa977f17b --- feed9d437 --- 645b47cde --- 7298ca1ef --- d80abf8bc --- 654dd8a3b --- 7fc39583c --- 8c94b6675 --- e421c414e --- 964335fdf --- 5a86cabd0 --- 6cb207ac9 --- c1bc828da --- e90ed19da --- c4d38135f --- 968b01ca3 --- 26b423c42 --- 0656586a4 --- b4ced4b7a --- 0b8e10df6 --- 603e85eb7 --- 605728195 --- 4e8196700 --- f115e74c0 --- 9ca0eee11 --- 472cd130b --- ee7e4581d --- 3e0e55648 --- a939664aa --- b0f5ed414 --- a72e0bf30 --- e662f1672 --- 54b1c1bc0 --- ec1425047 --- 78a879b5d --- bd550871c --- 828b327a6 --- 3268914c7 --- 21e0e6ae3 --- ec73030f6 --- c5b30277a --- c16a7d537 --- 64534cc93 --- bd6671d31 --- 0f8d7b98e --- aab0aeb4b --- 9a9b4a012 --- 8367dfc36 --- 251d1aa17 --- 92e056c5c --- c377b9acf --- e0f6a993a --- f3e544d66 --- 0cb171797 --- 80c0c9910 --- 9f8df01bd --- 0a69cc2be --- 563d2f09a --- 963a49cdc --- 7ee833549 --- 7b58c8e37 --- cde9c35e8 --- 587a5d8c3 --- 408d191b3 --- 42fdff3a0 --- 1e8801477 --- 3770cb9fa --- 133714358 --- 15dba7177 --- 604ac0633 --- cbf34125e --- 4563c7ee5 --- c679b0013 --- 93f686d09 --- 8e7a80f64 --- e034322f0 --- 60cb16e88 --- 9d435a85b --- 73a32cd05 --- 29eddc376 --- d8fa4d098 --- ef6fab1bc --- 1de1fda2c --- 665493ecc --- ad207f7bb --- e7620cba2 --- d40eb2705 --- 5d26f4d92 --- fd206ec4d --- 19a4e3e16 --- e975d3be7 --- 0564ff72c --- bd7e6d2af --- 4e86dd8f3 --- 2127bb611 --- 59dfc16da --- 2f92a1a45 --- 63f968fa6 --- 312832f30 --- 6679fe54f --- 9f05b2279 --- dd2fc27b0 --- af1d28337 --- 26b260c2b --- 7207afb67 --- 4a3248e89 --- 4b6c549b1 --- f402f59ff --- a75d400b8 --- 8b6ae05dc --- d318bea95 --- 35da68abb --- 4e98771c9 --- 72505ebb2 --- 1a6d866d7 --- 13bc4dacc --- 851697562 --- 593d5a082 --- eef3f5c49 --- b495b7492 --- ddd416fe0 --- 256f1449f --- e059a8594 --- c40750aed --- 22a123588 --- 5502d45f5 --- beb7f98fd --- 503de0024 --- 68891097e --- 6035df6d8 --- 7eacd712f --- 99f466457 --- 701aaedab --- 6fec5a793 --- fe0dd1a15 --- c035b5d2d --- 1fb62e0dc --- f7faf2d9f --- ffb34b926 --- bc2bf3bcd --- 025dea3b3 --- e700276a2 --- b5ad8afe0 --- 52695ed4a --- 530e9b9b8 --- 68a945b18 --- 90db65912 --- d6033b6eb --- 4ea447064 --- 018d6afbb --- f9db72cff --- 4b336f62e --- 99197edf2 --- 526ed2bec --- 77eb013ca --- 9dbb6b717 --- bf6f90180 --- 94e87cc26 --- 186b87c05 --- ed0860a34 --- bd16de4ba --- fcab1682f --- 55d7eb6d2 --- 0e1f6696a --- 49db469f5 --- 1e6040658 --- f99a09543 --- 0c4bf4863 --- 7d182d05c --- 2a933bcb8 --- adc70e02f --- 1520de553 --- ea21d2722 --- dd0491aad --- 7210546b2 --- 188e8ca61 --- 50640c29c --- 8e028d2d2 --- b728093e6 --- 607a7b8f0 --- 2991c6c02 --- eb4dc2cdf --- 3ccc39318 --- b4e4a184a --- 90b0ed912 --- c38ca8ae3 --- b21f5b472 --- 1ff6be905 --- b9b7f388d --- 51ebff825 --- 1a5a424f8 --- 51c534b54 --- 22b980fc8 --- 9cc5d1d8f --- 7720ab0dd --- 63be1f619 --- f18d3931b --- a61ce65a2 --- b77bc4dac --- be448d5b9 --- 5a53ebb69 --- 437ff8730 --- c224ec4d9 --- 212226b7b --- 170230a4c --- c98c2d3c0 --- d5858c659 --- e8f065c9d --- 856225035 --- 039b8bbc6 --- d4e8dd865 --- c44348d76 --- cc35ec717 --- d2919256b --- b0b1c81ac --- 1f1f641f1 --- 5df2068b0 --- 6cd6037bd --- a61dfaaa3 --- aac0c81ba --- 87ba106d3 --- cb5161856 --- aaed60a3d --- 29714c47d --- 2ab5a56f5 --- aeb3a6ccf --- 0badd2fa2 --- 63c094ba4 --- 5693d94b2 --- c14e46633 --- b1b17b543 --- c5dacc85b --- 90a438099 --- fa6e76901 --- ef4b87773 --- 14a5969a6 --- 342e7eb03 --- cdf5a5db0 --- 5661462ee --- 4c60b70b8 --- 7e1c4f651 --- de14e7687 --- a1995906f --- f2af9300f --- 1110cf9ea --- 61b568ab8 --- 1e9bdf471 --- 4da206d28 --- 82ba7a053 --- 9c3f5714f --- 084031585 --- c1b9f4e76 --- 848b67fcc --- 0ce078942 --- 34d3974de --- 04e06920e --- 5a88b7f01 --- 5985f4c31 --- 77da28065 --- 65aa7f194 --- 9ca45f3c8 --- fd1187d68 --- 770bef1c6 --- f5f97a9e8 --- 3ad3d521e --- 707f193d9 --- bacadce94 --- 73700eaa4 --- c69492ae6 --- 65000b269 --- dc135562a --- 1d0aaa90f --- 7497a6bc9 --- 2ca23426b --- bfde2aa61 --- b0c8d785d --- b09a8c37b --- b30e932ba --- 8516b48f5 --- 0a52be28f --- 506e25985 --- f519ac616 --- faf024fa9 --- 3377a30e2 --- 8f3807320 --- d0d340214 --- d00346a32 --- 29c059dd2 --- 0b26c77a9 --- d95cab24f --- 330006bce --- 4fbcb9f95 --- bc2eb559b --- 7e7bf15be --- 7d72d6787 --- 9bd66acf6 --- aebe1ea16 --- 89a26cda9 --- da2d942d5 --- 5680531f3 --- 3694b34c5 --- 3be79d4a5 --- c2cabb902 --- 8e48aed7b --- d6bca77b4 --- 3aab2691c --- b0d770462 --- 64406f348 --- f1c272f04 --- 9abaeaeba --- 1074273db --- 47cd6e6e4 --- ccf6632e6 --- 0544dfc09 --- 2761e2b76 --- 3a01b4018 --- 05d17ab7a --- 4f0c5f900 --- 600ea672f --- c5a742ee4 --- b04bab75e --- 935ca66a9 --- 8e1822aa3 --- cd41bbc4e --- 5c220a143 --- 9ba5eb33d --- a728310c8 --- d168174c7 --- ee7c4db36 --- e8dfb33d5 --- 5547d6e11 --- 78bc2558b --- 96be55d28 --- 2ea42a33b --- 37e85aa12 --- 2b85882ad --- 9236f7b22 --- 3d655b0ed --- dc6676b1f --- 64834659b --- 1477c751e --- aee922a7b --- 22f0deffc --- d481882a1 --- 3b67e9641 --- ae72cba0a --- 8c309c553 --- 995a96a47 --- e2979b858 --- 13f2607e4 --- 77fa93749 --- 5466764d8 --- 1d4d5cd4a --- 82c9b4fcd --- 380d54fad --- 796855249 --- a6e871369 --- 15e8a9331 --- 6d2ece683 --- ba136ae3f --- 9c6bf2983 --- 794e93ca6 --- bef84d3ad --- 9a3a1d59b --- 133e6f674 --- 7623d805a --- b3655056c --- 4fc9da4e3 --- 632586103 --- 2bf3e5c6e --- aa31dd768 --- ff3ebf76b --- f926a4cb4 --- 3c29aec1e --- e0271a62a --- e7fa14f98 --- 3da2882fd --- 859993c8b --- dbc0c19ec --- e5355e47e --- 99029bf6f --- 737d43535 --- 10e231d3c --- f0fa3bfc5 --- a0129f413 --- e078302ef --- f72edfb37 --- 014574363 --- 9f69313d1 --- f9b482e8b --- e851264a5 --- e86d346f8 --- cde3e280a --- 94ef80b78 --- 377a76530 --- 5d60b9ba7 --- 5719bbfc3 --- a79c71dc0 --- 1d1cafe32 --- 4af2493b6 --- 4a93ad962 --- 6c4f594e0 --- 798a8e92e --- e23fe2e46 --- 83b40fd93 --- b88568883 --- 2baea1172 --- 073470b04 --- 754ace754 --- c8f02f3e4 --- 75aad4520 --- 2c76aca6a --- 87c8931b6 --- 32a0342e2 --- eab76d815 --- 6c3d38537 --- 8f3740670 --- 1184df5c2 --- cfa24e4be --- 5b2471c13 --- dc7923918 --- 72ad5471c --- 041c5d0c9 --- 89ebc1b76 --- 861076e21 --- f2db09ac3 --- a31ba11e6 --- cbeddb751 --- c6d27ddbb --- 052a76b0f --- ad94b3f11 --- 1c554649c --- 98aa38e4e --- a84bafe34 --- dbfa2b77f --- 8677d6620 --- e66856e20 --- 7fd7c9eae --- 86610a923 --- 6fee0d7b4 --- b70c62d47 --- 1791b43b0 --- 279f03bdc --- a94e1b839 --- d7285f250 --- 8ca08456c --- 3c2f0f2c5 --- f6a05ad95 --- b07303fc6 --- e803a2db0 --- ac308c9a3 --- 403b0e1e4 --- e8b513e29 --- d74a5ca6d --- 7a1e99f69 --- 14fd68c51 --- 29bf806d6 --- a47434e94 --- 0e0f8504b --- c25ea08ba --- 482b04cba --- b709fd525 --- 0494ca73d --- 7194699cd --- 4c536ffc0 --- 89e69d1a3 --- 05527f031 --- 79911bfa5 --- ce8ce671e --- 6c0e0801a --- bee629024 --- 2b5c2a7ad --- 1d79bc053 --- dd2fc85d7 --- 9f5f58e61 --- 13b8f7347 --- 3c556d78f --- 4ec3bfda8 --- 455f29419 --- 38f49406e --- 8984e4066 --- a0a8005ca --- 26fc93eb7 --- b4d41b335 --- 59cb69870 --- ac2392a17 --- afac06058 --- 464676511 --- dea4edd89 --- 78f7fcebd --- 0572565c2 --- c2acc5633 --- 20442bac4 --- 0231f07ed --- 78c239acf --- ba499c6d9 --- 76a75bd91 --- 871617f50 --- e83d8d925 --- 1529e64f6 --- 0a03426de --- acee6ff41 --- bb6260a44 --- 9c740daca --- 5780e6ffa --- 202acf9bd --- 9f1d2d4e4 --- fcc8443d9 --- b638b4fce --- da0c7bb85 --- 093cfe734 --- 66ace2992 --- 350473311 --- bd009fcb0 --- c5f5e2a40 --- ac30af84a --- 0943b38f3 --- b062e1a6f --- ca25aad9f --- 2ebdfbd78 --- 26e4ae773 --- 6cd2424c4 --- 66728cc11 --- 61efa1e29 --- 76bfb8732 --- 7af2b8f44 --- d92ea0b2a --- 9ddd6d137 --- 3dc46e323 --- 052f633c1 --- ebaaead05 --- 052f67cfa --- 9657e51e1 --- d30f53496 --- c593d73e8 --- fb1d4afcd --- 22c90caf8 --- a235f5488 --- 009990be1 --- 8389fa5f0 --- 969d32625 --- 21216a0a8 --- 53c8cde8a --- 6b241d083 --- a6fd11a84 --- 16a4479e6 --- 9ecfbd198 --- b4df10c6c --- 1c89146b2 --- de4e75360 --- 504c22218 --- 84c4fe622 --- 54b3d6afc --- 18e3e1563 --- 1e783ae1e --- 3fe84d157 --- d833db6e1 --- ca010e4f8 --- e6e2c3779 --- bab9866d9 --- 258b77cdf --- 2b0fc604a --- f3b4de254 --- 018f23166 --- 2b58a21fc --- e9c7ccc05 --- 8d468092c --- 9581ec522 --- fb5e79385 --- 0c9462c08 --- 525635722 --- 4cbc12381 --- fb49e4212 --- c8c4ef2e5 --- 115869b5c --- d0af0fbd3 --- cc02b385f --- d3a6362c5 --- 8caefc97e --- 6a055c4fb --- 81c060fb9 --- 055232767 --- 586b23138 --- d5dcaa04a --- c059f2574 --- f2520b601 --- 4b8bf0f83 --- 95837bbfb --- a960611d7 --- 3b6f67b0e --- 6619d81fc --- 1d0affea2 --- 4e92107c6 --- 090f3c4f2 --- 6186ea570 --- 94ecf4c83 --- 2de8d5d54 --- 2d8145a79 --- ec827621a --- 0b9a18ebf --- 1fba6a5d5 --- d12e33ef1 --- 1a67a2101 --- bf406b82b --- 1d9078f84 --- b41a9fc75 --- 90e069c70 --- 7950f4c11 --- b2790ef54 --- 906d4316d --- 3c6980c42 --- 2a3763e18 --- f4e855860 --- 4b2316bd5 --- 298db341e --- 01fdd93d3 --- 9ca9e4916 --- 89ca53693 --- 47abb3cb4 --- 85816f8e3 --- 45a400659 --- bdf773176 --- cb42584d1 --- 7bf58da23 --- 22501b58e --- 343fd2b6e --- 907e76fa9 --- 614f8e1eb --- 1d9b78b9c --- 2e22a32fd --- 442b180b6 --- de63b3487 --- e9303f524 --- 1857fbccf --- 4d31993e8 --- 034bec11b --- 36d35623e --- 08565b519 --- 1c476fda5 --- f1b626ac2 --- c3c633f64 --- b66bf9d44 --- 578a07608 --- 8cc831c8b --- eb5a2cc20 --- 6ae0787f3 --- cea37bfb1 --- 63f291ac1 --- 4f325b517 --- 3429412c2 --- 55338de22 --- 2d7f256c6 --- be3b11d9b --- c4de134af --- ead538d94 --- 51c141e64 --- 3c649dad8 --- 54a1765cc --- 56f619761 --- b15a468b2 --- 98e309617 --- da2a2f42d --- 937854db6 --- 08d203407 --- 812e9b700 --- 05410a84f --- c87f4fbfb --- 226e2b8ac --- 739b1f317 --- b58127585 --- e5499c39d --- 5b9e32dbe --- f99cf5205 --- 5509e2e98 --- 99f22b12d --- 64bf3a12a --- b79729525 --- 62e587225 --- e24e3b26d --- 548c02798 --- 83e2ae51c --- 5fe6867a4 --- 9df4daa99 --- a636266f3 --- 07cb6041d --- 50ad55eff --- ecb354edf --- b14d5014b --- e3846e931 --- 8337d1adc --- d5754aa08 --- 8405c17e7 --- 8bd53906a --- 0a7c079ff --- 9aa14041f --- 8c94e6a4b --- fac54bd7e --- 06ec9eb8b --- 300d6c1f1 --- ac61229b6 --- ce0ee5a89 --- 1ce5f7bde --- 1977eaf08 --- 2821ba86f --- 013127235 --- 4bdeca0d2 --- 944e05d50 --- 6a34d32d6 --- eff61d061 --- 0a1cce57e --- b2541a277 --- aca228668 --- 30d424f24 --- 1655bb8bb --- df08959aa --- cc9c2fc87 --- ae825156f --- 157d8e6e5 --- 26faf1b2e --- 37bd241bb --- 4aafb7383 --- d9dc805dd --- fd8f1d27f --- c65451871 --- a028a97a2 --- 0dfd57950 --- 370f3cb6e --- e14727834 --- a1f9d1680 --- a7f6bf4a9 --- a175a9aa4 --- e720bdb02 --- 775577e6f --- ab7b12083 --- 4d5a5e150 --- 37aab1168 --- e62c5ac64 --- b76dbbf35 --- 1ce203e4a --- 2f8931894 --- c99902a93 --- da5c36eee --- 8d4d84ddc --- cfd255ee3 --- e8d16b5b5 --- 42a511316 --- 194bbc66f --- eaa0a68c4 --- 9a179ed71 --- 56cec3aad --- 43727fb35 --- c73c31769 --- a3fc511cd --- 33e4f9a0e --- c6dee6d5b --- 9161061c9 --- d3ed79990 --- dc81173e9 --- 64e38e7a2 --- b7492e4eb --- ceba761ec --- d47c58fe2 --- 6b16f4151 --- af91c41f0 --- a5e0d3ddb --- 0c8e0cd38 --- 1ea2c906f --- 580f5ff06 --- cf3841208 --- dc3b4460b --- 3c8a3ced0 --- 9aa27017e --- a0fc89621 --- 6786ea46d --- 5747a79a9 --- 99ea04b86 --- 5894b1b1a --- 22fbf6997 --- f7028f7d7 --- 6eef030c1 --- b54c15cae --- 2b2a10857 --- 536e3198c --- 8f993c285 --- 7c4d628cf --- 32c6f9aa6 --- f1a1562cd --- e613715cc --- b0385cee8 --- 1f8a823f2 --- a8c17e75c --- 320c3880a --- 94cdda53f --- 1e4464cd6 --- eb8cbd733 --- 08a6181d8 --- 2c338b4d6 --- 985f4005a --- bc70cbc26 --- 30cef4483 --- 68c7cf320 --- 284d07c28 --- 49ca7ff2e --- b94360a3b --- 616be0c3e --- 22f95560c --- 6760927a0 --- d00f7d768 --- fc99f9426 --- 2e00affd6 --- 50c81fe9f --- 4c0845957 --- ec4dc7883 --- 543c24e33 --- 304633ac8 --- cfa552462 --- 83c3779bf --- 75de1e5b6 --- 8b7190599 --- aa164b93b --- e05e1751c --- c624e6627 --- ff8561ce9 --- 8fc7efaf0 --- 4edc3388d --- c16bf5841 --- 7fa5bc19f --- 4b6dfc880 --- 315b44e13 --- 0704e7155 --- ede70bfea --- 2ad4525cc --- 145c7b018 --- 87e6b35f2 --- 070f95c99 --- c653bfb18 --- 2191d0a24 --- 44df9c106 --- f6bdb908a --- 34ceb0081 --- 4a14d4e94 --- 7e814a30d --- 77697c671 --- be2e15279 --- c83d6b24d --- 2715b2d4a --- a20b1603b --- b26d16167 --- 6fa35fbba --- eae6fc02f --- 4a39584e5 --- 455b51392 --- 3bfeee88d --- 3be4dad48 --- 54d3e247f --- d8c61553b --- 1d744ff92 --- 7c28990d7 --- 42cf36d73 --- dd51d0fae --- bc937f79a --- f9c3438ef --- 946d16369 --- e222309b0 --- 219982fda --- 4d2ca4d52 --- a3ef40228 --- b84b2f72d --- c90e8490c --- 44146018f --- 0f73ff7fa --- 1adc3dc1b --- 2135da74a --- 6f88afe65 --- d72f25c1e --- 1aeed6f70 --- aa2e796b4 --- b05eae352 --- dc54bd249 --- 2c95e6e31 --- 9d6b84f39 --- acd155589 --- 5ab3be3e1 --- ad1466df8 --- 2c0babb55 --- e13b0c0aa --- ec2a9147d --- 3a89d003b --- 2f09a1edb --- cc73678bf --- c7525612c --- fc0e5130b --- d5afd4fc5 --- 8ec06d490 --- 810a254cf --- 649ba759c --- 7f41309db --- d83a2b684 --- b9e9ec060 --- 4ad6d935d --- 678e2d1dd --- b6f5910aa --- 7f3479656 --- a65b73c87 --- c0004231c --- dd19c0b80 --- 40ad014d1 --- 5c613c9de --- d8ea347e9 --- bb9be3403 --- ca96df1db --- 199d30938 --- 4788578fd --- 6c05550b8 --- 680159bab --- 25968f96e --- f49c1d119 --- 17068424d --- a6fbe0987 --- 24d338fd8 --- 08d17e384 --- e3c802dfd --- ca85585ce --- 925ce0d9b --- b266d28ce --- 35d8689dd --- 33288f3b2 --- 85da130e3 --- 9da65044c --- 98af380ad --- 2a3c59733 --- d48c44c49 --- 6469d38ef --- c768b2fbd --- b47be7e76 --- 9653c119c --- 57c4c03f6 --- 572a7f60f --- 5a88e3d89 --- 4e06e4849 --- 64e483341 --- 3786d208b --- 4685cc47b --- 1b48a4b5b --- b5df42e10 --- 79af1068d --- 4dfa4bc61 --- c96615af4 --- 1ba077222 --- 85d409e21 --- 9a33c5c8a --- c104aeb2e --- 121d8697e --- 1c71183bb --- ad13147bd --- 06a1c3b47 --- 22a7ccfa6 --- 1f6b2bafa --- 653ea8253 --- 2ef8b7f4f --- e9b117236 --- f7eee8212 --- d00757989 --- dd16bb1ff --- 01c16cc5a --- a37f4efc8 --- 94c5d1093 --- a3316961d --- 50722cac3 --- 2dd0e885c --- f17ff4efd --- 0a7ef2f9b --- fcc17a41d --- 79e0c374a --- 170b48e6b --- a697e9248 --- 66891582e --- 23c3f4cd9 --- 540cc3cd1 --- 65d14abf0 --- ac7a97382 --- 890d30d93 --- 24292d615 --- 55f2b3d34 --- c21bcefe0 --- 7b0d065a9 --- 1aca2cf15 --- ed9e99c25 --- 20868afc1 --- 375c6080e --- edc84139a --- d6006ff44 --- 10ad80117 --- e8bd579ae --- dee882846 --- 9a1d8054b --- 85505df26 --- 31f72667c --- 6f53aee73 --- f6c9661fc --- 6b1da7278 --- c23810d14 --- adc721d55 --- cc93bdf83 --- 24bcc2f15 --- 4fcacc0d8 --- 525330519 --- 7288c5f8c --- 05c276b21 --- 8160230fd --- f3522fdaf --- 04dc93c58 --- bf45d326d --- 17b81a716 --- 5cd51bc4b --- 61f7bc574 --- cf4a89033 --- 23099cfb2 --- 7f17e0b2a --- 55dbd6bcb --- b2a22ec15 --- cbf236577 --- 81de0d45e --- ea01904df --- 5dca793da --- 6c2d09fb1 --- 8895ea516 --- 4baa9ff99 --- b440fc661 --- 6b6cd5719 --- 1d00f511a --- c84209935 --- 2223c664d --- 48aa6d627 --- bb1113dbb --- 77d47436d --- d70d8a779 --- 92ba988e1 --- d50798d34 --- f06078487 --- 02c21443c --- 81076f743 --- 71659d45d --- 8d2d050a2 --- c2d20c241 --- 64226e620 --- 613325ad7 --- 069a2c70b --- 65f701080 --- ecd43a18b --- 45630adf0 --- 4cc452738 --- 992b5c34d --- a86294f8b --- 9e9274b24 --- ed495216f --- 497adaff8 --- d28549f40 --- db18ddf75 --- 495fe6539 --- bd6da0cca --- 460744630 --- dca3856ad --- e506de1e1 --- c77f6dbfe --- b96c4256a --- 7033c6f09 --- 4033373c9 --- 73548d497 --- 2b54cddfd --- a3faa799b --- 049e4daae --- 494294e71 --- 38e6b2fc1 --- 24fef0850 --- c02ab7d25 --- 150dc0956 --- c47821260 --- 722a0187a --- e585cbf20 --- d1cf68555 --- 6b0722bfa --- 338f04484 --- 729284778 --- 1b6c8debf --- a3fb71dbd --- 4d2c7622d --- f31b73813 --- ca58e6370 --- 4fcb73cb1 --- 0ccd6454a --- 96e03563a --- 294bf4161 --- fbaed5913 --- 5d900b8ce --- 46b9587b7 --- 994b946ad --- e3a38370e --- 939cb6e17 --- 037a54e89 --- 693972ceb --- 6cf7644e0 --- 4877151a3 --- a28164ed4 --- 19a67cb97 --- 1ab7a3c7f --- 6cd62da62 --- 11b0ebe2a --- 2fbc7a055 --- 303572ae2 --- e2e1aaa1e --- ccc9ba695 --- 29394ecff --- 08d1f69ef --- b6fa5a5fd --- 1ced7f0b4 --- a59d32627 --- fa05fd36e --- 470cea05f --- 70f3a87ec --- a1868e9ec --- 66f57f2e5 --- 9f494676e --- e18f9032c --- 08da2f555 --- 7ec8cff44 --- 3d3d91a1e --- 89db78d8e --- 7453eb289 --- 7792cebe0 --- 14a22ab1a --- b95a93172 --- 2cdaafb1a --- 55741d46d --- 2e55d0383 --- d208491c8 --- 7a91cb0bc --- 64dd02e44 --- 4c256f2f9 --- 884ec1cca --- a5dfa7a30 --- c036f4785 --- 941244262 --- 24744410a --- 36ba6bac3 --- f96fc0e40 --- 69fe81b64 --- 956d228b9 --- e816e534f --- f06ce77ec --- d77583e88 --- eeae7ad90 --- 6e738ec87 --- c6776639f --- dcc181073 --- 93ca30057 --- 6dad99586 --- fb5f5836e --- 105233ed9 --- e9fb84258 --- f8ccfa064 --- df838756c --- e8b599c85 --- 22b3e64c8 --- 8f3ab95d5 --- 66671ad38 --- da1d826f5 --- 8643f2a4a --- 476d95ef1 --- 20a58c359 --- d7334935b --- f9a30f20a --- b36a21d49 --- e4159c59e --- a8f80f111 --- 48282f315 --- f66c58ca7 --- 598ae7ea9 --- ddc07c4d6 --- 75d240f7b --- b02dfb243 --- 50a0d7f71 --- ce1f5b02a --- ce408348f --- a1f73b0d3 --- f3cf9341c --- dae4d14b4 --- 9d5af277d --- 5c208a931 --- f1d56af33 --- 07c9d1f37 --- 371da7669 --- 8c00634d1 --- 66b39545f --- e20edfcb8 --- 193a81dce --- 4a6f8b2c1 --- 39d765b49 --- 313237030 --- d0631e6c0 --- db1b70fc8 --- d709df8f9 --- 2eeadde2b --- 06148867b --- ccba7a40b --- 227ff4085 --- 38e6f8d32 --- 0f6386200 --- 7650524a3 --- 073914c77 --- a29c9f491 --- 32c8b9100 --- 8d57e2749 --- 717039eef --- 733b3dc47 --- 704d68890 --- d62e18fa0 --- 81ec47b4c --- 988518e2d --- dd84964c8 --- b97f08b24 --- abace6b29 --- f0d5ffe06 --- aeef86cf2 --- 2306bf286 --- e3d64fcd7 --- caa272114 --- 0345f70f2 --- 2ac62cba5 --- 0b398dcb9 --- 12f9c92b6 --- f5bdb0007 --- 8ff5cf8c3 --- 6beb0b35d --- ec5fb550f --- c2de35a69 --- 0dc481088 --- 92c5f86c3 --- 00f844fea --- d7978c11c --- f960e93ae --- 58e8e2c82 --- 174edf08a --- 9126049d8 --- 3b6b46221 --- 9d709da93 --- 55e30b08f --- d9fbf30dd --- d7f15a3ad --- c9aaf844f --- d1fd0b9c2 --- d9d7227a4 --- 4b624857b --- ba852cc7a --- 8ceddccb8 --- 205b0cfef --- ce47f8cae --- 88c0ec0a6 --- 3adf5e2b5 --- 6bee3733e --- 92fd74409 --- 7ae1bfc99 --- 9a5cd5171 --- 8909b68e1 --- 867c937bb --- c5c073bb0 --- 93715fe15 --- dbe757217 --- 4e1a8f6eb --- 9b8eff1d7 --- d974e8584 --- 83e3e2e60 --- dd85a900c --- 60cd556c9 --- 704e2dc55 --- 523ba9c40 --- bbbff9657 --- de23dceb1 --- 608639adb --- f8b0c7834 --- 4415f4c2b --- f65d1049f --- d1e4fdebb --- 82df5774d --- 870e70063 --- 0db69e82d --- 36a56d23e --- f95a762b0 --- 736e55e5f --- 07a53f839 --- fa9e059a1 --- 864b62f7d --- eea23ab04 --- 9b26736c3 --- db043a30f --- 4efdce83e --- e9f588de5 --- 33293f845 --- 9be6f99a8 --- af0b98ec8 --- 77bc11659 --- 57dd44c29 --- 169f6dda5 --- fa1efdadd --- f4b374613 --- 1db387535 --- 79cc300c7 --- ffca57b7b --- 2123a4f36 --- ed1f680d4 --- 26163ffe1 --- 0741f3757 --- 45319105a --- 88204c8b7 --- 596104fd4 --- 42088cf50 --- 3c35b9726 --- 7417a6759 --- d8ac7b733 --- c83ce87d0 --- c5cb7200e --- 0ab4a0fb9 --- 600a08d97 --- 73361d959 --- bfc329d6d --- 6cf7866c1 --- 47b7b878f --- b27faa35e --- 26df61cc3 --- 07b0db73c --- ea2bef361 --- 37f11de5d --- d251ee3b4 --- 05cc08c11 --- 6ae3c4017 --- 88321cb27 --- 59900ceb2 --- ad7140414 --- ce53d1a35 --- bdadd6c34 --- 38df6c628 --- 912028f4e --- f308f8d9d --- 1d871bff1 --- bbd16b7a0 --- dbaff3010 --- 7344de401 --- 99463829b --- b19e65a65 --- e871db27b --- 15bba6b9e --- 7f6e612c7 --- a4511cb0b --- b98f3e0d7 --- 9ddb5842c --- d53d64307 --- 9e88cfd02 --- b6c0969a2 --- ffa903344 --- e9a1cb188 --- f16a196c6 --- 8c0a1fa32 --- bd1c19973 --- 1084e5813 --- 0186620d7 --- c4ed18259 --- 686d60d8a --- ed6e7fdaf --- 1de4d7d62 --- b78487210 --- 409405788 --- 49063a8ed --- ce375f93c --- 63895c382 --- ce3d7595b --- b64425521 --- c7753cbfc --- 2b8851e90 --- 546e67d8f --- 171b3a902 --- aa610feec --- 155912a6b --- 1a6d13c4a --- ef139d7ac --- 7d69832bb --- 7b5650f35 --- 1c047a8ce --- 480e78cb0 --- 3ebf86dd5 --- 5341a81d1 --- c08bf12d7 --- 29c64fa08 --- 8966b4eee --- 39ba6f52f --- 8d1a99afd --- 37a382722 --- 2684a37d2 --- f1f6d2370 --- 9fa38def3 --- fc34bcb91 --- ebe9f985f --- d14c16520 --- 268040457 --- 30b3daec2 --- b43a7cfd5 --- c5a83ecbc --- 8f76eb6e5 --- dacebaeaf --- a39758dae --- cc507de6c --- 76e9423c3 --- b4da814b8 --- 4de164057 --- ac0493670 --- 5f11fbe33 --- 41af7a4d0 --- 482715cbd --- 916d17652 --- 49a10e089 --- 9282e1543 --- de66047b0 --- 94e568b42 --- d9c07e001 --- 8b5c0fb4e --- 0df1d7b9a --- 2fff1237e --- 7ce55a1ce --- d24a55c98 --- 248db7ce7 --- 024c577b9 --- 159eb4fbc --- 9af753e9d --- 62d2a813b --- 04ef53271 --- cda277b2a --- 6820130f1 --- 2a3f07749 --- 4d2671746 --- c6cbb2938 --- 989d6e0f5 --- 51707c671 --- fe0c81eff --- 5c1f412ce --- e75a24ec3 --- 7ab926448 --- 612bf9b47 --- c9160c30b --- e8abdb1f5 --- 157c8b45f --- beb887591 --- 657d07d19 --- 281c556a6 --- d421e03fd --- aac52d8d9 --- 09e395f05 --- ba5bbaffc --- b612f9b7e --- 8cff502b4 --- 16be01500 --- 19a45192a --- 252d12778 --- 5dae1d1e8 --- e9f57e5c6 --- ea772e115 --- 9d77330d2 --- 5b943716b --- 7c444370b --- 36cde3ce8 --- e03733f56 --- e88913510 --- 3658d3949 --- ad009c8b9 --- 70b564f7b --- b85fa8b27 --- 258412544 --- 33329acea --- 5ef415428 --- 8225f7e05 --- 6eaeec74c --- 3475c6ad7 --- f5e0f4a16 --- 2f5688490 --- a6f9bb77e --- ed6c300c2 --- 12a00890f --- a4529b4ef --- 1d2df346e --- f8341140d --- 341daa7d1 --- dc07f7e11 --- 948e00a8d --- f80259ab3 --- a2e5adf89 --- b5a25e7c9 --- 93a31829f --- 26ab20ff9 --- abc207b83 --- 9f57a28e7 --- 74fb8f14c --- 983f4e3dc --- e07ee6287 --- bdbb0cd24 --- 5d4b3b236 --- 215ffb087 --- 0c5eaf8a7 --- 2dfea2ff3 --- 53a550111 --- de7063efa --- f52409b3e --- d0f65188c --- 65119177e --- 2d60e2f7a --- 197cb48af --- 5e6a5bce6 --- 947c7c3e8 --- 9a9fc1aba --- 03ee30b8e --- 159e45efa --- d746efbfe --- d8e8397ce --- c6850e7db --- 293e2698e --- 51cab733f --- 2af3668d1 --- 26e2c24e3 --- c3726f249 --- a682ef110 --- b452ba57e --- 08448215c --- fee2d3bf9 --- c2d200f0e --- 083640132 --- f0aa40974 --- 7af000ac2 --- 1930cefda --- 6dae32858 --- c5aa7c575 --- 225fa9d61 --- 78c57d7cd --- db6ba896a --- b794c5b62 --- dd84674d0 --- 936dc3bc4 --- 940c3b22f --- 95bbebdd4 --- 71f5ab59f --- 249e3ab39 --- 3c27b0b28 --- d8e951a15 --- b4cfe861f --- d3245937e --- d83a59765 --- 78144b68c --- 474a2c5a2 --- 0f7ae26ce --- 44b0a78e7 --- 87e9b19f9 --- 45713ba5f --- fb9a4b46d --- 533d88707 --- 589a5c62a --- 2a7787202 --- 044c7e993 --- 9dcbf8c83 --- f32763afc --- 5c832ca64 --- 2b9b1b4e2 --- e8522c145 --- 25729656f --- 567d2715c --- 4c095683e --- dfd8bbbee --- ade8a5a19 --- f57ebfed7 --- 51d4053c7 --- 4fa7f2b3c --- 47248c81a --- 900045349 --- 9c42bff81 --- 4f0d3819a --- 2d2114d9b --- 0a953f97e --- 7ba2e35d6 --- 2daf6b624 --- 1602cb35d --- 306794b9b --- fd9968f0d --- e3cf0fd08 --- 38ec5d3bb --- a5b602fc0 --- 440d789c5 --- dda820122 --- 4e593c1c5 --- d428161d9 --- 1d5df91e2 --- b4c2843b9 --- 115d5bc1a --- a74f5bb0f --- 9c02efa4e --- 28b21c1d2 --- db45da8ac --- a3aaa5247 --- f51378159 --- ed2f00d46 --- 372daeab0 --- 3305c8063 --- c3825b569 --- 3027b873d --- 8348ea8d3 --- 9e711a568 --- c30ff7f31 --- dee843499 --- 625525b5d --- 9c502dcd9 --- b1c5346c4 --- 823ac378c --- 134ac90df --- 9886b4d22 --- 955028f58 --- 8e0dce2be --- bea06dade --- 235163358 --- 4be3996a4 --- ad7fbe4b5 --- 6456250f1 --- 0dc333fa1 --- 3187cfde0 --- 155f1b1e5 --- f902239b9 --- ea72c62a1 --- dc528471e --- 6a44e0c96 --- f1ac784e3 --- 55c3e1c4e --- d75793f21 --- d6d63dd07 --- 64c6eb1cb --- 36d75938f --- 5d80001c0 --- fe326ffa1 --- 9133963bd --- 2e7f340f2 --- 7250feb72 --- a403d93e5 --- 129ce57a8 --- aabb9253a --- 2a984552e --- 211314d56 --- 89a2d70f9 --- 28f75e1a5 --- 1c68ee044 --- c1ad8b95a --- 0c9516742 --- 4a3c29696 --- 24018f832 --- cc03b5217 --- fb5a3097e --- 2ec5b290f --- 69e1143e2 --- 2bbfea199 --- 6e00fdaad --- 69918e0c1 --- 26f222d6d --- 18b4fa3f5 --- 5b8c88c94 --- 8b596c673 --- 2b822ae10 --- 7e78d546b --- 945dad481 --- 9ad63e274 --- 7961b255d --- fd8f9d6d1 --- 438d61d86 --- 1d593ae5b --- d30ff01f8 --- 9306da53f --- 13f7f9c70 --- 03b8b1f2d --- efaee7633 --- 3a90540ab --- 3be3c049e --- 0d7692145 --- 8f940cb1b --- 16a9296fd --- ebbd8432c --- 1d1759169 --- 024480f48 --- 40b0f918f --- 5bc10886b --- 39e1796ab --- 44d5b820f --- 8ab2f764a --- 2386ddecc --- a37de954e --- a513d67d5 --- 5f341a818 --- 65266ad22 --- e9a8d043d --- c89ae4ce0 --- 3519bf4a4 --- 32b64ff51 --- 8d13d891d --- 0106dd950 --- 860a95ef6 --- 6620268ab --- a36b95f78 --- af3b85b31 --- f0eee77af --- a8ee55662 --- 4672a8299 --- e171bccbe --- 3bfa8340b --- c0d363088 --- 9884166a7 --- 9fe78f046 --- 01c0495f8 --- 62ea662e7 --- 1fa0f78d0 --- e75cfcc64 --- 2e648ce4b --- cb5587baa --- 1b681c3f0 --- 7acda93e6 --- 2bd16b689 --- e84eed5ae --- 174bec4d1 --- 32174174c --- 940151347 --- ba9f3a42c --- d8296080a --- c9eda7d9c --- 08984f627 --- 464ca73dc --- 2947535d9 --- bc56b26fd --- 976247c5c --- dc337b6a3 --- d88a3a563 --- c18cc7d3d --- 2cc07f5bb --- 1435ecf6b --- 227ac0d56 --- 7aaefdfd7 --- d5e6c18b0 --- 4c835bd02 --- 37d7af8ad --- 57276ea06 --- ccd9fc164 --- 1ecd56251 --- cfc1ce276 --- 8479174c2 --- 166ccc410 --- 961b91fe7 --- 0eabfcbc0 --- 9562ce5c8 --- 7f71851ae --- b0e45a9f7 --- 5030aed26 --- d4815c074 --- 2155f5e16 --- ec5764030 --- a60027bb4 --- c91a4f722 --- cca45417f --- df5f5272a --- 28b40090c --- 0afb0ddcc --- 43dc0f90c --- a1a0084e3 --- 018ab6a80 --- ca667c723 --- 0a4e510ee --- 88d29cfaf --- 2d4684f51 --- 35d9497eb --- d3fbad629 --- 31015eaab --- 58007f90b --- 602fd33eb --- c09edaf01 --- 1254b628a --- 47a8de42e --- 1996a153f --- 4a9e09bff --- f34f48706 --- fa5044e9e --- 65cb52d6d --- 05f54f417 --- fd7b0fc29 --- 9ff21281c --- 0ae364eb9 --- 28a785c08 --- ea4887e6b --- 22b3a9853 --- c2dae3a5a --- 5a1589f1a --- c671db79e --- e33cc4561 --- 2cff4bf0c --- 6cf2d8705 --- a60974604 --- 9f2f1099b --- 09f827f1c --- 802ee804e --- 4ca7f1312 --- ad566b17c --- 12336717c --- 06283f348 --- f98d7054f --- 15b0fe826 --- 02c1bd442 --- eb4f2651e --- 7f78a36f7 --- 4f51be24e --- e157b2c72 --- 168b3e5bc --- 9e3aea49a --- 37c10d610 --- 175795887 --- 28dc3cc44 --- eb2a78609 --- bb12b7d99 --- 3871fd3ac --- 277ef93fc --- e75662746 --- ea965bff6 --- 3e4a6796d --- 9b490abb3 --- 4a3baddf6 --- 29e58696d --- 904907a8f --- 5e1085022 --- 03490ef8c --- c3f400e36 --- 3c209d9b6 --- 6c9ae21e2 --- 5755fe831 --- ad57dea17 --- 1401de8c2 --- 588106548 --- b219e3635 --- e2b4d4ef7 --- 8646c43a7 --- 8e8736fc8 --- e9770863c --- 15d57abf7 --- ba42e41fa --- 433d408b2 --- 24303647f --- a5fb00d9b --- 51ee03895 --- 0bb06f4b5 --- 122df5341 --- 6a3b5a968 --- 5fe3acd24 --- 0aaed8bea --- cd24eae8a --- 5a5168624 --- 9666bfe76 --- e26299c3a --- 7121c40ee --- ca67f1baa --- 8f21c5b89 --- 6488c8200 --- f00a70ef6 --- 788e6045c --- 1389b944a --- 578cf246c --- 2322dbbbb --- 6d1a3b508 --- bf59c51c3 --- c5e3535d2 --- 1fcba48d0 --- 33f6d3f51 --- 0738fe5ff --- a459b5f7d --- 9fcd078b0 --- e325dec5e --- 87a2d8324 --- 50a900e26 --- b3dbb1222 --- 3d71c02f0 --- e769ee40d --- d7875bb6c --- 2ed7f4cca --- 99cc87fd7 --- bee71cf84 --- 438b8b599 --- 29ae0b048 --- 89cebceab --- c3c3f66ff --- 72d34a148 --- 3d350431d --- 4933f2e67 --- 080cd72ff --- 7cb53a29a --- 60e9cc05b --- acdef5318 --- 0ff32eb98 --- b7ae337fe --- c110ee2b7 --- b0095ae64 --- f8ee2386d --- 67b44278a --- a7f94dd85 --- 236d276f3 --- ad327fcc0 --- c680e9350 --- f3ee34336 --- 27c5d13c9 --- cdaf3e576 --- 2e278fe94 --- d83991b80 --- 1ae0db9d5 --- 853f29325 --- 73db5b43b --- 932d0f56b --- baa95693d --- 1ad24da13 --- e98dd91da --- 6a1ba30dc --- 1e16f11f3 --- 939cc02f5 --- 0b139c060 --- 8d8276242 --- baa676f41 --- 166008929 --- 14009f037 --- 415094079 --- 8722f33bb --- edddb1ba5 --- faf7285a1 --- 73e591019 --- f3250c691 --- 924357043 --- f8405f8b9 --- 10596ddee --- 8330ae1db --- db1da2c31 --- b86161bff --- 9bed59a71 --- 3ce1dedc9 --- c46028c0f --- 273fa781d --- a14a16089 --- cc462dc0b --- adf9455bf --- 86f13324d --- b7d59d3b5 --- adadb9a96 --- f7b2550f2 --- f9075afaf --- 40c62adfc --- 20ff37b40 --- 85629e36a --- dfd179071 --- 072ac3897 --- af6ee4862 --- 979ef2ee3 --- 6ab79c2fe --- 3eac9a76e --- ee39f2138 --- 357784061 --- bb6f59108 --- 71aae7896 --- 4a0e1a740 --- d48c08bda --- 115f780ef --- 68153d35e --- 41bc25fef --- fd5c6c5aa --- 9eab942f8 --- 001476ffa --- a2aa0e4e9 --- 27a7cc0ca --- 2135fa05a --- addb3f3eb --- 61a0acefa --- 39549da61 --- 2fc5bfa65 --- 800f38b6b --- df6a71cc7 --- 77464b17f --- c90b0b8a7 --- 7e86f57c0 --- 9397535c7 --- 0019109c4 --- 2a2832b07 --- e9375ad86 --- 93a445808 --- c13ee1dc9 --- d9a347160 --- 57e01acca --- a43c53c45 --- 7f72c937f --- 402bb0761 --- 280898a2f --- b39f565d4 --- 092271eb3 --- 260ff750c --- 09c81e679 --- 715fa74a4 --- d9db07d68 --- 5ea2238fd --- 2c6c62b54 --- 2ce2a1cdb --- a7bbfdace --- deabe0f4c --- b46191036 --- 8be66d97d --- a3e023f65 --- 964cd68bc --- 0fe78acfa --- 94516b63e --- 62f61f246 --- 9381024b7 --- d942e677d --- 4b15885d8 --- ba6d66b1c --- 376474413 --- 3516308ea --- 0fbbb0d6b --- d284121fb --- 406a11b5a --- 91de54e0a --- 413bbe772 --- 5d8a2a27d --- 58e056e12 --- e289bbcc3 --- 68084ece1 --- 541e202d7 --- 8c615f784 --- 44cb9b7c4 --- e16a20511 --- 6f0b52796 --- 772288e75 --- 0d9e887bf --- 3af1785ee --- 6312f13bd --- b7c931383 --- 0929d922b --- f357f5ffb --- 0f14ab429 --- 9452f2c5f --- c108dbb04 --- 783ee6e9a --- 212e51bf6 --- e0b968d7b --- fb6da0420 --- 3cae817df --- 2b2b5187e --- 00c467392 --- 3d6d38290 --- 8d9263a24 --- f29217d2f --- 5619c1297 --- 8dc18e7e1 --- d5de50af2 --- 82c164590 --- 7f9f72202 --- 4f8b27b6b --- bcfb439ee --- a7c7af91e --- 1ffee02ec --- 8d918c64f --- 71ac2b961 --- f3b6dabf7 --- 9f2619218 --- e26149c9e --- 493466e96 --- 4f0b30912 --- f8b733d3f --- f2c0fa7cf --- 7f55b577c --- c0085a739 --- e94c03517 --- cc0045289 --- d15a325c1 --- 13bfe432c --- 57412a852 --- d4c1de0e2 --- 200bc2176 --- 241f0f867 --- 262e3fc42 --- 215c4d496 --- ec7f7017f --- ca45bdef0 --- 0bb96a2ae --- 1a382b105 --- c9c6b51aa --- 48420ad48 --- 86323e98a --- 9a3f53be7 --- c63090352 --- 9303c6806 --- ce3c09a74 --- 493eeb973 --- 776c262ad --- e4dbe4822 --- 1dc5f8e47 --- 741684fb0 --- 062f6f3f7 --- a38ea1ca7 --- d6c82cd68 --- 1eec37deb --- 1f79c78fc --- f43c09c81 --- 6e282f92e --- 1137a0518 --- 61483a9da --- b5c839236 --- 292471107 --- 5860d7fa9 --- 5324862e4 --- 38d8de2d6 --- 21af91e9b --- 6723b1708 --- 6aa919e2e --- be48c4ba8 --- 83ce5d80d --- 0e348d340 --- a542dd9e9 --- d9ce16f1c --- 9622663e9 --- 193b90919 --- 52c9acf0d --- e6b8645c7 --- 7f174450b --- 4c2064b00 --- 62ffce458 --- cbb673163 --- 3c20d1abb --- 1da5c1b6b --- b6d206324 --- 6804b5b03 --- 8a158bbb8 --- 770d3a11c --- 03e726456 --- 2ce77a58f --- c7c4d6096 --- d26b63cf2 --- 1452bcc63 --- 914d2a395 --- abacb53a3 --- 289e5ecc3 --- aa37f9855 --- d817823ff --- 172a58959 --- 4b7b665ba --- 13b54db14 --- 48b839509 --- 685059fcd --- 8988e8da5 --- 395dbfdac --- a8ef2a0d2 --- df2e81e3a --- 1530f6138 --- 63f493dba --- 44c06f79a --- 1931ccfdd --- 2ba3b18ee --- 85ef8a837 --- 518b5da24 --- 089ff7bcb --- 6ff9b1760 --- 1bf2dfd4a --- 882a3da34 --- 8c549c040 --- 8d81c1c27 --- f553483a0 --- 317ee395d --- 2c1ed7d88 --- fec5644cf --- 398cdc105 --- e7071d5e3 --- 83635fb67 --- ebccb542e --- dd6cc6c51 --- a6bf610b3 --- daf731030 --- 10961e428 --- 22dbe574a --- c95423453 --- f0eb7b98f --- 1e6306c7c --- 0e3ef9e8f --- 7c030bead --- 295f155e7 --- 468d2c3b6 --- e25a65f3d --- b6403de0b --- 0f5fb7fe7 --- 9e0c57b34 --- 64e010722 --- 98c05b5b4 --- 2a728c5fd --- 36a131c2c --- 3b8114ab0 --- 1e679a59d --- 32313055b --- c07f4daba --- e9d64c20a --- 8fc5f0637 --- f1a0b77a5 --- e5a8e9154 --- a5f8c7929 --- b12b85f00 --- 2bef13c19 --- f30ab5791 --- b287947cc --- 94072d7a3 --- 067bcb836 --- 358dc07d0 --- 5bca7197d --- b70c76dff --- a6e843cff --- 2488e17f5 --- a8885cde4 --- 72f9c4f40 --- d3a116347 --- 5c4bc83b6 --- 3072d6ac4 --- f6523474a --- 13ee58af1 --- 8f57141ec --- 99ce7894e --- 95de610db --- 67c4a2154 --- e509be270 --- 1604c0735 --- 6078280eb --- 88f64cd8b --- 2eaf9a838 --- 9a8252844 --- 32a20781a --- 1e991f09b --- d3022e2f1 --- 3eefaafea --- a0a3c0f1b --- a5874086d --- 90670899b --- fe56ddf0f --- a8e15505d --- 95a2e29fc --- f0bb6139d --- 912f4f5de --- b80f3eab2 --- 3f8854df3 --- 199caef5d --- 99b88d0fd --- 1a1962b67 --- 26b2adb65 --- 16b532cdc --- ea397d576 --- 83ea288de --- b9a4f06cd --- 43ef60caa --- 09a65c3a5 --- bbfff6091 --- dfcf7c0fa --- b9e8c09d1 --- 3908749a1 --- 01f7de15d --- 1c6e8a5c1 --- f5538ee5c --- 14d2c6d95 --- fed5f4046 --- 42ed6824a --- 7b922ea8b --- 9ea98e87e --- f02ecb19c --- 47665e3ce --- 236cc1ff5 --- d6be59f6a --- a2d1008bb --- 9e45b15cd --- 621833d9b --- 4db058006 --- 4366865e6 --- 615cc4c17 --- 8cd9be80e --- 28a5ad41a --- 49131c9e6 --- cdbe394fb --- 9370aa48d --- 31a3f920c --- 42e0ec591 --- 5bc7ab64f --- d4029c010 --- bb3d53354 --- 5150b1a17 --- 942b3234c --- bba402827 --- da22ed2b8 --- 35dac887f --- df69cf626 --- 08af3dd45 --- cdca583c8 --- cc62f0df8 --- 425c08bf3 --- ba480f343 --- bf0195c11 --- 2862eec4f --- 6dcac05e7 --- db147ffca --- 9a2b0a8be --- ed22a0422 --- 19f721ba0 --- 9685f5e16 --- 2ea3f3caf --- 6d82c5c16 --- 37fb8b375 --- 542536b93 --- 96fec9b38 --- 1c873e4a6 --- 343042ed9 --- c4d657c5b --- 020a817ab --- 84f287070 --- 0829b92a4 --- 4af7c76b9 --- dbc48d37c --- a06b69c08 --- 58e2e02e6 --- 711c20509 --- ce724eda8 --- 0f81cc1d2 --- d204300f2 --- c0c2f5403 --- e1d6a5347 --- 4a29bc92b --- fc4a873e0 --- 02dd79dd2 --- 8ca717e6d --- a2616a980 --- 1fe5d56b9 --- b9f75e4aa --- cc01687d0 --- 60b963f48 --- cb72c1f0b --- 932b61d77 --- df1ed6b50 --- ba9a5776d --- 504e4b156 --- 87ba924b1 --- 920a04ee2 --- 3855aef1e --- c8ebd62ea --- b0a375b4c --- 3b52c73f5 --- 78947b2ad --- 18562fc62 --- 5c78454d2 --- 761b8e0ec --- 54428f346 --- 12491af5d --- ecd359300 --- 5a1183b8c --- 04466547a --- d5fa5ffba --- 9c404d218 --- 6b725e99b --- ee6264d2b --- a47445036 --- 1c62e29a7 --- 849125d91 --- d1a5f5c20 --- 21467a773 --- a9ca6c2f4 --- 5e645a169 --- 8c5025c23 --- b261b0abe --- 9d2a850a3 --- 678b3f377 --- 6b0c3789e --- 027a2206a --- f4393161a --- 1351bf96e --- 21ba6e2be --- c333aa06c --- 860bf7c04 --- 74f15ad1c --- fc5690e51 --- 540208409 --- 8f6514df0 --- a7ac690a8 --- fcda960ae --- dcda0db2c --- 3988d0c5e --- 7630a0fd2 --- ef10260e3 --- 8c2f8a59c --- 2c136905e --- 34a4338bc --- 20305585c --- 9c720c580 --- 649d727e1 --- 4d05e2995 --- 4a6fc719e --- d6af4ee1a --- 61c1b7eb6 --- 2165c4b94 --- 9535efa4c --- 572f63ba5 --- 30768bc79 --- 009319104 --- 4647da55a --- d13a77c9b --- ecbd077d0 --- f471e9e82 --- 5910a3154 --- d01cc5805 --- a2378b86a --- b9928ec6a --- cd7f0affd --- d7f1f9e52 --- 1cfb3f891 --- b169c8b90 --- ce6b81be1 --- 5d8a55e6d --- a8b721722 --- 6d773e96f --- 5cec9a2fc --- 60e45b5ee --- c83fc48f2 --- 3dd4cc7a8 --- 3b21010bb --- 58939b6cc --- be5c8f449 --- e3d33877c --- 8579b0968 --- 16d7bff2b --- b4a4a4df8 --- ff558c2f2 --- dcf8a669f --- 04ecdcbb3 --- f66618ee4 --- d26279f1a --- 6cf9184bb --- 0b790ba3a --- 474a9ec54 --- 2e768f672 --- b2e1308ae --- d8aa77bcc --- 9c3154ae6 --- 99fe351ec --- 8de6fcbf1 --- 1ce516986 --- d5d85bc77 --- 807c7f49d --- 849c542c3 --- 22c7b00ef --- 9450dfed2 --- 971631b2d --- a04f3e320 --- 0022de2b3 --- 135091a07 --- 30d63d3e4 --- e9e212c6c --- 12d3a67b0 --- c25438f10 --- 4fe8154c8 --- 916ac9986 --- 8fe3c178c --- 0397f7c9b --- 8d035d41e --- dc61677e5 --- f52a82e7f --- f118f693a --- 06f6a7287 --- 15ea45005 --- fa422ab84 --- fa9d6b9e5 --- 22c3db28b --- 43d99f930 --- 031490e77 --- 724b993fd --- 9e4765450 --- 2276569b3 --- 22610c726 --- 9030c5bb2 --- c8c6fe1a0 --- 15e4e8ee5 --- 9509f66b0 --- 07499792b --- f977e99dc --- a760e7f65 --- caa9883f6 --- a6b6bc34a --- fe33df1c4 --- a2a1fc349 --- a3da2277a --- e093f6639 --- e8f43b3ab --- 92b047b55 --- 8ba7eacbb --- 670a46cd0 --- e679b8085 --- 717eff45b --- c633d0b3b --- a9f61cf27 --- d37030d36 --- 51c9aee7e --- 400e9303d --- 543010a22 --- f990bddac --- 0dc4d6c7d --- 03055cc36 --- 4e4e9d21b --- 7be4eb1e5 --- 3d23e8abd --- 2f26d70f4 --- a22d58a16 --- c25078fd7 --- ddef5ad30 --- ae7d89da3 --- 5da2e6220 --- d60ddde1b --- 1d293a2f3 --- 20ef8d615 --- 1b55f7f4d --- 4ef309fc3 --- 9e7c6b515 --- 56e98e3ad --- 9b053a045 --- acc744336 --- 3b843ae7e --- 8ab6f5695 --- 854e37761 --- 2599a7eb7 --- 64819a74c --- ce734c365 --- 0d6d7ec0b --- e637e8faf --- 2570e2ba9 --- e3a4596f9 --- b6daeae32 --- 0b1741a7f --- 578eda8e0 --- d59047bd3 --- c4e5eb1f1 --- 2ce7f870e --- d2ef684ed --- 657dec16b --- 090dfb7e2 --- 5fb85905d --- bb0408d98 --- 2d3296db7 --- 53bba91b7 --- 98dd5b0c6 --- 5ac7e84c4 --- dd33aef84 --- e82967f3f --- 7e09648c9 --- 07746dcda --- 2f587f6a4 --- b7d2baa45 --- 1bc285a83 --- 51c250e53 --- 90a420609 --- 0933930b4 --- 17cae1f2a --- 9fd594eec --- 70260a29c --- fb387ea33 --- e78e3031b --- 98d90a1d1 --- 3a62b36bd --- 322c7de2c --- dd80d36d7 --- 20551fa5b --- b89f520ad --- 44f09b92d --- b6d60e4d5 --- 26c68cede --- be8a71172 --- 8601a29bc --- 82ade3db6 --- 0e44d3981 --- 56cb93fd8 --- 363713112 --- 27c4472c3 --- b0e2acd8e --- be83085df --- a326c6a6c --- ad064d609 --- b136976cc --- 8fd2fadca --- d313c892b --- 2838d63f7 --- 26cc05472 --- a2d707f4e --- 3fdef7fe4 --- dc60842fb --- 61063fa1c --- 4c938629c --- 950f2c435 --- 963c9c0ac --- 45bc3b302 --- 0955b4038 --- 9751dccde --- 37426563f --- 581515692 --- 86cefbcc0 --- 4f45e06b3 --- 27461b158 --- 266525925 --- e7962beb9 --- 87d052df5 --- 9539d34c8 --- 263fa7a1a --- 1a9b9e2fe --- 721c60041 --- 7def2d7d3 --- 64cabb6e7 --- 58a1cb6eb --- c8313d222 --- c612c5f8f --- 8c1e20670 --- 5244415dd --- 81545f1e1 --- e487c356d --- 74c5d55dc --- 88ef1d9a8 --- a9099e3b6 --- ef548a810 --- 0e72651fe --- 3b8208d28 --- 24addf864 --- e0bb9cf0b --- 1a9501bae --- 14c2463ff --- b8374ee4b --- eca6cc5fd --- f29dfa600 --- fb0f5dbfe --- 1e8e233aa --- eae884486 --- 286bdeb79 --- f7c8c6ad3 --- 5f7942448 --- bf0e69e55 --- 50b2ed3a8 --- a7bc83f57 --- c2cfc2003 --- a765da8bc --- 509e911f0 --- c60453293 --- 7ca10e94b --- 7e473a0c9 --- ffd50f0bf --- eb25d54d4 --- 776e9945e --- 234664d1b --- 72e970835 --- be90775f4 --- 02861e414 --- 829fb34b8 --- 76d34bbee --- d7cdd8aef --- 63dfd4552 --- b77c707ef --- f296082ec --- fdae76b2c --- 324aaa96f --- 39abf0d03 --- 81c73bfde --- 0700acbe1 --- 4ddc6b32c --- 8485abcab --- ecd4c66ec --- fbe583de5 --- a78f85d49 --- 0ba2922a3 --- a00adf70e --- e9be18e4b --- 3f8614071 --- b1645d357 --- 903f6fed0 --- 53aa182a2 --- fca8c003b --- 2ad744c57 --- e8a3423d6 --- a924cf47a --- d51d10e38 --- e1b20c3a6 --- 03a4ccd7c --- f41af7c85 --- 71c2f04c9 --- 023bc78d8 --- f45dd927f --- 7166e3770 --- 3de2a9e0d --- 59d2470ed --- 84067cfe0 --- d5fa73ead --- a320c9747 --- 5b318b659 --- 1c6c0ffb1 --- 32cab3140 --- 718ce36a5 --- 0989e152f --- 238af49a8 --- 834fb292d --- 545d84e13 --- 098913433 --- 5271beb00 --- 6ffeb3fdb --- 0427cdb39 --- 6ebf9e1d9 --- 2386963e4 --- f6ba9573d --- 7de39a7eb --- 15960e710 --- 68afb64c3 --- 232356685 --- 40e17d035 --- 19975f6ff --- 35c5fe0ff --- b0cdc345e --- 7469da4e7 --- a0a622723 --- d5efae759 --- 1af4ab267 --- 5f04745bf --- de0aaf6f4 --- f81c2f1dd --- 0b2e88d2d --- 36a9a8479 --- 47e969ba0 --- cfa0c152e --- 118930f35 --- 58057e2b0 --- 3b74ac37b --- eb19e8d63 --- 2a71f4027 --- f967f827b --- 97b387235 --- ee99f8a68 --- ca6c23686 --- 8d4f4c571 --- 773c101b5 --- bfe5872ea --- 66146c12d --- 799625b2f --- c61dd62d9 --- 91d95575e --- 00ebe887d --- c9aac7536 --- 3e1100230 --- 7d9979702 --- 5a3e3608f --- 97cc1b416 --- ee7fb1067 --- bec7c48dd --- a77b4afa4 --- 68ad815c8 --- b2bc178d8 --- 1fd0a1f2a --- fb06e8833 --- 3e568d6c3 --- 346c04a64 --- afb6b8217 --- 70f29fefd --- 162989a6d --- fc02e674d --- ff65215db --- cd8048913 --- 99e779ee0 --- b6ae5f5ca --- eb8293932 --- 1d6069c98 --- 978975efd --- f2823f2ac --- b0c596a35 --- 18cad608c --- c5512041d --- f8cd9ae02 --- 21d6a4979 --- 3da6f8d52 --- 256640de9 --- c85a3dcc4 --- 210f2139a --- fd99c18b5 --- 6a542a40a --- 7a27eda46 --- da5814d9b --- 0247e4a94 --- 42b407f0d --- 3e5dab1e3 --- 025172af5 --- 9b39b02c0 --- 13d853d22 --- ddfc3e604 --- 5cab25704 --- 8c2e787b0 --- af4035fa0 --- 5dd6254bb --- 1b41fe545 --- c65ab9cb9 --- c944a48b5 --- e81758b8e --- 850e01a62 --- 3da5e42a7 --- e1d0e11b5 --- a2da3c1d5 --- cc7fb2857 --- 3391c0af1 --- ab7534e84 --- afa9b3198 --- 632fed345 --- 43782ef36 --- e7150f2ca --- 169875559 --- cbf39d314 --- 949825372 --- 58ed8fb53 --- f6eba969e --- 8a6b9a2ed --- 616c01612 --- 4b1d463d7 --- 295de7381 --- 2087ed398 --- a93118262 --- 7a34c9e13 --- 925f0ae9c --- e40fc884a --- f8e5e7447 --- cfd55f2b6 --- 4d9538272 --- e4e9c8cc6 --- a8b66bc96 --- 26417dec4 --- 5102f1ca2 --- 46291c5d1 --- f0742e2c4 --- 37c0a4deb --- 4a8917f77 --- fbc6c2b78 --- f8a3bb673 --- 5c56fccf1 --- eb7981dd4 --- 61b88b77a --- 2e5ccb523 --- f171b61af --- 203c64df6 --- 17e2a7989 --- c4255588c --- a05794fa5 --- 3dd64f4c4 --- c436c7e73 --- 18321c252 --- 7db1be063 --- df3cf10bd --- 3607eabff --- 75e55b7a9 --- dd3e0f1d7 --- 74a7b9e4a --- cb162bd89 --- 6562e2a2c --- 119230239 --- 7124d86d9 --- e23508558 --- 9789dc806 --- 9401c82a9 --- 1b41a7ee2 --- 43a1bf3e9 --- 1346d1df0 --- c45d71aeb --- 3696a15a7 --- ac0e2ebd0 --- 923114217 --- 28fbb187a --- 3a48a2cd2 --- 0d5215715 --- eb4b6b12b --- 5bf913a56 --- db3839ab0 --- 3313dae3c --- 91f701ba2 --- 07b31de85 --- f1fbe249b --- 6b795a2bc --- 797c94ca1 --- 72dd076a5 --- 110e4132e --- 601d54a3a --- 8c922fa9a --- dba14a5d4 --- ded346ef9 --- 3837a83c8 --- 6eaea198c --- 97ea72529 --- 279d380ce --- 1beb0ce65 --- 9ebc2a273 --- 643ef6977 --- 5ee81cb6e --- 235b8beac --- aecd09bf5 --- 2c5809e51 --- 655fe23b2 --- 17e160597 --- 42d321127 --- 4cbb46788 --- 1583363d5 --- 168c50797 --- 54723be01 --- 45cda25bb --- 47aab5d12 --- 17a6e2978 --- 63df94487 --- 5b523eb92 --- ca2b906e8 --- d1b9fc443 --- 1cec80910 --- f81908ca5 --- 5cdf0752b --- 1f0a4e1f9 --- e52260590 --- ee39e4ce0 --- a1b169a3a --- fdd07cac1 --- 590b24ab1 --- 098721511 --- 23bedadb2 --- 7f80a96a9 --- 4d294d2cf --- 357a1f6b5 --- 23db7d793 --- 86640b5ed --- 0c8f5b93b --- 9488c30e3 --- 8e4d0fe45 --- af31d98a6 --- 357b0dbb9 --- 54f26ee08 --- e3a41c199 --- 18c0b76e9 --- 844666ed9 --- bc0bb0c26 --- 949ef0753 --- 5aab2f5e0 --- 0cd22b1b5 --- 3429017f8 --- e1c250dbf --- 982210169 --- 62b08f1b7 --- 88219c257 --- 374b83757 --- 4c41b50ad --- 3bd7cec10 --- f9870621e --- 08d6762f6 --- 599096d8a --- 703885424 --- ff3b49c1d --- 73984d29a --- 1904ce2ac --- 9a804f83c --- e0df7616e --- 236910072 --- 4a20b79b4 --- 6c5c8869c --- 773180cf6 --- f269ec9c8 --- c70f77ef2 --- 29d7f1ebd --- 8c564ae48 --- ba4ceabc5 --- 331fb8455 --- 348aedc21 --- 2f7b0f5b5 --- afd87035a --- 2e103d632 --- 1c486f8dd --- 2e0148f29 --- 5eddab316 --- 6f7e5f4ca --- 160a40431 --- 67e6c62b9 --- 180f8ed6e --- 30eca0501 --- 6e53a2cff --- bcc18dd40 --- 3fd19b6cd --- 18976b9f5 --- 003da5628 --- 09af6f4f9 --- 62c319fd1 --- 08e89cc54 --- ae806420c --- 683a47abe --- b72e8547e --- 71b637714 --- 4bf056f35 --- ffd2f9409 --- 83fc7f74c --- 4c457a635 --- 1bf8c2597 --- f97d9431e --- 4824c1e90 --- bae4f747c --- 3a7771f56 --- 6dd2090e5 --- 06d24b818 --- 3f931e2b5 --- a731ff00d --- be4729cb7 --- df03d1653 --- bce33962d --- 150504397 --- 78b2cf944 --- a0453715a --- 1736dcf3d --- aef2f0a59 --- 84d9d1228 --- 5a5eabaa7 --- 0e141a57c --- 5c20afdb3 --- a2302eb5c --- 0926408ae --- 8d401b32e --- 9e37286fa --- 0ebd1ec32 --- 6ba70f5f8 --- 7f16cc7a5 --- 127e5767c --- 24218ec6a --- 82e01a220 --- a77d3eb03 --- 5cfc625f1 --- ff793343c --- 46300e98b --- 95742c2bf --- e5ddadc85 --- 3cea34020 --- 20e2c484e --- 0d8f892fe --- 2d1dd55ed --- 56896bb36 --- e4eac6fc5 --- 767b6d272 --- 7e58426a4 --- b6ee6dae6 --- 964037597 --- 6045a2949 --- d14ac08a8 --- 7da54106c --- 5f6ea2fa9 --- 05f1b68b8 --- 5878b703c --- e0cad27c5 --- 913970e60 --- aecaa2bc9 --- f41f0eb2f --- 94efcb8df --- 07cfb1624 --- b5c4708ad --- e9c45d66f --- 1413972fe --- 42481ff40 --- 2e762ec53 --- 4bffaff52 --- 8768af50f --- b75aa754d --- cb22f8a26 --- 0b1560062 --- ed1d5d137 --- c6e8b5b5c --- 6f9d256a9 --- 3d4a6baed --- 26144d11f --- 526a2282d --- 56a21fe66 --- 57b902085 --- bbd7e6282 --- 95f5f514d --- 0616154cc --- 55a7e0643 --- d53c850fd --- 91ace30bd --- 033e60778 --- b640ef3d3 --- 736513d36 --- 6ccaaf2d7 --- f3316966c --- 1fbbd4edf --- dd4649092 --- e7c0cfd0f --- 212efda42 --- fc436be29 --- 875ad1c4a --- 9847e14d8 --- 98d0d2971 --- 4ceef6dbd --- 346e3d609 --- 8c8616b62 --- 007d71f12 --- f1e0ada11 --- 99fc30923 --- 4d3fb93d9 --- 8e978ee65 --- c30399758 --- e70581bed --- b22eb2036 --- 7f0d863ba --- 21b0cdc34 --- adbe5fd20 --- ea3f3029c --- b88e5de84 --- 1aa44bdf8 --- 5355ec916 --- 47b5abbd6 --- 465717e24 --- 48130b04b --- 60b76e463 --- 1af96abeb --- 22eb11620 --- 30992dccd --- a3c187bb0 --- adf03173b --- 33ed23348 --- 6bf90e4f5 --- b0fcfeab8 --- 38bbaa62d --- dbb8e3055 --- 63509764f --- 6fc3be3e7 --- e744cd6c0 --- 42002d9a1 --- d93058147 --- c089837ee --- 1ea08665c --- c47fe5e84 --- cbd0256fb --- 097c7841e --- 5580c77b0 --- 30a47af70 --- d0e4129cb --- ce6349807 --- 76c1e9617 --- a388d3605 --- 184166328 --- d3ff41260 --- 6e76d5df3 --- fe1160758 --- 85f50c67d --- 59cafde1f --- 86558e595 --- 3690f6c26 --- 337153b58 --- 49fea7ce7 --- 14b9eadef --- 718f26ed2 --- 2cc11689d --- ccc7609f4 --- 1614f0f84 --- d3b9b9a70 --- 9f85ae566 --- 0de698985 --- 797fddbe0 --- 0aea1fd67 --- e5587ec32 --- ef6e31d6b --- 127972c6a --- f8de3e357 --- 74fa547c6 --- a61aa00b0 --- ced6a7e91 --- 95e23c636 --- 939f628a7 --- 29ab304b9 --- 22ff4e1b8 --- f9a683437 --- 50780ec40 --- 675d9ac8b --- 489dde24b --- befe0f9c4 --- 4411325ed --- 38b2aa032 --- 9f62e4134 --- 0872fe14d --- 06f44eb79 --- 899dbe405 --- 50603ae3d --- 6082be247 --- 5c7eb01b4 --- f5c3dec81 --- d6470c4ce --- 0f07e3775 --- c97e9681e --- 467aabbb0 --- 9bb02469c --- 03bfe48b2 --- 23c30648e --- d233c64b4 --- 50aaba7f1 --- 81e02e0fa --- 371ff7a11 --- b6636b458 --- f807767c5 --- 84ec1e3db --- eb058a6c1 --- 38a92f707 --- 1b1a893f5 --- 1998aa946 --- 1bf37b3e2 --- edc919c58 --- 850d3a6f5 --- 64d91247f --- 74d7998d4 --- 91fd68481 --- 6c7278ead --- 834f60cb1 --- 2cb50edc7 --- 885cde177 --- 23fb9b02c --- 47d17d395 --- a498f253f --- 65ee014d6 --- aca96197c --- 2c42b0dce --- 39bd57a35 --- 11c01e052 --- f58fb412c --- ed8951a75 --- b5b797f71 --- 5c0b5d1d4 --- 417fdb325 --- c30c6c467 --- ae82c2c99 --- f10717d56 --- 41016a42a --- 912836770 --- 95c59140e --- d834302b0 --- 46e10e042 --- 8909db7d5 --- 4416cd92c --- 8a088af55 --- e8387d928 --- 5a798adc1 --- ff08cfbbe --- ce3e5685e --- 4810efa27 --- dff08f7d5 --- 191e21b5f --- bb6f50464 --- 0256b6714 --- 3bdee45be --- 3b911747c --- 17be6c4e7 --- 92eb376f1 --- 1029d9146 --- ef2056ce5 --- ad4e33a4c --- 4bf2b8e7c --- 8b710e161 --- 087e01c14 --- b658cdb8f --- c63b4a070 --- 8dbd95b8d --- c0f2800fc --- 5a648a09d --- 7f9e0d947 --- 57e185aad --- acc5b709d --- 4052a9419 --- bb8c64083 --- 69e8244a3 --- 45293f374 --- 41fb39de4 --- 5cf6f9d23 --- 3f02111a8 --- 4c48708d8 --- db7c939c5 --- c928b4b74 --- 902c5cd15 --- 122c135ed --- 9e38af23b --- 5e62457b7 --- cbbc9c431 --- 75b663d7d --- 4b1a994cc --- afc17ad79 --- f366072e4 --- 43ebb15de --- 81e3fed66 --- bfbc53791 --- 0e931cdd3 --- 207871d87 --- 95abd1cf2 --- 3132de0a3 --- c5da3db1d --- 043e4971a --- 16bf5a9a2 --- bf042d928 --- cb9333bd7 --- da3b0b5bb --- b7ce8464e --- 0024cd760 --- f65a34c05 --- 504c7e3bb --- 26e998afd --- f3901acd1 --- 78b3125cf --- 7b8ac394f --- dfde54714 --- a0fe4bb10 --- 01b72b3dc --- 6f113540d --- f4e243e21 --- 23691e180 --- b0dedf365 --- 16bf8b4ec --- f9847e9fe --- 86ac4926a --- 467aa29ce --- d7c59a989 --- ffdc4bcf8 --- 5b465f819 --- 9702d7cc1 --- 44f3640e4 --- 856856d94 --- 7d287013b --- 467bee277 --- 7a5f0ad65 --- ce999e374 --- 10b318bda --- 556fb6bc0 --- 6809065b9 --- 86f0ede14 --- 879e1f51a --- 50c7ea46a --- 892f6f03e --- 74d7f2dc3 --- e3fd6fa46 --- fd812d7e0 --- b2e82c050 --- b914cfbb4 --- ee95f6389 --- fa2a340da --- 7dcc40cda --- adc894423 --- 44f2f419e --- b335915da --- b59179d17 --- a257e4bb9 --- 25e2bcb45 --- cb5329038 --- d21f097bb --- 3c9db4778 --- 5f9879270 --- 698d05d29 --- d83da5921 --- c7775aabf --- 7b1ddbabf --- 5b9dfbf38 --- 3f6246360 --- aeff360c7 --- d9fa0485a --- 4f2f6b0b3 --- b791ce9aa --- e5ac02d3c --- 62c547c8e --- 9379a6483 --- 4a3da18d3 --- 4a921e941 --- 5a99d7f30 --- 6fff36435 --- 188a6e279 --- 571380d69 --- b2f4d49d1 --- 70f4f1129 --- a240f6da7 --- fec5eaf1a --- 9fa984817 --- 177571d9c --- fb8395d97 --- af1e16c95 --- 93efdb50f --- cfe749e26 --- 086328cc6 --- 3f382323a --- 7a12cc314 --- 3c4df440f --- 720f83290 --- edad0778a --- a63aaf7cc --- 930eacbc2 --- 45226872a --- 3b583a709 --- b3bfbc1fa --- 006e72749 --- 1cb237c61 --- 208308a47 --- 3f4a39818 --- a2a1975d6 --- e32c2263e --- a4151c1dc --- 892a4779b --- cacc1edae --- 22c019a2e --- 97a327c93 --- dd01f3999 --- 62fb56487 --- 611151826 --- fd6e11a24 --- 52b08fd22 --- 27859b383 --- 7c080c111 --- 5a7e898a1 --- e7c0a50e8 --- da59aa67e --- eeb9cd3aa --- b76bf3f19 --- 806dfdd51 --- 3621a6388 --- 324921c7b --- 319e171fb --- 0ccd5ff1c --- 4fe8b17c2 --- a00a63886 --- b3abb64d2 --- e7eb9a66b --- a029667de --- a84cbdab5 --- 7ab374cb1 --- 177993dc6 --- 2f489369f --- 354d9a875 --- fb2ab1513 --- a8350fa96 --- 246488579 --- 232ecc840 --- f1eeb56ae --- 3aad48cda --- 5f5cfc3c0 --- 5374a601b --- e1e8947d8 --- 8016f08af --- 9ee0b383b --- a24ff79e5 --- e84c67382 --- 34a2f580b --- 1e1cb47f3 --- 56b9c3eb3 --- 5807de036 --- 5c79d86bc --- 282cfe2ad --- bc8aebe8c --- c0b31c194 --- dc8b7d0a8 --- cc5570957 --- bf6e38e39 --- 366841793 --- 01005e5de --- 19537e282 --- 13bdd610a --- 57535b55a --- 60d9fc568 --- cd180af53 --- 0aab2f918 --- 96d9b7754 --- f3bfa96d5 --- 71d64e3f7 --- 1c4157dfd --- 6e4f74c35 --- a6229abfb --- fed0df103 --- 86ffb104c --- 55a763d90 --- abbde281d --- 9e89978e3 --- da840ba8e --- dc10234ae --- fd99222ee --- d1e0f571b --- d0d80d487 --- 3e7c57d93 --- 9d478c2ae --- 356e0872a --- 2e8c5cdc5 --- 04fe69e6a --- 96b6bd42b --- ffa6b80e2 --- feb40ad9f --- aafb4ec55 --- b56f52246 --- 1938873fd --- dcc269cfe --- 26628e8d8 --- 58fe15f9f --- 97d5c39cf --- 2747680a8 --- 8291f21d8 --- 50b1dd40f --- 3fa0b1c53 --- b96718230 --- 219e051b5 --- fa11da6df --- 74bfc4e88 --- 7a7da3079 --- f8d75792f --- bf257a3bc --- 7c482420c --- cbcda9276 --- 5bf03599f --- 62071f7bc --- 6e598606d --- 532740e5d --- 56c679323 --- 25613ca0a --- 7196ddee8 --- 13a2ecd25 --- 9aeec78c5 --- fbe52b1b2 --- 9c36a77b3 --- b517115d3 --- cdd16fdd1 --- 58232a6fb --- f311fff83 --- d9fca2e1c --- 1bd1f24bb --- 690c387d6 --- 950b9cf2d --- 2645d1a55 --- 0bde2a22d --- d9a8918f9 --- 8990c918e --- 4480c1096 --- 62d0edc4f --- 24b2da056 --- 24c41bd80 --- 8706aa459 --- 16517c8b0 --- 67db03f3a --- f016fd549 --- d918835ca --- 75795ea0a --- f30ee55dd --- e10730b82 --- 7cc424ffd --- bf89fac56 --- 337b3e53b --- 4e06c5c6d --- d73900784 --- 42451bcbf --- 2a83c3267 --- c0d2348b7 --- 95d28e092 --- 9e17387dc --- f62b69c09 --- eecf06d47 --- 48373ee1e --- a970277f9 --- 1835531cd --- 19873fe8a --- 22c933b9b --- 224a28832 --- be6c5d3cc --- 5ac278422 --- d49c14235 --- 54df5e66f --- bd7bea236 --- 660fdbc58 --- 07df9f30c --- b48cf2fd5 --- 5a9a395c7 --- 8a4c53d3e --- 2d5b0ff08 --- 29725e10e --- 547d3135b --- 7b58b1340 --- 39b3c553a --- 81aafdb57 --- e7913a5ce --- 6a323434b --- cf6038b0f --- cba573a9d --- dc6902c31 --- f8a437c00 --- 20604ed8f --- 343922109 --- 37c85a274 --- 422acfada --- 0f49e0f05 --- c2d94313f --- 025cbf6b1 --- f1c20e3ef --- 3ee95e3ef --- b599b0064 --- 7f9d59cb3 --- 91389982b --- b65627fab --- 52f946988 --- 994b4c2ac --- b6ccc5fcb --- b25319cb3 --- 7acae7ae9 --- 1af4d24fa --- 74507e97f --- 0d1af7370 --- b95be4138 --- 1e403019b --- fbbd5f5ae --- a1e723a79 --- 46ba3a162 --- 3cf3fdec4 --- 22b7e449b --- 491b9ee45 --- 7b31055f1 --- 69cab7184 --- 03b6943c4 --- 2b72620ae --- 090fba3ad --- a6fc6205f --- 553d643d5 --- 4e26bc1ff --- 94f26b213 --- 2f0c89344 --- 597d78667 --- cd27ccedf --- befca8b7e --- c8d582dd2 --- a2bd73c67 --- 973663d14 --- 3a66c353a --- a79b1f060 --- 95df9fdfc --- e53805953 --- 12122f265 --- 2e3c96323 --- 22a7d1de9 --- 9f7b782ac --- 467c54d35 --- 4cffe31c7 --- a1d11c496 --- 635fbbd2c --- 3974799dd --- bf35dbb69 --- 6f951302c --- 818fce796 --- 8e1dfcb94 --- f0317ca4f --- f7f2e3896 --- bd308fe52 --- 9616802bb --- a15b2f707 --- af9c1bd29 --- e8d9394a0 --- 051410e3d --- 038cca913 --- 6d46740f1 --- f04f0582d --- 2f7b3364a --- 8c8236fe1 --- 1ec48dbe9 --- 1b20c5c27 --- eda856f5f --- d9fc63fa1 --- c976a87ad --- 8016c4470 --- 36af55ef1 --- 56da2db09 --- 0eebebc7c --- cf5b8da95 --- 6bd9d9ae3 --- d49b0b346 --- 69f20fee2 --- 3e37bffde --- d6bb78916 --- 175891ff4 --- 5e59e07d5 --- 6f0248fcb --- b361f589e --- 7f8027faf --- 9e39c29d0 --- a8110109e --- 403e7e48d --- c00611668 --- 81a212800 --- 1dd7bca9f --- d8cc972fe --- 3bb7bc789 --- cef9ab060 --- d19110e37 --- 5522157d7 --- 9c4073190 --- 8761d9bb0 --- 304ebcdbc --- 2193fe798 --- 82953c4cd --- 440d9ff74 --- fae0ce474 --- e39963089 --- 3fdb4d5e3 --- 268b047cd --- 4569d5378 --- 307ab31b9 --- 148f36817 --- 0a9735aba --- e32ad270b --- d7447b2c5 --- 2de811f82 --- 181e91b1c --- f7d385108 --- 2954498ae --- 67ddf8bdd --- 0c545307d --- c8fb3c2d8 --- d4087a281 --- 8ff55a752 --- 951ef1246 --- c10f31664 --- 37f57824c --- 423058dba --- cb39211ad --- 42b795e64 --- 6dcd9e752 --- d00c96876 --- 1b01ba505 --- 831cebed2 --- 80b6e9a8b --- 4c6a1accd --- 8b99e0487 --- 4bcf15776 --- bbe4423a3 --- 70feb1494 --- 8c2252655 --- 1f71b76c1 --- ad17d2065 --- 9121c8d1b --- 226c80ec4 --- bb6a5b6e2 --- b33b29b75 --- fe5d62533 --- a2d21363f --- 8dc7f1eb9 --- 68811ba58 --- ed8ff54b5 --- a4c9ea341 --- e622cfe3b --- 62a915028 --- 57caa8dd6 --- 1ac1a10d6 --- a84a800c6 --- 22b3971f5 --- fd1102929 --- de94ac9c7 --- c3b8e67d9 --- 6e7ffdb38 --- 784b9525e --- 5190d6dca --- d7d314edc --- ffcec956f --- 5dfd0ef29 --- a79522786 --- 2fc60d4d9 --- aecbb0f94 --- adb64ff71 --- 8e5a41c43 --- 8d4b52f9a --- ef38209dc --- 753e0a307 --- e4f19cd02 --- 0e1921717 --- 2a9fed806 --- be02583eb --- c33a4095a --- 7e4399efc --- 23d6be31e --- 5cbf1b3ea --- 39896d3dd --- 34d3715d5 --- 06393096a --- 3ce93a21b --- 2a7a88ed3 --- 849c464e7 --- 1a44834bf --- c6dc522f9 --- 6192f193d --- 2028e022d --- a6182b737 --- 7f91dc936 --- 569e4df02 --- 0809c8241 --- 059dcb5a4 --- fd7c50a10 --- 9dcdc2e63 --- b91632873 --- ab8a614fa --- 6a0b386ac --- e429ad370 --- 123ba6017 --- 42b147ade --- d79736965 --- 5d9f43278 --- 73687e512 --- 94ac25570 --- f423cf205 --- 8d667ce31 --- 9ce50845b --- 804dd7afe --- 53948b2f5 --- d5d4f936e --- d6a122efd --- 8c2fd48f8 --- 796c218e8 --- d4c72ccf2 --- 2e51c4645 --- 5cc9b6615 --- 11e12dbe8 --- df8466d2a --- eb4a20186 --- 83b151006 --- 2288333b4 --- 04e7a8426 --- b6e38a517 --- 9d2835f75 --- 6610f90f1 --- b10f15193 --- 4fa02e1a8 --- e0a18e5b6 --- 2bc6017e1 --- 3839f8553 --- a8c7f5c13 --- 00e87edf2 --- 4b9540ab3 --- 82775fc92 --- 81e4c7077 --- d62a74f59 --- fa1dd6e8c --- 4e5da0e96 --- 6654ce6d8 --- 50e4f96cf --- 6c27de664 --- 9a040fcee --- dc0118d47 --- 2c7e41e16 --- 25a2e8b49 --- a68b83290 --- 47744f333 --- 8136ce6e4 --- 786351d97 --- 1c4205649 --- 8eac9b173 --- df30d949d --- 0784536d6 --- 5cebca53f --- daf912b17 --- 8a1b76aaf --- e7e41bbde --- e2c21c4bc --- 22f05c895 --- 093b92da5 --- a25bc2d4a --- edc3f10a1 --- cb4f34014 --- c0032d792 --- f536ef371 --- a1db86e3b --- 621f71db3 --- 44d132265 --- bbcb92ecf --- e9235250f --- e62cdafcf --- c8d5efceb --- 6af8b2246 --- b9ba17eb6 --- dbf75ea9f --- 5f76b9c2f --- 89347f75a --- 839c9da76 --- 9de83dc23 --- 15177ef79 --- 850027e38 --- 16d1d6204 --- 207021f50 --- 6879db4be --- 170655e35 --- 469630e5c --- e17a13988 --- e17f1f07c --- 129fe0263 --- c144a70b1 --- 60a5b79e4 --- 4b373b8a7 --- b488b6a67 --- e49fea26e --- fd0f030fe --- eac3b8bcb --- 16c5d9c01 --- 5e5189189 --- 382606216 --- 2669d194f --- 36dbda4f6 --- 37ac53919 --- 4a9d3240b --- 80a9ccc6f --- fe758841a --- c8438b12d --- 71898f32e --- 453128993 --- f82167572 --- 9015ac21d --- ccb68477c --- 06b19b6c4 --- 86875d9b0 --- a6c9347a7 --- 5bef82898 --- c611e1778 --- e92c373a6 --- 47c197766 --- e1769f3fd --- 6240a7bd9 --- b7f26c1f7 --- 42ebbcafa --- f0bdb14ad --- 3a743de4d --- a7ca43b38 --- 89cffafe9 --- fb59499f9 --- e71a0278c --- 870bab627 --- 5263c204d --- fd1620403 --- 5b233cf72 --- ec88e0a6a --- 87ee785b5 --- 21a3176c5 --- 65753f40f --- 45f6d00da --- 0f2b86f4a --- d0803e3a1 --- ab515bdeb --- 2cbced573 --- 12adc9937 --- 70f3033c6 --- 8527c4fdb --- 2ef57c650 --- 50a6c6789 --- 26419fa97 --- 7b6e769e4 --- ecdc88e4b --- 10d7e8a17 --- 81f4bc3d8 --- 78cbd925b --- 10f17bd3e --- 82ce5b08f --- a5c62af4a --- c8306d5b6 --- f846745dc --- ecc439976 --- 782ef399c --- df28ac53d --- f14a940a2 --- 2bbcbf526 --- aba01a001 --- ac5260727 --- 1c2a63f01 --- 67a590e8a --- 0c49d75af --- 480611708 --- 71a56bdae --- 9f5a3b3c0 --- 62e59a501 --- f6240919f --- fe28836c3 --- 15ace8c9f --- bf8150471 --- fc035f0aa --- 1d04efde3 --- c7fd9abc6 --- 82f715995 --- 652142369 --- 5239ceb39 --- 5c6487af1 --- 338651bd1 --- f9378f7ef --- 5b714cd7a --- 45b68f38e --- 542f770e5 --- 8f66157e3 --- 94f3dcaee --- 6d9ed0315 --- 813536f90 --- e97fa47e4 --- 48f9838a4 --- 027e67ec7 --- c4592ac16 --- c55eb4392 --- d7db08081 --- aa7223176 --- a3ef69ad5 --- b6336ff10 --- b8255c039 --- 435f27009 --- 633e0d42e --- 578b81a77 --- f1b6cc03f --- 4c53b206e --- 2a3ac7716 --- 1f2a670dd --- 9d2dea573 --- bb0ce54e9 --- f765e41ac --- fe3fe2667 --- ad4d381a5 --- b93c33953 --- 314396b31 --- bc21e80ff --- 5cf7ac69f --- d9f2406e6 --- b7950e538 --- f3a4246a1 --- 11d9e8383 --- 2585a26fe --- f9fad35ac --- 7fb00ba6c --- 3b54cc2cf --- 8794c72c8 --- 9d4428628 --- de5e74ae7 --- 0824edecb --- 414b74eaa --- 026ca57fd --- cef8a06cb --- 74f3ac6af --- 3f07a4581 --- 949ed0965 --- f9e3b03b7 --- f227c1b60 --- b14026520 --- 709573455 --- 93521d470 --- e2e6f1d23 --- 4cb2946ce --- b67c7783e --- 18c35d2ea --- 667132e4b --- b192dacc4 --- daa3126d6 --- 55155e341 --- 38f5efd6d --- dd2ad0776 --- ae1bd05ee --- 0c9b00a91 --- 95cdb3ab7 --- 7f91c7cbb --- 5ad1de183 --- 275c5ddfa --- a208e54c7 --- 82d27bc16 --- 9d4f88c7b --- a08d843a2 --- bf40c722d --- 54481feaa --- 4d6a1439e --- aacffd2f4 --- 397621ffa --- 206ba1242 --- 52588de80 --- a0d77f495 --- 638d0b2e0 --- 6ae9d58e0 --- 6f460d92f --- 0ac076350 --- ed76b9206 --- a8e878643 --- f86eabcb9 --- c6d84869a --- b4ff45038 --- dbb9a63fa --- 5291be544 --- 758a9ab0e --- baccae68e --- d401c2b4a --- 99df18cb2 --- f190486d6 --- efa99ed98 --- 3e3438f04 --- 84947363e --- a7da4f282 --- c5ba68ea4 --- 002d634dc --- d9aa1935e --- acd43607d --- de104af37 --- d36ded502 --- 9d6410ef5 --- 4cddcef3e --- af1005a4f --- a76ad8513 --- da52febdb --- 1548e95ae --- 6e29e9500 --- 2bf7dc91d --- 6a275e7ec --- 5adfe7419 --- 3f1c3c179 --- ff2c9aa8f --- 82f194d54 --- 6bab7997a --- 7c1af7bbb --- 4e21c4881 --- b4eaa55ea --- 429687d5a --- c380056bb --- 7e0fd6d92 --- 1a7de209c --- fe73d7d41 --- 7a29b3092 --- 0b2db6e56 --- e36687647 --- 8a7fc9154 --- 1c1761fa1 --- 92be22dae --- e9b5b8919 --- 455b1d1ae --- 6a9e2b09d --- 5e3c42446 --- 84d4d30b8 --- 555e960e5 --- a4bbe86e5 --- 939ae6e4a --- e79476d44 --- 59de861ff --- c8a66413e --- 90a2428a5 --- 0554bac3e --- 02827212f --- 23c780950 --- 7383ca731 --- f74e8f13d --- df2388808 --- 9c92cbc0c --- ebfc53bb0 --- 5d3b81ef8 --- db027dbaf --- 5f5aef723 --- 83b36fa6c --- ce30bda90 --- dd48ed481 --- a98f8a4ca --- 5ed0c24d0 --- 9855c78bb --- a46587cda --- 0c8063d63 --- 844df03d7 --- b3a30c6a2 --- fb5e1b2b7 --- 402b0d650 --- 424409985 --- afe8cb696 --- 4e22de94f --- 8cdaeadb5 --- 32ebdadbc --- 9060e5b59 --- 1d802b493 --- a8b590c6e --- 03c589fd7 --- c4972742d --- 22d7ad48d --- d1383f1c6 --- c18b41ac3 --- a355497ac --- f950ac768 --- 73445227e --- 4ead853dc --- 86eb6ec85 --- cd15bb515 --- abb30bd35 --- 4e2abc4ad --- 00b309c64 --- 2be024de7 --- 4ecc3f505 --- 2d6565ce2 --- 230a025ca --- 4eb8d43ec --- 962424dd3 --- f514fdb2e --- 6f44294b2 --- e438105db --- bfab69d22 --- 7cd18fa5c --- a67d02050 --- a7e708ce5 --- 9a07d7b1f --- a8b6710d0 --- 5995250df --- cf488d633 --- cf466bdd6 --- 1472ad855 --- 79e55ef6c --- 50108b5b5 --- 55f4891bb --- 6eebf3ca4 --- 77854931e --- 49ebf51c6 --- 007ee91d1 --- 2b89a6658 --- c0b22b847 --- f5c5884de --- f39074b55 --- 2e5424c98 --- 6495d8c77 --- b22288a77 --- 77deffdf0 --- 0895b9597 --- 651124842 --- d66bbb5ed --- eea698cf2 --- 85fe78c6c --- cb7ecfc41 --- 4c427c13e --- 3a07a8939 --- fc9d04cd7 --- e398df91e --- c270cb02b --- 3fd2b9645 --- 9d5c7cb94 --- df443d0ce --- e6c050854 --- 7a5460b56 --- b719c867c --- 9108ee25c --- 890163e1a --- eb0c32768 --- 0196d5172 --- 52a87bee1 --- 0fb0d19af --- faedddd5c --- 91570fb11 --- c86c0565e --- 809a511d0 --- a3f2345bf --- 7610d0f28 --- c00356999 --- 9280f3d04 --- ca7ea80a3 --- 53102b93f --- 93c1eecb4 --- 7b672b310 --- 538df95cd --- 19543bce7 --- c5fa49de1 --- 66e323ce9 --- bb37ae1db --- 7bde71e2f --- c75604498 --- ccd2ef877 --- 295408598 --- 716e7d74d --- c5e748f6a --- 072452760 --- 87380f99d --- bf10af17e --- e926d89d3 --- 36c3157a7 --- e234cdc9b --- 71deb9468 --- ae141696e --- 05e427fe8 --- 4377d117c --- c5a231d81 --- d2430cbe1 --- 736fce873 --- 5fb9cabb1 --- 7e3e026f8 --- a246962f5 --- 0d51722ca --- b5c9b4e39 --- 0761cbb48 --- b8c3205bf --- 431e67099 --- 03ab9c0ea --- e6efe84eb --- 13d6a844f --- 3ac0589c3 --- d08c4204c --- 49e68fdb9 --- 6984f4045 --- 79c8119ae --- 760ef38f1 --- 37a9ea8c6 --- b379107b3 --- bf2b3327b --- 2b6f74f09 --- b0c0f5dae --- e176a204a --- f49ff3269 --- 1702b5bf0 --- 457bd191d --- 991bca4be --- f23b7530c --- 7106396d7 --- f7d9dadeb --- ef1e1fac8 --- 32138f717 --- 1c779c188 --- 05b0f3e9a --- d4cc42c3d --- 94c182798 --- 75b846f12 --- 1bf6240eb --- cdc36a26a --- 9ad654461 --- 8045561f7 --- 78edb3f13 --- b70d43816 --- af06d341e --- b34eff664 --- e209569b2 --- 1fe02bc17 --- e1ccfad87 --- 699712087 --- 78865d76b --- 04be96845 --- 67102168f --- a1cd7b681 --- 60307ab41 --- feeb05b3f --- 04a22f489 --- a0b0a7dbf --- e0ceabad4 --- 5c0df6ac5 --- c122fd0b9 --- 58d9f565a --- e7eac13e0 --- a6f5de07f --- 63688d3df --- 533e43257 --- 7385f8997 --- 1906a5c7e --- 4302b67ec --- c05e7f369 --- 22abeffb6 --- 29181e29a --- f66191951 --- 73a8a4d75 --- a09a238d0 --- b33e83cdc --- 9fb38aabe --- 5a6a1ec1a --- 925728b1c --- 1f26f0f73 --- 2f93e3c96 --- a48a740ef --- 8d12d44e1 --- 5d52b2d2b --- ee9e70298 --- b8f039d1c --- 2ab9356a0 --- 3e3822506 --- 21bd61954 --- 097836097 --- 28690ae0d --- 46b02f955 --- 6bb4be4f2 --- f23c83554 --- ea4046b8d --- e5b2d137a --- 923a0c4bc --- b4cd81ecd --- 05d95861b --- 05f99c615 --- f1851d155 --- 8618bc1fd --- 06be6c2bb --- 0892b3439 --- 70d96c477 --- 2c5819699 --- 077c3511c --- a8dd5cea5 --- 9e2040e5b --- 96b66294d --- d58172aef --- 3fa6c395f --- ff96b95eb --- 609784003 --- 0cad4d7af --- 27998d0f4 --- f13fa756f --- acff85649 --- de5e5b296 --- a5565ec7d --- 320931ca8 --- 965fa6747 --- 40f1d0084 --- 9c1d27a5c --- a89ab46bb --- 1a82869a6 --- 34b2a678e --- f3ee6ba3c --- b6623bacf --- 38a5a3497 --- 555265925 --- bca395b73 --- e50c9692b --- 640a36efb --- 1f8415d03 --- 190db8488 --- e8468d000 --- 6a2ed0e6c --- f14b57b8f --- 95aea9233 --- 692c44993 --- ca4eab5c5 --- 30609ee5b --- b74ef4294 --- 1ecddbaa0 --- 903749e8a --- da7f4b066 --- 4adae02ea --- 92f32943a --- 73eeb092f --- a05f1bb14 --- 5edd220bc --- 842415efb --- 555f18bd3 --- 04b88be38 --- c189dc362 --- 6d0d72180 --- 44dad5d70 --- b1a7086ac --- 3c9f7809d --- d15e80536 --- 52a02c635 --- c8bdcd0f3 --- 7ff7d351b --- a34f8d443 --- bb9aefe00 --- 556331be8 --- 5f7d60408 --- 4a9abd788 --- 82e9efdd8 --- 3e3ea106e --- 7bddf55e1 --- 869a169f9 --- 7ba58c14d --- 69900c0d1 --- 65b3354f4 --- a9819bda9 --- 09bf8b0cf --- d30bbe129 --- 8b1379b36 --- f333a5f60 --- 05c9b6799 --- a8e607456 --- c1543c985 --- 76e092b8c --- 3d390e8b9 --- 77f5250e3 --- 83dbedc24 --- e04141e42 --- 7dad769a6 --- c47340d97 --- f08c20722 --- 10776252b --- 2c339d4f2 --- 51d5e73a8 --- 930f989bf --- 01816048b --- 29f828a0f --- 0a26a3cfe --- b4e462a2f --- ce549c005 --- 9db026fcf --- c906cd268 --- 67f9e982f --- ffec49dae --- c24634d56 --- 6931ed626 --- ffa45bf70 --- 1b7ec860b --- 2a6e64bb9 --- 28bc37378 --- 8c61bede6 --- 98082c8ef --- 324e49f36 --- 2c97120d8 --- e838549ac --- fb32c00dc --- d279be266 --- cb71f66af --- 066566b35 --- 2d29edb0a --- 87a91f998 --- 015c3e354 --- 8d0774750 --- 1847c8140 --- b850c3e18 --- f0aec6c6b --- ae3aa1abd --- b6946d764 --- dd771cb8e --- e1121cd3e --- 6249d8488 --- 2cb73ede7 --- ac37543df --- adf357c9b --- 5089bf842 --- b8fde5765 --- c0f8422e1 --- 593cccdab --- b200c8b4a --- 2d065b147 --- 762cbd0ab --- bfc7c09df --- 735ea6729 --- b0310a768 --- 857020d0f --- 0743b9c08 --- 3ac1ba8f9 --- ddea5dc65 --- df221f22b --- e592c0185 --- 759c9e85d --- a72fcabd8 --- 95ba53cf8 --- 2731a96a2 --- c0f5174c7 --- a3fb07bfd --- 1010d7174 --- afc08501b --- 89e7dcacc --- 1bf1406eb --- ee0b53f05 --- defcc2c50 --- 14d1d798e --- ebf53ab7c --- 6b142730f --- b8f892930 --- 4d1f9e4d7 --- 15e8d7f53 --- 683d89bf1 --- 9ed0e6ddb --- f6c436744 --- 2a7ac8010 --- 4bd1722dc --- ea26c7fe6 --- 323fd38a8 --- 78f45daba --- 46c525541 --- 310e1ede9 --- c03c8799c --- c7ae29e66 --- 96f5cf98a --- 24141fd90 --- fe919be32 --- daedcafad --- e79e5f72c --- 086c13b6c --- ff1551a48 --- c8fdf5cbf --- cac875244 --- 4c7768bff --- 8bde3e628 --- 3685524f4 --- 4fe67672e --- 4634c8fae --- f7f553aea --- 9abffd22c --- 2dbeac1de --- a396ceeb9 --- 56ec098a1 --- ba4a02efc --- 896d1c52d --- 1f8754c4e --- ed5af35f0 --- 41d1e5f8f --- 259169df2 --- 13f3a3d19 --- 2123a2089 --- e43343256 --- f928893ca --- acc4a8e68 --- e9a473fbb --- a3382e205 --- 4dcf81d65 --- 7f38dafa6 --- e369704a1 --- 7df9efba5 --- f5723deba --- 7fd35c77a --- 9d9e518a3 --- 99258443a --- 1d81e197a --- 831a9e087 --- de471ea65 --- 8781e4b91 --- dc5ba677f --- df3ac443c --- 79203fbab --- f1ab19e7a --- 300398f1c --- 6eefca12e --- 22bf44001 --- 19915a6d3 --- 20a325694 --- 8afae1db8 --- c283d4609 --- 11114a47a --- b961b0d59 --- 103b8a033 --- 09184c121 --- 08c089775 --- 572d36d31 --- 1de239e78 --- d7568383a --- 8d7bfb911 --- 5964f1856 --- 6c7bf200b --- b3058e9ba --- 108fe14ef --- dcfcddf16 --- 5fad07863 --- b904b8345 --- ef30f6be5 --- a19b05919 --- e849e3ae0 --- 05f11f48f --- 49f11e712 --- c959d372a --- b625fe55a --- f642213a6 --- 6df033973 --- 1834f29f5 --- 31e434a58 --- e431708ff --- fb42abc0d --- 88263a031 --- ab7764ead --- a380d5301 --- 46ee7f2c8 --- 2e1287e41 --- 23310aa6f --- 9dc52515a --- 969caa87a --- 00302fe51 --- 1189ee335 --- ca04a07ca --- f6f15ffa5 --- 841704460 --- ea5ed6ff7 --- b1bb8eac3 --- 8132d18b8 --- c24ea6548 --- cdfc2b069 --- 2a879b4f7 --- 6b119d8ce --- 98dea9e42 --- 9f2471031 --- 88458cb21 --- f40da20f4 --- 7ad6b38bd --- c901e7df1 --- 8f55955dc --- 85dcc913d --- 5ca0b9b0c --- eab8abf7a --- 8d8bffbae --- 2a1f6c7f9 --- 9437d8b64 --- 5831f4c76 --- 2e84e09c5 --- d45fd5508 --- a165f5761 --- 3ecc09859 --- 9281abeea --- 8675bec0b --- 3a13ed79a --- f677d4d13 --- 71b203550 --- 137efaa80 --- fb36b89d9 --- 7e293fbaf --- 9fc776466\n"
     ]
    },
    {
     "data": {
      "text/html": [
       "<div>\n",
       "<style>\n",
       "    .dataframe thead tr:only-child th {\n",
       "        text-align: right;\n",
       "    }\n",
       "\n",
       "    .dataframe thead th {\n",
       "        text-align: left;\n",
       "    }\n",
       "\n",
       "    .dataframe tbody tr th {\n",
       "        vertical-align: top;\n",
       "    }\n",
       "</style>\n",
       "<table border=\"1\" class=\"dataframe\">\n",
       "  <thead>\n",
       "    <tr style=\"text-align: right;\">\n",
       "      <th></th>\n",
       "      <th>Unnamed: 0</th>\n",
       "      <th>ID</th>\n",
       "      <th>target</th>\n",
       "      <th>48df886f9</th>\n",
       "      <th>0deb4b6a8</th>\n",
       "      <th>34b15f335</th>\n",
       "      <th>a8cb14b00</th>\n",
       "      <th>2f0771a37</th>\n",
       "      <th>30347e683</th>\n",
       "      <th>d08d1fbe3</th>\n",
       "      <th>...</th>\n",
       "      <th>3ecc09859</th>\n",
       "      <th>9281abeea</th>\n",
       "      <th>8675bec0b</th>\n",
       "      <th>3a13ed79a</th>\n",
       "      <th>f677d4d13</th>\n",
       "      <th>71b203550</th>\n",
       "      <th>137efaa80</th>\n",
       "      <th>fb36b89d9</th>\n",
       "      <th>7e293fbaf</th>\n",
       "      <th>9fc776466</th>\n",
       "    </tr>\n",
       "  </thead>\n",
       "  <tbody>\n",
       "    <tr>\n",
       "      <th>0</th>\n",
       "      <td>0</td>\n",
       "      <td>000d6aaf2</td>\n",
       "      <td>38000000.0</td>\n",
       "      <td>0.0</td>\n",
       "      <td>0</td>\n",
       "      <td>0.0</td>\n",
       "      <td>0</td>\n",
       "      <td>0</td>\n",
       "      <td>0</td>\n",
       "      <td>0</td>\n",
       "      <td>...</td>\n",
       "      <td>0.0</td>\n",
       "      <td>0.0</td>\n",
       "      <td>0.0</td>\n",
       "      <td>0</td>\n",
       "      <td>0</td>\n",
       "      <td>0</td>\n",
       "      <td>0</td>\n",
       "      <td>0</td>\n",
       "      <td>0</td>\n",
       "      <td>0</td>\n",
       "    </tr>\n",
       "    <tr>\n",
       "      <th>1</th>\n",
       "      <td>1</td>\n",
       "      <td>000fbd867</td>\n",
       "      <td>600000.0</td>\n",
       "      <td>0.0</td>\n",
       "      <td>0</td>\n",
       "      <td>0.0</td>\n",
       "      <td>0</td>\n",
       "      <td>0</td>\n",
       "      <td>0</td>\n",
       "      <td>0</td>\n",
       "      <td>...</td>\n",
       "      <td>0.0</td>\n",
       "      <td>0.0</td>\n",
       "      <td>0.0</td>\n",
       "      <td>0</td>\n",
       "      <td>0</td>\n",
       "      <td>0</td>\n",
       "      <td>0</td>\n",
       "      <td>0</td>\n",
       "      <td>0</td>\n",
       "      <td>0</td>\n",
       "    </tr>\n",
       "    <tr>\n",
       "      <th>2</th>\n",
       "      <td>2</td>\n",
       "      <td>0027d6b71</td>\n",
       "      <td>10000000.0</td>\n",
       "      <td>0.0</td>\n",
       "      <td>0</td>\n",
       "      <td>0.0</td>\n",
       "      <td>0</td>\n",
       "      <td>0</td>\n",
       "      <td>0</td>\n",
       "      <td>0</td>\n",
       "      <td>...</td>\n",
       "      <td>0.0</td>\n",
       "      <td>0.0</td>\n",
       "      <td>0.0</td>\n",
       "      <td>0</td>\n",
       "      <td>0</td>\n",
       "      <td>0</td>\n",
       "      <td>0</td>\n",
       "      <td>0</td>\n",
       "      <td>0</td>\n",
       "      <td>0</td>\n",
       "    </tr>\n",
       "    <tr>\n",
       "      <th>3</th>\n",
       "      <td>3</td>\n",
       "      <td>0028cbf45</td>\n",
       "      <td>2000000.0</td>\n",
       "      <td>0.0</td>\n",
       "      <td>0</td>\n",
       "      <td>0.0</td>\n",
       "      <td>0</td>\n",
       "      <td>0</td>\n",
       "      <td>0</td>\n",
       "      <td>0</td>\n",
       "      <td>...</td>\n",
       "      <td>0.0</td>\n",
       "      <td>0.0</td>\n",
       "      <td>0.0</td>\n",
       "      <td>0</td>\n",
       "      <td>0</td>\n",
       "      <td>0</td>\n",
       "      <td>0</td>\n",
       "      <td>0</td>\n",
       "      <td>0</td>\n",
       "      <td>0</td>\n",
       "    </tr>\n",
       "    <tr>\n",
       "      <th>4</th>\n",
       "      <td>4</td>\n",
       "      <td>002a68644</td>\n",
       "      <td>14400000.0</td>\n",
       "      <td>0.0</td>\n",
       "      <td>0</td>\n",
       "      <td>0.0</td>\n",
       "      <td>0</td>\n",
       "      <td>0</td>\n",
       "      <td>0</td>\n",
       "      <td>0</td>\n",
       "      <td>...</td>\n",
       "      <td>0.0</td>\n",
       "      <td>0.0</td>\n",
       "      <td>0.0</td>\n",
       "      <td>0</td>\n",
       "      <td>0</td>\n",
       "      <td>0</td>\n",
       "      <td>0</td>\n",
       "      <td>0</td>\n",
       "      <td>0</td>\n",
       "      <td>0</td>\n",
       "    </tr>\n",
       "  </tbody>\n",
       "</table>\n",
       "<p>5 rows × 4738 columns</p>\n",
       "</div>"
      ],
      "text/plain": [
       "   Unnamed: 0         ID      target  48df886f9  0deb4b6a8  34b15f335  \\\n",
       "0           0  000d6aaf2  38000000.0        0.0          0        0.0   \n",
       "1           1  000fbd867    600000.0        0.0          0        0.0   \n",
       "2           2  0027d6b71  10000000.0        0.0          0        0.0   \n",
       "3           3  0028cbf45   2000000.0        0.0          0        0.0   \n",
       "4           4  002a68644  14400000.0        0.0          0        0.0   \n",
       "\n",
       "   a8cb14b00  2f0771a37  30347e683  d08d1fbe3    ...      3ecc09859  \\\n",
       "0          0          0          0          0    ...            0.0   \n",
       "1          0          0          0          0    ...            0.0   \n",
       "2          0          0          0          0    ...            0.0   \n",
       "3          0          0          0          0    ...            0.0   \n",
       "4          0          0          0          0    ...            0.0   \n",
       "\n",
       "   9281abeea  8675bec0b  3a13ed79a  f677d4d13  71b203550  137efaa80  \\\n",
       "0        0.0        0.0          0          0          0          0   \n",
       "1        0.0        0.0          0          0          0          0   \n",
       "2        0.0        0.0          0          0          0          0   \n",
       "3        0.0        0.0          0          0          0          0   \n",
       "4        0.0        0.0          0          0          0          0   \n",
       "\n",
       "   fb36b89d9  7e293fbaf  9fc776466  \n",
       "0          0          0          0  \n",
       "1          0          0          0  \n",
       "2          0          0          0  \n",
       "3          0          0          0  \n",
       "4          0          0          0  \n",
       "\n",
       "[5 rows x 4738 columns]"
      ]
     },
     "execution_count": 60,
     "metadata": {},
     "output_type": "execute_result"
    }
   ],
   "source": [
    "# Load data\n",
    "train = load(\"train_r.csv\")\n",
    "test  = load(\"test_r.csv\")\n",
    "\n",
    "print(\"Shape of train data:\", train.shape, \"\\n\")\n",
    "print(\"Shape of test data:\" , test.shape,  \"\\n\")\n",
    "\n",
    "### Categorical columns\n",
    "cat_columns = [col for col in train.columns if train[col].dtype == object]\n",
    "print(\"{}Categorical columns:{}\".format(color.UNDERLINE, color.END))\n",
    "print(\" --- \".join(cat_columns))\n",
    "\n",
    "### Numerical columns\n",
    "num_columns = [col for col in train.columns if train[col].dtype != object]\n",
    "print(\"{}Numerical columns:{}\".format(color.UNDERLINE, color.END))\n",
    "print(\" --- \".join(num_columns))\n",
    "\n",
    "train.head()"
   ]
  },
  {
   "cell_type": "code",
   "execution_count": 61,
   "metadata": {},
   "outputs": [
    {
     "data": {
      "text/html": [
       "<div>\n",
       "<style>\n",
       "    .dataframe thead tr:only-child th {\n",
       "        text-align: right;\n",
       "    }\n",
       "\n",
       "    .dataframe thead th {\n",
       "        text-align: left;\n",
       "    }\n",
       "\n",
       "    .dataframe tbody tr th {\n",
       "        vertical-align: top;\n",
       "    }\n",
       "</style>\n",
       "<table border=\"1\" class=\"dataframe\">\n",
       "  <thead>\n",
       "    <tr style=\"text-align: right;\">\n",
       "      <th></th>\n",
       "      <th>Unnamed: 0</th>\n",
       "      <th>ID</th>\n",
       "      <th>48df886f9</th>\n",
       "      <th>0deb4b6a8</th>\n",
       "      <th>34b15f335</th>\n",
       "      <th>a8cb14b00</th>\n",
       "      <th>2f0771a37</th>\n",
       "      <th>30347e683</th>\n",
       "      <th>d08d1fbe3</th>\n",
       "      <th>6ee66e115</th>\n",
       "      <th>...</th>\n",
       "      <th>3ecc09859</th>\n",
       "      <th>9281abeea</th>\n",
       "      <th>8675bec0b</th>\n",
       "      <th>3a13ed79a</th>\n",
       "      <th>f677d4d13</th>\n",
       "      <th>71b203550</th>\n",
       "      <th>137efaa80</th>\n",
       "      <th>fb36b89d9</th>\n",
       "      <th>7e293fbaf</th>\n",
       "      <th>9fc776466</th>\n",
       "    </tr>\n",
       "  </thead>\n",
       "  <tbody>\n",
       "    <tr>\n",
       "      <th>0</th>\n",
       "      <td>0</td>\n",
       "      <td>000137c73</td>\n",
       "      <td>0.0</td>\n",
       "      <td>0.0</td>\n",
       "      <td>0.0</td>\n",
       "      <td>0.0</td>\n",
       "      <td>0.0</td>\n",
       "      <td>0.0</td>\n",
       "      <td>0.0</td>\n",
       "      <td>0.0</td>\n",
       "      <td>...</td>\n",
       "      <td>0.0</td>\n",
       "      <td>0.0</td>\n",
       "      <td>0.0</td>\n",
       "      <td>0.0</td>\n",
       "      <td>0.0</td>\n",
       "      <td>0.0</td>\n",
       "      <td>0.0</td>\n",
       "      <td>0.0</td>\n",
       "      <td>0.0</td>\n",
       "      <td>0.0</td>\n",
       "    </tr>\n",
       "    <tr>\n",
       "      <th>1</th>\n",
       "      <td>1</td>\n",
       "      <td>00021489f</td>\n",
       "      <td>0.0</td>\n",
       "      <td>0.0</td>\n",
       "      <td>0.0</td>\n",
       "      <td>0.0</td>\n",
       "      <td>0.0</td>\n",
       "      <td>0.0</td>\n",
       "      <td>0.0</td>\n",
       "      <td>0.0</td>\n",
       "      <td>...</td>\n",
       "      <td>0.0</td>\n",
       "      <td>0.0</td>\n",
       "      <td>0.0</td>\n",
       "      <td>0.0</td>\n",
       "      <td>0.0</td>\n",
       "      <td>0.0</td>\n",
       "      <td>0.0</td>\n",
       "      <td>0.0</td>\n",
       "      <td>0.0</td>\n",
       "      <td>0.0</td>\n",
       "    </tr>\n",
       "    <tr>\n",
       "      <th>2</th>\n",
       "      <td>2</td>\n",
       "      <td>0004d7953</td>\n",
       "      <td>0.0</td>\n",
       "      <td>0.0</td>\n",
       "      <td>0.0</td>\n",
       "      <td>0.0</td>\n",
       "      <td>0.0</td>\n",
       "      <td>0.0</td>\n",
       "      <td>0.0</td>\n",
       "      <td>0.0</td>\n",
       "      <td>...</td>\n",
       "      <td>0.0</td>\n",
       "      <td>0.0</td>\n",
       "      <td>0.0</td>\n",
       "      <td>0.0</td>\n",
       "      <td>0.0</td>\n",
       "      <td>0.0</td>\n",
       "      <td>0.0</td>\n",
       "      <td>0.0</td>\n",
       "      <td>0.0</td>\n",
       "      <td>0.0</td>\n",
       "    </tr>\n",
       "    <tr>\n",
       "      <th>3</th>\n",
       "      <td>3</td>\n",
       "      <td>00056a333</td>\n",
       "      <td>0.0</td>\n",
       "      <td>0.0</td>\n",
       "      <td>0.0</td>\n",
       "      <td>0.0</td>\n",
       "      <td>0.0</td>\n",
       "      <td>0.0</td>\n",
       "      <td>0.0</td>\n",
       "      <td>0.0</td>\n",
       "      <td>...</td>\n",
       "      <td>0.0</td>\n",
       "      <td>0.0</td>\n",
       "      <td>0.0</td>\n",
       "      <td>0.0</td>\n",
       "      <td>0.0</td>\n",
       "      <td>0.0</td>\n",
       "      <td>0.0</td>\n",
       "      <td>0.0</td>\n",
       "      <td>0.0</td>\n",
       "      <td>0.0</td>\n",
       "    </tr>\n",
       "    <tr>\n",
       "      <th>4</th>\n",
       "      <td>4</td>\n",
       "      <td>00056d8eb</td>\n",
       "      <td>0.0</td>\n",
       "      <td>0.0</td>\n",
       "      <td>0.0</td>\n",
       "      <td>0.0</td>\n",
       "      <td>0.0</td>\n",
       "      <td>0.0</td>\n",
       "      <td>0.0</td>\n",
       "      <td>0.0</td>\n",
       "      <td>...</td>\n",
       "      <td>0.0</td>\n",
       "      <td>0.0</td>\n",
       "      <td>0.0</td>\n",
       "      <td>0.0</td>\n",
       "      <td>0.0</td>\n",
       "      <td>0.0</td>\n",
       "      <td>0.0</td>\n",
       "      <td>0.0</td>\n",
       "      <td>0.0</td>\n",
       "      <td>0.0</td>\n",
       "    </tr>\n",
       "  </tbody>\n",
       "</table>\n",
       "<p>5 rows × 4737 columns</p>\n",
       "</div>"
      ],
      "text/plain": [
       "   Unnamed: 0         ID  48df886f9  0deb4b6a8  34b15f335  a8cb14b00  \\\n",
       "0           0  000137c73        0.0        0.0        0.0        0.0   \n",
       "1           1  00021489f        0.0        0.0        0.0        0.0   \n",
       "2           2  0004d7953        0.0        0.0        0.0        0.0   \n",
       "3           3  00056a333        0.0        0.0        0.0        0.0   \n",
       "4           4  00056d8eb        0.0        0.0        0.0        0.0   \n",
       "\n",
       "   2f0771a37  30347e683  d08d1fbe3  6ee66e115    ...      3ecc09859  \\\n",
       "0        0.0        0.0        0.0        0.0    ...            0.0   \n",
       "1        0.0        0.0        0.0        0.0    ...            0.0   \n",
       "2        0.0        0.0        0.0        0.0    ...            0.0   \n",
       "3        0.0        0.0        0.0        0.0    ...            0.0   \n",
       "4        0.0        0.0        0.0        0.0    ...            0.0   \n",
       "\n",
       "   9281abeea  8675bec0b  3a13ed79a  f677d4d13  71b203550  137efaa80  \\\n",
       "0        0.0        0.0        0.0        0.0        0.0        0.0   \n",
       "1        0.0        0.0        0.0        0.0        0.0        0.0   \n",
       "2        0.0        0.0        0.0        0.0        0.0        0.0   \n",
       "3        0.0        0.0        0.0        0.0        0.0        0.0   \n",
       "4        0.0        0.0        0.0        0.0        0.0        0.0   \n",
       "\n",
       "   fb36b89d9  7e293fbaf  9fc776466  \n",
       "0        0.0        0.0        0.0  \n",
       "1        0.0        0.0        0.0  \n",
       "2        0.0        0.0        0.0  \n",
       "3        0.0        0.0        0.0  \n",
       "4        0.0        0.0        0.0  \n",
       "\n",
       "[5 rows x 4737 columns]"
      ]
     },
     "execution_count": 61,
     "metadata": {},
     "output_type": "execute_result"
    }
   ],
   "source": [
    "test.head()"
   ]
  },
  {
   "cell_type": "markdown",
   "metadata": {},
   "source": [
    "---\n",
    "<a id=\"overview\"></a>\n",
    "\n",
    "# [^](#toc) <u>Quick Overview</u>"
   ]
  },
  {
   "cell_type": "markdown",
   "metadata": {},
   "source": [
    "### Split into id, target, and predictors"
   ]
  },
  {
   "cell_type": "code",
   "execution_count": 74,
   "metadata": {
    "collapsed": true
   },
   "outputs": [],
   "source": [
    "train_y  = train.target\n",
    "train_x  = train.drop([\"ID\", \"target\"], axis=1)\n",
    "\n",
    "test_id  = test.ID\n",
    "test_x   = test.drop([\"ID\"], axis=1)\n",
    "\n",
    "### Combine predictors\n",
    "full = pd.concat([train_x, test_x])\n",
    "train_N = len(train_x)\n",
    "\n",
    "train_y  = np.log1p(train_y)"
   ]
  },
  {
   "cell_type": "markdown",
   "metadata": {},
   "source": [
    "---\n",
    "<a id=\"target\"></a>\n",
    "\n",
    "# [^](#toc) <u>Target varable</u>"
   ]
  },
  {
   "cell_type": "code",
   "execution_count": 75,
   "metadata": {},
   "outputs": [
    {
     "data": {
      "image/png": "[encoded data removed]",
      "text/plain": [
       "<matplotlib.figure.Figure at 0x1a1f73f748>"
      ]
     },
     "metadata": {},
     "output_type": "display_data"
    }
   ],
   "source": [
    "fig, ax = plt.subplots(1, 1, figsize=(14, 6))\n",
    "sns.kdeplot(train_y);"
   ]
  },
  {
   "cell_type": "markdown",
   "metadata": {},
   "source": [
    "<a id=\"boring\"></a>\n",
    "\n",
    "### [^](#toc) Boring columns"
   ]
  },
  {
   "cell_type": "code",
   "execution_count": null,
   "metadata": {
    "collapsed": true
   },
   "outputs": [],
   "source": [
    "drop_cols = list()\n",
    "for col in train_x.columns:\n",
    "    unique_vals = train_x[col].unique()\n",
    "    if len(unique_vals) == 1:\n",
    "        drop_cols.append(col)\n",
    "        \n",
    "train.drop(drop_cols, axis=1, inplace=True)\n",
    "test.drop(drop_cols, axis=1, inplace=True)\n",
    "\n",
    "train.to_csv(\"../../data/santander/train_r.csv\")\n",
    "test.to_csv(\"../../data/santander/test_r.csv\")"
   ]
  },
  {
   "cell_type": "markdown",
   "metadata": {},
   "source": [
    "<a id=\"nan\"></a>\n",
    "\n",
    "### [^](#toc) Missing values"
   ]
  },
  {
   "cell_type": "code",
   "execution_count": null,
   "metadata": {
    "collapsed": true,
    "scrolled": true
   },
   "outputs": [],
   "source": [
    "temp = train_x.isnull().sum()\n",
    "temp[temp > 0].sort_values().head()"
   ]
  },
  {
   "cell_type": "markdown",
   "metadata": {},
   "source": [
    "---\n",
    "<a id=\"misc\"></a>\n",
    "\n",
    "# [^](#toc) <u>Miscellaneous data processing</u>"
   ]
  },
  {
   "cell_type": "code",
   "execution_count": null,
   "metadata": {
    "collapsed": true
   },
   "outputs": [],
   "source": [
    "### Separate into train and test\n",
    "train_x = full[:train_N]\n",
    "test_x  = full[train_N:]"
   ]
  },
  {
   "cell_type": "markdown",
   "metadata": {},
   "source": [
    "---\n",
    "<a id=\"model\"></a>\n",
    "\n",
    "# [^](#toc) <u>Modeling</u>"
   ]
  },
  {
   "cell_type": "markdown",
   "metadata": {},
   "source": [
    "<a id=\"ml_imports\"></a>\n",
    "\n",
    "### [^](#toc) Machine learning imports\n",
    "\n",
    "(Click here for different scoring metrics)\n",
    "\n",
    "<div hidden>\n",
    "\n",
    "Different options for the `scoring` variable in `cross_val_score`\n",
    "\n",
    "'accuracy', 'adjusted_mutual_info_score', 'adjusted_rand_score', 'average_precision', 'completeness_score', 'explained_variance', 'f1', 'f1_macro', 'f1_micro', 'f1_samples', 'f1_weighted', 'fowlkes_mallows_score', 'homogeneity_score', 'mutual_info_score', 'neg_log_loss', 'neg_mean_absolute_error', 'neg_mean_squared_error', 'neg_mean_squared_log_error', 'neg_median_absolute_error', 'normalized_mutual_info_score', 'precision', 'precision_macro', 'precision_micro', 'precision_samples', 'precision_weighted', 'r2', 'recall', 'recall_macro', 'recall_micro', 'recall_samples', 'recall_weighted', 'roc_auc', 'v_measure_score'\n",
    "\n",
    "</div>"
   ]
  },
  {
   "cell_type": "code",
   "execution_count": 76,
   "metadata": {
    "collapsed": true
   },
   "outputs": [],
   "source": [
    "from sklearn.linear_model import ElasticNet, Lasso, BayesianRidge, LassoLarsIC, LinearRegression\n",
    "from sklearn.ensemble import RandomForestRegressor, GradientBoostingRegressor\n",
    "from sklearn.kernel_ridge import KernelRidge\n",
    "from sklearn.pipeline import make_pipeline\n",
    "from sklearn.preprocessing import RobustScaler\n",
    "from sklearn.base import BaseEstimator, TransformerMixin, RegressorMixin, clone\n",
    "from sklearn.model_selection import KFold, cross_val_score, train_test_split\n",
    "from sklearn.metrics import mean_squared_error, roc_curve, auc\n",
    "from sklearn.svm import SVR\n",
    "\n",
    "from xgboost import XGBRegressor\n",
    "from lightgbm import LGBMRegressor\n",
    "\n",
    "import lightgbm as lgb\n",
    "import xgboost as xgb\n",
    "\n",
    "def cv_rmsle(model, x, y, n_folds=5):\n",
    "    kf = KFold(n_folds, shuffle=True, random_state=17).get_n_splits(x)\n",
    "    rmse = np.sqrt(-cross_val_score(model, x, y, scoring=\"neg_mean_squared_error\", cv=kf))\n",
    "    return rmse"
   ]
  },
  {
   "cell_type": "markdown",
   "metadata": {},
   "source": [
    "### Important Features\n",
    "\n",
    "FIXME: run PCA here"
   ]
  },
  {
   "cell_type": "code",
   "execution_count": 64,
   "metadata": {
    "collapsed": true
   },
   "outputs": [],
   "source": [
    "model = RandomForestRegressor()\n",
    "model.fit(train_x[:10000], train_y[:10000])\n",
    "\n",
    "NUM_FEATS = 3000\n",
    "\n",
    "feats = sorted(list(zip(model.feature_importances_, train_x.columns)))\n",
    "feats = list(list(zip(*feats[-NUM_FEATS:]))[1])\n",
    "\n",
    "train_x_f = train_x[feats]\n",
    "test_x_f  = test_x[feats]"
   ]
  },
  {
   "cell_type": "markdown",
   "metadata": {},
   "source": [
    "<a id=\"model_eval\"></a>\n",
    "\n",
    "### [^](#toc) Many model evaluation\n",
    "\n",
    "This just gives an idea of what model will be the best performer."
   ]
  },
  {
   "cell_type": "code",
   "execution_count": 46,
   "metadata": {
    "collapsed": true,
    "scrolled": false
   },
   "outputs": [],
   "source": [
    "# plt.figure(figsize=(14, 7))\n",
    "\n",
    "# # Modeling step Test differents algorithms \n",
    "# models = [\n",
    "#             BayesianRidge(),\n",
    "#             ElasticNet(random_state = 17),\n",
    "#             GradientBoostingRegressor(random_state = 17),\n",
    "#             Lasso(random_state = 17),\n",
    "    \n",
    "#             LassoLarsIC(),\n",
    "#             LGBMRegressor(random_state = 17),\n",
    "#             LinearRegression(),\n",
    "#             RandomForestRegressor(random_state = 17),\n",
    "    \n",
    "#             SVR(),\n",
    "#             XGBRegressor(random_state = 17)\n",
    "# ]\n",
    "\n",
    "# cv_results = [cv_rmse(model, train_x, train_y) for model in tqdm(models)]\n",
    "\n",
    "# cv_means = [cv_result.mean() for cv_result in cv_results]\n",
    "# cv_std = [cv_result.std() for cv_result in cv_results]\n",
    "\n",
    "# cv_results = pd.DataFrame({\n",
    "#                         \"CrossValMeans\": cv_means,\n",
    "#                         \"CrossValerrors\": cv_std,\n",
    "#                         \"Algorithm\":[\n",
    "#                             \"BayesianRidge\",\n",
    "#                             \"ElasticNet\",\n",
    "#                             \"GradientBoosting\",\n",
    "#                             \"Lasso\",\n",
    "                            \n",
    "#                             \"LassoLarsIC\",\n",
    "#                             \"LGBM\",\n",
    "#                             \"LinearRegression\",\n",
    "#                             \"RandomForest\",\n",
    "                            \n",
    "#                             \"SVR\",\n",
    "#                             \"XGB\"\n",
    "#                         ]})\n",
    "\n",
    "# sns.barplot(\"CrossValMeans\",\"Algorithm\", data=cv_results, palette=\"Set3\", orient=\"h\", **{'xerr':cv_std})\n",
    "# plt.xlabel(\"Root Mean Square Error\")\n",
    "# _ = plt.title(\"Cross validation scores\")"
   ]
  },
  {
   "cell_type": "markdown",
   "metadata": {},
   "source": [
    "### Initializing different models"
   ]
  },
  {
   "cell_type": "code",
   "execution_count": 53,
   "metadata": {
    "collapsed": true
   },
   "outputs": [],
   "source": [
    "svr_model = SVR()\n",
    "\n",
    "xgb_model = XGBRegressor(colsample_bytree=0.4603, gamma=0.0468, metric=\"rmse\",\n",
    "                             learning_rate=0.05, max_depth=3, \n",
    "                             min_child_weight=1.7817, n_estimators=2200,\n",
    "                             reg_alpha=0.4640, reg_lambda=0.8571,\n",
    "                             subsample=0.5213, silent=1,\n",
    "                             random_state =7, nthread = -1)\n",
    "\n",
    "lgb_model = LGBMRegressor(objective='regression', metric=\"rmse\",\n",
    "                          num_leaves=5, learning_rate=0.05, n_estimators=720,\n",
    "                          max_bin = 55, bagging_fraction = 0.8,\n",
    "                          bagging_freq = 5, feature_fraction = 0.2319,\n",
    "                          feature_fraction_seed=9, bagging_seed=9,\n",
    "                          min_data_in_leaf =6, min_sum_hessian_in_leaf = 11)"
   ]
  },
  {
   "cell_type": "markdown",
   "metadata": {},
   "source": [
    "<a id=\"meta_model\"></a>\n",
    "\n",
    "### [^](#toc) Meta modeling"
   ]
  },
  {
   "cell_type": "code",
   "execution_count": 26,
   "metadata": {
    "collapsed": true
   },
   "outputs": [],
   "source": [
    "class StackingAveragedModels(BaseEstimator, RegressorMixin, TransformerMixin):\n",
    "    def __init__(self, base_models, meta_model, n_folds=5):\n",
    "        self.base_models = base_models\n",
    "        self.meta_model = meta_model\n",
    "        self.n_folds = n_folds\n",
    "   \n",
    "    # We again fit the data on clones of the original models\n",
    "    def fit(self, x, y):\n",
    "        self.base_models_ = [list() for x in self.base_models]\n",
    "        self.meta_model_  = clone(self.meta_model)\n",
    "        kfold = KFold(n_splits=self.n_folds, shuffle=True, random_state=17)\n",
    "        \n",
    "        # Train cloned base models then create out-of-fold predictions\n",
    "        # that are needed to train the cloned meta-model\n",
    "        oof_predictions = np.zeros(  (len(x), len(self.base_models))  )\n",
    "        \n",
    "        for i, model in enumerate(self.base_models):\n",
    "            for train_i, val_i in kfold.split(x, y):\n",
    "                \n",
    "                # Fit model\n",
    "                instance = clone(model)\n",
    "                instance.fit(x[train_i], y[train_i])\n",
    "                \n",
    "                # Append to base models\n",
    "                self.base_models_[i].append(instance)\n",
    "                \n",
    "                # Append predictions\n",
    "                predictions               = instance.predict(x[val_i])\n",
    "                oof_predictions[val_i, i] = predictions\n",
    "                \n",
    "        # Now train the cloned  meta-model using the out-of-fold predictions as new feature\n",
    "        self.meta_model_.fit(oof_predictions, y)\n",
    "        return self\n",
    "   \n",
    "    #Do the predictions of all base models on the test data and use the averaged predictions as \n",
    "    #meta-features for the final prediction which is done by the meta-model\n",
    "    def predict(self, x):\n",
    "        meta_features = (\n",
    "            np.column_stack(\n",
    "                [\n",
    "                    np.column_stack(\n",
    "                                        [model.predict(x) for model in base_models]\n",
    "                                    ).mean(axis=1)\n",
    "                    for base_models in self.base_models_ \n",
    "                ]\n",
    "            )\n",
    "        )\n",
    "        return self.meta_model_.predict(meta_features)"
   ]
  },
  {
   "cell_type": "markdown",
   "metadata": {},
   "source": [
    "### Creating the meta model"
   ]
  },
  {
   "cell_type": "code",
   "execution_count": 33,
   "metadata": {
    "collapsed": true
   },
   "outputs": [],
   "source": [
    "# stacked_averaged_models = StackingAveragedModels(base_models = (lgb_model, gbm_model, xgb_model),\n",
    "#                                                  meta_model = svr_model)\n",
    "# score = cv_rmsle(stacked_averaged_models, train_x, train_y)\n",
    "# print(\"Stacking Averaged models score: {:.4f} ({:.4f})\".format(score.mean(), score.std()))"
   ]
  },
  {
   "cell_type": "markdown",
   "metadata": {},
   "source": [
    "### LGBM"
   ]
  },
  {
   "cell_type": "code",
   "execution_count": 79,
   "metadata": {},
   "outputs": [
    {
     "name": "stdout",
     "output_type": "stream",
     "text": [
      "Training until validation scores don't improve for 150 rounds.\n",
      "[200]\tvalid_0's rmse: 1.70392\n",
      "[400]\tvalid_0's rmse: 1.6619\n",
      "[600]\tvalid_0's rmse: 1.62774\n",
      "[800]\tvalid_0's rmse: 1.59994\n",
      "[1000]\tvalid_0's rmse: 1.57837\n",
      "[1200]\tvalid_0's rmse: 1.56002\n",
      "[1400]\tvalid_0's rmse: 1.54489\n",
      "[1600]\tvalid_0's rmse: 1.53187\n",
      "[1800]\tvalid_0's rmse: 1.5212\n",
      "[2000]\tvalid_0's rmse: 1.51168\n",
      "[2200]\tvalid_0's rmse: 1.50426\n",
      "[2400]\tvalid_0's rmse: 1.49776\n",
      "[2600]\tvalid_0's rmse: 1.49304\n",
      "[2800]\tvalid_0's rmse: 1.48928\n",
      "[3000]\tvalid_0's rmse: 1.48628\n",
      "[3200]\tvalid_0's rmse: 1.48401\n",
      "[3400]\tvalid_0's rmse: 1.48177\n",
      "[3600]\tvalid_0's rmse: 1.4803\n",
      "[3800]\tvalid_0's rmse: 1.47878\n",
      "[4000]\tvalid_0's rmse: 1.47709\n",
      "Did not meet early stopping. Best iteration is:\n",
      "[3999]\tvalid_0's rmse: 1.47708\n"
     ]
    }
   ],
   "source": [
    "training_x, val_x, training_y, val_y = train_test_split(train_x, train_y, test_size=0.2, random_state=17)\n",
    "\n",
    "lgb_train = lgb.Dataset(training_x, label=training_y)\n",
    "lgb_val   = lgb.Dataset(val_x,      label=val_y)\n",
    "\n",
    "params = {'task': 'train', 'boosting_type': 'gbdt', 'objective': 'regression', 'metric': 'rmse', \n",
    "          'learning_rate': 0.001, 'num_leaves': 40, 'num_iteration': 4000, 'verbose': 0 ,\n",
    "          'subsample':.9, 'max_depth':7, 'reg_alpha':0.1, 'reg_lambda':0.1, \n",
    "          'min_child_weight':1, \"min_data_in_leaf\": 10,\n",
    "          \"feature_fraction\":0.6}\n",
    "\n",
    "# params = {\n",
    "#         \"objective\" : \"regression\",\n",
    "#         \"metric\" : \"rmse\",\n",
    "#         \"num_leaves\" : 40,\n",
    "#         \"learning_rate\" : 0.001,\n",
    "#         \"bagging_fraction\" : 0.7,\n",
    "#         \"feature_fraction\" : 0.6,\n",
    "#         \"bagging_frequency\" : 6,\n",
    "#         \"bagging_seed\" : 42,\n",
    "#         \"verbosity\" : -1,\n",
    "#         \"seed\": 17\n",
    "#     }\n",
    "\n",
    "lgb_model = lgb.train(params, lgb_train, valid_sets=lgb_val, early_stopping_rounds=150, verbose_eval=200)"
   ]
  },
  {
   "cell_type": "markdown",
   "metadata": {},
   "source": [
    "### XGB"
   ]
  },
  {
   "cell_type": "code",
   "execution_count": 72,
   "metadata": {},
   "outputs": [
    {
     "name": "stdout",
     "output_type": "stream",
     "text": [
      "[0]\ttrain-rmse:19.6908\tvalid-rmse:19.8849\n",
      "Multiple eval metrics have been passed: 'valid-rmse' will be used for early stopping.\n",
      "\n",
      "Will train until valid-rmse hasn't improved in 500 rounds.\n",
      "[50]\ttrain-rmse:18.8121\tvalid-rmse:19.0157\n",
      "[100]\ttrain-rmse:17.9785\tvalid-rmse:18.1942\n",
      "[150]\ttrain-rmse:17.1877\tvalid-rmse:17.4153\n",
      "[200]\ttrain-rmse:16.4357\tvalid-rmse:16.677\n",
      "[250]\ttrain-rmse:15.7234\tvalid-rmse:15.9803\n",
      "[300]\ttrain-rmse:15.0459\tvalid-rmse:15.317\n",
      "[350]\ttrain-rmse:14.4043\tvalid-rmse:14.6908\n",
      "[400]\ttrain-rmse:13.7957\tvalid-rmse:14.0968\n",
      "[450]\ttrain-rmse:13.2185\tvalid-rmse:13.5372\n",
      "[500]\ttrain-rmse:12.671\tvalid-rmse:13.0079\n",
      "Stopping. Best iteration:\n",
      "[0]\ttrain-rmse:19.6908\tvalid-rmse:19.8849\n",
      "\n"
     ]
    }
   ],
   "source": [
    "training_x, val_x, training_y, val_y = train_test_split(train_x, train_y, test_size=0.2, random_state=17)\n",
    "\n",
    "xgb_train = xgb.DMatrix(training_x, label=training_y)\n",
    "xgb_val   = xgb.DMatrix(val_x,      label=val_y)\n",
    "\n",
    "# try feature_fraction\n",
    "params = {'task': 'train', 'objective': 'reg:linear', 'metric': 'rmse', \n",
    "          'random_state': 17, 'eta': 0.001, 'max_depth': 10, \n",
    "          'subsample': 0.6, 'colsample_bytree': 0.6, 'alpha':0.001,}\n",
    "\n",
    "watchlist = [(xgb_train, 'train'), (xgb_val, 'valid')]\n",
    "xgb_model = xgb.train(params, xgb_train, 2000, watchlist, maximize=True,\n",
    "                      early_stopping_rounds=100, verbose_eval=50)"
   ]
  },
  {
   "cell_type": "markdown",
   "metadata": {},
   "source": [
    "---\n",
    "<a id=\"predictions\"></a>\n",
    "\n",
    "# [^](#toc) <u>Predictions</u>"
   ]
  },
  {
   "cell_type": "code",
   "execution_count": 80,
   "metadata": {
    "collapsed": true
   },
   "outputs": [],
   "source": [
    "# stacked_averaged_models.fit(train_x.values, train_y)\n",
    "# predictions = stacked_averaged_models.predict(test_x)\n",
    "\n",
    "# Undo earlier square\n",
    "# # Remove skew by putting all values to the power (1/5)\n",
    "predictions = lgb_model.predict(test_x)\n",
    "predictions  = np.expm1(predictions)"
   ]
  },
  {
   "cell_type": "markdown",
   "metadata": {},
   "source": [
    "# Save to CSV"
   ]
  },
  {
   "cell_type": "code",
   "execution_count": 81,
   "metadata": {
    "collapsed": true
   },
   "outputs": [],
   "source": [
    "pd.DataFrame({\n",
    "    \"ID\": test_id,\n",
    "    \"target\": predictions\n",
    "}).to_csv(\"../../submissions/santander_1.csv\")"
   ]
  },
  {
   "cell_type": "code",
   "execution_count": null,
   "metadata": {
    "collapsed": true
   },
   "outputs": [],
   "source": []
  }
 ],
 "metadata": {
  "kernelspec": {
   "display_name": "Python 3",
   "language": "python",
   "name": "python3"
  },
  "language_info": {
   "codemirror_mode": {
    "name": "ipython",
    "version": 3
   },
   "file_extension": ".py",
   "mimetype": "text/x-python",
   "name": "python",
   "nbconvert_exporter": "python",
   "pygments_lexer": "ipython3",
   "version": "3.6.3"
  }
 },
 "nbformat": 4,
 "nbformat_minor": 2
}
