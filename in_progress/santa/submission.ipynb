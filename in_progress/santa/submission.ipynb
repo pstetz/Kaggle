{
 "cells": [
  {
   "cell_type": "markdown",
   "metadata": {},
   "source": [
    "# Score:\n",
    "\n",
    "As a starting block, I'm following a kernel by Kaggle user [Beluga](https://www.kaggle.com/gaborfodor) ([his work](https://www.kaggle.com/gaborfodor/improve-with-the-hungarian-method-0-9375))\n",
    "\n",
    "### Imports"
   ]
  },
  {
   "cell_type": "code",
   "execution_count": 2,
   "metadata": {},
   "outputs": [],
   "source": [
    "import os\n",
    "import pandas as pd\n",
    "import numpy as np\n",
    "from scipy.optimize import linear_sum_assignment\n",
    "import datetime as dt\n",
    "from collections import defaultdict, Counter\n",
    "from tqdm import tqdm\n",
    "import matplotlib.pyplot as plt\n",
    "import datetime as dt\n",
    "plt.rcParams['figure.figsize'] = [16, 10]\n",
    "plt.rcParams['font.size'] = 16\n",
    "import seaborn as sns"
   ]
  },
  {
   "cell_type": "markdown",
   "metadata": {},
   "source": [
    "### Load data"
   ]
  },
  {
   "cell_type": "code",
   "execution_count": 6,
   "metadata": {},
   "outputs": [],
   "source": [
    "N_CHILDREN = 1000000\n",
    "N_GIFT_TYPE = 1000\n",
    "N_GIFT_QUANTITY = 1000\n",
    "N_GIFT_PREF = 1000\n",
    "N_CHILD_PREF = 10\n",
    "TWINS = int(0.004 * N_CHILDREN)\n",
    "\n",
    "CHILD_PREF = pd.read_csv('../../data/santa/child_wishlist_v2.csv', header=None).drop(0, 1).values\n",
    "GIFT_PREF = pd.read_csv('../../data/santa/gift_goodkids_v2.csv', header=None).drop(0, 1).values"
   ]
  },
  {
   "cell_type": "code",
   "execution_count": 7,
   "metadata": {
    "collapsed": true
   },
   "outputs": [],
   "source": [
    "GIFT_HAPPINESS = {}\n",
    "for g in range(N_GIFT_TYPE):\n",
    "    GIFT_HAPPINESS[g] = defaultdict(lambda: 1. / (2 * N_GIFT_PREF))\n",
    "    for i, c in enumerate(GIFT_PREF[g]):\n",
    "        GIFT_HAPPINESS[g][c] = -1. * (N_GIFT_PREF - i) / N_GIFT_PREF\n",
    "\n",
    "CHILD_HAPPINESS = {}\n",
    "for c in range(N_CHILDREN):\n",
    "    CHILD_HAPPINESS[c] = defaultdict(lambda: 1. / (2 * N_CHILD_PREF))\n",
    "    for i, g in enumerate(CHILD_PREF[c]):\n",
    "        CHILD_HAPPINESS[c][g] = -1. * (N_CHILD_PREF - i) / N_CHILD_PREF\n",
    "\n",
    "GIFT_IDS = np.array([[g] * N_GIFT_QUANTITY for g in range(N_GIFT_TYPE)]).flatten()"
   ]
  },
  {
   "cell_type": "code",
   "execution_count": 8,
   "metadata": {
    "collapsed": true
   },
   "outputs": [],
   "source": [
    "def my_avg_normalized_happiness(pred):\n",
    "    total_child_happiness = 0\n",
    "    total_gift_happiness = np.zeros(1000)\n",
    "    for c, g in pred:\n",
    "        total_child_happiness +=  -CHILD_HAPPINESS[c][g]\n",
    "        total_gift_happiness[g] += -GIFT_HAPPINESS[g][c]\n",
    "    nch = total_child_happiness / N_CHILDREN\n",
    "    ngh = np.mean(total_gift_happiness) / 1000\n",
    "    print('normalized child happiness', nch)\n",
    "    print('normalized gift happiness', ngh)\n",
    "    return nch + ngh"
   ]
  },
  {
   "cell_type": "code",
   "execution_count": 9,
   "metadata": {
    "collapsed": true
   },
   "outputs": [],
   "source": [
    "def optimize_block(child_block, current_gift_ids):\n",
    "    gift_block = current_gift_ids[child_block]\n",
    "    C = np.zeros((BLOCK_SIZE, BLOCK_SIZE))\n",
    "    for i in range(BLOCK_SIZE):\n",
    "        c = child_block[i]\n",
    "        for j in range(BLOCK_SIZE):\n",
    "            g = GIFT_IDS[gift_block[j]]\n",
    "            C[i, j] = CHILD_HAPPINESS[c][g] + GIFT_HAPPINESS[g][c]\n",
    "    row_ind, col_ind = linear_sum_assignment(C)\n",
    "    return (child_block[row_ind], gift_block[col_ind])"
   ]
  },
  {
   "cell_type": "code",
   "execution_count": 12,
   "metadata": {},
   "outputs": [
    {
     "name": "stdout",
     "output_type": "stream",
     "text": [
      "Block size: 400, n_blocks 2490.0\n"
     ]
    }
   ],
   "source": [
    "BLOCK_SIZE = 400\n",
    "INITIAL_SUBMISSION = '../../data/santa/cpp_sub.csv'\n",
    "N_BLOCKS = (N_CHILDREN - TWINS) / BLOCK_SIZE\n",
    "print('Block size: {}, n_blocks {}'.format(BLOCK_SIZE, N_BLOCKS))"
   ]
  },
  {
   "cell_type": "code",
   "execution_count": 13,
   "metadata": {},
   "outputs": [
    {
     "name": "stdout",
     "output_type": "stream",
     "text": [
      "normalized child happiness -0.4398353999932017\n",
      "normalized gift happiness 7.22800000001e-06\n",
      "-0.439828171993\n"
     ]
    }
   ],
   "source": [
    "subm = pd.read_csv(INITIAL_SUBMISSION)\n",
    "initial_anh = my_avg_normalized_happiness(subm[['ChildId', 'GiftId']].values.tolist())\n",
    "print(initial_anh)\n",
    "subm['gift_rank'] = subm.groupby('GiftId').rank() - 1\n",
    "subm['gift_id'] = subm['GiftId'] * 1000 + subm['gift_rank']\n",
    "subm['gift_id'] = subm['gift_id'].astype(np.int64)\n",
    "current_gift_ids = subm['gift_id'].values"
   ]
  },
  {
   "cell_type": "code",
   "execution_count": null,
   "metadata": {},
   "outputs": [
    {
     "name": "stderr",
     "output_type": "stream",
     "text": [
      "  1%|          | 3/500 [00:09<26:09,  3.16s/it]/anaconda3/lib/python3.6/site-packages/tqdm/_monitor.py:89: TqdmSynchronisationWarning: Set changed size during iteration (see https://github.com/tqdm/tqdm/issues/481)\n",
      "  TqdmSynchronisationWarning)\n",
      " 24%|██▍       | 120/500 [06:30<20:36,  3.25s/it]"
     ]
    }
   ],
   "source": [
    "start_time = dt.datetime.now()\n",
    "for i in range(1):\n",
    "    child_blocks = np.split(np.random.permutation(range(TWINS, N_CHILDREN)), N_BLOCKS)\n",
    "    for child_block in tqdm(child_blocks[:500]):\n",
    "        cids, gids = optimize_block(child_block, current_gift_ids=current_gift_ids)\n",
    "        current_gift_ids[cids] = gids\n",
    "    subm['GiftId'] = GIFT_IDS[current_gift_ids]\n",
    "    anh = my_avg_normalized_happiness(subm[['ChildId', 'GiftId']].values.tolist())\n",
    "    end_time = dt.datetime.now()\n",
    "    print(i, anh, (end_time-start_time).total_seconds())\n",
    "subm[['ChildId', 'GiftId']].to_csv('./submission_%i.csv' % int(anh * 10 ** 6), index=False)"
   ]
  },
  {
   "cell_type": "code",
   "execution_count": null,
   "metadata": {
    "collapsed": true
   },
   "outputs": [],
   "source": [
    "print('Improvement {}'.format(anh - initial_anh))"
   ]
  },
  {
   "cell_type": "code",
   "execution_count": null,
   "metadata": {
    "collapsed": true
   },
   "outputs": [],
   "source": [
    "'{:.1f} hours required to reach the top.'.format(((0.94253901 - 0.93421513) / (0.93421513 - initial_anh)) * 8)"
   ]
  },
  {
   "cell_type": "code",
   "execution_count": null,
   "metadata": {
    "collapsed": true
   },
   "outputs": [],
   "source": [
    "child_happiness = np.zeros(N_CHILDREN)\n",
    "gift_happiness = np.zeros(N_CHILDREN)\n",
    "for (c, g) in subm[['ChildId', 'GiftId']].values.tolist():\n",
    "    child_happiness[c] += -CHILD_HAPPINESS[c][g]\n",
    "    gift_happiness[c] += -GIFT_HAPPINESS[g][c]"
   ]
  },
  {
   "cell_type": "code",
   "execution_count": null,
   "metadata": {
    "collapsed": true
   },
   "outputs": [],
   "source": [
    "plt.hist(gift_happiness, bins=20, color='r', normed=True, alpha=0.5, label='Santa happiness')\n",
    "plt.hist(child_happiness, bins=20, color='g', normed=True, alpha=0.5, label='Child happiness')\n",
    "plt.legend(loc=0)\n",
    "plt.grid()\n",
    "plt.xlabel('Happiness')\n",
    "plt.title('The children will be happier than Santa!')\n",
    "plt.show();"
   ]
  },
  {
   "cell_type": "code",
   "execution_count": null,
   "metadata": {
    "collapsed": true
   },
   "outputs": [],
   "source": [
    "result = []\n",
    "for n in np.arange(100, 1600, 100):\n",
    "    C = np.random.random((n, n))\n",
    "    st = dt.datetime.now()\n",
    "    linear_sum_assignment(C)\n",
    "    et = dt.datetime.now()\n",
    "    result.append([n, (et - st).total_seconds()])"
   ]
  },
  {
   "cell_type": "code",
   "execution_count": null,
   "metadata": {
    "collapsed": true
   },
   "outputs": [],
   "source": [
    "result = np.array(result)\n",
    "poly_estimate = np.polyfit(result[:, 0], result[:, 1], 3)"
   ]
  },
  {
   "cell_type": "code",
   "execution_count": null,
   "metadata": {
    "collapsed": true
   },
   "outputs": [],
   "source": [
    "plt.scatter(result[:, 0], result[:, 1], c='y', s=500, marker='*', label='Run time')\n",
    "plt.plot(result[:, 0], np.poly1d(poly_estimate)(result[:, 0]), c='g', lw=3, label='Polynomial Estimate')\n",
    "plt.xlabel('Number of vertices')\n",
    "plt.ylabel('Run time (s)')\n",
    "plt.grid()\n",
    "plt.title('Hungarian method - O(n^3) time complexity')\n",
    "plt.legend(loc=0)\n",
    "plt.show()"
   ]
  },
  {
   "cell_type": "code",
   "execution_count": null,
   "metadata": {
    "collapsed": true
   },
   "outputs": [],
   "source": []
  }
 ],
 "metadata": {
  "kernelspec": {
   "display_name": "Python 3",
   "language": "python",
   "name": "python3"
  },
  "language_info": {
   "codemirror_mode": {
    "name": "ipython",
    "version": 3
   },
   "file_extension": ".py",
   "mimetype": "text/x-python",
   "name": "python",
   "nbconvert_exporter": "python",
   "pygments_lexer": "ipython3",
   "version": "3.6.3"
  }
 },
 "nbformat": 4,
 "nbformat_minor": 2
}
