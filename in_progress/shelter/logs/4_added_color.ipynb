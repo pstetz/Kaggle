{
 "cells": [
  {
   "cell_type": "markdown",
   "metadata": {},
   "source": [
    "### Imports"
   ]
  },
  {
   "cell_type": "code",
   "execution_count": 1,
   "metadata": {
    "collapsed": true
   },
   "outputs": [],
   "source": [
    "import pandas as pd\n",
    "import numpy as np\n",
    "\n",
    "import matplotlib.pyplot as plt\n",
    "import seaborn as sns\n",
    "%matplotlib inline\n",
    "sns.set()"
   ]
  },
  {
   "cell_type": "markdown",
   "metadata": {},
   "source": [
    "### Plotting helper function"
   ]
  },
  {
   "cell_type": "code",
   "execution_count": 2,
   "metadata": {
    "collapsed": true
   },
   "outputs": [],
   "source": [
    "def pretty_bar(data, xlabel=None, ylabel=None, title=None):\n",
    "    plt.figure(figsize=(15,12))\n",
    "    sns.barplot(data.values, data.index)\n",
    "    for i, v in enumerate(data.values):\n",
    "        plt.text(0.8,i,v,color='k',fontsize=19)\n",
    "    ylabel != None and plt.ylabel(ylabel, fontsize=12)\n",
    "    xlabel != None and plt.xlabel(xlabel, fontsize=12)\n",
    "    title != None and plt.title(title, fontsize=16)\n",
    "    plt.show()"
   ]
  },
  {
   "cell_type": "markdown",
   "metadata": {},
   "source": [
    "### Load data"
   ]
  },
  {
   "cell_type": "code",
   "execution_count": 3,
   "metadata": {},
   "outputs": [
    {
     "name": "stdout",
     "output_type": "stream",
     "text": [
      "train shape: (26729, 10)\n",
      "test shape: (11456, 8)\n"
     ]
    }
   ],
   "source": [
    "dateparse = lambda x: pd.datetime.strptime(x, \"%Y-%m-%d %H:%M:%S\")\n",
    "\n",
    "train = pd.read_csv(\"../../data/shelter/train.csv\", parse_dates=['DateTime'], date_parser=dateparse)\n",
    "test  = pd.read_csv(\"../../data/shelter/test.csv\", parse_dates=['DateTime'], date_parser=dateparse)\n",
    "\n",
    "print(\"train shape:\", train.shape)\n",
    "print(\"test shape:\", test.shape)"
   ]
  },
  {
   "cell_type": "markdown",
   "metadata": {},
   "source": [
    "### First few rows of the train data\n",
    "\n",
    "- I wonder why the name is included?  Is there anything we can do with it?  I don't think so, but missing names might indicate something (going off 5 data points, NaN is correlated with transfers)\n",
    "\n",
    "- What use can I make out of OutcomeSubtype?  I wonder if the model would learn the subtypes easier, then I could map those to the OutcomeType"
   ]
  },
  {
   "cell_type": "code",
   "execution_count": 4,
   "metadata": {},
   "outputs": [
    {
     "data": {
      "text/html": [
       "<div>\n",
       "<style>\n",
       "    .dataframe thead tr:only-child th {\n",
       "        text-align: right;\n",
       "    }\n",
       "\n",
       "    .dataframe thead th {\n",
       "        text-align: left;\n",
       "    }\n",
       "\n",
       "    .dataframe tbody tr th {\n",
       "        vertical-align: top;\n",
       "    }\n",
       "</style>\n",
       "<table border=\"1\" class=\"dataframe\">\n",
       "  <thead>\n",
       "    <tr style=\"text-align: right;\">\n",
       "      <th></th>\n",
       "      <th>AnimalID</th>\n",
       "      <th>Name</th>\n",
       "      <th>DateTime</th>\n",
       "      <th>OutcomeType</th>\n",
       "      <th>OutcomeSubtype</th>\n",
       "      <th>AnimalType</th>\n",
       "      <th>SexuponOutcome</th>\n",
       "      <th>AgeuponOutcome</th>\n",
       "      <th>Breed</th>\n",
       "      <th>Color</th>\n",
       "    </tr>\n",
       "  </thead>\n",
       "  <tbody>\n",
       "    <tr>\n",
       "      <th>0</th>\n",
       "      <td>A671945</td>\n",
       "      <td>Hambone</td>\n",
       "      <td>2014-02-12 18:22:00</td>\n",
       "      <td>Return_to_owner</td>\n",
       "      <td>NaN</td>\n",
       "      <td>Dog</td>\n",
       "      <td>Neutered Male</td>\n",
       "      <td>1 year</td>\n",
       "      <td>Shetland Sheepdog Mix</td>\n",
       "      <td>Brown/White</td>\n",
       "    </tr>\n",
       "    <tr>\n",
       "      <th>1</th>\n",
       "      <td>A656520</td>\n",
       "      <td>Emily</td>\n",
       "      <td>2013-10-13 12:44:00</td>\n",
       "      <td>Euthanasia</td>\n",
       "      <td>Suffering</td>\n",
       "      <td>Cat</td>\n",
       "      <td>Spayed Female</td>\n",
       "      <td>1 year</td>\n",
       "      <td>Domestic Shorthair Mix</td>\n",
       "      <td>Cream Tabby</td>\n",
       "    </tr>\n",
       "    <tr>\n",
       "      <th>2</th>\n",
       "      <td>A686464</td>\n",
       "      <td>Pearce</td>\n",
       "      <td>2015-01-31 12:28:00</td>\n",
       "      <td>Adoption</td>\n",
       "      <td>Foster</td>\n",
       "      <td>Dog</td>\n",
       "      <td>Neutered Male</td>\n",
       "      <td>2 years</td>\n",
       "      <td>Pit Bull Mix</td>\n",
       "      <td>Blue/White</td>\n",
       "    </tr>\n",
       "    <tr>\n",
       "      <th>3</th>\n",
       "      <td>A683430</td>\n",
       "      <td>NaN</td>\n",
       "      <td>2014-07-11 19:09:00</td>\n",
       "      <td>Transfer</td>\n",
       "      <td>Partner</td>\n",
       "      <td>Cat</td>\n",
       "      <td>Intact Male</td>\n",
       "      <td>3 weeks</td>\n",
       "      <td>Domestic Shorthair Mix</td>\n",
       "      <td>Blue Cream</td>\n",
       "    </tr>\n",
       "    <tr>\n",
       "      <th>4</th>\n",
       "      <td>A667013</td>\n",
       "      <td>NaN</td>\n",
       "      <td>2013-11-15 12:52:00</td>\n",
       "      <td>Transfer</td>\n",
       "      <td>Partner</td>\n",
       "      <td>Dog</td>\n",
       "      <td>Neutered Male</td>\n",
       "      <td>2 years</td>\n",
       "      <td>Lhasa Apso/Miniature Poodle</td>\n",
       "      <td>Tan</td>\n",
       "    </tr>\n",
       "  </tbody>\n",
       "</table>\n",
       "</div>"
      ],
      "text/plain": [
       "  AnimalID     Name            DateTime      OutcomeType OutcomeSubtype  \\\n",
       "0  A671945  Hambone 2014-02-12 18:22:00  Return_to_owner            NaN   \n",
       "1  A656520    Emily 2013-10-13 12:44:00       Euthanasia      Suffering   \n",
       "2  A686464   Pearce 2015-01-31 12:28:00         Adoption         Foster   \n",
       "3  A683430      NaN 2014-07-11 19:09:00         Transfer        Partner   \n",
       "4  A667013      NaN 2013-11-15 12:52:00         Transfer        Partner   \n",
       "\n",
       "  AnimalType SexuponOutcome AgeuponOutcome                        Breed  \\\n",
       "0        Dog  Neutered Male         1 year        Shetland Sheepdog Mix   \n",
       "1        Cat  Spayed Female         1 year       Domestic Shorthair Mix   \n",
       "2        Dog  Neutered Male        2 years                 Pit Bull Mix   \n",
       "3        Cat    Intact Male        3 weeks       Domestic Shorthair Mix   \n",
       "4        Dog  Neutered Male        2 years  Lhasa Apso/Miniature Poodle   \n",
       "\n",
       "         Color  \n",
       "0  Brown/White  \n",
       "1  Cream Tabby  \n",
       "2   Blue/White  \n",
       "3   Blue Cream  \n",
       "4          Tan  "
      ]
     },
     "execution_count": 4,
     "metadata": {},
     "output_type": "execute_result"
    }
   ],
   "source": [
    "train.head()"
   ]
  },
  {
   "cell_type": "markdown",
   "metadata": {},
   "source": [
    "### First few rows of the test data"
   ]
  },
  {
   "cell_type": "code",
   "execution_count": 5,
   "metadata": {},
   "outputs": [
    {
     "data": {
      "text/html": [
       "<div>\n",
       "<style>\n",
       "    .dataframe thead tr:only-child th {\n",
       "        text-align: right;\n",
       "    }\n",
       "\n",
       "    .dataframe thead th {\n",
       "        text-align: left;\n",
       "    }\n",
       "\n",
       "    .dataframe tbody tr th {\n",
       "        vertical-align: top;\n",
       "    }\n",
       "</style>\n",
       "<table border=\"1\" class=\"dataframe\">\n",
       "  <thead>\n",
       "    <tr style=\"text-align: right;\">\n",
       "      <th></th>\n",
       "      <th>ID</th>\n",
       "      <th>Name</th>\n",
       "      <th>DateTime</th>\n",
       "      <th>AnimalType</th>\n",
       "      <th>SexuponOutcome</th>\n",
       "      <th>AgeuponOutcome</th>\n",
       "      <th>Breed</th>\n",
       "      <th>Color</th>\n",
       "    </tr>\n",
       "  </thead>\n",
       "  <tbody>\n",
       "    <tr>\n",
       "      <th>0</th>\n",
       "      <td>1</td>\n",
       "      <td>Summer</td>\n",
       "      <td>2015-10-12 12:15:00</td>\n",
       "      <td>Dog</td>\n",
       "      <td>Intact Female</td>\n",
       "      <td>10 months</td>\n",
       "      <td>Labrador Retriever Mix</td>\n",
       "      <td>Red/White</td>\n",
       "    </tr>\n",
       "    <tr>\n",
       "      <th>1</th>\n",
       "      <td>2</td>\n",
       "      <td>Cheyenne</td>\n",
       "      <td>2014-07-26 17:59:00</td>\n",
       "      <td>Dog</td>\n",
       "      <td>Spayed Female</td>\n",
       "      <td>2 years</td>\n",
       "      <td>German Shepherd/Siberian Husky</td>\n",
       "      <td>Black/Tan</td>\n",
       "    </tr>\n",
       "    <tr>\n",
       "      <th>2</th>\n",
       "      <td>3</td>\n",
       "      <td>Gus</td>\n",
       "      <td>2016-01-13 12:20:00</td>\n",
       "      <td>Cat</td>\n",
       "      <td>Neutered Male</td>\n",
       "      <td>1 year</td>\n",
       "      <td>Domestic Shorthair Mix</td>\n",
       "      <td>Brown Tabby</td>\n",
       "    </tr>\n",
       "    <tr>\n",
       "      <th>3</th>\n",
       "      <td>4</td>\n",
       "      <td>Pongo</td>\n",
       "      <td>2013-12-28 18:12:00</td>\n",
       "      <td>Dog</td>\n",
       "      <td>Intact Male</td>\n",
       "      <td>4 months</td>\n",
       "      <td>Collie Smooth Mix</td>\n",
       "      <td>Tricolor</td>\n",
       "    </tr>\n",
       "    <tr>\n",
       "      <th>4</th>\n",
       "      <td>5</td>\n",
       "      <td>Skooter</td>\n",
       "      <td>2015-09-24 17:59:00</td>\n",
       "      <td>Dog</td>\n",
       "      <td>Neutered Male</td>\n",
       "      <td>2 years</td>\n",
       "      <td>Miniature Poodle Mix</td>\n",
       "      <td>White</td>\n",
       "    </tr>\n",
       "  </tbody>\n",
       "</table>\n",
       "</div>"
      ],
      "text/plain": [
       "   ID      Name            DateTime AnimalType SexuponOutcome AgeuponOutcome  \\\n",
       "0   1    Summer 2015-10-12 12:15:00        Dog  Intact Female      10 months   \n",
       "1   2  Cheyenne 2014-07-26 17:59:00        Dog  Spayed Female        2 years   \n",
       "2   3       Gus 2016-01-13 12:20:00        Cat  Neutered Male         1 year   \n",
       "3   4     Pongo 2013-12-28 18:12:00        Dog    Intact Male       4 months   \n",
       "4   5   Skooter 2015-09-24 17:59:00        Dog  Neutered Male        2 years   \n",
       "\n",
       "                            Breed        Color  \n",
       "0          Labrador Retriever Mix    Red/White  \n",
       "1  German Shepherd/Siberian Husky    Black/Tan  \n",
       "2          Domestic Shorthair Mix  Brown Tabby  \n",
       "3               Collie Smooth Mix     Tricolor  \n",
       "4            Miniature Poodle Mix        White  "
      ]
     },
     "execution_count": 5,
     "metadata": {},
     "output_type": "execute_result"
    }
   ],
   "source": [
    "test.head()"
   ]
  },
  {
   "cell_type": "markdown",
   "metadata": {},
   "source": [
    "### Missing data"
   ]
  },
  {
   "cell_type": "code",
   "execution_count": 6,
   "metadata": {},
   "outputs": [
    {
     "data": {
      "text/html": [
       "<div>\n",
       "<style>\n",
       "    .dataframe thead tr:only-child th {\n",
       "        text-align: right;\n",
       "    }\n",
       "\n",
       "    .dataframe thead th {\n",
       "        text-align: left;\n",
       "    }\n",
       "\n",
       "    .dataframe tbody tr th {\n",
       "        vertical-align: top;\n",
       "    }\n",
       "</style>\n",
       "<table border=\"1\" class=\"dataframe\">\n",
       "  <thead>\n",
       "    <tr style=\"text-align: right;\">\n",
       "      <th></th>\n",
       "      <th>Test Missing</th>\n",
       "      <th>Train Missing</th>\n",
       "    </tr>\n",
       "  </thead>\n",
       "  <tbody>\n",
       "    <tr>\n",
       "      <th>AgeuponOutcome</th>\n",
       "      <td>6.0</td>\n",
       "      <td>18.0</td>\n",
       "    </tr>\n",
       "    <tr>\n",
       "      <th>AnimalID</th>\n",
       "      <td>NaN</td>\n",
       "      <td>0.0</td>\n",
       "    </tr>\n",
       "    <tr>\n",
       "      <th>AnimalType</th>\n",
       "      <td>0.0</td>\n",
       "      <td>0.0</td>\n",
       "    </tr>\n",
       "    <tr>\n",
       "      <th>Breed</th>\n",
       "      <td>0.0</td>\n",
       "      <td>0.0</td>\n",
       "    </tr>\n",
       "    <tr>\n",
       "      <th>Color</th>\n",
       "      <td>0.0</td>\n",
       "      <td>0.0</td>\n",
       "    </tr>\n",
       "    <tr>\n",
       "      <th>DateTime</th>\n",
       "      <td>0.0</td>\n",
       "      <td>0.0</td>\n",
       "    </tr>\n",
       "    <tr>\n",
       "      <th>ID</th>\n",
       "      <td>0.0</td>\n",
       "      <td>NaN</td>\n",
       "    </tr>\n",
       "    <tr>\n",
       "      <th>Name</th>\n",
       "      <td>3225.0</td>\n",
       "      <td>7691.0</td>\n",
       "    </tr>\n",
       "    <tr>\n",
       "      <th>OutcomeSubtype</th>\n",
       "      <td>NaN</td>\n",
       "      <td>13612.0</td>\n",
       "    </tr>\n",
       "    <tr>\n",
       "      <th>OutcomeType</th>\n",
       "      <td>NaN</td>\n",
       "      <td>0.0</td>\n",
       "    </tr>\n",
       "    <tr>\n",
       "      <th>SexuponOutcome</th>\n",
       "      <td>0.0</td>\n",
       "      <td>1.0</td>\n",
       "    </tr>\n",
       "  </tbody>\n",
       "</table>\n",
       "</div>"
      ],
      "text/plain": [
       "                Test Missing  Train Missing\n",
       "AgeuponOutcome           6.0           18.0\n",
       "AnimalID                 NaN            0.0\n",
       "AnimalType               0.0            0.0\n",
       "Breed                    0.0            0.0\n",
       "Color                    0.0            0.0\n",
       "DateTime                 0.0            0.0\n",
       "ID                       0.0            NaN\n",
       "Name                  3225.0         7691.0\n",
       "OutcomeSubtype           NaN        13612.0\n",
       "OutcomeType              NaN            0.0\n",
       "SexuponOutcome           0.0            1.0"
      ]
     },
     "execution_count": 6,
     "metadata": {},
     "output_type": "execute_result"
    }
   ],
   "source": [
    "pd.DataFrame({\n",
    "    \"Train Missing\": train.isnull().sum().astype(int),\n",
    "    \"Test Missing\": test.isnull().sum().astype(int),\n",
    "})"
   ]
  },
  {
   "cell_type": "markdown",
   "metadata": {},
   "source": [
    "### Is it possible to guess the Sex?\n",
    "\n",
    "Not really, you can't guess a sex and whether a pet is neutered.  Since there's one missing value it doesn't make since to replace all NaN values with None.\n",
    "\n",
    "I'm just going to drop this as an outlier"
   ]
  },
  {
   "cell_type": "code",
   "execution_count": 7,
   "metadata": {},
   "outputs": [
    {
     "data": {
      "text/html": [
       "<div>\n",
       "<style>\n",
       "    .dataframe thead tr:only-child th {\n",
       "        text-align: right;\n",
       "    }\n",
       "\n",
       "    .dataframe thead th {\n",
       "        text-align: left;\n",
       "    }\n",
       "\n",
       "    .dataframe tbody tr th {\n",
       "        vertical-align: top;\n",
       "    }\n",
       "</style>\n",
       "<table border=\"1\" class=\"dataframe\">\n",
       "  <thead>\n",
       "    <tr style=\"text-align: right;\">\n",
       "      <th></th>\n",
       "      <th>AnimalID</th>\n",
       "      <th>Name</th>\n",
       "      <th>DateTime</th>\n",
       "      <th>OutcomeType</th>\n",
       "      <th>OutcomeSubtype</th>\n",
       "      <th>AnimalType</th>\n",
       "      <th>SexuponOutcome</th>\n",
       "      <th>AgeuponOutcome</th>\n",
       "      <th>Breed</th>\n",
       "      <th>Color</th>\n",
       "    </tr>\n",
       "  </thead>\n",
       "  <tbody>\n",
       "    <tr>\n",
       "      <th>3174</th>\n",
       "      <td>A667395</td>\n",
       "      <td>Diego</td>\n",
       "      <td>2013-11-27 16:11:00</td>\n",
       "      <td>Return_to_owner</td>\n",
       "      <td>NaN</td>\n",
       "      <td>Dog</td>\n",
       "      <td>NaN</td>\n",
       "      <td>7 years</td>\n",
       "      <td>Dachshund</td>\n",
       "      <td>Brown Merle</td>\n",
       "    </tr>\n",
       "  </tbody>\n",
       "</table>\n",
       "</div>"
      ],
      "text/plain": [
       "     AnimalID   Name            DateTime      OutcomeType OutcomeSubtype  \\\n",
       "3174  A667395  Diego 2013-11-27 16:11:00  Return_to_owner            NaN   \n",
       "\n",
       "     AnimalType SexuponOutcome AgeuponOutcome      Breed        Color  \n",
       "3174        Dog            NaN        7 years  Dachshund  Brown Merle  "
      ]
     },
     "execution_count": 7,
     "metadata": {},
     "output_type": "execute_result"
    }
   ],
   "source": [
    "train[train.SexuponOutcome.isnull()]"
   ]
  },
  {
   "cell_type": "code",
   "execution_count": 8,
   "metadata": {
    "collapsed": true
   },
   "outputs": [],
   "source": [
    "train = train.drop(train[train.SexuponOutcome.isnull()].index)"
   ]
  },
  {
   "cell_type": "markdown",
   "metadata": {},
   "source": [
    "### Merge train and test data"
   ]
  },
  {
   "cell_type": "code",
   "execution_count": 9,
   "metadata": {
    "collapsed": true
   },
   "outputs": [],
   "source": [
    "full = pd.concat([train, test])\n",
    "train_N = len(train)"
   ]
  },
  {
   "cell_type": "markdown",
   "metadata": {},
   "source": [
    "### Create columns sex and is_netured"
   ]
  },
  {
   "cell_type": "code",
   "execution_count": 10,
   "metadata": {
    "collapsed": true
   },
   "outputs": [],
   "source": [
    "def get_neut(x):\n",
    "    if x is np.nan:\n",
    "        return np.nan\n",
    "    elif x == \"Unknown\":\n",
    "        return 2\n",
    "    return int(\"Neutered\" in x or \"Sprayed\" in x)\n",
    "\n",
    "def get_sex(x):\n",
    "    if x is np.nan:\n",
    "        return np.nan\n",
    "    elif x == \"Unknown\":\n",
    "        return 2\n",
    "    return int(\"Male\" in x)\n",
    "\n",
    "full[\"Sex\"] = full.SexuponOutcome.map(get_sex)\n",
    "full[\"isNetured\"] = full.SexuponOutcome.map(get_neut)\n",
    "\n",
    "full = full.drop([\"SexuponOutcome\"], axis=1)"
   ]
  },
  {
   "cell_type": "markdown",
   "metadata": {},
   "source": [
    "### AgeuponOutcome"
   ]
  },
  {
   "cell_type": "code",
   "execution_count": 11,
   "metadata": {
    "collapsed": true,
    "scrolled": true
   },
   "outputs": [],
   "source": [
    "def format_age(x):\n",
    "    if x is np.nan:\n",
    "        return None\n",
    "    \n",
    "    num, scale = x.split(\" \")\n",
    "    if scale in [\"day\", \"days\"]:\n",
    "        return int(num)\n",
    "    elif scale in [\"week\", \"weeks\"]:\n",
    "        return 7 * int(num)\n",
    "    elif scale in [\"month\", \"months\"]:\n",
    "        return 30 * int(num)\n",
    "    elif scale in [\"year\", \"years\"]:\n",
    "        return 365 * int(num)\n",
    "    else:\n",
    "        print(\"scale\", scale)\n",
    "        raise Exception(\"Scale, {}, not contained\".format(scale))\n",
    "\n",
    "full.AgeuponOutcome = full.AgeuponOutcome.map(format_age)"
   ]
  },
  {
   "cell_type": "markdown",
   "metadata": {},
   "source": [
    "### Fill in AgeuponOutcome values"
   ]
  },
  {
   "cell_type": "code",
   "execution_count": 12,
   "metadata": {
    "collapsed": true,
    "scrolled": true
   },
   "outputs": [],
   "source": [
    "full.AgeuponOutcome.fillna(\n",
    "    full.groupby(\"Breed\")[\"AgeuponOutcome\"].transform(\"median\"), inplace=True)"
   ]
  },
  {
   "cell_type": "markdown",
   "metadata": {},
   "source": [
    "### AnimalType mapping"
   ]
  },
  {
   "cell_type": "code",
   "execution_count": 13,
   "metadata": {
    "collapsed": true
   },
   "outputs": [],
   "source": [
    "full.AnimalType = full.AnimalType.map({\"Dog\": 0, \"Cat\": 1})"
   ]
  },
  {
   "cell_type": "markdown",
   "metadata": {},
   "source": [
    "## Breed\n",
    "\n",
    "### Hair type and isMix\n",
    "\n",
    "Looks at the breed and determines whether the breed is a mix or determine the length of its hair"
   ]
  },
  {
   "cell_type": "code",
   "execution_count": 14,
   "metadata": {
    "collapsed": true
   },
   "outputs": [],
   "source": [
    "shorthair_map  = lambda x: 1 if \"Shorthair\" in x else 0\n",
    "mediumhair_map = lambda x: 1 if \"Medium Hair\" in x else 0\n",
    "longhair_map   = lambda x: 1 if \"Longhair\" in x else 0\n",
    "mix_map        = lambda x: 1 if \"Mix\" in x else 0\n",
    "\n",
    "full[\"Shorthair\"]  = full.Breed.map(shorthair_map)\n",
    "full[\"Mediumhair\"] = full.Breed.map(mediumhair_map)\n",
    "full[\"Longhair\"]   = full.Breed.map(longhair_map)\n",
    "full[\"Mix\"]        = full.Breed.map(mix_map)"
   ]
  },
  {
   "cell_type": "markdown",
   "metadata": {},
   "source": [
    "### Plotting new columns"
   ]
  },
  {
   "cell_type": "code",
   "execution_count": 15,
   "metadata": {},
   "outputs": [
    {
     "data": {
      "image/png": "[encoded data removed]",
      "text/plain": [
       "<matplotlib.figure.Figure at 0x11116dcc0>"
      ]
     },
     "metadata": {},
     "output_type": "display_data"
    }
   ],
   "source": [
    "fig, axarr = plt.subplots(2, 2, figsize=(14, 6))\n",
    "\n",
    "full.Shorthair.value_counts().plot(kind=\"pie\", ax=axarr[0][0])\n",
    "full.Mediumhair.value_counts().plot(kind=\"pie\", ax=axarr[0][1])\n",
    "full.Longhair.value_counts().plot(kind=\"pie\", ax=axarr[1][0])\n",
    "_ = full.Mix.value_counts().plot(kind=\"pie\", ax=axarr[1][1])"
   ]
  },
  {
   "cell_type": "markdown",
   "metadata": {},
   "source": [
    "### Breed mapping"
   ]
  },
  {
   "cell_type": "code",
   "execution_count": 16,
   "metadata": {},
   "outputs": [
    {
     "data": {
      "image/png": "[encoded data removed]",
      "text/plain": [
       "<matplotlib.figure.Figure at 0x11116d630>"
      ]
     },
     "metadata": {},
     "output_type": "display_data"
    }
   ],
   "source": [
    "def get_col_map(df, col, cutoff):\n",
    "    val_counts = df[col].value_counts()\n",
    "    ret = dict()\n",
    "    counter = 0\n",
    "    \n",
    "    for index in val_counts.index:\n",
    "        count = val_counts[index]\n",
    "        if count > cutoff:\n",
    "            ret[index] = counter\n",
    "            counter += 1\n",
    "        else:\n",
    "            ret[index] = counter\n",
    "    return ret\n",
    "\n",
    "breed_map = get_col_map(full, \"Breed\", 200)\n",
    "\n",
    "full.Breed = full.Breed.map(breed_map)\n",
    "\n",
    "_ = full.Breed.value_counts().head(15).plot(kind=\"bar\")"
   ]
  },
  {
   "cell_type": "markdown",
   "metadata": {},
   "source": [
    "### Color mapping"
   ]
  },
  {
   "cell_type": "code",
   "execution_count": 18,
   "metadata": {},
   "outputs": [],
   "source": [
    "blue_map  = lambda x: 1 if \"Blue\"      in x else 0\n",
    "black_map = lambda x: 1 if \"White\"     in x else 0\n",
    "white_map = lambda x: 1 if \"White\"     in x else 0\n",
    "brown_map = lambda x: 1 if \"Brown\"     in x else 0\n",
    "tabby_map = lambda x: 1 if \"Tabby\"     in x else 0\n",
    "tan_map   = lambda x: 1 if \"Tan\"       in x else 0\n",
    "red_map   = lambda x: 1 if \"Red\"       in x else 0\n",
    "choc_map  = lambda x: 1 if \"Chocolate\" in x else 0\n",
    "\n",
    "\n",
    "full[\"Blue\"]  = full.Color.map(blue_map)\n",
    "full[\"Black\"] = full.Color.map(black_map)\n",
    "full[\"White\"] = full.Color.map(white_map)\n",
    "full[\"Brown\"] = full.Color.map(brown_map)\n",
    "full[\"Tabby\"] = full.Color.map(tabby_map)\n",
    "full[\"Tan\"]   = full.Color.map(tan_map)\n",
    "full[\"Red\"]   = full.Color.map(red_map)\n",
    "full[\"Choc\"]  = full.Color.map(choc_map)"
   ]
  },
  {
   "cell_type": "code",
   "execution_count": 19,
   "metadata": {},
   "outputs": [
    {
     "data": {
      "image/png": "[encoded data removed]",
      "text/plain": [
       "<matplotlib.figure.Figure at 0x111612080>"
      ]
     },
     "metadata": {},
     "output_type": "display_data"
    }
   ],
   "source": [
    "color_map = get_col_map(full, \"Color\", 200)\n",
    "\n",
    "full.Color = full.Color.map(color_map)\n",
    "\n",
    "_ = full.Color.value_counts().head(15).plot(kind=\"bar\")"
   ]
  },
  {
   "cell_type": "markdown",
   "metadata": {},
   "source": [
    "### Name\n",
    "\n",
    "I'm wondering if a missing name is indicative of anything?  Maybe the name is missing because the dog was transfered quickly or spent a little time at the shelter.  Also some outcome's may rely on having documentation of the name"
   ]
  },
  {
   "cell_type": "code",
   "execution_count": 20,
   "metadata": {
    "scrolled": true
   },
   "outputs": [
    {
     "data": {
      "image/png": "[encoded data removed]",
      "text/plain": [
       "<matplotlib.figure.Figure at 0x11237eba8>"
      ]
     },
     "metadata": {},
     "output_type": "display_data"
    }
   ],
   "source": [
    "name_map = lambda x: 0 if x is np.nan else 1\n",
    "\n",
    "full.Name = full.Name.map(name_map)\n",
    "_ = full.Name.value_counts().plot(kind=\"pie\")"
   ]
  },
  {
   "cell_type": "markdown",
   "metadata": {},
   "source": [
    "### Split full back into train and test"
   ]
  },
  {
   "cell_type": "code",
   "execution_count": 21,
   "metadata": {
    "collapsed": true
   },
   "outputs": [],
   "source": [
    "train = full[:train_N]\n",
    "test = full[train_N:]"
   ]
  },
  {
   "cell_type": "markdown",
   "metadata": {},
   "source": [
    "### Quick prediction"
   ]
  },
  {
   "cell_type": "code",
   "execution_count": 22,
   "metadata": {
    "collapsed": true
   },
   "outputs": [],
   "source": [
    "train_y = train.OutcomeType.map({\"Adoption\": 0, \"Transfer\": 1, \"Return_to_owner\": 2, \"Euthanasia\": 3, \"Died\": 4})\n",
    "train_x = train.drop([\"DateTime\", \"OutcomeType\", \"OutcomeSubtype\", \"AnimalID\", \"ID\"], axis=1)\n",
    "\n",
    "test_x = test.drop([\"DateTime\", \"OutcomeType\", \"OutcomeSubtype\", \"AnimalID\", \"ID\"], axis=1)"
   ]
  },
  {
   "cell_type": "markdown",
   "metadata": {},
   "source": [
    "## Construct the model\n",
    "\n",
    "Let's try out a few models and see which works best through cross validation"
   ]
  },
  {
   "cell_type": "code",
   "execution_count": 23,
   "metadata": {
    "collapsed": true
   },
   "outputs": [],
   "source": [
    "# Massive amounts of model imports\n",
    "from sklearn.ensemble import RandomForestClassifier, AdaBoostClassifier, GradientBoostingClassifier, ExtraTreesClassifier, VotingClassifier\n",
    "from sklearn.discriminant_analysis import LinearDiscriminantAnalysis\n",
    "from sklearn.linear_model import LogisticRegression\n",
    "from sklearn.model_selection import KFold, cross_val_score, GridSearchCV, StratifiedKFold, learning_curve\n",
    "from sklearn.neighbors import KNeighborsClassifier\n",
    "from sklearn.neural_network import MLPClassifier\n",
    "from sklearn.pipeline import make_pipeline\n",
    "from sklearn.preprocessing import Imputer\n",
    "from sklearn.svm import SVC\n",
    "from sklearn.tree import DecisionTreeClassifier\n",
    "from xgboost import XGBClassifier\n",
    "from lightgbm import LGBMClassifier\n",
    "\n",
    "kfold = StratifiedKFold()\n",
    "\n",
    "def score_model(model):\n",
    "    score = cross_val_score(model, train_x, train_y, cv=kfold, n_jobs=1, scoring=\"accuracy\")\n",
    "    print(score)\n",
    "    print(\"\\nAverage is ...\")\n",
    "    print(sum(score) / len(score))"
   ]
  },
  {
   "cell_type": "markdown",
   "metadata": {},
   "source": [
    " ---\n",
    "\n",
    "## Extra Trees Classifier\n",
    "\n",
    "### Parameter Search\n",
    "\n",
    "Tried\n",
    "\n",
    "{\"max_depth\": [None],\n",
    "  \"max_features\": [1, 3, 10],\n",
    "  \"min_samples_split\": [2, 3, 10],\n",
    "  \"min_samples_leaf\": [1, 3, 10],\n",
    "  \"bootstrap\": [False],\n",
    "  \"n_estimators\" :[100,300],\n",
    "  \"criterion\": [\"gini\"]}\n",
    "\n",
    "Best\n",
    "\n",
    "{'bootstrap': False,\n",
    " 'criterion': 'gini',\n",
    " 'max_depth': None,\n",
    " 'max_features': 10,\n",
    " 'min_samples_leaf': 10,\n",
    " 'min_samples_split': 2,\n",
    " 'n_estimators': 300}"
   ]
  },
  {
   "cell_type": "code",
   "execution_count": 25,
   "metadata": {},
   "outputs": [],
   "source": [
    "# ExtC = ExtraTreesClassifier()\n",
    "\n",
    "\n",
    "# ## Search grid for optimal parameters\n",
    "# ex_param_grid = {\n",
    "#                   \"max_depth\": [None],\n",
    "#                   \"max_features\": [1, 3, 10],\n",
    "#                   \"min_samples_split\": [2, 3, 10],\n",
    "#                   \"min_samples_leaf\": [1, 3, 10],\n",
    "#                   \"n_estimators\" :[100,300]\n",
    "#                 }\n",
    "\n",
    "\n",
    "# gsExtC = GridSearchCV(ExtC, param_grid=ex_param_grid, cv=kfold, scoring=\"accuracy\", verbose=1)\n",
    "\n",
    "# gsExtC.fit(train_x, train_y)\n",
    "\n",
    "# ExtC_best = gsExtC.best_estimator_\n",
    "\n",
    "# # Best score\n",
    "# print(gsExtC.best_score_)\n",
    "# print(gsExtC.best_params_)"
   ]
  },
  {
   "cell_type": "markdown",
   "metadata": {},
   "source": [
    "### Model fitting"
   ]
  },
  {
   "cell_type": "code",
   "execution_count": 26,
   "metadata": {},
   "outputs": [
    {
     "name": "stdout",
     "output_type": "stream",
     "text": [
      "[ 0.60531927  0.60314254  0.60604019]\n",
      "\n",
      "Average is ...\n",
      "0.604833999301\n"
     ]
    }
   ],
   "source": [
    "etc_model = ExtraTreesClassifier(\n",
    "                                    bootstrap=False,\n",
    "                                    criterion=\"gini\",\n",
    "                                    max_depth=None,\n",
    "                                    max_features=10,\n",
    "                                    min_samples_leaf=10,\n",
    "                                    min_samples_split=2,\n",
    "                                    n_estimators=300\n",
    "                                )\n",
    "etc_model.fit(train_x, train_y)\n",
    "score_model(etc_model)"
   ]
  },
  {
   "cell_type": "markdown",
   "metadata": {},
   "source": [
    " ---\n",
    "\n",
    "## Random Forest Classifier\n",
    "\n",
    "### Parameter Search\n",
    "\n",
    "Tried\n",
    "\n",
    "{\"max_depth\": [None],\n",
    "  \"max_features\": [1, 3, 10],\n",
    "  \"min_samples_split\": [2, 3, 10],\n",
    "  \"min_samples_leaf\": [1, 3, 10],\n",
    "  \"bootstrap\": [False],\n",
    "  \"n_estimators\" :[100,300],\n",
    "  \"criterion\": [\"gini\"]}\n",
    "\n",
    "Best\n",
    "\n",
    "{'bootstrap': False,\n",
    " 'criterion': 'gini',\n",
    " 'max_depth': None,\n",
    " 'max_features': 3,\n",
    " 'min_samples_leaf': 10,\n",
    " 'min_samples_split': 10,\n",
    " 'n_estimators': 300}"
   ]
  },
  {
   "cell_type": "code",
   "execution_count": 27,
   "metadata": {
    "collapsed": true
   },
   "outputs": [],
   "source": [
    "# RFC = RandomForestClassifier()\n",
    "\n",
    "# ## Search grid for optimal parameters\n",
    "# rf_param_grid = {\"max_depth\": [None],\n",
    "#               \"max_features\": [1, 3, 10],\n",
    "#               \"min_samples_split\": [2, 3, 10],\n",
    "#               \"min_samples_leaf\": [1, 3, 10],\n",
    "#               \"bootstrap\": [False],\n",
    "#               \"n_estimators\" :[100,300],\n",
    "#               \"criterion\": [\"gini\"]}\n",
    "\n",
    "\n",
    "# gsRFC = GridSearchCV(RFC,param_grid = rf_param_grid, cv=kfold, scoring=\"accuracy\", verbose = 1)\n",
    "\n",
    "# gsRFC.fit(train_x, train_y)\n",
    "\n",
    "# RFC_best = gsRFC.best_estimator_\n",
    "\n",
    "# # Best score\n",
    "# print(gsRFC.best_score_)\n",
    "# print(gsRFC.best_params_)"
   ]
  },
  {
   "cell_type": "code",
   "execution_count": 28,
   "metadata": {},
   "outputs": [
    {
     "name": "stdout",
     "output_type": "stream",
     "text": [
      "[ 0.60475816  0.60572391  0.60671382]\n",
      "\n",
      "Average is ...\n",
      "0.60573196346\n"
     ]
    }
   ],
   "source": [
    "rfc_model = RandomForestClassifier(\n",
    "                                    bootstrap=False,\n",
    "                                    criterion=\"gini\",\n",
    "                                    max_depth=None,\n",
    "                                    max_features=3,\n",
    "                                    min_samples_leaf=10,\n",
    "                                    min_samples_split=10,\n",
    "                                    n_estimators=300\n",
    "                                  )\n",
    "rfc_model.fit(train_x, train_y)\n",
    "score_model(rfc_model)"
   ]
  },
  {
   "cell_type": "markdown",
   "metadata": {},
   "source": [
    "---\n",
    "\n",
    "## Gradient Boost Classifier\n",
    "\n",
    "### Parameter Search\n",
    "\n",
    "Tried\n",
    "\n",
    "{'loss' : [\"deviance\"],\n",
    "  'n_estimators' : [100,200,300],\n",
    "  'learning_rate': [0.1, 0.05, 0.01],\n",
    "  'max_depth': [4, 8],\n",
    "  'min_samples_leaf': [100,150],\n",
    "  'max_features': [0.3, 0.1] \n",
    "  }\n",
    "\n",
    "Best\n",
    "\n",
    "{'learning_rate': 0.05,\n",
    " 'loss': 'deviance',\n",
    " 'max_depth': 8,\n",
    " 'max_features': 0.3,\n",
    " 'min_samples_leaf': 100,\n",
    " 'n_estimators': 100}"
   ]
  },
  {
   "cell_type": "code",
   "execution_count": 29,
   "metadata": {
    "collapsed": true
   },
   "outputs": [],
   "source": [
    "# GBC = GradientBoostingClassifier()\n",
    "# gb_param_grid = {'loss' : [\"deviance\"],\n",
    "#               'n_estimators' : [100,200,300],\n",
    "#               'learning_rate': [0.1, 0.05, 0.01],\n",
    "#               'max_depth': [4, 8],\n",
    "#               'min_samples_leaf': [100,150],\n",
    "#               'max_features': [0.3, 0.1] \n",
    "#               }\n",
    "\n",
    "# gsGBC = GridSearchCV(GBC,param_grid = gb_param_grid, cv=kfold, scoring=\"accuracy\", verbose = 1)\n",
    "\n",
    "# gsGBC.fit(train_x, train_y)\n",
    "\n",
    "# GBC_best = gsGBC.best_estimator_\n",
    "\n",
    "# # Best score\n",
    "# print(gsGBC.best_score_)\n",
    "# print(gsGBC.best_params_)"
   ]
  },
  {
   "cell_type": "code",
   "execution_count": 30,
   "metadata": {},
   "outputs": [
    {
     "name": "stdout",
     "output_type": "stream",
     "text": [
      "[ 0.61990798  0.61402918  0.6169305 ]\n",
      "\n",
      "Average is ...\n",
      "0.616955887899\n"
     ]
    }
   ],
   "source": [
    "gbc_model = GradientBoostingClassifier(\n",
    "                                          loss = \"deviance\",\n",
    "                                          n_estimators = 100,\n",
    "                                          learning_rate = 0.05,\n",
    "                                          max_depth = 8,\n",
    "                                          min_samples_leaf = 100,\n",
    "                                          max_features = 0.3\n",
    "                                      )\n",
    "gbc_model.fit(train_x, train_y)\n",
    "score_model(gbc_model)"
   ]
  },
  {
   "cell_type": "markdown",
   "metadata": {},
   "source": [
    "---\n",
    "\n",
    "## SVC\n",
    "\n",
    "### Parameter Search\n",
    "\n",
    "WARNING: GridSearchCV takes forever!!  (Like 2 hrs)\n",
    "\n",
    "tried\n",
    "\n",
    "{'kernel': ['rbf'], \n",
    "  'gamma': [ 0.001, 0.01, 0.1, 1],\n",
    "  'C': [1, 10, 50, 100,200,300, 1000]}\n",
    "\n",
    "best\n",
    "\n",
    "{'C': 200, 'gamma': 0.001, 'kernel': 'rbf'}"
   ]
  },
  {
   "cell_type": "code",
   "execution_count": 31,
   "metadata": {
    "collapsed": true
   },
   "outputs": [],
   "source": [
    "# SVMC = SVC(probability=True)\n",
    "# svc_param_grid = {'kernel': ['rbf'], \n",
    "#                   'gamma': [ 0.001, 0.01, 0.1, 1],\n",
    "#                   'C': [1, 10, 50, 100,200,300, 1000]}\n",
    "\n",
    "# gsSVMC = GridSearchCV(SVMC,param_grid = svc_param_grid, cv=kfold, scoring=\"accuracy\", verbose = 1)\n",
    "\n",
    "# gsSVMC.fit(train_x, train_y)\n",
    "\n",
    "# SVMC_best = gsSVMC.best_estimator_\n",
    "\n",
    "# # Best score\n",
    "# print(gsSVMC.best_score_)\n",
    "# print(gsSVMC.best_params_)"
   ]
  },
  {
   "cell_type": "markdown",
   "metadata": {},
   "source": [
    "### Model fitting"
   ]
  },
  {
   "cell_type": "code",
   "execution_count": 32,
   "metadata": {},
   "outputs": [
    {
     "name": "stdout",
     "output_type": "stream",
     "text": [
      "[ 0.55077993  0.54826038  0.55282362]\n",
      "\n",
      "Average is ...\n",
      "0.550621312792\n"
     ]
    }
   ],
   "source": [
    "svc_model = SVC()\n",
    "svc_model.fit(train_x, train_y)\n",
    "score_model(svc_model)"
   ]
  },
  {
   "cell_type": "markdown",
   "metadata": {},
   "source": [
    "---\n",
    "\n",
    "## XGB\n",
    "\n",
    "### Model fitting"
   ]
  },
  {
   "cell_type": "code",
   "execution_count": 33,
   "metadata": {},
   "outputs": [
    {
     "name": "stdout",
     "output_type": "stream",
     "text": [
      "[ 0.61833689  0.60527497  0.61367464]\n",
      "\n",
      "Average is ...\n",
      "0.612428832287\n"
     ]
    }
   ],
   "source": [
    "xgb_model = XGBClassifier()\n",
    "xgb_model.fit(train_x, train_y)\n",
    "score_model(xgb_model)"
   ]
  },
  {
   "cell_type": "markdown",
   "metadata": {},
   "source": [
    "---\n",
    "\n",
    "## LGBM\n",
    "\n",
    "### Model fitting"
   ]
  },
  {
   "cell_type": "code",
   "execution_count": 34,
   "metadata": {},
   "outputs": [
    {
     "name": "stdout",
     "output_type": "stream",
     "text": [
      "[ 0.61979576  0.61593715  0.61636915]\n",
      "\n",
      "Average is ...\n",
      "0.617367351728\n"
     ]
    }
   ],
   "source": [
    "lgbm_model = LGBMClassifier()\n",
    "lgbm_model.fit(train_x, train_y)\n",
    "score_model(lgbm_model)"
   ]
  },
  {
   "cell_type": "markdown",
   "metadata": {},
   "source": [
    "### Averaging all the models"
   ]
  },
  {
   "cell_type": "code",
   "execution_count": 35,
   "metadata": {
    "collapsed": true
   },
   "outputs": [],
   "source": [
    "votingC = VotingClassifier(estimators=[\n",
    "                                        (\"ETC\", etc_model),                                    \n",
    "                                        (\"RFC\", rfc_model),\n",
    "                                        (\"GBC\",gbc_model),\n",
    "                                        (\"SVC\", svc_model),                                    \n",
    "                                        (\"XGB\", xgb_model),\n",
    "                                        (\"LGBM\", lgbm_model)\n",
    "                                      ], voting='hard')\n",
    "\n",
    "votingC = votingC.fit(train_x, train_y)"
   ]
  },
  {
   "cell_type": "markdown",
   "metadata": {},
   "source": [
    "### Predicting"
   ]
  },
  {
   "cell_type": "code",
   "execution_count": 36,
   "metadata": {
    "collapsed": true
   },
   "outputs": [],
   "source": [
    "predictions = votingC.predict(test_x)"
   ]
  },
  {
   "cell_type": "markdown",
   "metadata": {},
   "source": [
    "### Save predictions to CSV"
   ]
  },
  {
   "cell_type": "code",
   "execution_count": 37,
   "metadata": {
    "collapsed": true
   },
   "outputs": [],
   "source": [
    "pd.DataFrame({\n",
    "    \"ID\": test.ID.astype(int),\n",
    "    \"Adoption\": [1 if pred == 0 else 0 for pred in predictions],\n",
    "    \"Died\": [1 if pred == 4 else 0 for pred in predictions],\n",
    "    \"Euthanasia\": [1 if pred == 3 else 0 for pred in predictions],\n",
    "    \"Return_to_owner\": [1 if pred == 2 else 0 for pred in predictions],\n",
    "    \"Transfer\": [1 if pred == 1 else 0 for pred in predictions]\n",
    "}).to_csv('../../submissions/shelter_added_color.csv',index=False)"
   ]
  },
  {
   "cell_type": "code",
   "execution_count": null,
   "metadata": {
    "collapsed": true
   },
   "outputs": [],
   "source": []
  }
 ],
 "metadata": {
  "kernelspec": {
   "display_name": "Python 3",
   "language": "python",
   "name": "python3"
  },
  "language_info": {
   "codemirror_mode": {
    "name": "ipython",
    "version": 3
   },
   "file_extension": ".py",
   "mimetype": "text/x-python",
   "name": "python",
   "nbconvert_exporter": "python",
   "pygments_lexer": "ipython3",
   "version": "3.6.3"
  }
 },
 "nbformat": 4,
 "nbformat_minor": 2
}
