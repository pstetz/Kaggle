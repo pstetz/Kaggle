{
 "cells": [
  {
   "cell_type": "code",
   "execution_count": 1,
   "metadata": {},
   "outputs": [
    {
     "name": "stderr",
     "output_type": "stream",
     "text": [
      "/anaconda3/lib/python3.6/site-packages/h5py/__init__.py:34: FutureWarning: Conversion of the second argument of issubdtype from `float` to `np.floating` is deprecated. In future, it will be treated as `np.float64 == np.dtype(float).type`.\n",
      "  from ._conv import register_converters as _register_converters\n"
     ]
    }
   ],
   "source": [
    "import numpy as np\n",
    "from sklearn.model_selection import train_test_split\n",
    "from tensorflow.python.keras.applications import ResNet50\n",
    "from tensorflow.python import keras\n",
    "\n",
    "from tensorflow.python.keras.applications.resnet50 import preprocess_input\n",
    "from tensorflow.python.keras.preprocessing.image import ImageDataGenerator\n",
    "from tensorflow.python.keras.models import Sequential\n",
    "from tensorflow.python.keras.layers import Dense, Flatten, Conv2D, Dropout"
   ]
  },
  {
   "cell_type": "markdown",
   "metadata": {},
   "source": [
    "### Traits (gets around 23%, which is worse)\n",
    "\n",
    "- making model myself not starting with resnet50\n",
    "- using dropout\n",
    "- 5 epochs instead"
   ]
  },
  {
   "cell_type": "code",
   "execution_count": 2,
   "metadata": {},
   "outputs": [
    {
     "name": "stdout",
     "output_type": "stream",
     "text": [
      "WARNING:tensorflow:From /anaconda3/lib/python3.6/site-packages/tensorflow/python/keras/_impl/keras/backend.py:3086: calling reduce_sum (from tensorflow.python.ops.math_ops) with keep_dims is deprecated and will be removed in a future version.\n",
      "Instructions for updating:\n",
      "keep_dims is deprecated, use keepdims instead\n",
      "WARNING:tensorflow:From /anaconda3/lib/python3.6/site-packages/tensorflow/python/keras/_impl/keras/backend.py:1557: calling reduce_mean (from tensorflow.python.ops.math_ops) with keep_dims is deprecated and will be removed in a future version.\n",
      "Instructions for updating:\n",
      "keep_dims is deprecated, use keepdims instead\n"
     ]
    }
   ],
   "source": [
    "num_classes = 5\n",
    "img_rows = 320\n",
    "img_cols = 240\n",
    "\n",
    "model = Sequential()\n",
    "model.add(Conv2D(50, kernel_size=(4, 4),\n",
    "                strides=2,\n",
    "                activation='relu',\n",
    "                input_shape=(img_rows, img_cols, 3)))\n",
    "model.add(Conv2D(30, kernel_size=(4,4), strides=2, activation='relu'))\n",
    "Dropout(0.2)\n",
    "model.add(Conv2D(30, kernel_size=(4,4), strides=2, activation='relu'))\n",
    "Dropout(0.2)\n",
    "model.add(Conv2D(30, kernel_size=(4,4), strides=2, activation='relu'))\n",
    "model.add(Flatten())\n",
    "model.add(Dense(128, activation='relu'))\n",
    "model.add(Dense(num_classes, activation='softmax'))\n",
    "\n",
    "# compile\n",
    "model.compile(optimizer='adam', loss='categorical_crossentropy', metrics=['accuracy'])"
   ]
  },
  {
   "cell_type": "code",
   "execution_count": 3,
   "metadata": {},
   "outputs": [
    {
     "name": "stdout",
     "output_type": "stream",
     "text": [
      "Found 3244 images belonging to 5 classes.\n",
      "Found 1079 images belonging to 5 classes.\n",
      "Epoch 1/5\n",
      "3/3 [==============================]3/3 [==============================] - 54s 18s/step - loss: 8.3514 - acc: 0.3000 - val_loss: 12.4433 - val_acc: 0.2280\n",
      "\n",
      "Epoch 2/5\n",
      "3/3 [==============================]3/3 [==============================] - 67s 22s/step - loss: 11.8199 - acc: 0.2667 - val_loss: 12.4433 - val_acc: 0.2280\n",
      "\n",
      "Epoch 3/5\n",
      "3/3 [==============================]3/3 [==============================] - 56s 19s/step - loss: 11.8199 - acc: 0.2667 - val_loss: 12.4433 - val_acc: 0.2280\n",
      "\n",
      "Epoch 4/5\n",
      "3/3 [==============================]3/3 [==============================] - 53s 18s/step - loss: 13.9690 - acc: 0.1333 - val_loss: 12.4433 - val_acc: 0.2280\n",
      "\n",
      "Epoch 5/5\n",
      "3/3 [==============================]3/3 [==============================] - 52s 17s/step - loss: 11.8199 - acc: 0.2667 - val_loss: 12.4433 - val_acc: 0.2280\n",
      "\n"
     ]
    },
    {
     "data": {
      "text/plain": [
       "<tensorflow.python.keras._impl.keras.callbacks.History at 0x1a18a7fe48>"
      ]
     },
     "execution_count": 3,
     "metadata": {},
     "output_type": "execute_result"
    }
   ],
   "source": [
    "data_generator_with_aug = ImageDataGenerator(preprocessing_function=preprocess_input,\n",
    "                                             horizontal_flip = True,\n",
    "                                             width_shift_range = 0.2,\n",
    "                                             height_shift_range = 0.2)\n",
    "\n",
    "\n",
    "train_generator = data_generator_with_aug.flow_from_directory(\n",
    "        '../data/flowers/train/',\n",
    "        target_size=(img_rows, img_cols),\n",
    "        batch_size=10,\n",
    "        class_mode='categorical')\n",
    "\n",
    "validation_generator = data_generator_with_aug.flow_from_directory(\n",
    "        '../data/flowers/val/',\n",
    "        target_size=(img_rows, img_cols),\n",
    "        class_mode='categorical')\n",
    "\n",
    "model.fit_generator(\n",
    "        train_generator,\n",
    "        epochs=5,\n",
    "        validation_data=validation_generator)"
   ]
  },
  {
   "cell_type": "code",
   "execution_count": null,
   "metadata": {
    "collapsed": true
   },
   "outputs": [],
   "source": []
  }
 ],
 "metadata": {
  "kernelspec": {
   "display_name": "Python 3",
   "language": "python",
   "name": "python3"
  },
  "language_info": {
   "codemirror_mode": {
    "name": "ipython",
    "version": 3
   },
   "file_extension": ".py",
   "mimetype": "text/x-python",
   "name": "python",
   "nbconvert_exporter": "python",
   "pygments_lexer": "ipython3",
   "version": "3.6.3"
  }
 },
 "nbformat": 4,
 "nbformat_minor": 2
}
