{
 "cells": [
  {
   "cell_type": "markdown",
   "metadata": {},
   "source": [
    "# This notebook will be used to shuffle the images around\n",
    "\n",
    "-- I think I initially made the validation folder too big.  I might want to play around with different ratios of train numbers to validation numbers.  In which case I'll use this notebook"
   ]
  },
  {
   "cell_type": "code",
   "execution_count": null,
   "metadata": {
    "collapsed": true
   },
   "outputs": [],
   "source": [
    "import shutil\n",
    "import glob\n",
    "\n",
    "flowers_dir = \"/Users/pbezuhov/git/Kaggle/data/flowers/\"\n",
    "flowers_cats = [\"daisy\", \"rose\", \"sunflower\", \"dandelion\", \"tulip\"]\n",
    "\n",
    "percent_val = 0.1 # what percent of the images I want to be validation images"
   ]
  },
  {
   "cell_type": "code",
   "execution_count": null,
   "metadata": {
    "collapsed": true
   },
   "outputs": [],
   "source": [
    "for i in range(len(flowers_cats)):\n",
    "    "
   ]
  },
  {
   "cell_type": "markdown",
   "metadata": {},
   "source": [
    "### Below is the initial code I used to split the data in the first place"
   ]
  },
  {
   "cell_type": "code",
   "execution_count": 1,
   "metadata": {
    "scrolled": true
   },
   "outputs": [],
   "source": [
    "train_dir = flowers_dir + \"train/\"\n",
    "val_dir = flowers_dir + \"val/\"\n",
    "\n",
    "for i in range(len(flowers_cats)):\n",
    "    curr_dir = flowers_dir + flowers_cats[i] + \"/*\"\n",
    "    curr_files = glob.glob(curr_dir)\n",
    "    N = len(curr_files)\n",
    "    N_val = int(N * percent_val)\n",
    "    N_train = N - N_val\n",
    "    for j in range(N):\n",
    "        file_name = curr_files[j].split(\"/\")[-1]\n",
    "        if j < N_val:\n",
    "            new_path = val_dir + flowers_cats[i] + \"/\" + file_name\n",
    "            shutil.move(curr_files[j], new_path)\n",
    "        else:\n",
    "            new_path = train_dir + flowers_cats[i] + \"/\" + file_name\n",
    "            shutil.move(curr_files[j], new_path)"
   ]
  },
  {
   "cell_type": "code",
   "execution_count": null,
   "metadata": {
    "collapsed": true
   },
   "outputs": [],
   "source": []
  }
 ],
 "metadata": {
  "kernelspec": {
   "display_name": "Python 3",
   "language": "python",
   "name": "python3"
  },
  "language_info": {
   "codemirror_mode": {
    "name": "ipython",
    "version": 3
   },
   "file_extension": ".py",
   "mimetype": "text/x-python",
   "name": "python",
   "nbconvert_exporter": "python",
   "pygments_lexer": "ipython3",
   "version": "3.6.3"
  }
 },
 "nbformat": 4,
 "nbformat_minor": 2
}
