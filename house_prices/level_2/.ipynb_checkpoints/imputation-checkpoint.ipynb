{
 "cells": [
  {
   "cell_type": "markdown",
   "metadata": {},
   "source": [
    "# Data setup"
   ]
  },
  {
   "cell_type": "code",
   "execution_count": 40,
   "metadata": {},
   "outputs": [],
   "source": [
    "import pandas as pd\n",
    "from sklearn.ensemble import RandomForestRegressor\n",
    "from sklearn.metrics import mean_absolute_error\n",
    "from sklearn.model_selection import train_test_split\n",
    "\n",
    "# Load data\n",
    "train = pd.read_csv('../data/train.csv')\n",
    "train_y = train.SalePrice\n",
    "train_x = train.drop(['SalePrice'], axis=1)\n",
    "train_x = train_x.select_dtypes(exclude=['object'])\n",
    "\n",
    "\n",
    "train_x, test_x, train_y, test_y = train_test_split(train_x, \n",
    "                                                    train_y,\n",
    "                                                    train_size=0.7, \n",
    "                                                    test_size=0.3, \n",
    "                                                    random_state=0)\n",
    "\n",
    "def score_dataset(X_train, X_test, y_train, y_test):\n",
    "    model = RandomForestRegressor()\n",
    "    model.fit(X_train, y_train)\n",
    "    preds = model.predict(X_test)\n",
    "    return mean_absolute_error(y_test, preds)"
   ]
  },
  {
   "cell_type": "markdown",
   "metadata": {},
   "source": [
    "#### Get Model Score from Dropping Columns with Missing Values"
   ]
  },
  {
   "cell_type": "code",
   "execution_count": 39,
   "metadata": {},
   "outputs": [
    {
     "name": "stdout",
     "output_type": "stream",
     "text": [
      "Mean Absolute Error from dropping columns with Missing Values:\n",
      "19199.778082191777\n"
     ]
    }
   ],
   "source": [
    "cols_with_missing = [col for col in train_x.columns if train_x[col].isnull().any()]\n",
    "r_train_x = train_x.drop(cols_with_missing, axis=1)\n",
    "r_test_x  = test_x.drop(cols_with_missing, axis=1)\n",
    "print(\"Mean Absolute Error from dropping columns with Missing Values:\")\n",
    "print(score_dataset(r_train_x, r_test_x, train_y, test_y))"
   ]
  },
  {
   "cell_type": "markdown",
   "metadata": {},
   "source": [
    "#### Get Model Score from Imputation"
   ]
  },
  {
   "cell_type": "code",
   "execution_count": 49,
   "metadata": {},
   "outputs": [
    {
     "name": "stdout",
     "output_type": "stream",
     "text": [
      "Mean Absolute Error from Imputation:\n",
      "19002.674200913243\n"
     ]
    }
   ],
   "source": [
    "from sklearn.preprocessing import Imputer\n",
    "\n",
    "imputer = Imputer()\n",
    "imp_train_x = imputer.fit_transform(train_x)\n",
    "imp_test_x = imputer.transform(test_x)\n",
    "print(\"Mean Absolute Error from Imputation:\")\n",
    "print(score_dataset(imp_train_x, imp_test_x, train_y, test_y))"
   ]
  },
  {
   "cell_type": "markdown",
   "metadata": {},
   "source": [
    "#### Get Score from Imputation with Extra Columns Showing What Was Imputed"
   ]
  },
  {
   "cell_type": "code",
   "execution_count": 51,
   "metadata": {},
   "outputs": [
    {
     "name": "stdout",
     "output_type": "stream",
     "text": [
      "Mean Absolute Error from Imputation while Track What Was Imputed:\n",
      "19280.078310502286\n"
     ]
    }
   ],
   "source": [
    "imp_train_x_plus = train_x.copy()\n",
    "imp_test_x_plus = test_x.copy()\n",
    "\n",
    "cols_with_missing = (col for col in train_x.columns \n",
    "                                 if train_x[col].isnull().any())\n",
    "for col in cols_with_missing:\n",
    "    imp_train_x_plus[col + '_was_missing'] = imp_train_x_plus[col].isnull()\n",
    "    imp_test_x_plus[col + '_was_missing'] = imp_test_x_plus[col].isnull()\n",
    "\n",
    "# Imputation\n",
    "imputer = Imputer()\n",
    "imp_train_x_plus = imputer.fit_transform(imp_train_x_plus)\n",
    "imp_test_x_plus = imputer.transform(imp_test_x_plus)\n",
    "\n",
    "print(\"Mean Absolute Error from Imputation while Track What Was Imputed:\")\n",
    "print(score_dataset(imp_train_x_plus, imp_test_x_plus, train_y, test_y))"
   ]
  },
  {
   "cell_type": "code",
   "execution_count": null,
   "metadata": {
    "collapsed": true
   },
   "outputs": [],
   "source": []
  }
 ],
 "metadata": {
  "kernelspec": {
   "display_name": "Python 3",
   "language": "python",
   "name": "python3"
  },
  "language_info": {
   "codemirror_mode": {
    "name": "ipython",
    "version": 3
   },
   "file_extension": ".py",
   "mimetype": "text/x-python",
   "name": "python",
   "nbconvert_exporter": "python",
   "pygments_lexer": "ipython3",
   "version": "3.6.3"
  }
 },
 "nbformat": 4,
 "nbformat_minor": 2
}
