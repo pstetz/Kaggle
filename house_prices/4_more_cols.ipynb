{
 "cells": [
  {
   "cell_type": "markdown",
   "metadata": {},
   "source": [
    "# Score : 0.16414\n",
    "\n",
    "### Easiest thing to do now is add the rest of the columns\n",
    "\n",
    "#### A lot of columns list the quality of a certain piece.  I wonder if they all should be combined to give a cumulative number"
   ]
  },
  {
   "cell_type": "markdown",
   "metadata": {},
   "source": [
    "#### There are so many columns!!!  This will take forever preparing everything!"
   ]
  },
  {
   "cell_type": "code",
   "execution_count": 1,
   "metadata": {
    "collapsed": true
   },
   "outputs": [],
   "source": [
    "import pandas as pd\n",
    "\n",
    "master_training_data = pd.read_csv('../data/house_prices/train.csv')\n",
    "master_testing_data = pd.read_csv('../data/house_prices/test.csv')"
   ]
  },
  {
   "cell_type": "code",
   "execution_count": 2,
   "metadata": {},
   "outputs": [
    {
     "data": {
      "text/plain": [
       "Index(['Id', 'MSSubClass', 'MSZoning', 'LotFrontage', 'LotArea', 'Street',\n",
       "       'Alley', 'LotShape', 'LandContour', 'Utilities', 'LotConfig',\n",
       "       'LandSlope', 'Neighborhood', 'Condition1', 'Condition2', 'BldgType',\n",
       "       'HouseStyle', 'OverallQual', 'OverallCond', 'YearBuilt', 'YearRemodAdd',\n",
       "       'RoofStyle', 'RoofMatl', 'Exterior1st', 'Exterior2nd', 'MasVnrType',\n",
       "       'MasVnrArea', 'ExterQual', 'ExterCond', 'Foundation', 'BsmtQual',\n",
       "       'BsmtCond', 'BsmtExposure', 'BsmtFinType1', 'BsmtFinSF1',\n",
       "       'BsmtFinType2', 'BsmtFinSF2', 'BsmtUnfSF', 'TotalBsmtSF', 'Heating',\n",
       "       'HeatingQC', 'CentralAir', 'Electrical', '1stFlrSF', '2ndFlrSF',\n",
       "       'LowQualFinSF', 'GrLivArea', 'BsmtFullBath', 'BsmtHalfBath', 'FullBath',\n",
       "       'HalfBath', 'BedroomAbvGr', 'KitchenAbvGr', 'KitchenQual',\n",
       "       'TotRmsAbvGrd', 'Functional', 'Fireplaces', 'FireplaceQu', 'GarageType',\n",
       "       'GarageYrBlt', 'GarageFinish', 'GarageCars', 'GarageArea', 'GarageQual',\n",
       "       'GarageCond', 'PavedDrive', 'WoodDeckSF', 'OpenPorchSF',\n",
       "       'EnclosedPorch', '3SsnPorch', 'ScreenPorch', 'PoolArea', 'PoolQC',\n",
       "       'Fence', 'MiscFeature', 'MiscVal', 'MoSold', 'YrSold', 'SaleType',\n",
       "       'SaleCondition', 'SalePrice'],\n",
       "      dtype='object')"
      ]
     },
     "execution_count": 2,
     "metadata": {},
     "output_type": "execute_result"
    }
   ],
   "source": [
    "master_training_data.columns"
   ]
  },
  {
   "cell_type": "markdown",
   "metadata": {},
   "source": [
    "### Removing shady columns.  Perhaps more to remove in the future"
   ]
  },
  {
   "cell_type": "code",
   "execution_count": 3,
   "metadata": {
    "collapsed": true
   },
   "outputs": [],
   "source": [
    "# MiscVal: $Value of miscellaneous feature\n",
    "# MiscFeature: Miscellaneous feature not covered in other categories\n",
    "# Utilities: Type of utilities available <-- removed because it's homogeneous\n",
    "# Condition2: Proximity to main road or railroad (if a second is present) <-- removed because it's homogeneous\n",
    "# PoolQC <--- Too little data\n",
    "# 3SsnPorch: Three season porch area in square feet <-- removed because it's homogeneous\n",
    "# Heating: Type of heating <-- removed because it's homogeneous\n",
    "# Street: Type of road access <-- removed because it's homogeneous\n",
    "\n",
    "# removed_cols = ['MiscVal', 'MiscFeature', 'BsmtQual', 'Utilities', \"Condition2\", \"PoolQC\", \"Street\", \"3SsnPorch\",\n",
    "#                \"Electrical\", \"Heating\"]\n",
    "\n",
    "# training_data = master_training_data.drop(removed_cols, axis=1)\n",
    "# testing_data = master_testing_data.drop(removed_cols, axis=1)\n",
    "\n",
    "training_data = master_training_data\n",
    "testing_data = master_testing_data"
   ]
  },
  {
   "cell_type": "markdown",
   "metadata": {},
   "source": [
    "#### Shortcut to modify both at the same time"
   ]
  },
  {
   "cell_type": "code",
   "execution_count": 4,
   "metadata": {
    "collapsed": true
   },
   "outputs": [],
   "source": [
    "full_data = [training_data, testing_data]"
   ]
  },
  {
   "cell_type": "markdown",
   "metadata": {},
   "source": [
    "#### Understanding (and modifying) SaleCondition"
   ]
  },
  {
   "cell_type": "code",
   "execution_count": 5,
   "metadata": {
    "collapsed": true
   },
   "outputs": [],
   "source": [
    "sale_cond_map = {\"Normal\": 0, \"Partial\": 1, \"Abnorml\": 2, \"Family\": 3, \"Alloca\": 3, \"AdjLand\": 3}\n",
    "for dataset in full_data:\n",
    "    dataset['SaleCondition'] = dataset['SaleCondition'].map(sale_cond_map)"
   ]
  },
  {
   "cell_type": "markdown",
   "metadata": {},
   "source": [
    "#### Sale Type"
   ]
  },
  {
   "cell_type": "code",
   "execution_count": 6,
   "metadata": {
    "collapsed": true
   },
   "outputs": [],
   "source": [
    "sale_type_map = {\"WD\": 0, \"New\": 1, \"COD\": 2, \"ConLD\": 2, \"ConLw\": 2, \"ConLI\": 2, \"CWD\": 2, \"Oth\": 2,\"Con\": 2}\n",
    "\n",
    "for dataset in full_data:\n",
    "    dataset['SaleType'] = dataset['SaleType'].map(sale_type_map)"
   ]
  },
  {
   "cell_type": "markdown",
   "metadata": {},
   "source": [
    "#### Making the numbers in year sold smaller (does this do anything, I just feel compelled to do it)"
   ]
  },
  {
   "cell_type": "code",
   "execution_count": 7,
   "metadata": {
    "collapsed": true
   },
   "outputs": [],
   "source": [
    "for dataset in full_data:\n",
    "    dataset['YrSold'] = dataset['YrSold'] - 2006"
   ]
  },
  {
   "cell_type": "markdown",
   "metadata": {},
   "source": [
    "#### MSZoning: The general zoning classification"
   ]
  },
  {
   "cell_type": "code",
   "execution_count": 8,
   "metadata": {
    "collapsed": true
   },
   "outputs": [],
   "source": [
    "ms_zone_map = {\"RL\": 0, \"RM\": 1, \"FV\": 2, \"RH\": 2, \"C (all)\": 2}\n",
    "\n",
    "for dataset in full_data:\n",
    "    dataset['MSZoning'] = dataset['MSZoning'].map(ms_zone_map)"
   ]
  },
  {
   "cell_type": "markdown",
   "metadata": {},
   "source": [
    "#### Alley: Type of alley access"
   ]
  },
  {
   "cell_type": "code",
   "execution_count": 9,
   "metadata": {
    "collapsed": true
   },
   "outputs": [],
   "source": [
    "ms_zone_map = {\"Grvl\": 0, \"Pave\": 2}\n",
    "\n",
    "for dataset in full_data:\n",
    "    dataset['Alley'] = dataset['Alley'].map(ms_zone_map)"
   ]
  },
  {
   "cell_type": "code",
   "execution_count": 10,
   "metadata": {
    "collapsed": true
   },
   "outputs": [],
   "source": [
    "training_data[\"Alley\"].fillna(1, inplace=True)\n",
    "testing_data[\"Alley\"].fillna(1, inplace=True)"
   ]
  },
  {
   "cell_type": "markdown",
   "metadata": {},
   "source": [
    "#### LotShape"
   ]
  },
  {
   "cell_type": "code",
   "execution_count": 11,
   "metadata": {
    "collapsed": true
   },
   "outputs": [],
   "source": [
    "lot_shape_map = {\"Reg\": 0, \"IR1\": 1, \"IR2\": 2, \"IR3\": 2}\n",
    "\n",
    "for dataset in full_data:\n",
    "    dataset['LotShape'] = dataset['LotShape'].map(lot_shape_map)"
   ]
  },
  {
   "cell_type": "markdown",
   "metadata": {},
   "source": [
    "#### LandContour"
   ]
  },
  {
   "cell_type": "code",
   "execution_count": 12,
   "metadata": {
    "collapsed": true
   },
   "outputs": [],
   "source": [
    "lot_contour_map = {\"Lvl\": 0, \"Bnk\": 1, \"HLS\": 2, \"Low\": 3}\n",
    "\n",
    "for dataset in full_data:\n",
    "    dataset['LandContour'] = dataset['LandContour'].map(lot_contour_map)"
   ]
  },
  {
   "cell_type": "markdown",
   "metadata": {},
   "source": [
    "#### LotConfig: Lot configuration"
   ]
  },
  {
   "cell_type": "code",
   "execution_count": 13,
   "metadata": {
    "collapsed": true
   },
   "outputs": [],
   "source": [
    "lot_config_map = {\"Inside\": 0, \"Corner\": 1, \"CulDSac\": 2, \"FR2\": 3, \"FR3\": 3}\n",
    "\n",
    "for dataset in full_data:\n",
    "    dataset['LotConfig'] = dataset['LotConfig'].map(lot_config_map)"
   ]
  },
  {
   "cell_type": "markdown",
   "metadata": {},
   "source": [
    "#### LandSlope: Slope of property"
   ]
  },
  {
   "cell_type": "code",
   "execution_count": 14,
   "metadata": {
    "collapsed": true
   },
   "outputs": [],
   "source": [
    "land_slope_map = {\"Gtl\": 0, \"Mod\": 1, \"Sev\": 2}\n",
    "\n",
    "for dataset in full_data:\n",
    "    dataset['LandSlope'] = dataset['LandSlope'].map(land_slope_map)"
   ]
  },
  {
   "cell_type": "markdown",
   "metadata": {},
   "source": [
    "#### Neighborhood: Physical locations within Ames city limits\n",
    "\n",
    "### FIXME: This can be easily improved by looking at a map and seeing what neighboorhoods belong with each other"
   ]
  },
  {
   "cell_type": "code",
   "execution_count": 15,
   "metadata": {
    "collapsed": true
   },
   "outputs": [],
   "source": [
    "# This can be done A LOT better if I looked at a map!\n",
    "neighborhood_map = {\"NAmes\": 0, \"CollgCr\": 1, \"OldTown\": 2, \"Edwards\": 3, \"Somerst\": 4,\n",
    "                 \"Gilbert\": 5, \"NridgHt\": 6, \"Sawyer\": 7, \"NWAmes\": 0, \"SawyerW\": 7,\n",
    "                  \"BrkSide\": 8, \"Crawfor\": 9, \"Mitchel\": 10, \"NoRidge\": 10, \"Timber\": 10,\n",
    "                  \"IDOTRR\": 10, \"ClearCr\": 10, \"SWISU\": 10, \"StoneBr\": 10, \"Blmngtn\": 10,\n",
    "                \"MeadowV\": 10, \"BrDale\": 10, \"Veenker\": 10, \"NPkVill\": 10, \"Blueste\": 10,\n",
    "                 }\n",
    "\n",
    "for dataset in full_data:\n",
    "    dataset['Neighborhood'] = dataset['Neighborhood'].map(neighborhood_map)"
   ]
  },
  {
   "cell_type": "markdown",
   "metadata": {},
   "source": [
    "#### Condition1: Proximity to main road or railroad"
   ]
  },
  {
   "cell_type": "code",
   "execution_count": 16,
   "metadata": {
    "collapsed": true
   },
   "outputs": [],
   "source": [
    "condition1_map = {\"Norm\": 0, \"Feedr\": 1, \"Artery\": 1, \"RRAn\": 1, \"PosN\": 1,\n",
    "                 \"RRAe\": 1, \"PosA\": 1, \"RRNn\": 1, \"RRNe\": 1 }\n",
    "\n",
    "for dataset in full_data:\n",
    "    dataset['Condition1'] = dataset['Condition1'].map(condition1_map)"
   ]
  },
  {
   "cell_type": "markdown",
   "metadata": {},
   "source": [
    "#### BldgType: Type of dwelling"
   ]
  },
  {
   "cell_type": "code",
   "execution_count": 17,
   "metadata": {
    "collapsed": true
   },
   "outputs": [],
   "source": [
    "bldg_type_map = {\"1Fam\": 0, \"TwnhsE\": 1, \"Duplex\": 2, \"Twnhs\": 2, \"2fmCon\": 2}\n",
    "\n",
    "for dataset in full_data:\n",
    "    dataset['BldgType'] = dataset['BldgType'].map(bldg_type_map)"
   ]
  },
  {
   "cell_type": "markdown",
   "metadata": {},
   "source": [
    "#### HouseStyle: Style of dwelling"
   ]
  },
  {
   "cell_type": "code",
   "execution_count": 18,
   "metadata": {
    "collapsed": true
   },
   "outputs": [],
   "source": [
    "house_style_map = {\"1Story\": 0, \"2Story\": 1, \"1.5Fin\": 2, \"SLvl\": 3, \"SFoyer\": 3,\n",
    "                \"1.5Unf\": 3, \"2.5Unf\": 3, \"2.5Fin\": 3}\n",
    "\n",
    "for dataset in full_data:\n",
    "    dataset['HouseStyle'] = dataset['HouseStyle'].map(house_style_map)"
   ]
  },
  {
   "cell_type": "markdown",
   "metadata": {},
   "source": [
    "#### Fence: Fence quality"
   ]
  },
  {
   "cell_type": "code",
   "execution_count": 19,
   "metadata": {
    "collapsed": true
   },
   "outputs": [],
   "source": [
    "fence_map = {\"MnPrv\": 1, \"GdPrv\": 2, \"GdWo\": 3, \"MnWw\": 0}\n",
    "\n",
    "for dataset in full_data:\n",
    "    dataset['Fence'] = dataset['Fence'].map(fence_map)\n",
    "    \n",
    "training_data[\"Fence\"].fillna(0, inplace=True)\n",
    "testing_data[\"Fence\"].fillna(0, inplace=True)"
   ]
  },
  {
   "cell_type": "markdown",
   "metadata": {},
   "source": [
    "#### BsmtQual: Height of the basement"
   ]
  },
  {
   "cell_type": "code",
   "execution_count": 20,
   "metadata": {
    "collapsed": true
   },
   "outputs": [],
   "source": [
    "bsmt_qual_map = {\"Fa\": 1, \"TA\": 2, \"Gd\": 3, \"Ex\": 4}\n",
    "\n",
    "for dataset in full_data:\n",
    "    dataset['BsmtQual'] = dataset['BsmtQual'].map(bsmt_qual_map)"
   ]
  },
  {
   "cell_type": "markdown",
   "metadata": {},
   "source": [
    "#### Electrical: Electrical system"
   ]
  },
  {
   "cell_type": "code",
   "execution_count": 21,
   "metadata": {
    "collapsed": true
   },
   "outputs": [],
   "source": [
    "electrical_map = {\"SBrkr\": 1, \"FuseA\": 2, \"FuseF\": 0, \"FuseP\": 0, \"Mix\": 0}\n",
    "\n",
    "for dataset in full_data:\n",
    "    dataset['Electrical'] = dataset['Electrical'].map(electrical_map)"
   ]
  },
  {
   "cell_type": "markdown",
   "metadata": {},
   "source": [
    "#### GarageQual: Garage quality"
   ]
  },
  {
   "cell_type": "code",
   "execution_count": 22,
   "metadata": {
    "collapsed": true
   },
   "outputs": [],
   "source": [
    "garage_qual_map = {\"Po\": 0, \"Fa\": 1, \"TA\": 2, \"Gd\": 3, \"Ex\": 4}\n",
    "\n",
    "for dataset in full_data:\n",
    "    dataset['GarageQual'] = dataset['GarageQual'].map(bsmt_qual_map)"
   ]
  },
  {
   "cell_type": "markdown",
   "metadata": {},
   "source": [
    "#### CentralAir: Central air conditioning"
   ]
  },
  {
   "cell_type": "code",
   "execution_count": 23,
   "metadata": {
    "collapsed": true
   },
   "outputs": [],
   "source": [
    "central_air_map = {\"N\": 0, \"Y\": 1}\n",
    "\n",
    "for dataset in full_data:\n",
    "    dataset['CentralAir'] = dataset['CentralAir'].map(central_air_map)"
   ]
  },
  {
   "cell_type": "markdown",
   "metadata": {},
   "source": [
    "#### BsmtFinType1: Quality of basement finished area"
   ]
  },
  {
   "cell_type": "code",
   "execution_count": 24,
   "metadata": {
    "collapsed": true
   },
   "outputs": [],
   "source": [
    "bsmt_fin_typ1_map = {\"Unf\": 0, \"LwQ\": 1, \"Rec\": 2, \"BLQ\": 3, \"ALQ\": 4, \"GLQ\": 5}\n",
    "\n",
    "for dataset in full_data:\n",
    "    dataset['BsmtFinType1'] = dataset['BsmtFinType1'].map(bsmt_fin_typ1_map)"
   ]
  },
  {
   "cell_type": "markdown",
   "metadata": {},
   "source": [
    "### Predictions!!"
   ]
  },
  {
   "cell_type": "code",
   "execution_count": 26,
   "metadata": {},
   "outputs": [],
   "source": [
    "predictor_cols = ['1stFlrSF','2ndFlrSF', 'Alley', 'BedroomAbvGr', 'BldgType', 'BsmtFinType1',\n",
    "                  'BsmtQual', 'CentralAir', 'Condition1', 'Electrical',\n",
    "                  'Fence', 'Fireplaces', 'FullBath', 'GarageArea',\n",
    "                 'GarageCars', 'GarageQual', 'GrLivArea', 'HalfBath', 'HouseStyle', 'KitchenAbvGr',\n",
    "                  'LandSlope', 'LotArea', 'LotConfig',\n",
    "                 'LotFrontage', 'LotShape', 'MSSubClass', 'MSZoning', 'MoSold', 'Neighborhood', 'OpenPorchSF',\n",
    "                 'SaleCondition', 'SaleType', 'ScreenPorch', 'TotRmsAbvGrd', \n",
    "                  'TotalBsmtSF', 'WoodDeckSF', 'YearRemodAdd', 'YrSold']\n",
    "\n",
    "train_x = training_data[predictor_cols]\n",
    "train_y = training_data.SalePrice\n",
    "test_x = testing_data[predictor_cols]"
   ]
  },
  {
   "cell_type": "markdown",
   "metadata": {},
   "source": [
    "### Cross Validation scores\n",
    "\n",
    "Using r2\n",
    "XGBoost\n",
    "- 18 predictors = 0.7702056269772473\n",
    "- 24 predictors = 0.8018358449730526\n",
    "- 27 predictors = 0.8299348333411789\n",
    "- 29 predictors = 0.8479059750863349\n",
    "- 38 predictors = 0.8685503276750433\n",
    "\n",
    "SVC\n",
    "- 27 predictors = -0.27731475311827614\n",
    "\n",
    "RandomForestRegressor\n",
    "- 27 predictors = 0.7931188734757507"
   ]
  },
  {
   "cell_type": "code",
   "execution_count": 27,
   "metadata": {
    "collapsed": true
   },
   "outputs": [],
   "source": [
    "from sklearn.model_selection import KFold\n",
    "from sklearn.model_selection import cross_val_score\n",
    "\n",
    "k_fold = KFold(n_splits=10, shuffle=True, random_state=0)"
   ]
  },
  {
   "cell_type": "code",
   "execution_count": 28,
   "metadata": {},
   "outputs": [
    {
     "name": "stdout",
     "output_type": "stream",
     "text": [
      "[0.85564844 0.8816068  0.89446    0.86893176 0.75495708 0.86059641\n",
      " 0.88729725 0.91493178 0.89118066 0.8758931 ]\n",
      "\n",
      "Average is ...\n",
      "0.8685503276750433\n"
     ]
    }
   ],
   "source": [
    "from sklearn.pipeline import make_pipeline\n",
    "from sklearn.preprocessing import Imputer\n",
    "from sklearn.svm import SVC\n",
    "from xgboost import XGBRegressor\n",
    "\n",
    "pipeline = make_pipeline(Imputer(), XGBRegressor())\n",
    "\n",
    "scoring = 'accuracy'\n",
    "score = cross_val_score(pipeline, train_x, train_y, cv=k_fold, n_jobs=1, scoring=\"r2\")\n",
    "print(score)\n",
    "print(\"\\nAverage is ...\")\n",
    "print(sum(score) / len(score))"
   ]
  },
  {
   "cell_type": "code",
   "execution_count": 29,
   "metadata": {},
   "outputs": [
    {
     "data": {
      "text/plain": [
       "Pipeline(memory=None,\n",
       "     steps=[('imputer', Imputer(axis=0, copy=True, missing_values='NaN', strategy='mean', verbose=0)), ('xgbregressor', XGBRegressor(base_score=0.5, booster='gbtree', colsample_bylevel=1,\n",
       "       colsample_bytree=1, gamma=0, learning_rate=0.1, max_delta_step=0,\n",
       "       max_depth=3, min_child_weight=1, missing=None, n_estimators=100,\n",
       "       n_jobs=1, nthread=None, objective='reg:linear', random_state=0,\n",
       "       reg_alpha=0, reg_lambda=1, scale_pos_weight=1, seed=None,\n",
       "       silent=True, subsample=1))])"
      ]
     },
     "execution_count": 29,
     "metadata": {},
     "output_type": "execute_result"
    }
   ],
   "source": [
    "pipeline.fit(train_x, train_y)"
   ]
  },
  {
   "cell_type": "code",
   "execution_count": 30,
   "metadata": {
    "collapsed": true
   },
   "outputs": [],
   "source": [
    "prediction = pipeline.predict(test_x)"
   ]
  },
  {
   "cell_type": "code",
   "execution_count": 31,
   "metadata": {
    "collapsed": true
   },
   "outputs": [],
   "source": [
    "submission = pd.DataFrame({\n",
    "        \"Id\": testing_data[\"Id\"],\n",
    "        \"SalePrice\": prediction\n",
    "    })\n",
    "\n",
    "submission.to_csv('/Users/pbezuhov/git/Kaggle/submissions/4_more_columns.csv', index=False)"
   ]
  },
  {
   "cell_type": "code",
   "execution_count": null,
   "metadata": {
    "collapsed": true
   },
   "outputs": [],
   "source": []
  }
 ],
 "metadata": {
  "kernelspec": {
   "display_name": "Python 3",
   "language": "python",
   "name": "python3"
  },
  "language_info": {
   "codemirror_mode": {
    "name": "ipython",
    "version": 3
   },
   "file_extension": ".py",
   "mimetype": "text/x-python",
   "name": "python",
   "nbconvert_exporter": "python",
   "pygments_lexer": "ipython3",
   "version": "3.6.3"
  }
 },
 "nbformat": 4,
 "nbformat_minor": 2
}
