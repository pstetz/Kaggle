{
 "cells": [
  {
   "cell_type": "markdown",
   "metadata": {},
   "source": [
    "# Score : \n",
    "\n",
    "#### Abandoned, not making much progress now.  Going to check the Kaggle discussion section for improvements"
   ]
  },
  {
   "cell_type": "code",
   "execution_count": 1,
   "metadata": {
    "collapsed": true
   },
   "outputs": [],
   "source": [
    "from sklearn.model_selection import KFold\n",
    "from sklearn.model_selection import cross_val_score\n",
    "\n",
    "from sklearn.pipeline import make_pipeline\n",
    "from sklearn.preprocessing import Imputer\n",
    "from xgboost import XGBRegressor\n",
    "\n",
    "import pandas as pd\n",
    "\n",
    "master_training_data = pd.read_csv('../data/house_prices/train.csv')\n",
    "master_testing_data = pd.read_csv('../data/house_prices/test.csv')"
   ]
  },
  {
   "cell_type": "code",
   "execution_count": 2,
   "metadata": {
    "collapsed": true
   },
   "outputs": [],
   "source": [
    "training_data = master_training_data\n",
    "testing_data = master_testing_data\n",
    "\n",
    "# Shortcut to modify both at the same time\n",
    "full_data = [training_data, testing_data]"
   ]
  },
  {
   "cell_type": "markdown",
   "metadata": {},
   "source": [
    "#### Understanding (and modifying) SaleCondition"
   ]
  },
  {
   "cell_type": "code",
   "execution_count": 3,
   "metadata": {
    "collapsed": true
   },
   "outputs": [],
   "source": [
    "sale_cond_map = {\"AdjLand\" : 0, \"Abnorml\": 0, \"Family\": 0, \"Alloca\": 0, \"Normal\": 1, \"Partial\": 2}\n",
    "for dataset in full_data:\n",
    "    dataset['SaleCondition'] = dataset['SaleCondition'].map(sale_cond_map)"
   ]
  },
  {
   "cell_type": "code",
   "execution_count": 10,
   "metadata": {},
   "outputs": [
    {
     "name": "stdout",
     "output_type": "stream",
     "text": [
      "39     104125\n",
      "386    104125\n",
      "Name: SalePrice, dtype: int64\n",
      "3    146526.623762\n",
      "8    146526.623762\n",
      "Name: SalePrice, dtype: float64\n",
      "137    149600\n",
      "154    149600\n",
      "Name: SalePrice, dtype: int64\n",
      "102    167377.416667\n",
      "188    167377.416667\n",
      "Name: SalePrice, dtype: float64\n",
      "0    175202.219533\n",
      "1    175202.219533\n",
      "Name: SalePrice, dtype: float64\n",
      "11    272291.752\n",
      "13    272291.752\n",
      "Name: SalePrice, dtype: float64\n"
     ]
    }
   ],
   "source": [
    "# There's definitely a better way of doing this\n",
    "print(training_data.loc[training_data['SaleCondition'] == \"AdjLand\"].groupby(\"SaleCondition\")['SalePrice'].transform(\"mean\").head(2))"
   ]
  },
  {
   "cell_type": "markdown",
   "metadata": {},
   "source": [
    "#### Sale Type"
   ]
  },
  {
   "cell_type": "code",
   "execution_count": 5,
   "metadata": {
    "collapsed": true
   },
   "outputs": [],
   "source": [
    "sale_type_map = {\"WD\": 0, \"New\": 1, \"COD\": 2, \"ConLD\": 2, \"ConLw\": 2, \"ConLI\": 2, \"CWD\": 2, \"Oth\": 2,\"Con\": 2}\n",
    "\n",
    "for dataset in full_data:\n",
    "    dataset['SaleType'] = dataset['SaleType'].map(sale_type_map)"
   ]
  },
  {
   "cell_type": "markdown",
   "metadata": {},
   "source": [
    "#### Making the numbers in year sold smaller (does this do anything, I just feel compelled to do it)"
   ]
  },
  {
   "cell_type": "code",
   "execution_count": 6,
   "metadata": {
    "collapsed": true
   },
   "outputs": [],
   "source": [
    "for dataset in full_data:\n",
    "    dataset['YrSold'] = dataset['YrSold'] - 2006"
   ]
  },
  {
   "cell_type": "markdown",
   "metadata": {},
   "source": [
    "#### MSZoning: The general zoning classification"
   ]
  },
  {
   "cell_type": "code",
   "execution_count": 7,
   "metadata": {
    "collapsed": true
   },
   "outputs": [],
   "source": [
    "ms_zone_map = {\"RL\": 0, \"RM\": 1, \"FV\": 2, \"RH\": 2, \"C (all)\": 2}\n",
    "\n",
    "for dataset in full_data:\n",
    "    dataset['MSZoning'] = dataset['MSZoning'].map(ms_zone_map)"
   ]
  },
  {
   "cell_type": "markdown",
   "metadata": {},
   "source": [
    "#### Alley: Type of alley access"
   ]
  },
  {
   "cell_type": "code",
   "execution_count": 8,
   "metadata": {
    "collapsed": true
   },
   "outputs": [],
   "source": [
    "ms_zone_map = {\"Grvl\": 0, \"Pave\": 2}\n",
    "\n",
    "for dataset in full_data:\n",
    "    dataset['Alley'] = dataset['Alley'].map(ms_zone_map)"
   ]
  },
  {
   "cell_type": "code",
   "execution_count": 9,
   "metadata": {
    "collapsed": true
   },
   "outputs": [],
   "source": [
    "training_data[\"Alley\"].fillna(1, inplace=True)\n",
    "testing_data[\"Alley\"].fillna(1, inplace=True)"
   ]
  },
  {
   "cell_type": "markdown",
   "metadata": {},
   "source": [
    "#### LotShape"
   ]
  },
  {
   "cell_type": "code",
   "execution_count": 10,
   "metadata": {
    "collapsed": true
   },
   "outputs": [],
   "source": [
    "lot_shape_map = {\"Reg\": 0, \"IR1\": 1, \"IR2\": 2, \"IR3\": 2}\n",
    "\n",
    "for dataset in full_data:\n",
    "    dataset['LotShape'] = dataset['LotShape'].map(lot_shape_map)"
   ]
  },
  {
   "cell_type": "markdown",
   "metadata": {},
   "source": [
    "#### LandContour"
   ]
  },
  {
   "cell_type": "code",
   "execution_count": 11,
   "metadata": {
    "collapsed": true
   },
   "outputs": [],
   "source": [
    "lot_contour_map = {\"Lvl\": 0, \"Bnk\": 1, \"HLS\": 2, \"Low\": 3}\n",
    "\n",
    "for dataset in full_data:\n",
    "    dataset['LandContour'] = dataset['LandContour'].map(lot_contour_map)"
   ]
  },
  {
   "cell_type": "markdown",
   "metadata": {},
   "source": [
    "#### LotConfig: Lot configuration"
   ]
  },
  {
   "cell_type": "code",
   "execution_count": 12,
   "metadata": {
    "collapsed": true
   },
   "outputs": [],
   "source": [
    "lot_config_map = {\"Inside\": 0, \"Corner\": 1, \"CulDSac\": 2, \"FR2\": 3, \"FR3\": 3}\n",
    "\n",
    "for dataset in full_data:\n",
    "    dataset['LotConfig'] = dataset['LotConfig'].map(lot_config_map)"
   ]
  },
  {
   "cell_type": "markdown",
   "metadata": {},
   "source": [
    "#### LandSlope: Slope of property"
   ]
  },
  {
   "cell_type": "code",
   "execution_count": 13,
   "metadata": {
    "collapsed": true
   },
   "outputs": [],
   "source": [
    "land_slope_map = {\"Gtl\": 0, \"Mod\": 1, \"Sev\": 2}\n",
    "\n",
    "for dataset in full_data:\n",
    "    dataset['LandSlope'] = dataset['LandSlope'].map(land_slope_map)"
   ]
  },
  {
   "cell_type": "markdown",
   "metadata": {},
   "source": [
    "#### Neighborhood: Physical locations within Ames city limits\n",
    "\n",
    "### FIXME: This can be easily improved by looking at a map and seeing what neighboorhoods belong with each other"
   ]
  },
  {
   "cell_type": "code",
   "execution_count": 14,
   "metadata": {
    "collapsed": true
   },
   "outputs": [],
   "source": [
    "# This can be done A LOT better if I looked at a map!\n",
    "neighborhood_map = {\"NAmes\": 0, \"CollgCr\": 1, \"OldTown\": 2, \"Edwards\": 3, \"Somerst\": 4,\n",
    "                 \"Gilbert\": 5, \"NridgHt\": 6, \"Sawyer\": 7, \"NWAmes\": 0, \"SawyerW\": 7,\n",
    "                  \"BrkSide\": 8, \"Crawfor\": 9, \"Mitchel\": 10, \"NoRidge\": 10, \"Timber\": 10,\n",
    "                  \"IDOTRR\": 10, \"ClearCr\": 10, \"SWISU\": 10, \"StoneBr\": 10, \"Blmngtn\": 10,\n",
    "                \"MeadowV\": 10, \"BrDale\": 10, \"Veenker\": 10, \"NPkVill\": 10, \"Blueste\": 10,\n",
    "                 }\n",
    "\n",
    "for dataset in full_data:\n",
    "    dataset['Neighborhood'] = dataset['Neighborhood'].map(neighborhood_map)"
   ]
  },
  {
   "cell_type": "markdown",
   "metadata": {},
   "source": [
    "#### Condition1: Proximity to main road or railroad"
   ]
  },
  {
   "cell_type": "code",
   "execution_count": 15,
   "metadata": {
    "collapsed": true
   },
   "outputs": [],
   "source": [
    "condition1_map = {\"Norm\": 0, \"Feedr\": 1, \"Artery\": 1, \"RRAn\": 1, \"PosN\": 1,\n",
    "                 \"RRAe\": 1, \"PosA\": 1, \"RRNn\": 1, \"RRNe\": 1 }\n",
    "\n",
    "for dataset in full_data:\n",
    "    dataset['Condition1'] = dataset['Condition1'].map(condition1_map)"
   ]
  },
  {
   "cell_type": "markdown",
   "metadata": {},
   "source": [
    "#### BldgType: Type of dwelling"
   ]
  },
  {
   "cell_type": "code",
   "execution_count": 16,
   "metadata": {
    "collapsed": true
   },
   "outputs": [],
   "source": [
    "bldg_type_map = {\"1Fam\": 0, \"TwnhsE\": 1, \"Duplex\": 2, \"Twnhs\": 2, \"2fmCon\": 2}\n",
    "\n",
    "for dataset in full_data:\n",
    "    dataset['BldgType'] = dataset['BldgType'].map(bldg_type_map)"
   ]
  },
  {
   "cell_type": "markdown",
   "metadata": {},
   "source": [
    "#### HouseStyle: Style of dwelling"
   ]
  },
  {
   "cell_type": "code",
   "execution_count": 17,
   "metadata": {
    "collapsed": true
   },
   "outputs": [],
   "source": [
    "house_style_map = {\"1Story\": 0, \"2Story\": 1, \"1.5Fin\": 2, \"SLvl\": 3, \"SFoyer\": 3,\n",
    "                \"1.5Unf\": 3, \"2.5Unf\": 3, \"2.5Fin\": 3}\n",
    "\n",
    "for dataset in full_data:\n",
    "    dataset['HouseStyle'] = dataset['HouseStyle'].map(house_style_map)"
   ]
  },
  {
   "cell_type": "markdown",
   "metadata": {},
   "source": [
    "#### Fence: Fence quality"
   ]
  },
  {
   "cell_type": "code",
   "execution_count": 18,
   "metadata": {
    "collapsed": true
   },
   "outputs": [],
   "source": [
    "fence_map = {\"MnPrv\": 1, \"GdPrv\": 2, \"GdWo\": 3, \"MnWw\": 0}\n",
    "\n",
    "for dataset in full_data:\n",
    "    dataset['Fence'] = dataset['Fence'].map(fence_map)\n",
    "    \n",
    "training_data[\"Fence\"].fillna(0, inplace=True)\n",
    "testing_data[\"Fence\"].fillna(0, inplace=True)"
   ]
  },
  {
   "cell_type": "markdown",
   "metadata": {},
   "source": [
    "#### Electrical: Electrical system"
   ]
  },
  {
   "cell_type": "code",
   "execution_count": 19,
   "metadata": {
    "collapsed": true
   },
   "outputs": [],
   "source": [
    "electrical_map = {\"SBrkr\": 1, \"FuseA\": 2, \"FuseF\": 0, \"FuseP\": 0, \"Mix\": 0}\n",
    "\n",
    "for dataset in full_data:\n",
    "    dataset['Electrical'] = dataset['Electrical'].map(electrical_map)"
   ]
  },
  {
   "cell_type": "markdown",
   "metadata": {},
   "source": [
    "#### CentralAir: Central air conditioning"
   ]
  },
  {
   "cell_type": "code",
   "execution_count": 20,
   "metadata": {
    "collapsed": true
   },
   "outputs": [],
   "source": [
    "central_air_map = {\"N\": 0, \"Y\": 1}\n",
    "\n",
    "for dataset in full_data:\n",
    "    dataset['CentralAir'] = dataset['CentralAir'].map(central_air_map)"
   ]
  },
  {
   "cell_type": "markdown",
   "metadata": {},
   "source": [
    "#### BsmtFinType1: Quality of basement finished area"
   ]
  },
  {
   "cell_type": "code",
   "execution_count": 21,
   "metadata": {
    "collapsed": true
   },
   "outputs": [],
   "source": [
    "bsmt_fin_typ1_map = {\"Unf\": 0, \"LwQ\": 1, \"Rec\": 2, \"BLQ\": 3, \"ALQ\": 4, \"GLQ\": 5}\n",
    "\n",
    "for dataset in full_data:\n",
    "    dataset['BsmtFinType1'] = dataset['BsmtFinType1'].map(bsmt_fin_typ1_map)"
   ]
  },
  {
   "cell_type": "code",
   "execution_count": 22,
   "metadata": {
    "collapsed": true
   },
   "outputs": [],
   "source": [
    "qual_map = {\"Po\": 0, \"Fa\": 1, \"TA\": 2, \"Gd\": 3, \"Ex\": 4}\n",
    "\n",
    "qual_cols = ['BsmtQual', 'BsmtCond', 'GarageCond', 'GarageQual', 'HeatingQC', 'KitchenQual']\n",
    "\n",
    "for dataset in full_data:\n",
    "    for col in qual_cols:\n",
    "        dataset[col] = dataset[col].map(qual_map)"
   ]
  },
  {
   "cell_type": "markdown",
   "metadata": {},
   "source": [
    "#### Functional: Home functionality (Assume typical unless deductions are warranted)"
   ]
  },
  {
   "cell_type": "code",
   "execution_count": 23,
   "metadata": {
    "collapsed": true
   },
   "outputs": [],
   "source": [
    "functional_map = {\"Typ\": 0, \"Min1\": 1, \"Min2\": 1, \"Mod\": 2, \"Maj1\": 3, \"Maj2\": 3, 'Sev': 4}\n",
    "\n",
    "for dataset in full_data:\n",
    "    dataset['Functional'] = dataset['Functional'].map(functional_map)"
   ]
  },
  {
   "cell_type": "markdown",
   "metadata": {},
   "source": [
    "#### BsmtExposure: Refers to walkout or garden level walls"
   ]
  },
  {
   "cell_type": "code",
   "execution_count": 24,
   "metadata": {
    "collapsed": true
   },
   "outputs": [],
   "source": [
    "bsmt_exposure_map = {\"No\": 0, \"Mn\": 1, \"Av\": 2, \"Gd\": 3}\n",
    "\n",
    "for dataset in full_data:\n",
    "    dataset['BsmtExposure'] = dataset['BsmtExposure'].map(bsmt_exposure_map)"
   ]
  },
  {
   "cell_type": "markdown",
   "metadata": {},
   "source": [
    "### Predictions!!"
   ]
  },
  {
   "cell_type": "code",
   "execution_count": 25,
   "metadata": {},
   "outputs": [
    {
     "data": {
      "text/plain": [
       "45"
      ]
     },
     "execution_count": 25,
     "metadata": {},
     "output_type": "execute_result"
    }
   ],
   "source": [
    "# ignoring street, Utilities, Condition2\n",
    "\n",
    "predictor_cols = ['1stFlrSF','2ndFlrSF', 'Alley', 'BedroomAbvGr', 'BldgType', 'BsmtCond', 'BsmtFinType1',\n",
    "                  'BsmtQual', 'CentralAir', 'Condition1', 'Electrical',\n",
    "                  'Fence', 'Fireplaces', 'FullBath', 'GarageArea',\n",
    "                 'GarageCars', 'GarageQual', 'GrLivArea', 'HalfBath', 'HeatingQC', \n",
    "                  'HouseStyle', 'KitchenAbvGr',\n",
    "                  'LandSlope', 'LotArea', 'LotConfig',\n",
    "                 'LotFrontage', 'LotShape', 'LowQualFinSF', 'MiscVal', 'MSSubClass', 'MSZoning', 'MoSold', 'Neighborhood', 'OpenPorchSF',\n",
    "                 'OverallCond', 'OverallQual', 'SaleCondition', 'SaleType', 'ScreenPorch', 'TotRmsAbvGrd', \n",
    "                  'TotalBsmtSF', 'WoodDeckSF', 'YearBuilt', 'YearRemodAdd', 'YrSold']\n",
    "\n",
    "train_x = training_data[predictor_cols]\n",
    "train_y = training_data.SalePrice\n",
    "test_x = testing_data[predictor_cols]\n",
    "\n",
    "len(predictor_cols)"
   ]
  },
  {
   "cell_type": "markdown",
   "metadata": {},
   "source": [
    "### Cross Validation scores\n",
    "\n",
    "Using r2\n",
    "XGBoost\n",
    "- 18 predictors = 0.7702056269772473\n",
    "- 24 predictors = 0.8018358449730526\n",
    "- 27 predictors = 0.8299348333411789\n",
    "- 29 predictors = 0.8479059750863349\n",
    "- 38 predictors = 0.8685503276750433\n",
    "- 41 predictors = 0.8883098714862785"
   ]
  },
  {
   "cell_type": "code",
   "execution_count": 26,
   "metadata": {},
   "outputs": [
    {
     "name": "stdout",
     "output_type": "stream",
     "text": [
      "[0.88687809 0.87913453 0.9068024  0.89389989 0.79648544 0.9067508\n",
      " 0.90139583 0.91060863 0.91411462 0.89434769]\n",
      "\n",
      "Average is ...\n",
      "0.8890417919221552\n"
     ]
    }
   ],
   "source": [
    "k_fold = KFold(n_splits=10, shuffle=True, random_state=0)\n",
    "\n",
    "pipeline = make_pipeline(Imputer(), XGBRegressor())\n",
    "\n",
    "scoring = 'accuracy'\n",
    "score = cross_val_score(pipeline, train_x, train_y, cv=k_fold, n_jobs=1, scoring=\"r2\")\n",
    "print(score)\n",
    "print(\"\\nAverage is ...\")\n",
    "print(sum(score) / len(score))"
   ]
  },
  {
   "cell_type": "code",
   "execution_count": 101,
   "metadata": {
    "collapsed": true
   },
   "outputs": [],
   "source": [
    "pipeline.fit(train_x, train_y)\n",
    "prediction = pipeline.predict(test_x)\n",
    "\n",
    "submission = pd.DataFrame({\n",
    "        \"Id\": testing_data[\"Id\"],\n",
    "        \"SalePrice\": prediction\n",
    "    })\n",
    "\n",
    "submission.to_csv('/Users/pbezuhov/git/Kaggle/submissions/9_tuning_params.csv', index=False)"
   ]
  },
  {
   "cell_type": "code",
   "execution_count": null,
   "metadata": {
    "collapsed": true
   },
   "outputs": [],
   "source": []
  }
 ],
 "metadata": {
  "kernelspec": {
   "display_name": "Python 3",
   "language": "python",
   "name": "python3"
  },
  "language_info": {
   "codemirror_mode": {
    "name": "ipython",
    "version": 3
   },
   "file_extension": ".py",
   "mimetype": "text/x-python",
   "name": "python",
   "nbconvert_exporter": "python",
   "pygments_lexer": "ipython3",
   "version": "3.6.3"
  }
 },
 "nbformat": 4,
 "nbformat_minor": 2
}
