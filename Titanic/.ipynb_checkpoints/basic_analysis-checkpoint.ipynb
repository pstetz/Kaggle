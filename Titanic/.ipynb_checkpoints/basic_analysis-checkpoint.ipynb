{
 "cells": [
  {
   "cell_type": "code",
   "execution_count": 1,
   "metadata": {
    "collapsed": true
   },
   "outputs": [],
   "source": [
    "import numpy as np\n",
    "import pandas as pd\n",
    "import os\n",
    "import matplotlib.pyplot as plt\n",
    "import seaborn\n",
    "\n",
    "train = pd.read_csv('data/train.csv')\n",
    "test = pd.read_csv('data/test.csv')"
   ]
  },
  {
   "cell_type": "markdown",
   "metadata": {},
   "source": [
    "# Differences by gender"
   ]
  },
  {
   "cell_type": "code",
   "execution_count": 8,
   "metadata": {},
   "outputs": [
    {
     "name": "stdout",
     "output_type": "stream",
     "text": [
      "females 0.7420382165605095\n",
      "males 0.18890814558058924\n"
     ]
    }
   ],
   "source": [
    "data_women = train[train['Sex'] == 'female']\n",
    "data_men = train[train['Sex'] == 'male']\n",
    "females = data_women['Survived'].sum() / data_women['Survived'].count()\n",
    "males = data_men['Survived'].sum() / data_men['Survived'].count()\n",
    "print(\"females\", females)\n",
    "print(\"males\", males)"
   ]
  },
  {
   "cell_type": "markdown",
   "metadata": {},
   "source": [
    "# Differences by class"
   ]
  },
  {
   "cell_type": "code",
   "execution_count": 9,
   "metadata": {},
   "outputs": [
    {
     "name": "stdout",
     "output_type": "stream",
     "text": [
      "first 0.6296296296296297\n",
      "mid 0.47282608695652173\n",
      "low 0.24236252545824846\n"
     ]
    }
   ],
   "source": [
    "data_first = train[train['Pclass'] == 1]\n",
    "data_mid = train[train['Pclass'] == 2]\n",
    "data_low = train[train['Pclass'] == 3]\n",
    "first = data_first['Survived'].sum() / data_first['Survived'].count()\n",
    "mid = data_mid['Survived'].sum() / data_mid['Survived'].count()\n",
    "low = data_low['Survived'].sum() / data_low['Survived'].count()\n",
    "print(\"first\", first)\n",
    "print(\"mid\", mid)\n",
    "print(\"low\", low)"
   ]
  },
  {
   "cell_type": "markdown",
   "metadata": {},
   "source": [
    "# Differences by embarkment"
   ]
  },
  {
   "cell_type": "code",
   "execution_count": 10,
   "metadata": {},
   "outputs": [
    {
     "name": "stdout",
     "output_type": "stream",
     "text": [
      "cher 0.5535714285714286\n",
      "queen 0.38961038961038963\n",
      "south 0.33695652173913043\n"
     ]
    }
   ],
   "source": [
    "data_cher = train[train[\"Embarked\"] == \"C\"]\n",
    "data_queen = train[train[\"Embarked\"] == \"Q\"]\n",
    "data_south = train[train[\"Embarked\"] == \"S\"]\n",
    "cher = data_cher['Survived'].sum() / data_cher['Survived'].count()\n",
    "queen = data_queen['Survived'].sum() / data_queen['Survived'].count()\n",
    "south = data_south['Survived'].sum() / data_south['Survived'].count()\n",
    "print('cher', cher)\n",
    "print('queen', queen)\n",
    "print('south', south)"
   ]
  },
  {
   "cell_type": "markdown",
   "metadata": {},
   "source": [
    "# Differences by age"
   ]
  },
  {
   "cell_type": "code",
   "execution_count": 11,
   "metadata": {},
   "outputs": [
    {
     "name": "stdout",
     "output_type": "stream",
     "text": [
      "young 0.68\n",
      "avg 0.3874425727411945\n",
      "old 0.2\n"
     ]
    }
   ],
   "source": [
    "young_cutoff = 8\n",
    "old_cutoff = 70\n",
    "data_young = train[train['Age'] < young_cutoff]\n",
    "data_avg = train[(train['Age'] > young_cutoff) & (train['Age'] < old_cutoff)]\n",
    "data_old = train[train['Age'] > old_cutoff]\n",
    "young = data_young['Survived'].sum() / data_young['Survived'].count()\n",
    "avg = data_avg['Survived'].sum() / data_avg['Survived'].count()\n",
    "old = data_old['Survived'].sum() / data_old['Survived'].count()\n",
    "print('young', young)\n",
    "print('avg', avg)\n",
    "print('old', old)"
   ]
  },
  {
   "cell_type": "code",
   "execution_count": null,
   "metadata": {
    "collapsed": true
   },
   "outputs": [],
   "source": []
  }
 ],
 "metadata": {
  "kernelspec": {
   "display_name": "Python 3",
   "language": "python",
   "name": "python3"
  },
  "language_info": {
   "codemirror_mode": {
    "name": "ipython",
    "version": 3
   },
   "file_extension": ".py",
   "mimetype": "text/x-python",
   "name": "python",
   "nbconvert_exporter": "python",
   "pygments_lexer": "ipython3",
   "version": "3.6.3"
  }
 },
 "nbformat": 4,
 "nbformat_minor": 2
}
