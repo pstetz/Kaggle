{
 "cells": [
  {
   "cell_type": "markdown",
   "metadata": {},
   "source": [
    "Imports"
   ]
  },
  {
   "cell_type": "code",
   "execution_count": 2,
   "metadata": {
    "collapsed": true
   },
   "outputs": [],
   "source": [
    "import numpy as np\n",
    "import pandas as pd\n",
    "\n",
    "import warnings\n",
    "warnings.filterwarnings('ignore')"
   ]
  },
  {
   "cell_type": "markdown",
   "metadata": {},
   "source": [
    "Data"
   ]
  },
  {
   "cell_type": "code",
   "execution_count": 28,
   "metadata": {},
   "outputs": [
    {
     "name": "stdout",
     "output_type": "stream",
     "text": [
      "Shape of train: (371, 7)\n",
      "Shape of test: (529, 6)\n"
     ]
    }
   ],
   "source": [
    "train = pd.read_csv(\"../data/ghouls/train.csv\")\n",
    "test = pd.read_csv(\"../data/ghouls/test.csv\")\n",
    "\n",
    "print(\"Shape of train: {}\".format(train.shape))\n",
    "print(\"Shape of test: {}\".format(test.shape))\n",
    "\n",
    "train_id = train.id\n",
    "test_id = test.id\n",
    "train_type = train.type.map({\"Ghoul\": 0, \"Goblin\": 1, \"Ghost\": 2})\n",
    "\n",
    "train = train.drop([\"id\", \"type\"], axis=1)\n",
    "test = test.drop(\"id\", axis=1)\n",
    "\n",
    "train = pd.get_dummies(train)\n",
    "test = pd.get_dummies(test)"
   ]
  },
  {
   "cell_type": "code",
   "execution_count": 29,
   "metadata": {},
   "outputs": [
    {
     "name": "stdout",
     "output_type": "stream",
     "text": [
      "[0.64516129 0.59677419 0.6097561 ]\n",
      "\n",
      "Average is ...\n",
      "0.6172305271439811\n"
     ]
    }
   ],
   "source": [
    "from sklearn.svm import SVC\n",
    "from sklearn.pipeline import make_pipeline\n",
    "from sklearn.preprocessing import Imputer\n",
    "\n",
    "from sklearn.model_selection import KFold\n",
    "from sklearn.model_selection import cross_val_score\n",
    "\n",
    "pipeline = make_pipeline(Imputer(), SVC())\n",
    "\n",
    "k_fold = KFold()\n",
    "\n",
    "score = cross_val_score(pipeline, train, train_type, cv=k_fold, n_jobs=1, scoring=\"accuracy\")\n",
    "print(score)\n",
    "print(\"\\nAverage is ...\")\n",
    "print(sum(score) / len(score))"
   ]
  },
  {
   "cell_type": "code",
   "execution_count": 30,
   "metadata": {
    "collapsed": true
   },
   "outputs": [],
   "source": [
    "pipeline.fit(train, train_type)\n",
    "prediction = pipeline.predict(test)"
   ]
  },
  {
   "cell_type": "code",
   "execution_count": 33,
   "metadata": {},
   "outputs": [],
   "source": [
    "import numpy as np\n",
    "\n",
    "ghoul_map = {0: \"Ghoul\", 1: \"Goblin\", 2: \"Ghost\"}\n",
    "mapper = lambda t: ghoul_map[t]\n",
    "\n",
    "vfunc = np.vectorize(mapper)\n",
    "prediction = vfunc(prediction)"
   ]
  },
  {
   "cell_type": "code",
   "execution_count": 34,
   "metadata": {},
   "outputs": [],
   "source": [
    "submission = pd.DataFrame({\n",
    "    'id': test_id,\n",
    "    'type': prediction\n",
    "})\n",
    "\n",
    "submission.to_csv('/Users/pbezuhov/git/Kaggle/submissions/2_ghouls_svc.csv',index=False)"
   ]
  },
  {
   "cell_type": "code",
   "execution_count": null,
   "metadata": {
    "collapsed": true
   },
   "outputs": [],
   "source": []
  }
 ],
 "metadata": {
  "kernelspec": {
   "display_name": "Python 3",
   "language": "python",
   "name": "python3"
  },
  "language_info": {
   "codemirror_mode": {
    "name": "ipython",
    "version": 3
   },
   "file_extension": ".py",
   "mimetype": "text/x-python",
   "name": "python",
   "nbconvert_exporter": "python",
   "pygments_lexer": "ipython3",
   "version": "3.6.3"
  }
 },
 "nbformat": 4,
 "nbformat_minor": 2
}
