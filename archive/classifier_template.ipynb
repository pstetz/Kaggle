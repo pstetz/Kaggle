{
 "cells": [
  {
   "cell_type": "markdown",
   "metadata": {},
   "source": [
    "<a id=\"toc\"></a>\n",
    "\n",
    "# <u>Table of Contents</u>\n",
    "1.) [Imports](#imports)  \n",
    "2.) [Load data](#load)  \n",
    "3.) [Quick Overview](#overview)  \n",
    "&nbsp;&nbsp;&nbsp;&nbsp; 3.1.) [Boring columns](#boring)  \n",
    "&nbsp;&nbsp;&nbsp;&nbsp; 3.2.) [Missing Values](#nan)  \n",
    "&nbsp;&nbsp;&nbsp;&nbsp; 3.3.) [Fill in missing values](#fillnan)  \n",
    "&nbsp;&nbsp;&nbsp;&nbsp; 3.4.) [Correlation Map](#corr)  \n",
    "4.) [Target varable - ](#target)  \n",
    "5.) [Categorical columns](#cat)  \n",
    "&nbsp;&nbsp;&nbsp;&nbsp; 5.1.) [Unique values](#cat_unique)  \n",
    "&nbsp;&nbsp;&nbsp;&nbsp; 5.2.) [Get dummies](#cat_dummies)  \n",
    "6.) [Numerical columns](#num)  \n",
    "7.) [Modeling](#model)  \n",
    "&nbsp;&nbsp;&nbsp;&nbsp; 7.1.) [Machine learning imports](#ml_imports)  \n",
    "&nbsp;&nbsp;&nbsp;&nbsp; 7.2.) [Many model evaluation](#model_eval)  \n",
    "&nbsp;&nbsp;&nbsp;&nbsp; 7.3.) [Ada Boost](#ada_model)  \n",
    "&nbsp;&nbsp;&nbsp;&nbsp; 7.4.) [Decision Tree](#dtc_model)  \n",
    "&nbsp;&nbsp;&nbsp;&nbsp; 7.5.) [Extra Trees](#etc_model)  \n",
    "&nbsp;&nbsp;&nbsp;&nbsp; 7.6.) [Gaussian Naive Bayes](#gnb_model)  \n",
    "&nbsp;&nbsp;&nbsp;&nbsp; 7.7.) [Gradient Boost](#gbc_model)  \n",
    "&nbsp;&nbsp;&nbsp;&nbsp; 7.8.) [K Nearest Neighbors](#knn_model)  \n",
    "&nbsp;&nbsp;&nbsp;&nbsp; 7.9.) [Light Gradient Boost](#lgb_model)  \n",
    "&nbsp;&nbsp;&nbsp;&nbsp; 7.10.) [Linear Discriminant Analysis](#lin_model)  \n",
    "&nbsp;&nbsp;&nbsp;&nbsp; 7.11.) [Logistic](#log_model)  \n",
    "&nbsp;&nbsp;&nbsp;&nbsp; 7.12.) [Multiple Layer Perceptron](#mlp_model)  \n",
    "&nbsp;&nbsp;&nbsp;&nbsp; 7.13.) [Random Forest Classifier](#rfc_model)  \n",
    "&nbsp;&nbsp;&nbsp;&nbsp; 7.14.) [SVC](#svc_model)  \n",
    "&nbsp;&nbsp;&nbsp;&nbsp; 7.15.) [XGB Classifier](#xgb_model)  \n",
    "&nbsp;&nbsp;&nbsp;&nbsp; 7.16.) [Voting classifier](#vote)  \n",
    "8.) [Feature Importance](#feat_importance)  "
   ]
  },
  {
   "cell_type": "markdown",
   "metadata": {},
   "source": [
    "---\n",
    "<a id=\"imports\"></a>\n",
    "\n",
    "# [^](#toc) <u>Imports</u>"
   ]
  },
  {
   "cell_type": "code",
   "execution_count": 1,
   "metadata": {
    "collapsed": true
   },
   "outputs": [],
   "source": [
    "### Standard imports\n",
    "import pandas as pd\n",
    "import numpy as np\n",
    "\n",
    "# Plotting imports\n",
    "import matplotlib.pyplot as plt\n",
    "import seaborn as sns\n",
    "sns.set()\n",
    "%matplotlib inline\n",
    "\n",
    "# Time keeper\n",
    "import time\n",
    "\n",
    "# Datetime library\n",
    "from datetime import datetime\n",
    "\n",
    "### Removes warnings from output\n",
    "import warnings\n",
    "warnings.filterwarnings('ignore')"
   ]
  },
  {
   "cell_type": "markdown",
   "metadata": {},
   "source": [
    "### Styling helpers"
   ]
  },
  {
   "cell_type": "code",
   "execution_count": 2,
   "metadata": {
    "collapsed": true
   },
   "outputs": [],
   "source": [
    "# A short hand way to plot most bar graphs\n",
    "def pretty_bar(data, ax, xlabel=None, ylabel=None, title=None, int_text=False):\n",
    "    \n",
    "    # Plots the data\n",
    "    fig = sns.barplot(data.values, data.index, ax=ax)\n",
    "    \n",
    "    # Places text for each value in data\n",
    "    for i, v in enumerate(data.values):\n",
    "        \n",
    "        # Decides whether the text should be rounded or left as floats\n",
    "        if int_text:\n",
    "            ax.text(0, i, int(v), color='k', fontsize=14)\n",
    "        else:\n",
    "            ax.text(0, i, round(v, 3), color='k', fontsize=14)\n",
    "     \n",
    "    ### Labels plot\n",
    "    ylabel != None and fig.set(ylabel=ylabel)\n",
    "    xlabel != None and fig.set(xlabel=xlabel)\n",
    "    title != None and fig.set(title=title)\n",
    "\n",
    "    \n",
    "### Used to style Python print statements\n",
    "class color:\n",
    "    BOLD = '\\033[1m'\n",
    "    UNDERLINE = '\\033[4m'\n",
    "    END = '\\033[0m'"
   ]
  },
  {
   "cell_type": "markdown",
   "metadata": {},
   "source": [
    "---\n",
    "<a id=\"load\"></a>\n",
    "\n",
    "# [^](#toc) <u>Load data</u>"
   ]
  },
  {
   "cell_type": "code",
   "execution_count": 3,
   "metadata": {
    "collapsed": true
   },
   "outputs": [],
   "source": [
    "DATA_PATH = \"\"\n",
    "\n",
    "# Parses the time values as the data is read\n",
    "dateparse = lambda x: pd.datetime.strptime(x, \"%Y-%m-%d\")\n",
    "\n",
    "# Load data\n",
    "train = pd.read_csv(DATA_PATH + \"train.csv\", parse_dates=['date'], date_parser=dateparse)\n",
    "test  = pd.read_csv(DATA_PATH + \"test.csv\",  parse_dates=['date'], date_parser=dateparse)\n",
    "\n",
    "print(\"Shape of train data:\", train.shape, \"\\n\")\n",
    "print(\"Shape of test data:\" , test.shape,  \"\\n\")\n",
    "\n",
    "### Categorical columns\n",
    "cat_columns = [col for col in train.columns if train[col].dtype == object]\n",
    "print(\"{}Categorical columns:{}\".format(color.UNDERLINE, color.END))\n",
    "print(\" --- \".join(cat_columns))\n",
    "\n",
    "### Numerical columns\n",
    "num_columns = [col for col in train.columns if train[col].dtype != object]\n",
    "print(\"{}Numerical columns:{}\".format(color.UNDERLINE, color.END))\n",
    "print(\" --- \".join(num_columns))\n",
    "\n",
    "train.head()"
   ]
  },
  {
   "cell_type": "markdown",
   "metadata": {},
   "source": [
    "---\n",
    "<a id=\"overview\"></a>\n",
    "\n",
    "# [^](#toc) <u>Quick Overview</u>"
   ]
  },
  {
   "cell_type": "markdown",
   "metadata": {},
   "source": [
    "### Split into id, target, and predictors"
   ]
  },
  {
   "cell_type": "code",
   "execution_count": 6,
   "metadata": {
    "collapsed": true
   },
   "outputs": [],
   "source": [
    "train_y  = train.\n",
    "train_x  = train.drop([], axis=1)\n",
    "\n",
    "test_id  = test.\n",
    "test_x   = test.drop([], axis=1)\n",
    "\n",
    "### Combine predictors\n",
    "full = pd.concat([train_x, test_x])\n",
    "train_N = len(train_x)"
   ]
  },
  {
   "cell_type": "markdown",
   "metadata": {},
   "source": [
    "<a id=\"boring\"></a>\n",
    "\n",
    "### [^](#toc) Boring columns"
   ]
  },
  {
   "cell_type": "code",
   "execution_count": 4,
   "metadata": {
    "collapsed": true
   },
   "outputs": [],
   "source": [
    "for col in train_x.columns:\n",
    "    unique_vals = train_x[col].unique()\n",
    "    if len(unique_vals) < 3:\n",
    "        print(col, unique_vals)"
   ]
  },
  {
   "cell_type": "markdown",
   "metadata": {},
   "source": [
    "<a id=\"nan\"></a>\n",
    "\n",
    "### [^](#toc) Missing values"
   ]
  },
  {
   "cell_type": "code",
   "execution_count": 5,
   "metadata": {
    "collapsed": true,
    "scrolled": true
   },
   "outputs": [],
   "source": [
    "temp = train_x.isnull().sum()\n",
    "temp[temp > 0]"
   ]
  },
  {
   "cell_type": "markdown",
   "metadata": {},
   "source": [
    "#### Drop all unneeded columns"
   ]
  },
  {
   "cell_type": "code",
   "execution_count": 6,
   "metadata": {
    "collapsed": true,
    "scrolled": true
   },
   "outputs": [],
   "source": [
    "drop_columns = [col for col in train_x.columns if all(train_x[col].isnull())]\n",
    "train_x = train_x.drop(drop_columns, axis=1)\n",
    "\n",
    "# Look at missing values again\n",
    "temp = train_x.isnull().sum()\n",
    "temp[temp > 0]"
   ]
  },
  {
   "cell_type": "markdown",
   "metadata": {},
   "source": [
    "<a id=\"fillnan\"></a>\n",
    "\n",
    "### [^](#toc) Fill in missing values"
   ]
  },
  {
   "cell_type": "code",
   "execution_count": 11,
   "metadata": {},
   "outputs": [
    {
     "data": {
      "text/plain": [
       "0"
      ]
     },
     "execution_count": 11,
     "metadata": {},
     "output_type": "execute_result"
    }
   ],
   "source": [
    "# Put \"NaN\" for all categorical missing values\n",
    "categorical_cols = [col for col in train_x.columns if train_x[col].dtype == object]\n",
    "for col in categorical_cols:\n",
    "    train_x[col] = train_x[col].fillna(\"NaN\")\n",
    "\n",
    "# Put median for missing values in numeric columns and create flag for missing values\n",
    "numerical_cols = [col for col in train_x.columns if any(train_x[col].isnull()) and train_x[col].dtype != object]\n",
    "for col in numerical_cols:\n",
    "    train_x[col + \"_nan\"] = train_x[col].map(lambda x: 1 if np.isnan(x) else 0)\n",
    "    train_x[col]          = train_x[col].fillna(train_x[col].median())\n",
    "    \n",
    "sum(train_x.isnull().sum())"
   ]
  },
  {
   "cell_type": "markdown",
   "metadata": {},
   "source": [
    "<a id=\"corr\"></a>\n",
    "\n",
    "### [^](#toc) Correlation Map"
   ]
  },
  {
   "cell_type": "code",
   "execution_count": 7,
   "metadata": {
    "collapsed": true
   },
   "outputs": [],
   "source": [
    "f, ax = plt.subplots(figsize=(15, 15))\n",
    "\n",
    "cols = [col for col in train_x.columns if \"_nan\" not in col]\n",
    "_ = sns.heatmap(train_x[cols].corr(), vmax=.8, cmap=\"coolwarm\")"
   ]
  },
  {
   "cell_type": "markdown",
   "metadata": {},
   "source": [
    "---\n",
    "<a id=\"target\"></a>\n",
    "\n",
    "# [^](#toc) <u>Target varable</u>"
   ]
  },
  {
   "cell_type": "code",
   "execution_count": 8,
   "metadata": {
    "collapsed": true
   },
   "outputs": [],
   "source": [
    "fig, ax = plt.subplots(1, 1, figsize=(14, 6))\n",
    "temp = train_y.value_counts()\n",
    "pretty_bar(temp, ax, title=\"\", xlabel=\"Counts\", ylabel=\"\")"
   ]
  },
  {
   "cell_type": "markdown",
   "metadata": {},
   "source": [
    "---\n",
    "<a id=\"cat\"></a>\n",
    "\n",
    "# [^](#toc) <u>Categorical columns</u>"
   ]
  },
  {
   "cell_type": "markdown",
   "metadata": {},
   "source": [
    "<a id=\"cat_unique\"></a>\n",
    "\n",
    "### [^](#toc) Unique values"
   ]
  },
  {
   "cell_type": "code",
   "execution_count": 9,
   "metadata": {
    "collapsed": true
   },
   "outputs": [],
   "source": [
    "cat_cols = [col for col in train_x.columns if train_x[col].dtype == object]\n",
    "for col in cat_cols:\n",
    "    print(col, len(train_x[col].unique()))"
   ]
  },
  {
   "cell_type": "markdown",
   "metadata": {},
   "source": [
    "<a id=\"cat_dummies\"></a>\n",
    "\n",
    "### [^](#toc) Get dummies\n",
    "\n",
    "To use the categorical columns for modeling, I'm going to create dummy variables for all the categorical column values"
   ]
  },
  {
   "cell_type": "code",
   "execution_count": 10,
   "metadata": {
    "collapsed": true
   },
   "outputs": [],
   "source": [
    "train_x = pd.get_dummies(train_x)\n",
    "train_x.head()"
   ]
  },
  {
   "cell_type": "markdown",
   "metadata": {},
   "source": [
    "---\n",
    "<a id=\"num\"></a>\n",
    "\n",
    "# [^](#toc) <u>Numerical columns</u>"
   ]
  },
  {
   "cell_type": "code",
   "execution_count": null,
   "metadata": {
    "collapsed": true
   },
   "outputs": [],
   "source": []
  },
  {
   "cell_type": "markdown",
   "metadata": {},
   "source": []
  },
  {
   "cell_type": "code",
   "execution_count": null,
   "metadata": {
    "collapsed": true
   },
   "outputs": [],
   "source": [
    "### Separate into train and test\n",
    "train_x = full[:train_N]\n",
    "test_x  = full[train_N:]"
   ]
  },
  {
   "cell_type": "markdown",
   "metadata": {},
   "source": [
    "---\n",
    "<a id=\"model\"></a>\n",
    "\n",
    "# [^](#toc) Modeling"
   ]
  },
  {
   "cell_type": "markdown",
   "metadata": {},
   "source": [
    "<a id=\"ml_imports\"></a>\n",
    "\n",
    "### [^](#toc) Machine learning imports"
   ]
  },
  {
   "cell_type": "code",
   "execution_count": 23,
   "metadata": {
    "collapsed": true
   },
   "outputs": [],
   "source": [
    "### Massive amounts of model imports\n",
    "\n",
    "# Classifiers\n",
    "from sklearn.ensemble import RandomForestClassifier, AdaBoostClassifier, GradientBoostingClassifier, ExtraTreesClassifier, VotingClassifier\n",
    "from sklearn.discriminant_analysis import LinearDiscriminantAnalysis\n",
    "from sklearn.linear_model import LogisticRegression\n",
    "from sklearn.naive_bayes import GaussianNB\n",
    "from sklearn.neighbors import KNeighborsClassifier\n",
    "from sklearn.svm import SVC\n",
    "from sklearn.tree import DecisionTreeClassifier\n",
    "from xgboost import XGBClassifier\n",
    "from lightgbm import LGBMClassifier\n",
    "from sklearn.neural_network import MLPClassifier\n",
    "\n",
    "# Helpers\n",
    "from sklearn.model_selection import KFold, cross_val_score, GridSearchCV, StratifiedKFold, learning_curve\n",
    "from sklearn.pipeline import make_pipeline\n",
    "from sklearn.preprocessing import Imputer\n",
    "\n",
    "kfold = StratifiedKFold()\n",
    "\n",
    "def score_model(model):\n",
    "    score = cross_val_score(model, train_x, train_y, cv=kfold, n_jobs=1, scoring=\"accuracy\")\n",
    "    print(score)\n",
    "    print(\"\\nAverage is ...\")\n",
    "    print(sum(score) / len(score))"
   ]
  },
  {
   "cell_type": "markdown",
   "metadata": {},
   "source": [
    "<a id=\"model_eval\"></a>\n",
    "\n",
    "### [^](#toc) Many model evaluation\n",
    "\n",
    "This just gives an idea of what model will be the best performer."
   ]
  },
  {
   "cell_type": "code",
   "execution_count": null,
   "metadata": {
    "collapsed": true
   },
   "outputs": [],
   "source": [
    "# Modeling step Test differents algorithms \n",
    "classifiers = [\n",
    "                AdaBoostClassifier(\n",
    "                    DecisionTreeClassifier(random_state = 17),\n",
    "                    random_state = 17, learning_rate = 0.1\n",
    "                ),\n",
    "                DecisionTreeClassifier(random_state = 17),\n",
    "                ExtraTreesClassifier(random_state = 17),\n",
    "                GaussianNB(random_state = 17),\n",
    "    \n",
    "                GradientBoostingClassifier(random_state=17),\n",
    "                KNeighborsClassifier(),\n",
    "                LGBMClassifier(),\n",
    "                LinearDiscriminantAnalysis(),\n",
    "    \n",
    "                LogisticRegression(random_state = 17),\n",
    "                MLPClassifier(random_state = 17),\n",
    "                RandomForestClassifier(random_state = 17),\n",
    "                SVC(random_state=17),\n",
    "    \n",
    "                XGBClassifier()\n",
    "              ]\n",
    "\n",
    "cv_results = [cross_val_score(classifier, train_x, y=train_y, scoring=\"accuracy\", cv=kfold) for classifier in classifiers]\n",
    "\n",
    "cv_means = [cv_result.mean() for cv_result in cv_results]\n",
    "cv_std = [cv_result.std() for cv_result in cv_results]\n",
    "\n",
    "cv_results = pd.DataFrame({\n",
    "                        \"CrossValMeans\":cv_means,\n",
    "                        \"CrossValerrors\": cv_std,\n",
    "                        \"Algorithm\":[\n",
    "                            \"AdaBoost\",\n",
    "                            \"DecisionTree\",\n",
    "                            \"ExtraTrees\",\n",
    "                            \"GaussianNaiveBayes\",\n",
    "                            \n",
    "                            \"GradientBoosting\",\n",
    "                            \"KNeighboors\",\n",
    "                            \"LGBM\",\n",
    "                            \"LinearDiscriminantAnalysis\",\n",
    "                            \n",
    "                            \"LogisticRegression\",\n",
    "                            \"MultipleLayerPerceptron\",\n",
    "                            \"RandomForest\",\n",
    "                            \"SVC\",\n",
    "                            \n",
    "                            \"XGB\"\n",
    "                        ]})\n",
    "\n",
    "sns.barplot(\"CrossValMeans\",\"Algorithm\", data=cv_results, palette=\"Set3\", orient=\"h\", **{'xerr':cv_std})\n",
    "plt.xlabel(\"Mean Accuracy\")\n",
    "_ = plt.title(\"Cross validation scores\")"
   ]
  },
  {
   "cell_type": "markdown",
   "metadata": {},
   "source": [
    "<a id=\"ada_model\"></a>\n",
    "\n",
    "### [^](#toc) Ada Boost Classifier"
   ]
  },
  {
   "cell_type": "code",
   "execution_count": null,
   "metadata": {
    "collapsed": true
   },
   "outputs": [],
   "source": [
    "ada_model = AdaBoostClassifier(\n",
    "                    DecisionTreeClassifier(random_state = 17),\n",
    "                    random_state = 17, learning_rate = 0.1\n",
    "                )\n",
    "\n",
    "### Training\n",
    "start = time.time()\n",
    "ada_model.fit(train_x, train_y)\n",
    "print(\"Training took {} seconds\".format(round(time.time() - start)))\n",
    "\n",
    "### Scoring\n",
    "start = time.time()\n",
    "score_model(ada_model)\n",
    "print(\"\\nScoring took {} seconds\".format(round(time.time() - start)))"
   ]
  },
  {
   "cell_type": "markdown",
   "metadata": {},
   "source": [
    "<a id=\"dtc_model\"></a>\n",
    "\n",
    "### [^](#toc) Deciscion Tree Classifier"
   ]
  },
  {
   "cell_type": "code",
   "execution_count": null,
   "metadata": {
    "collapsed": true
   },
   "outputs": [],
   "source": [
    "dtc_model = DecisionTreeClassifier(random_state = 17)\n",
    "\n",
    "### Training\n",
    "start = time.time()\n",
    "dtc_model.fit(train_x, train_y)\n",
    "print(\"Training took {} seconds\".format(round(time.time() - start)))\n",
    "\n",
    "### Scoring\n",
    "start = time.time()\n",
    "score_model(dtc_model)\n",
    "print(\"\\nScoring took {} seconds\".format(round(time.time() - start)))"
   ]
  },
  {
   "cell_type": "markdown",
   "metadata": {},
   "source": [
    "<a id=\"etc_model\"></a>\n",
    "\n",
    "### [^](#toc) Extra Trees Classifer"
   ]
  },
  {
   "cell_type": "code",
   "execution_count": null,
   "metadata": {
    "collapsed": true
   },
   "outputs": [],
   "source": [
    "etc_model = ExtraTreesClassifier(random_state = 17)\n",
    "\n",
    "### Training\n",
    "start = time.time()\n",
    "etc_model.fit(train_x, train_y)\n",
    "print(\"Training took {} seconds\".format(round(time.time() - start)))\n",
    "\n",
    "### Scoring\n",
    "start = time.time()\n",
    "score_model(etc_model)\n",
    "print(\"\\nScoring took {} seconds\".format(round(time.time() - start)))"
   ]
  },
  {
   "cell_type": "markdown",
   "metadata": {},
   "source": [
    "<a id=\"gnb_model\"></a>\n",
    "\n",
    "### [^](#toc) Gaussian Naive Bayes"
   ]
  },
  {
   "cell_type": "code",
   "execution_count": null,
   "metadata": {
    "collapsed": true
   },
   "outputs": [],
   "source": [
    "gnb_model = GaussianNB(random_state=17)\n",
    "\n",
    "### Training\n",
    "start = time.time()\n",
    "gnb_model.fit(train_x, train_y)\n",
    "print(\"Training took {} seconds\".format(round(time.time() - start)))\n",
    "\n",
    "### Scoring\n",
    "start = time.time()\n",
    "score_model(gnb_model)\n",
    "print(\"\\nScoring took {} seconds\".format(round(time.time() - start)))"
   ]
  },
  {
   "cell_type": "markdown",
   "metadata": {},
   "source": [
    "<a id=\"gbc_model\"></a>\n",
    "\n",
    "### [^](#toc) Gradient Boosting Classifier"
   ]
  },
  {
   "cell_type": "code",
   "execution_count": null,
   "metadata": {
    "collapsed": true
   },
   "outputs": [],
   "source": [
    "gbc_model = GradientBoostingClassifier(random_state=17)\n",
    "\n",
    "### Training\n",
    "start = time.time()\n",
    "gbc_model.fit(train_x, train_y)\n",
    "print(\"Training took {} seconds\".format(round(time.time() - start)))\n",
    "\n",
    "### Scoring\n",
    "start = time.time()\n",
    "score_model(gbc_model)\n",
    "print(\"\\nScoring took {} seconds\".format(round(time.time() - start)))"
   ]
  },
  {
   "cell_type": "markdown",
   "metadata": {},
   "source": [
    "<a id=\"knn_model\"></a>\n",
    "\n",
    "### [^](#toc) K Nearest Neighbors"
   ]
  },
  {
   "cell_type": "code",
   "execution_count": null,
   "metadata": {
    "collapsed": true
   },
   "outputs": [],
   "source": [
    "knn_model = KNeighborsClassifier()\n",
    "\n",
    "### Training\n",
    "start = time.time()\n",
    "knn_model.fit(train_x, train_y)\n",
    "print(\"Training took {} seconds\".format(round(time.time() - start)))\n",
    "\n",
    "### Scoring\n",
    "start = time.time()\n",
    "score_model(knn_model)\n",
    "print(\"\\nScoring took {} seconds\".format(round(time.time() - start)))"
   ]
  },
  {
   "cell_type": "markdown",
   "metadata": {},
   "source": [
    "<a id=\"lgb_model\"></a>\n",
    "\n",
    "### [^](#toc) Light Gradient Boost"
   ]
  },
  {
   "cell_type": "code",
   "execution_count": 2,
   "metadata": {
    "collapsed": true
   },
   "outputs": [],
   "source": [
    "lgb_model = LGBMClassifier()\n",
    "\n",
    "### Training\n",
    "start = time.time()\n",
    "lgb_model.fit(train_x, train_y)\n",
    "print(\"Training took {} seconds\".format(round(time.time() - start)))\n",
    "\n",
    "### Scoring\n",
    "start = time.time()\n",
    "score_model(lgb_model)\n",
    "print(\"\\nScoring took {} seconds\".format(round(time.time() - start)))"
   ]
  },
  {
   "cell_type": "markdown",
   "metadata": {},
   "source": [
    "<a id=\"lin_model\"></a>\n",
    "\n",
    "### [^](#toc) Linear Discriminant Analysis"
   ]
  },
  {
   "cell_type": "code",
   "execution_count": 1,
   "metadata": {
    "collapsed": true
   },
   "outputs": [],
   "source": [
    "lin_model = LinearDiscriminantAnalysis()\n",
    "\n",
    "### Training\n",
    "start = time.time()\n",
    "lin_model.fit(train_x, train_y)\n",
    "print(\"Training took {} seconds\".format(round(time.time() - start)))\n",
    "\n",
    "### Scoring\n",
    "start = time.time()\n",
    "score_model(lin_model)\n",
    "print(\"\\nScoring took {} seconds\".format(round(time.time() - start)))"
   ]
  },
  {
   "cell_type": "markdown",
   "metadata": {},
   "source": [
    "<a id=\"log_model\"></a>\n",
    "\n",
    "### [^](#toc) Logistic"
   ]
  },
  {
   "cell_type": "code",
   "execution_count": null,
   "metadata": {
    "collapsed": true
   },
   "outputs": [],
   "source": [
    "log_model = LogisticRegression(random_state = 17)\n",
    "\n",
    "### Training\n",
    "start = time.time()\n",
    "log_model.fit(train_x, train_y)\n",
    "print(\"Training took {} seconds\".format(round(time.time() - start)))\n",
    "\n",
    "### Scoring\n",
    "start = time.time()\n",
    "score_model(log_model)\n",
    "print(\"\\nScoring took {} seconds\".format(round(time.time() - start)))"
   ]
  },
  {
   "cell_type": "markdown",
   "metadata": {},
   "source": [
    "<a id=\"mlp_model\"></a>\n",
    "\n",
    "### [^](#toc) Multiple Layer Perceptron"
   ]
  },
  {
   "cell_type": "code",
   "execution_count": null,
   "metadata": {
    "collapsed": true
   },
   "outputs": [],
   "source": [
    "mlp_model = MLPClassifier(random_state = 17)\n",
    "\n",
    "### Training\n",
    "start = time.time()\n",
    "mlp_model.fit(train_x, train_y)\n",
    "print(\"Training took {} seconds\".format(round(time.time() - start)))\n",
    "\n",
    "### Scoring\n",
    "start = time.time()\n",
    "mlp_model(lin_model)\n",
    "print(\"\\nScoring took {} seconds\".format(round(time.time() - start)))"
   ]
  },
  {
   "cell_type": "markdown",
   "metadata": {},
   "source": [
    "<a id=\"rfc_model\"></a>\n",
    "\n",
    "### [^](#toc) Random Forest Classifier"
   ]
  },
  {
   "cell_type": "code",
   "execution_count": null,
   "metadata": {
    "collapsed": true
   },
   "outputs": [],
   "source": [
    "rfc_model = RandomForestClassifier(random_state = 17)\n",
    "\n",
    "### Training\n",
    "start = time.time()\n",
    "rfc_model.fit(train_x, train_y)\n",
    "print(\"Training took {} seconds\".format(round(time.time() - start)))\n",
    "\n",
    "### Scoring\n",
    "start = time.time()\n",
    "score_model(rfc_model)\n",
    "print(\"\\nScoring took {} seconds\".format(round(time.time() - start)))"
   ]
  },
  {
   "cell_type": "markdown",
   "metadata": {},
   "source": [
    "<a id=\"svc_model\"></a>\n",
    "\n",
    "### [^](#toc) SVC"
   ]
  },
  {
   "cell_type": "code",
   "execution_count": null,
   "metadata": {
    "collapsed": true
   },
   "outputs": [],
   "source": [
    "svc_model = SVC()\n",
    "\n",
    "### Training\n",
    "start = time.time()\n",
    "svc_model.fit(train_x, train_y)\n",
    "print(\"Training took {} seconds\".format(round(time.time() - start)))\n",
    "\n",
    "### Scoring\n",
    "start = time.time()\n",
    "score_model(svc_model)\n",
    "print(\"\\nScoring took {} seconds\".format(round(time.time() - start)))"
   ]
  },
  {
   "cell_type": "markdown",
   "metadata": {},
   "source": [
    "<a id=\"xgb_model\"></a>\n",
    "\n",
    "### [^](#toc) XGB Classifier"
   ]
  },
  {
   "cell_type": "code",
   "execution_count": null,
   "metadata": {
    "collapsed": true
   },
   "outputs": [],
   "source": [
    "xgb_model = XGBClassifier()\n",
    "\n",
    "### Training\n",
    "start = time.time()\n",
    "xgb_model.fit(train_x, train_y)\n",
    "print(\"Training took {} seconds\".format(round(time.time() - start)))\n",
    "\n",
    "### Scoring\n",
    "start = time.time()\n",
    "score_model(xgb_model)\n",
    "print(\"\\nScoring took {} seconds\".format(round(time.time() - start)))"
   ]
  },
  {
   "cell_type": "markdown",
   "metadata": {},
   "source": [
    "<a id=\"vote\"></a>\n",
    "\n",
    "### [^](#toc) Voting classifier"
   ]
  },
  {
   "cell_type": "code",
   "execution_count": null,
   "metadata": {
    "collapsed": true
   },
   "outputs": [],
   "source": [
    "print(\"Building...\")\n",
    "final_model = VotingClassifier(estimators=[\n",
    "                                        (\"ADA\", ada_model),\n",
    "                                        (\"DTC\", dtc_model),\n",
    "                                        (\"ETC\", etc_model),\n",
    "                                        (\"GBC\", gbc_model),\n",
    "                                        (\"KNN\", knn_model),\n",
    "                                        (\"LGB\", lgb_model),\n",
    "                                        (\"LIN\", lin_model),\n",
    "                                        (\"LOG\", log_model),\n",
    "                                        (\"MLP\", mlp_model),\n",
    "                                        (\"RFC\", rfc_model),\n",
    "                                        (\"SVC\", svc_model),\n",
    "                                        (\"XGB\", xgb_model)\n",
    "                                      ], voting='soft')\n",
    "print(\"Built.\")\n",
    "\n",
    "### Training\n",
    "start = time.time()\n",
    "final_model.fit(train_x, train_y)\n",
    "print(\"Training took {} seconds\".format(round(time.time() - start)))\n",
    "\n",
    "### Scoring\n",
    "start = time.time()\n",
    "score_model(final_model)\n",
    "print(\"\\nScoring took {} seconds\".format(round(time.time() - start)))"
   ]
  },
  {
   "cell_type": "markdown",
   "metadata": {},
   "source": [
    "---\n",
    "<a id=\"feat_importance\"></a>\n",
    "\n",
    "# [^](#toc) <u>Feature Importance</u>\n",
    "\n",
    "Runs an Extra Trees Classifier on a sample of the data and determines the data's most important features."
   ]
  },
  {
   "cell_type": "code",
   "execution_count": 38,
   "metadata": {},
   "outputs": [
    {
     "data": {
      "image/png": "[encoded data removed]",
      "text/plain": [
       "<matplotlib.figure.Figure at 0x1a21addc50>"
      ]
     },
     "metadata": {},
     "output_type": "display_data"
    }
   ],
   "source": [
    "# Setup Extra Trees model\n",
    "et_model = ExtraTreesClassifier()\n",
    "et_model.fit(train_x[:10000], train_y[:10000])\n",
    "\n",
    "# Get important features\n",
    "x, y = (list(x) for x in zip(*sorted(zip(et_model.feature_importances_, train_x.columns), \n",
    "                                                            reverse = False)))\n",
    "\n",
    "### Styling\n",
    "sns.set(font_scale=2)\n",
    "plt.figure(figsize=(14, 12))\n",
    "plt.title(\"25 Most important features for model\")\n",
    "\n",
    "# Plot important features\n",
    "_ = sns.barplot(x[-25:], y[-25:])"
   ]
  },
  {
   "cell_type": "code",
   "execution_count": null,
   "metadata": {
    "collapsed": true
   },
   "outputs": [],
   "source": []
  }
 ],
 "metadata": {
  "kernelspec": {
   "display_name": "Python 3",
   "language": "python",
   "name": "python3"
  },
  "language_info": {
   "codemirror_mode": {
    "name": "ipython",
    "version": 3
   },
   "file_extension": ".py",
   "mimetype": "text/x-python",
   "name": "python",
   "nbconvert_exporter": "python",
   "pygments_lexer": "ipython3",
   "version": "3.6.3"
  }
 },
 "nbformat": 4,
 "nbformat_minor": 2
}
