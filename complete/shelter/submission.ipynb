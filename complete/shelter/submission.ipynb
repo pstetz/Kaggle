{
 "cells": [
  {
   "cell_type": "markdown",
   "metadata": {},
   "source": [
    "# Score: 11.32097\n",
    "\n",
    "### Imports"
   ]
  },
  {
   "cell_type": "code",
   "execution_count": 1,
   "metadata": {
    "collapsed": true
   },
   "outputs": [],
   "source": [
    "import pandas as pd\n",
    "import numpy as np\n",
    "\n",
    "import matplotlib.pyplot as plt\n",
    "import seaborn as sns\n",
    "%matplotlib inline\n",
    "sns.set()"
   ]
  },
  {
   "cell_type": "markdown",
   "metadata": {},
   "source": [
    "### Helper functions"
   ]
  },
  {
   "cell_type": "code",
   "execution_count": 2,
   "metadata": {
    "collapsed": true
   },
   "outputs": [],
   "source": [
    "### Plotting helper function\n",
    "def pretty_bar(data, xlabel=None, ylabel=None, title=None):\n",
    "    plt.figure(figsize=(15,12))\n",
    "    sns.barplot(data.values, data.index)\n",
    "    for i, v in enumerate(data.values):\n",
    "        plt.text(0.8,i,v,color='k',fontsize=19)\n",
    "    ylabel != None and plt.ylabel(ylabel, fontsize=12)\n",
    "    xlabel != None and plt.xlabel(xlabel, fontsize=12)\n",
    "    title != None and plt.title(title, fontsize=16)\n",
    "    plt.show()\n",
    "    \n",
    "### Turns categorical column into a numeric one.  Counts below the cutoff will be aggregated together\n",
    "def get_col_map(df, col, cutoff):\n",
    "    val_counts = df[col].value_counts()\n",
    "    ret = dict()\n",
    "    counter = 0\n",
    "    \n",
    "    for index in val_counts.index:\n",
    "        count = val_counts[index]\n",
    "        if count > cutoff:\n",
    "            ret[index] = counter\n",
    "            counter += 1\n",
    "        else:\n",
    "            ret[index] = counter\n",
    "    return ret"
   ]
  },
  {
   "cell_type": "markdown",
   "metadata": {},
   "source": [
    "### Load data"
   ]
  },
  {
   "cell_type": "code",
   "execution_count": 3,
   "metadata": {},
   "outputs": [
    {
     "name": "stdout",
     "output_type": "stream",
     "text": [
      "train shape: (26729, 10)\n",
      "test shape: (11456, 8)\n",
      "Earliest train time: 2013-10-01 09:31:00 - Latest train time: 2016-02-21 19:17:00\n",
      "Earliest test time: 2013-10-01 10:44:00 - Latest test time: 2016-02-21 18:37:00\n"
     ]
    }
   ],
   "source": [
    "dateparse = lambda x: pd.datetime.strptime(x, \"%Y-%m-%d %H:%M:%S\")\n",
    "\n",
    "train = pd.read_csv(\"../../data/shelter/train.csv\", parse_dates=['DateTime'], date_parser=dateparse)\n",
    "test  = pd.read_csv(\"../../data/shelter/test.csv\", parse_dates=['DateTime'], date_parser=dateparse)\n",
    "\n",
    "print(\"train shape:\", train.shape)\n",
    "print(\"test shape:\", test.shape)\n",
    "\n",
    "print(\"Earliest train time:\", min(train.DateTime), \"- Latest train time:\", max(train.DateTime))\n",
    "print(\"Earliest test time:\",  min(test.DateTime),  \"- Latest test time:\",  max(test.DateTime))"
   ]
  },
  {
   "cell_type": "markdown",
   "metadata": {},
   "source": [
    "### First few rows of the train data\n",
    "\n",
    "- I wonder why the name is included?  Is there anything we can do with it?  I don't think so, but missing names might indicate something (going off 5 data points, NaN is correlated with transfers)\n",
    "\n",
    "- What use can I make out of OutcomeSubtype?  I wonder if the model would learn the subtypes easier, then I could map those to the OutcomeType"
   ]
  },
  {
   "cell_type": "code",
   "execution_count": 4,
   "metadata": {},
   "outputs": [
    {
     "data": {
      "text/html": [
       "<div>\n",
       "<style>\n",
       "    .dataframe thead tr:only-child th {\n",
       "        text-align: right;\n",
       "    }\n",
       "\n",
       "    .dataframe thead th {\n",
       "        text-align: left;\n",
       "    }\n",
       "\n",
       "    .dataframe tbody tr th {\n",
       "        vertical-align: top;\n",
       "    }\n",
       "</style>\n",
       "<table border=\"1\" class=\"dataframe\">\n",
       "  <thead>\n",
       "    <tr style=\"text-align: right;\">\n",
       "      <th></th>\n",
       "      <th>AnimalID</th>\n",
       "      <th>Name</th>\n",
       "      <th>DateTime</th>\n",
       "      <th>OutcomeType</th>\n",
       "      <th>OutcomeSubtype</th>\n",
       "      <th>AnimalType</th>\n",
       "      <th>SexuponOutcome</th>\n",
       "      <th>AgeuponOutcome</th>\n",
       "      <th>Breed</th>\n",
       "      <th>Color</th>\n",
       "    </tr>\n",
       "  </thead>\n",
       "  <tbody>\n",
       "    <tr>\n",
       "      <th>0</th>\n",
       "      <td>A671945</td>\n",
       "      <td>Hambone</td>\n",
       "      <td>2014-02-12 18:22:00</td>\n",
       "      <td>Return_to_owner</td>\n",
       "      <td>NaN</td>\n",
       "      <td>Dog</td>\n",
       "      <td>Neutered Male</td>\n",
       "      <td>1 year</td>\n",
       "      <td>Shetland Sheepdog Mix</td>\n",
       "      <td>Brown/White</td>\n",
       "    </tr>\n",
       "    <tr>\n",
       "      <th>1</th>\n",
       "      <td>A656520</td>\n",
       "      <td>Emily</td>\n",
       "      <td>2013-10-13 12:44:00</td>\n",
       "      <td>Euthanasia</td>\n",
       "      <td>Suffering</td>\n",
       "      <td>Cat</td>\n",
       "      <td>Spayed Female</td>\n",
       "      <td>1 year</td>\n",
       "      <td>Domestic Shorthair Mix</td>\n",
       "      <td>Cream Tabby</td>\n",
       "    </tr>\n",
       "    <tr>\n",
       "      <th>2</th>\n",
       "      <td>A686464</td>\n",
       "      <td>Pearce</td>\n",
       "      <td>2015-01-31 12:28:00</td>\n",
       "      <td>Adoption</td>\n",
       "      <td>Foster</td>\n",
       "      <td>Dog</td>\n",
       "      <td>Neutered Male</td>\n",
       "      <td>2 years</td>\n",
       "      <td>Pit Bull Mix</td>\n",
       "      <td>Blue/White</td>\n",
       "    </tr>\n",
       "    <tr>\n",
       "      <th>3</th>\n",
       "      <td>A683430</td>\n",
       "      <td>NaN</td>\n",
       "      <td>2014-07-11 19:09:00</td>\n",
       "      <td>Transfer</td>\n",
       "      <td>Partner</td>\n",
       "      <td>Cat</td>\n",
       "      <td>Intact Male</td>\n",
       "      <td>3 weeks</td>\n",
       "      <td>Domestic Shorthair Mix</td>\n",
       "      <td>Blue Cream</td>\n",
       "    </tr>\n",
       "    <tr>\n",
       "      <th>4</th>\n",
       "      <td>A667013</td>\n",
       "      <td>NaN</td>\n",
       "      <td>2013-11-15 12:52:00</td>\n",
       "      <td>Transfer</td>\n",
       "      <td>Partner</td>\n",
       "      <td>Dog</td>\n",
       "      <td>Neutered Male</td>\n",
       "      <td>2 years</td>\n",
       "      <td>Lhasa Apso/Miniature Poodle</td>\n",
       "      <td>Tan</td>\n",
       "    </tr>\n",
       "  </tbody>\n",
       "</table>\n",
       "</div>"
      ],
      "text/plain": [
       "  AnimalID     Name            DateTime      OutcomeType OutcomeSubtype  \\\n",
       "0  A671945  Hambone 2014-02-12 18:22:00  Return_to_owner            NaN   \n",
       "1  A656520    Emily 2013-10-13 12:44:00       Euthanasia      Suffering   \n",
       "2  A686464   Pearce 2015-01-31 12:28:00         Adoption         Foster   \n",
       "3  A683430      NaN 2014-07-11 19:09:00         Transfer        Partner   \n",
       "4  A667013      NaN 2013-11-15 12:52:00         Transfer        Partner   \n",
       "\n",
       "  AnimalType SexuponOutcome AgeuponOutcome                        Breed  \\\n",
       "0        Dog  Neutered Male         1 year        Shetland Sheepdog Mix   \n",
       "1        Cat  Spayed Female         1 year       Domestic Shorthair Mix   \n",
       "2        Dog  Neutered Male        2 years                 Pit Bull Mix   \n",
       "3        Cat    Intact Male        3 weeks       Domestic Shorthair Mix   \n",
       "4        Dog  Neutered Male        2 years  Lhasa Apso/Miniature Poodle   \n",
       "\n",
       "         Color  \n",
       "0  Brown/White  \n",
       "1  Cream Tabby  \n",
       "2   Blue/White  \n",
       "3   Blue Cream  \n",
       "4          Tan  "
      ]
     },
     "execution_count": 4,
     "metadata": {},
     "output_type": "execute_result"
    }
   ],
   "source": [
    "train.head()"
   ]
  },
  {
   "cell_type": "markdown",
   "metadata": {},
   "source": [
    "### First few rows of the test data"
   ]
  },
  {
   "cell_type": "code",
   "execution_count": 5,
   "metadata": {},
   "outputs": [
    {
     "data": {
      "text/html": [
       "<div>\n",
       "<style>\n",
       "    .dataframe thead tr:only-child th {\n",
       "        text-align: right;\n",
       "    }\n",
       "\n",
       "    .dataframe thead th {\n",
       "        text-align: left;\n",
       "    }\n",
       "\n",
       "    .dataframe tbody tr th {\n",
       "        vertical-align: top;\n",
       "    }\n",
       "</style>\n",
       "<table border=\"1\" class=\"dataframe\">\n",
       "  <thead>\n",
       "    <tr style=\"text-align: right;\">\n",
       "      <th></th>\n",
       "      <th>ID</th>\n",
       "      <th>Name</th>\n",
       "      <th>DateTime</th>\n",
       "      <th>AnimalType</th>\n",
       "      <th>SexuponOutcome</th>\n",
       "      <th>AgeuponOutcome</th>\n",
       "      <th>Breed</th>\n",
       "      <th>Color</th>\n",
       "    </tr>\n",
       "  </thead>\n",
       "  <tbody>\n",
       "    <tr>\n",
       "      <th>0</th>\n",
       "      <td>1</td>\n",
       "      <td>Summer</td>\n",
       "      <td>2015-10-12 12:15:00</td>\n",
       "      <td>Dog</td>\n",
       "      <td>Intact Female</td>\n",
       "      <td>10 months</td>\n",
       "      <td>Labrador Retriever Mix</td>\n",
       "      <td>Red/White</td>\n",
       "    </tr>\n",
       "    <tr>\n",
       "      <th>1</th>\n",
       "      <td>2</td>\n",
       "      <td>Cheyenne</td>\n",
       "      <td>2014-07-26 17:59:00</td>\n",
       "      <td>Dog</td>\n",
       "      <td>Spayed Female</td>\n",
       "      <td>2 years</td>\n",
       "      <td>German Shepherd/Siberian Husky</td>\n",
       "      <td>Black/Tan</td>\n",
       "    </tr>\n",
       "    <tr>\n",
       "      <th>2</th>\n",
       "      <td>3</td>\n",
       "      <td>Gus</td>\n",
       "      <td>2016-01-13 12:20:00</td>\n",
       "      <td>Cat</td>\n",
       "      <td>Neutered Male</td>\n",
       "      <td>1 year</td>\n",
       "      <td>Domestic Shorthair Mix</td>\n",
       "      <td>Brown Tabby</td>\n",
       "    </tr>\n",
       "    <tr>\n",
       "      <th>3</th>\n",
       "      <td>4</td>\n",
       "      <td>Pongo</td>\n",
       "      <td>2013-12-28 18:12:00</td>\n",
       "      <td>Dog</td>\n",
       "      <td>Intact Male</td>\n",
       "      <td>4 months</td>\n",
       "      <td>Collie Smooth Mix</td>\n",
       "      <td>Tricolor</td>\n",
       "    </tr>\n",
       "    <tr>\n",
       "      <th>4</th>\n",
       "      <td>5</td>\n",
       "      <td>Skooter</td>\n",
       "      <td>2015-09-24 17:59:00</td>\n",
       "      <td>Dog</td>\n",
       "      <td>Neutered Male</td>\n",
       "      <td>2 years</td>\n",
       "      <td>Miniature Poodle Mix</td>\n",
       "      <td>White</td>\n",
       "    </tr>\n",
       "  </tbody>\n",
       "</table>\n",
       "</div>"
      ],
      "text/plain": [
       "   ID      Name            DateTime AnimalType SexuponOutcome AgeuponOutcome  \\\n",
       "0   1    Summer 2015-10-12 12:15:00        Dog  Intact Female      10 months   \n",
       "1   2  Cheyenne 2014-07-26 17:59:00        Dog  Spayed Female        2 years   \n",
       "2   3       Gus 2016-01-13 12:20:00        Cat  Neutered Male         1 year   \n",
       "3   4     Pongo 2013-12-28 18:12:00        Dog    Intact Male       4 months   \n",
       "4   5   Skooter 2015-09-24 17:59:00        Dog  Neutered Male        2 years   \n",
       "\n",
       "                            Breed        Color  \n",
       "0          Labrador Retriever Mix    Red/White  \n",
       "1  German Shepherd/Siberian Husky    Black/Tan  \n",
       "2          Domestic Shorthair Mix  Brown Tabby  \n",
       "3               Collie Smooth Mix     Tricolor  \n",
       "4            Miniature Poodle Mix        White  "
      ]
     },
     "execution_count": 5,
     "metadata": {},
     "output_type": "execute_result"
    }
   ],
   "source": [
    "test.head()"
   ]
  },
  {
   "cell_type": "markdown",
   "metadata": {},
   "source": [
    "### Missing data"
   ]
  },
  {
   "cell_type": "code",
   "execution_count": 6,
   "metadata": {},
   "outputs": [
    {
     "data": {
      "text/html": [
       "<div>\n",
       "<style>\n",
       "    .dataframe thead tr:only-child th {\n",
       "        text-align: right;\n",
       "    }\n",
       "\n",
       "    .dataframe thead th {\n",
       "        text-align: left;\n",
       "    }\n",
       "\n",
       "    .dataframe tbody tr th {\n",
       "        vertical-align: top;\n",
       "    }\n",
       "</style>\n",
       "<table border=\"1\" class=\"dataframe\">\n",
       "  <thead>\n",
       "    <tr style=\"text-align: right;\">\n",
       "      <th></th>\n",
       "      <th>Test Missing</th>\n",
       "      <th>Train Missing</th>\n",
       "    </tr>\n",
       "  </thead>\n",
       "  <tbody>\n",
       "    <tr>\n",
       "      <th>AgeuponOutcome</th>\n",
       "      <td>6.0</td>\n",
       "      <td>18.0</td>\n",
       "    </tr>\n",
       "    <tr>\n",
       "      <th>AnimalID</th>\n",
       "      <td>NaN</td>\n",
       "      <td>0.0</td>\n",
       "    </tr>\n",
       "    <tr>\n",
       "      <th>AnimalType</th>\n",
       "      <td>0.0</td>\n",
       "      <td>0.0</td>\n",
       "    </tr>\n",
       "    <tr>\n",
       "      <th>Breed</th>\n",
       "      <td>0.0</td>\n",
       "      <td>0.0</td>\n",
       "    </tr>\n",
       "    <tr>\n",
       "      <th>Color</th>\n",
       "      <td>0.0</td>\n",
       "      <td>0.0</td>\n",
       "    </tr>\n",
       "    <tr>\n",
       "      <th>DateTime</th>\n",
       "      <td>0.0</td>\n",
       "      <td>0.0</td>\n",
       "    </tr>\n",
       "    <tr>\n",
       "      <th>ID</th>\n",
       "      <td>0.0</td>\n",
       "      <td>NaN</td>\n",
       "    </tr>\n",
       "    <tr>\n",
       "      <th>Name</th>\n",
       "      <td>3225.0</td>\n",
       "      <td>7691.0</td>\n",
       "    </tr>\n",
       "    <tr>\n",
       "      <th>OutcomeSubtype</th>\n",
       "      <td>NaN</td>\n",
       "      <td>13612.0</td>\n",
       "    </tr>\n",
       "    <tr>\n",
       "      <th>OutcomeType</th>\n",
       "      <td>NaN</td>\n",
       "      <td>0.0</td>\n",
       "    </tr>\n",
       "    <tr>\n",
       "      <th>SexuponOutcome</th>\n",
       "      <td>0.0</td>\n",
       "      <td>1.0</td>\n",
       "    </tr>\n",
       "  </tbody>\n",
       "</table>\n",
       "</div>"
      ],
      "text/plain": [
       "                Test Missing  Train Missing\n",
       "AgeuponOutcome           6.0           18.0\n",
       "AnimalID                 NaN            0.0\n",
       "AnimalType               0.0            0.0\n",
       "Breed                    0.0            0.0\n",
       "Color                    0.0            0.0\n",
       "DateTime                 0.0            0.0\n",
       "ID                       0.0            NaN\n",
       "Name                  3225.0         7691.0\n",
       "OutcomeSubtype           NaN        13612.0\n",
       "OutcomeType              NaN            0.0\n",
       "SexuponOutcome           0.0            1.0"
      ]
     },
     "execution_count": 6,
     "metadata": {},
     "output_type": "execute_result"
    }
   ],
   "source": [
    "pd.DataFrame({\n",
    "    \"Train Missing\": train.isnull().sum().astype(int),\n",
    "    \"Test Missing\": test.isnull().sum().astype(int),\n",
    "})"
   ]
  },
  {
   "cell_type": "markdown",
   "metadata": {},
   "source": [
    "### Is it possible to guess the Sex?\n",
    "\n",
    "Not really, you can't guess a sex and whether a pet is neutered.  Since there's one missing value it doesn't make since to replace all NaN values with None."
   ]
  },
  {
   "cell_type": "code",
   "execution_count": 7,
   "metadata": {},
   "outputs": [
    {
     "data": {
      "text/html": [
       "<div>\n",
       "<style>\n",
       "    .dataframe thead tr:only-child th {\n",
       "        text-align: right;\n",
       "    }\n",
       "\n",
       "    .dataframe thead th {\n",
       "        text-align: left;\n",
       "    }\n",
       "\n",
       "    .dataframe tbody tr th {\n",
       "        vertical-align: top;\n",
       "    }\n",
       "</style>\n",
       "<table border=\"1\" class=\"dataframe\">\n",
       "  <thead>\n",
       "    <tr style=\"text-align: right;\">\n",
       "      <th></th>\n",
       "      <th>AnimalID</th>\n",
       "      <th>Name</th>\n",
       "      <th>DateTime</th>\n",
       "      <th>OutcomeType</th>\n",
       "      <th>OutcomeSubtype</th>\n",
       "      <th>AnimalType</th>\n",
       "      <th>SexuponOutcome</th>\n",
       "      <th>AgeuponOutcome</th>\n",
       "      <th>Breed</th>\n",
       "      <th>Color</th>\n",
       "    </tr>\n",
       "  </thead>\n",
       "  <tbody>\n",
       "    <tr>\n",
       "      <th>3174</th>\n",
       "      <td>A667395</td>\n",
       "      <td>Diego</td>\n",
       "      <td>2013-11-27 16:11:00</td>\n",
       "      <td>Return_to_owner</td>\n",
       "      <td>NaN</td>\n",
       "      <td>Dog</td>\n",
       "      <td>NaN</td>\n",
       "      <td>7 years</td>\n",
       "      <td>Dachshund</td>\n",
       "      <td>Brown Merle</td>\n",
       "    </tr>\n",
       "  </tbody>\n",
       "</table>\n",
       "</div>"
      ],
      "text/plain": [
       "     AnimalID   Name            DateTime      OutcomeType OutcomeSubtype  \\\n",
       "3174  A667395  Diego 2013-11-27 16:11:00  Return_to_owner            NaN   \n",
       "\n",
       "     AnimalType SexuponOutcome AgeuponOutcome      Breed        Color  \n",
       "3174        Dog            NaN        7 years  Dachshund  Brown Merle  "
      ]
     },
     "execution_count": 7,
     "metadata": {},
     "output_type": "execute_result"
    }
   ],
   "source": [
    "train[train.SexuponOutcome.isnull()]"
   ]
  },
  {
   "cell_type": "markdown",
   "metadata": {},
   "source": [
    "#### I'm just going to drop this as an outlier"
   ]
  },
  {
   "cell_type": "code",
   "execution_count": 8,
   "metadata": {
    "collapsed": true
   },
   "outputs": [],
   "source": [
    "train = train.drop(train[train.SexuponOutcome.isnull()].index)"
   ]
  },
  {
   "cell_type": "markdown",
   "metadata": {},
   "source": [
    "### Merge train and test data"
   ]
  },
  {
   "cell_type": "code",
   "execution_count": 9,
   "metadata": {
    "collapsed": true
   },
   "outputs": [],
   "source": [
    "full = pd.concat([train, test])\n",
    "train_N = len(train)"
   ]
  },
  {
   "cell_type": "markdown",
   "metadata": {},
   "source": [
    "### Let's start off with the target column, 'OutcomeType'\n",
    "\n",
    "Only 5 options are possible and it's very unlikely for the 'Died' outcome to happen"
   ]
  },
  {
   "cell_type": "code",
   "execution_count": 10,
   "metadata": {},
   "outputs": [
    {
     "data": {
      "image/png": "[encoded data removed]",
      "text/plain": [
       "<matplotlib.figure.Figure at 0x1a0be95a20>"
      ]
     },
     "metadata": {},
     "output_type": "display_data"
    }
   ],
   "source": [
    "sns.set(rc={'figure.figsize':(12, 6)})\n",
    "\n",
    "_ = train.OutcomeType.value_counts().plot(kind=\"bar\")"
   ]
  },
  {
   "cell_type": "markdown",
   "metadata": {},
   "source": [
    "### Create new column Outcome (OutcomeType + OutcomeSubtype)"
   ]
  },
  {
   "cell_type": "code",
   "execution_count": 11,
   "metadata": {},
   "outputs": [
    {
     "name": "stdout",
     "output_type": "stream",
     "text": [
      "Number of unique OutcomeSubtypes:  17\n",
      "Number of unique Outcomes:  18\n"
     ]
    }
   ],
   "source": [
    "train[\"Outcome\"] = train.OutcomeType + \" - \" + train.OutcomeSubtype\n",
    "\n",
    "print(\"Number of unique OutcomeSubtypes: \", len(train.OutcomeSubtype.unique()))\n",
    "print(\"Number of unique Outcomes: \", len(train.Outcome.unique()))"
   ]
  },
  {
   "cell_type": "markdown",
   "metadata": {},
   "source": [
    "### Weird, I'd expect them to have the same number of unique values\n",
    "\n",
    "Let's look at the two columns closer\n",
    "\n",
    "After looking it's interesting to note that 'Barn' is an OutcomeSubtype for both 'Adoption' and 'Transfer', also there's no 'Return_to_owner'"
   ]
  },
  {
   "cell_type": "code",
   "execution_count": 12,
   "metadata": {},
   "outputs": [
    {
     "name": "stdout",
     "output_type": "stream",
     "text": [
      "nan **** nan\n",
      "Suffering **** Suffering - Euthanasia\n",
      "Foster **** Foster - Adoption\n",
      "Partner **** Partner - Transfer\n",
      "Offsite **** Offsite - Adoption\n",
      "SCRP **** SCRP - Transfer\n",
      "Aggressive **** Aggressive - Euthanasia\n",
      "Behavior **** Behavior - Euthanasia\n",
      "Rabies Risk **** Rabies Risk - Euthanasia\n",
      "Medical **** Medical - Euthanasia\n",
      "In Kennel **** In Kennel - Died\n",
      "In Foster **** In Foster - Died\n",
      "Barn **** Barn - Transfer\n",
      "Court/Investigation **** Court/Investigation - Euthanasia\n",
      "Enroute **** Enroute - Died\n",
      "At Vet **** At Vet - Died\n",
      "In Surgery **** In Surgery - Died\n",
      "           **** Barn - Adoption\n"
     ]
    }
   ],
   "source": [
    "# switched order so easier to compare\n",
    "train[\"Outcome\"] = train.OutcomeSubtype + \" - \" + train.OutcomeType\n",
    "\n",
    "outcome_unique = train.Outcome.unique()\n",
    "suboutcome_unique = train.OutcomeSubtype.unique()\n",
    "\n",
    "for i in range(len(outcome_unique)):\n",
    "    if i == len(suboutcome_unique):\n",
    "        print(\"           ****\", outcome_unique[i])\n",
    "    else:\n",
    "        print(suboutcome_unique[i], \"****\", outcome_unique[i])"
   ]
  },
  {
   "cell_type": "markdown",
   "metadata": {},
   "source": [
    "### Fill in missing values in OutcomeSubtypes\n",
    "\n",
    "After the missing values are filled in, let's recreate the Column 'Outcome' again"
   ]
  },
  {
   "cell_type": "code",
   "execution_count": 13,
   "metadata": {},
   "outputs": [
    {
     "name": "stdout",
     "output_type": "stream",
     "text": [
      "Number of unique OutcomeSubtypes:  17\n",
      "Number of unique Outcomes:  22\n"
     ]
    }
   ],
   "source": [
    "train.OutcomeSubtype = train.OutcomeSubtype.fillna(\"NaN\")\n",
    "train[\"Outcome\"] = train.OutcomeType + \" - \" + train.OutcomeSubtype\n",
    "\n",
    "print(\"Number of unique OutcomeSubtypes: \", len(train.OutcomeSubtype.unique()))\n",
    "print(\"Number of unique Outcomes: \", len(train.Outcome.unique()))"
   ]
  },
  {
   "cell_type": "markdown",
   "metadata": {},
   "source": [
    "### All the possible outcomes\n",
    "\n",
    "Very interesting, remember how Barn is a subtype shared between 'Adoption' and 'Transfer'?  Well there is only one example for each!"
   ]
  },
  {
   "cell_type": "code",
   "execution_count": 14,
   "metadata": {},
   "outputs": [
    {
     "data": {
      "image/png": "[encoded data removed]",
      "text/plain": [
       "<matplotlib.figure.Figure at 0x1a0d428940>"
      ]
     },
     "metadata": {},
     "output_type": "display_data"
    }
   ],
   "source": [
    "pretty_bar(train.Outcome.value_counts().sort_index())"
   ]
  },
  {
   "cell_type": "markdown",
   "metadata": {},
   "source": [
    "### Difference animal types"
   ]
  },
  {
   "cell_type": "code",
   "execution_count": 15,
   "metadata": {},
   "outputs": [
    {
     "data": {
      "image/png": "[encoded data removed]",
      "text/plain": [
       "<matplotlib.figure.Figure at 0x1a0d05dda0>"
      ]
     },
     "metadata": {},
     "output_type": "display_data"
    }
   ],
   "source": [
    "_ = full.AnimalType.value_counts().plot(kind=\"pie\")"
   ]
  },
  {
   "cell_type": "markdown",
   "metadata": {},
   "source": [
    "### AnimalType mapping"
   ]
  },
  {
   "cell_type": "code",
   "execution_count": 16,
   "metadata": {
    "collapsed": true
   },
   "outputs": [],
   "source": [
    "animal_map = {\"Dog\": 0, \"Cat\": 1}\n",
    "\n",
    "full.AnimalType = full.AnimalType.map(animal_map)"
   ]
  },
  {
   "cell_type": "markdown",
   "metadata": {},
   "source": [
    "### Time"
   ]
  },
  {
   "cell_type": "code",
   "execution_count": 17,
   "metadata": {
    "collapsed": true
   },
   "outputs": [],
   "source": [
    "full[\"weekday\"] = full.DateTime.map(lambda x: x.weekday())\n",
    "full[\"year\"]    = full.DateTime.map(lambda x: x.year)\n",
    "full[\"month\"]   = full.DateTime.map(lambda x: x.month)\n",
    "full[\"hour\"]    = full.DateTime.map(lambda x: x.hour)\n",
    "\n",
    "full[\"is_weekend\"] = full.weekday.map(lambda x: int(x in [5, 6]))"
   ]
  },
  {
   "cell_type": "markdown",
   "metadata": {},
   "source": [
    "### Create column: time of day"
   ]
  },
  {
   "cell_type": "code",
   "execution_count": 18,
   "metadata": {
    "collapsed": true
   },
   "outputs": [],
   "source": [
    "full[\"night\"]   = full.hour.map(lambda x: int(x > 5  and x < 11))\n",
    "full[\"morning\"] = full.hour.map(lambda x: int(x > 10 and x < 16))\n",
    "full[\"midday\"]  = full.hour.map(lambda x: int(x > 15 and x < 20))\n",
    "full[\"lateday\"] = full.hour.map(lambda x: int(x > 19 or  x < 6))"
   ]
  },
  {
   "cell_type": "markdown",
   "metadata": {},
   "source": [
    "### SexuponOutcome\n",
    "\n",
    "This column appears to have two pieces of information, the sex and whether the animal is neutered"
   ]
  },
  {
   "cell_type": "code",
   "execution_count": 19,
   "metadata": {},
   "outputs": [
    {
     "data": {
      "image/png": "[encoded data removed]",
      "text/plain": [
       "<matplotlib.figure.Figure at 0x10687e518>"
      ]
     },
     "metadata": {},
     "output_type": "display_data"
    }
   ],
   "source": [
    "_ = full.SexuponOutcome.value_counts().plot(kind=\"bar\")"
   ]
  },
  {
   "cell_type": "markdown",
   "metadata": {},
   "source": [
    "### Create columns sex and is_netured"
   ]
  },
  {
   "cell_type": "code",
   "execution_count": 20,
   "metadata": {},
   "outputs": [],
   "source": [
    "def get_neut(x):\n",
    "    if x is np.nan:\n",
    "        return np.nan\n",
    "    elif x == \"Unknown\":\n",
    "        return 2\n",
    "    return int(x in [\"Neutered\", \"Sprayed\"])\n",
    "\n",
    "def get_sex(x):\n",
    "    if x is np.nan:\n",
    "        return np.nan\n",
    "    elif x == \"Unknown\":\n",
    "        return 2\n",
    "    return int(\"Male\" in x)\n",
    "\n",
    "full[\"Sex\"] = full.SexuponOutcome.map(get_sex)\n",
    "full[\"isNeutered\"] = full.SexuponOutcome.map(get_neut)\n",
    "\n",
    "full = full.drop([\"SexuponOutcome\"], axis=1)"
   ]
  },
  {
   "cell_type": "markdown",
   "metadata": {},
   "source": [
    "### Sex and isNetured\n",
    "\n",
    "Note:\n",
    "        \n",
    "    Sex       : 0 indicates \"Female\" ,  1 indicates \"Male\",     2 indicates \"Unknown\"\n",
    "    isNeutered : 0 indicates \"Natural\", 1 indicates \"Neutered\", 2 indicates \"Unknown\""
   ]
  },
  {
   "cell_type": "code",
   "execution_count": 21,
   "metadata": {},
   "outputs": [
    {
     "data": {
      "image/png": "[encoded data removed]",
      "text/plain": [
       "<matplotlib.figure.Figure at 0x1a0d127d30>"
      ]
     },
     "metadata": {},
     "output_type": "display_data"
    }
   ],
   "source": [
    "fig, axarr = plt.subplots(1, 2, figsize=(12, 8))\n",
    "\n",
    "full.isNeutered.value_counts().plot(kind=\"bar\", ax=axarr[0], title=\"is Neutered?\")\n",
    "_ = full.Sex.value_counts().plot(kind=\"bar\", ax=axarr[1], title=\"is Male?\")"
   ]
  },
  {
   "cell_type": "markdown",
   "metadata": {},
   "source": [
    "### AgeuponOutcome"
   ]
  },
  {
   "cell_type": "code",
   "execution_count": 22,
   "metadata": {},
   "outputs": [
    {
     "name": "stdout",
     "output_type": "stream",
     "text": [
      "46\n",
      "['1 year' '2 years' '3 weeks' '1 month' '5 months' '4 years' '3 months'\n",
      " '2 weeks' '2 months' '10 months' '6 months' '5 years' '7 years' '3 years'\n",
      " '4 months' '12 years' '9 years' '6 years' '1 weeks' '11 years' '4 weeks'\n",
      " '7 months' '8 years' '11 months' '4 days' '9 months' '8 months' '15 years'\n",
      " '10 years' '1 week' '0 years' '14 years' '3 days' '6 days' '5 days'\n",
      " '5 weeks' '2 days' '16 years' '1 day' '13 years' nan '17 years' '18 years'\n",
      " '19 years' '20 years' '22 years']\n"
     ]
    }
   ],
   "source": [
    "print(len(full.AgeuponOutcome.unique()))\n",
    "print(full.AgeuponOutcome.unique())"
   ]
  },
  {
   "cell_type": "code",
   "execution_count": 23,
   "metadata": {
    "collapsed": true,
    "scrolled": true
   },
   "outputs": [],
   "source": [
    "def format_age(x):\n",
    "    if x is np.nan:\n",
    "        return None\n",
    "    \n",
    "    num, scale = x.split(\" \")\n",
    "    if scale in [\"day\", \"days\"]:\n",
    "        return int(num)\n",
    "    elif scale in [\"week\", \"weeks\"]:\n",
    "        return 7 * int(num)\n",
    "    elif scale in [\"month\", \"months\"]:\n",
    "        return 30 * int(num)\n",
    "    elif scale in [\"year\", \"years\"]:\n",
    "        return 365 * int(num)\n",
    "\n",
    "# This may seem like double variables, but people are weird and may think 100 weeks is a lot younger than 2 years\n",
    "def human_age(x, timescale):\n",
    "    if x is np.nan:\n",
    "        return 0\n",
    "    num, scale = x.split(\" \")\n",
    "    if scale in [timescale, timescale+\"s\"]:\n",
    "        return int(num)\n",
    "    return 0\n",
    "\n",
    "full[\"age_year\"]  = full.AgeuponOutcome.map(lambda x: human_age(x, \"year\"))\n",
    "full[\"age_month\"] = full.AgeuponOutcome.map(lambda x: human_age(x, \"month\"))\n",
    "full[\"age_week\"]  = full.AgeuponOutcome.map(lambda x: human_age(x, \"week\"))\n",
    "full[\"age_day\"]   = full.AgeuponOutcome.map(lambda x: human_age(x, \"day\"))\n",
    "full.AgeuponOutcome = full.AgeuponOutcome.map(format_age)"
   ]
  },
  {
   "cell_type": "markdown",
   "metadata": {},
   "source": [
    "### Fill in AgeuponOutcome values"
   ]
  },
  {
   "cell_type": "code",
   "execution_count": 24,
   "metadata": {
    "collapsed": true,
    "scrolled": true
   },
   "outputs": [],
   "source": [
    "full.AgeuponOutcome.fillna(\n",
    "    full.groupby(\"Breed\")[\"AgeuponOutcome\"].transform(\"median\"), inplace=True)"
   ]
  },
  {
   "cell_type": "markdown",
   "metadata": {},
   "source": [
    "### Create column: is_baby"
   ]
  },
  {
   "cell_type": "code",
   "execution_count": 25,
   "metadata": {
    "collapsed": true
   },
   "outputs": [],
   "source": [
    "full[\"is_baby\"] = full.AgeuponOutcome.map(lambda x: int(x < 365))"
   ]
  },
  {
   "cell_type": "markdown",
   "metadata": {},
   "source": [
    "### Breed and Color columns"
   ]
  },
  {
   "cell_type": "code",
   "execution_count": 26,
   "metadata": {},
   "outputs": [
    {
     "name": "stdout",
     "output_type": "stream",
     "text": [
      "All breeds contained in test data are in train data?\n",
      "False\n",
      "\n",
      "All colors contained in test data are in train data?\n",
      "False\n",
      "\n",
      "Num unique breeds 1678\n",
      "Num unique colors 411\n"
     ]
    }
   ],
   "source": [
    "print(\"All breeds contained in test data are in train data?\")\n",
    "print(set(test.Breed.unique()) <= set(train.Breed.unique()))\n",
    "print()\n",
    "print(\"All colors contained in test data are in train data?\")\n",
    "print(set(test.Color.unique()) <= set(train.Color.unique()))\n",
    "print()\n",
    "print(\"Num unique breeds\", len(full.Breed.unique()))\n",
    "print(\"Num unique colors\", len(full.Color.unique()))"
   ]
  },
  {
   "cell_type": "markdown",
   "metadata": {},
   "source": [
    "### Create column first breed"
   ]
  },
  {
   "cell_type": "code",
   "execution_count": 27,
   "metadata": {
    "collapsed": true
   },
   "outputs": [],
   "source": [
    "full[\"first_breed\"] = full.Breed.map(lambda x: x.split(\"/\")[0].replace(\" Mix\", \"\"))"
   ]
  },
  {
   "cell_type": "markdown",
   "metadata": {},
   "source": [
    "### Breed mapping"
   ]
  },
  {
   "cell_type": "code",
   "execution_count": 28,
   "metadata": {},
   "outputs": [
    {
     "data": {
      "image/png": "[encoded data removed]",
      "text/plain": [
       "<matplotlib.figure.Figure at 0x1a0c2f5dd8>"
      ]
     },
     "metadata": {},
     "output_type": "display_data"
    }
   ],
   "source": [
    "breed_map = get_col_map(full, \"Breed\", 300)\n",
    "first_breed_map = get_col_map(full, \"first_breed\", 300)\n",
    "\n",
    "full.Breed       = full.Breed.map(breed_map)\n",
    "full.first_breed = full.first_breed.map(first_breed_map)\n",
    "\n",
    "_ = full.Breed.value_counts().head(15).plot(kind=\"bar\")"
   ]
  },
  {
   "cell_type": "markdown",
   "metadata": {},
   "source": [
    "---\n",
    "# Color\n",
    "\n",
    "### Create column: Individual colors"
   ]
  },
  {
   "cell_type": "code",
   "execution_count": 29,
   "metadata": {
    "collapsed": true
   },
   "outputs": [],
   "source": [
    "blue_map  = lambda x: 1 if \"Blue\"      in x else 0\n",
    "black_map = lambda x: 1 if \"White\"     in x else 0\n",
    "white_map = lambda x: 1 if \"White\"     in x else 0\n",
    "brown_map = lambda x: 1 if \"Brown\"     in x else 0\n",
    "tabby_map = lambda x: 1 if \"Tabby\"     in x else 0\n",
    "tan_map   = lambda x: 1 if \"Tan\"       in x else 0\n",
    "red_map   = lambda x: 1 if \"Red\"       in x else 0\n",
    "choc_map  = lambda x: 1 if \"Chocolate\" in x else 0\n",
    "\n",
    "\n",
    "full[\"Blue\"]  = full.Color.map(blue_map)\n",
    "full[\"Black\"] = full.Color.map(black_map)\n",
    "full[\"White\"] = full.Color.map(white_map)\n",
    "full[\"Brown\"] = full.Color.map(brown_map)\n",
    "full[\"Tabby\"] = full.Color.map(tabby_map)\n",
    "full[\"Tan\"]   = full.Color.map(tan_map)\n",
    "full[\"Red\"]   = full.Color.map(red_map)\n",
    "full[\"Choc\"]  = full.Color.map(choc_map)"
   ]
  },
  {
   "cell_type": "markdown",
   "metadata": {},
   "source": [
    "### Color mapping"
   ]
  },
  {
   "cell_type": "code",
   "execution_count": 30,
   "metadata": {},
   "outputs": [
    {
     "data": {
      "image/png": "[encoded data removed]",
      "text/plain": [
       "<matplotlib.figure.Figure at 0x1a0bf183c8>"
      ]
     },
     "metadata": {},
     "output_type": "display_data"
    }
   ],
   "source": [
    "color_map = get_col_map(full, \"Color\", 300)\n",
    "\n",
    "full.Color = full.Color.map(color_map)\n",
    "\n",
    "_ = full.Color.value_counts().head(15).plot(kind=\"bar\")"
   ]
  },
  {
   "cell_type": "markdown",
   "metadata": {},
   "source": [
    "### Name\n",
    "\n",
    "I'm wondering if a missing name is indicative of anything?  Maybe the name is missing because the dog was transfered quickly or spent a little time at the shelter.  Also some outcome's may rely on having documentation of the name"
   ]
  },
  {
   "cell_type": "code",
   "execution_count": 31,
   "metadata": {
    "collapsed": true
   },
   "outputs": [],
   "source": [
    "name_map = lambda x: 0 if x is np.nan else 1\n",
    "\n",
    "full.Name = full.Name.map(name_map)"
   ]
  },
  {
   "cell_type": "markdown",
   "metadata": {},
   "source": [
    "### Split full back into train and test"
   ]
  },
  {
   "cell_type": "code",
   "execution_count": 32,
   "metadata": {},
   "outputs": [
    {
     "data": {
      "text/html": [
       "<div>\n",
       "<style>\n",
       "    .dataframe thead tr:only-child th {\n",
       "        text-align: right;\n",
       "    }\n",
       "\n",
       "    .dataframe thead th {\n",
       "        text-align: left;\n",
       "    }\n",
       "\n",
       "    .dataframe tbody tr th {\n",
       "        vertical-align: top;\n",
       "    }\n",
       "</style>\n",
       "<table border=\"1\" class=\"dataframe\">\n",
       "  <thead>\n",
       "    <tr style=\"text-align: right;\">\n",
       "      <th></th>\n",
       "      <th>AgeuponOutcome</th>\n",
       "      <th>AnimalID</th>\n",
       "      <th>AnimalType</th>\n",
       "      <th>Breed</th>\n",
       "      <th>Color</th>\n",
       "      <th>DateTime</th>\n",
       "      <th>ID</th>\n",
       "      <th>Name</th>\n",
       "      <th>OutcomeSubtype</th>\n",
       "      <th>OutcomeType</th>\n",
       "      <th>...</th>\n",
       "      <th>is_baby</th>\n",
       "      <th>first_breed</th>\n",
       "      <th>Blue</th>\n",
       "      <th>Black</th>\n",
       "      <th>White</th>\n",
       "      <th>Brown</th>\n",
       "      <th>Tabby</th>\n",
       "      <th>Tan</th>\n",
       "      <th>Red</th>\n",
       "      <th>Choc</th>\n",
       "    </tr>\n",
       "  </thead>\n",
       "  <tbody>\n",
       "    <tr>\n",
       "      <th>0</th>\n",
       "      <td>365.0</td>\n",
       "      <td>A671945</td>\n",
       "      <td>0</td>\n",
       "      <td>13</td>\n",
       "      <td>5</td>\n",
       "      <td>2014-02-12 18:22:00</td>\n",
       "      <td>NaN</td>\n",
       "      <td>1</td>\n",
       "      <td>NaN</td>\n",
       "      <td>Return_to_owner</td>\n",
       "      <td>...</td>\n",
       "      <td>0</td>\n",
       "      <td>20</td>\n",
       "      <td>0</td>\n",
       "      <td>1</td>\n",
       "      <td>1</td>\n",
       "      <td>1</td>\n",
       "      <td>0</td>\n",
       "      <td>0</td>\n",
       "      <td>0</td>\n",
       "      <td>0</td>\n",
       "    </tr>\n",
       "    <tr>\n",
       "      <th>1</th>\n",
       "      <td>365.0</td>\n",
       "      <td>A656520</td>\n",
       "      <td>1</td>\n",
       "      <td>0</td>\n",
       "      <td>30</td>\n",
       "      <td>2013-10-13 12:44:00</td>\n",
       "      <td>NaN</td>\n",
       "      <td>1</td>\n",
       "      <td>Suffering</td>\n",
       "      <td>Euthanasia</td>\n",
       "      <td>...</td>\n",
       "      <td>0</td>\n",
       "      <td>0</td>\n",
       "      <td>0</td>\n",
       "      <td>0</td>\n",
       "      <td>0</td>\n",
       "      <td>0</td>\n",
       "      <td>1</td>\n",
       "      <td>0</td>\n",
       "      <td>0</td>\n",
       "      <td>0</td>\n",
       "    </tr>\n",
       "    <tr>\n",
       "      <th>2</th>\n",
       "      <td>730.0</td>\n",
       "      <td>A686464</td>\n",
       "      <td>0</td>\n",
       "      <td>1</td>\n",
       "      <td>9</td>\n",
       "      <td>2015-01-31 12:28:00</td>\n",
       "      <td>NaN</td>\n",
       "      <td>1</td>\n",
       "      <td>Foster</td>\n",
       "      <td>Adoption</td>\n",
       "      <td>...</td>\n",
       "      <td>0</td>\n",
       "      <td>1</td>\n",
       "      <td>1</td>\n",
       "      <td>1</td>\n",
       "      <td>1</td>\n",
       "      <td>0</td>\n",
       "      <td>0</td>\n",
       "      <td>0</td>\n",
       "      <td>0</td>\n",
       "      <td>0</td>\n",
       "    </tr>\n",
       "    <tr>\n",
       "      <th>3</th>\n",
       "      <td>21.0</td>\n",
       "      <td>A683430</td>\n",
       "      <td>1</td>\n",
       "      <td>0</td>\n",
       "      <td>31</td>\n",
       "      <td>2014-07-11 19:09:00</td>\n",
       "      <td>NaN</td>\n",
       "      <td>0</td>\n",
       "      <td>Partner</td>\n",
       "      <td>Transfer</td>\n",
       "      <td>...</td>\n",
       "      <td>1</td>\n",
       "      <td>0</td>\n",
       "      <td>1</td>\n",
       "      <td>0</td>\n",
       "      <td>0</td>\n",
       "      <td>0</td>\n",
       "      <td>0</td>\n",
       "      <td>0</td>\n",
       "      <td>0</td>\n",
       "      <td>0</td>\n",
       "    </tr>\n",
       "    <tr>\n",
       "      <th>4</th>\n",
       "      <td>730.0</td>\n",
       "      <td>A667013</td>\n",
       "      <td>0</td>\n",
       "      <td>13</td>\n",
       "      <td>12</td>\n",
       "      <td>2013-11-15 12:52:00</td>\n",
       "      <td>NaN</td>\n",
       "      <td>0</td>\n",
       "      <td>Partner</td>\n",
       "      <td>Transfer</td>\n",
       "      <td>...</td>\n",
       "      <td>0</td>\n",
       "      <td>20</td>\n",
       "      <td>0</td>\n",
       "      <td>0</td>\n",
       "      <td>0</td>\n",
       "      <td>0</td>\n",
       "      <td>0</td>\n",
       "      <td>1</td>\n",
       "      <td>0</td>\n",
       "      <td>0</td>\n",
       "    </tr>\n",
       "  </tbody>\n",
       "</table>\n",
       "<p>5 rows × 35 columns</p>\n",
       "</div>"
      ],
      "text/plain": [
       "   AgeuponOutcome AnimalID  AnimalType  Breed  Color            DateTime  ID  \\\n",
       "0           365.0  A671945           0     13      5 2014-02-12 18:22:00 NaN   \n",
       "1           365.0  A656520           1      0     30 2013-10-13 12:44:00 NaN   \n",
       "2           730.0  A686464           0      1      9 2015-01-31 12:28:00 NaN   \n",
       "3            21.0  A683430           1      0     31 2014-07-11 19:09:00 NaN   \n",
       "4           730.0  A667013           0     13     12 2013-11-15 12:52:00 NaN   \n",
       "\n",
       "   Name OutcomeSubtype      OutcomeType  ...   is_baby  first_breed  Blue  \\\n",
       "0     1            NaN  Return_to_owner  ...         0           20     0   \n",
       "1     1      Suffering       Euthanasia  ...         0            0     0   \n",
       "2     1         Foster         Adoption  ...         0            1     1   \n",
       "3     0        Partner         Transfer  ...         1            0     1   \n",
       "4     0        Partner         Transfer  ...         0           20     0   \n",
       "\n",
       "   Black  White  Brown  Tabby  Tan  Red  Choc  \n",
       "0      1      1      1      0    0    0     0  \n",
       "1      0      0      0      1    0    0     0  \n",
       "2      1      1      0      0    0    0     0  \n",
       "3      0      0      0      0    0    0     0  \n",
       "4      0      0      0      0    1    0     0  \n",
       "\n",
       "[5 rows x 35 columns]"
      ]
     },
     "execution_count": 32,
     "metadata": {},
     "output_type": "execute_result"
    }
   ],
   "source": [
    "train = full[:train_N]\n",
    "test = full[train_N:]\n",
    "full.head()"
   ]
  },
  {
   "cell_type": "markdown",
   "metadata": {},
   "source": [
    "### Separate target from predictors"
   ]
  },
  {
   "cell_type": "code",
   "execution_count": 33,
   "metadata": {
    "collapsed": true
   },
   "outputs": [],
   "source": [
    "train_y = train.OutcomeType.map({\"Adoption\": 0, \"Transfer\": 1, \"Return_to_owner\": 2, \"Euthanasia\": 3, \"Died\": 4})\n",
    "train_x = train.drop([\"DateTime\", \"OutcomeType\", \"OutcomeSubtype\", \"AnimalID\", \"ID\"], axis=1)\n",
    "\n",
    "test_x = test.drop([\"DateTime\", \"OutcomeType\", \"OutcomeSubtype\", \"AnimalID\", \"ID\"], axis=1)"
   ]
  },
  {
   "cell_type": "markdown",
   "metadata": {},
   "source": [
    "### Looking at the preprocessed data"
   ]
  },
  {
   "cell_type": "code",
   "execution_count": 34,
   "metadata": {},
   "outputs": [
    {
     "data": {
      "text/html": [
       "<div>\n",
       "<style>\n",
       "    .dataframe thead tr:only-child th {\n",
       "        text-align: right;\n",
       "    }\n",
       "\n",
       "    .dataframe thead th {\n",
       "        text-align: left;\n",
       "    }\n",
       "\n",
       "    .dataframe tbody tr th {\n",
       "        vertical-align: top;\n",
       "    }\n",
       "</style>\n",
       "<table border=\"1\" class=\"dataframe\">\n",
       "  <thead>\n",
       "    <tr style=\"text-align: right;\">\n",
       "      <th></th>\n",
       "      <th>AgeuponOutcome</th>\n",
       "      <th>AnimalType</th>\n",
       "      <th>Breed</th>\n",
       "      <th>Color</th>\n",
       "      <th>Name</th>\n",
       "      <th>weekday</th>\n",
       "      <th>year</th>\n",
       "      <th>month</th>\n",
       "      <th>hour</th>\n",
       "      <th>is_weekend</th>\n",
       "      <th>...</th>\n",
       "      <th>is_baby</th>\n",
       "      <th>first_breed</th>\n",
       "      <th>Blue</th>\n",
       "      <th>Black</th>\n",
       "      <th>White</th>\n",
       "      <th>Brown</th>\n",
       "      <th>Tabby</th>\n",
       "      <th>Tan</th>\n",
       "      <th>Red</th>\n",
       "      <th>Choc</th>\n",
       "    </tr>\n",
       "  </thead>\n",
       "  <tbody>\n",
       "    <tr>\n",
       "      <th>0</th>\n",
       "      <td>365.0</td>\n",
       "      <td>0</td>\n",
       "      <td>13</td>\n",
       "      <td>5</td>\n",
       "      <td>1</td>\n",
       "      <td>2</td>\n",
       "      <td>2014</td>\n",
       "      <td>2</td>\n",
       "      <td>18</td>\n",
       "      <td>0</td>\n",
       "      <td>...</td>\n",
       "      <td>0</td>\n",
       "      <td>20</td>\n",
       "      <td>0</td>\n",
       "      <td>1</td>\n",
       "      <td>1</td>\n",
       "      <td>1</td>\n",
       "      <td>0</td>\n",
       "      <td>0</td>\n",
       "      <td>0</td>\n",
       "      <td>0</td>\n",
       "    </tr>\n",
       "    <tr>\n",
       "      <th>1</th>\n",
       "      <td>365.0</td>\n",
       "      <td>1</td>\n",
       "      <td>0</td>\n",
       "      <td>30</td>\n",
       "      <td>1</td>\n",
       "      <td>6</td>\n",
       "      <td>2013</td>\n",
       "      <td>10</td>\n",
       "      <td>12</td>\n",
       "      <td>1</td>\n",
       "      <td>...</td>\n",
       "      <td>0</td>\n",
       "      <td>0</td>\n",
       "      <td>0</td>\n",
       "      <td>0</td>\n",
       "      <td>0</td>\n",
       "      <td>0</td>\n",
       "      <td>1</td>\n",
       "      <td>0</td>\n",
       "      <td>0</td>\n",
       "      <td>0</td>\n",
       "    </tr>\n",
       "    <tr>\n",
       "      <th>2</th>\n",
       "      <td>730.0</td>\n",
       "      <td>0</td>\n",
       "      <td>1</td>\n",
       "      <td>9</td>\n",
       "      <td>1</td>\n",
       "      <td>5</td>\n",
       "      <td>2015</td>\n",
       "      <td>1</td>\n",
       "      <td>12</td>\n",
       "      <td>1</td>\n",
       "      <td>...</td>\n",
       "      <td>0</td>\n",
       "      <td>1</td>\n",
       "      <td>1</td>\n",
       "      <td>1</td>\n",
       "      <td>1</td>\n",
       "      <td>0</td>\n",
       "      <td>0</td>\n",
       "      <td>0</td>\n",
       "      <td>0</td>\n",
       "      <td>0</td>\n",
       "    </tr>\n",
       "    <tr>\n",
       "      <th>3</th>\n",
       "      <td>21.0</td>\n",
       "      <td>1</td>\n",
       "      <td>0</td>\n",
       "      <td>31</td>\n",
       "      <td>0</td>\n",
       "      <td>4</td>\n",
       "      <td>2014</td>\n",
       "      <td>7</td>\n",
       "      <td>19</td>\n",
       "      <td>0</td>\n",
       "      <td>...</td>\n",
       "      <td>1</td>\n",
       "      <td>0</td>\n",
       "      <td>1</td>\n",
       "      <td>0</td>\n",
       "      <td>0</td>\n",
       "      <td>0</td>\n",
       "      <td>0</td>\n",
       "      <td>0</td>\n",
       "      <td>0</td>\n",
       "      <td>0</td>\n",
       "    </tr>\n",
       "    <tr>\n",
       "      <th>4</th>\n",
       "      <td>730.0</td>\n",
       "      <td>0</td>\n",
       "      <td>13</td>\n",
       "      <td>12</td>\n",
       "      <td>0</td>\n",
       "      <td>4</td>\n",
       "      <td>2013</td>\n",
       "      <td>11</td>\n",
       "      <td>12</td>\n",
       "      <td>0</td>\n",
       "      <td>...</td>\n",
       "      <td>0</td>\n",
       "      <td>20</td>\n",
       "      <td>0</td>\n",
       "      <td>0</td>\n",
       "      <td>0</td>\n",
       "      <td>0</td>\n",
       "      <td>0</td>\n",
       "      <td>1</td>\n",
       "      <td>0</td>\n",
       "      <td>0</td>\n",
       "    </tr>\n",
       "  </tbody>\n",
       "</table>\n",
       "<p>5 rows × 30 columns</p>\n",
       "</div>"
      ],
      "text/plain": [
       "   AgeuponOutcome  AnimalType  Breed  Color  Name  weekday  year  month  hour  \\\n",
       "0           365.0           0     13      5     1        2  2014      2    18   \n",
       "1           365.0           1      0     30     1        6  2013     10    12   \n",
       "2           730.0           0      1      9     1        5  2015      1    12   \n",
       "3            21.0           1      0     31     0        4  2014      7    19   \n",
       "4           730.0           0     13     12     0        4  2013     11    12   \n",
       "\n",
       "   is_weekend  ...   is_baby  first_breed  Blue  Black  White  Brown  Tabby  \\\n",
       "0           0  ...         0           20     0      1      1      1      0   \n",
       "1           1  ...         0            0     0      0      0      0      1   \n",
       "2           1  ...         0            1     1      1      1      0      0   \n",
       "3           0  ...         1            0     1      0      0      0      0   \n",
       "4           0  ...         0           20     0      0      0      0      0   \n",
       "\n",
       "   Tan  Red  Choc  \n",
       "0    0    0     0  \n",
       "1    0    0     0  \n",
       "2    0    0     0  \n",
       "3    0    0     0  \n",
       "4    1    0     0  \n",
       "\n",
       "[5 rows x 30 columns]"
      ]
     },
     "execution_count": 34,
     "metadata": {},
     "output_type": "execute_result"
    }
   ],
   "source": [
    "train_x.head()"
   ]
  },
  {
   "cell_type": "code",
   "execution_count": 35,
   "metadata": {},
   "outputs": [
    {
     "data": {
      "text/html": [
       "<div>\n",
       "<style>\n",
       "    .dataframe thead tr:only-child th {\n",
       "        text-align: right;\n",
       "    }\n",
       "\n",
       "    .dataframe thead th {\n",
       "        text-align: left;\n",
       "    }\n",
       "\n",
       "    .dataframe tbody tr th {\n",
       "        vertical-align: top;\n",
       "    }\n",
       "</style>\n",
       "<table border=\"1\" class=\"dataframe\">\n",
       "  <thead>\n",
       "    <tr style=\"text-align: right;\">\n",
       "      <th></th>\n",
       "      <th>AgeuponOutcome</th>\n",
       "      <th>AnimalType</th>\n",
       "      <th>Breed</th>\n",
       "      <th>Color</th>\n",
       "      <th>Name</th>\n",
       "      <th>weekday</th>\n",
       "      <th>year</th>\n",
       "      <th>month</th>\n",
       "      <th>hour</th>\n",
       "      <th>is_weekend</th>\n",
       "      <th>...</th>\n",
       "      <th>is_baby</th>\n",
       "      <th>first_breed</th>\n",
       "      <th>Blue</th>\n",
       "      <th>Black</th>\n",
       "      <th>White</th>\n",
       "      <th>Brown</th>\n",
       "      <th>Tabby</th>\n",
       "      <th>Tan</th>\n",
       "      <th>Red</th>\n",
       "      <th>Choc</th>\n",
       "    </tr>\n",
       "  </thead>\n",
       "  <tbody>\n",
       "    <tr>\n",
       "      <th>0</th>\n",
       "      <td>300.0</td>\n",
       "      <td>0</td>\n",
       "      <td>3</td>\n",
       "      <td>25</td>\n",
       "      <td>1</td>\n",
       "      <td>0</td>\n",
       "      <td>2015</td>\n",
       "      <td>10</td>\n",
       "      <td>12</td>\n",
       "      <td>0</td>\n",
       "      <td>...</td>\n",
       "      <td>1</td>\n",
       "      <td>3</td>\n",
       "      <td>0</td>\n",
       "      <td>1</td>\n",
       "      <td>1</td>\n",
       "      <td>0</td>\n",
       "      <td>0</td>\n",
       "      <td>0</td>\n",
       "      <td>1</td>\n",
       "      <td>0</td>\n",
       "    </tr>\n",
       "    <tr>\n",
       "      <th>1</th>\n",
       "      <td>730.0</td>\n",
       "      <td>0</td>\n",
       "      <td>13</td>\n",
       "      <td>10</td>\n",
       "      <td>1</td>\n",
       "      <td>5</td>\n",
       "      <td>2014</td>\n",
       "      <td>7</td>\n",
       "      <td>17</td>\n",
       "      <td>1</td>\n",
       "      <td>...</td>\n",
       "      <td>0</td>\n",
       "      <td>5</td>\n",
       "      <td>0</td>\n",
       "      <td>0</td>\n",
       "      <td>0</td>\n",
       "      <td>0</td>\n",
       "      <td>0</td>\n",
       "      <td>1</td>\n",
       "      <td>0</td>\n",
       "      <td>0</td>\n",
       "    </tr>\n",
       "    <tr>\n",
       "      <th>2</th>\n",
       "      <td>365.0</td>\n",
       "      <td>1</td>\n",
       "      <td>0</td>\n",
       "      <td>2</td>\n",
       "      <td>1</td>\n",
       "      <td>2</td>\n",
       "      <td>2016</td>\n",
       "      <td>1</td>\n",
       "      <td>12</td>\n",
       "      <td>0</td>\n",
       "      <td>...</td>\n",
       "      <td>0</td>\n",
       "      <td>0</td>\n",
       "      <td>0</td>\n",
       "      <td>0</td>\n",
       "      <td>0</td>\n",
       "      <td>1</td>\n",
       "      <td>1</td>\n",
       "      <td>0</td>\n",
       "      <td>0</td>\n",
       "      <td>0</td>\n",
       "    </tr>\n",
       "    <tr>\n",
       "      <th>3</th>\n",
       "      <td>120.0</td>\n",
       "      <td>0</td>\n",
       "      <td>13</td>\n",
       "      <td>8</td>\n",
       "      <td>1</td>\n",
       "      <td>5</td>\n",
       "      <td>2013</td>\n",
       "      <td>12</td>\n",
       "      <td>18</td>\n",
       "      <td>1</td>\n",
       "      <td>...</td>\n",
       "      <td>1</td>\n",
       "      <td>20</td>\n",
       "      <td>0</td>\n",
       "      <td>0</td>\n",
       "      <td>0</td>\n",
       "      <td>0</td>\n",
       "      <td>0</td>\n",
       "      <td>0</td>\n",
       "      <td>0</td>\n",
       "      <td>0</td>\n",
       "    </tr>\n",
       "    <tr>\n",
       "      <th>4</th>\n",
       "      <td>730.0</td>\n",
       "      <td>0</td>\n",
       "      <td>10</td>\n",
       "      <td>3</td>\n",
       "      <td>1</td>\n",
       "      <td>3</td>\n",
       "      <td>2015</td>\n",
       "      <td>9</td>\n",
       "      <td>17</td>\n",
       "      <td>0</td>\n",
       "      <td>...</td>\n",
       "      <td>0</td>\n",
       "      <td>12</td>\n",
       "      <td>0</td>\n",
       "      <td>1</td>\n",
       "      <td>1</td>\n",
       "      <td>0</td>\n",
       "      <td>0</td>\n",
       "      <td>0</td>\n",
       "      <td>0</td>\n",
       "      <td>0</td>\n",
       "    </tr>\n",
       "  </tbody>\n",
       "</table>\n",
       "<p>5 rows × 30 columns</p>\n",
       "</div>"
      ],
      "text/plain": [
       "   AgeuponOutcome  AnimalType  Breed  Color  Name  weekday  year  month  hour  \\\n",
       "0           300.0           0      3     25     1        0  2015     10    12   \n",
       "1           730.0           0     13     10     1        5  2014      7    17   \n",
       "2           365.0           1      0      2     1        2  2016      1    12   \n",
       "3           120.0           0     13      8     1        5  2013     12    18   \n",
       "4           730.0           0     10      3     1        3  2015      9    17   \n",
       "\n",
       "   is_weekend  ...   is_baby  first_breed  Blue  Black  White  Brown  Tabby  \\\n",
       "0           0  ...         1            3     0      1      1      0      0   \n",
       "1           1  ...         0            5     0      0      0      0      0   \n",
       "2           0  ...         0            0     0      0      0      1      1   \n",
       "3           1  ...         1           20     0      0      0      0      0   \n",
       "4           0  ...         0           12     0      1      1      0      0   \n",
       "\n",
       "   Tan  Red  Choc  \n",
       "0    0    1     0  \n",
       "1    1    0     0  \n",
       "2    0    0     0  \n",
       "3    0    0     0  \n",
       "4    0    0     0  \n",
       "\n",
       "[5 rows x 30 columns]"
      ]
     },
     "execution_count": 35,
     "metadata": {},
     "output_type": "execute_result"
    }
   ],
   "source": [
    "test_x.head()"
   ]
  },
  {
   "cell_type": "markdown",
   "metadata": {},
   "source": [
    "## Construct the model\n",
    "\n",
    "Let's try out a few models and see which works best through cross validation"
   ]
  },
  {
   "cell_type": "code",
   "execution_count": 36,
   "metadata": {
    "collapsed": true
   },
   "outputs": [],
   "source": [
    "# Massive amounts of model imports\n",
    "from sklearn.ensemble import RandomForestClassifier, AdaBoostClassifier, GradientBoostingClassifier, ExtraTreesClassifier, VotingClassifier\n",
    "from sklearn.discriminant_analysis import LinearDiscriminantAnalysis\n",
    "from sklearn.linear_model import LogisticRegression\n",
    "from sklearn.model_selection import KFold, cross_val_score, GridSearchCV, StratifiedKFold, learning_curve\n",
    "from sklearn.neighbors import KNeighborsClassifier\n",
    "from sklearn.neural_network import MLPClassifier\n",
    "from sklearn.pipeline import make_pipeline\n",
    "from sklearn.preprocessing import Imputer\n",
    "from sklearn.svm import SVC\n",
    "from sklearn.tree import DecisionTreeClassifier\n",
    "from xgboost import XGBClassifier\n",
    "from lightgbm import LGBMClassifier\n",
    "\n",
    "kfold = StratifiedKFold()\n",
    "\n",
    "def score_model(model):\n",
    "    score = cross_val_score(model, train_x, train_y, cv=kfold, n_jobs=1, scoring=\"accuracy\")\n",
    "    print(score)\n",
    "    print(\"\\nAverage is ...\")\n",
    "    print(sum(score) / len(score))"
   ]
  },
  {
   "cell_type": "markdown",
   "metadata": {},
   "source": [
    " ---\n",
    "\n",
    "## Extra Trees Classifier\n",
    "\n",
    "### Parameter Search\n",
    "\n",
    "(open Markdown here to see param search history)\n",
    "\n",
    "<div hidden>\n",
    "\n",
    "#### Attempt 1:\n",
    "\n",
    "Tried:\n",
    "\n",
    "{\"max_depth\": [None],\n",
    "  \"max_features\": [1, 3, 10],\n",
    "  \"min_samples_split\": [2, 3, 10],\n",
    "  \"min_samples_leaf\": [1, 3, 10],\n",
    "  \"bootstrap\": [False],\n",
    "  \"n_estimators\" :[100,300],\n",
    "  \"criterion\": [\"gini\"]}\n",
    "\n",
    "Best:\n",
    "\n",
    "{'bootstrap': False,\n",
    " 'criterion': 'gini',\n",
    " 'max_depth': None,\n",
    " 'max_features': 10,\n",
    " 'min_samples_leaf': 10,\n",
    " 'min_samples_split': 2,\n",
    " 'n_estimators': 300}\n",
    " \n",
    "#### Attempt 2:\n",
    " \n",
    "Tried:\n",
    "\n",
    "ex_param_grid = {\n",
    "                  \"max_depth\": [2, 4],\n",
    "                  \"max_features\": [10, 14],\n",
    "                  \"min_samples_split\": [8, 10],\n",
    "                  \"min_samples_leaf\": [3, 8, 10],\n",
    "                  \"n_estimators\" :[80, 100]\n",
    "                }\n",
    "\n",
    "ExtC = ExtraTreesClassifier(max_depth=None, criterion=\"gini\", bootstrap=False,)\n",
    "\n",
    "Best:\n",
    "\n",
    "{'max_depth': 4, 'max_features': 14, 'min_samples_leaf': 8, 'min_samples_split': 10, 'n_estimators': 80}\n",
    "\n",
    "#### Attempt 3:\n",
    "\n",
    "Tried:\n",
    "\n",
    "ex_param_grid = {\n",
    "                  \"max_depth\": [None, 4],\n",
    "                  \"max_features\": [14, 16],\n",
    "                  \"min_samples_split\": [10, 12],\n",
    "                  \"min_samples_leaf\": [7, 8],\n",
    "                  \"n_estimators\" :[80, 90]\n",
    "                }\n",
    "\n",
    "ExtC = ExtraTreesClassifier(max_depth=None, criterion=\"gini\", bootstrap=False,)\n",
    "\n",
    "Best:\n",
    "\n",
    "{'max_depth': None, 'max_features': 14, 'min_samples_leaf': 8, 'min_samples_split': 10, 'n_estimators': 80}\n",
    "\n",
    "</div>"
   ]
  },
  {
   "cell_type": "code",
   "execution_count": null,
   "metadata": {
    "collapsed": true
   },
   "outputs": [],
   "source": [
    "## Search grid for optimal parameters\n",
    "ex_param_grid = {\n",
    "                  \"max_depth\": [None, 4],\n",
    "                  \"max_features\": [14, 16],\n",
    "                  \"min_samples_split\": [10, 12],\n",
    "                  \"min_samples_leaf\": [7, 8],\n",
    "                  \"n_estimators\" :[80, 90]\n",
    "                }\n",
    "\n",
    "ExtC = ExtraTreesClassifier(max_depth=None, criterion=\"gini\", bootstrap=False,)\n",
    "\n",
    "gsExtC = GridSearchCV(ExtC, param_grid=ex_param_grid, cv=kfold, scoring=\"accuracy\", verbose=1)\n",
    "\n",
    "gsExtC.fit(train_x, train_y)\n",
    "\n",
    "# Best score\n",
    "print(gsExtC.best_score_)\n",
    "print(gsExtC.best_params_)"
   ]
  },
  {
   "cell_type": "markdown",
   "metadata": {},
   "source": [
    "### Quick setup"
   ]
  },
  {
   "cell_type": "code",
   "execution_count": null,
   "metadata": {
    "collapsed": true
   },
   "outputs": [],
   "source": [
    "# etc_model = ExtraTreesClassifier(\n",
    "#                                     bootstrap=False,\n",
    "#                                     criterion=\"gini\",\n",
    "#                                     max_depth=None,\n",
    "#                                     max_features=14,\n",
    "#                                     min_samples_leaf=8,\n",
    "#                                     min_samples_split=10,\n",
    "#                                     n_estimators=80\n",
    "#                                 )\n",
    "# etc_model.fit(train_x, train_y)\n",
    "# score_model(etc_model)"
   ]
  },
  {
   "cell_type": "markdown",
   "metadata": {},
   "source": [
    " ---\n",
    "\n",
    "## Random Forest Classifier\n",
    "\n",
    "### Parameter Search\n",
    "\n",
    "(open Markdown here to see param search history)\n",
    "\n",
    "<div hidden>\n",
    "\n",
    "#### Attempt 1:\n",
    "\n",
    "Tried:\n",
    "\n",
    "{\"max_depth\": [None],\n",
    "  \"max_features\": [1, 3, 10],\n",
    "  \"min_samples_split\": [2, 3, 10],\n",
    "  \"min_samples_leaf\": [1, 3, 10],\n",
    "  \"bootstrap\": [False],\n",
    "  \"n_estimators\" :[100,300],\n",
    "  \"criterion\": [\"gini\"]}\n",
    "\n",
    "Best:\n",
    "\n",
    "{'bootstrap': False,\n",
    " 'criterion': 'gini',\n",
    " 'max_depth': None,\n",
    " 'max_features': 3,\n",
    " 'min_samples_leaf': 10,\n",
    " 'min_samples_split': 10,\n",
    " 'n_estimators': 300}\n",
    " \n",
    "#### Attempt 2:\n",
    "\n",
    "Tried:\n",
    "\n",
    "rf_param_grid = {\n",
    "                    \"max_depth\": [None, 1, 2],\n",
    "                    \"max_features\": [3, 5],\n",
    "                    \"min_samples_split\": [8, 10],\n",
    "                    \"min_samples_leaf\": [8, 10],\n",
    "                    \"n_estimators\" :[100,300],\n",
    "                }\n",
    "\n",
    "RFC = RandomForestClassifier(bootstrap=False, criterion=\"gini\")\n",
    "\n",
    "Best:\n",
    "\n",
    "{'max_depth': None, 'max_features': 5, 'min_samples_leaf': 8, 'min_samples_split': 8, 'n_estimators': 300}\n",
    "\n",
    "#### Attempt 3:\n",
    "\n",
    "Tried:\n",
    "\n",
    "rf_param_grid = {\n",
    "                    \"max_features\": [5, 7],\n",
    "                    \"min_samples_split\": [6, 8],\n",
    "                    \"min_samples_leaf\": [6, 8],\n",
    "                    \"n_estimators\" :[200, 300, 350],\n",
    "                }\n",
    "\n",
    "RFC = RandomForestClassifier(bootstrap=False, criterion=\"gini\", max_depth=None)\n",
    "\n",
    "Best:\n",
    "\n",
    "{'max_features': 7, 'min_samples_leaf': 6, 'min_samples_split': 8, 'n_estimators': 350}\n",
    "\n",
    "</div>"
   ]
  },
  {
   "cell_type": "code",
   "execution_count": null,
   "metadata": {
    "collapsed": true
   },
   "outputs": [],
   "source": [
    "## Search grid for optimal parameters\n",
    "rf_param_grid = {\n",
    "                    \"max_features\": [5, 7],\n",
    "                    \"min_samples_split\": [6, 8],\n",
    "                    \"min_samples_leaf\": [6, 8],\n",
    "                    \"n_estimators\" :[200, 300, 350],\n",
    "                }\n",
    "\n",
    "RFC = RandomForestClassifier(bootstrap=False, criterion=\"gini\", max_depth=None)\n",
    "\n",
    "gsRFC = GridSearchCV(RFC, param_grid=rf_param_grid, cv=kfold, scoring=\"accuracy\", verbose=1)\n",
    "\n",
    "gsRFC.fit(train_x, train_y)\n",
    "\n",
    "# Best score\n",
    "print(gsRFC.best_score_)\n",
    "print(gsRFC.best_params_)"
   ]
  },
  {
   "cell_type": "markdown",
   "metadata": {},
   "source": [
    "### Quick setup"
   ]
  },
  {
   "cell_type": "code",
   "execution_count": null,
   "metadata": {
    "collapsed": true
   },
   "outputs": [],
   "source": [
    "# rfc_model = RandomForestClassifier(\n",
    "#                                     bootstrap=False,\n",
    "#                                     criterion=\"gini\",\n",
    "#                                     max_depth=None,\n",
    "#                                     max_features=5,\n",
    "#                                     min_samples_leaf=8,\n",
    "#                                     min_samples_split=8,\n",
    "#                                     n_estimators=300\n",
    "#                                   )\n",
    "# rfc_model.fit(train_x, train_y)\n",
    "# score_model(rfc_model)"
   ]
  },
  {
   "cell_type": "markdown",
   "metadata": {},
   "source": [
    "---\n",
    "\n",
    "## Gradient Boost Classifier\n",
    "\n",
    "### Parameter Search\n",
    "\n",
    "(open Markdown here to see param search history)\n",
    "\n",
    "<div hidden>\n",
    "\n",
    "#### Attempt 1:\n",
    "\n",
    "Tried:\n",
    "\n",
    "{'loss' : [\"deviance\"],\n",
    "  'n_estimators' : [100,200,300],\n",
    "  'learning_rate': [0.1, 0.05, 0.01],\n",
    "  'max_depth': [4, 8],\n",
    "  'min_samples_leaf': [100,150],\n",
    "  'max_features': [0.3, 0.1] \n",
    "  }\n",
    "\n",
    "Best:\n",
    "\n",
    "{'learning_rate': 0.05,\n",
    " 'loss': 'deviance',\n",
    " 'max_depth': 8,\n",
    " 'max_features': 0.3,\n",
    " 'min_samples_leaf': 100,\n",
    " 'n_estimators': 100}\n",
    " \n",
    "#### Attempt 2:\n",
    "\n",
    "Tried:\n",
    " \n",
    "gb_param_grid = {\n",
    "                    'n_estimators' : [100, 120],\n",
    "                    'max_depth': [8, 10],\n",
    "                    'min_samples_leaf': [80, 100],\n",
    "                    'max_features': [8, 10]\n",
    "                }\n",
    "\n",
    "GBC = GradientBoostingClassifier(loss=\"deviance\", learning_rate=0.04)\n",
    "\n",
    "Best:\n",
    "\n",
    "{'max_depth': 10, 'max_features': 10, 'min_samples_leaf': 80, 'n_estimators': 120}\n",
    "\n",
    "#### Attempt 3:\n",
    "\n",
    "Tried:\n",
    " \n",
    "gb_param_grid = {\n",
    "                    'n_estimators': [120, 200],\n",
    "                    'max_depth': [None, 10],\n",
    "                    'min_samples_leaf': [70, 80, 90],\n",
    "                    'max_features': [10, 12]\n",
    "                }\n",
    "\n",
    "GBC = GradientBoostingClassifier(loss=\"deviance\", learning_rate=0.04)\n",
    "\n",
    "Best:\n",
    "\n",
    "\n",
    "</div>"
   ]
  },
  {
   "cell_type": "code",
   "execution_count": null,
   "metadata": {
    "collapsed": true
   },
   "outputs": [],
   "source": [
    "## Search grid for optimal parameters\n",
    "gb_param_grid = {\n",
    "                    'n_estimators': [120, 200],\n",
    "                    'max_depth': [None, 10],\n",
    "                    'min_samples_leaf': [70, 80, 90],\n",
    "                    'max_features': [10, 12]\n",
    "                }\n",
    "\n",
    "GBC = GradientBoostingClassifier(loss=\"deviance\", learning_rate=0.04)\n",
    "\n",
    "gsGBC = GridSearchCV(GBC, param_grid=gb_param_grid, cv=kfold, scoring=\"accuracy\", verbose=1)\n",
    "\n",
    "gsGBC.fit(train_x, train_y)\n",
    "\n",
    "# Best score\n",
    "print(gsGBC.best_score_)\n",
    "print(gsGBC.best_params_)"
   ]
  },
  {
   "cell_type": "markdown",
   "metadata": {},
   "source": [
    "### Quick setup"
   ]
  },
  {
   "cell_type": "code",
   "execution_count": null,
   "metadata": {
    "collapsed": true
   },
   "outputs": [],
   "source": [
    "# gbc_model = GradientBoostingClassifier(\n",
    "#                                           loss = \"deviance\",\n",
    "#                                           learning_rate = 0.05,\n",
    "#                                           n_estimators = 120,\n",
    "#                                           max_depth = 10,\n",
    "#                                           min_samples_leaf = 80,\n",
    "#                                           max_features = 10\n",
    "#                                       )\n",
    "# gbc_model.fit(train_x, train_y)\n",
    "# score_model(gbc_model)"
   ]
  },
  {
   "cell_type": "markdown",
   "metadata": {},
   "source": [
    "---\n",
    "\n",
    "## Ada Boost Classifier\n",
    "\n",
    "### Parameter Search\n",
    "\n",
    "(open Markdown here to see param search history)\n",
    "\n",
    "<div hidden>\n",
    "\n",
    "#### Attempt 1:\n",
    "\n",
    "tried:\n",
    "\n",
    "{\n",
    "\"n_estimators\": [1, 50, 100],\n",
    "\"learning_rate\": [0.05, 0.1, 0.2],\n",
    "\"base_estimator\\__max_depth\": [None, 2, 4],\n",
    "\"base_estimator\\__splitter\" :   [\"best\", \"random\"],\n",
    "\"base_estimator\\__criterion\" : [\"gini\", \"entropy\"]\n",
    "}\n",
    "\n",
    "best:\n",
    "\n",
    "{'base_estimator\\__criterion': 'entropy', 'base_estimator\\__max_depth': 4, 'base_estimator\\__splitter': 'random', 'learning_rate': 0.1, 'n_estimators': 100}\n",
    "\n",
    "#### Attempt 2:\n",
    "\n",
    "tried:\n",
    "\n",
    "ada_param_grid = {\n",
    "                    \"n_estimators\": [50, 100, 120, 200],\n",
    "                    \"base_estimator__max_depth\": [3, 4, 6],\n",
    "                 }\n",
    "\n",
    "DTC = DecisionTreeClassifier(random_state=17, splitter=\"random\", criterion=\"entropy\")\n",
    "\n",
    "ADA = AdaBoostClassifier(base_estimator=DTC, learning_rate=0.08)\n",
    "\n",
    "best:\n",
    "\n",
    "{'base_estimator\\__max_depth': 3, 'n_estimators': 120}\n",
    "\n",
    "#### Attempt 2:\n",
    "\n",
    "tried:\n",
    "\n",
    "ada_param_grid = {\n",
    "                    \"n_estimators\": [50, 100, 120, 200],\n",
    "                    \"base_estimator__max_depth\": [3, 4, 6],\n",
    "                 }\n",
    "\n",
    "DTC = DecisionTreeClassifier(random_state=17, splitter=\"random\", criterion=\"entropy\")\n",
    "\n",
    "ADA = AdaBoostClassifier(base_estimator=DTC, learning_rate=0.08)\n",
    "\n",
    "best:\n",
    "\n",
    "{'base_estimator__max_depth': 3, 'n_estimators': 120}\n",
    "\n",
    "</div>"
   ]
  },
  {
   "cell_type": "code",
   "execution_count": null,
   "metadata": {
    "collapsed": true
   },
   "outputs": [],
   "source": [
    "## Search grid for optimal parameters\n",
    "ada_param_grid = {\n",
    "                    \"n_estimators\": [110, 120, 130],\n",
    "                    \"base_estimator__max_depth\": [None, 3],\n",
    "                 }\n",
    "\n",
    "DTC = DecisionTreeClassifier(random_state=17, splitter=\"random\", criterion=\"entropy\")\n",
    "ADA = AdaBoostClassifier(base_estimator=DTC, learning_rate=0.08)\n",
    "\n",
    "gsADA = GridSearchCV(ADA, param_grid=ada_param_grid, cv=kfold, scoring=\"accuracy\", verbose=1)\n",
    "\n",
    "gsADA.fit(train_x, train_y)\n",
    "\n",
    "# Best score\n",
    "print(gsADA.best_score_)\n",
    "print(gsADA.best_params_)"
   ]
  },
  {
   "cell_type": "markdown",
   "metadata": {},
   "source": [
    "### Quick setup"
   ]
  },
  {
   "cell_type": "code",
   "execution_count": null,
   "metadata": {
    "collapsed": true
   },
   "outputs": [],
   "source": [
    "# dtc = DecisionTreeClassifier(\n",
    "#                                 random_state=17,\n",
    "#                                 splitter=\"random\",\n",
    "#                                 criterion=\"entropy\",\n",
    "#                                 max_depth=3\n",
    "#                             )\n",
    "\n",
    "# ada_model = AdaBoostClassifier(\n",
    "#                                 base_estimator=dtc,\n",
    "#                                 learning_rate=0.08,\n",
    "#                                 n_estimators=120\n",
    "#                               )\n",
    "\n",
    "# ada_model.fit(train_x, train_y)\n",
    "# score_model(ada_model)"
   ]
  },
  {
   "cell_type": "markdown",
   "metadata": {},
   "source": [
    "---\n",
    "\n",
    "## XGB\n",
    "\n",
    "### Model fitting"
   ]
  },
  {
   "cell_type": "code",
   "execution_count": null,
   "metadata": {
    "collapsed": true
   },
   "outputs": [],
   "source": [
    "xgb_model = XGBClassifier()\n",
    "xgb_model.fit(train_x, train_y)\n",
    "score_model(xgb_model)"
   ]
  },
  {
   "cell_type": "markdown",
   "metadata": {},
   "source": [
    "---\n",
    "\n",
    "## LGBM\n",
    "\n",
    "### Model fitting"
   ]
  },
  {
   "cell_type": "code",
   "execution_count": null,
   "metadata": {
    "collapsed": true
   },
   "outputs": [],
   "source": [
    "lgbm_model = LGBMClassifier()\n",
    "lgbm_model.fit(train_x, train_y)\n",
    "score_model(lgbm_model)"
   ]
  },
  {
   "cell_type": "markdown",
   "metadata": {},
   "source": [
    "---\n",
    "## Voting Classifier"
   ]
  },
  {
   "cell_type": "code",
   "execution_count": null,
   "metadata": {
    "collapsed": true
   },
   "outputs": [],
   "source": [
    "etc_model = gsExtC.best_estimator_\n",
    "rfc_model = gsRFC.best_estimator_\n",
    "gbc_model = gsGBC.best_estimator_\n",
    "ada_model = gsADA.best_estimator_\n",
    "\n",
    "model = VotingClassifier(estimators=[\n",
    "                                        (\"ETC\", etc_model),                                    \n",
    "                                        (\"RFC\", rfc_model),\n",
    "                                        (\"GBC\",gbc_model),\n",
    "                                        (\"XGB\", xgb_model),\n",
    "                                        (\"ADA\", ada_model),\n",
    "                                        (\"LGBM\", lgbm_model)\n",
    "                                      ], voting='soft')\n",
    "\n",
    "#### Fit and score model\n",
    "model = model.fit(train_x, train_y)\n",
    "score_model(model)"
   ]
  },
  {
   "cell_type": "markdown",
   "metadata": {},
   "source": [
    "### Predicting"
   ]
  },
  {
   "cell_type": "code",
   "execution_count": null,
   "metadata": {
    "collapsed": true
   },
   "outputs": [],
   "source": [
    "predictions = model.predict(test_x)"
   ]
  },
  {
   "cell_type": "markdown",
   "metadata": {},
   "source": [
    "### Save predictions to CSV"
   ]
  },
  {
   "cell_type": "code",
   "execution_count": null,
   "metadata": {
    "collapsed": true
   },
   "outputs": [],
   "source": [
    "pd.DataFrame({\n",
    "    \"ID\": test.ID.astype(int),\n",
    "    \"Adoption\": [1 if pred == 0 else 0 for pred in predictions],\n",
    "    \"Died\": [1 if pred == 4 else 0 for pred in predictions],\n",
    "    \"Euthanasia\": [1 if pred == 3 else 0 for pred in predictions],\n",
    "    \"Return_to_owner\": [1 if pred == 2 else 0 for pred in predictions],\n",
    "    \"Transfer\": [1 if pred == 1 else 0 for pred in predictions]\n",
    "}).to_csv('../../submissions/shelter_voting_powerful_tuning.csv',index=False)"
   ]
  }
 ],
 "metadata": {
  "kernelspec": {
   "display_name": "Python 3",
   "language": "python",
   "name": "python3"
  },
  "language_info": {
   "codemirror_mode": {
    "name": "ipython",
    "version": 3
   },
   "file_extension": ".py",
   "mimetype": "text/x-python",
   "name": "python",
   "nbconvert_exporter": "python",
   "pygments_lexer": "ipython3",
   "version": "3.6.3"
  }
 },
 "nbformat": 4,
 "nbformat_minor": 2
}
