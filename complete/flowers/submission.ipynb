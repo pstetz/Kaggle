{
 "cells": [
  {
   "cell_type": "markdown",
   "metadata": {},
   "source": [
    "# Main imports"
   ]
  },
  {
   "cell_type": "code",
   "execution_count": 1,
   "metadata": {
    "collapsed": true
   },
   "outputs": [],
   "source": [
    "import pandas as pd\n",
    "import numpy as np\n",
    "\n",
    "import warnings\n",
    "warnings.filterwarnings('ignore')"
   ]
  },
  {
   "cell_type": "markdown",
   "metadata": {},
   "source": [
    "# Creating the Model"
   ]
  },
  {
   "cell_type": "code",
   "execution_count": 2,
   "metadata": {},
   "outputs": [
    {
     "name": "stderr",
     "output_type": "stream",
     "text": [
      "Using TensorFlow backend.\n"
     ]
    }
   ],
   "source": [
    "import tensorflow\n",
    "from keras.models import Sequential\n",
    "from keras.layers import Dense, Conv2D, Dropout, MaxPool2D, Flatten\n",
    "from keras.applications import ResNet50\n",
    "from keras.models import Model\n",
    "\n",
    "num_categories = 5\n",
    "image_w = 320\n",
    "image_h = 240\n",
    "\n",
    "# This is how the Keras documentation suggests performing transfer learning\n",
    "base_model = ResNet50(include_top = False,\n",
    "               pooling = 'avg', \n",
    "               input_shape = (image_w, image_h, 3))\n",
    "\n",
    "# add a global spatial average pooling layer\n",
    "x = base_model.output\n",
    "\n",
    "# let's add a fully-connected layer\n",
    "x = Dense(256, activation='relu')(x)\n",
    "\n",
    "predictions = Dense(num_categories, activation='softmax')(x)\n",
    "\n",
    "# this is the model we will train\n",
    "model = Model(inputs=base_model.input, outputs=predictions)\n",
    "\n",
    "model.compile(optimizer = \"adam\" , loss = \"categorical_crossentropy\", metrics=[\"accuracy\"])"
   ]
  },
  {
   "cell_type": "code",
   "execution_count": null,
   "metadata": {},
   "outputs": [
    {
     "name": "stdout",
     "output_type": "stream",
     "text": [
      "Found 3244 images belonging to 5 classes.\n",
      "Found 1079 images belonging to 5 classes.\n"
     ]
    }
   ],
   "source": [
    "from keras.applications.resnet50 import preprocess_input\n",
    "from keras.preprocessing.image import ImageDataGenerator\n",
    "\n",
    "data_generator_with_aug = ImageDataGenerator(preprocessing_function=preprocess_input,\n",
    "                                             horizontal_flip = True,\n",
    "                                             vertical_flip = True,\n",
    "                                             rotation_range=180,  # randomly rotate images in the range (degrees, 0 to 180)\n",
    "                                             zoom_range = 0.1, # Randomly zoom image \n",
    "                                             width_shift_range = 0.2,\n",
    "                                             height_shift_range = 0.2)\n",
    "\n",
    "\n",
    "train_generator = data_generator_with_aug.flow_from_directory(\n",
    "        '../../data/flowers/train/',\n",
    "        target_size = (image_w, image_h),\n",
    "        batch_size = 20,\n",
    "        class_mode='categorical')\n",
    "\n",
    "validation_generator = data_generator_with_aug.flow_from_directory(\n",
    "        '../../data/flowers/val/',\n",
    "        target_size = (image_w, image_h),\n",
    "        class_mode = 'categorical')"
   ]
  },
  {
   "cell_type": "code",
   "execution_count": null,
   "metadata": {},
   "outputs": [
    {
     "name": "stdout",
     "output_type": "stream",
     "text": [
      "Epoch 1/5\n",
      "  9/163 [>.............................] - ETA: 2:07:54 - loss: 2.4253 - acc: 0.3278"
     ]
    }
   ],
   "source": [
    "history = model.fit_generator(\n",
    "        train_generator,\n",
    "        epochs = 5,\n",
    "        validation_data=validation_generator)"
   ]
  },
  {
   "cell_type": "code",
   "execution_count": null,
   "metadata": {
    "collapsed": true
   },
   "outputs": [],
   "source": []
  }
 ],
 "metadata": {
  "kernelspec": {
   "display_name": "Python 3",
   "language": "python",
   "name": "python3"
  },
  "language_info": {
   "codemirror_mode": {
    "name": "ipython",
    "version": 3
   },
   "file_extension": ".py",
   "mimetype": "text/x-python",
   "name": "python",
   "nbconvert_exporter": "python",
   "pygments_lexer": "ipython3",
   "version": "3.6.3"
  }
 },
 "nbformat": 4,
 "nbformat_minor": 2
}
