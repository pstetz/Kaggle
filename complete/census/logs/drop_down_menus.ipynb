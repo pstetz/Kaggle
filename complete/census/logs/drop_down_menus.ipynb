{
 "cells": [
  {
   "cell_type": "markdown",
   "metadata": {},
   "source": [
    "# Credit:\n",
    "\n",
    "[Leonardo Ferreira](https://www.kaggle.com/kabure) and [his work](https://www.kaggle.com/kabure/financial-hedging-eda-interactive-plots)"
   ]
  },
  {
   "cell_type": "markdown",
   "metadata": {},
   "source": [
    "### Imports"
   ]
  },
  {
   "cell_type": "code",
   "execution_count": 1,
   "metadata": {},
   "outputs": [
    {
     "data": {
      "text/html": [
       "<script>requirejs.config({paths: { 'plotly': ['https://cdn.plot.ly/plotly-latest.min']},});if(!window.Plotly) {{require(['plotly'],function(plotly) {window.Plotly=plotly;});}}</script>"
      ],
      "text/vnd.plotly.v1+html": [
       "<script>requirejs.config({paths: { 'plotly': ['https://cdn.plot.ly/plotly-latest.min']},});if(!window.Plotly) {{require(['plotly'],function(plotly) {window.Plotly=plotly;});}}</script>"
      ]
     },
     "metadata": {},
     "output_type": "display_data"
    }
   ],
   "source": [
    "# Load the librarys\n",
    "import pandas as pd\n",
    "import numpy as np\n",
    "import seaborn as sns\n",
    "import matplotlib.pyplot as plt\n",
    "from matplotlib import rcParams\n",
    "\n",
    "import plotly.tools as tls\n",
    "import plotly.offline as py\n",
    "from plotly.offline import init_notebook_mode, iplot, plot\n",
    "import plotly.graph_objs as go\n",
    "init_notebook_mode(connected=True)\n",
    "\n",
    "import warnings\n",
    "\n",
    "%matplotlib inline"
   ]
  },
  {
   "cell_type": "markdown",
   "metadata": {},
   "source": [
    "### Load data"
   ]
  },
  {
   "cell_type": "code",
   "execution_count": 2,
   "metadata": {
    "collapsed": true
   },
   "outputs": [],
   "source": [
    "county = pd.read_csv(\"../../../data/census/census_county.csv\")"
   ]
  },
  {
   "cell_type": "markdown",
   "metadata": {},
   "source": [
    "### Testing plotly - State"
   ]
  },
  {
   "cell_type": "code",
   "execution_count": 22,
   "metadata": {},
   "outputs": [
    {
     "name": "stdout",
     "output_type": "stream",
     "text": [
      "This is the format of your plot grid:\n",
      "[ (1,1) x1,y1 ]  [ (1,2) x2,y2 ]\n",
      "\n",
      "This is the format of your plot grid:\n",
      "[ (1,1) x1,y1 ]  [ (1,2) x2,y2 ]\n",
      "\n",
      "This is the format of your plot grid:\n",
      "[ (1,1) x1,y1 ]  [ (1,2) x2,y2 ]\n",
      "\n",
      "This is the format of your plot grid:\n",
      "[ (1,1) x1,y1 ]  [ (1,2) x2,y2 ]\n",
      "\n",
      "This is the format of your plot grid:\n",
      "[ (1,1) x1,y1 ]  [ (1,2) x2,y2 ]\n",
      "\n"
     ]
    },
    {
     "data": {
      "application/vnd.plotly.v1+json": {
       "data": [
        {
         "data": [
          {
           "showlegend": false,
           "type": "box",
           "x": [
            "Alabama",
            "Mississippi",
            "Tennessee",
            "Ohio",
            "Indiana",
            "South Carolina",
            "Michigan",
            "Arkansas",
            "Oklahoma",
            "Kentucky",
            "Louisiana",
            "West Virginia",
            "Kansas"
           ],
           "xaxis": "x1",
           "y": [
            85.42353685448244,
            84.29072073347409,
            83.86016799456583,
            83.4446924004773,
            82.98550659991518,
            82.84192906612057,
            82.53959291842867,
            82.46239659280212,
            82.4592659802641,
            82.45539211884963,
            82.4385584529106,
            82.37469007572567,
            82.15348178197824
           ],
           "yaxis": "y1"
          },
          {
           "showlegend": false,
           "type": "box",
           "x": [
            "Puerto Rico",
            "Missouri",
            "North Carolina",
            "Nebraska",
            "Delaware",
            "New Hampshire",
            "Iowa",
            "Wisconsin",
            "Texas",
            "North Dakota",
            "Rhode Island",
            "Georgia",
            "Florida"
           ],
           "xaxis": "x2",
           "y": [
            81.79447253795838,
            81.47424981572912,
            81.29225892105424,
            81.17436856900605,
            81.13474765071985,
            81.03343276436131,
            80.62205716066393,
            80.52717992336275,
            80.24296450447639,
            79.99054958150882,
            79.78489808391883,
            79.7692165033943,
            79.62243276568617
           ],
           "yaxis": "y2"
          }
         ],
         "layout": {
          "xaxis1": {
           "anchor": "y1",
           "domain": [
            0,
            0.45
           ]
          },
          "xaxis2": {
           "anchor": "y2",
           "domain": [
            0.55,
            1
           ]
          },
          "yaxis1": {
           "anchor": "x1",
           "domain": [
            0,
            1
           ]
          },
          "yaxis2": {
           "anchor": "x2",
           "domain": [
            0,
            1
           ]
          }
         }
        },
        {
         "data": [
          {
           "showlegend": false,
           "type": "box",
           "x": [
            "Hawaii",
            "Alaska",
            "Utah",
            "Wyoming",
            "Arizona",
            "California",
            "Arkansas",
            "Texas",
            "Nevada",
            "Montana",
            "Oregon",
            "Oklahoma",
            "Georgia"
           ],
           "xaxis": "x1",
           "y": [
            14.046828092745566,
            12.565731719788657,
            11.96823084413024,
            11.21511836723428,
            11.100768888190299,
            10.91267200541864,
            10.87056180633681,
            10.841973337416944,
            10.836150467584925,
            10.485630319927385,
            10.431787025545328,
            10.42482385142035,
            10.37415422857481
           ],
           "yaxis": "y1"
          },
          {
           "showlegend": false,
           "type": "box",
           "x": [
            "Washington",
            "Maine",
            "New Mexico",
            "West Virginia",
            "Mississippi",
            "Idaho",
            "North Carolina",
            "Kentucky",
            "Louisiana",
            "Kansas",
            "Colorado",
            "Nebraska",
            "Florida"
           ],
           "xaxis": "x2",
           "y": [
            10.327103553894203,
            10.32064524866451,
            10.261481193234356,
            10.128855473096325,
            10.082382003700703,
            10.071030845375978,
            10.030754937390132,
            9.874041360791365,
            9.83328034163753,
            9.625363162710375,
            9.591715897195368,
            9.562260339741034,
            9.502783616749701
           ],
           "yaxis": "y2"
          }
         ],
         "layout": {
          "xaxis1": {
           "anchor": "y1",
           "domain": [
            0,
            0.45
           ]
          },
          "xaxis2": {
           "anchor": "y2",
           "domain": [
            0.55,
            1
           ]
          },
          "yaxis1": {
           "anchor": "x1",
           "domain": [
            0,
            1
           ]
          },
          "yaxis2": {
           "anchor": "x2",
           "domain": [
            0,
            1
           ]
          }
         }
        },
        {
         "data": [
          {
           "showlegend": false,
           "type": "box",
           "x": [
            "District of Columbia",
            "New York",
            "New Jersey",
            "Massachusetts",
            "Illinois",
            "Maryland",
            "Hawaii",
            "Pennsylvania",
            "Washington",
            "California",
            "Connecticut",
            "Virginia",
            "Oregon"
           ],
           "xaxis": "x1",
           "y": [
            37.4,
            27.981358640959517,
            10.938296763638435,
            9.489038482244505,
            9.084405396371734,
            9.042499297702838,
            6.391151739423836,
            5.830623795390748,
            5.659967641376438,
            4.913541714599943,
            4.877083074744617,
            4.098447695972811,
            4.094094535662146
           ],
           "yaxis": "y1"
          },
          {
           "showlegend": false,
           "type": "box",
           "x": [
            "Nevada",
            "Minnesota",
            "Colorado",
            "Delaware",
            "Rhode Island",
            "Utah",
            "Puerto Rico",
            "Arizona",
            "Florida",
            "Georgia",
            "Wisconsin",
            "Ohio",
            "Alaska"
           ],
           "xaxis": "x2",
           "y": [
            3.611221252067078,
            3.4533214028492543,
            3.043118062719813,
            2.972028292824036,
            2.9659477763720967,
            2.445079130213451,
            2.202448233680977,
            2.036389343576142,
            2.034543198404217,
            1.9810565888250984,
            1.9124549360453649,
            1.646181035086715,
            1.5695937276291116
           ],
           "yaxis": "y2"
          }
         ],
         "layout": {
          "xaxis1": {
           "anchor": "y1",
           "domain": [
            0,
            0.45
           ]
          },
          "xaxis2": {
           "anchor": "y2",
           "domain": [
            0.55,
            1
           ]
          },
          "yaxis1": {
           "anchor": "x1",
           "domain": [
            0,
            1
           ]
          },
          "yaxis2": {
           "anchor": "x2",
           "domain": [
            0,
            1
           ]
          }
         }
        },
        {
         "data": [
          {
           "showlegend": false,
           "type": "box",
           "x": [
            "District of Columbia",
            "Alaska",
            "New York",
            "Vermont",
            "Montana",
            "Massachusetts",
            "Hawaii",
            "South Dakota",
            "Oregon",
            "North Dakota",
            "Maine",
            "Pennsylvania",
            "Wyoming"
           ],
           "xaxis": "x1",
           "y": [
            12.9,
            8.241294699164818,
            6.292518797424351,
            5.690334086600149,
            4.917203623931826,
            4.723897806992558,
            4.48863072504496,
            4.101368612056594,
            4.021133911093861,
            3.9881598858156417,
            3.981786171093221,
            3.9547310357110135,
            3.7919829767854276
           ],
           "yaxis": "y1"
          },
          {
           "showlegend": false,
           "type": "box",
           "x": [
            "Rhode Island",
            "Iowa",
            "Washington",
            "Puerto Rico",
            "Wisconsin",
            "Illinois",
            "New Jersey",
            "Idaho",
            "Connecticut",
            "Colorado",
            "New Hampshire",
            "Minnesota",
            "Nebraska"
           ],
           "xaxis": "x2",
           "y": [
            3.7363235423917174,
            3.4969058931458807,
            3.4323320684209384,
            3.381222012501559,
            3.3159486649261933,
            3.10977961296625,
            3.066425490372021,
            3.0271768776286745,
            3.0153487872444282,
            2.956439572896355,
            2.891629593996682,
            2.846846722496854,
            2.8396178381428996
           ],
           "yaxis": "y2"
          }
         ],
         "layout": {
          "xaxis1": {
           "anchor": "y1",
           "domain": [
            0,
            0.45
           ]
          },
          "xaxis2": {
           "anchor": "y2",
           "domain": [
            0.55,
            1
           ]
          },
          "yaxis1": {
           "anchor": "x1",
           "domain": [
            0,
            1
           ]
          },
          "yaxis2": {
           "anchor": "x2",
           "domain": [
            0,
            1
           ]
          }
         }
        },
        {
         "data": [
          {
           "showlegend": false,
           "type": "box",
           "x": [
            "Alaska",
            "District of Columbia",
            "Hawaii",
            "Oregon",
            "Arizona",
            "California",
            "Montana",
            "Colorado",
            "Idaho",
            "Florida",
            "Nevada",
            "Wyoming",
            "Washington"
           ],
           "xaxis": "x1",
           "y": [
            6.143167138230782,
            5.2,
            3.530258358997624,
            3.387261504968099,
            2.724845421389693,
            2.4943172675564873,
            2.383224483319684,
            2.3603219682259917,
            2.347484855064529,
            2.2355138856340186,
            2.1530747835731403,
            2.107282306241903,
            2.0925200673856454
           ],
           "yaxis": "y1"
          },
          {
           "showlegend": false,
           "type": "box",
           "x": [
            "Louisiana",
            "New Mexico",
            "Utah",
            "New Jersey",
            "Puerto Rico",
            "New York",
            "Texas",
            "Massachusetts",
            "Wisconsin",
            "Illinois",
            "Minnesota",
            "Maine",
            "Georgia"
           ],
           "xaxis": "x2",
           "y": [
            2.052286739774019,
            1.9987484387872658,
            1.977197327665455,
            1.8707569269305004,
            1.862436461662936,
            1.8604428395743358,
            1.7358271272192292,
            1.7191836477826097,
            1.6807191319856427,
            1.6602538061721037,
            1.650145382015072,
            1.6301828304867956,
            1.5933412267169582
           ],
           "yaxis": "y2"
          }
         ],
         "layout": {
          "xaxis1": {
           "anchor": "y1",
           "domain": [
            0,
            0.45
           ]
          },
          "xaxis2": {
           "anchor": "y2",
           "domain": [
            0.55,
            1
           ]
          },
          "yaxis1": {
           "anchor": "x1",
           "domain": [
            0,
            1
           ]
          },
          "yaxis2": {
           "anchor": "x2",
           "domain": [
            0,
            1
           ]
          }
         }
        }
       ],
       "layout": {
        "showlegend": false,
        "title": "State transportation methods",
        "updatemenus": [
         {
          "active": -1,
          "buttons": [
           {
            "args": [
             {
              "visible": [
               true,
               false,
               false,
               false,
               false
              ]
             },
             {
              "title": "State usage for Drive"
             }
            ],
            "label": "Drive",
            "method": "update"
           },
           {
            "args": [
             {
              "visible": [
               false,
               true,
               false,
               false,
               false
              ]
             },
             {
              "title": "State usage for Carpool"
             }
            ],
            "label": "Carpool",
            "method": "update"
           },
           {
            "args": [
             {
              "visible": [
               false,
               false,
               true,
               false,
               false
              ]
             },
             {
              "title": "State usage for Transit"
             }
            ],
            "label": "Transit",
            "method": "update"
           },
           {
            "args": [
             {
              "visible": [
               false,
               false,
               false,
               true,
               false
              ]
             },
             {
              "title": "State usage for Walk"
             }
            ],
            "label": "Walk",
            "method": "update"
           },
           {
            "args": [
             {
              "visible": [
               false,
               false,
               false,
               false,
               true
              ]
             },
             {
              "title": "State usage for OtherTransp"
             }
            ],
            "label": "OtherTransp",
            "method": "update"
           }
          ],
          "x": -0.15
         }
        ]
       }
      },
      "text/html": [
       "<div id=\"3c2b5948-c8fd-4c9a-b563-ecb15f02e019\" style=\"height: 525px; width: 100%;\" class=\"plotly-graph-div\"></div><script type=\"text/javascript\">require([\"plotly\"], function(Plotly) { window.PLOTLYENV=window.PLOTLYENV || {};window.PLOTLYENV.BASE_URL=\"https://plot.ly\";Plotly.newPlot(\"3c2b5948-c8fd-4c9a-b563-ecb15f02e019\", [{\"layout\": {\"xaxis1\": {\"domain\": [0.0, 0.45], \"anchor\": \"y1\"}, \"yaxis1\": {\"domain\": [0.0, 1.0], \"anchor\": \"x1\"}, \"xaxis2\": {\"domain\": [0.55, 1.0], \"anchor\": \"y2\"}, \"yaxis2\": {\"domain\": [0.0, 1.0], \"anchor\": \"x2\"}}, \"data\": [{\"type\": \"box\", \"x\": [\"Alabama\", \"Mississippi\", \"Tennessee\", \"Ohio\", \"Indiana\", \"South Carolina\", \"Michigan\", \"Arkansas\", \"Oklahoma\", \"Kentucky\", \"Louisiana\", \"West Virginia\", \"Kansas\"], \"y\": [85.42353685448244, 84.29072073347409, 83.86016799456583, 83.4446924004773, 82.98550659991518, 82.84192906612057, 82.53959291842867, 82.46239659280212, 82.4592659802641, 82.45539211884963, 82.4385584529106, 82.37469007572567, 82.15348178197824], \"showlegend\": false, \"xaxis\": \"x1\", \"yaxis\": \"y1\"}, {\"type\": \"box\", \"x\": [\"Puerto Rico\", \"Missouri\", \"North Carolina\", \"Nebraska\", \"Delaware\", \"New Hampshire\", \"Iowa\", \"Wisconsin\", \"Texas\", \"North Dakota\", \"Rhode Island\", \"Georgia\", \"Florida\"], \"y\": [81.79447253795838, 81.47424981572912, 81.29225892105424, 81.17436856900605, 81.13474765071985, 81.03343276436131, 80.62205716066393, 80.52717992336275, 80.24296450447639, 79.99054958150882, 79.78489808391883, 79.7692165033943, 79.62243276568617], \"showlegend\": false, \"xaxis\": \"x2\", \"yaxis\": \"y2\"}]}, {\"layout\": {\"xaxis1\": {\"domain\": [0.0, 0.45], \"anchor\": \"y1\"}, \"yaxis1\": {\"domain\": [0.0, 1.0], \"anchor\": \"x1\"}, \"xaxis2\": {\"domain\": [0.55, 1.0], \"anchor\": \"y2\"}, \"yaxis2\": {\"domain\": [0.0, 1.0], \"anchor\": \"x2\"}}, \"data\": [{\"type\": \"box\", \"x\": [\"Hawaii\", \"Alaska\", \"Utah\", \"Wyoming\", \"Arizona\", \"California\", \"Arkansas\", \"Texas\", \"Nevada\", \"Montana\", \"Oregon\", \"Oklahoma\", \"Georgia\"], \"y\": [14.046828092745566, 12.565731719788657, 11.96823084413024, 11.21511836723428, 11.100768888190299, 10.91267200541864, 10.87056180633681, 10.841973337416944, 10.836150467584925, 10.485630319927385, 10.431787025545328, 10.42482385142035, 10.37415422857481], \"showlegend\": false, \"xaxis\": \"x1\", \"yaxis\": \"y1\"}, {\"type\": \"box\", \"x\": [\"Washington\", \"Maine\", \"New Mexico\", \"West Virginia\", \"Mississippi\", \"Idaho\", \"North Carolina\", \"Kentucky\", \"Louisiana\", \"Kansas\", \"Colorado\", \"Nebraska\", \"Florida\"], \"y\": [10.327103553894203, 10.32064524866451, 10.261481193234356, 10.128855473096325, 10.082382003700703, 10.071030845375978, 10.030754937390132, 9.874041360791365, 9.83328034163753, 9.625363162710375, 9.591715897195368, 9.562260339741034, 9.502783616749701], \"showlegend\": false, \"xaxis\": \"x2\", \"yaxis\": \"y2\"}]}, {\"layout\": {\"xaxis1\": {\"domain\": [0.0, 0.45], \"anchor\": \"y1\"}, \"yaxis1\": {\"domain\": [0.0, 1.0], \"anchor\": \"x1\"}, \"xaxis2\": {\"domain\": [0.55, 1.0], \"anchor\": \"y2\"}, \"yaxis2\": {\"domain\": [0.0, 1.0], \"anchor\": \"x2\"}}, \"data\": [{\"type\": \"box\", \"x\": [\"District of Columbia\", \"New York\", \"New Jersey\", \"Massachusetts\", \"Illinois\", \"Maryland\", \"Hawaii\", \"Pennsylvania\", \"Washington\", \"California\", \"Connecticut\", \"Virginia\", \"Oregon\"], \"y\": [37.4, 27.981358640959517, 10.938296763638435, 9.489038482244505, 9.084405396371734, 9.042499297702838, 6.391151739423836, 5.830623795390748, 5.659967641376438, 4.913541714599943, 4.877083074744617, 4.098447695972811, 4.094094535662146], \"showlegend\": false, \"xaxis\": \"x1\", \"yaxis\": \"y1\"}, {\"type\": \"box\", \"x\": [\"Nevada\", \"Minnesota\", \"Colorado\", \"Delaware\", \"Rhode Island\", \"Utah\", \"Puerto Rico\", \"Arizona\", \"Florida\", \"Georgia\", \"Wisconsin\", \"Ohio\", \"Alaska\"], \"y\": [3.611221252067078, 3.4533214028492543, 3.043118062719813, 2.972028292824036, 2.9659477763720967, 2.445079130213451, 2.202448233680977, 2.036389343576142, 2.034543198404217, 1.9810565888250984, 1.9124549360453649, 1.646181035086715, 1.5695937276291116], \"showlegend\": false, \"xaxis\": \"x2\", \"yaxis\": \"y2\"}]}, {\"layout\": {\"xaxis1\": {\"domain\": [0.0, 0.45], \"anchor\": \"y1\"}, \"yaxis1\": {\"domain\": [0.0, 1.0], \"anchor\": \"x1\"}, \"xaxis2\": {\"domain\": [0.55, 1.0], \"anchor\": \"y2\"}, \"yaxis2\": {\"domain\": [0.0, 1.0], \"anchor\": \"x2\"}}, \"data\": [{\"type\": \"box\", \"x\": [\"District of Columbia\", \"Alaska\", \"New York\", \"Vermont\", \"Montana\", \"Massachusetts\", \"Hawaii\", \"South Dakota\", \"Oregon\", \"North Dakota\", \"Maine\", \"Pennsylvania\", \"Wyoming\"], \"y\": [12.9, 8.241294699164818, 6.292518797424351, 5.690334086600149, 4.917203623931826, 4.723897806992558, 4.48863072504496, 4.101368612056594, 4.021133911093861, 3.9881598858156417, 3.981786171093221, 3.9547310357110135, 3.7919829767854276], \"showlegend\": false, \"xaxis\": \"x1\", \"yaxis\": \"y1\"}, {\"type\": \"box\", \"x\": [\"Rhode Island\", \"Iowa\", \"Washington\", \"Puerto Rico\", \"Wisconsin\", \"Illinois\", \"New Jersey\", \"Idaho\", \"Connecticut\", \"Colorado\", \"New Hampshire\", \"Minnesota\", \"Nebraska\"], \"y\": [3.7363235423917174, 3.4969058931458807, 3.4323320684209384, 3.381222012501559, 3.3159486649261933, 3.10977961296625, 3.066425490372021, 3.0271768776286745, 3.0153487872444282, 2.956439572896355, 2.891629593996682, 2.846846722496854, 2.8396178381428996], \"showlegend\": false, \"xaxis\": \"x2\", \"yaxis\": \"y2\"}]}, {\"layout\": {\"xaxis1\": {\"domain\": [0.0, 0.45], \"anchor\": \"y1\"}, \"yaxis1\": {\"domain\": [0.0, 1.0], \"anchor\": \"x1\"}, \"xaxis2\": {\"domain\": [0.55, 1.0], \"anchor\": \"y2\"}, \"yaxis2\": {\"domain\": [0.0, 1.0], \"anchor\": \"x2\"}}, \"data\": [{\"type\": \"box\", \"x\": [\"Alaska\", \"District of Columbia\", \"Hawaii\", \"Oregon\", \"Arizona\", \"California\", \"Montana\", \"Colorado\", \"Idaho\", \"Florida\", \"Nevada\", \"Wyoming\", \"Washington\"], \"y\": [6.143167138230782, 5.2, 3.530258358997624, 3.387261504968099, 2.724845421389693, 2.4943172675564873, 2.383224483319684, 2.3603219682259917, 2.347484855064529, 2.2355138856340186, 2.1530747835731403, 2.107282306241903, 2.0925200673856454], \"showlegend\": false, \"xaxis\": \"x1\", \"yaxis\": \"y1\"}, {\"type\": \"box\", \"x\": [\"Louisiana\", \"New Mexico\", \"Utah\", \"New Jersey\", \"Puerto Rico\", \"New York\", \"Texas\", \"Massachusetts\", \"Wisconsin\", \"Illinois\", \"Minnesota\", \"Maine\", \"Georgia\"], \"y\": [2.052286739774019, 1.9987484387872658, 1.977197327665455, 1.8707569269305004, 1.862436461662936, 1.8604428395743358, 1.7358271272192292, 1.7191836477826097, 1.6807191319856427, 1.6602538061721037, 1.650145382015072, 1.6301828304867956, 1.5933412267169582], \"showlegend\": false, \"xaxis\": \"x2\", \"yaxis\": \"y2\"}]}], {\"title\": \"State transportation methods\", \"showlegend\": false, \"updatemenus\": [{\"active\": -1, \"x\": -0.15, \"buttons\": [{\"label\": \"Drive\", \"method\": \"update\", \"args\": [{\"visible\": [true, false, false, false, false]}, {\"title\": \"State usage for Drive\"}]}, {\"label\": \"Carpool\", \"method\": \"update\", \"args\": [{\"visible\": [false, true, false, false, false]}, {\"title\": \"State usage for Carpool\"}]}, {\"label\": \"Transit\", \"method\": \"update\", \"args\": [{\"visible\": [false, false, true, false, false]}, {\"title\": \"State usage for Transit\"}]}, {\"label\": \"Walk\", \"method\": \"update\", \"args\": [{\"visible\": [false, false, false, true, false]}, {\"title\": \"State usage for Walk\"}]}, {\"label\": \"OtherTransp\", \"method\": \"update\", \"args\": [{\"visible\": [false, false, false, false, true]}, {\"title\": \"State usage for OtherTransp\"}]}]}]}, {\"showLink\": true, \"linkText\": \"Export to plot.ly\"})});</script>"
      ],
      "text/vnd.plotly.v1+html": [
       "<div id=\"3c2b5948-c8fd-4c9a-b563-ecb15f02e019\" style=\"height: 525px; width: 100%;\" class=\"plotly-graph-div\"></div><script type=\"text/javascript\">require([\"plotly\"], function(Plotly) { window.PLOTLYENV=window.PLOTLYENV || {};window.PLOTLYENV.BASE_URL=\"https://plot.ly\";Plotly.newPlot(\"3c2b5948-c8fd-4c9a-b563-ecb15f02e019\", [{\"layout\": {\"xaxis1\": {\"domain\": [0.0, 0.45], \"anchor\": \"y1\"}, \"yaxis1\": {\"domain\": [0.0, 1.0], \"anchor\": \"x1\"}, \"xaxis2\": {\"domain\": [0.55, 1.0], \"anchor\": \"y2\"}, \"yaxis2\": {\"domain\": [0.0, 1.0], \"anchor\": \"x2\"}}, \"data\": [{\"type\": \"box\", \"x\": [\"Alabama\", \"Mississippi\", \"Tennessee\", \"Ohio\", \"Indiana\", \"South Carolina\", \"Michigan\", \"Arkansas\", \"Oklahoma\", \"Kentucky\", \"Louisiana\", \"West Virginia\", \"Kansas\"], \"y\": [85.42353685448244, 84.29072073347409, 83.86016799456583, 83.4446924004773, 82.98550659991518, 82.84192906612057, 82.53959291842867, 82.46239659280212, 82.4592659802641, 82.45539211884963, 82.4385584529106, 82.37469007572567, 82.15348178197824], \"showlegend\": false, \"xaxis\": \"x1\", \"yaxis\": \"y1\"}, {\"type\": \"box\", \"x\": [\"Puerto Rico\", \"Missouri\", \"North Carolina\", \"Nebraska\", \"Delaware\", \"New Hampshire\", \"Iowa\", \"Wisconsin\", \"Texas\", \"North Dakota\", \"Rhode Island\", \"Georgia\", \"Florida\"], \"y\": [81.79447253795838, 81.47424981572912, 81.29225892105424, 81.17436856900605, 81.13474765071985, 81.03343276436131, 80.62205716066393, 80.52717992336275, 80.24296450447639, 79.99054958150882, 79.78489808391883, 79.7692165033943, 79.62243276568617], \"showlegend\": false, \"xaxis\": \"x2\", \"yaxis\": \"y2\"}]}, {\"layout\": {\"xaxis1\": {\"domain\": [0.0, 0.45], \"anchor\": \"y1\"}, \"yaxis1\": {\"domain\": [0.0, 1.0], \"anchor\": \"x1\"}, \"xaxis2\": {\"domain\": [0.55, 1.0], \"anchor\": \"y2\"}, \"yaxis2\": {\"domain\": [0.0, 1.0], \"anchor\": \"x2\"}}, \"data\": [{\"type\": \"box\", \"x\": [\"Hawaii\", \"Alaska\", \"Utah\", \"Wyoming\", \"Arizona\", \"California\", \"Arkansas\", \"Texas\", \"Nevada\", \"Montana\", \"Oregon\", \"Oklahoma\", \"Georgia\"], \"y\": [14.046828092745566, 12.565731719788657, 11.96823084413024, 11.21511836723428, 11.100768888190299, 10.91267200541864, 10.87056180633681, 10.841973337416944, 10.836150467584925, 10.485630319927385, 10.431787025545328, 10.42482385142035, 10.37415422857481], \"showlegend\": false, \"xaxis\": \"x1\", \"yaxis\": \"y1\"}, {\"type\": \"box\", \"x\": [\"Washington\", \"Maine\", \"New Mexico\", \"West Virginia\", \"Mississippi\", \"Idaho\", \"North Carolina\", \"Kentucky\", \"Louisiana\", \"Kansas\", \"Colorado\", \"Nebraska\", \"Florida\"], \"y\": [10.327103553894203, 10.32064524866451, 10.261481193234356, 10.128855473096325, 10.082382003700703, 10.071030845375978, 10.030754937390132, 9.874041360791365, 9.83328034163753, 9.625363162710375, 9.591715897195368, 9.562260339741034, 9.502783616749701], \"showlegend\": false, \"xaxis\": \"x2\", \"yaxis\": \"y2\"}]}, {\"layout\": {\"xaxis1\": {\"domain\": [0.0, 0.45], \"anchor\": \"y1\"}, \"yaxis1\": {\"domain\": [0.0, 1.0], \"anchor\": \"x1\"}, \"xaxis2\": {\"domain\": [0.55, 1.0], \"anchor\": \"y2\"}, \"yaxis2\": {\"domain\": [0.0, 1.0], \"anchor\": \"x2\"}}, \"data\": [{\"type\": \"box\", \"x\": [\"District of Columbia\", \"New York\", \"New Jersey\", \"Massachusetts\", \"Illinois\", \"Maryland\", \"Hawaii\", \"Pennsylvania\", \"Washington\", \"California\", \"Connecticut\", \"Virginia\", \"Oregon\"], \"y\": [37.4, 27.981358640959517, 10.938296763638435, 9.489038482244505, 9.084405396371734, 9.042499297702838, 6.391151739423836, 5.830623795390748, 5.659967641376438, 4.913541714599943, 4.877083074744617, 4.098447695972811, 4.094094535662146], \"showlegend\": false, \"xaxis\": \"x1\", \"yaxis\": \"y1\"}, {\"type\": \"box\", \"x\": [\"Nevada\", \"Minnesota\", \"Colorado\", \"Delaware\", \"Rhode Island\", \"Utah\", \"Puerto Rico\", \"Arizona\", \"Florida\", \"Georgia\", \"Wisconsin\", \"Ohio\", \"Alaska\"], \"y\": [3.611221252067078, 3.4533214028492543, 3.043118062719813, 2.972028292824036, 2.9659477763720967, 2.445079130213451, 2.202448233680977, 2.036389343576142, 2.034543198404217, 1.9810565888250984, 1.9124549360453649, 1.646181035086715, 1.5695937276291116], \"showlegend\": false, \"xaxis\": \"x2\", \"yaxis\": \"y2\"}]}, {\"layout\": {\"xaxis1\": {\"domain\": [0.0, 0.45], \"anchor\": \"y1\"}, \"yaxis1\": {\"domain\": [0.0, 1.0], \"anchor\": \"x1\"}, \"xaxis2\": {\"domain\": [0.55, 1.0], \"anchor\": \"y2\"}, \"yaxis2\": {\"domain\": [0.0, 1.0], \"anchor\": \"x2\"}}, \"data\": [{\"type\": \"box\", \"x\": [\"District of Columbia\", \"Alaska\", \"New York\", \"Vermont\", \"Montana\", \"Massachusetts\", \"Hawaii\", \"South Dakota\", \"Oregon\", \"North Dakota\", \"Maine\", \"Pennsylvania\", \"Wyoming\"], \"y\": [12.9, 8.241294699164818, 6.292518797424351, 5.690334086600149, 4.917203623931826, 4.723897806992558, 4.48863072504496, 4.101368612056594, 4.021133911093861, 3.9881598858156417, 3.981786171093221, 3.9547310357110135, 3.7919829767854276], \"showlegend\": false, \"xaxis\": \"x1\", \"yaxis\": \"y1\"}, {\"type\": \"box\", \"x\": [\"Rhode Island\", \"Iowa\", \"Washington\", \"Puerto Rico\", \"Wisconsin\", \"Illinois\", \"New Jersey\", \"Idaho\", \"Connecticut\", \"Colorado\", \"New Hampshire\", \"Minnesota\", \"Nebraska\"], \"y\": [3.7363235423917174, 3.4969058931458807, 3.4323320684209384, 3.381222012501559, 3.3159486649261933, 3.10977961296625, 3.066425490372021, 3.0271768776286745, 3.0153487872444282, 2.956439572896355, 2.891629593996682, 2.846846722496854, 2.8396178381428996], \"showlegend\": false, \"xaxis\": \"x2\", \"yaxis\": \"y2\"}]}, {\"layout\": {\"xaxis1\": {\"domain\": [0.0, 0.45], \"anchor\": \"y1\"}, \"yaxis1\": {\"domain\": [0.0, 1.0], \"anchor\": \"x1\"}, \"xaxis2\": {\"domain\": [0.55, 1.0], \"anchor\": \"y2\"}, \"yaxis2\": {\"domain\": [0.0, 1.0], \"anchor\": \"x2\"}}, \"data\": [{\"type\": \"box\", \"x\": [\"Alaska\", \"District of Columbia\", \"Hawaii\", \"Oregon\", \"Arizona\", \"California\", \"Montana\", \"Colorado\", \"Idaho\", \"Florida\", \"Nevada\", \"Wyoming\", \"Washington\"], \"y\": [6.143167138230782, 5.2, 3.530258358997624, 3.387261504968099, 2.724845421389693, 2.4943172675564873, 2.383224483319684, 2.3603219682259917, 2.347484855064529, 2.2355138856340186, 2.1530747835731403, 2.107282306241903, 2.0925200673856454], \"showlegend\": false, \"xaxis\": \"x1\", \"yaxis\": \"y1\"}, {\"type\": \"box\", \"x\": [\"Louisiana\", \"New Mexico\", \"Utah\", \"New Jersey\", \"Puerto Rico\", \"New York\", \"Texas\", \"Massachusetts\", \"Wisconsin\", \"Illinois\", \"Minnesota\", \"Maine\", \"Georgia\"], \"y\": [2.052286739774019, 1.9987484387872658, 1.977197327665455, 1.8707569269305004, 1.862436461662936, 1.8604428395743358, 1.7358271272192292, 1.7191836477826097, 1.6807191319856427, 1.6602538061721037, 1.650145382015072, 1.6301828304867956, 1.5933412267169582], \"showlegend\": false, \"xaxis\": \"x2\", \"yaxis\": \"y2\"}]}], {\"title\": \"State transportation methods\", \"showlegend\": false, \"updatemenus\": [{\"active\": -1, \"x\": -0.15, \"buttons\": [{\"label\": \"Drive\", \"method\": \"update\", \"args\": [{\"visible\": [true, false, false, false, false]}, {\"title\": \"State usage for Drive\"}]}, {\"label\": \"Carpool\", \"method\": \"update\", \"args\": [{\"visible\": [false, true, false, false, false]}, {\"title\": \"State usage for Carpool\"}]}, {\"label\": \"Transit\", \"method\": \"update\", \"args\": [{\"visible\": [false, false, true, false, false]}, {\"title\": \"State usage for Transit\"}]}, {\"label\": \"Walk\", \"method\": \"update\", \"args\": [{\"visible\": [false, false, false, true, false]}, {\"title\": \"State usage for Walk\"}]}, {\"label\": \"OtherTransp\", \"method\": \"update\", \"args\": [{\"visible\": [false, false, false, false, true]}, {\"title\": \"State usage for OtherTransp\"}]}]}]}, {\"showLink\": true, \"linkText\": \"Export to plot.ly\"})});</script>"
      ]
     },
     "metadata": {},
     "output_type": "display_data"
    }
   ],
   "source": [
    "from plotly import tools\n",
    "\n",
    "transportations = ['Drive', 'Carpool', 'Transit', 'Walk', 'OtherTransp']\n",
    "\n",
    "datas = []\n",
    "for tran in transportations:\n",
    "    county[\"trans\"] = county.TotalPop * county[tran]\n",
    "    data = county.groupby(\"State\")[\"trans\"].sum() / county.groupby(\"State\")[\"TotalPop\"].sum()\n",
    "    datas.append(data.sort_values(ascending=False))\n",
    "\n",
    "    \n",
    "traces = []\n",
    "for data in datas:\n",
    "    fig = tools.make_subplots(rows=1, cols=2)\n",
    "\n",
    "    trace1 = go.Box(\n",
    "                    x=data.head(13).index,\n",
    "                    y=data.head(13).values, \n",
    "                    showlegend=False\n",
    "                )\n",
    "    trace2 = go.Box(\n",
    "                    x=data.iloc[13:26].index,\n",
    "                    y=data.iloc[13:26].values, \n",
    "                    showlegend=False\n",
    "                )\n",
    "    \n",
    "    fig.append_trace(trace1, 1, 1)\n",
    "    fig.append_trace(trace2, 1, 2)\n",
    "    traces.append(fig)\n",
    "    \n",
    "buttons = []\n",
    "for i, tran in enumerate(transportations):\n",
    "    visibility = [i==j for j in range(len(transportations))]\n",
    "    button = dict(\n",
    "                 label =  tran,\n",
    "                 method = 'update',\n",
    "                 args = [{'visible': visibility},\n",
    "                     {'title': 'State usage for {}'.format(tran)}])\n",
    "    buttons.append(button)\n",
    "\n",
    "updatemenus = list([\n",
    "    dict(active=-1,\n",
    "         x=-0.15,\n",
    "         buttons=buttons\n",
    "    )\n",
    "])\n",
    "\n",
    "layout = dict(title='State transportation methods', \n",
    "              showlegend=False,\n",
    "              updatemenus=updatemenus)\n",
    "\n",
    "fig = dict(data=traces, layout=layout)\n",
    "\n",
    "iplot(fig, filename='dropdown', validate=False)"
   ]
  },
  {
   "cell_type": "markdown",
   "metadata": {},
   "source": [
    "### Testing plotly - County"
   ]
  },
  {
   "cell_type": "code",
   "execution_count": 3,
   "metadata": {},
   "outputs": [
    {
     "data": {
      "application/vnd.plotly.v1+json": {
       "data": [
        {
         "showlegend": false,
         "type": "box",
         "x": [
          [
           "Texas",
           "Kenedy"
          ],
          [
           "Alabama",
           "Conecuh"
          ],
          [
           "Virginia",
           "Norton city"
          ],
          [
           "North Carolina",
           "Clay"
          ],
          [
           "Puerto Rico",
           "Hatillo"
          ],
          [
           "Virginia",
           "Covington city"
          ],
          [
           "Georgia",
           "Wheeler"
          ],
          [
           "Georgia",
           "Webster"
          ],
          [
           "Puerto Rico",
           "Lares"
          ],
          [
           "Puerto Rico",
           "Lajas"
          ]
         ],
         "y": [
          94.6,
          93.6,
          92.9,
          92.9,
          92.7,
          92.7,
          92.6,
          92.3,
          92.2,
          91.7
         ]
        },
        {
         "showlegend": false,
         "type": "box",
         "x": [
          [
           "Georgia",
           "Clay"
          ],
          [
           "Indiana",
           "LaGrange"
          ],
          [
           "Georgia",
           "Jenkins"
          ],
          [
           "Arkansas",
           "Sevier"
          ],
          [
           "Kansas",
           "Seward"
          ],
          [
           "Texas",
           "Cochran"
          ],
          [
           "Texas",
           "Jim Hogg"
          ],
          [
           "Texas",
           "Roberts"
          ],
          [
           "Ohio",
           "Holmes"
          ],
          [
           "Kentucky",
           "Powell"
          ]
         ],
         "y": [
          29.9,
          27,
          25.3,
          24.4,
          23.4,
          22.8,
          22.6,
          22.4,
          21.8,
          21.6
         ]
        },
        {
         "showlegend": false,
         "type": "box",
         "x": [
          [
           "New York",
           "Kings"
          ],
          [
           "New York",
           "Bronx"
          ],
          [
           "New York",
           "New York"
          ],
          [
           "New York",
           "Queens"
          ],
          [
           "New Jersey",
           "Hudson"
          ],
          [
           "District of Columbia",
           "District of Columbia"
          ],
          [
           "California",
           "San Francisco"
          ],
          [
           "Massachusetts",
           "Suffolk"
          ],
          [
           "New York",
           "Richmond"
          ],
          [
           "Virginia",
           "Arlington"
          ]
         ],
         "y": [
          61.7,
          59.7,
          59.2,
          52.3,
          41,
          37.4,
          33.1,
          32.5,
          29.8,
          26.4
         ]
        },
        {
         "showlegend": false,
         "type": "box",
         "x": [
          [
           "Alaska",
           "Aleutians East Borough"
          ],
          [
           "Alaska",
           "Kusilvak Census Area"
          ],
          [
           "Alaska",
           "Northwest Arctic Borough"
          ],
          [
           "Alaska",
           "Aleutians West Census Area"
          ],
          [
           "Hawaii",
           "Kalawao"
          ],
          [
           "Alaska",
           "Yukon-Koyukuk Census Area"
          ],
          [
           "Alaska",
           "North Slope Borough"
          ],
          [
           "Alaska",
           "Skagway Municipality"
          ],
          [
           "Alaska",
           "Nome Census Area"
          ],
          [
           "Alaska",
           "Lake and Peninsula Borough"
          ]
         ],
         "y": [
          71.2,
          47.6,
          46.9,
          42.5,
          40.3,
          38.1,
          37.9,
          37.8,
          36.9,
          36.2
         ]
        },
        {
         "showlegend": false,
         "type": "box",
         "x": [
          [
           "Alaska",
           "Kusilvak Census Area"
          ],
          [
           "Alaska",
           "Lake and Peninsula Borough"
          ],
          [
           "Alaska",
           "Nome Census Area"
          ],
          [
           "Alaska",
           "Bethel Census Area"
          ],
          [
           "Alaska",
           "Northwest Arctic Borough"
          ],
          [
           "Alaska",
           "Yukon-Koyukuk Census Area"
          ],
          [
           "Colorado",
           "San Juan"
          ],
          [
           "Alaska",
           "Dillingham Census Area"
          ],
          [
           "Hawaii",
           "Kalawao"
          ],
          [
           "Indiana",
           "LaGrange"
          ]
         ],
         "y": [
          39.1,
          32.4,
          22.7,
          22.6,
          21.2,
          20.1,
          19.9,
          17.7,
          14.9,
          11.5
         ]
        }
       ],
       "layout": {
        "showlegend": false,
        "title": "Counties with most popular transportation methods",
        "updatemenus": [
         {
          "active": -1,
          "buttons": [
           {
            "args": [
             {
              "visible": [
               true,
               false,
               false,
               false,
               false
              ]
             },
             {
              "title": "Top counties for Drive"
             }
            ],
            "label": "Drive",
            "method": "update"
           },
           {
            "args": [
             {
              "visible": [
               false,
               true,
               false,
               false,
               false
              ]
             },
             {
              "title": "Top counties for Carpool"
             }
            ],
            "label": "Carpool",
            "method": "update"
           },
           {
            "args": [
             {
              "visible": [
               false,
               false,
               true,
               false,
               false
              ]
             },
             {
              "title": "Top counties for Transit"
             }
            ],
            "label": "Transit",
            "method": "update"
           },
           {
            "args": [
             {
              "visible": [
               false,
               false,
               false,
               true,
               false
              ]
             },
             {
              "title": "Top counties for Walk"
             }
            ],
            "label": "Walk",
            "method": "update"
           },
           {
            "args": [
             {
              "visible": [
               false,
               false,
               false,
               false,
               true
              ]
             },
             {
              "title": "Top counties for OtherTransp"
             }
            ],
            "label": "OtherTransp",
            "method": "update"
           }
          ],
          "x": -0.15
         }
        ]
       }
      },
      "text/html": [
       "<div id=\"4c1dc2a1-fb07-4b16-b8ac-418d22ba2e69\" style=\"height: 525px; width: 100%;\" class=\"plotly-graph-div\"></div><script type=\"text/javascript\">require([\"plotly\"], function(Plotly) { window.PLOTLYENV=window.PLOTLYENV || {};window.PLOTLYENV.BASE_URL=\"https://plot.ly\";Plotly.newPlot(\"4c1dc2a1-fb07-4b16-b8ac-418d22ba2e69\", [{\"type\": \"box\", \"x\": [[\"Texas\", \"Kenedy\"], [\"Alabama\", \"Conecuh\"], [\"Virginia\", \"Norton city\"], [\"North Carolina\", \"Clay\"], [\"Puerto Rico\", \"Hatillo\"], [\"Virginia\", \"Covington city\"], [\"Georgia\", \"Wheeler\"], [\"Georgia\", \"Webster\"], [\"Puerto Rico\", \"Lares\"], [\"Puerto Rico\", \"Lajas\"]], \"y\": [94.6, 93.6, 92.9, 92.9, 92.7, 92.7, 92.6, 92.3, 92.2, 91.7], \"showlegend\": false}, {\"type\": \"box\", \"x\": [[\"Georgia\", \"Clay\"], [\"Indiana\", \"LaGrange\"], [\"Georgia\", \"Jenkins\"], [\"Arkansas\", \"Sevier\"], [\"Kansas\", \"Seward\"], [\"Texas\", \"Cochran\"], [\"Texas\", \"Jim Hogg\"], [\"Texas\", \"Roberts\"], [\"Ohio\", \"Holmes\"], [\"Kentucky\", \"Powell\"]], \"y\": [29.9, 27.0, 25.3, 24.4, 23.4, 22.8, 22.6, 22.4, 21.8, 21.6], \"showlegend\": false}, {\"type\": \"box\", \"x\": [[\"New York\", \"Kings\"], [\"New York\", \"Bronx\"], [\"New York\", \"New York\"], [\"New York\", \"Queens\"], [\"New Jersey\", \"Hudson\"], [\"District of Columbia\", \"District of Columbia\"], [\"California\", \"San Francisco\"], [\"Massachusetts\", \"Suffolk\"], [\"New York\", \"Richmond\"], [\"Virginia\", \"Arlington\"]], \"y\": [61.7, 59.7, 59.2, 52.3, 41.0, 37.4, 33.1, 32.5, 29.8, 26.4], \"showlegend\": false}, {\"type\": \"box\", \"x\": [[\"Alaska\", \"Aleutians East Borough\"], [\"Alaska\", \"Kusilvak Census Area\"], [\"Alaska\", \"Northwest Arctic Borough\"], [\"Alaska\", \"Aleutians West Census Area\"], [\"Hawaii\", \"Kalawao\"], [\"Alaska\", \"Yukon-Koyukuk Census Area\"], [\"Alaska\", \"North Slope Borough\"], [\"Alaska\", \"Skagway Municipality\"], [\"Alaska\", \"Nome Census Area\"], [\"Alaska\", \"Lake and Peninsula Borough\"]], \"y\": [71.2, 47.6, 46.9, 42.5, 40.3, 38.1, 37.9, 37.8, 36.9, 36.2], \"showlegend\": false}, {\"type\": \"box\", \"x\": [[\"Alaska\", \"Kusilvak Census Area\"], [\"Alaska\", \"Lake and Peninsula Borough\"], [\"Alaska\", \"Nome Census Area\"], [\"Alaska\", \"Bethel Census Area\"], [\"Alaska\", \"Northwest Arctic Borough\"], [\"Alaska\", \"Yukon-Koyukuk Census Area\"], [\"Colorado\", \"San Juan\"], [\"Alaska\", \"Dillingham Census Area\"], [\"Hawaii\", \"Kalawao\"], [\"Indiana\", \"LaGrange\"]], \"y\": [39.1, 32.4, 22.7, 22.6, 21.2, 20.1, 19.9, 17.7, 14.9, 11.5], \"showlegend\": false}], {\"title\": \"Counties with most popular transportation methods\", \"showlegend\": false, \"updatemenus\": [{\"active\": -1, \"x\": -0.15, \"buttons\": [{\"label\": \"Drive\", \"method\": \"update\", \"args\": [{\"visible\": [true, false, false, false, false]}, {\"title\": \"Top counties for Drive\"}]}, {\"label\": \"Carpool\", \"method\": \"update\", \"args\": [{\"visible\": [false, true, false, false, false]}, {\"title\": \"Top counties for Carpool\"}]}, {\"label\": \"Transit\", \"method\": \"update\", \"args\": [{\"visible\": [false, false, true, false, false]}, {\"title\": \"Top counties for Transit\"}]}, {\"label\": \"Walk\", \"method\": \"update\", \"args\": [{\"visible\": [false, false, false, true, false]}, {\"title\": \"Top counties for Walk\"}]}, {\"label\": \"OtherTransp\", \"method\": \"update\", \"args\": [{\"visible\": [false, false, false, false, true]}, {\"title\": \"Top counties for OtherTransp\"}]}]}]}, {\"showLink\": true, \"linkText\": \"Export to plot.ly\"})});</script>"
      ],
      "text/vnd.plotly.v1+html": [
       "<div id=\"4c1dc2a1-fb07-4b16-b8ac-418d22ba2e69\" style=\"height: 525px; width: 100%;\" class=\"plotly-graph-div\"></div><script type=\"text/javascript\">require([\"plotly\"], function(Plotly) { window.PLOTLYENV=window.PLOTLYENV || {};window.PLOTLYENV.BASE_URL=\"https://plot.ly\";Plotly.newPlot(\"4c1dc2a1-fb07-4b16-b8ac-418d22ba2e69\", [{\"type\": \"box\", \"x\": [[\"Texas\", \"Kenedy\"], [\"Alabama\", \"Conecuh\"], [\"Virginia\", \"Norton city\"], [\"North Carolina\", \"Clay\"], [\"Puerto Rico\", \"Hatillo\"], [\"Virginia\", \"Covington city\"], [\"Georgia\", \"Wheeler\"], [\"Georgia\", \"Webster\"], [\"Puerto Rico\", \"Lares\"], [\"Puerto Rico\", \"Lajas\"]], \"y\": [94.6, 93.6, 92.9, 92.9, 92.7, 92.7, 92.6, 92.3, 92.2, 91.7], \"showlegend\": false}, {\"type\": \"box\", \"x\": [[\"Georgia\", \"Clay\"], [\"Indiana\", \"LaGrange\"], [\"Georgia\", \"Jenkins\"], [\"Arkansas\", \"Sevier\"], [\"Kansas\", \"Seward\"], [\"Texas\", \"Cochran\"], [\"Texas\", \"Jim Hogg\"], [\"Texas\", \"Roberts\"], [\"Ohio\", \"Holmes\"], [\"Kentucky\", \"Powell\"]], \"y\": [29.9, 27.0, 25.3, 24.4, 23.4, 22.8, 22.6, 22.4, 21.8, 21.6], \"showlegend\": false}, {\"type\": \"box\", \"x\": [[\"New York\", \"Kings\"], [\"New York\", \"Bronx\"], [\"New York\", \"New York\"], [\"New York\", \"Queens\"], [\"New Jersey\", \"Hudson\"], [\"District of Columbia\", \"District of Columbia\"], [\"California\", \"San Francisco\"], [\"Massachusetts\", \"Suffolk\"], [\"New York\", \"Richmond\"], [\"Virginia\", \"Arlington\"]], \"y\": [61.7, 59.7, 59.2, 52.3, 41.0, 37.4, 33.1, 32.5, 29.8, 26.4], \"showlegend\": false}, {\"type\": \"box\", \"x\": [[\"Alaska\", \"Aleutians East Borough\"], [\"Alaska\", \"Kusilvak Census Area\"], [\"Alaska\", \"Northwest Arctic Borough\"], [\"Alaska\", \"Aleutians West Census Area\"], [\"Hawaii\", \"Kalawao\"], [\"Alaska\", \"Yukon-Koyukuk Census Area\"], [\"Alaska\", \"North Slope Borough\"], [\"Alaska\", \"Skagway Municipality\"], [\"Alaska\", \"Nome Census Area\"], [\"Alaska\", \"Lake and Peninsula Borough\"]], \"y\": [71.2, 47.6, 46.9, 42.5, 40.3, 38.1, 37.9, 37.8, 36.9, 36.2], \"showlegend\": false}, {\"type\": \"box\", \"x\": [[\"Alaska\", \"Kusilvak Census Area\"], [\"Alaska\", \"Lake and Peninsula Borough\"], [\"Alaska\", \"Nome Census Area\"], [\"Alaska\", \"Bethel Census Area\"], [\"Alaska\", \"Northwest Arctic Borough\"], [\"Alaska\", \"Yukon-Koyukuk Census Area\"], [\"Colorado\", \"San Juan\"], [\"Alaska\", \"Dillingham Census Area\"], [\"Hawaii\", \"Kalawao\"], [\"Indiana\", \"LaGrange\"]], \"y\": [39.1, 32.4, 22.7, 22.6, 21.2, 20.1, 19.9, 17.7, 14.9, 11.5], \"showlegend\": false}], {\"title\": \"Counties with most popular transportation methods\", \"showlegend\": false, \"updatemenus\": [{\"active\": -1, \"x\": -0.15, \"buttons\": [{\"label\": \"Drive\", \"method\": \"update\", \"args\": [{\"visible\": [true, false, false, false, false]}, {\"title\": \"Top counties for Drive\"}]}, {\"label\": \"Carpool\", \"method\": \"update\", \"args\": [{\"visible\": [false, true, false, false, false]}, {\"title\": \"Top counties for Carpool\"}]}, {\"label\": \"Transit\", \"method\": \"update\", \"args\": [{\"visible\": [false, false, true, false, false]}, {\"title\": \"Top counties for Transit\"}]}, {\"label\": \"Walk\", \"method\": \"update\", \"args\": [{\"visible\": [false, false, false, true, false]}, {\"title\": \"Top counties for Walk\"}]}, {\"label\": \"OtherTransp\", \"method\": \"update\", \"args\": [{\"visible\": [false, false, false, false, true]}, {\"title\": \"Top counties for OtherTransp\"}]}]}]}, {\"showLink\": true, \"linkText\": \"Export to plot.ly\"})});</script>"
      ]
     },
     "metadata": {},
     "output_type": "display_data"
    }
   ],
   "source": [
    "transportations = ['Drive', 'Carpool', 'Transit', 'Walk', 'OtherTransp']\n",
    "\n",
    "datas = []\n",
    "for tran in transportations:\n",
    "    datas.append(county.groupby([\"State\", \"County\"])[tran].median().sort_values(ascending=False).head(10))\n",
    "\n",
    "traces = []\n",
    "\n",
    "for data in datas:\n",
    "    traces.append(go.Box(\n",
    "                            x=data.index,\n",
    "                            y=data.values, \n",
    "                            showlegend=False\n",
    "                        ))\n",
    "buttons = []\n",
    "\n",
    "for i, tran in enumerate(transportations):\n",
    "    visibility = [i==j for j in range(len(transportations))]\n",
    "    button = dict(\n",
    "                 label =  tran,\n",
    "                 method = 'update',\n",
    "                 args = [{'visible': visibility},\n",
    "                     {'title': 'Top counties for {}'.format(tran)}])\n",
    "    buttons.append(button)\n",
    "\n",
    "updatemenus = list([\n",
    "    dict(active=-1,\n",
    "         x=-0.15,\n",
    "         buttons=buttons\n",
    "    )\n",
    "])\n",
    "\n",
    "layout = dict(title='Counties with most popular transportation methods', \n",
    "              showlegend=False,\n",
    "              updatemenus=updatemenus)\n",
    "\n",
    "fig = dict(data=traces, layout=layout)\n",
    "\n",
    "iplot(fig, filename='dropdown')"
   ]
  },
  {
   "cell_type": "code",
   "execution_count": null,
   "metadata": {
    "collapsed": true
   },
   "outputs": [],
   "source": []
  }
 ],
 "metadata": {
  "kernelspec": {
   "display_name": "Python 3",
   "language": "python",
   "name": "python3"
  },
  "language_info": {
   "codemirror_mode": {
    "name": "ipython",
    "version": 3
   },
   "file_extension": ".py",
   "mimetype": "text/x-python",
   "name": "python",
   "nbconvert_exporter": "python",
   "pygments_lexer": "ipython3",
   "version": "3.6.3"
  }
 },
 "nbformat": 4,
 "nbformat_minor": 2
}
