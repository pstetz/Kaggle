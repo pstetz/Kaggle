{
 "cells": [
  {
   "cell_type": "markdown",
   "metadata": {},
   "source": [
    "# Credit:\n",
    "\n",
    "[Leonardo Ferreira](https://www.kaggle.com/kabure) and [his work](https://www.kaggle.com/kabure/financial-hedging-eda-interactive-plots)"
   ]
  },
  {
   "cell_type": "markdown",
   "metadata": {},
   "source": [
    "### Imports"
   ]
  },
  {
   "cell_type": "code",
   "execution_count": 1,
   "metadata": {},
   "outputs": [
    {
     "data": {
      "text/html": [
       "<script>requirejs.config({paths: { 'plotly': ['https://cdn.plot.ly/plotly-latest.min']},});if(!window.Plotly) {{require(['plotly'],function(plotly) {window.Plotly=plotly;});}}</script>"
      ],
      "text/vnd.plotly.v1+html": [
       "<script>requirejs.config({paths: { 'plotly': ['https://cdn.plot.ly/plotly-latest.min']},});if(!window.Plotly) {{require(['plotly'],function(plotly) {window.Plotly=plotly;});}}</script>"
      ]
     },
     "metadata": {},
     "output_type": "display_data"
    }
   ],
   "source": [
    "# Load the librarys\n",
    "import pandas as pd\n",
    "import numpy as np\n",
    "import seaborn as sns\n",
    "import matplotlib.pyplot as plt\n",
    "from matplotlib import rcParams\n",
    "\n",
    "import plotly.tools as tls\n",
    "import plotly.offline as py\n",
    "from plotly.offline import init_notebook_mode, iplot, plot\n",
    "import plotly.graph_objs as go\n",
    "init_notebook_mode(connected=True)\n",
    "import warnings\n",
    "\n",
    "%matplotlib inline"
   ]
  },
  {
   "cell_type": "markdown",
   "metadata": {},
   "source": [
    "### Load data"
   ]
  },
  {
   "cell_type": "code",
   "execution_count": 5,
   "metadata": {
    "collapsed": true
   },
   "outputs": [],
   "source": [
    "county = pd.read_csv(\"../../../data/census/census_county.csv\")"
   ]
  },
  {
   "cell_type": "markdown",
   "metadata": {},
   "source": [
    "### Testing plotly - State"
   ]
  },
  {
   "cell_type": "code",
   "execution_count": null,
   "metadata": {
    "collapsed": true
   },
   "outputs": [],
   "source": [
    "transportations = ['Drive', 'Carpool', 'Transit', 'Walk', 'OtherTransp']\n",
    "\n",
    "datas = []\n",
    "for tran in transportations:\n",
    "    datas.append(county.groupby([\"State\", \"County\"])[tran].median().sort_values(ascending=False).head(10))\n",
    "\n",
    "traces = []\n",
    "\n",
    "for data in datas:\n",
    "    traces.append(go.Box(\n",
    "                            x=data.index,\n",
    "                            y=data.values, \n",
    "                            showlegend=False\n",
    "                        ))\n",
    "buttons = []\n",
    "\n",
    "for i, tran in enumerate(transportations):\n",
    "    visibility = [i==j for j in range(len(transportations))]\n",
    "    button = dict(\n",
    "                 label =  tran,\n",
    "                 method = 'update',\n",
    "                 args = [{'visible': visibility},\n",
    "                     {'title': 'Top counties for {}'.format(tran)}])\n",
    "    buttons.append(button)\n",
    "\n",
    "updatemenus = list([\n",
    "    dict(active=-1,\n",
    "         x=-0.15,\n",
    "         buttons=buttons\n",
    "    )\n",
    "])\n",
    "\n",
    "layout = dict(title='Counties with most popular transportation methods', \n",
    "              showlegend=False,\n",
    "              updatemenus=updatemenus)\n",
    "\n",
    "fig = dict(data=traces, layout=layout)\n",
    "\n",
    "iplot(fig, filename='dropdown')"
   ]
  },
  {
   "cell_type": "markdown",
   "metadata": {},
   "source": [
    "### Testing plotly - County"
   ]
  },
  {
   "cell_type": "code",
   "execution_count": 17,
   "metadata": {},
   "outputs": [
    {
     "data": {
      "application/vnd.plotly.v1+json": {
       "data": [
        {
         "showlegend": false,
         "type": "box",
         "x": [
          [
           "Texas",
           "Kenedy"
          ],
          [
           "Alabama",
           "Conecuh"
          ],
          [
           "Virginia",
           "Norton city"
          ],
          [
           "North Carolina",
           "Clay"
          ],
          [
           "Puerto Rico",
           "Hatillo"
          ],
          [
           "Virginia",
           "Covington city"
          ],
          [
           "Georgia",
           "Wheeler"
          ],
          [
           "Georgia",
           "Webster"
          ],
          [
           "Puerto Rico",
           "Lares"
          ],
          [
           "Puerto Rico",
           "Lajas"
          ]
         ],
         "y": [
          94.6,
          93.6,
          92.9,
          92.9,
          92.7,
          92.7,
          92.6,
          92.3,
          92.2,
          91.7
         ]
        },
        {
         "showlegend": false,
         "type": "box",
         "x": [
          [
           "Georgia",
           "Clay"
          ],
          [
           "Indiana",
           "LaGrange"
          ],
          [
           "Georgia",
           "Jenkins"
          ],
          [
           "Arkansas",
           "Sevier"
          ],
          [
           "Kansas",
           "Seward"
          ],
          [
           "Texas",
           "Cochran"
          ],
          [
           "Texas",
           "Jim Hogg"
          ],
          [
           "Texas",
           "Roberts"
          ],
          [
           "Ohio",
           "Holmes"
          ],
          [
           "Kentucky",
           "Powell"
          ]
         ],
         "y": [
          29.9,
          27,
          25.3,
          24.4,
          23.4,
          22.8,
          22.6,
          22.4,
          21.8,
          21.6
         ]
        },
        {
         "showlegend": false,
         "type": "box",
         "x": [
          [
           "New York",
           "Kings"
          ],
          [
           "New York",
           "Bronx"
          ],
          [
           "New York",
           "New York"
          ],
          [
           "New York",
           "Queens"
          ],
          [
           "New Jersey",
           "Hudson"
          ],
          [
           "District of Columbia",
           "District of Columbia"
          ],
          [
           "California",
           "San Francisco"
          ],
          [
           "Massachusetts",
           "Suffolk"
          ],
          [
           "New York",
           "Richmond"
          ],
          [
           "Virginia",
           "Arlington"
          ]
         ],
         "y": [
          61.7,
          59.7,
          59.2,
          52.3,
          41,
          37.4,
          33.1,
          32.5,
          29.8,
          26.4
         ]
        },
        {
         "showlegend": false,
         "type": "box",
         "x": [
          [
           "Alaska",
           "Aleutians East Borough"
          ],
          [
           "Alaska",
           "Kusilvak Census Area"
          ],
          [
           "Alaska",
           "Northwest Arctic Borough"
          ],
          [
           "Alaska",
           "Aleutians West Census Area"
          ],
          [
           "Hawaii",
           "Kalawao"
          ],
          [
           "Alaska",
           "Yukon-Koyukuk Census Area"
          ],
          [
           "Alaska",
           "North Slope Borough"
          ],
          [
           "Alaska",
           "Skagway Municipality"
          ],
          [
           "Alaska",
           "Nome Census Area"
          ],
          [
           "Alaska",
           "Lake and Peninsula Borough"
          ]
         ],
         "y": [
          71.2,
          47.6,
          46.9,
          42.5,
          40.3,
          38.1,
          37.9,
          37.8,
          36.9,
          36.2
         ]
        },
        {
         "showlegend": false,
         "type": "box",
         "x": [
          [
           "Alaska",
           "Kusilvak Census Area"
          ],
          [
           "Alaska",
           "Lake and Peninsula Borough"
          ],
          [
           "Alaska",
           "Nome Census Area"
          ],
          [
           "Alaska",
           "Bethel Census Area"
          ],
          [
           "Alaska",
           "Northwest Arctic Borough"
          ],
          [
           "Alaska",
           "Yukon-Koyukuk Census Area"
          ],
          [
           "Colorado",
           "San Juan"
          ],
          [
           "Alaska",
           "Dillingham Census Area"
          ],
          [
           "Hawaii",
           "Kalawao"
          ],
          [
           "Indiana",
           "LaGrange"
          ]
         ],
         "y": [
          39.1,
          32.4,
          22.7,
          22.6,
          21.2,
          20.1,
          19.9,
          17.7,
          14.9,
          11.5
         ]
        }
       ],
       "layout": {
        "showlegend": false,
        "title": "Counties with most popular transportation methods",
        "updatemenus": [
         {
          "active": -1,
          "buttons": [
           {
            "args": [
             {
              "visible": [
               true,
               false,
               false,
               false,
               false
              ]
             },
             {
              "title": "Top counties for Drive"
             }
            ],
            "label": "Drive",
            "method": "update"
           },
           {
            "args": [
             {
              "visible": [
               false,
               true,
               false,
               false,
               false
              ]
             },
             {
              "title": "Top counties for Carpool"
             }
            ],
            "label": "Carpool",
            "method": "update"
           },
           {
            "args": [
             {
              "visible": [
               false,
               false,
               true,
               false,
               false
              ]
             },
             {
              "title": "Top counties for Transit"
             }
            ],
            "label": "Transit",
            "method": "update"
           },
           {
            "args": [
             {
              "visible": [
               false,
               false,
               false,
               true,
               false
              ]
             },
             {
              "title": "Top counties for Walk"
             }
            ],
            "label": "Walk",
            "method": "update"
           },
           {
            "args": [
             {
              "visible": [
               false,
               false,
               false,
               false,
               true
              ]
             },
             {
              "title": "Top counties for OtherTransp"
             }
            ],
            "label": "OtherTransp",
            "method": "update"
           }
          ],
          "x": -0.15
         }
        ]
       }
      },
      "text/html": [
       "<div id=\"66240daf-ff3d-44cf-ab06-3c7f39e68022\" style=\"height: 525px; width: 100%;\" class=\"plotly-graph-div\"></div><script type=\"text/javascript\">require([\"plotly\"], function(Plotly) { window.PLOTLYENV=window.PLOTLYENV || {};window.PLOTLYENV.BASE_URL=\"https://plot.ly\";Plotly.newPlot(\"66240daf-ff3d-44cf-ab06-3c7f39e68022\", [{\"type\": \"box\", \"x\": [[\"Texas\", \"Kenedy\"], [\"Alabama\", \"Conecuh\"], [\"Virginia\", \"Norton city\"], [\"North Carolina\", \"Clay\"], [\"Puerto Rico\", \"Hatillo\"], [\"Virginia\", \"Covington city\"], [\"Georgia\", \"Wheeler\"], [\"Georgia\", \"Webster\"], [\"Puerto Rico\", \"Lares\"], [\"Puerto Rico\", \"Lajas\"]], \"y\": [94.6, 93.6, 92.9, 92.9, 92.7, 92.7, 92.6, 92.3, 92.2, 91.7], \"showlegend\": false}, {\"type\": \"box\", \"x\": [[\"Georgia\", \"Clay\"], [\"Indiana\", \"LaGrange\"], [\"Georgia\", \"Jenkins\"], [\"Arkansas\", \"Sevier\"], [\"Kansas\", \"Seward\"], [\"Texas\", \"Cochran\"], [\"Texas\", \"Jim Hogg\"], [\"Texas\", \"Roberts\"], [\"Ohio\", \"Holmes\"], [\"Kentucky\", \"Powell\"]], \"y\": [29.9, 27.0, 25.3, 24.4, 23.4, 22.8, 22.6, 22.4, 21.8, 21.6], \"showlegend\": false}, {\"type\": \"box\", \"x\": [[\"New York\", \"Kings\"], [\"New York\", \"Bronx\"], [\"New York\", \"New York\"], [\"New York\", \"Queens\"], [\"New Jersey\", \"Hudson\"], [\"District of Columbia\", \"District of Columbia\"], [\"California\", \"San Francisco\"], [\"Massachusetts\", \"Suffolk\"], [\"New York\", \"Richmond\"], [\"Virginia\", \"Arlington\"]], \"y\": [61.7, 59.7, 59.2, 52.3, 41.0, 37.4, 33.1, 32.5, 29.8, 26.4], \"showlegend\": false}, {\"type\": \"box\", \"x\": [[\"Alaska\", \"Aleutians East Borough\"], [\"Alaska\", \"Kusilvak Census Area\"], [\"Alaska\", \"Northwest Arctic Borough\"], [\"Alaska\", \"Aleutians West Census Area\"], [\"Hawaii\", \"Kalawao\"], [\"Alaska\", \"Yukon-Koyukuk Census Area\"], [\"Alaska\", \"North Slope Borough\"], [\"Alaska\", \"Skagway Municipality\"], [\"Alaska\", \"Nome Census Area\"], [\"Alaska\", \"Lake and Peninsula Borough\"]], \"y\": [71.2, 47.6, 46.9, 42.5, 40.3, 38.1, 37.9, 37.8, 36.9, 36.2], \"showlegend\": false}, {\"type\": \"box\", \"x\": [[\"Alaska\", \"Kusilvak Census Area\"], [\"Alaska\", \"Lake and Peninsula Borough\"], [\"Alaska\", \"Nome Census Area\"], [\"Alaska\", \"Bethel Census Area\"], [\"Alaska\", \"Northwest Arctic Borough\"], [\"Alaska\", \"Yukon-Koyukuk Census Area\"], [\"Colorado\", \"San Juan\"], [\"Alaska\", \"Dillingham Census Area\"], [\"Hawaii\", \"Kalawao\"], [\"Indiana\", \"LaGrange\"]], \"y\": [39.1, 32.4, 22.7, 22.6, 21.2, 20.1, 19.9, 17.7, 14.9, 11.5], \"showlegend\": false}], {\"title\": \"Counties with most popular transportation methods\", \"showlegend\": false, \"updatemenus\": [{\"active\": -1, \"x\": -0.15, \"buttons\": [{\"label\": \"Drive\", \"method\": \"update\", \"args\": [{\"visible\": [true, false, false, false, false]}, {\"title\": \"Top counties for Drive\"}]}, {\"label\": \"Carpool\", \"method\": \"update\", \"args\": [{\"visible\": [false, true, false, false, false]}, {\"title\": \"Top counties for Carpool\"}]}, {\"label\": \"Transit\", \"method\": \"update\", \"args\": [{\"visible\": [false, false, true, false, false]}, {\"title\": \"Top counties for Transit\"}]}, {\"label\": \"Walk\", \"method\": \"update\", \"args\": [{\"visible\": [false, false, false, true, false]}, {\"title\": \"Top counties for Walk\"}]}, {\"label\": \"OtherTransp\", \"method\": \"update\", \"args\": [{\"visible\": [false, false, false, false, true]}, {\"title\": \"Top counties for OtherTransp\"}]}]}]}, {\"showLink\": true, \"linkText\": \"Export to plot.ly\"})});</script>"
      ],
      "text/vnd.plotly.v1+html": [
       "<div id=\"66240daf-ff3d-44cf-ab06-3c7f39e68022\" style=\"height: 525px; width: 100%;\" class=\"plotly-graph-div\"></div><script type=\"text/javascript\">require([\"plotly\"], function(Plotly) { window.PLOTLYENV=window.PLOTLYENV || {};window.PLOTLYENV.BASE_URL=\"https://plot.ly\";Plotly.newPlot(\"66240daf-ff3d-44cf-ab06-3c7f39e68022\", [{\"type\": \"box\", \"x\": [[\"Texas\", \"Kenedy\"], [\"Alabama\", \"Conecuh\"], [\"Virginia\", \"Norton city\"], [\"North Carolina\", \"Clay\"], [\"Puerto Rico\", \"Hatillo\"], [\"Virginia\", \"Covington city\"], [\"Georgia\", \"Wheeler\"], [\"Georgia\", \"Webster\"], [\"Puerto Rico\", \"Lares\"], [\"Puerto Rico\", \"Lajas\"]], \"y\": [94.6, 93.6, 92.9, 92.9, 92.7, 92.7, 92.6, 92.3, 92.2, 91.7], \"showlegend\": false}, {\"type\": \"box\", \"x\": [[\"Georgia\", \"Clay\"], [\"Indiana\", \"LaGrange\"], [\"Georgia\", \"Jenkins\"], [\"Arkansas\", \"Sevier\"], [\"Kansas\", \"Seward\"], [\"Texas\", \"Cochran\"], [\"Texas\", \"Jim Hogg\"], [\"Texas\", \"Roberts\"], [\"Ohio\", \"Holmes\"], [\"Kentucky\", \"Powell\"]], \"y\": [29.9, 27.0, 25.3, 24.4, 23.4, 22.8, 22.6, 22.4, 21.8, 21.6], \"showlegend\": false}, {\"type\": \"box\", \"x\": [[\"New York\", \"Kings\"], [\"New York\", \"Bronx\"], [\"New York\", \"New York\"], [\"New York\", \"Queens\"], [\"New Jersey\", \"Hudson\"], [\"District of Columbia\", \"District of Columbia\"], [\"California\", \"San Francisco\"], [\"Massachusetts\", \"Suffolk\"], [\"New York\", \"Richmond\"], [\"Virginia\", \"Arlington\"]], \"y\": [61.7, 59.7, 59.2, 52.3, 41.0, 37.4, 33.1, 32.5, 29.8, 26.4], \"showlegend\": false}, {\"type\": \"box\", \"x\": [[\"Alaska\", \"Aleutians East Borough\"], [\"Alaska\", \"Kusilvak Census Area\"], [\"Alaska\", \"Northwest Arctic Borough\"], [\"Alaska\", \"Aleutians West Census Area\"], [\"Hawaii\", \"Kalawao\"], [\"Alaska\", \"Yukon-Koyukuk Census Area\"], [\"Alaska\", \"North Slope Borough\"], [\"Alaska\", \"Skagway Municipality\"], [\"Alaska\", \"Nome Census Area\"], [\"Alaska\", \"Lake and Peninsula Borough\"]], \"y\": [71.2, 47.6, 46.9, 42.5, 40.3, 38.1, 37.9, 37.8, 36.9, 36.2], \"showlegend\": false}, {\"type\": \"box\", \"x\": [[\"Alaska\", \"Kusilvak Census Area\"], [\"Alaska\", \"Lake and Peninsula Borough\"], [\"Alaska\", \"Nome Census Area\"], [\"Alaska\", \"Bethel Census Area\"], [\"Alaska\", \"Northwest Arctic Borough\"], [\"Alaska\", \"Yukon-Koyukuk Census Area\"], [\"Colorado\", \"San Juan\"], [\"Alaska\", \"Dillingham Census Area\"], [\"Hawaii\", \"Kalawao\"], [\"Indiana\", \"LaGrange\"]], \"y\": [39.1, 32.4, 22.7, 22.6, 21.2, 20.1, 19.9, 17.7, 14.9, 11.5], \"showlegend\": false}], {\"title\": \"Counties with most popular transportation methods\", \"showlegend\": false, \"updatemenus\": [{\"active\": -1, \"x\": -0.15, \"buttons\": [{\"label\": \"Drive\", \"method\": \"update\", \"args\": [{\"visible\": [true, false, false, false, false]}, {\"title\": \"Top counties for Drive\"}]}, {\"label\": \"Carpool\", \"method\": \"update\", \"args\": [{\"visible\": [false, true, false, false, false]}, {\"title\": \"Top counties for Carpool\"}]}, {\"label\": \"Transit\", \"method\": \"update\", \"args\": [{\"visible\": [false, false, true, false, false]}, {\"title\": \"Top counties for Transit\"}]}, {\"label\": \"Walk\", \"method\": \"update\", \"args\": [{\"visible\": [false, false, false, true, false]}, {\"title\": \"Top counties for Walk\"}]}, {\"label\": \"OtherTransp\", \"method\": \"update\", \"args\": [{\"visible\": [false, false, false, false, true]}, {\"title\": \"Top counties for OtherTransp\"}]}]}]}, {\"showLink\": true, \"linkText\": \"Export to plot.ly\"})});</script>"
      ]
     },
     "metadata": {},
     "output_type": "display_data"
    }
   ],
   "source": [
    "transportations = ['Drive', 'Carpool', 'Transit', 'Walk', 'OtherTransp']\n",
    "\n",
    "datas = []\n",
    "for tran in transportations:\n",
    "    datas.append(county.groupby([\"State\", \"County\"])[tran].median().sort_values(ascending=False).head(10))\n",
    "\n",
    "traces = []\n",
    "\n",
    "for data in datas:\n",
    "    traces.append(go.Box(\n",
    "                            x=data.index,\n",
    "                            y=data.values, \n",
    "                            showlegend=False\n",
    "                        ))\n",
    "buttons = []\n",
    "\n",
    "for i, tran in enumerate(transportations):\n",
    "    visibility = [i==j for j in range(len(transportations))]\n",
    "    button = dict(\n",
    "                 label =  tran,\n",
    "                 method = 'update',\n",
    "                 args = [{'visible': visibility},\n",
    "                     {'title': 'Top counties for {}'.format(tran)}])\n",
    "    buttons.append(button)\n",
    "\n",
    "updatemenus = list([\n",
    "    dict(active=-1,\n",
    "         x=-0.15,\n",
    "         buttons=buttons\n",
    "    )\n",
    "])\n",
    "\n",
    "layout = dict(title='Counties with most popular transportation methods', \n",
    "              showlegend=False,\n",
    "              updatemenus=updatemenus)\n",
    "\n",
    "fig = dict(data=traces, layout=layout)\n",
    "\n",
    "iplot(fig, filename='dropdown')"
   ]
  },
  {
   "cell_type": "code",
   "execution_count": null,
   "metadata": {
    "collapsed": true
   },
   "outputs": [],
   "source": []
  }
 ],
 "metadata": {
  "kernelspec": {
   "display_name": "Python 3",
   "language": "python",
   "name": "python3"
  },
  "language_info": {
   "codemirror_mode": {
    "name": "ipython",
    "version": 3
   },
   "file_extension": ".py",
   "mimetype": "text/x-python",
   "name": "python",
   "nbconvert_exporter": "python",
   "pygments_lexer": "ipython3",
   "version": "3.6.3"
  }
 },
 "nbformat": 4,
 "nbformat_minor": 2
}
