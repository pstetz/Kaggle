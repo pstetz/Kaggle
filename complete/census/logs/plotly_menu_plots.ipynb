{
 "cells": [
  {
   "cell_type": "markdown",
   "metadata": {},
   "source": [
    "# Credit:\n",
    "\n",
    "[Leonardo Ferreira](https://www.kaggle.com/kabure) and [his work](https://www.kaggle.com/kabure/financial-hedging-eda-interactive-plots)"
   ]
  },
  {
   "cell_type": "markdown",
   "metadata": {},
   "source": [
    "### Imports"
   ]
  },
  {
   "cell_type": "code",
   "execution_count": 2,
   "metadata": {},
   "outputs": [
    {
     "data": {
      "text/html": [
       "<script>requirejs.config({paths: { 'plotly': ['https://cdn.plot.ly/plotly-latest.min']},});if(!window.Plotly) {{require(['plotly'],function(plotly) {window.Plotly=plotly;});}}</script>"
      ],
      "text/vnd.plotly.v1+html": [
       "<script>requirejs.config({paths: { 'plotly': ['https://cdn.plot.ly/plotly-latest.min']},});if(!window.Plotly) {{require(['plotly'],function(plotly) {window.Plotly=plotly;});}}</script>"
      ]
     },
     "metadata": {},
     "output_type": "display_data"
    }
   ],
   "source": [
    "# Load the librarys\n",
    "import pandas as pd\n",
    "import numpy as np\n",
    "import seaborn as sns\n",
    "import matplotlib.pyplot as plt\n",
    "%matplotlib inline\n",
    "\n",
    "from plotly import tools\n",
    "import plotly.offline as py\n",
    "from plotly.offline import init_notebook_mode, iplot, plot\n",
    "import plotly.graph_objs as go\n",
    "init_notebook_mode(connected=True)\n",
    "\n",
    "import warnings\n",
    "warnings.filterwarnings('ignore')"
   ]
  },
  {
   "cell_type": "markdown",
   "metadata": {},
   "source": [
    "### Load data"
   ]
  },
  {
   "cell_type": "code",
   "execution_count": 3,
   "metadata": {
    "collapsed": true
   },
   "outputs": [],
   "source": [
    "county = pd.read_csv(\"../../../data/census/census_county.csv\")"
   ]
  },
  {
   "cell_type": "markdown",
   "metadata": {},
   "source": [
    "### Career and Sector Plotly"
   ]
  },
  {
   "cell_type": "code",
   "execution_count": 34,
   "metadata": {},
   "outputs": [
    {
     "name": "stdout",
     "output_type": "stream",
     "text": [
      "This is the format of your plot grid:\n",
      "[ (1,1) x1,y1 ]  [ (1,2) x2,y2 ]\n",
      "\n"
     ]
    },
    {
     "data": {
      "application/vnd.plotly.v1+json": {
       "data": [
        {
         "showlegend": false,
         "type": "bar",
         "x": [
          "Falls Church city, Virginia",
          "Los Alamos, New Mexico",
          "Arlington, Virginia",
          "District of Columbia, District of Columbia",
          "Howard, Maryland",
          "New York, New York",
          "Alexandria city, Virginia",
          "Loudoun, Virginia",
          "Montgomery, Maryland",
          "Fairfax, Virginia"
         ],
         "xaxis": "x1",
         "y": [
          74,
          68.3,
          68,
          60.9,
          60,
          59.2,
          58.1,
          56.4,
          56.2,
          56.1
         ],
         "yaxis": "y1"
        },
        {
         "showlegend": false,
         "type": "bar",
         "x": [
          "Vieques, Puerto Rico",
          "Tunica, Mississippi",
          "Kinney, Texas",
          "Kenedy, Texas",
          "Bronx, New York",
          "Culebra, Puerto Rico",
          "Brooks, Texas",
          "Fremont, Colorado",
          "Culberson, Texas",
          "Mahnomen, Minnesota"
         ],
         "xaxis": "x1",
         "y": [
          38.2,
          36.6,
          36.5,
          34.1,
          33.3,
          32.7,
          32.4,
          32.2,
          32.2,
          31.5
         ],
         "yaxis": "y1"
        },
        {
         "showlegend": false,
         "type": "bar",
         "x": [
          "Foard, Texas",
          "Naranjito, Puerto Rico",
          "Toa Baja, Puerto Rico",
          "Hormigueros, Puerto Rico",
          "Bayamón, Puerto Rico",
          "Glades, Florida",
          "Loving, Texas",
          "Dimmit, Texas",
          "Toa Alta, Puerto Rico",
          "Lanier, Georgia"
         ],
         "xaxis": "x1",
         "y": [
          35.4,
          35.2,
          34.9,
          34.5,
          33.6,
          32.5,
          32.3,
          31.9,
          31.8,
          31.8
         ],
         "yaxis": "y1"
        },
        {
         "showlegend": false,
         "type": "bar",
         "x": [
          "Lander, Nevada",
          "King, Texas",
          "Hendry, Florida",
          "Treasure, Montana",
          "Cochran, Texas",
          "Greenlee, Arizona",
          "Yoakum, Texas",
          "Adams, Washington",
          "Esmeralda, Nevada",
          "DeSoto, Florida"
         ],
         "xaxis": "x1",
         "y": [
          40.3,
          39.2,
          33.7,
          33.5,
          33.2,
          31.4,
          31.1,
          31.1,
          30.9,
          30.6
         ],
         "yaxis": "y1"
        },
        {
         "showlegend": false,
         "type": "bar",
         "x": [
          "Aleutians East Borough, Alaska",
          "Aleutians West Census Area, Alaska",
          "LaGrange, Indiana",
          "Chickasaw, Mississippi",
          "Clinton, Indiana",
          "Blackford, Indiana",
          "Colfax, Nebraska",
          "Elk, Pennsylvania",
          "Whitfield, Georgia",
          "Roseau, Minnesota"
         ],
         "xaxis": "x1",
         "y": [
          55.6,
          40.9,
          40.9,
          35.9,
          34.9,
          34.5,
          34.5,
          34,
          33.5,
          33.1
         ],
         "yaxis": "y1"
        },
        {
         "showlegend": false,
         "type": "bar",
         "x": [
          "Switzerland, Indiana",
          "Allendale, South Carolina",
          "Aleutians West Census Area, Alaska",
          "Zapata, Texas",
          "Buena Vista city, Virginia",
          "Taliaferro, Georgia",
          "DeSoto, Florida",
          "Quitman, Georgia",
          "Aleutians East Borough, Alaska",
          "Tyrrell, North Carolina"
         ],
         "xaxis": "x2",
         "y": [
          17.4,
          17.2,
          16.9,
          16.7,
          16.2,
          16,
          15.7,
          14.5,
          13.6,
          13.5
         ],
         "yaxis": "y2"
        },
        {
         "showlegend": false,
         "type": "bar",
         "x": [
          "Dundy, Nebraska",
          "Lipscomb, Texas",
          "Ellis, Oklahoma",
          "Cavalier, North Dakota",
          "Sheridan, Kansas",
          "Petroleum, Montana",
          "Sully, South Dakota",
          "Slope, North Dakota",
          "McCone, Montana",
          "Glasscock, Texas"
         ],
         "xaxis": "x2",
         "y": [
          9.1,
          8.9,
          8.9,
          8.4,
          8.4,
          8.3,
          8.2,
          7.5,
          6.2,
          5
         ],
         "yaxis": "y2"
        },
        {
         "showlegend": false,
         "type": "bar",
         "x": [
          "Kinney, Texas",
          "Gooding, Idaho",
          "Robertson, Kentucky",
          "Wichita, Kansas",
          "Wibaux, Montana",
          "Carter, Montana",
          "Blaine, Nebraska",
          "Aleutians East Borough, Alaska",
          "Esmeralda, Nevada",
          "Arthur, Nebraska"
         ],
         "xaxis": "x2",
         "y": [
          11.6,
          11.4,
          11.3,
          11,
          10.9,
          9.6,
          8,
          7.2,
          7.1,
          4.1
         ],
         "yaxis": "y2"
        },
        {
         "showlegend": false,
         "type": "bar",
         "x": [
          "Williamson, Tennessee",
          "San Francisco, California",
          "Radford city, Virginia",
          "Tunica, Mississippi",
          "Arlington, Virginia",
          "District of Columbia, District of Columbia",
          "Falls Church city, Virginia",
          "Los Alamos, New Mexico",
          "New York, New York",
          "Lexington city, Virginia"
         ],
         "xaxis": "x2",
         "y": [
          3.8,
          3.7,
          3.5,
          3.5,
          3.5,
          2.9,
          2.4,
          2.4,
          2.1,
          1.7
         ],
         "yaxis": "y2"
        },
        {
         "showlegend": false,
         "type": "bar",
         "x": [
          "Hinsdale, Colorado",
          "Lexington city, Virginia",
          "Catron, New Mexico",
          "Arlington, Virginia",
          "Keya Paha, Nebraska",
          "King, Texas",
          "Lincoln, Nevada",
          "Falls Church city, Virginia",
          "Kinney, Texas",
          "Kenedy, Texas"
         ],
         "xaxis": "x2",
         "y": [
          3.1,
          2.8,
          2.7,
          2.7,
          2.5,
          2.4,
          2.4,
          1.5,
          1.3,
          0
         ],
         "yaxis": "y2"
        }
       ],
       "layout": {
        "annotations": [
         {
          "font": {
           "size": 16
          },
          "showarrow": false,
          "text": "Highest",
          "x": 0.225,
          "xanchor": "center",
          "xref": "paper",
          "y": 1,
          "yanchor": "bottom",
          "yref": "paper"
         },
         {
          "font": {
           "size": 16
          },
          "showarrow": false,
          "text": "Lowest",
          "x": 0.775,
          "xanchor": "center",
          "xref": "paper",
          "y": 1,
          "yanchor": "bottom",
          "yref": "paper"
         }
        ],
        "showlegend": false,
        "title": "Career",
        "updatemenus": [
         {
          "active": -1,
          "buttons": [
           {
            "args": [
             {
              "visible": [
               true,
               false,
               false,
               false,
               false
              ]
             },
             {
              "title": "Professional"
             }
            ],
            "label": "Professional",
            "method": "update"
           },
           {
            "args": [
             {
              "visible": [
               false,
               true,
               false,
               false,
               false
              ]
             },
             {
              "title": "Service"
             }
            ],
            "label": "Service",
            "method": "update"
           },
           {
            "args": [
             {
              "visible": [
               false,
               false,
               true,
               false,
               false
              ]
             },
             {
              "title": "Office"
             }
            ],
            "label": "Office",
            "method": "update"
           },
           {
            "args": [
             {
              "visible": [
               false,
               false,
               false,
               true,
               false
              ]
             },
             {
              "title": "Construction"
             }
            ],
            "label": "Construction",
            "method": "update"
           },
           {
            "args": [
             {
              "visible": [
               false,
               false,
               false,
               false,
               true
              ]
             },
             {
              "title": "Production"
             }
            ],
            "label": "Production",
            "method": "update"
           }
          ],
          "x": -0.15
         }
        ],
        "xaxis1": {
         "anchor": "y1",
         "domain": [
          0,
          0.45
         ]
        },
        "xaxis2": {
         "anchor": "y2",
         "domain": [
          0.55,
          1
         ]
        },
        "yaxis1": {
         "anchor": "x1",
         "domain": [
          0,
          1
         ]
        },
        "yaxis2": {
         "anchor": "x2",
         "domain": [
          0,
          1
         ]
        }
       }
      },
      "text/html": [
       "<div id=\"2fc59843-b7fd-49b1-9ea6-db9627147999\" style=\"height: 525px; width: 100%;\" class=\"plotly-graph-div\"></div><script type=\"text/javascript\">require([\"plotly\"], function(Plotly) { window.PLOTLYENV=window.PLOTLYENV || {};window.PLOTLYENV.BASE_URL=\"https://plot.ly\";Plotly.newPlot(\"2fc59843-b7fd-49b1-9ea6-db9627147999\", [{\"type\": \"bar\", \"x\": [\"Falls Church city, Virginia\", \"Los Alamos, New Mexico\", \"Arlington, Virginia\", \"District of Columbia, District of Columbia\", \"Howard, Maryland\", \"New York, New York\", \"Alexandria city, Virginia\", \"Loudoun, Virginia\", \"Montgomery, Maryland\", \"Fairfax, Virginia\"], \"y\": [74.0, 68.3, 68.0, 60.9, 60.0, 59.2, 58.1, 56.4, 56.2, 56.1], \"showlegend\": false, \"xaxis\": \"x1\", \"yaxis\": \"y1\"}, {\"type\": \"bar\", \"x\": [\"Vieques, Puerto Rico\", \"Tunica, Mississippi\", \"Kinney, Texas\", \"Kenedy, Texas\", \"Bronx, New York\", \"Culebra, Puerto Rico\", \"Brooks, Texas\", \"Fremont, Colorado\", \"Culberson, Texas\", \"Mahnomen, Minnesota\"], \"y\": [38.2, 36.6, 36.5, 34.1, 33.3, 32.7, 32.4, 32.2, 32.2, 31.5], \"showlegend\": false, \"xaxis\": \"x1\", \"yaxis\": \"y1\"}, {\"type\": \"bar\", \"x\": [\"Foard, Texas\", \"Naranjito, Puerto Rico\", \"Toa Baja, Puerto Rico\", \"Hormigueros, Puerto Rico\", \"Bayam\\u00f3n, Puerto Rico\", \"Glades, Florida\", \"Loving, Texas\", \"Dimmit, Texas\", \"Toa Alta, Puerto Rico\", \"Lanier, Georgia\"], \"y\": [35.4, 35.2, 34.9, 34.5, 33.6, 32.5, 32.3, 31.9, 31.8, 31.8], \"showlegend\": false, \"xaxis\": \"x1\", \"yaxis\": \"y1\"}, {\"type\": \"bar\", \"x\": [\"Lander, Nevada\", \"King, Texas\", \"Hendry, Florida\", \"Treasure, Montana\", \"Cochran, Texas\", \"Greenlee, Arizona\", \"Yoakum, Texas\", \"Adams, Washington\", \"Esmeralda, Nevada\", \"DeSoto, Florida\"], \"y\": [40.3, 39.2, 33.7, 33.5, 33.2, 31.4, 31.1, 31.1, 30.9, 30.6], \"showlegend\": false, \"xaxis\": \"x1\", \"yaxis\": \"y1\"}, {\"type\": \"bar\", \"x\": [\"Aleutians East Borough, Alaska\", \"Aleutians West Census Area, Alaska\", \"LaGrange, Indiana\", \"Chickasaw, Mississippi\", \"Clinton, Indiana\", \"Blackford, Indiana\", \"Colfax, Nebraska\", \"Elk, Pennsylvania\", \"Whitfield, Georgia\", \"Roseau, Minnesota\"], \"y\": [55.6, 40.9, 40.9, 35.9, 34.9, 34.5, 34.5, 34.0, 33.5, 33.1], \"showlegend\": false, \"xaxis\": \"x1\", \"yaxis\": \"y1\"}, {\"type\": \"bar\", \"x\": [\"Switzerland, Indiana\", \"Allendale, South Carolina\", \"Aleutians West Census Area, Alaska\", \"Zapata, Texas\", \"Buena Vista city, Virginia\", \"Taliaferro, Georgia\", \"DeSoto, Florida\", \"Quitman, Georgia\", \"Aleutians East Borough, Alaska\", \"Tyrrell, North Carolina\"], \"y\": [17.4, 17.2, 16.9, 16.7, 16.2, 16.0, 15.7, 14.5, 13.6, 13.5], \"showlegend\": false, \"xaxis\": \"x2\", \"yaxis\": \"y2\"}, {\"type\": \"bar\", \"x\": [\"Dundy, Nebraska\", \"Lipscomb, Texas\", \"Ellis, Oklahoma\", \"Cavalier, North Dakota\", \"Sheridan, Kansas\", \"Petroleum, Montana\", \"Sully, South Dakota\", \"Slope, North Dakota\", \"McCone, Montana\", \"Glasscock, Texas\"], \"y\": [9.1, 8.9, 8.9, 8.4, 8.4, 8.3, 8.2, 7.5, 6.2, 5.0], \"showlegend\": false, \"xaxis\": \"x2\", \"yaxis\": \"y2\"}, {\"type\": \"bar\", \"x\": [\"Kinney, Texas\", \"Gooding, Idaho\", \"Robertson, Kentucky\", \"Wichita, Kansas\", \"Wibaux, Montana\", \"Carter, Montana\", \"Blaine, Nebraska\", \"Aleutians East Borough, Alaska\", \"Esmeralda, Nevada\", \"Arthur, Nebraska\"], \"y\": [11.6, 11.4, 11.3, 11.0, 10.9, 9.6, 8.0, 7.2, 7.1, 4.1], \"showlegend\": false, \"xaxis\": \"x2\", \"yaxis\": \"y2\"}, {\"type\": \"bar\", \"x\": [\"Williamson, Tennessee\", \"San Francisco, California\", \"Radford city, Virginia\", \"Tunica, Mississippi\", \"Arlington, Virginia\", \"District of Columbia, District of Columbia\", \"Falls Church city, Virginia\", \"Los Alamos, New Mexico\", \"New York, New York\", \"Lexington city, Virginia\"], \"y\": [3.8, 3.7, 3.5, 3.5, 3.5, 2.9, 2.4, 2.4, 2.1, 1.7], \"showlegend\": false, \"xaxis\": \"x2\", \"yaxis\": \"y2\"}, {\"type\": \"bar\", \"x\": [\"Hinsdale, Colorado\", \"Lexington city, Virginia\", \"Catron, New Mexico\", \"Arlington, Virginia\", \"Keya Paha, Nebraska\", \"King, Texas\", \"Lincoln, Nevada\", \"Falls Church city, Virginia\", \"Kinney, Texas\", \"Kenedy, Texas\"], \"y\": [3.1, 2.8, 2.7, 2.7, 2.5, 2.4, 2.4, 1.5, 1.3, 0.0], \"showlegend\": false, \"xaxis\": \"x2\", \"yaxis\": \"y2\"}], {\"xaxis1\": {\"domain\": [0.0, 0.45], \"anchor\": \"y1\"}, \"yaxis1\": {\"domain\": [0.0, 1.0], \"anchor\": \"x1\"}, \"xaxis2\": {\"domain\": [0.55, 1.0], \"anchor\": \"y2\"}, \"yaxis2\": {\"domain\": [0.0, 1.0], \"anchor\": \"x2\"}, \"annotations\": [{\"y\": 1.0, \"xref\": \"paper\", \"x\": 0.225, \"yref\": \"paper\", \"text\": \"Highest\", \"showarrow\": false, \"font\": {\"size\": 16}, \"xanchor\": \"center\", \"yanchor\": \"bottom\"}, {\"y\": 1.0, \"xref\": \"paper\", \"x\": 0.775, \"yref\": \"paper\", \"text\": \"Lowest\", \"showarrow\": false, \"font\": {\"size\": 16}, \"xanchor\": \"center\", \"yanchor\": \"bottom\"}], \"title\": \"Career\", \"showlegend\": false, \"updatemenus\": [{\"active\": -1, \"x\": -0.15, \"buttons\": [{\"label\": \"Professional\", \"method\": \"update\", \"args\": [{\"visible\": [true, false, false, false, false]}, {\"title\": \"Professional\"}]}, {\"label\": \"Service\", \"method\": \"update\", \"args\": [{\"visible\": [false, true, false, false, false]}, {\"title\": \"Service\"}]}, {\"label\": \"Office\", \"method\": \"update\", \"args\": [{\"visible\": [false, false, true, false, false]}, {\"title\": \"Office\"}]}, {\"label\": \"Construction\", \"method\": \"update\", \"args\": [{\"visible\": [false, false, false, true, false]}, {\"title\": \"Construction\"}]}, {\"label\": \"Production\", \"method\": \"update\", \"args\": [{\"visible\": [false, false, false, false, true]}, {\"title\": \"Production\"}]}]}]}, {\"showLink\": true, \"linkText\": \"Export to plot.ly\"})});</script>"
      ],
      "text/vnd.plotly.v1+html": [
       "<div id=\"2fc59843-b7fd-49b1-9ea6-db9627147999\" style=\"height: 525px; width: 100%;\" class=\"plotly-graph-div\"></div><script type=\"text/javascript\">require([\"plotly\"], function(Plotly) { window.PLOTLYENV=window.PLOTLYENV || {};window.PLOTLYENV.BASE_URL=\"https://plot.ly\";Plotly.newPlot(\"2fc59843-b7fd-49b1-9ea6-db9627147999\", [{\"type\": \"bar\", \"x\": [\"Falls Church city, Virginia\", \"Los Alamos, New Mexico\", \"Arlington, Virginia\", \"District of Columbia, District of Columbia\", \"Howard, Maryland\", \"New York, New York\", \"Alexandria city, Virginia\", \"Loudoun, Virginia\", \"Montgomery, Maryland\", \"Fairfax, Virginia\"], \"y\": [74.0, 68.3, 68.0, 60.9, 60.0, 59.2, 58.1, 56.4, 56.2, 56.1], \"showlegend\": false, \"xaxis\": \"x1\", \"yaxis\": \"y1\"}, {\"type\": \"bar\", \"x\": [\"Vieques, Puerto Rico\", \"Tunica, Mississippi\", \"Kinney, Texas\", \"Kenedy, Texas\", \"Bronx, New York\", \"Culebra, Puerto Rico\", \"Brooks, Texas\", \"Fremont, Colorado\", \"Culberson, Texas\", \"Mahnomen, Minnesota\"], \"y\": [38.2, 36.6, 36.5, 34.1, 33.3, 32.7, 32.4, 32.2, 32.2, 31.5], \"showlegend\": false, \"xaxis\": \"x1\", \"yaxis\": \"y1\"}, {\"type\": \"bar\", \"x\": [\"Foard, Texas\", \"Naranjito, Puerto Rico\", \"Toa Baja, Puerto Rico\", \"Hormigueros, Puerto Rico\", \"Bayam\\u00f3n, Puerto Rico\", \"Glades, Florida\", \"Loving, Texas\", \"Dimmit, Texas\", \"Toa Alta, Puerto Rico\", \"Lanier, Georgia\"], \"y\": [35.4, 35.2, 34.9, 34.5, 33.6, 32.5, 32.3, 31.9, 31.8, 31.8], \"showlegend\": false, \"xaxis\": \"x1\", \"yaxis\": \"y1\"}, {\"type\": \"bar\", \"x\": [\"Lander, Nevada\", \"King, Texas\", \"Hendry, Florida\", \"Treasure, Montana\", \"Cochran, Texas\", \"Greenlee, Arizona\", \"Yoakum, Texas\", \"Adams, Washington\", \"Esmeralda, Nevada\", \"DeSoto, Florida\"], \"y\": [40.3, 39.2, 33.7, 33.5, 33.2, 31.4, 31.1, 31.1, 30.9, 30.6], \"showlegend\": false, \"xaxis\": \"x1\", \"yaxis\": \"y1\"}, {\"type\": \"bar\", \"x\": [\"Aleutians East Borough, Alaska\", \"Aleutians West Census Area, Alaska\", \"LaGrange, Indiana\", \"Chickasaw, Mississippi\", \"Clinton, Indiana\", \"Blackford, Indiana\", \"Colfax, Nebraska\", \"Elk, Pennsylvania\", \"Whitfield, Georgia\", \"Roseau, Minnesota\"], \"y\": [55.6, 40.9, 40.9, 35.9, 34.9, 34.5, 34.5, 34.0, 33.5, 33.1], \"showlegend\": false, \"xaxis\": \"x1\", \"yaxis\": \"y1\"}, {\"type\": \"bar\", \"x\": [\"Switzerland, Indiana\", \"Allendale, South Carolina\", \"Aleutians West Census Area, Alaska\", \"Zapata, Texas\", \"Buena Vista city, Virginia\", \"Taliaferro, Georgia\", \"DeSoto, Florida\", \"Quitman, Georgia\", \"Aleutians East Borough, Alaska\", \"Tyrrell, North Carolina\"], \"y\": [17.4, 17.2, 16.9, 16.7, 16.2, 16.0, 15.7, 14.5, 13.6, 13.5], \"showlegend\": false, \"xaxis\": \"x2\", \"yaxis\": \"y2\"}, {\"type\": \"bar\", \"x\": [\"Dundy, Nebraska\", \"Lipscomb, Texas\", \"Ellis, Oklahoma\", \"Cavalier, North Dakota\", \"Sheridan, Kansas\", \"Petroleum, Montana\", \"Sully, South Dakota\", \"Slope, North Dakota\", \"McCone, Montana\", \"Glasscock, Texas\"], \"y\": [9.1, 8.9, 8.9, 8.4, 8.4, 8.3, 8.2, 7.5, 6.2, 5.0], \"showlegend\": false, \"xaxis\": \"x2\", \"yaxis\": \"y2\"}, {\"type\": \"bar\", \"x\": [\"Kinney, Texas\", \"Gooding, Idaho\", \"Robertson, Kentucky\", \"Wichita, Kansas\", \"Wibaux, Montana\", \"Carter, Montana\", \"Blaine, Nebraska\", \"Aleutians East Borough, Alaska\", \"Esmeralda, Nevada\", \"Arthur, Nebraska\"], \"y\": [11.6, 11.4, 11.3, 11.0, 10.9, 9.6, 8.0, 7.2, 7.1, 4.1], \"showlegend\": false, \"xaxis\": \"x2\", \"yaxis\": \"y2\"}, {\"type\": \"bar\", \"x\": [\"Williamson, Tennessee\", \"San Francisco, California\", \"Radford city, Virginia\", \"Tunica, Mississippi\", \"Arlington, Virginia\", \"District of Columbia, District of Columbia\", \"Falls Church city, Virginia\", \"Los Alamos, New Mexico\", \"New York, New York\", \"Lexington city, Virginia\"], \"y\": [3.8, 3.7, 3.5, 3.5, 3.5, 2.9, 2.4, 2.4, 2.1, 1.7], \"showlegend\": false, \"xaxis\": \"x2\", \"yaxis\": \"y2\"}, {\"type\": \"bar\", \"x\": [\"Hinsdale, Colorado\", \"Lexington city, Virginia\", \"Catron, New Mexico\", \"Arlington, Virginia\", \"Keya Paha, Nebraska\", \"King, Texas\", \"Lincoln, Nevada\", \"Falls Church city, Virginia\", \"Kinney, Texas\", \"Kenedy, Texas\"], \"y\": [3.1, 2.8, 2.7, 2.7, 2.5, 2.4, 2.4, 1.5, 1.3, 0.0], \"showlegend\": false, \"xaxis\": \"x2\", \"yaxis\": \"y2\"}], {\"xaxis1\": {\"domain\": [0.0, 0.45], \"anchor\": \"y1\"}, \"yaxis1\": {\"domain\": [0.0, 1.0], \"anchor\": \"x1\"}, \"xaxis2\": {\"domain\": [0.55, 1.0], \"anchor\": \"y2\"}, \"yaxis2\": {\"domain\": [0.0, 1.0], \"anchor\": \"x2\"}, \"annotations\": [{\"y\": 1.0, \"xref\": \"paper\", \"x\": 0.225, \"yref\": \"paper\", \"text\": \"Highest\", \"showarrow\": false, \"font\": {\"size\": 16}, \"xanchor\": \"center\", \"yanchor\": \"bottom\"}, {\"y\": 1.0, \"xref\": \"paper\", \"x\": 0.775, \"yref\": \"paper\", \"text\": \"Lowest\", \"showarrow\": false, \"font\": {\"size\": 16}, \"xanchor\": \"center\", \"yanchor\": \"bottom\"}], \"title\": \"Career\", \"showlegend\": false, \"updatemenus\": [{\"active\": -1, \"x\": -0.15, \"buttons\": [{\"label\": \"Professional\", \"method\": \"update\", \"args\": [{\"visible\": [true, false, false, false, false]}, {\"title\": \"Professional\"}]}, {\"label\": \"Service\", \"method\": \"update\", \"args\": [{\"visible\": [false, true, false, false, false]}, {\"title\": \"Service\"}]}, {\"label\": \"Office\", \"method\": \"update\", \"args\": [{\"visible\": [false, false, true, false, false]}, {\"title\": \"Office\"}]}, {\"label\": \"Construction\", \"method\": \"update\", \"args\": [{\"visible\": [false, false, false, true, false]}, {\"title\": \"Construction\"}]}, {\"label\": \"Production\", \"method\": \"update\", \"args\": [{\"visible\": [false, false, false, false, true]}, {\"title\": \"Production\"}]}]}]}, {\"showLink\": true, \"linkText\": \"Export to plot.ly\"})});</script>"
      ]
     },
     "metadata": {},
     "output_type": "display_data"
    }
   ],
   "source": [
    "careers = ['Professional', 'Service', 'Office', 'Construction', 'Production']\n",
    "\n",
    "### Create individual figures\n",
    "car_fig = tools.make_subplots(rows=1, cols=2, subplot_titles=('Highest', 'Lowest',))\n",
    "\n",
    "###################################### Career plots ######################################\n",
    "\n",
    "datas = []\n",
    "for career in careers:\n",
    "    data = county.groupby([\"State\", \"County\"])[career].median().sort_values(ascending=False)\n",
    "    data = data.reset_index()\n",
    "    data[\"Place\"] = data[\"County\"] + \", \" + data[\"State\"]\n",
    "    data = data.rename(columns={career: \"Values\"})\n",
    "    datas.append(data)\n",
    "    \n",
    "for data in datas:\n",
    "    trace = go.Bar(\n",
    "                    x=data.head(10).Place,\n",
    "                    y=data.head(10).Values, \n",
    "                    showlegend=False\n",
    "                )\n",
    "    car_fig.append_trace(trace, 1, 1)\n",
    "\n",
    "for data in datas:\n",
    "    trace = go.Bar(\n",
    "                    x=data.tail(10).Place,\n",
    "                    y=data.tail(10).Values, \n",
    "                    showlegend=False\n",
    "                )\n",
    "    car_fig.append_trace(trace, 1, 2)\n",
    "\n",
    "### Create buttons for drop down menu\n",
    "buttons = []\n",
    "for i, label in enumerate(careers):\n",
    "    visibility = [i==j for j in range(len(careers))]\n",
    "    button = dict(\n",
    "                 label =  label,\n",
    "                 method = 'update',\n",
    "                 args = [{'visible': visibility},\n",
    "                     {'title': label}])\n",
    "    buttons.append(button)\n",
    "\n",
    "### Create menu\n",
    "updatemenus = list([\n",
    "    dict(active=-1,\n",
    "         x=-0.15,\n",
    "         buttons=buttons\n",
    "    )\n",
    "])\n",
    "\n",
    "### Final figure edits\n",
    "car_fig['layout']['title'] = 'Career'\n",
    "car_fig['layout']['showlegend'] = False\n",
    "car_fig['layout']['updatemenus'] = updatemenus\n",
    "\n",
    "iplot(car_fig, filename='dropdown')"
   ]
  },
  {
   "cell_type": "markdown",
   "metadata": {},
   "source": [
    "### In progress - I want to have subplots within subplots.\n",
    "\n",
    "Also the subplots each have a menu to change either between careers or sectors"
   ]
  },
  {
   "cell_type": "code",
   "execution_count": 36,
   "metadata": {},
   "outputs": [
    {
     "name": "stdout",
     "output_type": "stream",
     "text": [
      "This is the format of your plot grid:\n",
      "[ (1,1) x1,y1 ]\n",
      "[ (2,1) x2,y2 ]\n",
      "\n",
      "This is the format of your plot grid:\n",
      "[ (1,1) x1,y1 ]  [ (1,2) x2,y2 ]\n",
      "\n",
      "This is the format of your plot grid:\n",
      "[ (1,1) x1,y1 ]  [ (1,2) x2,y2 ]\n",
      "\n"
     ]
    },
    {
     "ename": "PlotlyDictKeyError",
     "evalue": "'xaxis' is not allowed in 'figure'\n\nPath To Error: ['xaxis']\n\nValid attributes for 'figure' at path [] under parents []:\n\n    ['data', 'frames', 'layout']\n\nRun `<figure-object>.help('attribute')` on any of the above.\n'<figure-object>' is the object at []",
     "output_type": "error",
     "traceback": [
      "\u001b[0;31m---------------------------------------------------------------------------\u001b[0m",
      "\u001b[0;31mPlotlyDictKeyError\u001b[0m                        Traceback (most recent call last)",
      "\u001b[0;32m<ipython-input-36-30680b83ef10>\u001b[0m in \u001b[0;36m<module>\u001b[0;34m()\u001b[0m\n\u001b[1;32m    110\u001b[0m \u001b[0;34m\u001b[0m\u001b[0m\n\u001b[1;32m    111\u001b[0m \u001b[0;31m###################################### Final plot ######################################\u001b[0m\u001b[0;34m\u001b[0m\u001b[0;34m\u001b[0m\u001b[0m\n\u001b[0;32m--> 112\u001b[0;31m \u001b[0mmain_fig\u001b[0m\u001b[0;34m.\u001b[0m\u001b[0mappend_trace\u001b[0m\u001b[0;34m(\u001b[0m\u001b[0mcar_fig\u001b[0m\u001b[0;34m,\u001b[0m \u001b[0;36m1\u001b[0m\u001b[0;34m,\u001b[0m \u001b[0;36m1\u001b[0m\u001b[0;34m)\u001b[0m\u001b[0;34m\u001b[0m\u001b[0m\n\u001b[0m\u001b[1;32m    113\u001b[0m \u001b[0mmain_fig\u001b[0m\u001b[0;34m.\u001b[0m\u001b[0mappend_trace\u001b[0m\u001b[0;34m(\u001b[0m\u001b[0msec_fig\u001b[0m\u001b[0;34m,\u001b[0m \u001b[0;36m2\u001b[0m\u001b[0;34m,\u001b[0m \u001b[0;36m1\u001b[0m\u001b[0;34m)\u001b[0m\u001b[0;34m\u001b[0m\u001b[0m\n\u001b[1;32m    114\u001b[0m \u001b[0;34m\u001b[0m\u001b[0m\n",
      "\u001b[0;32m/anaconda3/lib/python3.6/site-packages/plotly/graph_objs/graph_objs.py\u001b[0m in \u001b[0;36mappend_trace\u001b[0;34m(self, trace, row, col)\u001b[0m\n\u001b[1;32m   1274\u001b[0m                                 \u001b[0;34m\"cell got deleted.\"\u001b[0m\u001b[0;34m\u001b[0m\u001b[0m\n\u001b[1;32m   1275\u001b[0m                                 .format(r=row, c=col))\n\u001b[0;32m-> 1276\u001b[0;31m             \u001b[0mtrace\u001b[0m\u001b[0;34m[\u001b[0m\u001b[0;34m'xaxis'\u001b[0m\u001b[0;34m]\u001b[0m \u001b[0;34m=\u001b[0m \u001b[0mref\u001b[0m\u001b[0;34m[\u001b[0m\u001b[0;36m0\u001b[0m\u001b[0;34m]\u001b[0m\u001b[0;34m\u001b[0m\u001b[0m\n\u001b[0m\u001b[1;32m   1277\u001b[0m             \u001b[0mtrace\u001b[0m\u001b[0;34m[\u001b[0m\u001b[0;34m'yaxis'\u001b[0m\u001b[0;34m]\u001b[0m \u001b[0;34m=\u001b[0m \u001b[0mref\u001b[0m\u001b[0;34m[\u001b[0m\u001b[0;36m1\u001b[0m\u001b[0;34m]\u001b[0m\u001b[0;34m\u001b[0m\u001b[0m\n\u001b[1;32m   1278\u001b[0m         \u001b[0mself\u001b[0m\u001b[0;34m[\u001b[0m\u001b[0;34m'data'\u001b[0m\u001b[0;34m]\u001b[0m \u001b[0;34m+=\u001b[0m \u001b[0;34m[\u001b[0m\u001b[0mtrace\u001b[0m\u001b[0;34m]\u001b[0m\u001b[0;34m\u001b[0m\u001b[0m\n",
      "\u001b[0;32m/anaconda3/lib/python3.6/site-packages/plotly/graph_objs/graph_objs.py\u001b[0m in \u001b[0;36m__setitem__\u001b[0;34m(self, key, value, _raise)\u001b[0m\n\u001b[1;32m    426\u001b[0m                 \u001b[0;32mif\u001b[0m \u001b[0m_raise\u001b[0m\u001b[0;34m:\u001b[0m\u001b[0;34m\u001b[0m\u001b[0m\n\u001b[1;32m    427\u001b[0m                     \u001b[0mpath\u001b[0m \u001b[0;34m=\u001b[0m \u001b[0mself\u001b[0m\u001b[0;34m.\u001b[0m\u001b[0m_get_path\u001b[0m\u001b[0;34m(\u001b[0m\u001b[0;34m)\u001b[0m \u001b[0;34m+\u001b[0m \u001b[0;34m(\u001b[0m\u001b[0mkey\u001b[0m\u001b[0;34m,\u001b[0m \u001b[0;34m)\u001b[0m\u001b[0;34m\u001b[0m\u001b[0m\n\u001b[0;32m--> 428\u001b[0;31m                     \u001b[0;32mraise\u001b[0m \u001b[0mexceptions\u001b[0m\u001b[0;34m.\u001b[0m\u001b[0mPlotlyDictKeyError\u001b[0m\u001b[0;34m(\u001b[0m\u001b[0mself\u001b[0m\u001b[0;34m,\u001b[0m \u001b[0mpath\u001b[0m\u001b[0;34m)\u001b[0m\u001b[0;34m\u001b[0m\u001b[0m\n\u001b[0m\u001b[1;32m    429\u001b[0m                 \u001b[0;32mreturn\u001b[0m\u001b[0;34m\u001b[0m\u001b[0m\n\u001b[1;32m    430\u001b[0m \u001b[0;34m\u001b[0m\u001b[0m\n",
      "\u001b[0;31mPlotlyDictKeyError\u001b[0m: 'xaxis' is not allowed in 'figure'\n\nPath To Error: ['xaxis']\n\nValid attributes for 'figure' at path [] under parents []:\n\n    ['data', 'frames', 'layout']\n\nRun `<figure-object>.help('attribute')` on any of the above.\n'<figure-object>' is the object at []"
     ]
    }
   ],
   "source": [
    "careers = ['Professional', 'Service', 'Office', 'Construction', 'Production']\n",
    "sectors = ['PrivateWork', 'PublicWork', 'SelfEmployed', 'FamilyWork']\n",
    "\n",
    "### Create individual figures\n",
    "main_fig = tools.make_subplots(rows=2, cols=1, subplot_titles=('Career', 'Sector',))\n",
    "car_fig = tools.make_subplots(rows=1, cols=2, subplot_titles=('Highest', 'Lowest',))\n",
    "sec_fig = tools.make_subplots(rows=1, cols=2, subplot_titles=('Highest', 'Lowest',))\n",
    "\n",
    "###################################### Career plots ######################################\n",
    "\n",
    "datas = []\n",
    "for career in careers:\n",
    "    data = county.groupby([\"State\", \"County\"])[career].median().sort_values(ascending=False)\n",
    "    data = data.reset_index()\n",
    "    data[\"Place\"] = data[\"County\"] + \", \" + data[\"State\"]\n",
    "    data = data.rename(columns={career: \"Values\"})\n",
    "    datas.append(data)\n",
    "    \n",
    "for data in datas:\n",
    "    trace = go.Bar(\n",
    "                    x=data.head(10).Place,\n",
    "                    y=data.head(10).Values, \n",
    "                    showlegend=False\n",
    "                )\n",
    "    car_fig.append_trace(trace, 1, 1)\n",
    "\n",
    "for data in datas:\n",
    "    trace = go.Bar(\n",
    "                    x=data.tail(10).Place,\n",
    "                    y=data.tail(10).Values, \n",
    "                    showlegend=False\n",
    "                )\n",
    "    car_fig.append_trace(trace, 1, 2)\n",
    "\n",
    "### Create buttons for drop down menu\n",
    "buttons = []\n",
    "for i, label in enumerate(careers):\n",
    "    visibility = [i==j for j in range(len(careers))]\n",
    "    button = dict(\n",
    "                 label =  label,\n",
    "                 method = 'update',\n",
    "                 args = [{'visible': visibility},\n",
    "                     {'title': label}])\n",
    "    buttons.append(button)\n",
    "\n",
    "### Create menu\n",
    "updatemenus = list([\n",
    "    dict(active=-1,\n",
    "         x=-0.15,\n",
    "         buttons=buttons\n",
    "    )\n",
    "])\n",
    "\n",
    "### Final figure edits\n",
    "car_fig['layout']['title'] = 'Career'\n",
    "car_fig['layout']['showlegend'] = False\n",
    "car_fig['layout']['updatemenus'] = updatemenus\n",
    "\n",
    "\n",
    "###################################### Sector plots ######################################\n",
    "\n",
    "datas = []\n",
    "for sector in sectors:\n",
    "    data = county.groupby([\"State\", \"County\"])[sector].median().sort_values(ascending=False)\n",
    "    data = data.reset_index()\n",
    "    data[\"Place\"] = data[\"County\"] + \", \" + data[\"State\"]\n",
    "    data = data.rename(columns={sector: \"Values\"})\n",
    "    datas.append(data)\n",
    "    \n",
    "for data in datas:\n",
    "    trace = go.Bar(\n",
    "                    x=data.head(10).Place,\n",
    "                    y=data.head(10).Values, \n",
    "                    showlegend=False\n",
    "                )\n",
    "    sec_fig.append_trace(trace, 1, 1)\n",
    "\n",
    "for data in datas:\n",
    "    trace = go.Bar(\n",
    "                    x=data.tail(10).Place,\n",
    "                    y=data.tail(10).Values, \n",
    "                    showlegend=False\n",
    "                )\n",
    "    sec_fig.append_trace(trace, 1, 2)\n",
    "\n",
    "### Create buttons for drop down menu\n",
    "buttons = []\n",
    "for i, label in enumerate(sectors):\n",
    "    visibility = [i==j for j in range(len(sectors))]\n",
    "    button = dict(\n",
    "                 label =  label,\n",
    "                 method = 'update',\n",
    "                 args = [{'visible': visibility},\n",
    "                     {'title': label}])\n",
    "    buttons.append(button)\n",
    "\n",
    "\n",
    "### Create menu\n",
    "updatemenus = list([\n",
    "    dict(active=-1,\n",
    "         x=-0.15,\n",
    "         buttons=buttons\n",
    "    )\n",
    "])\n",
    "\n",
    "### Final figure edits\n",
    "sec_fig['layout']['title'] = 'Career'\n",
    "sec_fig['layout']['showlegend'] = False\n",
    "sec_fig['layout']['updatemenus'] = updatemenus\n",
    "\n",
    "###################################### Final plot ######################################\n",
    "main_fig.append_trace(car_fig, 1, 1)\n",
    "main_fig.append_trace(sec_fig, 2, 1)\n",
    "\n",
    "del careers, sectors, car_fig, car, sec_fig, sec\n",
    "iplot(main_fig, filename='dropdown')"
   ]
  },
  {
   "cell_type": "markdown",
   "metadata": {},
   "source": [
    "### Testing plotly - State"
   ]
  },
  {
   "cell_type": "code",
   "execution_count": 17,
   "metadata": {},
   "outputs": [
    {
     "name": "stdout",
     "output_type": "stream",
     "text": [
      "This is the format of your plot grid:\n",
      "[ (1,1) x1,y1 ]  [ (1,2) x2,y2 ]\n",
      "[ (2,1) x3,y3 ]  [ (2,2) x4,y4 ]\n",
      "\n"
     ]
    },
    {
     "data": {
      "application/vnd.plotly.v1+json": {
       "data": [
        {
         "showlegend": false,
         "type": "bar",
         "x": [
          "Alabama",
          "Mississippi",
          "Tennessee",
          "Ohio",
          "Indiana",
          "South Carolina",
          "Michigan",
          "Arkansas",
          "Oklahoma",
          "Kentucky",
          "Louisiana",
          "West Virginia",
          "Kansas"
         ],
         "xaxis": "x1",
         "y": [
          85.42353685448244,
          84.29072073347409,
          83.86016799456583,
          83.4446924004773,
          82.98550659991518,
          82.84192906612057,
          82.53959291842867,
          82.46239659280212,
          82.4592659802641,
          82.45539211884963,
          82.4385584529106,
          82.37469007572567,
          82.15348178197824
         ],
         "yaxis": "y1"
        },
        {
         "showlegend": false,
         "type": "bar",
         "x": [
          "Hawaii",
          "Alaska",
          "Utah",
          "Wyoming",
          "Arizona",
          "California",
          "Arkansas",
          "Texas",
          "Nevada",
          "Montana",
          "Oregon",
          "Oklahoma",
          "Georgia"
         ],
         "xaxis": "x1",
         "y": [
          14.046828092745566,
          12.565731719788657,
          11.96823084413024,
          11.21511836723428,
          11.100768888190299,
          10.91267200541864,
          10.87056180633681,
          10.841973337416944,
          10.836150467584925,
          10.485630319927385,
          10.431787025545328,
          10.42482385142035,
          10.37415422857481
         ],
         "yaxis": "y1"
        },
        {
         "showlegend": false,
         "type": "bar",
         "x": [
          "District of Columbia",
          "New York",
          "New Jersey",
          "Massachusetts",
          "Illinois",
          "Maryland",
          "Hawaii",
          "Pennsylvania",
          "Washington",
          "California",
          "Connecticut",
          "Virginia",
          "Oregon"
         ],
         "xaxis": "x1",
         "y": [
          37.4,
          27.981358640959517,
          10.938296763638435,
          9.489038482244505,
          9.084405396371734,
          9.042499297702838,
          6.391151739423836,
          5.830623795390748,
          5.659967641376438,
          4.913541714599943,
          4.877083074744617,
          4.098447695972811,
          4.094094535662146
         ],
         "yaxis": "y1"
        },
        {
         "showlegend": false,
         "type": "bar",
         "x": [
          "District of Columbia",
          "Alaska",
          "New York",
          "Vermont",
          "Montana",
          "Massachusetts",
          "Hawaii",
          "South Dakota",
          "Oregon",
          "North Dakota",
          "Maine",
          "Pennsylvania",
          "Wyoming"
         ],
         "xaxis": "x1",
         "y": [
          12.9,
          8.241294699164818,
          6.292518797424351,
          5.690334086600149,
          4.917203623931826,
          4.723897806992558,
          4.48863072504496,
          4.101368612056594,
          4.021133911093861,
          3.9881598858156417,
          3.981786171093221,
          3.9547310357110135,
          3.7919829767854276
         ],
         "yaxis": "y1"
        },
        {
         "showlegend": false,
         "type": "bar",
         "x": [
          "Alaska",
          "District of Columbia",
          "Hawaii",
          "Oregon",
          "Arizona",
          "California",
          "Montana",
          "Colorado",
          "Idaho",
          "Florida",
          "Nevada",
          "Wyoming",
          "Washington"
         ],
         "xaxis": "x1",
         "y": [
          6.143167138230782,
          5.2,
          3.530258358997624,
          3.387261504968099,
          2.724845421389693,
          2.4943172675564873,
          2.383224483319684,
          2.3603219682259917,
          2.347484855064529,
          2.2355138856340186,
          2.1530747835731403,
          2.107282306241903,
          2.0925200673856454
         ],
         "yaxis": "y1"
        },
        {
         "showlegend": false,
         "type": "bar",
         "x": [
          "Puerto Rico",
          "Missouri",
          "North Carolina",
          "Nebraska",
          "Delaware",
          "New Hampshire",
          "Iowa",
          "Wisconsin",
          "Texas",
          "North Dakota",
          "Rhode Island",
          "Georgia",
          "Florida"
         ],
         "xaxis": "x2",
         "y": [
          81.79447253795838,
          81.47424981572912,
          81.29225892105424,
          81.17436856900605,
          81.13474765071985,
          81.03343276436131,
          80.62205716066393,
          80.52717992336275,
          80.24296450447639,
          79.99054958150882,
          79.78489808391883,
          79.7692165033943,
          79.62243276568617
         ],
         "yaxis": "y2"
        },
        {
         "showlegend": false,
         "type": "bar",
         "x": [
          "Washington",
          "Maine",
          "New Mexico",
          "West Virginia",
          "Mississippi",
          "Idaho",
          "North Carolina",
          "Kentucky",
          "Louisiana",
          "Kansas",
          "Colorado",
          "Nebraska",
          "Florida"
         ],
         "xaxis": "x2",
         "y": [
          10.327103553894203,
          10.32064524866451,
          10.261481193234356,
          10.128855473096325,
          10.082382003700703,
          10.071030845375978,
          10.030754937390132,
          9.874041360791365,
          9.83328034163753,
          9.625363162710375,
          9.591715897195368,
          9.562260339741034,
          9.502783616749701
         ],
         "yaxis": "y2"
        },
        {
         "showlegend": false,
         "type": "bar",
         "x": [
          "Nevada",
          "Minnesota",
          "Colorado",
          "Delaware",
          "Rhode Island",
          "Utah",
          "Puerto Rico",
          "Arizona",
          "Florida",
          "Georgia",
          "Wisconsin",
          "Ohio",
          "Alaska"
         ],
         "xaxis": "x2",
         "y": [
          3.611221252067078,
          3.4533214028492543,
          3.043118062719813,
          2.972028292824036,
          2.9659477763720967,
          2.445079130213451,
          2.202448233680977,
          2.036389343576142,
          2.034543198404217,
          1.9810565888250984,
          1.9124549360453649,
          1.646181035086715,
          1.5695937276291116
         ],
         "yaxis": "y2"
        },
        {
         "showlegend": false,
         "type": "bar",
         "x": [
          "Rhode Island",
          "Iowa",
          "Washington",
          "Puerto Rico",
          "Wisconsin",
          "Illinois",
          "New Jersey",
          "Idaho",
          "Connecticut",
          "Colorado",
          "New Hampshire",
          "Minnesota",
          "Nebraska"
         ],
         "xaxis": "x2",
         "y": [
          3.7363235423917174,
          3.4969058931458807,
          3.4323320684209384,
          3.381222012501559,
          3.3159486649261933,
          3.10977961296625,
          3.066425490372021,
          3.0271768776286745,
          3.0153487872444282,
          2.956439572896355,
          2.891629593996682,
          2.846846722496854,
          2.8396178381428996
         ],
         "yaxis": "y2"
        },
        {
         "showlegend": false,
         "type": "bar",
         "x": [
          "Louisiana",
          "New Mexico",
          "Utah",
          "New Jersey",
          "Puerto Rico",
          "New York",
          "Texas",
          "Massachusetts",
          "Wisconsin",
          "Illinois",
          "Minnesota",
          "Maine",
          "Georgia"
         ],
         "xaxis": "x2",
         "y": [
          2.052286739774019,
          1.9987484387872658,
          1.977197327665455,
          1.8707569269305004,
          1.862436461662936,
          1.8604428395743358,
          1.7358271272192292,
          1.7191836477826097,
          1.6807191319856427,
          1.6602538061721037,
          1.650145382015072,
          1.6301828304867956,
          1.5933412267169582
         ],
         "yaxis": "y2"
        },
        {
         "showlegend": false,
         "type": "bar",
         "x": [
          "New Mexico",
          "South Dakota",
          "Connecticut",
          "Virginia",
          "Maine",
          "Minnesota",
          "Nevada",
          "Idaho",
          "Wyoming",
          "Arizona",
          "Pennsylvania",
          "Utah",
          "Colorado"
         ],
         "xaxis": "x3",
         "y": [
          79.61893171064771,
          78.59351937285784,
          78.3022187607668,
          78.07897552633456,
          78.03428508012942,
          78.0296525797027,
          78.00188298871306,
          77.90126553697479,
          76.84378423230788,
          76.52867327077318,
          76.11878830873586,
          75.92484415572338,
          75.44704571363839
         ],
         "yaxis": "y3"
        },
        {
         "showlegend": false,
         "type": "bar",
         "x": [
          "Virginia",
          "Missouri",
          "South Dakota",
          "Vermont",
          "Maryland",
          "South Carolina",
          "Tennessee",
          "Alabama",
          "North Dakota",
          "Indiana",
          "Michigan",
          "Iowa",
          "Minnesota"
         ],
         "xaxis": "x3",
         "y": [
          9.489978211449468,
          9.464620603799753,
          9.447684744838057,
          9.44461190799931,
          9.443247121930591,
          9.364050493388278,
          9.267402807704764,
          9.245189727198577,
          9.203020203979824,
          9.050048404199039,
          8.934669757936186,
          8.795076750607556,
          8.788322605062662
         ],
         "yaxis": "y3"
        },
        {
         "showlegend": false,
         "type": "bar",
         "x": [
          "Wyoming",
          "Texas",
          "Missouri",
          "Michigan",
          "Louisiana",
          "Vermont",
          "Indiana",
          "Iowa",
          "New Mexico",
          "North Carolina",
          "Kentucky",
          "New Hampshire",
          "Montana"
         ],
         "xaxis": "x3",
         "y": [
          1.556640485510084,
          1.513875415649062,
          1.463595088403705,
          1.4398223193389554,
          1.3162604294294813,
          1.1513279519441304,
          1.1014964425692053,
          1.0914353718055059,
          1.046654194558175,
          1.0411520057269774,
          1.0162375865662825,
          0.8638883371935228,
          0.8172918274286265
         ],
         "yaxis": "y3"
        },
        {
         "showlegend": false,
         "type": "bar",
         "x": [
          "West Virginia",
          "California",
          "Utah",
          "Maryland",
          "Kansas",
          "Kentucky",
          "Ohio",
          "Virginia",
          "New Mexico",
          "Michigan",
          "Nevada",
          "Delaware",
          "South Carolina"
         ],
         "xaxis": "x3",
         "y": [
          2.781299218977866,
          2.649466129140732,
          2.569182769455865,
          2.470085294116655,
          2.359241192580539,
          2.314162952121425,
          2.3057318012984984,
          2.298581661040884,
          2.256598214015816,
          2.2075015572334156,
          2.1826628400406487,
          2.1678449226836953,
          2.16532865201935
         ],
         "yaxis": "y3"
        },
        {
         "showlegend": false,
         "type": "bar",
         "x": [
          "Vermont",
          "South Carolina",
          "Virginia",
          "Iowa",
          "South Dakota",
          "Rhode Island",
          "Mississippi",
          "Indiana",
          "Pennsylvania",
          "Oklahoma",
          "Kansas",
          "Nebraska",
          "North Carolina"
         ],
         "xaxis": "x3",
         "y": [
          1.5871172223605337,
          1.5775392793332852,
          1.556761184647974,
          1.528806546316404,
          1.5209199587281637,
          1.5142161473187297,
          1.4735878311197055,
          1.4698759942118957,
          1.4111074177129272,
          1.3802016659337155,
          1.3336452946383792,
          1.330409417101529,
          1.3105333156328993
         ],
         "yaxis": "y3"
        },
        {
         "showlegend": false,
         "type": "bar",
         "x": [
          "Vermont",
          "Montana",
          "California",
          "Maryland",
          "Illinois",
          "Washington",
          "New Jersey",
          "Oregon",
          "Massachusetts",
          "Hawaii",
          "Alaska",
          "New York",
          "District of Columbia"
         ],
         "xaxis": "x4",
         "y": [
          75.37057359991319,
          75.0336949183945,
          73.73619696271855,
          73.58466064967462,
          73.43074547523446,
          73.02471696940962,
          72.00355271032464,
          71.81365222620747,
          71.78749511228399,
          66.91372773499803,
          66.86735817283109,
          53.215070247434404,
          33.7
         ],
         "yaxis": "y4"
        },
        {
         "showlegend": false,
         "type": "bar",
         "x": [
          "Pennsylvania",
          "Puerto Rico",
          "Rhode Island",
          "Illinois",
          "Wisconsin",
          "Delaware",
          "Connecticut",
          "New Jersey",
          "New Hampshire",
          "Ohio",
          "Massachusetts",
          "New York",
          "District of Columbia"
         ],
         "xaxis": "x4",
         "y": [
          8.746726479372255,
          8.684692915829512,
          8.534816131564137,
          8.526308232691285,
          8.496623126975646,
          8.403599854930738,
          8.227782168761072,
          8.145861563249595,
          7.9933828021576785,
          7.966126954122315,
          7.727871479092208,
          6.7718710768277655,
          5.7
         ],
         "yaxis": "y4"
        },
        {
         "showlegend": false,
         "type": "bar",
         "x": [
          "West Virginia",
          "Tennessee",
          "Idaho",
          "Nebraska",
          "Maine",
          "South Carolina",
          "South Dakota",
          "Kansas",
          "Oklahoma",
          "North Dakota",
          "Arkansas",
          "Mississippi",
          "Alabama"
         ],
         "xaxis": "x4",
         "y": [
          0.7664221516457637,
          0.7633396901201069,
          0.7589676019317719,
          0.722382948220385,
          0.6198190504852908,
          0.5957426108972417,
          0.5441000249054188,
          0.47575602655663496,
          0.4536620851368133,
          0.45249390277700796,
          0.42538073725715037,
          0.40785735058721645,
          0.4075812835619444
         ],
         "yaxis": "y4"
        },
        {
         "showlegend": false,
         "type": "bar",
         "x": [
          "Arizona",
          "Indiana",
          "Missouri",
          "Louisiana",
          "Oklahoma",
          "North Carolina",
          "Arkansas",
          "Texas",
          "Georgia",
          "Mississippi",
          "Florida",
          "Tennessee",
          "Alabama"
         ],
         "xaxis": "x4",
         "y": [
          2.1056283958513253,
          2.094610852009813,
          1.9743485677157422,
          1.8979710515295056,
          1.7847449160759978,
          1.7763422019346622,
          1.7747108046493005,
          1.6232683025571708,
          1.5885552299845709,
          1.5352448611667484,
          1.449283189278588,
          1.3211416983929045,
          1.121333700435969
         ],
         "yaxis": "y4"
        },
        {
         "showlegend": false,
         "type": "bar",
         "x": [
          "Michigan",
          "Missouri",
          "Kentucky",
          "Maryland",
          "Arkansas",
          "New Hampshire",
          "Tennessee",
          "North Dakota",
          "Connecticut",
          "Delaware",
          "Ohio",
          "West Virginia",
          "Alabama"
         ],
         "xaxis": "x4",
         "y": [
          1.2923792375207452,
          1.2863105430730692,
          1.2703741773744341,
          1.2634432154384643,
          1.2564105363787808,
          1.2502733346372643,
          1.2127137530453729,
          1.1786303419987807,
          1.1678132884636683,
          1.1342551276156183,
          1.1242510588955035,
          1.0864038953884048,
          1.0415444601314117
         ],
         "yaxis": "y4"
        }
       ],
       "layout": {
        "annotations": [
         {
          "font": {
           "size": 16
          },
          "showarrow": false,
          "text": "1st Quartile",
          "x": 0.225,
          "xanchor": "center",
          "xref": "paper",
          "y": 1,
          "yanchor": "bottom",
          "yref": "paper"
         },
         {
          "font": {
           "size": 16
          },
          "showarrow": false,
          "text": "2nd Quartile",
          "x": 0.775,
          "xanchor": "center",
          "xref": "paper",
          "y": 1,
          "yanchor": "bottom",
          "yref": "paper"
         },
         {
          "font": {
           "size": 16
          },
          "showarrow": false,
          "text": "3rd Quartile",
          "x": 0.225,
          "xanchor": "center",
          "xref": "paper",
          "y": 0.375,
          "yanchor": "bottom",
          "yref": "paper"
         },
         {
          "font": {
           "size": 16
          },
          "showarrow": false,
          "text": "4th Quartile",
          "x": 0.775,
          "xanchor": "center",
          "xref": "paper",
          "y": 0.375,
          "yanchor": "bottom",
          "yref": "paper"
         }
        ],
        "height": 800,
        "showlegend": false,
        "title": "Transportation across the states",
        "updatemenus": [
         {
          "active": -1,
          "buttons": [
           {
            "args": [
             {
              "visible": [
               true,
               false,
               false,
               false,
               false
              ]
             },
             {
              "title": "Drive"
             }
            ],
            "label": "Drive",
            "method": "update"
           },
           {
            "args": [
             {
              "visible": [
               false,
               true,
               false,
               false,
               false
              ]
             },
             {
              "title": "Carpool"
             }
            ],
            "label": "Carpool",
            "method": "update"
           },
           {
            "args": [
             {
              "visible": [
               false,
               false,
               true,
               false,
               false
              ]
             },
             {
              "title": "Transit"
             }
            ],
            "label": "Transit",
            "method": "update"
           },
           {
            "args": [
             {
              "visible": [
               false,
               false,
               false,
               true,
               false
              ]
             },
             {
              "title": "Walk"
             }
            ],
            "label": "Walk",
            "method": "update"
           },
           {
            "args": [
             {
              "visible": [
               false,
               false,
               false,
               false,
               true
              ]
             },
             {
              "title": "OtherTransp"
             }
            ],
            "label": "OtherTransp",
            "method": "update"
           }
          ],
          "x": -0.15
         }
        ],
        "width": 1000,
        "xaxis1": {
         "anchor": "y1",
         "domain": [
          0,
          0.45
         ]
        },
        "xaxis2": {
         "anchor": "y2",
         "domain": [
          0.55,
          1
         ]
        },
        "xaxis3": {
         "anchor": "y3",
         "domain": [
          0,
          0.45
         ]
        },
        "xaxis4": {
         "anchor": "y4",
         "domain": [
          0.55,
          1
         ]
        },
        "yaxis1": {
         "anchor": "x1",
         "domain": [
          0.625,
          1
         ]
        },
        "yaxis2": {
         "anchor": "x2",
         "domain": [
          0.625,
          1
         ]
        },
        "yaxis3": {
         "anchor": "x3",
         "domain": [
          0,
          0.375
         ]
        },
        "yaxis4": {
         "anchor": "x4",
         "domain": [
          0,
          0.375
         ]
        }
       }
      },
      "text/html": [
       "<div id=\"7b44370d-5752-46d1-a7e8-80d17b0a1732\" style=\"height: 800px; width: 1000px;\" class=\"plotly-graph-div\"></div><script type=\"text/javascript\">require([\"plotly\"], function(Plotly) { window.PLOTLYENV=window.PLOTLYENV || {};window.PLOTLYENV.BASE_URL=\"https://plot.ly\";Plotly.newPlot(\"7b44370d-5752-46d1-a7e8-80d17b0a1732\", [{\"type\": \"bar\", \"x\": [\"Alabama\", \"Mississippi\", \"Tennessee\", \"Ohio\", \"Indiana\", \"South Carolina\", \"Michigan\", \"Arkansas\", \"Oklahoma\", \"Kentucky\", \"Louisiana\", \"West Virginia\", \"Kansas\"], \"y\": [85.42353685448244, 84.29072073347409, 83.86016799456583, 83.4446924004773, 82.98550659991518, 82.84192906612057, 82.53959291842867, 82.46239659280212, 82.4592659802641, 82.45539211884963, 82.4385584529106, 82.37469007572567, 82.15348178197824], \"showlegend\": false, \"xaxis\": \"x1\", \"yaxis\": \"y1\"}, {\"type\": \"bar\", \"x\": [\"Hawaii\", \"Alaska\", \"Utah\", \"Wyoming\", \"Arizona\", \"California\", \"Arkansas\", \"Texas\", \"Nevada\", \"Montana\", \"Oregon\", \"Oklahoma\", \"Georgia\"], \"y\": [14.046828092745566, 12.565731719788657, 11.96823084413024, 11.21511836723428, 11.100768888190299, 10.91267200541864, 10.87056180633681, 10.841973337416944, 10.836150467584925, 10.485630319927385, 10.431787025545328, 10.42482385142035, 10.37415422857481], \"showlegend\": false, \"xaxis\": \"x1\", \"yaxis\": \"y1\"}, {\"type\": \"bar\", \"x\": [\"District of Columbia\", \"New York\", \"New Jersey\", \"Massachusetts\", \"Illinois\", \"Maryland\", \"Hawaii\", \"Pennsylvania\", \"Washington\", \"California\", \"Connecticut\", \"Virginia\", \"Oregon\"], \"y\": [37.4, 27.981358640959517, 10.938296763638435, 9.489038482244505, 9.084405396371734, 9.042499297702838, 6.391151739423836, 5.830623795390748, 5.659967641376438, 4.913541714599943, 4.877083074744617, 4.098447695972811, 4.094094535662146], \"showlegend\": false, \"xaxis\": \"x1\", \"yaxis\": \"y1\"}, {\"type\": \"bar\", \"x\": [\"District of Columbia\", \"Alaska\", \"New York\", \"Vermont\", \"Montana\", \"Massachusetts\", \"Hawaii\", \"South Dakota\", \"Oregon\", \"North Dakota\", \"Maine\", \"Pennsylvania\", \"Wyoming\"], \"y\": [12.9, 8.241294699164818, 6.292518797424351, 5.690334086600149, 4.917203623931826, 4.723897806992558, 4.48863072504496, 4.101368612056594, 4.021133911093861, 3.9881598858156417, 3.981786171093221, 3.9547310357110135, 3.7919829767854276], \"showlegend\": false, \"xaxis\": \"x1\", \"yaxis\": \"y1\"}, {\"type\": \"bar\", \"x\": [\"Alaska\", \"District of Columbia\", \"Hawaii\", \"Oregon\", \"Arizona\", \"California\", \"Montana\", \"Colorado\", \"Idaho\", \"Florida\", \"Nevada\", \"Wyoming\", \"Washington\"], \"y\": [6.143167138230782, 5.2, 3.530258358997624, 3.387261504968099, 2.724845421389693, 2.4943172675564873, 2.383224483319684, 2.3603219682259917, 2.347484855064529, 2.2355138856340186, 2.1530747835731403, 2.107282306241903, 2.0925200673856454], \"showlegend\": false, \"xaxis\": \"x1\", \"yaxis\": \"y1\"}, {\"type\": \"bar\", \"x\": [\"Puerto Rico\", \"Missouri\", \"North Carolina\", \"Nebraska\", \"Delaware\", \"New Hampshire\", \"Iowa\", \"Wisconsin\", \"Texas\", \"North Dakota\", \"Rhode Island\", \"Georgia\", \"Florida\"], \"y\": [81.79447253795838, 81.47424981572912, 81.29225892105424, 81.17436856900605, 81.13474765071985, 81.03343276436131, 80.62205716066393, 80.52717992336275, 80.24296450447639, 79.99054958150882, 79.78489808391883, 79.7692165033943, 79.62243276568617], \"showlegend\": false, \"xaxis\": \"x2\", \"yaxis\": \"y2\"}, {\"type\": \"bar\", \"x\": [\"Washington\", \"Maine\", \"New Mexico\", \"West Virginia\", \"Mississippi\", \"Idaho\", \"North Carolina\", \"Kentucky\", \"Louisiana\", \"Kansas\", \"Colorado\", \"Nebraska\", \"Florida\"], \"y\": [10.327103553894203, 10.32064524866451, 10.261481193234356, 10.128855473096325, 10.082382003700703, 10.071030845375978, 10.030754937390132, 9.874041360791365, 9.83328034163753, 9.625363162710375, 9.591715897195368, 9.562260339741034, 9.502783616749701], \"showlegend\": false, \"xaxis\": \"x2\", \"yaxis\": \"y2\"}, {\"type\": \"bar\", \"x\": [\"Nevada\", \"Minnesota\", \"Colorado\", \"Delaware\", \"Rhode Island\", \"Utah\", \"Puerto Rico\", \"Arizona\", \"Florida\", \"Georgia\", \"Wisconsin\", \"Ohio\", \"Alaska\"], \"y\": [3.611221252067078, 3.4533214028492543, 3.043118062719813, 2.972028292824036, 2.9659477763720967, 2.445079130213451, 2.202448233680977, 2.036389343576142, 2.034543198404217, 1.9810565888250984, 1.9124549360453649, 1.646181035086715, 1.5695937276291116], \"showlegend\": false, \"xaxis\": \"x2\", \"yaxis\": \"y2\"}, {\"type\": \"bar\", \"x\": [\"Rhode Island\", \"Iowa\", \"Washington\", \"Puerto Rico\", \"Wisconsin\", \"Illinois\", \"New Jersey\", \"Idaho\", \"Connecticut\", \"Colorado\", \"New Hampshire\", \"Minnesota\", \"Nebraska\"], \"y\": [3.7363235423917174, 3.4969058931458807, 3.4323320684209384, 3.381222012501559, 3.3159486649261933, 3.10977961296625, 3.066425490372021, 3.0271768776286745, 3.0153487872444282, 2.956439572896355, 2.891629593996682, 2.846846722496854, 2.8396178381428996], \"showlegend\": false, \"xaxis\": \"x2\", \"yaxis\": \"y2\"}, {\"type\": \"bar\", \"x\": [\"Louisiana\", \"New Mexico\", \"Utah\", \"New Jersey\", \"Puerto Rico\", \"New York\", \"Texas\", \"Massachusetts\", \"Wisconsin\", \"Illinois\", \"Minnesota\", \"Maine\", \"Georgia\"], \"y\": [2.052286739774019, 1.9987484387872658, 1.977197327665455, 1.8707569269305004, 1.862436461662936, 1.8604428395743358, 1.7358271272192292, 1.7191836477826097, 1.6807191319856427, 1.6602538061721037, 1.650145382015072, 1.6301828304867956, 1.5933412267169582], \"showlegend\": false, \"xaxis\": \"x2\", \"yaxis\": \"y2\"}, {\"type\": \"bar\", \"x\": [\"New Mexico\", \"South Dakota\", \"Connecticut\", \"Virginia\", \"Maine\", \"Minnesota\", \"Nevada\", \"Idaho\", \"Wyoming\", \"Arizona\", \"Pennsylvania\", \"Utah\", \"Colorado\"], \"y\": [79.61893171064771, 78.59351937285784, 78.3022187607668, 78.07897552633456, 78.03428508012942, 78.0296525797027, 78.00188298871306, 77.90126553697479, 76.84378423230788, 76.52867327077318, 76.11878830873586, 75.92484415572338, 75.44704571363839], \"showlegend\": false, \"xaxis\": \"x3\", \"yaxis\": \"y3\"}, {\"type\": \"bar\", \"x\": [\"Virginia\", \"Missouri\", \"South Dakota\", \"Vermont\", \"Maryland\", \"South Carolina\", \"Tennessee\", \"Alabama\", \"North Dakota\", \"Indiana\", \"Michigan\", \"Iowa\", \"Minnesota\"], \"y\": [9.489978211449468, 9.464620603799753, 9.447684744838057, 9.44461190799931, 9.443247121930591, 9.364050493388278, 9.267402807704764, 9.245189727198577, 9.203020203979824, 9.050048404199039, 8.934669757936186, 8.795076750607556, 8.788322605062662], \"showlegend\": false, \"xaxis\": \"x3\", \"yaxis\": \"y3\"}, {\"type\": \"bar\", \"x\": [\"Wyoming\", \"Texas\", \"Missouri\", \"Michigan\", \"Louisiana\", \"Vermont\", \"Indiana\", \"Iowa\", \"New Mexico\", \"North Carolina\", \"Kentucky\", \"New Hampshire\", \"Montana\"], \"y\": [1.556640485510084, 1.513875415649062, 1.463595088403705, 1.4398223193389554, 1.3162604294294813, 1.1513279519441304, 1.1014964425692053, 1.0914353718055059, 1.046654194558175, 1.0411520057269774, 1.0162375865662825, 0.8638883371935228, 0.8172918274286265], \"showlegend\": false, \"xaxis\": \"x3\", \"yaxis\": \"y3\"}, {\"type\": \"bar\", \"x\": [\"West Virginia\", \"California\", \"Utah\", \"Maryland\", \"Kansas\", \"Kentucky\", \"Ohio\", \"Virginia\", \"New Mexico\", \"Michigan\", \"Nevada\", \"Delaware\", \"South Carolina\"], \"y\": [2.781299218977866, 2.649466129140732, 2.569182769455865, 2.470085294116655, 2.359241192580539, 2.314162952121425, 2.3057318012984984, 2.298581661040884, 2.256598214015816, 2.2075015572334156, 2.1826628400406487, 2.1678449226836953, 2.16532865201935], \"showlegend\": false, \"xaxis\": \"x3\", \"yaxis\": \"y3\"}, {\"type\": \"bar\", \"x\": [\"Vermont\", \"South Carolina\", \"Virginia\", \"Iowa\", \"South Dakota\", \"Rhode Island\", \"Mississippi\", \"Indiana\", \"Pennsylvania\", \"Oklahoma\", \"Kansas\", \"Nebraska\", \"North Carolina\"], \"y\": [1.5871172223605337, 1.5775392793332852, 1.556761184647974, 1.528806546316404, 1.5209199587281637, 1.5142161473187297, 1.4735878311197055, 1.4698759942118957, 1.4111074177129272, 1.3802016659337155, 1.3336452946383792, 1.330409417101529, 1.3105333156328993], \"showlegend\": false, \"xaxis\": \"x3\", \"yaxis\": \"y3\"}, {\"type\": \"bar\", \"x\": [\"Vermont\", \"Montana\", \"California\", \"Maryland\", \"Illinois\", \"Washington\", \"New Jersey\", \"Oregon\", \"Massachusetts\", \"Hawaii\", \"Alaska\", \"New York\", \"District of Columbia\"], \"y\": [75.37057359991319, 75.0336949183945, 73.73619696271855, 73.58466064967462, 73.43074547523446, 73.02471696940962, 72.00355271032464, 71.81365222620747, 71.78749511228399, 66.91372773499803, 66.86735817283109, 53.215070247434404, 33.7], \"showlegend\": false, \"xaxis\": \"x4\", \"yaxis\": \"y4\"}, {\"type\": \"bar\", \"x\": [\"Pennsylvania\", \"Puerto Rico\", \"Rhode Island\", \"Illinois\", \"Wisconsin\", \"Delaware\", \"Connecticut\", \"New Jersey\", \"New Hampshire\", \"Ohio\", \"Massachusetts\", \"New York\", \"District of Columbia\"], \"y\": [8.746726479372255, 8.684692915829512, 8.534816131564137, 8.526308232691285, 8.496623126975646, 8.403599854930738, 8.227782168761072, 8.145861563249595, 7.9933828021576785, 7.966126954122315, 7.727871479092208, 6.7718710768277655, 5.7], \"showlegend\": false, \"xaxis\": \"x4\", \"yaxis\": \"y4\"}, {\"type\": \"bar\", \"x\": [\"West Virginia\", \"Tennessee\", \"Idaho\", \"Nebraska\", \"Maine\", \"South Carolina\", \"South Dakota\", \"Kansas\", \"Oklahoma\", \"North Dakota\", \"Arkansas\", \"Mississippi\", \"Alabama\"], \"y\": [0.7664221516457637, 0.7633396901201069, 0.7589676019317719, 0.722382948220385, 0.6198190504852908, 0.5957426108972417, 0.5441000249054188, 0.47575602655663496, 0.4536620851368133, 0.45249390277700796, 0.42538073725715037, 0.40785735058721645, 0.4075812835619444], \"showlegend\": false, \"xaxis\": \"x4\", \"yaxis\": \"y4\"}, {\"type\": \"bar\", \"x\": [\"Arizona\", \"Indiana\", \"Missouri\", \"Louisiana\", \"Oklahoma\", \"North Carolina\", \"Arkansas\", \"Texas\", \"Georgia\", \"Mississippi\", \"Florida\", \"Tennessee\", \"Alabama\"], \"y\": [2.1056283958513253, 2.094610852009813, 1.9743485677157422, 1.8979710515295056, 1.7847449160759978, 1.7763422019346622, 1.7747108046493005, 1.6232683025571708, 1.5885552299845709, 1.5352448611667484, 1.449283189278588, 1.3211416983929045, 1.121333700435969], \"showlegend\": false, \"xaxis\": \"x4\", \"yaxis\": \"y4\"}, {\"type\": \"bar\", \"x\": [\"Michigan\", \"Missouri\", \"Kentucky\", \"Maryland\", \"Arkansas\", \"New Hampshire\", \"Tennessee\", \"North Dakota\", \"Connecticut\", \"Delaware\", \"Ohio\", \"West Virginia\", \"Alabama\"], \"y\": [1.2923792375207452, 1.2863105430730692, 1.2703741773744341, 1.2634432154384643, 1.2564105363787808, 1.2502733346372643, 1.2127137530453729, 1.1786303419987807, 1.1678132884636683, 1.1342551276156183, 1.1242510588955035, 1.0864038953884048, 1.0415444601314117], \"showlegend\": false, \"xaxis\": \"x4\", \"yaxis\": \"y4\"}], {\"xaxis1\": {\"domain\": [0.0, 0.45], \"anchor\": \"y1\"}, \"yaxis1\": {\"domain\": [0.625, 1.0], \"anchor\": \"x1\"}, \"xaxis2\": {\"domain\": [0.55, 1.0], \"anchor\": \"y2\"}, \"yaxis2\": {\"domain\": [0.625, 1.0], \"anchor\": \"x2\"}, \"xaxis3\": {\"domain\": [0.0, 0.45], \"anchor\": \"y3\"}, \"yaxis3\": {\"domain\": [0.0, 0.375], \"anchor\": \"x3\"}, \"xaxis4\": {\"domain\": [0.55, 1.0], \"anchor\": \"y4\"}, \"yaxis4\": {\"domain\": [0.0, 0.375], \"anchor\": \"x4\"}, \"annotations\": [{\"y\": 1.0, \"xref\": \"paper\", \"x\": 0.225, \"yref\": \"paper\", \"text\": \"1st Quartile\", \"showarrow\": false, \"font\": {\"size\": 16}, \"xanchor\": \"center\", \"yanchor\": \"bottom\"}, {\"y\": 1.0, \"xref\": \"paper\", \"x\": 0.775, \"yref\": \"paper\", \"text\": \"2nd Quartile\", \"showarrow\": false, \"font\": {\"size\": 16}, \"xanchor\": \"center\", \"yanchor\": \"bottom\"}, {\"y\": 0.375, \"xref\": \"paper\", \"x\": 0.225, \"yref\": \"paper\", \"text\": \"3rd Quartile\", \"showarrow\": false, \"font\": {\"size\": 16}, \"xanchor\": \"center\", \"yanchor\": \"bottom\"}, {\"y\": 0.375, \"xref\": \"paper\", \"x\": 0.775, \"yref\": \"paper\", \"text\": \"4th Quartile\", \"showarrow\": false, \"font\": {\"size\": 16}, \"xanchor\": \"center\", \"yanchor\": \"bottom\"}], \"title\": \"Transportation across the states\", \"showlegend\": false, \"updatemenus\": [{\"active\": -1, \"x\": -0.15, \"buttons\": [{\"label\": \"Drive\", \"method\": \"update\", \"args\": [{\"visible\": [true, false, false, false, false]}, {\"title\": \"Drive\"}]}, {\"label\": \"Carpool\", \"method\": \"update\", \"args\": [{\"visible\": [false, true, false, false, false]}, {\"title\": \"Carpool\"}]}, {\"label\": \"Transit\", \"method\": \"update\", \"args\": [{\"visible\": [false, false, true, false, false]}, {\"title\": \"Transit\"}]}, {\"label\": \"Walk\", \"method\": \"update\", \"args\": [{\"visible\": [false, false, false, true, false]}, {\"title\": \"Walk\"}]}, {\"label\": \"OtherTransp\", \"method\": \"update\", \"args\": [{\"visible\": [false, false, false, false, true]}, {\"title\": \"OtherTransp\"}]}]}], \"height\": 800, \"width\": 1000}, {\"showLink\": true, \"linkText\": \"Export to plot.ly\"})});</script>"
      ],
      "text/vnd.plotly.v1+html": [
       "<div id=\"7b44370d-5752-46d1-a7e8-80d17b0a1732\" style=\"height: 800px; width: 1000px;\" class=\"plotly-graph-div\"></div><script type=\"text/javascript\">require([\"plotly\"], function(Plotly) { window.PLOTLYENV=window.PLOTLYENV || {};window.PLOTLYENV.BASE_URL=\"https://plot.ly\";Plotly.newPlot(\"7b44370d-5752-46d1-a7e8-80d17b0a1732\", [{\"type\": \"bar\", \"x\": [\"Alabama\", \"Mississippi\", \"Tennessee\", \"Ohio\", \"Indiana\", \"South Carolina\", \"Michigan\", \"Arkansas\", \"Oklahoma\", \"Kentucky\", \"Louisiana\", \"West Virginia\", \"Kansas\"], \"y\": [85.42353685448244, 84.29072073347409, 83.86016799456583, 83.4446924004773, 82.98550659991518, 82.84192906612057, 82.53959291842867, 82.46239659280212, 82.4592659802641, 82.45539211884963, 82.4385584529106, 82.37469007572567, 82.15348178197824], \"showlegend\": false, \"xaxis\": \"x1\", \"yaxis\": \"y1\"}, {\"type\": \"bar\", \"x\": [\"Hawaii\", \"Alaska\", \"Utah\", \"Wyoming\", \"Arizona\", \"California\", \"Arkansas\", \"Texas\", \"Nevada\", \"Montana\", \"Oregon\", \"Oklahoma\", \"Georgia\"], \"y\": [14.046828092745566, 12.565731719788657, 11.96823084413024, 11.21511836723428, 11.100768888190299, 10.91267200541864, 10.87056180633681, 10.841973337416944, 10.836150467584925, 10.485630319927385, 10.431787025545328, 10.42482385142035, 10.37415422857481], \"showlegend\": false, \"xaxis\": \"x1\", \"yaxis\": \"y1\"}, {\"type\": \"bar\", \"x\": [\"District of Columbia\", \"New York\", \"New Jersey\", \"Massachusetts\", \"Illinois\", \"Maryland\", \"Hawaii\", \"Pennsylvania\", \"Washington\", \"California\", \"Connecticut\", \"Virginia\", \"Oregon\"], \"y\": [37.4, 27.981358640959517, 10.938296763638435, 9.489038482244505, 9.084405396371734, 9.042499297702838, 6.391151739423836, 5.830623795390748, 5.659967641376438, 4.913541714599943, 4.877083074744617, 4.098447695972811, 4.094094535662146], \"showlegend\": false, \"xaxis\": \"x1\", \"yaxis\": \"y1\"}, {\"type\": \"bar\", \"x\": [\"District of Columbia\", \"Alaska\", \"New York\", \"Vermont\", \"Montana\", \"Massachusetts\", \"Hawaii\", \"South Dakota\", \"Oregon\", \"North Dakota\", \"Maine\", \"Pennsylvania\", \"Wyoming\"], \"y\": [12.9, 8.241294699164818, 6.292518797424351, 5.690334086600149, 4.917203623931826, 4.723897806992558, 4.48863072504496, 4.101368612056594, 4.021133911093861, 3.9881598858156417, 3.981786171093221, 3.9547310357110135, 3.7919829767854276], \"showlegend\": false, \"xaxis\": \"x1\", \"yaxis\": \"y1\"}, {\"type\": \"bar\", \"x\": [\"Alaska\", \"District of Columbia\", \"Hawaii\", \"Oregon\", \"Arizona\", \"California\", \"Montana\", \"Colorado\", \"Idaho\", \"Florida\", \"Nevada\", \"Wyoming\", \"Washington\"], \"y\": [6.143167138230782, 5.2, 3.530258358997624, 3.387261504968099, 2.724845421389693, 2.4943172675564873, 2.383224483319684, 2.3603219682259917, 2.347484855064529, 2.2355138856340186, 2.1530747835731403, 2.107282306241903, 2.0925200673856454], \"showlegend\": false, \"xaxis\": \"x1\", \"yaxis\": \"y1\"}, {\"type\": \"bar\", \"x\": [\"Puerto Rico\", \"Missouri\", \"North Carolina\", \"Nebraska\", \"Delaware\", \"New Hampshire\", \"Iowa\", \"Wisconsin\", \"Texas\", \"North Dakota\", \"Rhode Island\", \"Georgia\", \"Florida\"], \"y\": [81.79447253795838, 81.47424981572912, 81.29225892105424, 81.17436856900605, 81.13474765071985, 81.03343276436131, 80.62205716066393, 80.52717992336275, 80.24296450447639, 79.99054958150882, 79.78489808391883, 79.7692165033943, 79.62243276568617], \"showlegend\": false, \"xaxis\": \"x2\", \"yaxis\": \"y2\"}, {\"type\": \"bar\", \"x\": [\"Washington\", \"Maine\", \"New Mexico\", \"West Virginia\", \"Mississippi\", \"Idaho\", \"North Carolina\", \"Kentucky\", \"Louisiana\", \"Kansas\", \"Colorado\", \"Nebraska\", \"Florida\"], \"y\": [10.327103553894203, 10.32064524866451, 10.261481193234356, 10.128855473096325, 10.082382003700703, 10.071030845375978, 10.030754937390132, 9.874041360791365, 9.83328034163753, 9.625363162710375, 9.591715897195368, 9.562260339741034, 9.502783616749701], \"showlegend\": false, \"xaxis\": \"x2\", \"yaxis\": \"y2\"}, {\"type\": \"bar\", \"x\": [\"Nevada\", \"Minnesota\", \"Colorado\", \"Delaware\", \"Rhode Island\", \"Utah\", \"Puerto Rico\", \"Arizona\", \"Florida\", \"Georgia\", \"Wisconsin\", \"Ohio\", \"Alaska\"], \"y\": [3.611221252067078, 3.4533214028492543, 3.043118062719813, 2.972028292824036, 2.9659477763720967, 2.445079130213451, 2.202448233680977, 2.036389343576142, 2.034543198404217, 1.9810565888250984, 1.9124549360453649, 1.646181035086715, 1.5695937276291116], \"showlegend\": false, \"xaxis\": \"x2\", \"yaxis\": \"y2\"}, {\"type\": \"bar\", \"x\": [\"Rhode Island\", \"Iowa\", \"Washington\", \"Puerto Rico\", \"Wisconsin\", \"Illinois\", \"New Jersey\", \"Idaho\", \"Connecticut\", \"Colorado\", \"New Hampshire\", \"Minnesota\", \"Nebraska\"], \"y\": [3.7363235423917174, 3.4969058931458807, 3.4323320684209384, 3.381222012501559, 3.3159486649261933, 3.10977961296625, 3.066425490372021, 3.0271768776286745, 3.0153487872444282, 2.956439572896355, 2.891629593996682, 2.846846722496854, 2.8396178381428996], \"showlegend\": false, \"xaxis\": \"x2\", \"yaxis\": \"y2\"}, {\"type\": \"bar\", \"x\": [\"Louisiana\", \"New Mexico\", \"Utah\", \"New Jersey\", \"Puerto Rico\", \"New York\", \"Texas\", \"Massachusetts\", \"Wisconsin\", \"Illinois\", \"Minnesota\", \"Maine\", \"Georgia\"], \"y\": [2.052286739774019, 1.9987484387872658, 1.977197327665455, 1.8707569269305004, 1.862436461662936, 1.8604428395743358, 1.7358271272192292, 1.7191836477826097, 1.6807191319856427, 1.6602538061721037, 1.650145382015072, 1.6301828304867956, 1.5933412267169582], \"showlegend\": false, \"xaxis\": \"x2\", \"yaxis\": \"y2\"}, {\"type\": \"bar\", \"x\": [\"New Mexico\", \"South Dakota\", \"Connecticut\", \"Virginia\", \"Maine\", \"Minnesota\", \"Nevada\", \"Idaho\", \"Wyoming\", \"Arizona\", \"Pennsylvania\", \"Utah\", \"Colorado\"], \"y\": [79.61893171064771, 78.59351937285784, 78.3022187607668, 78.07897552633456, 78.03428508012942, 78.0296525797027, 78.00188298871306, 77.90126553697479, 76.84378423230788, 76.52867327077318, 76.11878830873586, 75.92484415572338, 75.44704571363839], \"showlegend\": false, \"xaxis\": \"x3\", \"yaxis\": \"y3\"}, {\"type\": \"bar\", \"x\": [\"Virginia\", \"Missouri\", \"South Dakota\", \"Vermont\", \"Maryland\", \"South Carolina\", \"Tennessee\", \"Alabama\", \"North Dakota\", \"Indiana\", \"Michigan\", \"Iowa\", \"Minnesota\"], \"y\": [9.489978211449468, 9.464620603799753, 9.447684744838057, 9.44461190799931, 9.443247121930591, 9.364050493388278, 9.267402807704764, 9.245189727198577, 9.203020203979824, 9.050048404199039, 8.934669757936186, 8.795076750607556, 8.788322605062662], \"showlegend\": false, \"xaxis\": \"x3\", \"yaxis\": \"y3\"}, {\"type\": \"bar\", \"x\": [\"Wyoming\", \"Texas\", \"Missouri\", \"Michigan\", \"Louisiana\", \"Vermont\", \"Indiana\", \"Iowa\", \"New Mexico\", \"North Carolina\", \"Kentucky\", \"New Hampshire\", \"Montana\"], \"y\": [1.556640485510084, 1.513875415649062, 1.463595088403705, 1.4398223193389554, 1.3162604294294813, 1.1513279519441304, 1.1014964425692053, 1.0914353718055059, 1.046654194558175, 1.0411520057269774, 1.0162375865662825, 0.8638883371935228, 0.8172918274286265], \"showlegend\": false, \"xaxis\": \"x3\", \"yaxis\": \"y3\"}, {\"type\": \"bar\", \"x\": [\"West Virginia\", \"California\", \"Utah\", \"Maryland\", \"Kansas\", \"Kentucky\", \"Ohio\", \"Virginia\", \"New Mexico\", \"Michigan\", \"Nevada\", \"Delaware\", \"South Carolina\"], \"y\": [2.781299218977866, 2.649466129140732, 2.569182769455865, 2.470085294116655, 2.359241192580539, 2.314162952121425, 2.3057318012984984, 2.298581661040884, 2.256598214015816, 2.2075015572334156, 2.1826628400406487, 2.1678449226836953, 2.16532865201935], \"showlegend\": false, \"xaxis\": \"x3\", \"yaxis\": \"y3\"}, {\"type\": \"bar\", \"x\": [\"Vermont\", \"South Carolina\", \"Virginia\", \"Iowa\", \"South Dakota\", \"Rhode Island\", \"Mississippi\", \"Indiana\", \"Pennsylvania\", \"Oklahoma\", \"Kansas\", \"Nebraska\", \"North Carolina\"], \"y\": [1.5871172223605337, 1.5775392793332852, 1.556761184647974, 1.528806546316404, 1.5209199587281637, 1.5142161473187297, 1.4735878311197055, 1.4698759942118957, 1.4111074177129272, 1.3802016659337155, 1.3336452946383792, 1.330409417101529, 1.3105333156328993], \"showlegend\": false, \"xaxis\": \"x3\", \"yaxis\": \"y3\"}, {\"type\": \"bar\", \"x\": [\"Vermont\", \"Montana\", \"California\", \"Maryland\", \"Illinois\", \"Washington\", \"New Jersey\", \"Oregon\", \"Massachusetts\", \"Hawaii\", \"Alaska\", \"New York\", \"District of Columbia\"], \"y\": [75.37057359991319, 75.0336949183945, 73.73619696271855, 73.58466064967462, 73.43074547523446, 73.02471696940962, 72.00355271032464, 71.81365222620747, 71.78749511228399, 66.91372773499803, 66.86735817283109, 53.215070247434404, 33.7], \"showlegend\": false, \"xaxis\": \"x4\", \"yaxis\": \"y4\"}, {\"type\": \"bar\", \"x\": [\"Pennsylvania\", \"Puerto Rico\", \"Rhode Island\", \"Illinois\", \"Wisconsin\", \"Delaware\", \"Connecticut\", \"New Jersey\", \"New Hampshire\", \"Ohio\", \"Massachusetts\", \"New York\", \"District of Columbia\"], \"y\": [8.746726479372255, 8.684692915829512, 8.534816131564137, 8.526308232691285, 8.496623126975646, 8.403599854930738, 8.227782168761072, 8.145861563249595, 7.9933828021576785, 7.966126954122315, 7.727871479092208, 6.7718710768277655, 5.7], \"showlegend\": false, \"xaxis\": \"x4\", \"yaxis\": \"y4\"}, {\"type\": \"bar\", \"x\": [\"West Virginia\", \"Tennessee\", \"Idaho\", \"Nebraska\", \"Maine\", \"South Carolina\", \"South Dakota\", \"Kansas\", \"Oklahoma\", \"North Dakota\", \"Arkansas\", \"Mississippi\", \"Alabama\"], \"y\": [0.7664221516457637, 0.7633396901201069, 0.7589676019317719, 0.722382948220385, 0.6198190504852908, 0.5957426108972417, 0.5441000249054188, 0.47575602655663496, 0.4536620851368133, 0.45249390277700796, 0.42538073725715037, 0.40785735058721645, 0.4075812835619444], \"showlegend\": false, \"xaxis\": \"x4\", \"yaxis\": \"y4\"}, {\"type\": \"bar\", \"x\": [\"Arizona\", \"Indiana\", \"Missouri\", \"Louisiana\", \"Oklahoma\", \"North Carolina\", \"Arkansas\", \"Texas\", \"Georgia\", \"Mississippi\", \"Florida\", \"Tennessee\", \"Alabama\"], \"y\": [2.1056283958513253, 2.094610852009813, 1.9743485677157422, 1.8979710515295056, 1.7847449160759978, 1.7763422019346622, 1.7747108046493005, 1.6232683025571708, 1.5885552299845709, 1.5352448611667484, 1.449283189278588, 1.3211416983929045, 1.121333700435969], \"showlegend\": false, \"xaxis\": \"x4\", \"yaxis\": \"y4\"}, {\"type\": \"bar\", \"x\": [\"Michigan\", \"Missouri\", \"Kentucky\", \"Maryland\", \"Arkansas\", \"New Hampshire\", \"Tennessee\", \"North Dakota\", \"Connecticut\", \"Delaware\", \"Ohio\", \"West Virginia\", \"Alabama\"], \"y\": [1.2923792375207452, 1.2863105430730692, 1.2703741773744341, 1.2634432154384643, 1.2564105363787808, 1.2502733346372643, 1.2127137530453729, 1.1786303419987807, 1.1678132884636683, 1.1342551276156183, 1.1242510588955035, 1.0864038953884048, 1.0415444601314117], \"showlegend\": false, \"xaxis\": \"x4\", \"yaxis\": \"y4\"}], {\"xaxis1\": {\"domain\": [0.0, 0.45], \"anchor\": \"y1\"}, \"yaxis1\": {\"domain\": [0.625, 1.0], \"anchor\": \"x1\"}, \"xaxis2\": {\"domain\": [0.55, 1.0], \"anchor\": \"y2\"}, \"yaxis2\": {\"domain\": [0.625, 1.0], \"anchor\": \"x2\"}, \"xaxis3\": {\"domain\": [0.0, 0.45], \"anchor\": \"y3\"}, \"yaxis3\": {\"domain\": [0.0, 0.375], \"anchor\": \"x3\"}, \"xaxis4\": {\"domain\": [0.55, 1.0], \"anchor\": \"y4\"}, \"yaxis4\": {\"domain\": [0.0, 0.375], \"anchor\": \"x4\"}, \"annotations\": [{\"y\": 1.0, \"xref\": \"paper\", \"x\": 0.225, \"yref\": \"paper\", \"text\": \"1st Quartile\", \"showarrow\": false, \"font\": {\"size\": 16}, \"xanchor\": \"center\", \"yanchor\": \"bottom\"}, {\"y\": 1.0, \"xref\": \"paper\", \"x\": 0.775, \"yref\": \"paper\", \"text\": \"2nd Quartile\", \"showarrow\": false, \"font\": {\"size\": 16}, \"xanchor\": \"center\", \"yanchor\": \"bottom\"}, {\"y\": 0.375, \"xref\": \"paper\", \"x\": 0.225, \"yref\": \"paper\", \"text\": \"3rd Quartile\", \"showarrow\": false, \"font\": {\"size\": 16}, \"xanchor\": \"center\", \"yanchor\": \"bottom\"}, {\"y\": 0.375, \"xref\": \"paper\", \"x\": 0.775, \"yref\": \"paper\", \"text\": \"4th Quartile\", \"showarrow\": false, \"font\": {\"size\": 16}, \"xanchor\": \"center\", \"yanchor\": \"bottom\"}], \"title\": \"Transportation across the states\", \"showlegend\": false, \"updatemenus\": [{\"active\": -1, \"x\": -0.15, \"buttons\": [{\"label\": \"Drive\", \"method\": \"update\", \"args\": [{\"visible\": [true, false, false, false, false]}, {\"title\": \"Drive\"}]}, {\"label\": \"Carpool\", \"method\": \"update\", \"args\": [{\"visible\": [false, true, false, false, false]}, {\"title\": \"Carpool\"}]}, {\"label\": \"Transit\", \"method\": \"update\", \"args\": [{\"visible\": [false, false, true, false, false]}, {\"title\": \"Transit\"}]}, {\"label\": \"Walk\", \"method\": \"update\", \"args\": [{\"visible\": [false, false, false, true, false]}, {\"title\": \"Walk\"}]}, {\"label\": \"OtherTransp\", \"method\": \"update\", \"args\": [{\"visible\": [false, false, false, false, true]}, {\"title\": \"OtherTransp\"}]}]}], \"height\": 800, \"width\": 1000}, {\"showLink\": true, \"linkText\": \"Export to plot.ly\"})});</script>"
      ]
     },
     "metadata": {},
     "output_type": "display_data"
    }
   ],
   "source": [
    "transportations = ['Drive', 'Carpool', 'Transit', 'Walk', 'OtherTransp']\n",
    "\n",
    "datas = []\n",
    "for tran in transportations:\n",
    "    county[\"trans\"] = county.TotalPop * county[tran]\n",
    "    data = county.groupby(\"State\")[\"trans\"].sum() / county.groupby(\"State\")[\"TotalPop\"].sum()\n",
    "    datas.append(data.sort_values(ascending=False))\n",
    "\n",
    "### Create individual figures\n",
    "fig = tools.make_subplots(rows=2, cols=2, subplot_titles=('1st Quartile', '2nd Quartile',\n",
    "                                                          '3rd Quartile', '4th Quartile'))\n",
    "\n",
    "for i in range(4):\n",
    "    for data in datas:\n",
    "        start_i = 13 * i\n",
    "        end_i   = start_i + 13\n",
    "        \n",
    "        trace = go.Bar(\n",
    "                        x=data.iloc[start_i: end_i].index,\n",
    "                        y=data.iloc[start_i: end_i].values, \n",
    "                        showlegend=False\n",
    "                    )\n",
    "        \n",
    "        row_num = 1 + (i // 2)\n",
    "        col_num = 1 + (i % 2)\n",
    "        fig.append_trace(trace, row_num, col_num)\n",
    "\n",
    "### Create buttons for drop down menu\n",
    "buttons = []\n",
    "for i, label in enumerate(transportations):\n",
    "    visibility = [i==j for j in range(len(transportations))]\n",
    "    button = dict(\n",
    "                 label =  label,\n",
    "                 method = 'update',\n",
    "                 args = [{'visible': visibility},\n",
    "                     {'title': label}])\n",
    "    buttons.append(button)\n",
    "\n",
    "updatemenus = list([\n",
    "    dict(active=-1,\n",
    "         x=-0.15,\n",
    "         buttons=buttons\n",
    "    )\n",
    "])\n",
    "\n",
    "fig['layout']['title'] = 'Transportation across the states'\n",
    "fig['layout']['showlegend'] = False\n",
    "fig['layout']['updatemenus'] = updatemenus\n",
    "fig['layout'].update(height=800, width=1000)\n",
    "\n",
    "iplot(fig, filename='dropdown')"
   ]
  },
  {
   "cell_type": "markdown",
   "metadata": {},
   "source": [
    "### Testing plotly - County"
   ]
  },
  {
   "cell_type": "code",
   "execution_count": 3,
   "metadata": {},
   "outputs": [
    {
     "data": {
      "application/vnd.plotly.v1+json": {
       "data": [
        {
         "showlegend": false,
         "type": "box",
         "x": [
          [
           "Texas",
           "Kenedy"
          ],
          [
           "Alabama",
           "Conecuh"
          ],
          [
           "Virginia",
           "Norton city"
          ],
          [
           "North Carolina",
           "Clay"
          ],
          [
           "Puerto Rico",
           "Hatillo"
          ],
          [
           "Virginia",
           "Covington city"
          ],
          [
           "Georgia",
           "Wheeler"
          ],
          [
           "Georgia",
           "Webster"
          ],
          [
           "Puerto Rico",
           "Lares"
          ],
          [
           "Puerto Rico",
           "Lajas"
          ]
         ],
         "y": [
          94.6,
          93.6,
          92.9,
          92.9,
          92.7,
          92.7,
          92.6,
          92.3,
          92.2,
          91.7
         ]
        },
        {
         "showlegend": false,
         "type": "box",
         "x": [
          [
           "Georgia",
           "Clay"
          ],
          [
           "Indiana",
           "LaGrange"
          ],
          [
           "Georgia",
           "Jenkins"
          ],
          [
           "Arkansas",
           "Sevier"
          ],
          [
           "Kansas",
           "Seward"
          ],
          [
           "Texas",
           "Cochran"
          ],
          [
           "Texas",
           "Jim Hogg"
          ],
          [
           "Texas",
           "Roberts"
          ],
          [
           "Ohio",
           "Holmes"
          ],
          [
           "Kentucky",
           "Powell"
          ]
         ],
         "y": [
          29.9,
          27,
          25.3,
          24.4,
          23.4,
          22.8,
          22.6,
          22.4,
          21.8,
          21.6
         ]
        },
        {
         "showlegend": false,
         "type": "box",
         "x": [
          [
           "New York",
           "Kings"
          ],
          [
           "New York",
           "Bronx"
          ],
          [
           "New York",
           "New York"
          ],
          [
           "New York",
           "Queens"
          ],
          [
           "New Jersey",
           "Hudson"
          ],
          [
           "District of Columbia",
           "District of Columbia"
          ],
          [
           "California",
           "San Francisco"
          ],
          [
           "Massachusetts",
           "Suffolk"
          ],
          [
           "New York",
           "Richmond"
          ],
          [
           "Virginia",
           "Arlington"
          ]
         ],
         "y": [
          61.7,
          59.7,
          59.2,
          52.3,
          41,
          37.4,
          33.1,
          32.5,
          29.8,
          26.4
         ]
        },
        {
         "showlegend": false,
         "type": "box",
         "x": [
          [
           "Alaska",
           "Aleutians East Borough"
          ],
          [
           "Alaska",
           "Kusilvak Census Area"
          ],
          [
           "Alaska",
           "Northwest Arctic Borough"
          ],
          [
           "Alaska",
           "Aleutians West Census Area"
          ],
          [
           "Hawaii",
           "Kalawao"
          ],
          [
           "Alaska",
           "Yukon-Koyukuk Census Area"
          ],
          [
           "Alaska",
           "North Slope Borough"
          ],
          [
           "Alaska",
           "Skagway Municipality"
          ],
          [
           "Alaska",
           "Nome Census Area"
          ],
          [
           "Alaska",
           "Lake and Peninsula Borough"
          ]
         ],
         "y": [
          71.2,
          47.6,
          46.9,
          42.5,
          40.3,
          38.1,
          37.9,
          37.8,
          36.9,
          36.2
         ]
        },
        {
         "showlegend": false,
         "type": "box",
         "x": [
          [
           "Alaska",
           "Kusilvak Census Area"
          ],
          [
           "Alaska",
           "Lake and Peninsula Borough"
          ],
          [
           "Alaska",
           "Nome Census Area"
          ],
          [
           "Alaska",
           "Bethel Census Area"
          ],
          [
           "Alaska",
           "Northwest Arctic Borough"
          ],
          [
           "Alaska",
           "Yukon-Koyukuk Census Area"
          ],
          [
           "Colorado",
           "San Juan"
          ],
          [
           "Alaska",
           "Dillingham Census Area"
          ],
          [
           "Hawaii",
           "Kalawao"
          ],
          [
           "Indiana",
           "LaGrange"
          ]
         ],
         "y": [
          39.1,
          32.4,
          22.7,
          22.6,
          21.2,
          20.1,
          19.9,
          17.7,
          14.9,
          11.5
         ]
        }
       ],
       "layout": {
        "showlegend": false,
        "title": "Counties with most popular transportation methods",
        "updatemenus": [
         {
          "active": -1,
          "buttons": [
           {
            "args": [
             {
              "visible": [
               true,
               false,
               false,
               false,
               false
              ]
             },
             {
              "title": "Top counties for Drive"
             }
            ],
            "label": "Drive",
            "method": "update"
           },
           {
            "args": [
             {
              "visible": [
               false,
               true,
               false,
               false,
               false
              ]
             },
             {
              "title": "Top counties for Carpool"
             }
            ],
            "label": "Carpool",
            "method": "update"
           },
           {
            "args": [
             {
              "visible": [
               false,
               false,
               true,
               false,
               false
              ]
             },
             {
              "title": "Top counties for Transit"
             }
            ],
            "label": "Transit",
            "method": "update"
           },
           {
            "args": [
             {
              "visible": [
               false,
               false,
               false,
               true,
               false
              ]
             },
             {
              "title": "Top counties for Walk"
             }
            ],
            "label": "Walk",
            "method": "update"
           },
           {
            "args": [
             {
              "visible": [
               false,
               false,
               false,
               false,
               true
              ]
             },
             {
              "title": "Top counties for OtherTransp"
             }
            ],
            "label": "OtherTransp",
            "method": "update"
           }
          ],
          "x": -0.15
         }
        ]
       }
      },
      "text/html": [
       "<div id=\"4c1dc2a1-fb07-4b16-b8ac-418d22ba2e69\" style=\"height: 525px; width: 100%;\" class=\"plotly-graph-div\"></div><script type=\"text/javascript\">require([\"plotly\"], function(Plotly) { window.PLOTLYENV=window.PLOTLYENV || {};window.PLOTLYENV.BASE_URL=\"https://plot.ly\";Plotly.newPlot(\"4c1dc2a1-fb07-4b16-b8ac-418d22ba2e69\", [{\"type\": \"box\", \"x\": [[\"Texas\", \"Kenedy\"], [\"Alabama\", \"Conecuh\"], [\"Virginia\", \"Norton city\"], [\"North Carolina\", \"Clay\"], [\"Puerto Rico\", \"Hatillo\"], [\"Virginia\", \"Covington city\"], [\"Georgia\", \"Wheeler\"], [\"Georgia\", \"Webster\"], [\"Puerto Rico\", \"Lares\"], [\"Puerto Rico\", \"Lajas\"]], \"y\": [94.6, 93.6, 92.9, 92.9, 92.7, 92.7, 92.6, 92.3, 92.2, 91.7], \"showlegend\": false}, {\"type\": \"box\", \"x\": [[\"Georgia\", \"Clay\"], [\"Indiana\", \"LaGrange\"], [\"Georgia\", \"Jenkins\"], [\"Arkansas\", \"Sevier\"], [\"Kansas\", \"Seward\"], [\"Texas\", \"Cochran\"], [\"Texas\", \"Jim Hogg\"], [\"Texas\", \"Roberts\"], [\"Ohio\", \"Holmes\"], [\"Kentucky\", \"Powell\"]], \"y\": [29.9, 27.0, 25.3, 24.4, 23.4, 22.8, 22.6, 22.4, 21.8, 21.6], \"showlegend\": false}, {\"type\": \"box\", \"x\": [[\"New York\", \"Kings\"], [\"New York\", \"Bronx\"], [\"New York\", \"New York\"], [\"New York\", \"Queens\"], [\"New Jersey\", \"Hudson\"], [\"District of Columbia\", \"District of Columbia\"], [\"California\", \"San Francisco\"], [\"Massachusetts\", \"Suffolk\"], [\"New York\", \"Richmond\"], [\"Virginia\", \"Arlington\"]], \"y\": [61.7, 59.7, 59.2, 52.3, 41.0, 37.4, 33.1, 32.5, 29.8, 26.4], \"showlegend\": false}, {\"type\": \"box\", \"x\": [[\"Alaska\", \"Aleutians East Borough\"], [\"Alaska\", \"Kusilvak Census Area\"], [\"Alaska\", \"Northwest Arctic Borough\"], [\"Alaska\", \"Aleutians West Census Area\"], [\"Hawaii\", \"Kalawao\"], [\"Alaska\", \"Yukon-Koyukuk Census Area\"], [\"Alaska\", \"North Slope Borough\"], [\"Alaska\", \"Skagway Municipality\"], [\"Alaska\", \"Nome Census Area\"], [\"Alaska\", \"Lake and Peninsula Borough\"]], \"y\": [71.2, 47.6, 46.9, 42.5, 40.3, 38.1, 37.9, 37.8, 36.9, 36.2], \"showlegend\": false}, {\"type\": \"box\", \"x\": [[\"Alaska\", \"Kusilvak Census Area\"], [\"Alaska\", \"Lake and Peninsula Borough\"], [\"Alaska\", \"Nome Census Area\"], [\"Alaska\", \"Bethel Census Area\"], [\"Alaska\", \"Northwest Arctic Borough\"], [\"Alaska\", \"Yukon-Koyukuk Census Area\"], [\"Colorado\", \"San Juan\"], [\"Alaska\", \"Dillingham Census Area\"], [\"Hawaii\", \"Kalawao\"], [\"Indiana\", \"LaGrange\"]], \"y\": [39.1, 32.4, 22.7, 22.6, 21.2, 20.1, 19.9, 17.7, 14.9, 11.5], \"showlegend\": false}], {\"title\": \"Counties with most popular transportation methods\", \"showlegend\": false, \"updatemenus\": [{\"active\": -1, \"x\": -0.15, \"buttons\": [{\"label\": \"Drive\", \"method\": \"update\", \"args\": [{\"visible\": [true, false, false, false, false]}, {\"title\": \"Top counties for Drive\"}]}, {\"label\": \"Carpool\", \"method\": \"update\", \"args\": [{\"visible\": [false, true, false, false, false]}, {\"title\": \"Top counties for Carpool\"}]}, {\"label\": \"Transit\", \"method\": \"update\", \"args\": [{\"visible\": [false, false, true, false, false]}, {\"title\": \"Top counties for Transit\"}]}, {\"label\": \"Walk\", \"method\": \"update\", \"args\": [{\"visible\": [false, false, false, true, false]}, {\"title\": \"Top counties for Walk\"}]}, {\"label\": \"OtherTransp\", \"method\": \"update\", \"args\": [{\"visible\": [false, false, false, false, true]}, {\"title\": \"Top counties for OtherTransp\"}]}]}]}, {\"showLink\": true, \"linkText\": \"Export to plot.ly\"})});</script>"
      ],
      "text/vnd.plotly.v1+html": [
       "<div id=\"4c1dc2a1-fb07-4b16-b8ac-418d22ba2e69\" style=\"height: 525px; width: 100%;\" class=\"plotly-graph-div\"></div><script type=\"text/javascript\">require([\"plotly\"], function(Plotly) { window.PLOTLYENV=window.PLOTLYENV || {};window.PLOTLYENV.BASE_URL=\"https://plot.ly\";Plotly.newPlot(\"4c1dc2a1-fb07-4b16-b8ac-418d22ba2e69\", [{\"type\": \"box\", \"x\": [[\"Texas\", \"Kenedy\"], [\"Alabama\", \"Conecuh\"], [\"Virginia\", \"Norton city\"], [\"North Carolina\", \"Clay\"], [\"Puerto Rico\", \"Hatillo\"], [\"Virginia\", \"Covington city\"], [\"Georgia\", \"Wheeler\"], [\"Georgia\", \"Webster\"], [\"Puerto Rico\", \"Lares\"], [\"Puerto Rico\", \"Lajas\"]], \"y\": [94.6, 93.6, 92.9, 92.9, 92.7, 92.7, 92.6, 92.3, 92.2, 91.7], \"showlegend\": false}, {\"type\": \"box\", \"x\": [[\"Georgia\", \"Clay\"], [\"Indiana\", \"LaGrange\"], [\"Georgia\", \"Jenkins\"], [\"Arkansas\", \"Sevier\"], [\"Kansas\", \"Seward\"], [\"Texas\", \"Cochran\"], [\"Texas\", \"Jim Hogg\"], [\"Texas\", \"Roberts\"], [\"Ohio\", \"Holmes\"], [\"Kentucky\", \"Powell\"]], \"y\": [29.9, 27.0, 25.3, 24.4, 23.4, 22.8, 22.6, 22.4, 21.8, 21.6], \"showlegend\": false}, {\"type\": \"box\", \"x\": [[\"New York\", \"Kings\"], [\"New York\", \"Bronx\"], [\"New York\", \"New York\"], [\"New York\", \"Queens\"], [\"New Jersey\", \"Hudson\"], [\"District of Columbia\", \"District of Columbia\"], [\"California\", \"San Francisco\"], [\"Massachusetts\", \"Suffolk\"], [\"New York\", \"Richmond\"], [\"Virginia\", \"Arlington\"]], \"y\": [61.7, 59.7, 59.2, 52.3, 41.0, 37.4, 33.1, 32.5, 29.8, 26.4], \"showlegend\": false}, {\"type\": \"box\", \"x\": [[\"Alaska\", \"Aleutians East Borough\"], [\"Alaska\", \"Kusilvak Census Area\"], [\"Alaska\", \"Northwest Arctic Borough\"], [\"Alaska\", \"Aleutians West Census Area\"], [\"Hawaii\", \"Kalawao\"], [\"Alaska\", \"Yukon-Koyukuk Census Area\"], [\"Alaska\", \"North Slope Borough\"], [\"Alaska\", \"Skagway Municipality\"], [\"Alaska\", \"Nome Census Area\"], [\"Alaska\", \"Lake and Peninsula Borough\"]], \"y\": [71.2, 47.6, 46.9, 42.5, 40.3, 38.1, 37.9, 37.8, 36.9, 36.2], \"showlegend\": false}, {\"type\": \"box\", \"x\": [[\"Alaska\", \"Kusilvak Census Area\"], [\"Alaska\", \"Lake and Peninsula Borough\"], [\"Alaska\", \"Nome Census Area\"], [\"Alaska\", \"Bethel Census Area\"], [\"Alaska\", \"Northwest Arctic Borough\"], [\"Alaska\", \"Yukon-Koyukuk Census Area\"], [\"Colorado\", \"San Juan\"], [\"Alaska\", \"Dillingham Census Area\"], [\"Hawaii\", \"Kalawao\"], [\"Indiana\", \"LaGrange\"]], \"y\": [39.1, 32.4, 22.7, 22.6, 21.2, 20.1, 19.9, 17.7, 14.9, 11.5], \"showlegend\": false}], {\"title\": \"Counties with most popular transportation methods\", \"showlegend\": false, \"updatemenus\": [{\"active\": -1, \"x\": -0.15, \"buttons\": [{\"label\": \"Drive\", \"method\": \"update\", \"args\": [{\"visible\": [true, false, false, false, false]}, {\"title\": \"Top counties for Drive\"}]}, {\"label\": \"Carpool\", \"method\": \"update\", \"args\": [{\"visible\": [false, true, false, false, false]}, {\"title\": \"Top counties for Carpool\"}]}, {\"label\": \"Transit\", \"method\": \"update\", \"args\": [{\"visible\": [false, false, true, false, false]}, {\"title\": \"Top counties for Transit\"}]}, {\"label\": \"Walk\", \"method\": \"update\", \"args\": [{\"visible\": [false, false, false, true, false]}, {\"title\": \"Top counties for Walk\"}]}, {\"label\": \"OtherTransp\", \"method\": \"update\", \"args\": [{\"visible\": [false, false, false, false, true]}, {\"title\": \"Top counties for OtherTransp\"}]}]}]}, {\"showLink\": true, \"linkText\": \"Export to plot.ly\"})});</script>"
      ]
     },
     "metadata": {},
     "output_type": "display_data"
    }
   ],
   "source": [
    "transportations = ['Drive', 'Carpool', 'Transit', 'Walk', 'OtherTransp']\n",
    "\n",
    "datas = []\n",
    "for tran in transportations:\n",
    "    datas.append(county.groupby([\"State\", \"County\"])[tran].median().sort_values(ascending=False).head(10))\n",
    "\n",
    "traces = []\n",
    "\n",
    "for data in datas:\n",
    "    traces.append(go.Box(\n",
    "                            x=data.index,\n",
    "                            y=data.values, \n",
    "                            showlegend=False\n",
    "                        ))\n",
    "buttons = []\n",
    "\n",
    "for i, tran in enumerate(transportations):\n",
    "    visibility = [i==j for j in range(len(transportations))]\n",
    "    button = dict(\n",
    "                 label =  tran,\n",
    "                 method = 'update',\n",
    "                 args = [{'visible': visibility},\n",
    "                     {'title': 'Top counties for {}'.format(tran)}])\n",
    "    buttons.append(button)\n",
    "\n",
    "updatemenus = list([\n",
    "    dict(active=-1,\n",
    "         x=-0.15,\n",
    "         buttons=buttons\n",
    "    )\n",
    "])\n",
    "\n",
    "layout = dict(title='Counties with most popular transportation methods', \n",
    "              showlegend=False,\n",
    "              updatemenus=updatemenus)\n",
    "\n",
    "fig = dict(data=traces, layout=layout)\n",
    "\n",
    "iplot(fig, filename='dropdown')"
   ]
  },
  {
   "cell_type": "code",
   "execution_count": null,
   "metadata": {
    "collapsed": true
   },
   "outputs": [],
   "source": []
  }
 ],
 "metadata": {
  "kernelspec": {
   "display_name": "Python 3",
   "language": "python",
   "name": "python3"
  },
  "language_info": {
   "codemirror_mode": {
    "name": "ipython",
    "version": 3
   },
   "file_extension": ".py",
   "mimetype": "text/x-python",
   "name": "python",
   "nbconvert_exporter": "python",
   "pygments_lexer": "ipython3",
   "version": "3.6.3"
  }
 },
 "nbformat": 4,
 "nbformat_minor": 2
}
