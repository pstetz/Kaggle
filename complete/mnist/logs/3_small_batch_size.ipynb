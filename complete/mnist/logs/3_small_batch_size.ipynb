{
 "cells": [
  {
   "cell_type": "markdown",
   "metadata": {},
   "source": [
    "# Score: 99.142%\n",
    "\n",
    "### Imports"
   ]
  },
  {
   "cell_type": "code",
   "execution_count": 1,
   "metadata": {
    "collapsed": true
   },
   "outputs": [],
   "source": [
    "import pandas as pd\n",
    "import numpy as np\n",
    "\n",
    "import warnings\n",
    "warnings.filterwarnings('ignore')"
   ]
  },
  {
   "cell_type": "markdown",
   "metadata": {},
   "source": [
    "### Data"
   ]
  },
  {
   "cell_type": "code",
   "execution_count": null,
   "metadata": {
    "collapsed": true
   },
   "outputs": [],
   "source": [
    "train = pd.read_csv(\"/Users/pbezuhov/git/Kaggle/data/mnist/train.csv\")\n",
    "test = pd.read_csv(\"/Users/pbezuhov/git/Kaggle/data/mnist/test.csv\")"
   ]
  },
  {
   "cell_type": "markdown",
   "metadata": {},
   "source": [
    "### Processing the data"
   ]
  },
  {
   "cell_type": "code",
   "execution_count": 2,
   "metadata": {},
   "outputs": [
    {
     "name": "stderr",
     "output_type": "stream",
     "text": [
      "Using TensorFlow backend.\n"
     ]
    }
   ],
   "source": [
    "from keras.utils.np_utils import to_categorical\n",
    "from sklearn.model_selection import train_test_split\n",
    "\n",
    "train_y = train['label']\n",
    "train_x = train.drop(['label'], axis=1)\n",
    "\n",
    "# Reshape\n",
    "train_x = train_x.values.reshape(-1,28,28,1)\n",
    "test = test.values.reshape(-1,28,28,1)\n",
    "\n",
    "# Normalize\n",
    "train_x = train_x / 255.0\n",
    "test = test / 255.0\n",
    "\n",
    "train_y = to_categorical(train_y, num_classes = 10)\n",
    "\n",
    "train_x, val_x, train_y, val_y = train_test_split(train_x, train_y, test_size = 0.2)"
   ]
  },
  {
   "cell_type": "markdown",
   "metadata": {},
   "source": [
    "### Creating the model"
   ]
  },
  {
   "cell_type": "code",
   "execution_count": null,
   "metadata": {
    "collapsed": true
   },
   "outputs": [],
   "source": [
    "import tensorflow\n",
    "from keras.models import Sequential\n",
    "from keras.layers import Dense, Conv2D, Dropout, MaxPool2D, Flatten\n",
    "\n",
    "model = Sequential()\n",
    "\n",
    "model.add(Conv2D(filters = 32, kernel_size = (5,5), \n",
    "                 activation ='relu', input_shape = (28,28,1)))\n",
    "model.add(Conv2D(filters = 32, kernel_size = (5,5),\n",
    "                 activation ='relu'))\n",
    "model.add(MaxPool2D(pool_size=(2,2)))\n",
    "model.add(Dropout(0.4))\n",
    "\n",
    "model.add(Conv2D(filters = 64, kernel_size = (3,3),\n",
    "                 activation ='relu'))\n",
    "model.add(Conv2D(filters = 64, kernel_size = (3,3),\n",
    "                 activation ='relu'))\n",
    "model.add(Conv2D(filters = 64, kernel_size = (3,3),\n",
    "                 activation ='relu'))\n",
    "model.add(MaxPool2D(pool_size=(2,2), strides=(2,2)))\n",
    "model.add(Dropout(0.4))\n",
    "\n",
    "\n",
    "model.add(Flatten())\n",
    "model.add(Dense(256, activation = \"relu\"))\n",
    "model.add(Dropout(0.5))\n",
    "model.add(Dense(10, activation = \"softmax\"))\n",
    "\n",
    "# Compile the model\n",
    "model.compile(optimizer=\"adam\", loss = \"categorical_crossentropy\", metrics=[\"accuracy\"])"
   ]
  },
  {
   "cell_type": "markdown",
   "metadata": {},
   "source": [
    "### Generating more images"
   ]
  },
  {
   "cell_type": "code",
   "execution_count": 4,
   "metadata": {
    "collapsed": true
   },
   "outputs": [],
   "source": [
    "from keras.preprocessing.image import ImageDataGenerator\n",
    "\n",
    "data_generator = ImageDataGenerator(\n",
    "        rotation_range=10,  # randomly rotate images in the range (degrees, 0 to 180)\n",
    "        zoom_range = 0.1, # Randomly zoom image \n",
    "        width_shift_range=0.1,  # randomly shift images horizontally (fraction of total width)\n",
    "        height_shift_range=0.1  # randomly shift images vertically (fraction of total height)\n",
    ")\n",
    "\n",
    "\n",
    "data_generator.fit(train_x)"
   ]
  },
  {
   "cell_type": "markdown",
   "metadata": {},
   "source": [
    "# Fitting the model to the data\n",
    "\n",
    "### Low batch size"
   ]
  },
  {
   "cell_type": "code",
   "execution_count": 7,
   "metadata": {},
   "outputs": [
    {
     "name": "stdout",
     "output_type": "stream",
     "text": [
      "Epoch 1/10\n",
      "1120/1120 [==============================] - 183s 163ms/step - loss: 0.1877 - acc: 0.9471 - val_loss: 0.0531 - val_acc: 0.9861\n",
      "Epoch 2/10\n",
      "1120/1120 [==============================] - 208s 186ms/step - loss: 0.1367 - acc: 0.9624 - val_loss: 0.0488 - val_acc: 0.9870\n",
      "Epoch 3/10\n",
      "1120/1120 [==============================] - 234s 209ms/step - loss: 0.1201 - acc: 0.9680 - val_loss: 0.0441 - val_acc: 0.9888\n",
      "Epoch 4/10\n",
      "1120/1120 [==============================] - 188s 168ms/step - loss: 0.1100 - acc: 0.9709 - val_loss: 0.0449 - val_acc: 0.9887\n",
      "Epoch 5/10\n",
      "1120/1120 [==============================] - 201s 180ms/step - loss: 0.0938 - acc: 0.9749 - val_loss: 0.0389 - val_acc: 0.9898\n",
      "Epoch 6/10\n",
      "1120/1120 [==============================] - 190s 170ms/step - loss: 0.0923 - acc: 0.9755 - val_loss: 0.0363 - val_acc: 0.9917\n",
      "Epoch 7/10\n",
      "1120/1120 [==============================] - 202s 180ms/step - loss: 0.0845 - acc: 0.9776 - val_loss: 0.0309 - val_acc: 0.9926\n",
      "Epoch 8/10\n",
      "1120/1120 [==============================] - 186s 166ms/step - loss: 0.0791 - acc: 0.9797 - val_loss: 0.0304 - val_acc: 0.9917\n",
      "Epoch 9/10\n",
      "1120/1120 [==============================] - 201s 180ms/step - loss: 0.0779 - acc: 0.9794 - val_loss: 0.0365 - val_acc: 0.9907\n",
      "Epoch 10/10\n",
      "1120/1120 [==============================] - 201s 179ms/step - loss: 0.0712 - acc: 0.9806 - val_loss: 0.0289 - val_acc: 0.9921\n"
     ]
    }
   ],
   "source": [
    "epochs = 10\n",
    "batch_size = 30\n",
    "\n",
    "history = model.fit_generator(data_generator.flow(train_x, train_y, batch_size=batch_size),\n",
    "                              epochs = epochs, validation_data = (val_x, val_y))"
   ]
  },
  {
   "cell_type": "markdown",
   "metadata": {},
   "source": [
    "# Predictions"
   ]
  },
  {
   "cell_type": "code",
   "execution_count": 11,
   "metadata": {
    "collapsed": true
   },
   "outputs": [],
   "source": [
    "predictions = model.predict(test)\n",
    "\n",
    "submission = pd.DataFrame({\n",
    "                \"ImageId\": range(1,28001),\n",
    "                \"Label\": np.argmax(predictions, axis = 1)\n",
    "                })"
   ]
  },
  {
   "cell_type": "markdown",
   "metadata": {},
   "source": [
    "# Saving the predictions"
   ]
  },
  {
   "cell_type": "code",
   "execution_count": 10,
   "metadata": {},
   "outputs": [],
   "source": [
    "submission.to_csv(\"/Users/pbezuhov/git/Kaggle/submissions/3_small_batch_size.csv\", index=False)"
   ]
  },
  {
   "cell_type": "code",
   "execution_count": null,
   "metadata": {
    "collapsed": true
   },
   "outputs": [],
   "source": []
  }
 ],
 "metadata": {
  "kernelspec": {
   "display_name": "Python 3",
   "language": "python",
   "name": "python3"
  },
  "language_info": {
   "codemirror_mode": {
    "name": "ipython",
    "version": 3
   },
   "file_extension": ".py",
   "mimetype": "text/x-python",
   "name": "python",
   "nbconvert_exporter": "python",
   "pygments_lexer": "ipython3",
   "version": "3.6.3"
  }
 },
 "nbformat": 4,
 "nbformat_minor": 2
}
