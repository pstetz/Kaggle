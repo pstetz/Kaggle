{
 "cells": [
  {
   "cell_type": "code",
   "execution_count": 2,
   "metadata": {},
   "outputs": [],
   "source": [
    "import pandas as pd\n",
    "\n",
    "DATA_PATH = \"/Users/pbezuhov/Desktop/\"\n",
    "\n",
    "preds_1 = pd.read_csv(DATA_PATH + \"stack_xgb_lgb.csv\")\n",
    "preds_2 = pd.read_csv(DATA_PATH + \"lgb_0.788.csv\")"
   ]
  },
  {
   "cell_type": "code",
   "execution_count": 3,
   "metadata": {
    "collapsed": true
   },
   "outputs": [],
   "source": [
    "predictions = pd.DataFrame({\n",
    "    \"TARGET\": preds_1.sort_values(\"SK_ID_CURR\").TARGET * 0.75 + preds_2.sort_values(\"SK_ID_CURR\").TARGET * 0.25,\n",
    "    \"SK_ID_CURR\": preds_1.sort_values(\"SK_ID_CURR\").SK_ID_CURR\n",
    "})"
   ]
  },
  {
   "cell_type": "code",
   "execution_count": 4,
   "metadata": {
    "collapsed": true
   },
   "outputs": [],
   "source": [
    "predictions.to_csv(DATA_PATH + \"stack_r-xgb_r-lgb_py-lgb.csv\", index=False)"
   ]
  },
  {
   "cell_type": "code",
   "execution_count": null,
   "metadata": {
    "collapsed": true
   },
   "outputs": [],
   "source": []
  }
 ],
 "metadata": {
  "kernelspec": {
   "display_name": "Python 3",
   "language": "python",
   "name": "python3"
  },
  "language_info": {
   "codemirror_mode": {
    "name": "ipython",
    "version": 3
   },
   "file_extension": ".py",
   "mimetype": "text/x-python",
   "name": "python",
   "nbconvert_exporter": "python",
   "pygments_lexer": "ipython3",
   "version": "3.6.3"
  }
 },
 "nbformat": 4,
 "nbformat_minor": 2
}
