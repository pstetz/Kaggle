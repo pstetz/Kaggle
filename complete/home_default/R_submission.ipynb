{
 "cells": [
  {
   "cell_type": "markdown",
   "metadata": {},
   "source": [
    "### Setup"
   ]
  },
  {
   "cell_type": "code",
   "execution_count": 3,
   "metadata": {},
   "outputs": [
    {
     "name": "stderr",
     "output_type": "stream",
     "text": [
      "also installing the dependencies ‘colorspace’, ‘ps’, ‘highr’, ‘markdown’, ‘xfun’, ‘labeling’, ‘munsell’, ‘RColorBrewer’, ‘rematch’, ‘processx’, ‘knitr’, ‘yaml’, ‘rprojroot’, ‘tinytex’, ‘backports’, ‘reshape2’, ‘gtable’, ‘lazyeval’, ‘plyr’, ‘scales’, ‘viridisLite’, ‘cellranger’, ‘callr’, ‘clipr’, ‘rmarkdown’, ‘selectr’, ‘broom’, ‘dbplyr’, ‘forcats’, ‘ggplot2’, ‘haven’, ‘hms’, ‘lubridate’, ‘modelr’, ‘readr’, ‘readxl’, ‘reprex’, ‘rvest’, ‘tidyr’, ‘xml2’\n",
      "\n"
     ]
    },
    {
     "name": "stdout",
     "output_type": "stream",
     "text": [
      "\n",
      "The downloaded binary packages are in\n",
      "\t/var/folders/nx/hl3w7nhd2q91t0mbfp248wbh0000gn/T//RtmpCr1yk8/downloaded_packages\n"
     ]
    }
   ],
   "source": [
    "install.packages(\"tidyverse\")"
   ]
  },
  {
   "cell_type": "code",
   "execution_count": 9,
   "metadata": {},
   "outputs": [
    {
     "name": "stdout",
     "output_type": "stream",
     "text": [
      "\n",
      "The downloaded binary packages are in\n",
      "\t/var/folders/nx/hl3w7nhd2q91t0mbfp248wbh0000gn/T//RtmpCr1yk8/downloaded_packages\n"
     ]
    },
    {
     "name": "stderr",
     "output_type": "stream",
     "text": [
      "Downloading GitHub repo andreacirilloac/updateR@master\n",
      "from URL https://api.github.com/repos/andreacirilloac/updateR/zipball/master\n",
      "Installing updateR\n",
      "Installing pacman\n",
      "'/Library/Frameworks/R.framework/Resources/bin/R' --no-site-file --no-environ  \\\n",
      "  --no-save --no-restore --quiet CMD INSTALL  \\\n",
      "  '/private/var/folders/nx/hl3w7nhd2q91t0mbfp248wbh0000gn/T/RtmpCr1yk8/devtools97996f8f98d4/pacman'  \\\n",
      "  --library='/Library/Frameworks/R.framework/Versions/3.5/Resources/library'  \\\n",
      "  --install-tests \n",
      "\n",
      "'/Library/Frameworks/R.framework/Resources/bin/R' --no-site-file --no-environ  \\\n",
      "  --no-save --no-restore --quiet CMD INSTALL  \\\n",
      "  '/private/var/folders/nx/hl3w7nhd2q91t0mbfp248wbh0000gn/T/RtmpCr1yk8/devtools979931215273/AndreaCirilloAC-updateR-589e40d'  \\\n",
      "  --library='/Library/Frameworks/R.framework/Versions/3.5/Resources/library'  \\\n",
      "  --install-tests \n",
      "\n",
      "Loading required package: rvest\n",
      "Loading required package: xml2\n",
      "\n",
      "Attaching package: ‘rvest’\n",
      "\n",
      "The following object is masked from ‘package:purrr’:\n",
      "\n",
      "    pluck\n",
      "\n",
      "The following object is masked from ‘package:readr’:\n",
      "\n",
      "    guess_encoding\n",
      "\n",
      "Loading required package: pacman\n",
      "Loading required package: assertthat\n",
      "\n",
      "Attaching package: ‘assertthat’\n",
      "\n",
      "The following object is masked from ‘package:tibble’:\n",
      "\n",
      "    has_name\n",
      "\n",
      "Loading required package: magrittr\n",
      "\n",
      "Attaching package: ‘magrittr’\n",
      "\n",
      "The following object is masked from ‘package:purrr’:\n",
      "\n",
      "    set_names\n",
      "\n",
      "The following object is masked from ‘package:tidyr’:\n",
      "\n",
      "    extract\n",
      "\n",
      "Installing R-3.5.1...please wait\n"
     ]
    },
    {
     "name": "stdout",
     "output_type": "stream",
     "text": [
      "Loading objects:\n",
      "  needed_packages\n"
     ]
    },
    {
     "name": "stderr",
     "output_type": "stream",
     "text": [
      "list of packages loaded\n",
      "Warning message:\n",
      "“packages ‘base’, ‘compiler’, ‘datasets’, ‘graphics’, ‘grDevices’, ‘grid’, ‘IRkernel’, ‘methods’, ‘parallel’, ‘splines’, ‘stats’, ‘stats4’, ‘tcltk’, ‘tools’, ‘updateR’, ‘utils’ are not available (for R version 3.5.0)”Warning message:\n",
      "“packages ‘base’, ‘compiler’, ‘datasets’, ‘graphics’, ‘grDevices’, ‘grid’, ‘methods’, ‘parallel’, ‘splines’, ‘stats’, ‘stats4’, ‘tcltk’, ‘tools’, ‘utils’ are base packages, and should not be updated”"
     ]
    },
    {
     "name": "stdout",
     "output_type": "stream",
     "text": [
      "\n",
      "The downloaded binary packages are in\n",
      "\t/var/folders/nx/hl3w7nhd2q91t0mbfp248wbh0000gn/T//RtmpCr1yk8/downloaded_packages\n"
     ]
    },
    {
     "name": "stderr",
     "output_type": "stream",
     "text": [
      "Everything went smoothly, R was updated to WARNING: ignoring environment value of R_HOME\n",
      "Also the packages installed on your previous version of R were restored\n"
     ]
    }
   ],
   "source": [
    "install.packages('devtools') #assuming it is not already installed\n",
    "library(devtools)\n",
    "install_github('andreacirilloac/updateR')\n",
    "library(updateR)\n",
    "updateR(admin_password = 'FischerKhanJim')"
   ]
  },
  {
   "cell_type": "code",
   "execution_count": 11,
   "metadata": {},
   "outputs": [
    {
     "ename": "ERROR",
     "evalue": "Error in setRepositories(): cannot set repositories non-interactively\n",
     "output_type": "error",
     "traceback": [
      "Error in setRepositories(): cannot set repositories non-interactively\nTraceback:\n",
      "1. setRepositories()",
      "2. stop(\"cannot set repositories non-interactively\")"
     ]
    }
   ],
   "source": [
    "setRepositories()"
   ]
  },
  {
   "cell_type": "code",
   "execution_count": 10,
   "metadata": {},
   "outputs": [
    {
     "name": "stderr",
     "output_type": "stream",
     "text": [
      "Warning message:\n",
      "“package ‘lightgbm’ is not available (for R version 3.5.0)”"
     ]
    },
    {
     "name": "stdout",
     "output_type": "stream",
     "text": [
      "\n",
      "The downloaded binary packages are in\n",
      "\t/var/folders/nx/hl3w7nhd2q91t0mbfp248wbh0000gn/T//RtmpCr1yk8/downloaded_packages\n"
     ]
    }
   ],
   "source": [
    "# install.packages(\"xgboost\")\n",
    "\n",
    "install.packages(\"lightgbm\")\n",
    "install.packages(\"magrittr\")"
   ]
  },
  {
   "cell_type": "code",
   "execution_count": 5,
   "metadata": {},
   "outputs": [
    {
     "name": "stderr",
     "output_type": "stream",
     "text": [
      "── Attaching packages ─────────────────────────────────────── tidyverse 1.2.1 ──\n",
      "✔ ggplot2 3.0.0     ✔ purrr   0.2.5\n",
      "✔ tibble  1.4.2     ✔ dplyr   0.7.6\n",
      "✔ tidyr   0.8.1     ✔ stringr 1.3.1\n",
      "✔ readr   1.1.1     ✔ forcats 0.3.0\n",
      "Warning message:\n",
      "“package ‘dplyr’ was built under R version 3.5.1”── Conflicts ────────────────────────────────────────── tidyverse_conflicts() ──\n",
      "✖ dplyr::filter() masks stats::filter()\n",
      "✖ dplyr::lag()    masks stats::lag()\n",
      "\n",
      "Attaching package: ‘xgboost’\n",
      "\n",
      "The following object is masked from ‘package:dplyr’:\n",
      "\n",
      "    slice\n",
      "\n"
     ]
    },
    {
     "ename": "ERROR",
     "evalue": "Error in library(lightgbm): there is no package called ‘lightgbm’\n",
     "output_type": "error",
     "traceback": [
      "Error in library(lightgbm): there is no package called ‘lightgbm’\nTraceback:\n",
      "1. library(lightgbm)",
      "2. stop(txt, domain = NA)"
     ]
    }
   ],
   "source": [
    "library(tidyverse)\n",
    "library(xgboost)\n",
    "library(lightgbm)\n",
    "library(magrittr)\n",
    "set.seed(0)\n",
    "\n",
    "DATA_PATH = \"../data/home_default/\""
   ]
  },
  {
   "cell_type": "markdown",
   "metadata": {},
   "source": [
    "### Load data"
   ]
  },
  {
   "cell_type": "code",
   "execution_count": 2,
   "metadata": {},
   "outputs": [
    {
     "ename": "ERROR",
     "evalue": "Error in read_csv(DATA_PATH + \"bureau_balance.csv\"): could not find function \"read_csv\"\n",
     "output_type": "error",
     "traceback": [
      "Error in read_csv(DATA_PATH + \"bureau_balance.csv\"): could not find function \"read_csv\"\nTraceback:\n"
     ]
    }
   ],
   "source": [
    "bbalance = read_csv(DATA_PATH + \"bureau_balance.csv\") \n",
    "bureau   = read_csv(DATA_PATH + \"bureau.csv\")\n",
    "credit   = read_csv(DATA_PATH + \"credit_card_balance.csv\")\n",
    "install  = read_csv(DATA_PATH + \"installments_payments.csv\") \n",
    "pcb      = read_csv(DATA_PATH + \"POS_CASH_balance.csv\")\n",
    "prev_app = read_csv(DATA_PATH + \"previous_application.csv\")\n",
    "train    = read_csv(DATA_PATH + \"train.csv\") \n",
    "test     = read_csv(DATA_PATH + \"test.csv\")\n",
    "\n",
    "summary  = funs(mean, sd, min, max, sum, n_distinct, .args = list(na.rm = TRUE))"
   ]
  },
  {
   "cell_type": "markdown",
   "metadata": {},
   "source": [
    "### Bureau Balance"
   ]
  },
  {
   "cell_type": "code",
   "execution_count": null,
   "metadata": {
    "collapsed": true
   },
   "outputs": [],
   "source": [
    "bbalance_prepped = bbalance %>%\n",
    "  mutate_if(is.character, funs(factor(.) %>% as.integer)) %>% \n",
    "  group_by(SK_ID_BUREAU) %>% \n",
    "  summarise_all(summary) \n",
    "\n",
    "rm(bbalance); gc()"
   ]
  },
  {
   "cell_type": "markdown",
   "metadata": {},
   "source": [
    "### Bureau"
   ]
  },
  {
   "cell_type": "code",
   "execution_count": null,
   "metadata": {
    "collapsed": true
   },
   "outputs": [],
   "source": [
    "bureau_prepped = bureau %>% \n",
    "  left_join(bbalance_prepped, by = \"SK_ID_BUREAU\") %>% \n",
    "  select(-SK_ID_BUREAU) %>% \n",
    "  mutate_if(is.character, funs(factor(.) %>% as.integer)) %>% \n",
    "  group_by(SK_ID_CURR) %>% \n",
    "  summarise_all(summary)\n",
    "\n",
    "rm(bureau, bbalance_prepped); gc()"
   ]
  },
  {
   "cell_type": "markdown",
   "metadata": {},
   "source": [
    "### Credit Card Balance"
   ]
  },
  {
   "cell_type": "code",
   "execution_count": null,
   "metadata": {
    "collapsed": true
   },
   "outputs": [],
   "source": [
    "credit_prepped = credit %>% \n",
    "  select(-SK_ID_PREV) %>% \n",
    "  mutate_if(is.character, funs(factor(.) %>% as.integer)) %>% \n",
    "  group_by(SK_ID_CURR) %>% \n",
    "  summarise_all(summary)\n",
    "\n",
    "rm(credit); gc()"
   ]
  },
  {
   "cell_type": "markdown",
   "metadata": {},
   "source": [
    "### Installment Payments"
   ]
  },
  {
   "cell_type": "code",
   "execution_count": null,
   "metadata": {
    "collapsed": true
   },
   "outputs": [],
   "source": [
    "install_prepped = install %>% \n",
    "  select(-SK_ID_PREV) %>% \n",
    "  mutate(PAYMENT_PERC = AMT_PAYMENT / AMT_INSTALMENT,\n",
    "         PAYMENT_DIFF = AMT_INSTALMENT - AMT_PAYMENT,\n",
    "         DPD = DAYS_ENTRY_PAYMENT - DAYS_INSTALMENT,\n",
    "         DBD = DAYS_INSTALMENT - DAYS_ENTRY_PAYMENT,\n",
    "         DPD = ifelse(DPD > 0, DPD, 0),\n",
    "         DBD = ifelse(DBD > 0, DBD, 0)) %>% \n",
    "  group_by(SK_ID_CURR) %>% \n",
    "  summarise_all(summary) \n",
    "\n",
    "rm(install); gc()"
   ]
  },
  {
   "cell_type": "markdown",
   "metadata": {},
   "source": [
    "### POS Cash Balance"
   ]
  },
  {
   "cell_type": "code",
   "execution_count": null,
   "metadata": {
    "collapsed": true
   },
   "outputs": [],
   "source": [
    "pcb_prepped = pcb %>% \n",
    "  select(-SK_ID_PREV) %>% \n",
    "  mutate_if(is.character, funs(factor(.) %>% as.integer)) %>% \n",
    "  group_by(SK_ID_CURR) %>% \n",
    "  summarise_all(summary)\n",
    "rm(pcb); gc()"
   ]
  },
  {
   "cell_type": "markdown",
   "metadata": {},
   "source": [
    "### Previous Application"
   ]
  },
  {
   "cell_type": "code",
   "execution_count": null,
   "metadata": {
    "collapsed": true
   },
   "outputs": [],
   "source": [
    "prev_app_prepped = prev_app %>%\n",
    "  select(-SK_ID_PREV) %>% \n",
    "  mutate_if(is.character, funs(factor(.) %>% as.integer)) %>% \n",
    "  mutate(DAYS_FIRST_DRAWING = ifelse(DAYS_FIRST_DRAWING == 365243, NA, DAYS_FIRST_DRAWING),\n",
    "         DAYS_FIRST_DUE = ifelse(DAYS_FIRST_DUE == 365243, NA, DAYS_FIRST_DUE),\n",
    "         DAYS_LAST_DUE_1ST_VERSION = ifelse(DAYS_LAST_DUE_1ST_VERSION == 365243, NA, DAYS_LAST_DUE_1ST_VERSION),\n",
    "         DAYS_LAST_DUE = ifelse(DAYS_LAST_DUE == 365243, NA, DAYS_LAST_DUE),\n",
    "         DAYS_TERMINATION = ifelse(DAYS_TERMINATION == 365243, NA, DAYS_TERMINATION),\n",
    "         APP_CREDIT_PERC = AMT_APPLICATION / AMT_CREDIT) %>% \n",
    "  group_by(SK_ID_CURR) %>% \n",
    "  summarise_all(summary) \n",
    "rm(prev_app); gc()"
   ]
  },
  {
   "cell_type": "markdown",
   "metadata": {},
   "source": [
    "### Merge"
   ]
  },
  {
   "cell_type": "code",
   "execution_count": null,
   "metadata": {
    "collapsed": true
   },
   "outputs": [],
   "source": [
    "train_i = 1:nrow(train)\n",
    "train_y = train$TARGET\n",
    "\n",
    "full = train %>% \n",
    "  select(-TARGET) %>% \n",
    "  bind_rows(test) %>%\n",
    "  left_join(bureau_prepped, by = \"SK_ID_CURR\") %>% \n",
    "  left_join(credit_prepped, by = \"SK_ID_CURR\") %>% \n",
    "  left_join(install_prepped, by = \"SK_ID_CURR\") %>% \n",
    "  left_join(pcb_prepped, by = \"SK_ID_CURR\") %>% \n",
    "  left_join(prev_app_prepped, by = \"SK_ID_CURR\") %>% \n",
    "  select(-SK_ID_CURR) %>% \n",
    "  mutate_if(is.character, funs(factor(.) %>% as.integer)) %>% \n",
    "  mutate(na = apply(., 1, function(x) sum(is.na(x))),\n",
    "         DAYS_EMPLOYED = ifelse(DAYS_EMPLOYED == 365243, NA, DAYS_EMPLOYED),\n",
    "         DAYS_EMPLOYED_PERC = sqrt(DAYS_EMPLOYED / DAYS_BIRTH),\n",
    "         INCOME_CREDIT_PERC = AMT_INCOME_TOTAL / AMT_CREDIT,\n",
    "         INCOME_PER_PERSON = log1p(AMT_INCOME_TOTAL / CNT_FAM_MEMBERS),\n",
    "         ANNUITY_INCOME_PERC = sqrt(AMT_ANNUITY / (1 + AMT_INCOME_TOTAL)),\n",
    "         LOAN_INCOME_RATIO = AMT_CREDIT / AMT_INCOME_TOTAL,\n",
    "         ANNUITY_LENGTH = AMT_CREDIT / AMT_ANNUITY,\n",
    "         CHILDREN_RATIO = CNT_CHILDREN / CNT_FAM_MEMBERS, \n",
    "         CREDIT_TO_GOODS_RATIO = AMT_CREDIT / AMT_GOODS_PRICE,\n",
    "         INC_PER_CHLD = AMT_INCOME_TOTAL / (1 + CNT_CHILDREN),\n",
    "         SOURCES_PROD = EXT_SOURCE_1 * EXT_SOURCE_2 * EXT_SOURCE_3,\n",
    "         CAR_TO_BIRTH_RATIO = OWN_CAR_AGE / DAYS_BIRTH,\n",
    "         CAR_TO_EMPLOY_RATIO = OWN_CAR_AGE / DAYS_EMPLOYED,\n",
    "         PHONE_TO_BIRTH_RATIO = DAYS_LAST_PHONE_CHANGE / DAYS_BIRTH,\n",
    "         PHONE_TO_EMPLOY_RATIO = DAYS_LAST_PHONE_CHANGE / DAYS_EMPLOYED) \n",
    "\n",
    "docs <- str_subset(names(train), \"FLAG_DOC\")\n",
    "live <- str_subset(names(train), \"(?!NFLAG_)(?!FLAG_DOC)(?!_FLAG_)FLAG_\")\n",
    "inc_by_org <- full %>% \n",
    "  group_by(ORGANIZATION_TYPE) %>% \n",
    "  summarise(m = median(AMT_INCOME_TOTAL)) %$% \n",
    "  setNames(as.list(m), ORGANIZATION_TYPE)\n",
    "\n",
    "# rm(train, test, fn, bureau_prepped, credit_prepped, \n",
    "#    install_prepped, pcb_prepped, prev_app_prepped); gc()\n",
    "\n",
    "full %<>% \n",
    "  mutate(DOC_IND_KURT = apply(full[, docs], 1, moments::kurtosis),\n",
    "         LIVE_IND_SUM = apply(full[, live], 1, sum),\n",
    "         NEW_INC_BY_ORG = recode(full$ORGANIZATION_TYPE, !!!inc_by_org),\n",
    "         NEW_EXT_SOURCES_MEAN = apply(full[, c(\"EXT_SOURCE_1\", \"EXT_SOURCE_2\", \"EXT_SOURCE_3\")], 1, mean),\n",
    "         NEW_SCORES_STD = apply(full[, c(\"EXT_SOURCE_1\", \"EXT_SOURCE_2\", \"EXT_SOURCE_3\")], 1, sd))%>%\n",
    "  mutate_all(funs(ifelse(is.nan(.), NA, .))) %>% \n",
    "  mutate_all(funs(ifelse(is.infinite(.), NA, .))) %>% \n",
    "  data.matrix()"
   ]
  },
  {
   "cell_type": "markdown",
   "metadata": {},
   "source": [
    "# Modeling"
   ]
  },
  {
   "cell_type": "markdown",
   "metadata": {},
   "source": [
    "### LGBoost Model"
   ]
  },
  {
   "cell_type": "code",
   "execution_count": null,
   "metadata": {
    "collapsed": true
   },
   "outputs": [],
   "source": [
    "run_lgbm    = TRUE\n",
    "run_lgbm_cv = TRUE\n",
    "\n",
    "if(run_lgbm) {\n",
    "    \n",
    "    ### Preparing data\n",
    "    dtest  = lgb.Dataset(data = full[-train_i, ])\n",
    "    train  = full[train_i, ]\n",
    "    fold_i = caret::createDataPartition(train_y, p = 0.9, list = F) %>% c()\n",
    "\n",
    "    dtrain = lgb.Dataset(data = train[fold_i, ],  label = train_y[fold_i])\n",
    "    dval   = lgb.Dataset(data = train[-fold_i, ], label = train_y[-fold_i])\n",
    "    cols   = colnames(train)\n",
    "\n",
    "    params = list(objective = \"binary\", metric = \"auc\",\n",
    "                  num_threads = 2,\n",
    "                  num_leaves = 32, max_depth=8,\n",
    "                  min_data_in_leaf = 10,\n",
    "                  min_sum_hessian_in_leaf = 40,\n",
    "                  feature_fraction = 0.95,\n",
    "                  bagging_fraction = 0.87,\n",
    "                  bagging_freq = 0,\n",
    "                  lambda_l1 = 0.04, lambda_l2 = 0.073,\n",
    "                  min_gain_to_split=0.02\n",
    "    )\n",
    "\n",
    "    if(run_lgbm_cv) {\n",
    "        lgb.cv(params, dtrain,\n",
    "        nrounds = 10, eval_freq = 1)\n",
    "    } else {\n",
    "        lgb_model = lgb.train(params = params,\n",
    "                              data = dtrain,\n",
    "                              valids = list(val = dval),\n",
    "                              learning_rate = 0.02,\n",
    "                              nrounds = 5000,\n",
    "                              early_stopping_rounds = 200,\n",
    "                              eval_freq = 50\n",
    "    )\n",
    "\n",
    "        ### Save to CSV\n",
    "        read_csv(\"../input/sample_submission.csv\") %>%  \n",
    "        mutate(SK_ID_CURR = as.integer(SK_ID_CURR),\n",
    "               TARGET     = predict(lgb_model, dtest)) %>%\n",
    "        write_csv(paste0(\"lgb_\", round(lgb_model$best_score, 5), \".csv\"))   \n",
    "    }\n",
    "}"
   ]
  },
  {
   "cell_type": "markdown",
   "metadata": {},
   "source": [
    "### XGBoost model"
   ]
  },
  {
   "cell_type": "code",
   "execution_count": null,
   "metadata": {
    "collapsed": true
   },
   "outputs": [],
   "source": [
    "run_xgb = FALSE\n",
    "if run_xgb:\n",
    "    dtest  = xgb.DMatrix(data = full[-train_i, ])\n",
    "    train  = full[train_i, ]\n",
    "    fold_i = caret::createDataPartition(train_y, p = 0.9, list = F) %>% c()\n",
    "    dtrain = xgb.DMatrix(data = train[fold_i, ],  label = train_y[fold_i])\n",
    "    dval   = xgb.DMatrix(data = train[-fold_i, ], label = train_y[-fold_i])\n",
    "    cols   = colnames(full)\n",
    "\n",
    "    params = list(objective = \"binary:logistic\", booster = \"gbtree\", eval_metric = \"auc\",\n",
    "                  nthread = 4, eta = 0.05,\n",
    "                  max_depth = 6,\n",
    "                  min_child_weight = 30,\n",
    "                  subsample = 0.85,\n",
    "                  colsample_bytree = 0.7,\n",
    "                  colsample_bylevel = 0.632,\n",
    "                  alpha = 0, gamma = 0, lambda = 0,\n",
    "                  nrounds = 2000\n",
    "    )\n",
    "\n",
    "    set.seed(0)\n",
    "    xgb_model <- xgb.train(params, dtrain,\n",
    "                           params$nrounds,\n",
    "                           list(val = dval),\n",
    "                           print_every_n = 50,\n",
    "                           early_stopping_rounds = 300)\n",
    "\n",
    "    ### Save to CSV\n",
    "    read_csv(\"../input/sample_submission.csv\") %>%  \n",
    "      mutate(SK_ID_CURR = as.integer(SK_ID_CURR),\n",
    "             TARGET     = predict(xgb_model, dtest)) %>%\n",
    "      write_csv(paste0(\"xgb_\", round(xgb_model$best_score, 5), \".csv\"))"
   ]
  },
  {
   "cell_type": "code",
   "execution_count": null,
   "metadata": {
    "collapsed": true
   },
   "outputs": [],
   "source": []
  }
 ],
 "metadata": {
  "kernelspec": {
   "display_name": "R",
   "language": "R",
   "name": "ir"
  },
  "language_info": {
   "codemirror_mode": "r",
   "file_extension": ".r",
   "mimetype": "text/x-r-source",
   "name": "R",
   "pygments_lexer": "r",
   "version": "3.5.0"
  }
 },
 "nbformat": 4,
 "nbformat_minor": 2
}
