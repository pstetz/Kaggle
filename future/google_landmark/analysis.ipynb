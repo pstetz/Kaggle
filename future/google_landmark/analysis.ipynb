{
 "cells": [
  {
   "cell_type": "markdown",
   "metadata": {},
   "source": [
    "### Imports"
   ]
  },
  {
   "cell_type": "code",
   "execution_count": 1,
   "metadata": {
    "collapsed": true
   },
   "outputs": [],
   "source": [
    "import numpy as np\n",
    "import pandas as pd\n",
    "\n",
    "import matplotlib.pyplot as plt\n",
    "import seaborn as sns\n",
    "%matplotlib inline\n",
    "sns.set()"
   ]
  },
  {
   "cell_type": "markdown",
   "metadata": {},
   "source": [
    "### Data reading"
   ]
  },
  {
   "cell_type": "code",
   "execution_count": 2,
   "metadata": {},
   "outputs": [
    {
     "name": "stdout",
     "output_type": "stream",
     "text": [
      "shape of train csv: (1225029, 3)\n",
      "shape of test csv: (117703, 2) \n"
     ]
    }
   ],
   "source": [
    "train = pd.read_csv(\"/Users/pbezuhov/git/Kaggle/data/google_landmark/train.csv\")\n",
    "test  = pd.read_csv(\"/Users/pbezuhov/git/Kaggle/data/google_landmark/test.csv\")\n",
    "\n",
    "print(\"shape of train csv: {}\".format(train.shape))\n",
    "print(\"shape of test csv: {} \".format(test.shape))"
   ]
  },
  {
   "cell_type": "markdown",
   "metadata": {},
   "source": [
    "### Data Basics"
   ]
  },
  {
   "cell_type": "code",
   "execution_count": 3,
   "metadata": {},
   "outputs": [
    {
     "data": {
      "text/html": [
       "<div>\n",
       "<style>\n",
       "    .dataframe thead tr:only-child th {\n",
       "        text-align: right;\n",
       "    }\n",
       "\n",
       "    .dataframe thead th {\n",
       "        text-align: left;\n",
       "    }\n",
       "\n",
       "    .dataframe tbody tr th {\n",
       "        vertical-align: top;\n",
       "    }\n",
       "</style>\n",
       "<table border=\"1\" class=\"dataframe\">\n",
       "  <thead>\n",
       "    <tr style=\"text-align: right;\">\n",
       "      <th></th>\n",
       "      <th>id</th>\n",
       "      <th>url</th>\n",
       "      <th>landmark_id</th>\n",
       "    </tr>\n",
       "  </thead>\n",
       "  <tbody>\n",
       "    <tr>\n",
       "      <th>0</th>\n",
       "      <td>cacf8152e2d2ae60</td>\n",
       "      <td>http://static.panoramio.com/photos/original/70...</td>\n",
       "      <td>4676</td>\n",
       "    </tr>\n",
       "    <tr>\n",
       "      <th>1</th>\n",
       "      <td>0a58358a2afd3e4e</td>\n",
       "      <td>http://lh6.ggpht.com/-igpT6wu0mIA/ROV8HnUuABI/...</td>\n",
       "      <td>6651</td>\n",
       "    </tr>\n",
       "    <tr>\n",
       "      <th>2</th>\n",
       "      <td>6b2bb500b6a38aa0</td>\n",
       "      <td>http://lh6.ggpht.com/-vKr5G5MEusk/SR6r6SJi6mI/...</td>\n",
       "      <td>11284</td>\n",
       "    </tr>\n",
       "    <tr>\n",
       "      <th>3</th>\n",
       "      <td>b399f09dee9c3c67</td>\n",
       "      <td>https://lh3.googleusercontent.com/-LOW2cjAqubA...</td>\n",
       "      <td>8429</td>\n",
       "    </tr>\n",
       "    <tr>\n",
       "      <th>4</th>\n",
       "      <td>19ace29d77a5be66</td>\n",
       "      <td>https://lh5.googleusercontent.com/-tnmSXwQcWL8...</td>\n",
       "      <td>6231</td>\n",
       "    </tr>\n",
       "  </tbody>\n",
       "</table>\n",
       "</div>"
      ],
      "text/plain": [
       "                 id                                                url  \\\n",
       "0  cacf8152e2d2ae60  http://static.panoramio.com/photos/original/70...   \n",
       "1  0a58358a2afd3e4e  http://lh6.ggpht.com/-igpT6wu0mIA/ROV8HnUuABI/...   \n",
       "2  6b2bb500b6a38aa0  http://lh6.ggpht.com/-vKr5G5MEusk/SR6r6SJi6mI/...   \n",
       "3  b399f09dee9c3c67  https://lh3.googleusercontent.com/-LOW2cjAqubA...   \n",
       "4  19ace29d77a5be66  https://lh5.googleusercontent.com/-tnmSXwQcWL8...   \n",
       "\n",
       "   landmark_id  \n",
       "0         4676  \n",
       "1         6651  \n",
       "2        11284  \n",
       "3         8429  \n",
       "4         6231  "
      ]
     },
     "execution_count": 3,
     "metadata": {},
     "output_type": "execute_result"
    }
   ],
   "source": [
    "train.head(5)"
   ]
  },
  {
   "cell_type": "code",
   "execution_count": 4,
   "metadata": {},
   "outputs": [
    {
     "data": {
      "text/html": [
       "<div>\n",
       "<style>\n",
       "    .dataframe thead tr:only-child th {\n",
       "        text-align: right;\n",
       "    }\n",
       "\n",
       "    .dataframe thead th {\n",
       "        text-align: left;\n",
       "    }\n",
       "\n",
       "    .dataframe tbody tr th {\n",
       "        vertical-align: top;\n",
       "    }\n",
       "</style>\n",
       "<table border=\"1\" class=\"dataframe\">\n",
       "  <thead>\n",
       "    <tr style=\"text-align: right;\">\n",
       "      <th></th>\n",
       "      <th>id</th>\n",
       "      <th>url</th>\n",
       "    </tr>\n",
       "  </thead>\n",
       "  <tbody>\n",
       "    <tr>\n",
       "      <th>0</th>\n",
       "      <td>000088da12d664db</td>\n",
       "      <td>https://lh3.googleusercontent.com/-k45wfamuhT8...</td>\n",
       "    </tr>\n",
       "    <tr>\n",
       "      <th>1</th>\n",
       "      <td>0001623c6d808702</td>\n",
       "      <td>https://lh3.googleusercontent.com/-OQ0ywv8KVIA...</td>\n",
       "    </tr>\n",
       "    <tr>\n",
       "      <th>2</th>\n",
       "      <td>0001bbb682d45002</td>\n",
       "      <td>https://lh3.googleusercontent.com/-kloLenz1xZk...</td>\n",
       "    </tr>\n",
       "    <tr>\n",
       "      <th>3</th>\n",
       "      <td>0002362830cfe3a3</td>\n",
       "      <td>https://lh3.googleusercontent.com/-N6z79jNZYTg...</td>\n",
       "    </tr>\n",
       "    <tr>\n",
       "      <th>4</th>\n",
       "      <td>000270c9100de789</td>\n",
       "      <td>https://lh3.googleusercontent.com/-keriHaVOq1U...</td>\n",
       "    </tr>\n",
       "  </tbody>\n",
       "</table>\n",
       "</div>"
      ],
      "text/plain": [
       "                 id                                                url\n",
       "0  000088da12d664db  https://lh3.googleusercontent.com/-k45wfamuhT8...\n",
       "1  0001623c6d808702  https://lh3.googleusercontent.com/-OQ0ywv8KVIA...\n",
       "2  0001bbb682d45002  https://lh3.googleusercontent.com/-kloLenz1xZk...\n",
       "3  0002362830cfe3a3  https://lh3.googleusercontent.com/-N6z79jNZYTg...\n",
       "4  000270c9100de789  https://lh3.googleusercontent.com/-keriHaVOq1U..."
      ]
     },
     "execution_count": 4,
     "metadata": {},
     "output_type": "execute_result"
    }
   ],
   "source": [
    "test.head(5)"
   ]
  },
  {
   "cell_type": "markdown",
   "metadata": {},
   "source": [
    "### Different landmarks"
   ]
  },
  {
   "cell_type": "code",
   "execution_count": 5,
   "metadata": {},
   "outputs": [
    {
     "name": "stdout",
     "output_type": "stream",
     "text": [
      "Number of unique landmarks: 14951\n",
      "Max count of set: 50337\n",
      "Min count of set: 1\n"
     ]
    },
    {
     "data": {
      "image/png": "[encoded data removed]",
      "text/plain": [
       "<matplotlib.figure.Figure at 0x110cf0710>"
      ]
     },
     "metadata": {},
     "output_type": "display_data"
    }
   ],
   "source": [
    "landmarks = train.landmark_id.value_counts()\n",
    "\n",
    "num_unique = len(landmarks)\n",
    "\n",
    "print(\"Number of unique landmarks: {}\".format(num_unique))\n",
    "print(\"Max count of set: {}\".format(landmarks[np.argmax(landmarks)]))\n",
    "print(\"Min count of set: {}\".format(landmarks[np.argmin(landmarks)]))\n",
    "\n",
    "_ = landmarks.head(12).plot(kind=\"bar\", figsize=(12, 8))"
   ]
  },
  {
   "cell_type": "markdown",
   "metadata": {},
   "source": [
    "### Display images (code inspired by Kaggle user [Lathwal](https://www.kaggle.com/codename007))"
   ]
  },
  {
   "cell_type": "code",
   "execution_count": 6,
   "metadata": {
    "collapsed": true
   },
   "outputs": [],
   "source": [
    "from IPython.display import Image\n",
    "from IPython.core.display import HTML \n",
    "\n",
    "def display_category(urls, category_name):\n",
    "    img_style = \"height: 180px; margin: 0px; float: left; border: 1px solid black;\"\n",
    "    images_list = ''.join([f\"<img style='{img_style}' src='{u}' />\" for _, u in urls.head(4).iteritems()])\n",
    "\n",
    "    display(HTML(images_list))"
   ]
  },
  {
   "cell_type": "code",
   "execution_count": 7,
   "metadata": {
    "scrolled": false
   },
   "outputs": [
    {
     "name": "stdout",
     "output_type": "stream",
     "text": [
      "Number of images for this landmark: 50337\n"
     ]
    },
    {
     "data": {
      "text/html": [
       "<img style='height: 180px; margin: 0px; float: left; border: 1px solid black;' src='https://lh4.googleusercontent.com/-tMoBJaphC34/R-ghJ_EcGCI/AAAAAAAABiw/Ug4rnSzaW-g/s1600/' /><img style='height: 180px; margin: 0px; float: left; border: 1px solid black;' src='https://lh6.googleusercontent.com/-fgwgYyYZiVI/S7pIknPBHGI/AAAAAAAABtk/7ZV3HOh3jmA/s0-d/' /><img style='height: 180px; margin: 0px; float: left; border: 1px solid black;' src='https://lh6.googleusercontent.com/-Kz7iu1q0zs0/SloIJ2I8AVI/AAAAAAAAEJI/akeGnMSqM0k/s1600/' /><img style='height: 180px; margin: 0px; float: left; border: 1px solid black;' src='https://lh3.googleusercontent.com/-dSBgHo2ZvPY/R4GHBn8fOiI/AAAAAAAAHAI/beiqbpFBdQ4/s1600/' />"
      ],
      "text/plain": [
       "<IPython.core.display.HTML object>"
      ]
     },
     "metadata": {},
     "output_type": "display_data"
    },
    {
     "name": "stdout",
     "output_type": "stream",
     "text": [
      "Number of images for this landmark: 50148\n"
     ]
    },
    {
     "data": {
      "text/html": [
       "<img style='height: 180px; margin: 0px; float: left; border: 1px solid black;' src='http://lh3.ggpht.com/-KXyELwqwp_Q/Ry-qmQAqwUI/AAAAAAAAAoU/SUt6osy86xk/s1600/' /><img style='height: 180px; margin: 0px; float: left; border: 1px solid black;' src='http://lh3.ggpht.com/-GtgCG7ZNNDw/TWWRUVMMpUI/AAAAAAAAC00/AUNX8bd957w/s1600/' /><img style='height: 180px; margin: 0px; float: left; border: 1px solid black;' src='http://lh6.ggpht.com/-Xc0B_C_xpfc/RsIor9h8-SI/AAAAAAAABK0/d6gJYx06eKI/s1600/' /><img style='height: 180px; margin: 0px; float: left; border: 1px solid black;' src='https://lh3.googleusercontent.com/-r7w0c7chrC8/TKvJKIyP-yI/AAAAAAAAAbE/G1GYmt5t-bg/s1600/' />"
      ],
      "text/plain": [
       "<IPython.core.display.HTML object>"
      ]
     },
     "metadata": {},
     "output_type": "display_data"
    },
    {
     "name": "stdout",
     "output_type": "stream",
     "text": [
      "Number of images for this landmark: 23415\n"
     ]
    },
    {
     "data": {
      "text/html": [
       "<img style='height: 180px; margin: 0px; float: left; border: 1px solid black;' src='https://lh4.googleusercontent.com/-FyOb5-Gcr0w/RtHTeFsqTmI/AAAAAAAAATQ/87SnhEf1qPs/rj/' /><img style='height: 180px; margin: 0px; float: left; border: 1px solid black;' src='https://lh3.googleusercontent.com/-5YMebjnziuE/S28CUIvPCtI/AAAAAAAAAYo/WvdsPdzKwek/s1600/' /><img style='height: 180px; margin: 0px; float: left; border: 1px solid black;' src='http://lh4.ggpht.com/-LAV-AsnT5qY/S2-yzeNvHWI/AAAAAAAAYLM/8nbulMps3-I/s1600/' /><img style='height: 180px; margin: 0px; float: left; border: 1px solid black;' src='https://lh5.googleusercontent.com/-1X_5_lAqZUk/RW5A_eGBABI/AAAAAAAABHs/iO72_sM2xZw/rj/' />"
      ],
      "text/plain": [
       "<IPython.core.display.HTML object>"
      ]
     },
     "metadata": {},
     "output_type": "display_data"
    },
    {
     "name": "stdout",
     "output_type": "stream",
     "text": [
      "Number of images for this landmark: 18471\n"
     ]
    },
    {
     "data": {
      "text/html": [
       "<img style='height: 180px; margin: 0px; float: left; border: 1px solid black;' src='http://lh6.ggpht.com/-cJMh9AYQGk8/SOkF_Q5PrjI/AAAAAAAACa4/YWapKF6Wwuo/s1600/' /><img style='height: 180px; margin: 0px; float: left; border: 1px solid black;' src='https://lh6.googleusercontent.com/-Igkby7pShwQ/UJBVX-fe_1I/AAAAAAAAIi8/-I_ToGTrO7M/s1600/' /><img style='height: 180px; margin: 0px; float: left; border: 1px solid black;' src='http://lh4.ggpht.com/-ZlBjh7XFBew/SO4S3WlsMwI/AAAAAAAABL0/85EPQlZ_kag/s1600/' /><img style='height: 180px; margin: 0px; float: left; border: 1px solid black;' src='https://lh5.googleusercontent.com/-n2d_Lwqp0Uw/TkzWqcGXRbI/AAAAAAAAmm8/SGlxXfRln4c/s1600/' />"
      ],
      "text/plain": [
       "<IPython.core.display.HTML object>"
      ]
     },
     "metadata": {},
     "output_type": "display_data"
    },
    {
     "name": "stdout",
     "output_type": "stream",
     "text": [
      "Number of images for this landmark: 13271\n"
     ]
    },
    {
     "data": {
      "text/html": [
       "<img style='height: 180px; margin: 0px; float: left; border: 1px solid black;' src='https://lh6.googleusercontent.com/-Rce5yTZScTw/S-QOcJyx0QI/AAAAAAAACb4/OXZeSkTXKUI/s1600/' /><img style='height: 180px; margin: 0px; float: left; border: 1px solid black;' src='http://lh6.ggpht.com/-Cjz-UMi4O3s/TBMw9tRQVRI/AAAAAAAAI_I/kHsCbr875ao/s1600/' /><img style='height: 180px; margin: 0px; float: left; border: 1px solid black;' src='http://lh6.ggpht.com/-tRyWn7-lRnI/SoEprFukckI/AAAAAAAAHMA/3EgpN0itwjU/s1600/' /><img style='height: 180px; margin: 0px; float: left; border: 1px solid black;' src='http://lh6.ggpht.com/-c_wZ4JrL1lY/TnhGXwqSIKI/AAAAAAAAEt0/lCQnfMK0ff8/s1600/' />"
      ],
      "text/plain": [
       "<IPython.core.display.HTML object>"
      ]
     },
     "metadata": {},
     "output_type": "display_data"
    },
    {
     "name": "stdout",
     "output_type": "stream",
     "text": [
      "Number of images for this landmark: 11147\n"
     ]
    },
    {
     "data": {
      "text/html": [
       "<img style='height: 180px; margin: 0px; float: left; border: 1px solid black;' src='https://lh3.googleusercontent.com/-EpNtXQntMr0/TEBZNbQVRSI/AAAAAAAAAEM/uWSSD4_7TeA/s1600/' /><img style='height: 180px; margin: 0px; float: left; border: 1px solid black;' src='http://lh5.ggpht.com/-6Wmb6BhrgBA/RYblKeg9KwI/AAAAAAAABl4/PWvTvwiHwGw/s1600/' /><img style='height: 180px; margin: 0px; float: left; border: 1px solid black;' src='https://lh5.googleusercontent.com/-odJcL7Yisno/SIGXefDmX3I/AAAAAAAAAVk/hyzxGJZ-kbo/s1600/' /><img style='height: 180px; margin: 0px; float: left; border: 1px solid black;' src='http://lh4.ggpht.com/-O3g8YoEouW0/Sru6bx818zI/AAAAAAAAF04/Q1uyrne5T1E/s1600/' />"
      ],
      "text/plain": [
       "<IPython.core.display.HTML object>"
      ]
     },
     "metadata": {},
     "output_type": "display_data"
    },
    {
     "name": "stdout",
     "output_type": "stream",
     "text": [
      "Number of images for this landmark: 9508\n"
     ]
    },
    {
     "data": {
      "text/html": [
       "<img style='height: 180px; margin: 0px; float: left; border: 1px solid black;' src='http://lh6.ggpht.com/-igpT6wu0mIA/ROV8HnUuABI/AAAAAAAAAE4/cDiNGkoQX88/s1600/' /><img style='height: 180px; margin: 0px; float: left; border: 1px solid black;' src='http://lh5.ggpht.com/-T-qplbGDyok/TkhuFvYiRzI/AAAAAAAAhe0/8uEoyh2Vzc0/s1600/' /><img style='height: 180px; margin: 0px; float: left; border: 1px solid black;' src='http://lh5.ggpht.com/-q5vUAljOPqE/SUCp0aZfHSI/AAAAAAAAHSc/YnpJCcQUq-w/s1600/' /><img style='height: 180px; margin: 0px; float: left; border: 1px solid black;' src='https://lh5.googleusercontent.com/-pgfRzfPoPII/SmWAVUwuzcI/AAAAAAAABRA/9i9NalfMANk/s1600/' />"
      ],
      "text/plain": [
       "<IPython.core.display.HTML object>"
      ]
     },
     "metadata": {},
     "output_type": "display_data"
    },
    {
     "name": "stdout",
     "output_type": "stream",
     "text": [
      "Number of images for this landmark: 9222\n"
     ]
    },
    {
     "data": {
      "text/html": [
       "<img style='height: 180px; margin: 0px; float: left; border: 1px solid black;' src='https://lh6.googleusercontent.com/-rIptdH2ywdg/SRtYJVUtK3I/AAAAAAAAAoE/rmLcVUkiOWU/s1600/' /><img style='height: 180px; margin: 0px; float: left; border: 1px solid black;' src='https://lh4.googleusercontent.com/-QKnuHjsNfQc/TbAFUP8bf4I/AAAAAAAAOeM/tT3oAtGHXVA/s1600/' /><img style='height: 180px; margin: 0px; float: left; border: 1px solid black;' src='http://lh4.ggpht.com/-t4sOsx-d38k/TL3ADtMoxxI/AAAAAAAABFU/bQBFYay-Mas/s1600/' /><img style='height: 180px; margin: 0px; float: left; border: 1px solid black;' src='https://lh6.googleusercontent.com/-oDFEra0RC3M/RfW_hIZEm2I/AAAAAAAABQE/Yxn4v_ilWE0/s1600/' />"
      ],
      "text/plain": [
       "<IPython.core.display.HTML object>"
      ]
     },
     "metadata": {},
     "output_type": "display_data"
    },
    {
     "name": "stdout",
     "output_type": "stream",
     "text": [
      "Number of images for this landmark: 9216\n"
     ]
    },
    {
     "data": {
      "text/html": [
       "<img style='height: 180px; margin: 0px; float: left; border: 1px solid black;' src='http://mw2.google.com/mw-panoramio/photos/thumbnail/66223644.jpg' /><img style='height: 180px; margin: 0px; float: left; border: 1px solid black;' src='https://lh5.googleusercontent.com/-t4_lOgu-W0Q/TUm05bVe4QI/AAAAAAAABPU/_qej-a9XjnE/s1600/' /><img style='height: 180px; margin: 0px; float: left; border: 1px solid black;' src='https://lh6.googleusercontent.com/-gKIgRB1g9m4/TEQl9BUdbQI/AAAAAAAA1fI/MzQjfQv_SJI/s1600/' /><img style='height: 180px; margin: 0px; float: left; border: 1px solid black;' src='https://lh4.googleusercontent.com/-iXCvDWW1UqY/TIcqOIKwY3I/AAAAAAAAF-Y/yXFxqEMRaEw/s1600/' />"
      ],
      "text/plain": [
       "<IPython.core.display.HTML object>"
      ]
     },
     "metadata": {},
     "output_type": "display_data"
    },
    {
     "name": "stdout",
     "output_type": "stream",
     "text": [
      "Number of images for this landmark: 8997\n"
     ]
    },
    {
     "data": {
      "text/html": [
       "<img style='height: 180px; margin: 0px; float: left; border: 1px solid black;' src='http://lh4.ggpht.com/-m0WQj_3hYm8/S97hjgI_iMI/AAAAAAAAAKc/1QjgPmVq9do/s1600/' /><img style='height: 180px; margin: 0px; float: left; border: 1px solid black;' src='https://lh4.googleusercontent.com/-ty1VVWbif5g/S50mdUtp79I/AAAAAAAABrs/OKGyELTowWo/s1600/' /><img style='height: 180px; margin: 0px; float: left; border: 1px solid black;' src='https://lh5.googleusercontent.com/-XiHb4mh2BC8/TisAaJaNp3I/AAAAAAAAAN0/-SkAIb_VfJU/s1600/' /><img style='height: 180px; margin: 0px; float: left; border: 1px solid black;' src='https://lh3.googleusercontent.com/-9ddkF4H_ZjM/T1Udxhk3CGI/AAAAAAAAAq4/-5n8biy25RA/s1600/' />"
      ],
      "text/plain": [
       "<IPython.core.display.HTML object>"
      ]
     },
     "metadata": {},
     "output_type": "display_data"
    }
   ],
   "source": [
    "num_categories = 10\n",
    "\n",
    "for landmark_id in landmarks.head(num_categories).keys():\n",
    "    print(\"Number of images for this landmark: {}\".format(landmarks[landmark_id]))\n",
    "    urls = train[train['landmark_id'] == landmark_id]['url']\n",
    "    display_category(urls, \"\")"
   ]
  },
  {
   "cell_type": "code",
   "execution_count": null,
   "metadata": {
    "collapsed": true
   },
   "outputs": [],
   "source": []
  }
 ],
 "metadata": {
  "kernelspec": {
   "display_name": "Python 3",
   "language": "python",
   "name": "python3"
  },
  "language_info": {
   "codemirror_mode": {
    "name": "ipython",
    "version": 3
   },
   "file_extension": ".py",
   "mimetype": "text/x-python",
   "name": "python",
   "nbconvert_exporter": "python",
   "pygments_lexer": "ipython3",
   "version": "3.6.3"
  }
 },
 "nbformat": 4,
 "nbformat_minor": 2
}
