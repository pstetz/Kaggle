{
 "cells": [
  {
   "cell_type": "markdown",
   "metadata": {},
   "source": [
    "# Score:\n",
    "\n",
    "## Another attempt at Talking Data\n",
    "\n",
    "I hate seeing my score being top 93%.  I at least want to beat top 75% and hopefully make it to top 50%\n",
    "\n",
    "### Imports"
   ]
  },
  {
   "cell_type": "code",
   "execution_count": 1,
   "metadata": {
    "collapsed": true
   },
   "outputs": [],
   "source": [
    "import pandas as pd\n",
    "import numpy as np\n",
    "\n",
    "from time import time"
   ]
  },
  {
   "cell_type": "markdown",
   "metadata": {},
   "source": [
    "# Load the data\n",
    "\n",
    "NOTE: The total number of rows is 184,903,891"
   ]
  },
  {
   "cell_type": "code",
   "execution_count": 2,
   "metadata": {},
   "outputs": [
    {
     "name": "stdout",
     "output_type": "stream",
     "text": [
      "Total time to load the training data: 4.344060897827148\n",
      "Total time to load the testing data: 0.013850212097167969\n"
     ]
    },
    {
     "data": {
      "text/html": [
       "<div>\n",
       "<style>\n",
       "    .dataframe thead tr:only-child th {\n",
       "        text-align: right;\n",
       "    }\n",
       "\n",
       "    .dataframe thead th {\n",
       "        text-align: left;\n",
       "    }\n",
       "\n",
       "    .dataframe tbody tr th {\n",
       "        vertical-align: top;\n",
       "    }\n",
       "</style>\n",
       "<table border=\"1\" class=\"dataframe\">\n",
       "  <thead>\n",
       "    <tr style=\"text-align: right;\">\n",
       "      <th></th>\n",
       "      <th>ip</th>\n",
       "      <th>app</th>\n",
       "      <th>device</th>\n",
       "      <th>os</th>\n",
       "      <th>channel</th>\n",
       "      <th>click_time</th>\n",
       "      <th>attributed_time</th>\n",
       "      <th>is_attributed</th>\n",
       "    </tr>\n",
       "  </thead>\n",
       "  <tbody>\n",
       "    <tr>\n",
       "      <th>0</th>\n",
       "      <td>58789</td>\n",
       "      <td>1</td>\n",
       "      <td>1</td>\n",
       "      <td>10</td>\n",
       "      <td>24</td>\n",
       "      <td>2017-11-08 17:13:00</td>\n",
       "      <td>NaN</td>\n",
       "      <td>0</td>\n",
       "    </tr>\n",
       "    <tr>\n",
       "      <th>1</th>\n",
       "      <td>314055</td>\n",
       "      <td>64</td>\n",
       "      <td>1</td>\n",
       "      <td>6</td>\n",
       "      <td>459</td>\n",
       "      <td>2017-11-08 17:13:00</td>\n",
       "      <td>NaN</td>\n",
       "      <td>0</td>\n",
       "    </tr>\n",
       "    <tr>\n",
       "      <th>2</th>\n",
       "      <td>12091</td>\n",
       "      <td>1</td>\n",
       "      <td>1</td>\n",
       "      <td>10</td>\n",
       "      <td>153</td>\n",
       "      <td>2017-11-08 17:13:00</td>\n",
       "      <td>NaN</td>\n",
       "      <td>0</td>\n",
       "    </tr>\n",
       "    <tr>\n",
       "      <th>3</th>\n",
       "      <td>74393</td>\n",
       "      <td>12</td>\n",
       "      <td>1</td>\n",
       "      <td>23</td>\n",
       "      <td>245</td>\n",
       "      <td>2017-11-08 17:13:00</td>\n",
       "      <td>NaN</td>\n",
       "      <td>0</td>\n",
       "    </tr>\n",
       "    <tr>\n",
       "      <th>4</th>\n",
       "      <td>348330</td>\n",
       "      <td>12</td>\n",
       "      <td>1</td>\n",
       "      <td>19</td>\n",
       "      <td>245</td>\n",
       "      <td>2017-11-08 17:13:00</td>\n",
       "      <td>NaN</td>\n",
       "      <td>0</td>\n",
       "    </tr>\n",
       "  </tbody>\n",
       "</table>\n",
       "</div>"
      ],
      "text/plain": [
       "       ip  app  device  os  channel          click_time attributed_time  \\\n",
       "0   58789    1       1  10       24 2017-11-08 17:13:00             NaN   \n",
       "1  314055   64       1   6      459 2017-11-08 17:13:00             NaN   \n",
       "2   12091    1       1  10      153 2017-11-08 17:13:00             NaN   \n",
       "3   74393   12       1  23      245 2017-11-08 17:13:00             NaN   \n",
       "4  348330   12       1  19      245 2017-11-08 17:13:00             NaN   \n",
       "\n",
       "   is_attributed  \n",
       "0              0  \n",
       "1              0  \n",
       "2              0  \n",
       "3              0  \n",
       "4              0  "
      ]
     },
     "execution_count": 2,
     "metadata": {},
     "output_type": "execute_result"
    }
   ],
   "source": [
    "dateparse = lambda x: pd.datetime.strptime(x, \"%Y-%m-%d %H:%M:%S\")\n",
    "\n",
    "start_time = time()\n",
    "\n",
    "path = \"/Users/pbezuhov/git/Kaggle/data/talking_data/\"\n",
    "\n",
    "train = pd.read_csv(\n",
    "                path + \"train_r.csv\",\n",
    "                nrows=100000,\n",
    "                parse_dates=[\"click_time\"],\n",
    "                date_parser=dateparse\n",
    "            )\n",
    "\n",
    "print(\"Total time to load the training data: {}\".format(time() - start_time))\n",
    "start_time = time()\n",
    "\n",
    "test = pd.read_csv(\n",
    "                path + \"test_reduced.csv\",\n",
    "                nrows=10,\n",
    "                parse_dates=[\"click_time\"]\n",
    "            )\n",
    "\n",
    "print(\"Total time to load the testing data: {}\".format(time() - start_time))\n",
    "train.head()"
   ]
  },
  {
   "cell_type": "code",
   "execution_count": null,
   "metadata": {
    "collapsed": true
   },
   "outputs": [],
   "source": []
  },
  {
   "cell_type": "code",
   "execution_count": null,
   "metadata": {
    "collapsed": true
   },
   "outputs": [],
   "source": []
  },
  {
   "cell_type": "markdown",
   "metadata": {},
   "source": [
    "### Predictions"
   ]
  },
  {
   "cell_type": "code",
   "execution_count": null,
   "metadata": {
    "collapsed": true
   },
   "outputs": [],
   "source": [
    "predictions = model.predict(test)\n",
    "\n",
    "submission = pd.DataFrame({\n",
    "                \"ImageId\": range(1,28001),\n",
    "                \"Label\": np.argmax(predictions, axis = 1)\n",
    "                })"
   ]
  },
  {
   "cell_type": "markdown",
   "metadata": {},
   "source": [
    "### Saving the predictions"
   ]
  },
  {
   "cell_type": "code",
   "execution_count": null,
   "metadata": {
    "collapsed": true
   },
   "outputs": [],
   "source": [
    "submission.to_csv(\"/Users/pbezuhov/git/Kaggle/submissions/talking_data_5\", index=False)"
   ]
  },
  {
   "cell_type": "code",
   "execution_count": null,
   "metadata": {
    "collapsed": true
   },
   "outputs": [],
   "source": []
  }
 ],
 "metadata": {
  "kernelspec": {
   "display_name": "Python 3",
   "language": "python",
   "name": "python3"
  },
  "language_info": {
   "codemirror_mode": {
    "name": "ipython",
    "version": 3
   },
   "file_extension": ".py",
   "mimetype": "text/x-python",
   "name": "python",
   "nbconvert_exporter": "python",
   "pygments_lexer": "ipython3",
   "version": "3.6.3"
  }
 },
 "nbformat": 4,
 "nbformat_minor": 2
}
