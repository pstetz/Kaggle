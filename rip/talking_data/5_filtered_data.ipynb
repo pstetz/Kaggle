{
 "cells": [
  {
   "cell_type": "markdown",
   "metadata": {},
   "source": [
    "# Score:\n",
    "\n",
    "## Another attempt at Talking Data\n",
    "\n",
    "I hate seeing my score being top 93%.  I at least want to beat top 75% and hopefully make it to top 50%\n",
    "\n",
    "### Imports"
   ]
  },
  {
   "cell_type": "code",
   "execution_count": 28,
   "metadata": {
    "collapsed": true
   },
   "outputs": [],
   "source": [
    "import pandas as pd\n",
    "import numpy as np\n",
    "\n",
    "from time import time"
   ]
  },
  {
   "cell_type": "markdown",
   "metadata": {},
   "source": [
    "# Load the data\n",
    "\n",
    "NOTE: The total number of rows is 184,903,891"
   ]
  },
  {
   "cell_type": "code",
   "execution_count": 39,
   "metadata": {},
   "outputs": [
    {
     "name": "stdout",
     "output_type": "stream",
     "text": [
      "Total time to load the training data: 98.4945740699768\n",
      "Total time to load the testing data: 0.00868988037109375\n"
     ]
    }
   ],
   "source": [
    "start_time = time()\n",
    "\n",
    "path = \"/Users/pbezuhov/git/Kaggle/data/talking_data/\"\n",
    "\n",
    "train = pd.read_csv(\n",
    "                path + \"train_reduced.csv\",\n",
    "                nrows=10,\n",
    "                skiprows = range(1, 181886954),\n",
    "                parse_dates=[\"click_time\"]\n",
    "            )\n",
    "\n",
    "print(\"Total time to load the training data: {}\".format(time() - start_time))\n",
    "start_time = time()\n",
    "\n",
    "test = pd.read_csv(\n",
    "                path + \"test_reduced.csv\",\n",
    "                nrows=10,\n",
    "                parse_dates=[\"click_time\"]\n",
    "            )\n",
    "\n",
    "print(\"Total time to load the testing data: {}\".format(time() - start_time))\n",
    "train.head()"
   ]
  },
  {
   "cell_type": "code",
   "execution_count": null,
   "metadata": {
    "collapsed": true
   },
   "outputs": [],
   "source": [
    "import xgboost as xgb"
   ]
  },
  {
   "cell_type": "code",
   "execution_count": null,
   "metadata": {
    "collapsed": true
   },
   "outputs": [],
   "source": []
  },
  {
   "cell_type": "markdown",
   "metadata": {},
   "source": [
    "### Predictions"
   ]
  },
  {
   "cell_type": "code",
   "execution_count": null,
   "metadata": {
    "collapsed": true
   },
   "outputs": [],
   "source": [
    "predictions = model.predict(test)\n",
    "\n",
    "submission = pd.DataFrame({\n",
    "                \"ImageId\": range(1,28001),\n",
    "                \"Label\": np.argmax(predictions, axis = 1)\n",
    "                })"
   ]
  },
  {
   "cell_type": "markdown",
   "metadata": {},
   "source": [
    "### Saving the predictions"
   ]
  },
  {
   "cell_type": "code",
   "execution_count": null,
   "metadata": {
    "collapsed": true
   },
   "outputs": [],
   "source": [
    "submission.to_csv(\"/Users/pbezuhov/git/Kaggle/submissions/talking_data_5\", index=False)"
   ]
  },
  {
   "cell_type": "code",
   "execution_count": null,
   "metadata": {
    "collapsed": true
   },
   "outputs": [],
   "source": []
  }
 ],
 "metadata": {
  "kernelspec": {
   "display_name": "Python 3",
   "language": "python",
   "name": "python3"
  },
  "language_info": {
   "codemirror_mode": {
    "name": "ipython",
    "version": 3
   },
   "file_extension": ".py",
   "mimetype": "text/x-python",
   "name": "python",
   "nbconvert_exporter": "python",
   "pygments_lexer": "ipython3",
   "version": "3.6.3"
  }
 },
 "nbformat": 4,
 "nbformat_minor": 2
}
