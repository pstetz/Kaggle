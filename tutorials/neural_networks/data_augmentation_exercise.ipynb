{
 "cells": [
  {
   "cell_type": "markdown",
   "metadata": {},
   "source": [
    "### imports"
   ]
  },
  {
   "cell_type": "code",
   "execution_count": 1,
   "metadata": {},
   "outputs": [
    {
     "name": "stderr",
     "output_type": "stream",
     "text": [
      "/anaconda3/lib/python3.6/site-packages/h5py/__init__.py:34: FutureWarning: Conversion of the second argument of issubdtype from `float` to `np.floating` is deprecated. In future, it will be treated as `np.float64 == np.dtype(float).type`.\n",
      "  from ._conv import register_converters as _register_converters\n"
     ]
    }
   ],
   "source": [
    "# imports needed to make model\n",
    "from tensorflow.python.keras.applications import ResNet50\n",
    "from tensorflow.python.keras.models import Sequential\n",
    "from tensorflow.python.keras.layers import Dense, Flatten, GlobalAveragePooling2D\n",
    "\n",
    "# imports needed to augment data\n",
    "from tensorflow.python.keras.applications.resnet50 import preprocess_input\n",
    "from tensorflow.python.keras.preprocessing.image import ImageDataGenerator"
   ]
  },
  {
   "cell_type": "code",
   "execution_count": 2,
   "metadata": {},
   "outputs": [
    {
     "name": "stdout",
     "output_type": "stream",
     "text": [
      "WARNING:tensorflow:From /anaconda3/lib/python3.6/site-packages/tensorflow/python/keras/_impl/keras/backend.py:1557: calling reduce_mean (from tensorflow.python.ops.math_ops) with keep_dims is deprecated and will be removed in a future version.\n",
      "Instructions for updating:\n",
      "keep_dims is deprecated, use keepdims instead\n",
      "WARNING:tensorflow:From /anaconda3/lib/python3.6/site-packages/tensorflow/python/keras/_impl/keras/backend.py:3086: calling reduce_sum (from tensorflow.python.ops.math_ops) with keep_dims is deprecated and will be removed in a future version.\n",
      "Instructions for updating:\n",
      "keep_dims is deprecated, use keepdims instead\n"
     ]
    }
   ],
   "source": [
    "num_classes = 2\n",
    "resnet_weights_path = '../data/resnet50/resnet50_weights_tf_dim_ordering_tf_kernels_notop.h5'\n",
    "\n",
    "my_new_model = Sequential()\n",
    "my_new_model.add(ResNet50(include_top=False, pooling='avg', weights=resnet_weights_path))\n",
    "my_new_model.add(Dense(num_classes, activation='softmax'))\n",
    "\n",
    "my_new_model.layers[0].trainable = False\n",
    "\n",
    "my_new_model.compile(optimizer='sgd', loss='categorical_crossentropy', metrics=['accuracy'])"
   ]
  },
  {
   "cell_type": "markdown",
   "metadata": {},
   "source": [
    "### Testing without augmented data"
   ]
  },
  {
   "cell_type": "code",
   "execution_count": 3,
   "metadata": {},
   "outputs": [
    {
     "name": "stdout",
     "output_type": "stream",
     "text": [
      "Found 220 images belonging to 2 classes.\n",
      "Found 217 images belonging to 2 classes.\n",
      "Epoch 1/3\n",
      "19/19 [==============================]19/19 [==============================] - 302s 16s/step - loss: 0.4809 - acc: 0.7720 - val_loss: 0.2469 - val_acc: 0.9078\n",
      "\n",
      "Epoch 2/3\n",
      "19/19 [==============================]19/19 [==============================] - 295s 16s/step - loss: 0.2899 - acc: 0.8814 - val_loss: 0.2069 - val_acc: 0.9263\n",
      "\n",
      "Epoch 3/3\n",
      "19/19 [==============================]19/19 [==============================] - 313s 16s/step - loss: 0.1095 - acc: 0.9824 - val_loss: 0.1296 - val_acc: 0.9585\n",
      "\n"
     ]
    },
    {
     "data": {
      "text/plain": [
       "<tensorflow.python.keras._impl.keras.callbacks.History at 0x182b695e48>"
      ]
     },
     "execution_count": 3,
     "metadata": {},
     "output_type": "execute_result"
    }
   ],
   "source": [
    "image_size = 224\n",
    "            \n",
    "data_generator_no_aug = ImageDataGenerator(preprocessing_function=preprocess_input)\n",
    "\n",
    "train_generator = data_generator_no_aug.flow_from_directory(\n",
    "       directory = '../data/nn_tutorial/dogs-gone-sideways/train',\n",
    "       target_size=(image_size, image_size),\n",
    "       batch_size=12,\n",
    "       class_mode='categorical')\n",
    "\n",
    "validation_generator = data_generator_no_aug.flow_from_directory(\n",
    "       directory = '../data/nn_tutorial/dogs-gone-sideways/val',\n",
    "       target_size=(image_size, image_size),\n",
    "       class_mode='categorical')\n",
    "\n",
    "my_new_model.fit_generator(\n",
    "       train_generator,\n",
    "       epochs = 3,\n",
    "       steps_per_epoch=19,\n",
    "       validation_data=validation_generator)"
   ]
  },
  {
   "cell_type": "markdown",
   "metadata": {},
   "source": [
    "### Testing with augmented data"
   ]
  },
  {
   "cell_type": "code",
   "execution_count": 4,
   "metadata": {},
   "outputs": [
    {
     "name": "stdout",
     "output_type": "stream",
     "text": [
      "Found 220 images belonging to 2 classes.\n",
      "Found 217 images belonging to 2 classes.\n",
      "Epoch 1/3\n",
      "19/19 [==============================]19/19 [==============================] - 316s 17s/step - loss: 0.1119 - acc: 0.9736 - val_loss: 0.1516 - val_acc: 0.9447\n",
      "\n",
      "Epoch 2/3\n",
      "19/19 [==============================]19/19 [==============================] - 308s 16s/step - loss: 0.0985 - acc: 0.9912 - val_loss: 0.1552 - val_acc: 0.9355\n",
      "\n",
      "Epoch 3/3\n",
      "19/19 [==============================]19/19 [==============================] - 301s 16s/step - loss: 0.1063 - acc: 0.9648 - val_loss: 0.1040 - val_acc: 0.9816\n",
      "\n"
     ]
    },
    {
     "data": {
      "text/plain": [
       "<tensorflow.python.keras._impl.keras.callbacks.History at 0x182b5c4588>"
      ]
     },
     "execution_count": 4,
     "metadata": {},
     "output_type": "execute_result"
    }
   ],
   "source": [
    "image_size = 224\n",
    "\n",
    "data_generator_with_aug = ImageDataGenerator(preprocessing_function=preprocess_input,\n",
    "                                             horizontal_flip = True,\n",
    "                                             width_shift_range = 0.2,\n",
    "                                             height_shift_range = 0.2)\n",
    "\n",
    "train_generator = data_generator_with_aug.flow_from_directory(\n",
    "       directory = '../data/nn_tutorial/dogs-gone-sideways/train',\n",
    "       target_size=(image_size, image_size),\n",
    "       batch_size=12,\n",
    "       class_mode='categorical')\n",
    "\n",
    "validation_generator = data_generator_with_aug.flow_from_directory(\n",
    "       directory = '../data/nn_tutorial/dogs-gone-sideways/val',\n",
    "       target_size=(image_size, image_size),\n",
    "       class_mode='categorical')\n",
    "\n",
    "my_new_model.fit_generator(\n",
    "       train_generator,\n",
    "       epochs = 3,\n",
    "       steps_per_epoch=19,\n",
    "       validation_data=validation_generator)"
   ]
  }
 ],
 "metadata": {
  "kernelspec": {
   "display_name": "Python 3",
   "language": "python",
   "name": "python3"
  },
  "language_info": {
   "codemirror_mode": {
    "name": "ipython",
    "version": 3
   },
   "file_extension": ".py",
   "mimetype": "text/x-python",
   "name": "python",
   "nbconvert_exporter": "python",
   "pygments_lexer": "ipython3",
   "version": "3.6.3"
  }
 },
 "nbformat": 4,
 "nbformat_minor": 2
}
